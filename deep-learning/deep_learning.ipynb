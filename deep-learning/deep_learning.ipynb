{
  "nbformat": 4,
  "nbformat_minor": 0,
  "metadata": {
    "colab": {
      "provenance": [],
      "toc_visible": true
    },
    "kernelspec": {
      "name": "python3",
      "display_name": "Python 3"
    },
    "language_info": {
      "name": "python"
    }
  },
  "cells": [
    {
      "cell_type": "code",
      "execution_count": 1,
      "metadata": {
        "id": "zJTGdNdnhcEw"
      },
      "outputs": [],
      "source": [
        "import torch\n",
        "import pandas as pd\n",
        "import numpy as np\n",
        "import matplotlib.pyplot as plt"
      ]
    },
    {
      "cell_type": "markdown",
      "source": [
        "## Introduction\n",
        "`Deep learning` is a specialised form of deep learning that involves neural network with many deep layers. Neural networks are designed to mimic the human's brain ability to recognize patterns and intercept complex data such as iamge, sound, or text\n",
        "\n",
        "### Difference b/w machine learning and deep learning\n",
        "\n",
        "<ul>\n",
        "    Machine learning is used for tabular or structured data\n",
        "  <li>\n",
        "    Machine learning requires feature engineering (select best relevant features)\n",
        "  </li>\n",
        "  <li>\n",
        "    Simpler and easy to interpret\n",
        "  </li>\n",
        "  <li>\n",
        "    Are computationally efficient and doesn't require high processing power\n",
        "  </li>\n",
        "</ul>\n",
        "\n",
        "<ul>\n",
        "    Deep learning works better for unstructured data like images, text, sound or video\n",
        "  <li>\n",
        "    Doesn't requires feature engineering\n",
        "  </li>\n",
        "  <li>\n",
        "    Due to complexity and depth, they are difficult to understand and are referred as black box\n",
        "  </li>\n",
        "  <li>\n",
        "    Works better with large amount of training data\n",
        "  </li>\n",
        "  <li>\n",
        "    Requires substantional competitive power\n",
        "  </li>\n",
        "</ul>"
      ],
      "metadata": {
        "id": "4NxT-f2D7ZCc"
      }
    },
    {
      "cell_type": "markdown",
      "source": [
        "### Neural Network\n",
        "They are complex computational models that are inspired by human brain strucutre and function. It consist of following layers\n",
        "<ul>\n",
        "  <li>\n",
        "    Artifical neurons or nodes\n",
        "  </li>\n",
        "  <li>\n",
        "    Input layer\n",
        "  </li>\n",
        "  <li>\n",
        "    One or more hidden layers\n",
        "  </li>\n",
        "  <li>\n",
        "    Output layer\n",
        "  </li>\n",
        "</ul>"
      ],
      "metadata": {
        "id": "dYJC5nz2885W"
      }
    },
    {
      "cell_type": "markdown",
      "source": [
        "`Neurons` are fundamental units of neural network which\n",
        "<ul>\n",
        "  <li>\n",
        "    Recieves an input\n",
        "  </li>\n",
        "  <li>\n",
        "    Process the input\n",
        "  </li>\n",
        "  <li>\n",
        "    Produces an output\n",
        "  </li>\n",
        "</ul>\n",
        "\n",
        "Each neuron has its own linear regresion model that is used to predict output using weighted inputs"
      ],
      "metadata": {
        "id": "3soltL829amO"
      }
    },
    {
      "cell_type": "markdown",
      "source": [
        "Each neuron has an activation function that introduces non-linear into the network, enabling it to learn and model complex problems. An `activation function` decides whether a neuron should be activated or not. This means that `it will decide whether the neuron's input to the network is important or not in the process of prediction using simpler mathematical operations.`\n",
        "<ul>\n",
        "  <li>\n",
        "    Sigmoid (outputs between 0 and 1)\n",
        "  </li>\n",
        "  <li>\n",
        "    Tanh (output between -1 and 1)\n",
        "  </li>\n",
        "  <li>\n",
        "    ReLu (ouput input directly if posiive otherwise 0. Widely used in hidden layers)\n",
        "  </li>\n",
        "</ul>"
      ],
      "metadata": {
        "id": "tFARQTIQ_Vom"
      }
    },
    {
      "cell_type": "markdown",
      "source": [
        "Neurons are organized into layers. There are three main\n",
        "<ul>\n",
        "  <li>\n",
        "    Input Layer\n",
        "  </li>\n",
        "  <li>\n",
        "    Hidden layers\n",
        "  </li>\n",
        "  <li>\n",
        "    Output layer\n",
        "  </li>\n",
        "</ul>"
      ],
      "metadata": {
        "id": "eFvmGpSt9mph"
      }
    },
    {
      "cell_type": "markdown",
      "source": [
        "`Input layer` recieves an input in raw form. Each neuron in this layer represents a feature of input data\n",
        "<br/>\n",
        "`Hidden layer` are layers that transform the input into something the output layer can use\n",
        "<br/>\n",
        "`Output layer` is final layer that produces the output. The number of neurons in this layer depends on nature of task"
      ],
      "metadata": {
        "id": "1SITAX6t9_bn"
      }
    },
    {
      "cell_type": "markdown",
      "source": [
        "#### How neural network works?\n",
        "<ol>\n",
        "  <li>\n",
        "    Each node has its own linear regression model composed of\n",
        "      <ul>\n",
        "        <li>\n",
        "          Input Layer\n",
        "        </li>\n",
        "        <li>\n",
        "          Weight\n",
        "        </li>\n",
        "        <li>\n",
        "          Bias (Each neuron has bias that allows the activation function to be shifted left or right, which helps the model fit the data better)\n",
        "        </li>\n",
        "      </ul>\n",
        "  </li>\n",
        "  <li>\n",
        "    Once input layer is determined, weights are assigned. It helps deremine the importance of any given variable, with larger ones contributong more significantly to the output\n",
        "  </li>\n",
        "  <li>\n",
        "    All input multiplied by their respective weights are then summed\n",
        "  </li>\n",
        "  <li>\n",
        "    The sum output is passed through an activation function which determines the output\n",
        "  </li>\n",
        "  <li>\n",
        "    Output of one node becomes input of next node. This process of passing data from one layer to next layer defines the neural network as feed forward neural network\n",
        "  </li>\n",
        "</ol>"
      ],
      "metadata": {
        "id": "BmMKZpuK_sPl"
      }
    },
    {
      "cell_type": "markdown",
      "source": [
        "## PyTorch\n"
      ],
      "metadata": {
        "id": "m7_sUQtB0w0d"
      }
    },
    {
      "cell_type": "markdown",
      "source": [
        "### Tensor\n",
        "`Tensors` are fundamental concept in deep learning serving as a primary data structure for storing and manipulating data. It is a multi-dimensional array that generalizes scalars, vectors, and matrices to higher dimensions"
      ],
      "metadata": {
        "id": "Xxj-LAda0-eE"
      }
    },
    {
      "cell_type": "markdown",
      "source": [
        "It is a way to represenst complex data structures and are essential for performing mathematical operaiton in deep learning. In Pytorchm, almost everything is referred as tensor"
      ],
      "metadata": {
        "id": "SLDObT4x1VI8"
      }
    },
    {
      "cell_type": "markdown",
      "source": [
        "In context of deep learning, tensors refers to the generalization of vectors and matrices to an arbitary number of dimensions. Another name for the same concept is *`multi-dimensional array`*"
      ],
      "metadata": {
        "id": "pJ3_4G3pH9oC"
      }
    },
    {
      "cell_type": "markdown",
      "source": [
        "Types of tensors include\n",
        "\n",
        "\n",
        "*   Scalar\n",
        "*   Vector\n",
        "*   Matrix\n",
        "*   3D Tensor\n",
        "*   ND Tensor\n",
        "\n"
      ],
      "metadata": {
        "id": "5-W0m82t1l5U"
      }
    },
    {
      "cell_type": "markdown",
      "source": [
        "**`Scalar tensor`** are single numbers and also known as 0 dimensional tensor"
      ],
      "metadata": {
        "id": "VA3H52LK18L7"
      }
    },
    {
      "cell_type": "code",
      "source": [
        "scalar = torch.tensor(7) #scalar tensor\n",
        "print(f\"Scalar: {scalar}\")\n",
        "print(f\"Dimension of scalar: {scalar.ndim}\")\n",
        "print(f\"Type: {type(scalar)}\")"
      ],
      "metadata": {
        "colab": {
          "base_uri": "https://localhost:8080/"
        },
        "id": "nCPk7PTAt9Ys",
        "outputId": "f2cfec84-8886-47df-a645-db9cbfd40e0e"
      },
      "execution_count": 7,
      "outputs": [
        {
          "output_type": "stream",
          "name": "stdout",
          "text": [
            "Scalar: 7\n",
            "Dimension of scalar: 0\n",
            "Type: <class 'torch.Tensor'>\n"
          ]
        }
      ]
    },
    {
      "cell_type": "markdown",
      "source": [
        "We can retrieve the data inside a tensor as a python integer"
      ],
      "metadata": {
        "id": "d5GBc1fN2T_s"
      }
    },
    {
      "cell_type": "code",
      "source": [
        "print(f\"Item inside the scalar: {scalar.item()}\") # Here we get the value stored as a python integer\n",
        "print(f\"Type of item stored in the scalar: {type(scalar.item())}\")"
      ],
      "metadata": {
        "colab": {
          "base_uri": "https://localhost:8080/"
        },
        "id": "gKLcDVlWuvi2",
        "outputId": "4193c1e5-cc3d-4772-a233-fcd6c83eaa03"
      },
      "execution_count": 8,
      "outputs": [
        {
          "output_type": "stream",
          "name": "stdout",
          "text": [
            "Item inside the scalar: 7\n",
            "Type of item stored in the scalar: <class 'int'>\n"
          ]
        }
      ]
    },
    {
      "cell_type": "markdown",
      "source": [
        "**`Vector`** are one dimensional array of numbers"
      ],
      "metadata": {
        "id": "ZImdCIz32p7U"
      }
    },
    {
      "cell_type": "code",
      "source": [
        "vector = torch.tensor([7, 7]) #vector has magnitude and a direction\n",
        "print(f\"Vector: {vector}\")  # you can calculate the number of dimension by counting the square\n",
        "                            # brackets []\n",
        "print(f\"Dimension of vector: {vector.ndim}\")\n",
        "print(f\"Shape of vector: {vector.shape}\")"
      ],
      "metadata": {
        "colab": {
          "base_uri": "https://localhost:8080/"
        },
        "id": "cP_Hbwf8u_NJ",
        "outputId": "e148fb38-b326-4dbf-de90-c043033395ec"
      },
      "execution_count": 9,
      "outputs": [
        {
          "output_type": "stream",
          "name": "stdout",
          "text": [
            "Vector: tensor([7, 7])\n",
            "Dimension of vector: 1\n",
            "Shape of vector: torch.Size([2])\n"
          ]
        }
      ]
    },
    {
      "cell_type": "markdown",
      "source": [
        "**`Matrix`** are two-dimensional array of numbers"
      ],
      "metadata": {
        "id": "1QcgNFss3JGC"
      }
    },
    {
      "cell_type": "code",
      "source": [
        "MATRIX = torch.tensor([[7, 8],\n",
        "                       [9, 10]]) #matrix is usally indicated with capital name\n",
        "\n",
        "print(f\"Matrix: {MATRIX}\")\n",
        "print(f\"Dimension of matrix: {MATRIX.ndim}\")\n",
        "print(f\"Shape of matrix: {MATRIX.shape}\")\n",
        "print(f\"Type of matrix: {type(MATRIX)}\")\n",
        "print(f\"First item in the matrix: {MATRIX[0]}\")"
      ],
      "metadata": {
        "colab": {
          "base_uri": "https://localhost:8080/"
        },
        "id": "DQF2dXNpvhcZ",
        "outputId": "48068687-822b-4070-b16b-533266e8da3b"
      },
      "execution_count": 10,
      "outputs": [
        {
          "output_type": "stream",
          "name": "stdout",
          "text": [
            "Matrix: tensor([[ 7,  8],\n",
            "        [ 9, 10]])\n",
            "Dimension of matrix: 2\n",
            "Shape of matrix: torch.Size([2, 2])\n",
            "Type of matrix: <class 'torch.Tensor'>\n",
            "First item in the matrix: tensor([7, 8])\n"
          ]
        }
      ]
    },
    {
      "cell_type": "markdown",
      "source": [
        "**3D Tensor** is a three-dimensional array of numbers, often used to\n",
        "represent a sequence of matrices"
      ],
      "metadata": {
        "id": "wDhal1ofJVcG"
      }
    },
    {
      "cell_type": "code",
      "source": [
        " TENSOR = torch.tensor([[[1, 2],\n",
        "                         [3, 4],\n",
        "                         [4, 5]]]) # tensor are also named capital\n",
        "print(f\"Tensor: {TENSOR}\")\n",
        "print(f\"Shape of tensor: {TENSOR.shape}\")\n",
        "print(f\"Dimension of tensor: {TENSOR.ndim}\")\n",
        "print(f\"Type of tensor: {type(TENSOR)}\")\n",
        "print(f\"Second item in the tensor: {TENSOR[0]}\")"
      ],
      "metadata": {
        "colab": {
          "base_uri": "https://localhost:8080/"
        },
        "id": "5N2iZnTiv6gW",
        "outputId": "74a9be9e-36e0-4f54-c3cb-28625c9f22ac"
      },
      "execution_count": 11,
      "outputs": [
        {
          "output_type": "stream",
          "name": "stdout",
          "text": [
            "Tensor: tensor([[[1, 2],\n",
            "         [3, 4],\n",
            "         [4, 5]]])\n",
            "Shape of tensor: torch.Size([1, 3, 2])\n",
            "Dimension of tensor: 3\n",
            "Type of tensor: <class 'torch.Tensor'>\n",
            "Second item in the tensor: tensor([[1, 2],\n",
            "        [3, 4],\n",
            "        [4, 5]])\n"
          ]
        }
      ]
    },
    {
      "cell_type": "markdown",
      "source": [
        "**Random tensors** are tensors filled with random values. Random numbers are crucial in deep learning for various reasons\n",
        "\n",
        "*   Weights in neural network are typically initialized with random values\n",
        "*   Random tensors can be used to introduce randomness and variability in the input data during training\n",
        "*   The way neural network learn is they start with tensors full of random numbers and then adjust those random number to better represent the data\n",
        "\n"
      ],
      "metadata": {
        "id": "dyrgF0dzJ-N9"
      }
    },
    {
      "cell_type": "markdown",
      "source": [
        "***`Start with random numbers -> look at data -> update random numbers -> look at data -> update random numbers`***"
      ],
      "metadata": {
        "id": "ZmJil6GX4pry"
      }
    },
    {
      "cell_type": "code",
      "source": [
        "# create a random tensor of size (3, 4)\n",
        "random_tensor = torch.rand(3, 4)\n",
        "print(f\"Tensor with random values and of shape (3, 4): \\n\\n{random_tensor}\")"
      ],
      "metadata": {
        "colab": {
          "base_uri": "https://localhost:8080/"
        },
        "id": "qRtzz5GI4o3z",
        "outputId": "8ffa981a-2c74-43d7-889e-7c0b77e9cb77"
      },
      "execution_count": 12,
      "outputs": [
        {
          "output_type": "stream",
          "name": "stdout",
          "text": [
            "Tensor with random values and of shape (3, 4): \n",
            "\n",
            "tensor([[0.6672, 0.1332, 0.8477, 0.5400],\n",
            "        [0.7751, 0.2600, 0.5883, 0.7640],\n",
            "        [0.3466, 0.2019, 0.6494, 0.5128]])\n"
          ]
        }
      ]
    },
    {
      "cell_type": "code",
      "source": [
        "# create a random tensor with similar shape to an image tensor\n",
        "random_image_size_tensor = torch.rand(size=(224, 224, 3)) #height, width, of color\n",
        "                                                          # channels (R, G, B)\n",
        "random_image_size_tensor"
      ],
      "metadata": {
        "colab": {
          "base_uri": "https://localhost:8080/"
        },
        "id": "bEW9GB3xQzW8",
        "outputId": "d33ecb3b-cc0e-4bcb-af8c-08f07b5ac0e7"
      },
      "execution_count": 45,
      "outputs": [
        {
          "output_type": "execute_result",
          "data": {
            "text/plain": [
              "tensor([[[0.7789, 0.9671, 0.9627],\n",
              "         [0.9973, 0.0995, 0.5866],\n",
              "         [0.9299, 0.4142, 0.7746],\n",
              "         ...,\n",
              "         [0.7212, 0.3567, 0.0506],\n",
              "         [0.4683, 0.7544, 0.8661],\n",
              "         [0.9962, 0.1573, 0.9356]],\n",
              "\n",
              "        [[0.1309, 0.3091, 0.3121],\n",
              "         [0.1000, 0.6089, 0.5859],\n",
              "         [0.3567, 0.7816, 0.6649],\n",
              "         ...,\n",
              "         [0.1116, 0.6984, 0.6725],\n",
              "         [0.1077, 0.0357, 0.9666],\n",
              "         [0.9041, 0.2112, 0.4902]],\n",
              "\n",
              "        [[0.7164, 0.5593, 0.4399],\n",
              "         [0.1770, 0.1366, 0.8591],\n",
              "         [0.4599, 0.4374, 0.6637],\n",
              "         ...,\n",
              "         [0.3293, 0.8928, 0.1439],\n",
              "         [0.6255, 0.5210, 0.1135],\n",
              "         [0.3691, 0.4658, 0.5474]],\n",
              "\n",
              "        ...,\n",
              "\n",
              "        [[0.8911, 0.5221, 0.6324],\n",
              "         [0.1247, 0.4185, 0.0520],\n",
              "         [0.5082, 0.2870, 0.4402],\n",
              "         ...,\n",
              "         [0.6544, 0.6166, 0.6535],\n",
              "         [0.6125, 0.9050, 0.7228],\n",
              "         [0.4790, 0.4963, 0.1604]],\n",
              "\n",
              "        [[0.0831, 0.0322, 0.0552],\n",
              "         [0.1448, 0.1376, 0.6349],\n",
              "         [0.6246, 0.1796, 0.9551],\n",
              "         ...,\n",
              "         [0.0353, 0.7799, 0.1872],\n",
              "         [0.1659, 0.0303, 0.2253],\n",
              "         [0.3383, 0.3399, 0.7596]],\n",
              "\n",
              "        [[0.4504, 0.8244, 0.1966],\n",
              "         [0.8110, 0.2369, 0.0748],\n",
              "         [0.0506, 0.7465, 0.4360],\n",
              "         ...,\n",
              "         [0.0068, 0.3186, 0.1315],\n",
              "         [0.8027, 0.7132, 0.0545],\n",
              "         [0.0588, 0.2704, 0.2266]]])"
            ]
          },
          "metadata": {},
          "execution_count": 45
        }
      ]
    },
    {
      "cell_type": "code",
      "source": [
        "# we can create a tensor of zeros values\n",
        "zeros = torch.zeros(size=(3, 4))\n",
        "zeros"
      ],
      "metadata": {
        "colab": {
          "base_uri": "https://localhost:8080/"
        },
        "id": "M0Fnb-05Q3Rx",
        "outputId": "5f764637-45fe-4d6f-fc2a-d1c4516aee85"
      },
      "execution_count": 46,
      "outputs": [
        {
          "output_type": "execute_result",
          "data": {
            "text/plain": [
              "tensor([[0., 0., 0., 0.],\n",
              "        [0., 0., 0., 0.],\n",
              "        [0., 0., 0., 0.]])"
            ]
          },
          "metadata": {},
          "execution_count": 46
        }
      ]
    },
    {
      "cell_type": "code",
      "source": [
        "# We can also create a tensor os specified shape containing only one\n",
        "ones = torch.ones(size=(4, 4))\n",
        "ones"
      ],
      "metadata": {
        "colab": {
          "base_uri": "https://localhost:8080/"
        },
        "id": "MOOHc81TQ8MY",
        "outputId": "76a08064-76c4-454f-da55-98601fd23afb"
      },
      "execution_count": 47,
      "outputs": [
        {
          "output_type": "execute_result",
          "data": {
            "text/plain": [
              "tensor([[1., 1., 1., 1.],\n",
              "        [1., 1., 1., 1.],\n",
              "        [1., 1., 1., 1.],\n",
              "        [1., 1., 1., 1.]])"
            ]
          },
          "metadata": {},
          "execution_count": 47
        }
      ]
    },
    {
      "cell_type": "code",
      "source": [
        "torch.arange(0 ,10)"
      ],
      "metadata": {
        "colab": {
          "base_uri": "https://localhost:8080/"
        },
        "id": "xzb-N4CXREDZ",
        "outputId": "4c3fe229-875f-40ab-ee83-5b901f56dd33"
      },
      "execution_count": 48,
      "outputs": [
        {
          "output_type": "execute_result",
          "data": {
            "text/plain": [
              "tensor([0, 1, 2, 3, 4, 5, 6, 7, 8, 9])"
            ]
          },
          "metadata": {},
          "execution_count": 48
        }
      ]
    },
    {
      "cell_type": "code",
      "source": [
        "even_numbers = torch.arange(0, 10, 2)\n",
        "even_numbers"
      ],
      "metadata": {
        "colab": {
          "base_uri": "https://localhost:8080/"
        },
        "id": "vJeFsKiPRiAk",
        "outputId": "6d6eff01-10e2-4226-a355-94cff2c84a37"
      },
      "execution_count": 53,
      "outputs": [
        {
          "output_type": "execute_result",
          "data": {
            "text/plain": [
              "tensor([0, 2, 4, 6, 8])"
            ]
          },
          "metadata": {},
          "execution_count": 53
        }
      ]
    },
    {
      "cell_type": "markdown",
      "source": [
        "In pytorch we use **tensor_like** function\n",
        "\n",
        "*   When you need to create new tensors that match the shape and data type of existing tensors, thus ensuring consistency\n",
        "*   Make the code more readable and concise\n",
        "*   Simplifies the process of creating tensors that share properties with an existing tensor\n",
        "\n"
      ],
      "metadata": {
        "id": "BNnuvEbMRhCM"
      }
    },
    {
      "cell_type": "code",
      "source": [
        "# creating tensors like\n",
        "ten_zeros = torch.zeros_like(input=even_numbers)\n",
        "ten_zeros"
      ],
      "metadata": {
        "colab": {
          "base_uri": "https://localhost:8080/"
        },
        "id": "FlRzxgfORcXr",
        "outputId": "88386b48-9721-43a2-cb08-d950381a598f"
      },
      "execution_count": 54,
      "outputs": [
        {
          "output_type": "execute_result",
          "data": {
            "text/plain": [
              "tensor([0, 0, 0, 0, 0])"
            ]
          },
          "metadata": {},
          "execution_count": 54
        }
      ]
    },
    {
      "cell_type": "markdown",
      "source": [
        "### Indexing tensors"
      ],
      "metadata": {
        "id": "d5M4bJSGJAhK"
      }
    },
    {
      "cell_type": "markdown",
      "source": [
        "We can index tensors with the same notation just as in NumPy and other python scientific libraries"
      ],
      "metadata": {
        "id": "sZjZGGljKZsA"
      }
    },
    {
      "cell_type": "markdown",
      "source": [
        "**Vector Tensors**"
      ],
      "metadata": {
        "id": "cv48WbeLJ5kh"
      }
    },
    {
      "cell_type": "code",
      "source": [
        "tensor = torch.arange(0, 10)\n",
        "\n",
        "print(f\"Tensor: {tensor}\")\n",
        "print(f\"\\nFirst Element: {tensor[0]}\")\n",
        "print(f\"\\nLast Element: {tensor[-1]}\")\n",
        "print(f\"\\nFirst Two elements: {tensor[:2]}\")"
      ],
      "metadata": {
        "colab": {
          "base_uri": "https://localhost:8080/"
        },
        "id": "xvTvUubVJ48a",
        "outputId": "4e70780e-a4de-443e-d0ef-12aa55c14971"
      },
      "execution_count": 22,
      "outputs": [
        {
          "output_type": "stream",
          "name": "stdout",
          "text": [
            "Tensor: tensor([0, 1, 2, 3, 4, 5, 6, 7, 8, 9])\n",
            "\n",
            "First Element: 0\n",
            "\n",
            "Last Element: 9\n",
            "\n",
            "First Two elements at 1 index: tensor([0, 1])\n"
          ]
        }
      ]
    },
    {
      "cell_type": "markdown",
      "source": [
        "**Matrix Tensors**"
      ],
      "metadata": {
        "id": "c-L3BtESKTb5"
      }
    },
    {
      "cell_type": "code",
      "source": [
        "print(f\"Tensor: {random_tensor}\")\n",
        "print(f\"\\nElement on 0 index: {random_tensor[0]}\")\n",
        "print(f\"\\nFirst Element: {random_tensor[0][0]}\")\n",
        "print(f\"\\nLast Element: {random_tensor[-1][-1]}\")\n",
        "print(f\"\\nFirst Two elements at 1 index: {random_tensor[1][:2]}\")"
      ],
      "metadata": {
        "colab": {
          "base_uri": "https://localhost:8080/"
        },
        "id": "KCVBSOM8JAz7",
        "outputId": "7a7e7771-9941-4e07-9ab2-c2cc6b395e51"
      },
      "execution_count": 20,
      "outputs": [
        {
          "output_type": "stream",
          "name": "stdout",
          "text": [
            "Tensor: tensor([[0.6672, 0.1332, 0.8477, 0.5400],\n",
            "        [0.7751, 0.2600, 0.5883, 0.7640],\n",
            "        [0.3466, 0.2019, 0.6494, 0.5128]])\n",
            "\n",
            "Element on 0 index: tensor([0.6672, 0.1332, 0.8477, 0.5400])\n",
            "\n",
            "First Element: 0.6672316193580627\n",
            "\n",
            "Last Element: 0.5127742886543274\n",
            "\n",
            "First Two elements at 1 index: tensor([0.7751, 0.2600])\n"
          ]
        }
      ]
    },
    {
      "cell_type": "markdown",
      "source": [
        "### Named tensors\n",
        "***Named tensors*** are feature in PyToch that allows you to associate names with the dimensions of a tenor, making tensor opeartion more readable and less error prone. It also improves readability and makes debugging easy"
      ],
      "metadata": {
        "id": "q12rF66yM002"
      }
    },
    {
      "cell_type": "code",
      "source": [
        "tensor = torch.rand(2, 3, 3, names=('Red', 'Green', 'Blue'))\n",
        "print(f\"Tensor: {tensor}\")\n",
        "print(f\"\\nTensor name: {tensor.names}\")"
      ],
      "metadata": {
        "colab": {
          "base_uri": "https://localhost:8080/"
        },
        "id": "4mYBoZAmM0bT",
        "outputId": "050b7442-55de-4055-a133-d1aab0ff887f"
      },
      "execution_count": 36,
      "outputs": [
        {
          "output_type": "stream",
          "name": "stdout",
          "text": [
            "Tensor: tensor([[[0.4258, 0.9583, 0.6628],\n",
            "         [0.5865, 0.0043, 0.2080],\n",
            "         [0.9383, 0.1263, 0.2689]],\n",
            "\n",
            "        [[0.0671, 0.0651, 0.5719],\n",
            "         [0.2749, 0.6852, 0.7090],\n",
            "         [0.5319, 0.3624, 0.5232]]], names=('Red', 'Green', 'Blue'))\n",
            "\n",
            "Tensor name: ('Red', 'Green', 'Blue')\n"
          ]
        }
      ]
    },
    {
      "cell_type": "markdown",
      "source": [
        "We can select a specific dimension using its name"
      ],
      "metadata": {
        "id": "TPFjH1pwN-Ge"
      }
    },
    {
      "cell_type": "code",
      "source": [
        "red_color = tensor.select(dim='Red', index=0)\n",
        "print(f\"Red color data: {red_color}\")"
      ],
      "metadata": {
        "colab": {
          "base_uri": "https://localhost:8080/"
        },
        "id": "nkqG9Er9N94O",
        "outputId": "61ef58ce-c511-4168-e24f-61a0b264d360"
      },
      "execution_count": 30,
      "outputs": [
        {
          "output_type": "stream",
          "name": "stdout",
          "text": [
            "Red color data: tensor([[0.2436, 0.0957, 0.1743],\n",
            "        [0.2378, 0.0855, 0.5250],\n",
            "        [0.0725, 0.0408, 0.1775]], names=('Green', 'Blue'))\n"
          ]
        }
      ]
    },
    {
      "cell_type": "markdown",
      "source": [
        "We can rename existing tensors"
      ],
      "metadata": {
        "id": "oQTAWhK4OW3o"
      }
    },
    {
      "cell_type": "code",
      "source": [
        "new_tensor = tensor.rename(Red='red_color', Green='green_color')\n",
        "print(f\"New Tensor: {new_tensor}\")\n",
        "print(f\"\\nNew names: {new_tensor.names}\")"
      ],
      "metadata": {
        "colab": {
          "base_uri": "https://localhost:8080/"
        },
        "id": "_uuseSg2N6ZP",
        "outputId": "8b4fd17b-a22a-4b90-a76a-3a7667e78ae5"
      },
      "execution_count": 35,
      "outputs": [
        {
          "output_type": "stream",
          "name": "stdout",
          "text": [
            "New Tensor: tensor([[[0.2436, 0.0957, 0.1743],\n",
            "         [0.2378, 0.0855, 0.5250],\n",
            "         [0.0725, 0.0408, 0.1775]],\n",
            "\n",
            "        [[0.6060, 0.9309, 0.7031],\n",
            "         [0.0628, 0.6746, 0.0414],\n",
            "         [0.2047, 0.2586, 0.1226]]],\n",
            "       names=('red_color', 'green_color', 'Blue'))\n",
            "\n",
            "New names: ('red_color', 'green_color', 'Blue')\n"
          ]
        }
      ]
    },
    {
      "cell_type": "markdown",
      "source": [
        "Performing some examples"
      ],
      "metadata": {
        "id": "YycxQGmhPc3s"
      }
    },
    {
      "cell_type": "code",
      "source": [
        "red, green, blue =  3, 64, 64\n",
        "images = torch.rand(red, green, blue, names=('red', 'green', 'blue'))\n",
        "\n",
        "print(f\"Images {images}\")\n",
        "\n",
        "red_mean = images.mean(dim='red', keepdim=True)\n",
        "green_std = images.std(dim='green', keepdim=False)\n",
        "\n",
        "print(f\"\\nRed color mean: {red_mean}\")\n",
        "print(f\"\\nGreen color mean: {green_std}\")"
      ],
      "metadata": {
        "colab": {
          "base_uri": "https://localhost:8080/"
        },
        "id": "wn4GJJDKPbvQ",
        "outputId": "e520f29e-9414-4b01-cce9-97fa73595c9c"
      },
      "execution_count": 44,
      "outputs": [
        {
          "output_type": "stream",
          "name": "stdout",
          "text": [
            "Images tensor([[[0.0622, 0.1264, 0.7123,  ..., 0.7022, 0.5376, 0.0841],\n",
            "         [0.6538, 0.0045, 0.6487,  ..., 0.4707, 0.3573, 0.8898],\n",
            "         [0.6224, 0.1207, 0.6166,  ..., 0.2881, 0.8859, 0.8363],\n",
            "         ...,\n",
            "         [0.3276, 0.4432, 0.6523,  ..., 0.9133, 0.2721, 0.2487],\n",
            "         [0.6604, 0.4026, 0.8583,  ..., 0.3986, 0.3913, 0.7750],\n",
            "         [0.6729, 0.9702, 0.8605,  ..., 0.7345, 0.8964, 0.1710]],\n",
            "\n",
            "        [[0.6086, 0.8549, 0.0965,  ..., 0.2895, 0.8981, 0.5714],\n",
            "         [0.5560, 0.1346, 0.1417,  ..., 0.2531, 0.9660, 0.1326],\n",
            "         [0.4762, 0.3648, 0.7717,  ..., 0.3214, 0.6674, 0.1684],\n",
            "         ...,\n",
            "         [0.7767, 0.2220, 0.1748,  ..., 0.5914, 0.1453, 0.6945],\n",
            "         [0.7204, 0.9521, 0.3169,  ..., 0.1089, 0.5585, 0.0336],\n",
            "         [0.7296, 0.8808, 0.2808,  ..., 0.1825, 0.5623, 0.1948]],\n",
            "\n",
            "        [[0.9736, 0.8402, 0.8647,  ..., 0.5777, 0.4864, 0.8276],\n",
            "         [0.6686, 0.5525, 0.2231,  ..., 0.4558, 0.5644, 0.8896],\n",
            "         [0.7455, 0.5204, 0.2836,  ..., 0.6366, 0.8354, 0.8209],\n",
            "         ...,\n",
            "         [0.0747, 0.7809, 0.1262,  ..., 0.9271, 0.6523, 0.9887],\n",
            "         [0.3315, 0.6317, 0.4005,  ..., 0.4370, 0.6355, 0.2805],\n",
            "         [0.4008, 0.1259, 0.4123,  ..., 0.6321, 0.1656, 0.9930]]],\n",
            "       names=('red', 'green', 'blue'))\n",
            "\n",
            "Red color mean: tensor([[[0.5481, 0.6072, 0.5579,  ..., 0.5231, 0.6407, 0.4944],\n",
            "         [0.6261, 0.2305, 0.3378,  ..., 0.3932, 0.6292, 0.6373],\n",
            "         [0.6147, 0.3353, 0.5573,  ..., 0.4154, 0.7962, 0.6085],\n",
            "         ...,\n",
            "         [0.3930, 0.4820, 0.3178,  ..., 0.8106, 0.3565, 0.6440],\n",
            "         [0.5708, 0.6621, 0.5252,  ..., 0.3148, 0.5284, 0.3630],\n",
            "         [0.6011, 0.6590, 0.5179,  ..., 0.5164, 0.5415, 0.4529]]],\n",
            "       names=('red', 'green', 'blue'))\n",
            "\n",
            "Green color mean: tensor([[0.2878, 0.2450, 0.2657, 0.2819, 0.2563, 0.3037, 0.2980, 0.2765, 0.3095,\n",
            "         0.2880, 0.2764, 0.2986, 0.3255, 0.2885, 0.2658, 0.2857, 0.2932, 0.2790,\n",
            "         0.2990, 0.2751, 0.2727, 0.2863, 0.3101, 0.2722, 0.2919, 0.3075, 0.2908,\n",
            "         0.3152, 0.2767, 0.2949, 0.2675, 0.2645, 0.2898, 0.3085, 0.3168, 0.2894,\n",
            "         0.2908, 0.2960, 0.2905, 0.3010, 0.2850, 0.2764, 0.2688, 0.2983, 0.2807,\n",
            "         0.2816, 0.2742, 0.3008, 0.3153, 0.2728, 0.2674, 0.2797, 0.2738, 0.2847,\n",
            "         0.2974, 0.2955, 0.2916, 0.3294, 0.2886, 0.2942, 0.2779, 0.2639, 0.3235,\n",
            "         0.2732],\n",
            "        [0.2587, 0.3324, 0.2929, 0.3005, 0.3001, 0.2527, 0.2710, 0.3033, 0.2968,\n",
            "         0.2616, 0.2954, 0.2640, 0.3119, 0.2744, 0.2521, 0.2421, 0.2926, 0.3049,\n",
            "         0.2673, 0.3094, 0.2848, 0.2965, 0.3025, 0.3076, 0.2752, 0.2975, 0.3073,\n",
            "         0.3005, 0.2893, 0.2658, 0.2959, 0.3011, 0.3049, 0.3034, 0.2754, 0.3056,\n",
            "         0.2701, 0.2783, 0.2716, 0.2734, 0.2719, 0.2925, 0.2958, 0.2834, 0.2860,\n",
            "         0.2856, 0.2574, 0.2876, 0.2794, 0.3011, 0.2620, 0.2624, 0.3087, 0.2880,\n",
            "         0.2680, 0.3016, 0.2745, 0.2943, 0.3071, 0.2905, 0.3005, 0.3074, 0.2779,\n",
            "         0.2764],\n",
            "        [0.2961, 0.2723, 0.2808, 0.2883, 0.2911, 0.2952, 0.2990, 0.2853, 0.2912,\n",
            "         0.2989, 0.2939, 0.3069, 0.2932, 0.2873, 0.2882, 0.2888, 0.2861, 0.2777,\n",
            "         0.3187, 0.2795, 0.2773, 0.3173, 0.2903, 0.2721, 0.3022, 0.2692, 0.2743,\n",
            "         0.2908, 0.2844, 0.2698, 0.3023, 0.2986, 0.2964, 0.3188, 0.2789, 0.2731,\n",
            "         0.2794, 0.2864, 0.2612, 0.2752, 0.2918, 0.3089, 0.2913, 0.2967, 0.2592,\n",
            "         0.2862, 0.3032, 0.2695, 0.2787, 0.2707, 0.2964, 0.3008, 0.2806, 0.2836,\n",
            "         0.2849, 0.3117, 0.3048, 0.2781, 0.2731, 0.3032, 0.2703, 0.2756, 0.2611,\n",
            "         0.2889]], names=('red', 'blue'))\n"
          ]
        }
      ]
    },
    {
      "cell_type": "markdown",
      "source": [
        "### Tensor element attributes"
      ],
      "metadata": {
        "id": "SzTgHdsrRu6C"
      }
    },
    {
      "cell_type": "markdown",
      "source": [
        "Tensors have some important attributes like\n",
        "\n",
        "*   **tensor.dtype** (returns the data type of the tensor's elements)\n",
        "*   **tensor.device** (indicates the device on which the tensor is stored like CPU, GPU)\n",
        "*   **tensor.numel()** (returns the total number of elements in the tensor)\n",
        "*   **tensor.layout** (returns the layout of tensor)\n",
        "*   **tensor.requires_grad** (indicates whehter gradient computation is required for the tensor?)\n",
        "\n",
        "\n",
        "\n"
      ],
      "metadata": {
        "id": "GDLUOP3YDk_B"
      }
    },
    {
      "cell_type": "markdown",
      "source": [
        "The **dtype** argument specifies the numerical data type that will be contained in the tensor. It specifies the possible value the tensor can hold and the number of bytes per value.\n",
        "<br/>\n",
        "Computation in neural network are typically executed with 32-bit floating-point precision. 64-bit does not improve accuracy in the model and will require more memory and computing time"
      ],
      "metadata": {
        "id": "EA6UpaBCnEKp"
      }
    },
    {
      "cell_type": "code",
      "source": [
        "float_32_tensor = torch.tensor([3.0, 6.0, 9.0],\n",
        "                               dtype=torch.float32, # data type of the tensor\n",
        "                               device=\"cpu\", # what devices is your tensor on\n",
        "                               requires_grad=False) # want pytorch to track gradients\n",
        "float_32_tensor"
      ],
      "metadata": {
        "colab": {
          "base_uri": "https://localhost:8080/"
        },
        "id": "gDTIBPITCd-7",
        "outputId": "693939c9-3a0c-40dd-93e4-701a7fb67d18"
      },
      "execution_count": null,
      "outputs": [
        {
          "output_type": "execute_result",
          "data": {
            "text/plain": [
              "tensor([3., 6., 9.])"
            ]
          },
          "metadata": {},
          "execution_count": 57
        }
      ]
    },
    {
      "cell_type": "code",
      "source": [
        "#always creates a copy\n",
        "float_64_tensor = float_32_tensor.type(torch.float64) #float_32_tensor is not changed\n",
        "float_64_tensor"
      ],
      "metadata": {
        "colab": {
          "base_uri": "https://localhost:8080/"
        },
        "id": "fRXydOulD2lq",
        "outputId": "bb5fd674-2537-4e69-a511-1bac327bba7b"
      },
      "execution_count": null,
      "outputs": [
        {
          "output_type": "execute_result",
          "data": {
            "text/plain": [
              "tensor([3., 6., 9.], dtype=torch.float64)"
            ]
          },
          "metadata": {},
          "execution_count": 59
        }
      ]
    },
    {
      "cell_type": "code",
      "source": [
        "float_32_tensor.dtype"
      ],
      "metadata": {
        "colab": {
          "base_uri": "https://localhost:8080/"
        },
        "id": "2zfLhMVdGBUa",
        "outputId": "3a8276d4-4844-4bc2-990b-a84178d7b8a0"
      },
      "execution_count": null,
      "outputs": [
        {
          "output_type": "execute_result",
          "data": {
            "text/plain": [
              "torch.float32"
            ]
          },
          "metadata": {},
          "execution_count": 61
        }
      ]
    },
    {
      "cell_type": "markdown",
      "source": [
        "### Tensor Arithmetics"
      ],
      "metadata": {
        "id": "aaQB3Mt8n7k5"
      }
    },
    {
      "cell_type": "markdown",
      "source": [
        "**We can perform arthematic operations on the tensors**"
      ],
      "metadata": {
        "id": "ePYWcyPzMhFY"
      }
    },
    {
      "cell_type": "code",
      "source": [
        "# manipulating tensors\n",
        "# additions, subtraction, multiplication (element-wise), division, matrix multiplication"
      ],
      "metadata": {
        "id": "gNCuynHcGhNo"
      },
      "execution_count": null,
      "outputs": []
    },
    {
      "cell_type": "code",
      "source": [
        "ten = torch.tensor([1, 2, 3])\n",
        "print(f\"Tensor: {ten}\")\n",
        "print(f\"Adding 10 to the tensor: {ten + 10}\")\n",
        "print(f\"Multiplying 25 with the tensor: {ten * 25}\")\n",
        "print(f\"Multiplying 10 with the tensor: {torch.mul(ten, 10)}\")\n",
        "print(f\"Dividing the tensor by 2: {ten/ 2}\")"
      ],
      "metadata": {
        "colab": {
          "base_uri": "https://localhost:8080/"
        },
        "id": "wh-uWF2bIhlJ",
        "outputId": "074f06b4-283e-4aa6-d338-5e719f584202"
      },
      "execution_count": null,
      "outputs": [
        {
          "output_type": "stream",
          "name": "stdout",
          "text": [
            "Tensor: tensor([1, 2, 3])\n",
            "Adding 10 to the tensor: tensor([11, 12, 13])\n",
            "Multiplying 25 with the tensor: tensor([25, 50, 75])\n",
            "Multiplying 10 with the tensor: tensor([10, 20, 30])\n",
            "Dividing the tensor by 2: tensor([0.5000, 1.0000, 1.5000])\n"
          ]
        }
      ]
    },
    {
      "cell_type": "code",
      "source": [],
      "metadata": {
        "id": "CKFoWlkeJHX3"
      },
      "execution_count": null,
      "outputs": []
    },
    {
      "cell_type": "code",
      "source": [
        "# two main types of multiplication in deep learning\n",
        "# 1) element wise multiplication\n",
        "# 2) matrix multiplication (dot product) (most common operation in deep learning)"
      ],
      "metadata": {
        "id": "Go8BkYbCyaII"
      },
      "execution_count": null,
      "outputs": []
    },
    {
      "cell_type": "code",
      "source": [
        "tensor = torch.tensor([1, 2, 3])\n",
        "tensor"
      ],
      "metadata": {
        "colab": {
          "base_uri": "https://localhost:8080/"
        },
        "id": "XjdNfDx40f2G",
        "outputId": "e1968fa6-6213-4516-8ec0-407075dfc0f3"
      },
      "execution_count": null,
      "outputs": [
        {
          "output_type": "execute_result",
          "data": {
            "text/plain": [
              "tensor([1, 2, 3])"
            ]
          },
          "metadata": {},
          "execution_count": 3
        }
      ]
    },
    {
      "cell_type": "code",
      "source": [
        "tensor * tensor # element wise multiplication"
      ],
      "metadata": {
        "colab": {
          "base_uri": "https://localhost:8080/"
        },
        "id": "qX5Y7t9a0mFJ",
        "outputId": "7bcc2a9e-acb5-4518-c612-8da967bd510c"
      },
      "execution_count": null,
      "outputs": [
        {
          "output_type": "execute_result",
          "data": {
            "text/plain": [
              "tensor([1, 4, 9])"
            ]
          },
          "metadata": {},
          "execution_count": 8
        }
      ]
    },
    {
      "cell_type": "code",
      "source": [
        "torch.matmul(tensor, tensor) # matrix multiplication"
      ],
      "metadata": {
        "colab": {
          "base_uri": "https://localhost:8080/"
        },
        "id": "oDMeB-Zg0pOY",
        "outputId": "1cd995a9-fe47-49a4-c280-c073447fd65d"
      },
      "execution_count": null,
      "outputs": [
        {
          "output_type": "execute_result",
          "data": {
            "text/plain": [
              "tensor(14)"
            ]
          },
          "metadata": {},
          "execution_count": 9
        }
      ]
    },
    {
      "cell_type": "markdown",
      "source": [
        "`tensor @ tensor` **@** is other way for matrix multiplication (not a recommended approach)"
      ],
      "metadata": {
        "id": "rlMZVhvdokh_"
      }
    },
    {
      "cell_type": "code",
      "source": [
        "%%time\n",
        "value = 0\n",
        "for i in range(len(tensor)):\n",
        "  value += tensor[i] + tensor[i]\n",
        "\n",
        "print(value)"
      ],
      "metadata": {
        "colab": {
          "base_uri": "https://localhost:8080/"
        },
        "id": "FrWSlQKw0tyH",
        "outputId": "62ba7763-414d-4f45-aa24-0f57342bd4d5"
      },
      "execution_count": null,
      "outputs": [
        {
          "output_type": "stream",
          "name": "stdout",
          "text": [
            "tensor(12)\n",
            "CPU times: user 2.66 ms, sys: 1.07 ms, total: 3.73 ms\n",
            "Wall time: 13.9 ms\n"
          ]
        }
      ]
    },
    {
      "cell_type": "code",
      "source": [
        "%%time\n",
        "torch.dot(tensor, tensor)"
      ],
      "metadata": {
        "colab": {
          "base_uri": "https://localhost:8080/"
        },
        "id": "fCoLCmXx1tC3",
        "outputId": "92bfb967-d705-474e-fe30-675a4e3af4a1"
      },
      "execution_count": null,
      "outputs": [
        {
          "output_type": "stream",
          "name": "stdout",
          "text": [
            "CPU times: user 1.01 ms, sys: 0 ns, total: 1.01 ms\n",
            "Wall time: 1.02 ms\n"
          ]
        },
        {
          "output_type": "execute_result",
          "data": {
            "text/plain": [
              "tensor(14)"
            ]
          },
          "metadata": {},
          "execution_count": 11
        }
      ]
    },
    {
      "cell_type": "code",
      "source": [
        "%%time\n",
        "torch.matmul(tensor, tensor)"
      ],
      "metadata": {
        "colab": {
          "base_uri": "https://localhost:8080/"
        },
        "id": "ThgNAMAf1w4W",
        "outputId": "747e9f10-5d94-4eb3-b25b-b89e7d29eaf9"
      },
      "execution_count": null,
      "outputs": [
        {
          "output_type": "stream",
          "name": "stdout",
          "text": [
            "CPU times: user 1.11 ms, sys: 0 ns, total: 1.11 ms\n",
            "Wall time: 1.01 ms\n"
          ]
        },
        {
          "output_type": "execute_result",
          "data": {
            "text/plain": [
              "tensor(14)"
            ]
          },
          "metadata": {},
          "execution_count": 12
        }
      ]
    },
    {
      "cell_type": "markdown",
      "source": [
        "There are two main rules that performing matrix multiplication needs to satisfy\n",
        "\n",
        "1.   The inner dimension must match\n",
        "*   (3, 2) @ (3, 2) will not work\n",
        "*   (2, 3) @ (3, 2) will work\n",
        "*   (3, 2) @ (2, 3) will work\n",
        "\n",
        "2.   The resulting matrix has the shape of the outer dimension\n",
        "*   (2, 3) @ (3, 2) will have shape (2, 2)\n",
        "*   (3, 2) @ (2, 3) will have shape (3, 3)\n",
        "\n",
        "\n",
        "\n"
      ],
      "metadata": {
        "id": "5U8hWipQoG7Y"
      }
    },
    {
      "cell_type": "code",
      "source": [
        "# torch.matmul(torch.rand(3, 2), torch.rand(3, 2)) # error because inner dimension\n",
        "                                # do not match"
      ],
      "metadata": {
        "id": "_f_JNkDF2um2"
      },
      "execution_count": 3,
      "outputs": []
    },
    {
      "cell_type": "code",
      "source": [
        "torch.matmul(torch.rand(2, 3), torch.rand(3, 2)) # no error"
      ],
      "metadata": {
        "colab": {
          "base_uri": "https://localhost:8080/"
        },
        "id": "zLDtH3ec3cRm",
        "outputId": "4a298378-3b53-41da-81e6-339ad229d0d7"
      },
      "execution_count": null,
      "outputs": [
        {
          "output_type": "execute_result",
          "data": {
            "text/plain": [
              "tensor([[0.2433, 1.2289],\n",
              "        [0.0890, 0.5614]])"
            ]
          },
          "metadata": {},
          "execution_count": 18
        }
      ]
    },
    {
      "cell_type": "code",
      "source": [
        "torch.matmul(torch.rand(2, 3), torch.rand(3, 2)).shape"
      ],
      "metadata": {
        "colab": {
          "base_uri": "https://localhost:8080/"
        },
        "id": "plJfEX_E3m0V",
        "outputId": "96e5d1a6-970e-4ef3-97bf-70fcd77502e7"
      },
      "execution_count": null,
      "outputs": [
        {
          "output_type": "execute_result",
          "data": {
            "text/plain": [
              "torch.Size([2, 2])"
            ]
          },
          "metadata": {},
          "execution_count": 21
        }
      ]
    },
    {
      "cell_type": "markdown",
      "source": [
        "One of the most common errors in deep learning is shape error. To fix our tensor shape issues, we can manipulate the shape of one of our\n",
        "tensors using a transpose"
      ],
      "metadata": {
        "id": "8Ov63Lilo9au"
      }
    },
    {
      "cell_type": "code",
      "source": [
        "torch.matmul(torch.rand(3, 2), torch.rand(3, 2).T) # no error"
      ],
      "metadata": {
        "colab": {
          "base_uri": "https://localhost:8080/"
        },
        "id": "pszvA0bV5czP",
        "outputId": "9530e0f9-7b3b-40a2-c626-dfc6eed9b07b"
      },
      "execution_count": null,
      "outputs": [
        {
          "output_type": "execute_result",
          "data": {
            "text/plain": [
              "tensor([[0.0636, 0.6495, 0.4846],\n",
              "        [0.0420, 0.3916, 0.3926],\n",
              "        [0.0702, 0.6126, 0.7372]])"
            ]
          },
          "metadata": {},
          "execution_count": 24
        }
      ]
    },
    {
      "cell_type": "markdown",
      "source": [
        "### Tensor Aggregation"
      ],
      "metadata": {
        "id": "uAEgjjU4pH2Z"
      }
    },
    {
      "cell_type": "markdown",
      "source": [
        "**finding min, max, mean, sum, etc**"
      ],
      "metadata": {
        "id": "BiMfJh-opK8F"
      }
    },
    {
      "cell_type": "code",
      "source": [
        "tensor = torch.arange(0, 100)"
      ],
      "metadata": {
        "id": "KIc5B5zb8d2S"
      },
      "execution_count": 4,
      "outputs": []
    },
    {
      "cell_type": "code",
      "source": [
        "print(f\"\\nTensor: {tensor}\")\n",
        "print(f\"Minimum value: {tensor.min}\")\n",
        "print(f\"Maximum value: {tensor.max}\")"
      ],
      "metadata": {
        "colab": {
          "base_uri": "https://localhost:8080/"
        },
        "id": "sqyILyYn8fMy",
        "outputId": "3b8e8eec-024a-40e4-ccf5-08ea56085a80"
      },
      "execution_count": 5,
      "outputs": [
        {
          "output_type": "stream",
          "name": "stdout",
          "text": [
            "\n",
            "Tensor: tensor([ 0,  1,  2,  3,  4,  5,  6,  7,  8,  9, 10, 11, 12, 13, 14, 15, 16, 17,\n",
            "        18, 19, 20, 21, 22, 23, 24, 25, 26, 27, 28, 29, 30, 31, 32, 33, 34, 35,\n",
            "        36, 37, 38, 39, 40, 41, 42, 43, 44, 45, 46, 47, 48, 49, 50, 51, 52, 53,\n",
            "        54, 55, 56, 57, 58, 59, 60, 61, 62, 63, 64, 65, 66, 67, 68, 69, 70, 71,\n",
            "        72, 73, 74, 75, 76, 77, 78, 79, 80, 81, 82, 83, 84, 85, 86, 87, 88, 89,\n",
            "        90, 91, 92, 93, 94, 95, 96, 97, 98, 99])\n",
            "Minimum value: <built-in method min of Tensor object at 0x7a41fb2f6a20>\n",
            "Maximum value: <built-in method max of Tensor object at 0x7a41fb2f6a20>\n"
          ]
        }
      ]
    },
    {
      "cell_type": "markdown",
      "source": [
        "**mean doesn't work with int64 or long**"
      ],
      "metadata": {
        "id": "mE5DeUnapQtS"
      }
    },
    {
      "cell_type": "code",
      "source": [
        "print(f\"Mean: {torch.mean(tensor.type(torch.float32))}\")\n",
        "# converting to float32\n",
        "print(f\"Median: {tensor.median()}\")\n",
        "print(f\"Sum: {torch.sum(tensor)}\")"
      ],
      "metadata": {
        "colab": {
          "base_uri": "https://localhost:8080/"
        },
        "id": "PCfl0GDs84hy",
        "outputId": "5fb94c1e-3687-49b7-9e7b-7e6d910d8835"
      },
      "execution_count": 7,
      "outputs": [
        {
          "output_type": "stream",
          "name": "stdout",
          "text": [
            "Mean: 49.5\n",
            "Median: 49\n",
            "Sum: 4950\n"
          ]
        }
      ]
    },
    {
      "cell_type": "markdown",
      "source": [
        "#### Positional min max of tensors\n",
        "In the context of tensors, finding positional min and max involves not only determining the minimum and maximum values but also identifying the position (*indices*) where these value occur."
      ],
      "metadata": {
        "id": "mrlExlqRp92f"
      }
    },
    {
      "cell_type": "code",
      "source": [
        "\n",
        "print(f\"Position of minimum value: {tensor.argmin()}\")\n",
        "# returns the index position where the minimum value occurs\n",
        "\n",
        "print(f\"Position of maximum value: {tensor.argmax()}\")\n",
        "# returns the index position where the minimum value occurs"
      ],
      "metadata": {
        "colab": {
          "base_uri": "https://localhost:8080/"
        },
        "id": "7pN13hxC-UEA",
        "outputId": "6166646d-89dd-4818-f061-7f4b6dec5b30"
      },
      "execution_count": 16,
      "outputs": [
        {
          "output_type": "stream",
          "name": "stdout",
          "text": [
            "Position of minimum value: 53\n",
            "Position of maximum value: 7\n"
          ]
        }
      ]
    },
    {
      "cell_type": "code",
      "source": [
        "tensor = torch.rand(8, 8)"
      ],
      "metadata": {
        "id": "02XtCg9v-huf"
      },
      "execution_count": 9,
      "outputs": []
    },
    {
      "cell_type": "code",
      "source": [
        "print(f\"Tensor: {tensor}\")\n",
        "print(f\"Position of minimum value: {tensor.argmin()}\")\n",
        "print(f\"Position of maximum value: {tensor.argmax()}\")"
      ],
      "metadata": {
        "colab": {
          "base_uri": "https://localhost:8080/"
        },
        "id": "qH1JIwBs-l2R",
        "outputId": "8391e63a-2614-4206-806c-35cce2c14579"
      },
      "execution_count": 10,
      "outputs": [
        {
          "output_type": "stream",
          "name": "stdout",
          "text": [
            "Tensor: tensor([[9.1966e-01, 2.7856e-02, 8.5210e-01, 8.5290e-01, 2.8515e-01, 4.7567e-01,\n",
            "         7.3274e-01, 9.8351e-01],\n",
            "        [1.4489e-01, 3.4806e-01, 5.9828e-02, 2.3390e-01, 5.1137e-01, 9.0029e-01,\n",
            "         4.7636e-01, 6.9137e-01],\n",
            "        [8.3104e-02, 8.3162e-01, 5.2739e-01, 3.1169e-01, 4.1097e-01, 2.3216e-02,\n",
            "         6.4255e-01, 4.5943e-01],\n",
            "        [7.4951e-02, 5.2587e-01, 2.4780e-02, 4.1653e-01, 9.3602e-01, 9.1294e-01,\n",
            "         4.1436e-02, 7.7510e-01],\n",
            "        [8.0107e-01, 7.5273e-01, 8.5156e-01, 5.7133e-01, 5.0669e-01, 6.3028e-01,\n",
            "         1.6166e-01, 5.3324e-03],\n",
            "        [7.0224e-01, 4.9582e-01, 5.5058e-01, 4.7480e-01, 5.7500e-01, 3.1480e-01,\n",
            "         9.0592e-01, 7.0695e-01],\n",
            "        [6.0275e-03, 1.5420e-01, 5.2672e-01, 4.6139e-01, 7.6842e-01, 6.2776e-04,\n",
            "         9.2860e-01, 9.4003e-01],\n",
            "        [9.0865e-01, 1.2922e-01, 4.7545e-01, 3.4608e-01, 6.1136e-01, 9.1591e-01,\n",
            "         5.7778e-01, 8.0731e-01]])\n",
            "Position of minimum value: 53\n",
            "Position of maximum value: 7\n"
          ]
        }
      ]
    },
    {
      "cell_type": "markdown",
      "source": [
        "### Reshaping, Stacking, Qqueezing and Unsqueezing Tensors"
      ],
      "metadata": {
        "id": "NhuE2rkwzxc8"
      }
    },
    {
      "cell_type": "markdown",
      "source": [
        "\n",
        "\n",
        "*   **Reshaping** - reshapes an input tensor to a defined shape\n",
        "*   **View** -  return a view of an input tensor of certain but keep the same memory as the originial tensor\n",
        "*   **Stacking** - combine multiple tensors on top of each other\n",
        "*   **Squeeze** -  remove all `1` dimensions from a tensor\n",
        "*   **Unsqueeze** - add a `1` dimension to a target tensor\n",
        "*   **Permute** - return a view of the input with dimensions permuted (swapped) in a certain way"
      ],
      "metadata": {
        "id": "nGgnQiV7z-FA"
      }
    },
    {
      "cell_type": "code",
      "source": [
        "tensor = torch.rand(3, 5)\n",
        "tensor, tensor.shape"
      ],
      "metadata": {
        "colab": {
          "base_uri": "https://localhost:8080/"
        },
        "id": "PHdc7oZNGDhP",
        "outputId": "cf432ea8-ab51-45eb-f081-5b711b051ca2"
      },
      "execution_count": 17,
      "outputs": [
        {
          "output_type": "execute_result",
          "data": {
            "text/plain": [
              "(tensor([[0.3823, 0.7687, 0.2623, 0.4473, 0.1350],\n",
              "         [0.0723, 0.2757, 0.5578, 0.1750, 0.6667],\n",
              "         [0.7786, 0.0263, 0.6258, 0.8889, 0.8857]]),\n",
              " torch.Size([3, 5]))"
            ]
          },
          "metadata": {},
          "execution_count": 17
        }
      ]
    },
    {
      "cell_type": "code",
      "source": [
        "tensor_reshaped = tensor.reshape(1, 15)\n",
        "tensor_reshaped, tensor_reshaped.shape"
      ],
      "metadata": {
        "colab": {
          "base_uri": "https://localhost:8080/"
        },
        "id": "HFg-J2vyGMov",
        "outputId": "55729216-c18d-4bc0-b6d4-bd3ae4428e9e"
      },
      "execution_count": 18,
      "outputs": [
        {
          "output_type": "execute_result",
          "data": {
            "text/plain": [
              "(tensor([[0.3823, 0.7687, 0.2623, 0.4473, 0.1350, 0.0723, 0.2757, 0.5578, 0.1750,\n",
              "          0.6667, 0.7786, 0.0263, 0.6258, 0.8889, 0.8857]]),\n",
              " torch.Size([1, 15]))"
            ]
          },
          "metadata": {},
          "execution_count": 18
        }
      ]
    },
    {
      "cell_type": "code",
      "source": [
        "z = tensor.view(3, 5) #changing z changes tensor (because a view of tensor shares\n",
        "                    # the same memory as original)\n",
        "z, z.shape"
      ],
      "metadata": {
        "colab": {
          "base_uri": "https://localhost:8080/"
        },
        "id": "GuWvgZxEGarO",
        "outputId": "8552e668-436a-408b-d1c5-b84411bc7870"
      },
      "execution_count": null,
      "outputs": [
        {
          "output_type": "execute_result",
          "data": {
            "text/plain": [
              "(tensor([[0.1364, 0.2351, 0.1271, 0.8342, 0.5425],\n",
              "         [0.7679, 0.2764, 0.1265, 0.2041, 0.3384],\n",
              "         [0.8958, 0.1590, 0.2624, 0.5675, 0.2305]]),\n",
              " torch.Size([3, 5]))"
            ]
          },
          "metadata": {},
          "execution_count": 78
        }
      ]
    },
    {
      "cell_type": "code",
      "source": [
        "z[:, 0] = 5"
      ],
      "metadata": {
        "id": "HotnvjPpIAfu"
      },
      "execution_count": null,
      "outputs": []
    },
    {
      "cell_type": "code",
      "source": [
        "tensor"
      ],
      "metadata": {
        "colab": {
          "base_uri": "https://localhost:8080/"
        },
        "id": "wzWtAxaUIeEA",
        "outputId": "5b4b292b-2bb7-443f-e84d-28985e4a2a3d"
      },
      "execution_count": null,
      "outputs": [
        {
          "output_type": "execute_result",
          "data": {
            "text/plain": [
              "tensor([[5.0000, 0.2351, 0.1271, 0.8342, 0.5425],\n",
              "        [5.0000, 0.2764, 0.1265, 0.2041, 0.3384],\n",
              "        [5.0000, 0.1590, 0.2624, 0.5675, 0.2305]])"
            ]
          },
          "metadata": {},
          "execution_count": 80
        }
      ]
    },
    {
      "cell_type": "markdown",
      "source": [
        "**Stacking** combines multiple tensors along a new dimension. This is useful for creating batches of data or combining ouputs from different models\n"
      ],
      "metadata": {
        "id": "f0wVNksB3aVn"
      }
    },
    {
      "cell_type": "code",
      "source": [
        "# stacks tensors on top of each other\n",
        "x_stacked = torch.stack([tensor, tensor], dim=2)\n",
        "x_stacked"
      ],
      "metadata": {
        "colab": {
          "base_uri": "https://localhost:8080/"
        },
        "id": "FrulzHCkIgqd",
        "outputId": "b8ecadf4-e5b6-4d11-9fd0-ce41e463ce9e"
      },
      "execution_count": null,
      "outputs": [
        {
          "output_type": "execute_result",
          "data": {
            "text/plain": [
              "tensor([[[5.0000, 5.0000],\n",
              "         [0.2351, 0.2351],\n",
              "         [0.1271, 0.1271],\n",
              "         [0.8342, 0.8342],\n",
              "         [0.5425, 0.5425]],\n",
              "\n",
              "        [[5.0000, 5.0000],\n",
              "         [0.2764, 0.2764],\n",
              "         [0.1265, 0.1265],\n",
              "         [0.2041, 0.2041],\n",
              "         [0.3384, 0.3384]],\n",
              "\n",
              "        [[5.0000, 5.0000],\n",
              "         [0.1590, 0.1590],\n",
              "         [0.2624, 0.2624],\n",
              "         [0.5675, 0.5675],\n",
              "         [0.2305, 0.2305]]])"
            ]
          },
          "metadata": {},
          "execution_count": 83
        }
      ]
    },
    {
      "cell_type": "markdown",
      "source": [
        "**Squeezing** removes dimensions of size 1 from a tensor. This is useful for removing unnecessary dimensions, especially after operations like aggregations that can add extra dimensions."
      ],
      "metadata": {
        "id": "-DZlqRlF5jn5"
      }
    },
    {
      "cell_type": "code",
      "source": [
        "tensor = torch.tensor([[[1, 2, 3], [4, 5, 6]]])\n",
        "print(\"Original Tensor with extra dimension:\\n\", tensor)\n",
        "print(\"Original Tensor dimension:\", tensor.ndim)\n",
        "\n",
        "# Squeeze the tensor to remove dimensions of size 1\n",
        "squeezed_tensor = tensor.squeeze()\n",
        "print(\"\\nSqueezed Tensor:\\n\", squeezed_tensor)\n",
        "print(\"Squeezed Tensor dimension:\", squeezed_tensor.ndim)\n"
      ],
      "metadata": {
        "colab": {
          "base_uri": "https://localhost:8080/"
        },
        "id": "jqZIa7eJIvId",
        "outputId": "86f69292-a00f-4614-cee3-f60ff631f888"
      },
      "execution_count": 23,
      "outputs": [
        {
          "output_type": "stream",
          "name": "stdout",
          "text": [
            "Original Tensor with extra dimension:\n",
            " tensor([[[1, 2, 3],\n",
            "         [4, 5, 6]]])\n",
            "Original Tensor dimension: 3\n",
            "\n",
            "Squeezed Tensor:\n",
            " tensor([[1, 2, 3],\n",
            "        [4, 5, 6]])\n",
            "Squeezed Tensor dimension: 2\n"
          ]
        }
      ]
    },
    {
      "cell_type": "markdown",
      "source": [
        "**Unsqueezing** adds a dimension of size 1 to a tensor. This is useful when you need to add a batch dimension or channel dimension for specific operations or model requirements."
      ],
      "metadata": {
        "id": "FDytBC1O7wbZ"
      }
    },
    {
      "cell_type": "code",
      "source": [
        "tensor = torch.tensor([[1, 2, 3], [4, 5, 6]])\n",
        "print(\"Original Tensor:\\n\", tensor)\n",
        "print(\"Original Tensor dimension:\", tensor.ndim)\n",
        "\n",
        "# Unsqueeze the tensor to add a new dimension at dim=0\n",
        "unsqueezed_tensor = tensor.unsqueeze(dim=0)\n",
        "print(\"Unsqueezed Tensor along dim=0:\\n\", unsqueezed_tensor)\n",
        "print(\"Unsqueezed Tensor dimension:\", unsqueezed_tensor.ndim)\n"
      ],
      "metadata": {
        "colab": {
          "base_uri": "https://localhost:8080/"
        },
        "id": "08pRlBKGJSrN",
        "outputId": "798bfa1a-5942-432f-95f6-08f6cba763aa"
      },
      "execution_count": 24,
      "outputs": [
        {
          "output_type": "stream",
          "name": "stdout",
          "text": [
            "Original Tensor:\n",
            " tensor([[1, 2, 3],\n",
            "        [4, 5, 6]])\n",
            "Original Tensor dimension: 2\n",
            "Unsqueezed Tensor along dim=0:\n",
            " tensor([[[1, 2, 3],\n",
            "         [4, 5, 6]]])\n",
            "Unsqueezed Tensor dimension: 3\n"
          ]
        }
      ]
    },
    {
      "cell_type": "code",
      "source": [
        "# torch.permute - rearranges the dimensions of a target tensor in a specified order\n",
        "# commonly used for images\n",
        "x_original = torch.rand(size=(224, 224, 3))\n",
        "x_permuted = x_original.permute(2, 0, 1) # the 2nd index (3) is re-ordered to start\n",
        "\n",
        "# re-orders the shape indexes\n",
        "\n",
        "print(f\"Original shape: {x_original.shape}\")\n",
        "print(f\"Permuted shape: {x_permuted.shape}\")"
      ],
      "metadata": {
        "colab": {
          "base_uri": "https://localhost:8080/"
        },
        "id": "OQg9nM3HJ1Hc",
        "outputId": "1b664cab-71b7-4f7d-f0e0-2d02a2c17c48"
      },
      "execution_count": null,
      "outputs": [
        {
          "output_type": "stream",
          "name": "stdout",
          "text": [
            "Original shape: torch.Size([224, 224, 3])\n",
            "Permuted shape: torch.Size([3, 224, 224])\n"
          ]
        }
      ]
    },
    {
      "cell_type": "code",
      "source": [
        "# numpy and pytorch\n",
        "# numpy to pytorch (torch.from_numpy(ndarray))\n",
        "# pytorch to numpy (torch.Tensor.numpy())"
      ],
      "metadata": {
        "id": "wEnia26sKsXL"
      },
      "execution_count": null,
      "outputs": []
    },
    {
      "cell_type": "code",
      "source": [
        "array = np.arange(1.0, 8.0)\n",
        "tensor = torch.from_numpy(array) #numpy default datatype is float64\n",
        "tensor"
      ],
      "metadata": {
        "colab": {
          "base_uri": "https://localhost:8080/"
        },
        "id": "mk7dPhSLWy0E",
        "outputId": "a865e3b7-b364-4fed-da29-f3cc9db3872d"
      },
      "execution_count": null,
      "outputs": [
        {
          "output_type": "execute_result",
          "data": {
            "text/plain": [
              "tensor([1., 2., 3., 4., 5., 6., 7.], dtype=torch.float64)"
            ]
          },
          "metadata": {},
          "execution_count": 98
        }
      ]
    },
    {
      "cell_type": "code",
      "source": [
        "tensor = torch.ones(7)\n",
        "numpy_tensor = tensor.numpy()\n",
        "numpy_tensor, numpy_tensor.dtype"
      ],
      "metadata": {
        "colab": {
          "base_uri": "https://localhost:8080/"
        },
        "id": "_hsZA07RW7Fz",
        "outputId": "f6cc2711-7b43-477c-da74-7f799e2f0501"
      },
      "execution_count": null,
      "outputs": [
        {
          "output_type": "execute_result",
          "data": {
            "text/plain": [
              "(array([1., 1., 1., 1., 1., 1., 1.], dtype=float32), dtype('float32'))"
            ]
          },
          "metadata": {},
          "execution_count": 99
        }
      ]
    },
    {
      "cell_type": "code",
      "source": [
        "#pytorch reproduceability\n",
        "# ***`Start with random numbers -> look at data -> update random numbers -> look at data -> update random numbers`***\n",
        "\n",
        "# To reduce randomness in neural networks and Pytorch comes the concept of a random seed"
      ],
      "metadata": {
        "id": "SP5kvkmZXphS"
      },
      "execution_count": 2,
      "outputs": []
    },
    {
      "cell_type": "code",
      "source": [
        "random_A = torch.rand(3, 4)\n",
        "random_B = torch.rand(3, 4)\n",
        "\n",
        "print(f\"Random tensor A: {random_A}\")\n",
        "print(f\"Random tensor B: {random_B}\")\n",
        "print(random_A == random_B)"
      ],
      "metadata": {
        "id": "t8G4j3eXYFOE",
        "colab": {
          "base_uri": "https://localhost:8080/"
        },
        "outputId": "643599c1-778b-4a48-bcaa-a7a6c23fc8eb"
      },
      "execution_count": 3,
      "outputs": [
        {
          "output_type": "stream",
          "name": "stdout",
          "text": [
            "Random tensor A: tensor([[0.0482, 0.7124, 0.8801, 0.6303],\n",
            "        [0.4352, 0.1096, 0.8976, 0.8997],\n",
            "        [0.2484, 0.4821, 0.9280, 0.9965]])\n",
            "Random tensor B: tensor([[0.5120, 0.8107, 0.0403, 0.4691],\n",
            "        [0.2694, 0.5730, 0.2722, 0.0104],\n",
            "        [0.5658, 0.4776, 0.8009, 0.8854]])\n",
            "tensor([[False, False, False, False],\n",
            "        [False, False, False, False],\n",
            "        [False, False, False, False]])\n"
          ]
        }
      ]
    },
    {
      "cell_type": "code",
      "source": [
        "# lets make some random but reproduceable tensors\n",
        "\n",
        "RANDOM_SEED = 42 # const that's why capitalized\n",
        "\n",
        "torch.manual_seed(RANDOM_SEED)\n",
        "random_C = torch.rand(3, 4)\n",
        "\n",
        "torch.manual_seed(RANDOM_SEED)\n",
        "random_D = torch.rand(3, 4)\n",
        "\n",
        "print(f\"Random tensor C: {random_C}\")\n",
        "print(f\"Random tensor D: {random_D}\")\n",
        "print(random_C == random_D)\n"
      ],
      "metadata": {
        "colab": {
          "base_uri": "https://localhost:8080/"
        },
        "id": "_7mzojKxBbCp",
        "outputId": "8e5c7197-f298-41d5-d8f9-c1c1732ac908"
      },
      "execution_count": 5,
      "outputs": [
        {
          "output_type": "stream",
          "name": "stdout",
          "text": [
            "Random tensor C: tensor([[0.8823, 0.9150, 0.3829, 0.9593],\n",
            "        [0.3904, 0.6009, 0.2566, 0.7936],\n",
            "        [0.9408, 0.1332, 0.9346, 0.5936]])\n",
            "Random tensor D: tensor([[0.8823, 0.9150, 0.3829, 0.9593],\n",
            "        [0.3904, 0.6009, 0.2566, 0.7936],\n",
            "        [0.9408, 0.1332, 0.9346, 0.5936]])\n",
            "tensor([[True, True, True, True],\n",
            "        [True, True, True, True],\n",
            "        [True, True, True, True]])\n"
          ]
        }
      ]
    },
    {
      "cell_type": "markdown",
      "source": [
        "**Read**\n",
        "<br/>\n",
        "https://pytorch.org/docs/stable/notes/randomness.html\n",
        "<br/>\n",
        "https://en.wikipedia.org/wiki/Random_seed"
      ],
      "metadata": {
        "id": "2EOSTOoSCntm"
      }
    },
    {
      "cell_type": "code",
      "source": [
        "!nvidia-smi"
      ],
      "metadata": {
        "colab": {
          "base_uri": "https://localhost:8080/"
        },
        "id": "P7RUbGr8Dcs0",
        "outputId": "147a3209-7607-430b-c3cf-34c7e28fc0ee"
      },
      "execution_count": 1,
      "outputs": [
        {
          "output_type": "stream",
          "name": "stdout",
          "text": [
            "Mon Aug  5 05:42:14 2024       \n",
            "+---------------------------------------------------------------------------------------+\n",
            "| NVIDIA-SMI 535.104.05             Driver Version: 535.104.05   CUDA Version: 12.2     |\n",
            "|-----------------------------------------+----------------------+----------------------+\n",
            "| GPU  Name                 Persistence-M | Bus-Id        Disp.A | Volatile Uncorr. ECC |\n",
            "| Fan  Temp   Perf          Pwr:Usage/Cap |         Memory-Usage | GPU-Util  Compute M. |\n",
            "|                                         |                      |               MIG M. |\n",
            "|=========================================+======================+======================|\n",
            "|   0  Tesla T4                       Off | 00000000:00:04.0 Off |                    0 |\n",
            "| N/A   50C    P8               9W /  70W |      0MiB / 15360MiB |      0%      Default |\n",
            "|                                         |                      |                  N/A |\n",
            "+-----------------------------------------+----------------------+----------------------+\n",
            "                                                                                         \n",
            "+---------------------------------------------------------------------------------------+\n",
            "| Processes:                                                                            |\n",
            "|  GPU   GI   CI        PID   Type   Process name                            GPU Memory |\n",
            "|        ID   ID                                                             Usage      |\n",
            "|=======================================================================================|\n",
            "|  No running processes found                                                           |\n",
            "+---------------------------------------------------------------------------------------+\n"
          ]
        }
      ]
    },
    {
      "cell_type": "code",
      "source": [
        "# check for GPU access with Pytorch\n",
        "torch.cuda.is_available()"
      ],
      "metadata": {
        "colab": {
          "base_uri": "https://localhost:8080/"
        },
        "id": "2KMII5o3DzuV",
        "outputId": "9ec7c000-9cfa-4a87-8d11-cf40b361b78a"
      },
      "execution_count": 4,
      "outputs": [
        {
          "output_type": "execute_result",
          "data": {
            "text/plain": [
              "True"
            ]
          },
          "metadata": {},
          "execution_count": 4
        }
      ]
    },
    {
      "cell_type": "code",
      "source": [
        "torch.cuda.device_count()"
      ],
      "metadata": {
        "colab": {
          "base_uri": "https://localhost:8080/"
        },
        "id": "LVZ3W86TEFOG",
        "outputId": "c89f613b-7081-4e9f-e359-a4fb78f87f5f"
      },
      "execution_count": 5,
      "outputs": [
        {
          "output_type": "execute_result",
          "data": {
            "text/plain": [
              "1"
            ]
          },
          "metadata": {},
          "execution_count": 5
        }
      ]
    },
    {
      "cell_type": "code",
      "source": [
        "# putting tensors and models on the GPU\n",
        "# the reason we want our tensors/models on the GPU is because using a GPU results\n",
        "# in faster calculation"
      ],
      "metadata": {
        "id": "dX-GT2edETNV"
      },
      "execution_count": 6,
      "outputs": []
    },
    {
      "cell_type": "code",
      "source": [
        "# create a tensor (on CPU)\n",
        "\n",
        "tensor = torch.tensor([1, 2, 3], device= 'CPU')"
      ],
      "metadata": {
        "id": "fMzZYvjREpIz"
      },
      "execution_count": null,
      "outputs": []
    },
    {
      "cell_type": "code",
      "source": [
        "points = torch.tensor([[4.0, 1.0], [5.0, 3.0], [2.0, 1.0]])\n",
        "points"
      ],
      "metadata": {
        "colab": {
          "base_uri": "https://localhost:8080/"
        },
        "id": "ACknD_kuxqEn",
        "outputId": "ee79bc4f-1ef5-484d-93e5-620a6910bf18"
      },
      "execution_count": 12,
      "outputs": [
        {
          "output_type": "execute_result",
          "data": {
            "text/plain": [
              "tensor([[4., 1.],\n",
              "        [5., 3.],\n",
              "        [2., 1.]])"
            ]
          },
          "metadata": {},
          "execution_count": 12
        }
      ]
    },
    {
      "cell_type": "code",
      "source": [
        "second_point = points[1]\n",
        "second_point.storage_offset()"
      ],
      "metadata": {
        "colab": {
          "base_uri": "https://localhost:8080/"
        },
        "id": "QXFay9lXxqdA",
        "outputId": "0dee6385-37aa-4f24-94ab-16ebd1568cfc"
      },
      "execution_count": 15,
      "outputs": [
        {
          "output_type": "execute_result",
          "data": {
            "text/plain": [
              "2"
            ]
          },
          "metadata": {},
          "execution_count": 15
        }
      ]
    },
    {
      "cell_type": "code",
      "source": [],
      "metadata": {
        "id": "WiTieEvZxsjT"
      },
      "execution_count": null,
      "outputs": []
    }
  ]
}