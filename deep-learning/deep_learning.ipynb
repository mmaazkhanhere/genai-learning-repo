{
  "cells": [
    {
      "cell_type": "markdown",
      "metadata": {
        "id": "4NxT-f2D7ZCc"
      },
      "source": [
        "## Introduction\n",
        "\n",
        "`Deep learning` is a specialised form of deep learning that involves neural network with many deep layers. Neural networks are designed to mimic the human's brain ability to recognize patterns and intercept complex data such as iamge, sound, or text\n",
        "\n",
        "### Difference b/w machine learning and deep learning\n",
        "\n",
        "<ul>\n",
        "    Machine learning is used for tabular or structured data\n",
        "  <li>\n",
        "    Machine learning requires feature engineering (select best relevant features)\n",
        "  </li>\n",
        "  <li>\n",
        "    Simpler and easy to interpret\n",
        "  </li>\n",
        "  <li>\n",
        "    Are computationally efficient and doesn't require high processing power\n",
        "  </li>\n",
        "</ul>\n",
        "\n",
        "<ul>\n",
        "    Deep learning works better for unstructured data like images, text, sound or video\n",
        "  <li>\n",
        "    Doesn't requires feature engineering\n",
        "  </li>\n",
        "  <li>\n",
        "    Due to complexity and depth, they are difficult to understand and are referred as black box\n",
        "  </li>\n",
        "  <li>\n",
        "    Works better with large amount of training data\n",
        "  </li>\n",
        "  <li>\n",
        "    Requires substantional competitive power\n",
        "  </li>\n",
        "</ul>\n"
      ]
    },
    {
      "cell_type": "markdown",
      "metadata": {
        "id": "dYJC5nz2885W"
      },
      "source": [
        "## Neural Network\n",
        "\n",
        "They are complex computational models that are inspired by human brain strucutre and function. It consist of following layers\n",
        "\n",
        "<ul>\n",
        "  <li>\n",
        "    Artifical neurons or nodes\n",
        "  </li>\n",
        "  <li>\n",
        "    Input layer\n",
        "  </li>\n",
        "  <li>\n",
        "    One or more hidden layers\n",
        "  </li>\n",
        "  <li>\n",
        "    Output layer\n",
        "  </li>\n",
        "</ul>\n"
      ]
    },
    {
      "cell_type": "markdown",
      "metadata": {
        "id": "3soltL829amO"
      },
      "source": [
        "`Neurons` are fundamental units of neural network which\n",
        "\n",
        "<ul>\n",
        "  <li>\n",
        "    Recieves an input\n",
        "  </li>\n",
        "  <li>\n",
        "    Process the input\n",
        "  </li>\n",
        "  <li>\n",
        "    Produces an output\n",
        "  </li>\n",
        "</ul>\n",
        "\n",
        "Each neuron has its own linear regresion model that is used to predict output using weighted inputs\n"
      ]
    },
    {
      "cell_type": "markdown",
      "metadata": {
        "id": "tFARQTIQ_Vom"
      },
      "source": [
        "Each neuron has an activation function that introduces non-linear into the network, enabling it to learn and model complex problems. An `activation function` decides whether a neuron should be activated or not. This means that `it will decide whether the neuron's input to the network is important or not in the process of prediction using simpler mathematical operations.`\n",
        "\n",
        "<ul>\n",
        "  <li>\n",
        "    Sigmoid (outputs between 0 and 1)\n",
        "  </li>\n",
        "  <li>\n",
        "    Tanh (output between -1 and 1)\n",
        "  </li>\n",
        "  <li>\n",
        "    ReLu (ouput input directly if posiive otherwise 0. Widely used in hidden layers)\n",
        "  </li>\n",
        "</ul>\n"
      ]
    },
    {
      "cell_type": "markdown",
      "metadata": {
        "id": "eFvmGpSt9mph"
      },
      "source": [
        "Neurons are organized into layers. There are three main\n",
        "\n",
        "<ul>\n",
        "  <li>\n",
        "    Input Layer\n",
        "  </li>\n",
        "  <li>\n",
        "    Hidden layers\n",
        "  </li>\n",
        "  <li>\n",
        "    Output layer\n",
        "  </li>\n",
        "</ul>\n"
      ]
    },
    {
      "cell_type": "markdown",
      "metadata": {
        "id": "1SITAX6t9_bn"
      },
      "source": [
        "`Input layer` recieves an input in raw form. Each neuron in this layer represents a feature of input data\n",
        "<br/>\n",
        "`Hidden layer` are layers that transform the input into something the output layer can use\n",
        "<br/>\n",
        "`Output layer` is final layer that produces the output. The number of neurons in this layer depends on nature of task\n"
      ]
    },
    {
      "cell_type": "markdown",
      "metadata": {
        "id": "BmMKZpuK_sPl"
      },
      "source": [
        "#### How neural network works?\n",
        "\n",
        "<ol>\n",
        "  <li>\n",
        "    Each node has its own linear regression model composed of\n",
        "      <ul>\n",
        "        <li>\n",
        "          Input Layer\n",
        "        </li>\n",
        "        <li>\n",
        "          Weight\n",
        "        </li>\n",
        "        <li>\n",
        "          Bias (Each neuron has bias that allows the activation function to be shifted left or right, which helps the model fit the data better)\n",
        "        </li>\n",
        "      </ul>\n",
        "  </li>\n",
        "  <li>\n",
        "    Once input layer is determined, weights are assigned. It helps deremine the importance of any given variable, with larger ones contributong more significantly to the output\n",
        "  </li>\n",
        "  <li>\n",
        "    All input multiplied by their respective weights are then summed\n",
        "  </li>\n",
        "  <li>\n",
        "    The sum output is passed through an activation function which determines the output\n",
        "  </li>\n",
        "  <li>\n",
        "    Output of one node becomes input of next node. This process of passing data from one layer to next layer defines the neural network as feed forward neural network\n",
        "  </li>\n",
        "</ol>\n"
      ]
    },
    {
      "cell_type": "code",
      "execution_count": null,
      "metadata": {
        "id": "5xayOILa88lu"
      },
      "outputs": [],
      "source": []
    },
    {
      "cell_type": "code",
      "execution_count": null,
      "metadata": {
        "id": "4-f038HR87M0"
      },
      "outputs": [],
      "source": []
    }
  ],
  "metadata": {
    "colab": {
      "provenance": []
    },
    "kernelspec": {
      "display_name": "Python 3",
      "name": "python3"
    },
    "language_info": {
      "name": "python"
    }
  },
  "nbformat": 4,
  "nbformat_minor": 0
}
