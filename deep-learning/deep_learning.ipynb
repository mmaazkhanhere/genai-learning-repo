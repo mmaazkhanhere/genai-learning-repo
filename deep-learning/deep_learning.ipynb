{
  "nbformat": 4,
  "nbformat_minor": 0,
  "metadata": {
    "colab": {
      "provenance": [],
      "gpuType": "T4"
    },
    "kernelspec": {
      "name": "python3",
      "display_name": "Python 3"
    },
    "language_info": {
      "name": "python"
    },
    "accelerator": "GPU"
  },
  "cells": [
    {
      "cell_type": "code",
      "execution_count": 24,
      "metadata": {
        "id": "zJTGdNdnhcEw"
      },
      "outputs": [],
      "source": [
        "import random\n",
        "import time\n",
        "\n",
        "import pandas as pd\n",
        "import numpy as np\n",
        "import matplotlib.pyplot as plt\n",
        "\n",
        "from sklearn.datasets import make_circles\n",
        "from sklearn.model_selection import train_test_split\n",
        "from sklearn.metrics import confusion_matrix\n",
        "\n",
        "import torch\n",
        "from torch import nn # nn contains all of Pytorch building blocks for neural network\n",
        "import torch.nn.functional as F\n",
        "from torch.utils.data import DataLoader\n",
        "\n",
        "from torchvision import datasets, transforms\n",
        "from torchvision.utils import make_grid"
      ]
    },
    {
      "cell_type": "markdown",
      "source": [
        "## Introduction\n",
        "`Deep learning` is a specialised form of deep learning that involves neural network with many deep layers. Neural networks are designed to mimic the human's brain ability to recognize patterns and intercept complex data such as iamge, sound, or text\n",
        "\n",
        "### Difference b/w machine learning and deep learning\n",
        "\n",
        "<ul>\n",
        "    Machine learning is used for tabular or structured data\n",
        "  <li>\n",
        "    Machine learning requires feature engineering (select best relevant features)\n",
        "  </li>\n",
        "  <li>\n",
        "    Simpler and easy to interpret\n",
        "  </li>\n",
        "  <li>\n",
        "    Are computationally efficient and doesn't require high processing power\n",
        "  </li>\n",
        "</ul>\n",
        "\n",
        "<ul>\n",
        "    Deep learning works better for unstructured data like images, text, sound or video\n",
        "  <li>\n",
        "    Doesn't requires feature engineering\n",
        "  </li>\n",
        "  <li>\n",
        "    Due to complexity and depth, they are difficult to understand and are referred as black box\n",
        "  </li>\n",
        "  <li>\n",
        "    Works better with large amount of training data\n",
        "  </li>\n",
        "  <li>\n",
        "    Requires substantional competitive power\n",
        "  </li>\n",
        "</ul>"
      ],
      "metadata": {
        "id": "4NxT-f2D7ZCc"
      }
    },
    {
      "cell_type": "markdown",
      "source": [
        "### Neural Network\n",
        "They are complex computational models that are inspired by human brain strucutre and function. It consist of following layers\n",
        "<ul>\n",
        "  <li>\n",
        "    Artifical neurons or nodes\n",
        "  </li>\n",
        "  <li>\n",
        "    Input layer\n",
        "  </li>\n",
        "  <li>\n",
        "    One or more hidden layers\n",
        "  </li>\n",
        "  <li>\n",
        "    Output layer\n",
        "  </li>\n",
        "</ul>"
      ],
      "metadata": {
        "id": "dYJC5nz2885W"
      }
    },
    {
      "cell_type": "markdown",
      "source": [
        "`Neurons` are fundamental units of neural network which\n",
        "<ul>\n",
        "  <li>\n",
        "    Recieves an input\n",
        "  </li>\n",
        "  <li>\n",
        "    Process the input\n",
        "  </li>\n",
        "  <li>\n",
        "    Produces an output\n",
        "  </li>\n",
        "</ul>\n",
        "\n",
        "Each neuron has its own linear regresion model that is used to predict output using weighted inputs"
      ],
      "metadata": {
        "id": "3soltL829amO"
      }
    },
    {
      "cell_type": "markdown",
      "source": [
        "Each neuron has an activation function that introduces non-linear into the network, enabling it to learn and model complex problems. An `activation function` decides whether a neuron should be activated or not. This means that `it will decide whether the neuron's input to the network is important or not in the process of prediction using simpler mathematical operations.`\n",
        "<ul>\n",
        "  <li>\n",
        "    Sigmoid (outputs between 0 and 1)\n",
        "  </li>\n",
        "  <li>\n",
        "    Tanh (output between -1 and 1)\n",
        "  </li>\n",
        "  <li>\n",
        "    ReLu (ouput input directly if posiive otherwise 0. Widely used in hidden layers)\n",
        "  </li>\n",
        "</ul>"
      ],
      "metadata": {
        "id": "tFARQTIQ_Vom"
      }
    },
    {
      "cell_type": "markdown",
      "source": [
        "Neurons are organized into layers. There are three main\n",
        "<ul>\n",
        "  <li>\n",
        "    Input Layer\n",
        "  </li>\n",
        "  <li>\n",
        "    Hidden layers\n",
        "  </li>\n",
        "  <li>\n",
        "    Output layer\n",
        "  </li>\n",
        "</ul>"
      ],
      "metadata": {
        "id": "eFvmGpSt9mph"
      }
    },
    {
      "cell_type": "markdown",
      "source": [
        "`Input layer` recieves an input in raw form. Each neuron in this layer represents a feature of input data\n",
        "<br/>\n",
        "`Hidden layer` are layers that transform the input into something the output layer can use\n",
        "<br/>\n",
        "`Output layer` is final layer that produces the output. The number of neurons in this layer depends on nature of task"
      ],
      "metadata": {
        "id": "1SITAX6t9_bn"
      }
    },
    {
      "cell_type": "markdown",
      "source": [
        "#### How neural network works?\n",
        "<ol>\n",
        "  <li>\n",
        "    Each node has its own linear regression model composed of\n",
        "      <ul>\n",
        "        <li>\n",
        "          Input Layer\n",
        "        </li>\n",
        "        <li>\n",
        "          Weight\n",
        "        </li>\n",
        "        <li>\n",
        "          Bias (Each neuron has bias that allows the activation function to be shifted left or right, which helps the model fit the data better)\n",
        "        </li>\n",
        "      </ul>\n",
        "  </li>\n",
        "  <li>\n",
        "    Once input layer is determined, weights are assigned. It helps deremine the importance of any given variable, with larger ones contributong more significantly to the output\n",
        "  </li>\n",
        "  <li>\n",
        "    All input multiplied by their respective weights are then summed\n",
        "  </li>\n",
        "  <li>\n",
        "    The sum output is passed through an activation function which determines the output\n",
        "  </li>\n",
        "  <li>\n",
        "    Output of one node becomes input of next node. This process of passing data from one layer to next layer defines the neural network as feed forward neural network\n",
        "  </li>\n",
        "</ol>"
      ],
      "metadata": {
        "id": "BmMKZpuK_sPl"
      }
    },
    {
      "cell_type": "markdown",
      "source": [
        "## PyTorch\n"
      ],
      "metadata": {
        "id": "m7_sUQtB0w0d"
      }
    },
    {
      "cell_type": "markdown",
      "source": [
        "### Tensor\n",
        "`Tensors` are fundamental concept in deep learning serving as a primary data structure for storing and manipulating data. It is a multi-dimensional array that generalizes scalars, vectors, and matrices to higher dimensions"
      ],
      "metadata": {
        "id": "Xxj-LAda0-eE"
      }
    },
    {
      "cell_type": "markdown",
      "source": [
        "It is a way to represenst complex data structures and are essential for performing mathematical operaiton in deep learning. In Pytorchm, almost everything is referred as tensor"
      ],
      "metadata": {
        "id": "SLDObT4x1VI8"
      }
    },
    {
      "cell_type": "markdown",
      "source": [
        "In context of deep learning, tensors refers to the generalization of vectors and matrices to an arbitary number of dimensions. Another name for the same concept is *`multi-dimensional array`*"
      ],
      "metadata": {
        "id": "pJ3_4G3pH9oC"
      }
    },
    {
      "cell_type": "markdown",
      "source": [
        "Types of tensors include\n",
        "\n",
        "\n",
        "*   Scalar\n",
        "*   Vector\n",
        "*   Matrix\n",
        "*   3D Tensor\n",
        "*   ND Tensor\n",
        "\n"
      ],
      "metadata": {
        "id": "5-W0m82t1l5U"
      }
    },
    {
      "cell_type": "markdown",
      "source": [
        "**`Scalar tensor`** are single numbers and also known as 0 dimensional tensor"
      ],
      "metadata": {
        "id": "VA3H52LK18L7"
      }
    },
    {
      "cell_type": "code",
      "source": [
        "scalar = torch.tensor(7) #scalar tensor\n",
        "print(f\"Scalar: {scalar}\")\n",
        "print(f\"Dimension of scalar: {scalar.ndim}\")\n",
        "print(f\"Type: {type(scalar)}\")"
      ],
      "metadata": {
        "colab": {
          "base_uri": "https://localhost:8080/"
        },
        "id": "nCPk7PTAt9Ys",
        "outputId": "f2cfec84-8886-47df-a645-db9cbfd40e0e"
      },
      "execution_count": null,
      "outputs": [
        {
          "output_type": "stream",
          "name": "stdout",
          "text": [
            "Scalar: 7\n",
            "Dimension of scalar: 0\n",
            "Type: <class 'torch.Tensor'>\n"
          ]
        }
      ]
    },
    {
      "cell_type": "markdown",
      "source": [
        "We can retrieve the data inside a tensor as a python integer"
      ],
      "metadata": {
        "id": "d5GBc1fN2T_s"
      }
    },
    {
      "cell_type": "code",
      "source": [
        "print(f\"Item inside the scalar: {scalar.item()}\") # Here we get the value stored as a python integer\n",
        "print(f\"Type of item stored in the scalar: {type(scalar.item())}\")"
      ],
      "metadata": {
        "colab": {
          "base_uri": "https://localhost:8080/"
        },
        "id": "gKLcDVlWuvi2",
        "outputId": "4193c1e5-cc3d-4772-a233-fcd6c83eaa03"
      },
      "execution_count": null,
      "outputs": [
        {
          "output_type": "stream",
          "name": "stdout",
          "text": [
            "Item inside the scalar: 7\n",
            "Type of item stored in the scalar: <class 'int'>\n"
          ]
        }
      ]
    },
    {
      "cell_type": "markdown",
      "source": [
        "**`Vector`** are one dimensional array of numbers"
      ],
      "metadata": {
        "id": "ZImdCIz32p7U"
      }
    },
    {
      "cell_type": "code",
      "source": [
        "vector = torch.tensor([7, 7]) #vector has magnitude and a direction\n",
        "print(f\"Vector: {vector}\")  # you can calculate the number of dimension by counting the square\n",
        "                            # brackets []\n",
        "print(f\"Dimension of vector: {vector.ndim}\")\n",
        "print(f\"Shape of vector: {vector.shape}\")"
      ],
      "metadata": {
        "colab": {
          "base_uri": "https://localhost:8080/"
        },
        "id": "cP_Hbwf8u_NJ",
        "outputId": "e148fb38-b326-4dbf-de90-c043033395ec"
      },
      "execution_count": null,
      "outputs": [
        {
          "output_type": "stream",
          "name": "stdout",
          "text": [
            "Vector: tensor([7, 7])\n",
            "Dimension of vector: 1\n",
            "Shape of vector: torch.Size([2])\n"
          ]
        }
      ]
    },
    {
      "cell_type": "markdown",
      "source": [
        "**`Matrix`** are two-dimensional array of numbers"
      ],
      "metadata": {
        "id": "1QcgNFss3JGC"
      }
    },
    {
      "cell_type": "code",
      "source": [
        "MATRIX = torch.tensor([[7, 8],\n",
        "                       [9, 10]]) #matrix is usally indicated with capital name\n",
        "\n",
        "print(f\"Matrix: {MATRIX}\")\n",
        "print(f\"Dimension of matrix: {MATRIX.ndim}\")\n",
        "print(f\"Shape of matrix: {MATRIX.shape}\")\n",
        "print(f\"Type of matrix: {type(MATRIX)}\")\n",
        "print(f\"First item in the matrix: {MATRIX[0]}\")"
      ],
      "metadata": {
        "colab": {
          "base_uri": "https://localhost:8080/"
        },
        "id": "DQF2dXNpvhcZ",
        "outputId": "48068687-822b-4070-b16b-533266e8da3b"
      },
      "execution_count": null,
      "outputs": [
        {
          "output_type": "stream",
          "name": "stdout",
          "text": [
            "Matrix: tensor([[ 7,  8],\n",
            "        [ 9, 10]])\n",
            "Dimension of matrix: 2\n",
            "Shape of matrix: torch.Size([2, 2])\n",
            "Type of matrix: <class 'torch.Tensor'>\n",
            "First item in the matrix: tensor([7, 8])\n"
          ]
        }
      ]
    },
    {
      "cell_type": "markdown",
      "source": [
        "**3D Tensor** is a three-dimensional array of numbers, often used to\n",
        "represent a sequence of matrices"
      ],
      "metadata": {
        "id": "wDhal1ofJVcG"
      }
    },
    {
      "cell_type": "code",
      "source": [
        " TENSOR = torch.tensor([[[1, 2],\n",
        "                         [3, 4],\n",
        "                         [4, 5]]]) # tensor are also named capital\n",
        "print(f\"Tensor: {TENSOR}\")\n",
        "print(f\"Shape of tensor: {TENSOR.shape}\")\n",
        "print(f\"Dimension of tensor: {TENSOR.ndim}\")\n",
        "print(f\"Type of tensor: {type(TENSOR)}\")\n",
        "print(f\"Second item in the tensor: {TENSOR[0]}\")"
      ],
      "metadata": {
        "colab": {
          "base_uri": "https://localhost:8080/"
        },
        "id": "5N2iZnTiv6gW",
        "outputId": "74a9be9e-36e0-4f54-c3cb-28625c9f22ac"
      },
      "execution_count": null,
      "outputs": [
        {
          "output_type": "stream",
          "name": "stdout",
          "text": [
            "Tensor: tensor([[[1, 2],\n",
            "         [3, 4],\n",
            "         [4, 5]]])\n",
            "Shape of tensor: torch.Size([1, 3, 2])\n",
            "Dimension of tensor: 3\n",
            "Type of tensor: <class 'torch.Tensor'>\n",
            "Second item in the tensor: tensor([[1, 2],\n",
            "        [3, 4],\n",
            "        [4, 5]])\n"
          ]
        }
      ]
    },
    {
      "cell_type": "markdown",
      "source": [
        "**Random tensors** are tensors filled with random values. Random numbers are crucial in deep learning for various reasons\n",
        "\n",
        "*   Weights in neural network are typically initialized with random values\n",
        "*   Random tensors can be used to introduce randomness and variability in the input data during training\n",
        "*   The way neural network learn is they start with tensors full of random numbers and then adjust those random number to better represent the data\n",
        "\n"
      ],
      "metadata": {
        "id": "dyrgF0dzJ-N9"
      }
    },
    {
      "cell_type": "markdown",
      "source": [
        "***`Start with random numbers -> look at data -> update random numbers -> look at data -> update random numbers`***"
      ],
      "metadata": {
        "id": "ZmJil6GX4pry"
      }
    },
    {
      "cell_type": "code",
      "source": [
        "# create a random tensor of size (3, 4)\n",
        "random_tensor = torch.rand(3, 4)\n",
        "print(f\"Tensor with random values and of shape (3, 4): \\n\\n{random_tensor}\")"
      ],
      "metadata": {
        "colab": {
          "base_uri": "https://localhost:8080/"
        },
        "id": "qRtzz5GI4o3z",
        "outputId": "8ffa981a-2c74-43d7-889e-7c0b77e9cb77"
      },
      "execution_count": null,
      "outputs": [
        {
          "output_type": "stream",
          "name": "stdout",
          "text": [
            "Tensor with random values and of shape (3, 4): \n",
            "\n",
            "tensor([[0.6672, 0.1332, 0.8477, 0.5400],\n",
            "        [0.7751, 0.2600, 0.5883, 0.7640],\n",
            "        [0.3466, 0.2019, 0.6494, 0.5128]])\n"
          ]
        }
      ]
    },
    {
      "cell_type": "code",
      "source": [
        "# create a random tensor with similar shape to an image tensor\n",
        "random_image_size_tensor = torch.rand(size=(224, 224, 3)) #height, width, of color\n",
        "                                                          # channels (R, G, B)\n",
        "random_image_size_tensor"
      ],
      "metadata": {
        "colab": {
          "base_uri": "https://localhost:8080/"
        },
        "id": "bEW9GB3xQzW8",
        "outputId": "d33ecb3b-cc0e-4bcb-af8c-08f07b5ac0e7"
      },
      "execution_count": null,
      "outputs": [
        {
          "output_type": "execute_result",
          "data": {
            "text/plain": [
              "tensor([[[0.7789, 0.9671, 0.9627],\n",
              "         [0.9973, 0.0995, 0.5866],\n",
              "         [0.9299, 0.4142, 0.7746],\n",
              "         ...,\n",
              "         [0.7212, 0.3567, 0.0506],\n",
              "         [0.4683, 0.7544, 0.8661],\n",
              "         [0.9962, 0.1573, 0.9356]],\n",
              "\n",
              "        [[0.1309, 0.3091, 0.3121],\n",
              "         [0.1000, 0.6089, 0.5859],\n",
              "         [0.3567, 0.7816, 0.6649],\n",
              "         ...,\n",
              "         [0.1116, 0.6984, 0.6725],\n",
              "         [0.1077, 0.0357, 0.9666],\n",
              "         [0.9041, 0.2112, 0.4902]],\n",
              "\n",
              "        [[0.7164, 0.5593, 0.4399],\n",
              "         [0.1770, 0.1366, 0.8591],\n",
              "         [0.4599, 0.4374, 0.6637],\n",
              "         ...,\n",
              "         [0.3293, 0.8928, 0.1439],\n",
              "         [0.6255, 0.5210, 0.1135],\n",
              "         [0.3691, 0.4658, 0.5474]],\n",
              "\n",
              "        ...,\n",
              "\n",
              "        [[0.8911, 0.5221, 0.6324],\n",
              "         [0.1247, 0.4185, 0.0520],\n",
              "         [0.5082, 0.2870, 0.4402],\n",
              "         ...,\n",
              "         [0.6544, 0.6166, 0.6535],\n",
              "         [0.6125, 0.9050, 0.7228],\n",
              "         [0.4790, 0.4963, 0.1604]],\n",
              "\n",
              "        [[0.0831, 0.0322, 0.0552],\n",
              "         [0.1448, 0.1376, 0.6349],\n",
              "         [0.6246, 0.1796, 0.9551],\n",
              "         ...,\n",
              "         [0.0353, 0.7799, 0.1872],\n",
              "         [0.1659, 0.0303, 0.2253],\n",
              "         [0.3383, 0.3399, 0.7596]],\n",
              "\n",
              "        [[0.4504, 0.8244, 0.1966],\n",
              "         [0.8110, 0.2369, 0.0748],\n",
              "         [0.0506, 0.7465, 0.4360],\n",
              "         ...,\n",
              "         [0.0068, 0.3186, 0.1315],\n",
              "         [0.8027, 0.7132, 0.0545],\n",
              "         [0.0588, 0.2704, 0.2266]]])"
            ]
          },
          "metadata": {},
          "execution_count": 45
        }
      ]
    },
    {
      "cell_type": "code",
      "source": [
        "# we can create a tensor of zeros values\n",
        "zeros = torch.zeros(size=(3, 4))\n",
        "zeros"
      ],
      "metadata": {
        "colab": {
          "base_uri": "https://localhost:8080/"
        },
        "id": "M0Fnb-05Q3Rx",
        "outputId": "5f764637-45fe-4d6f-fc2a-d1c4516aee85"
      },
      "execution_count": null,
      "outputs": [
        {
          "output_type": "execute_result",
          "data": {
            "text/plain": [
              "tensor([[0., 0., 0., 0.],\n",
              "        [0., 0., 0., 0.],\n",
              "        [0., 0., 0., 0.]])"
            ]
          },
          "metadata": {},
          "execution_count": 46
        }
      ]
    },
    {
      "cell_type": "code",
      "source": [
        "# We can also create a tensor os specified shape containing only one\n",
        "ones = torch.ones(size=(4, 4))\n",
        "ones"
      ],
      "metadata": {
        "colab": {
          "base_uri": "https://localhost:8080/"
        },
        "id": "MOOHc81TQ8MY",
        "outputId": "76a08064-76c4-454f-da55-98601fd23afb"
      },
      "execution_count": null,
      "outputs": [
        {
          "output_type": "execute_result",
          "data": {
            "text/plain": [
              "tensor([[1., 1., 1., 1.],\n",
              "        [1., 1., 1., 1.],\n",
              "        [1., 1., 1., 1.],\n",
              "        [1., 1., 1., 1.]])"
            ]
          },
          "metadata": {},
          "execution_count": 47
        }
      ]
    },
    {
      "cell_type": "code",
      "source": [
        "torch.arange(0 ,10)"
      ],
      "metadata": {
        "colab": {
          "base_uri": "https://localhost:8080/"
        },
        "id": "xzb-N4CXREDZ",
        "outputId": "7ce664dc-25c6-4a1e-cd15-5b141772d988"
      },
      "execution_count": null,
      "outputs": [
        {
          "output_type": "execute_result",
          "data": {
            "text/plain": [
              "tensor([0, 1, 2, 3, 4, 5, 6, 7, 8, 9])"
            ]
          },
          "metadata": {},
          "execution_count": 13
        }
      ]
    },
    {
      "cell_type": "code",
      "source": [
        "even_numbers = torch.arange(0, 10, 2)\n",
        "even_numbers"
      ],
      "metadata": {
        "colab": {
          "base_uri": "https://localhost:8080/"
        },
        "id": "vJeFsKiPRiAk",
        "outputId": "6d6eff01-10e2-4226-a355-94cff2c84a37"
      },
      "execution_count": null,
      "outputs": [
        {
          "output_type": "execute_result",
          "data": {
            "text/plain": [
              "tensor([0, 2, 4, 6, 8])"
            ]
          },
          "metadata": {},
          "execution_count": 53
        }
      ]
    },
    {
      "cell_type": "markdown",
      "source": [
        "In pytorch we use **tensor_like** function\n",
        "\n",
        "*   When you need to create new tensors that match the shape and data type of existing tensors, thus ensuring consistency\n",
        "*   Make the code more readable and concise\n",
        "*   Simplifies the process of creating tensors that share properties with an existing tensor\n",
        "\n"
      ],
      "metadata": {
        "id": "BNnuvEbMRhCM"
      }
    },
    {
      "cell_type": "code",
      "source": [
        "# creating tensors like\n",
        "ten_zeros = torch.zeros_like(input=even_numbers)\n",
        "ten_zeros"
      ],
      "metadata": {
        "colab": {
          "base_uri": "https://localhost:8080/"
        },
        "id": "FlRzxgfORcXr",
        "outputId": "88386b48-9721-43a2-cb08-d950381a598f"
      },
      "execution_count": null,
      "outputs": [
        {
          "output_type": "execute_result",
          "data": {
            "text/plain": [
              "tensor([0, 0, 0, 0, 0])"
            ]
          },
          "metadata": {},
          "execution_count": 54
        }
      ]
    },
    {
      "cell_type": "markdown",
      "source": [
        "### Indexing tensors"
      ],
      "metadata": {
        "id": "d5M4bJSGJAhK"
      }
    },
    {
      "cell_type": "markdown",
      "source": [
        "We can index tensors with the same notation just as in NumPy and other python scientific libraries"
      ],
      "metadata": {
        "id": "sZjZGGljKZsA"
      }
    },
    {
      "cell_type": "markdown",
      "source": [
        "**Vector Tensors**"
      ],
      "metadata": {
        "id": "cv48WbeLJ5kh"
      }
    },
    {
      "cell_type": "code",
      "source": [
        "tensor = torch.arange(0, 10)\n",
        "\n",
        "print(f\"Tensor: {tensor}\")\n",
        "print(f\"\\nFirst Element: {tensor[0]}\")\n",
        "print(f\"\\nLast Element: {tensor[-1]}\")\n",
        "print(f\"\\nFirst Two elements: {tensor[:2]}\")"
      ],
      "metadata": {
        "colab": {
          "base_uri": "https://localhost:8080/"
        },
        "id": "xvTvUubVJ48a",
        "outputId": "4e70780e-a4de-443e-d0ef-12aa55c14971"
      },
      "execution_count": null,
      "outputs": [
        {
          "output_type": "stream",
          "name": "stdout",
          "text": [
            "Tensor: tensor([0, 1, 2, 3, 4, 5, 6, 7, 8, 9])\n",
            "\n",
            "First Element: 0\n",
            "\n",
            "Last Element: 9\n",
            "\n",
            "First Two elements at 1 index: tensor([0, 1])\n"
          ]
        }
      ]
    },
    {
      "cell_type": "markdown",
      "source": [
        "**Matrix Tensors**"
      ],
      "metadata": {
        "id": "c-L3BtESKTb5"
      }
    },
    {
      "cell_type": "code",
      "source": [
        "print(f\"Tensor: {random_tensor}\")\n",
        "print(f\"\\nElement on 0 index: {random_tensor[0]}\")\n",
        "print(f\"\\nFirst Element: {random_tensor[0][0]}\")\n",
        "print(f\"\\nLast Element: {random_tensor[-1][-1]}\")\n",
        "print(f\"\\nFirst Two elements at 1 index: {random_tensor[1][:2]}\")"
      ],
      "metadata": {
        "colab": {
          "base_uri": "https://localhost:8080/"
        },
        "id": "KCVBSOM8JAz7",
        "outputId": "7a7e7771-9941-4e07-9ab2-c2cc6b395e51"
      },
      "execution_count": null,
      "outputs": [
        {
          "output_type": "stream",
          "name": "stdout",
          "text": [
            "Tensor: tensor([[0.6672, 0.1332, 0.8477, 0.5400],\n",
            "        [0.7751, 0.2600, 0.5883, 0.7640],\n",
            "        [0.3466, 0.2019, 0.6494, 0.5128]])\n",
            "\n",
            "Element on 0 index: tensor([0.6672, 0.1332, 0.8477, 0.5400])\n",
            "\n",
            "First Element: 0.6672316193580627\n",
            "\n",
            "Last Element: 0.5127742886543274\n",
            "\n",
            "First Two elements at 1 index: tensor([0.7751, 0.2600])\n"
          ]
        }
      ]
    },
    {
      "cell_type": "markdown",
      "source": [
        "### Named tensors\n",
        "***Named tensors*** are feature in PyToch that allows you to associate names with the dimensions of a tenor, making tensor opeartion more readable and less error prone. It also improves readability and makes debugging easy"
      ],
      "metadata": {
        "id": "q12rF66yM002"
      }
    },
    {
      "cell_type": "code",
      "source": [
        "tensor = torch.rand(2, 3, 3, names=('Red', 'Green', 'Blue'))\n",
        "print(f\"Tensor: {tensor}\")\n",
        "print(f\"\\nTensor name: {tensor.names}\")"
      ],
      "metadata": {
        "colab": {
          "base_uri": "https://localhost:8080/"
        },
        "id": "4mYBoZAmM0bT",
        "outputId": "275c42ca-028a-4b7b-8e20-c0e7a00317b7"
      },
      "execution_count": null,
      "outputs": [
        {
          "output_type": "stream",
          "name": "stdout",
          "text": [
            "Tensor: tensor([[[0.0272, 0.3874, 0.4744],\n",
            "         [0.2397, 0.3241, 0.3169],\n",
            "         [0.1423, 0.6742, 0.4621]],\n",
            "\n",
            "        [[0.5829, 0.1077, 0.1516],\n",
            "         [0.8369, 0.1507, 0.9246],\n",
            "         [0.4054, 0.4225, 0.5438]]], names=('Red', 'Green', 'Blue'))\n",
            "\n",
            "Tensor name: ('Red', 'Green', 'Blue')\n"
          ]
        },
        {
          "output_type": "stream",
          "name": "stderr",
          "text": [
            "<ipython-input-14-055b0cc3d740>:1: UserWarning: Named tensors and all their associated APIs are an experimental feature and subject to change. Please do not use them for anything important until they are released as stable. (Triggered internally at ../c10/core/TensorImpl.h:1921.)\n",
            "  tensor = torch.rand(2, 3, 3, names=('Red', 'Green', 'Blue'))\n"
          ]
        }
      ]
    },
    {
      "cell_type": "markdown",
      "source": [
        "We can select a specific dimension using its name"
      ],
      "metadata": {
        "id": "TPFjH1pwN-Ge"
      }
    },
    {
      "cell_type": "code",
      "source": [
        "red_color = tensor.select(dim='Red', index=0)\n",
        "print(f\"Red color data: \\n{red_color}\")"
      ],
      "metadata": {
        "colab": {
          "base_uri": "https://localhost:8080/"
        },
        "id": "nkqG9Er9N94O",
        "outputId": "73ae5ec7-d2a7-4c86-a8bd-845d5cb66e1e"
      },
      "execution_count": null,
      "outputs": [
        {
          "output_type": "stream",
          "name": "stdout",
          "text": [
            "Red color data: \n",
            "tensor([[0.0272, 0.3874, 0.4744],\n",
            "        [0.2397, 0.3241, 0.3169],\n",
            "        [0.1423, 0.6742, 0.4621]], names=('Green', 'Blue'))\n"
          ]
        }
      ]
    },
    {
      "cell_type": "code",
      "source": [
        "green_color = tensor.select(dim='Green', index=0)\n",
        "print(f\"Green color data: \\n{green_color}\")"
      ],
      "metadata": {
        "colab": {
          "base_uri": "https://localhost:8080/"
        },
        "id": "KXuxL_7TrwRh",
        "outputId": "685a6748-b8c1-4209-df8c-0bafa71303db"
      },
      "execution_count": null,
      "outputs": [
        {
          "output_type": "stream",
          "name": "stdout",
          "text": [
            "Green color data: \n",
            "tensor([[0.0272, 0.3874, 0.4744],\n",
            "        [0.5829, 0.1077, 0.1516]], names=('Red', 'Blue'))\n"
          ]
        }
      ]
    },
    {
      "cell_type": "code",
      "source": [
        "blue_color = tensor.select(dim='Blue', index=0)\n",
        "print(f\"Blue color data: \\n{blue_color}\")"
      ],
      "metadata": {
        "colab": {
          "base_uri": "https://localhost:8080/"
        },
        "id": "OF_W11jyr9tg",
        "outputId": "482cdda2-de4d-47ac-80b1-2d9d43217aba"
      },
      "execution_count": null,
      "outputs": [
        {
          "output_type": "stream",
          "name": "stdout",
          "text": [
            "Blue color data: \n",
            "tensor([[0.0272, 0.2397, 0.1423],\n",
            "        [0.5829, 0.8369, 0.4054]], names=('Red', 'Green'))\n"
          ]
        }
      ]
    },
    {
      "cell_type": "markdown",
      "source": [
        "We can rename existing tensors"
      ],
      "metadata": {
        "id": "oQTAWhK4OW3o"
      }
    },
    {
      "cell_type": "code",
      "source": [
        "new_tensor = tensor.rename(Red='red_color', Green='green_color')\n",
        "print(f\"New Tensor: {new_tensor}\")\n",
        "print(f\"\\nNew names: {new_tensor.names}\")"
      ],
      "metadata": {
        "colab": {
          "base_uri": "https://localhost:8080/"
        },
        "id": "_uuseSg2N6ZP",
        "outputId": "8b4fd17b-a22a-4b90-a76a-3a7667e78ae5"
      },
      "execution_count": null,
      "outputs": [
        {
          "output_type": "stream",
          "name": "stdout",
          "text": [
            "New Tensor: tensor([[[0.2436, 0.0957, 0.1743],\n",
            "         [0.2378, 0.0855, 0.5250],\n",
            "         [0.0725, 0.0408, 0.1775]],\n",
            "\n",
            "        [[0.6060, 0.9309, 0.7031],\n",
            "         [0.0628, 0.6746, 0.0414],\n",
            "         [0.2047, 0.2586, 0.1226]]],\n",
            "       names=('red_color', 'green_color', 'Blue'))\n",
            "\n",
            "New names: ('red_color', 'green_color', 'Blue')\n"
          ]
        }
      ]
    },
    {
      "cell_type": "markdown",
      "source": [
        "Performing some examples"
      ],
      "metadata": {
        "id": "YycxQGmhPc3s"
      }
    },
    {
      "cell_type": "code",
      "source": [
        "red, green, blue =  3, 64, 64\n",
        "images = torch.rand(red, green, blue, names=('red', 'green', 'blue'))\n",
        "\n",
        "print(f\"Images {images}\")\n",
        "\n",
        "red_mean = images.mean(dim='red', keepdim=True)\n",
        "green_std = images.std(dim='green', keepdim=False)\n",
        "\n",
        "print(f\"\\nRed color mean: {red_mean}\")\n",
        "print(f\"\\nGreen color mean: {green_std}\")"
      ],
      "metadata": {
        "colab": {
          "base_uri": "https://localhost:8080/"
        },
        "id": "wn4GJJDKPbvQ",
        "outputId": "e520f29e-9414-4b01-cce9-97fa73595c9c"
      },
      "execution_count": null,
      "outputs": [
        {
          "output_type": "stream",
          "name": "stdout",
          "text": [
            "Images tensor([[[0.0622, 0.1264, 0.7123,  ..., 0.7022, 0.5376, 0.0841],\n",
            "         [0.6538, 0.0045, 0.6487,  ..., 0.4707, 0.3573, 0.8898],\n",
            "         [0.6224, 0.1207, 0.6166,  ..., 0.2881, 0.8859, 0.8363],\n",
            "         ...,\n",
            "         [0.3276, 0.4432, 0.6523,  ..., 0.9133, 0.2721, 0.2487],\n",
            "         [0.6604, 0.4026, 0.8583,  ..., 0.3986, 0.3913, 0.7750],\n",
            "         [0.6729, 0.9702, 0.8605,  ..., 0.7345, 0.8964, 0.1710]],\n",
            "\n",
            "        [[0.6086, 0.8549, 0.0965,  ..., 0.2895, 0.8981, 0.5714],\n",
            "         [0.5560, 0.1346, 0.1417,  ..., 0.2531, 0.9660, 0.1326],\n",
            "         [0.4762, 0.3648, 0.7717,  ..., 0.3214, 0.6674, 0.1684],\n",
            "         ...,\n",
            "         [0.7767, 0.2220, 0.1748,  ..., 0.5914, 0.1453, 0.6945],\n",
            "         [0.7204, 0.9521, 0.3169,  ..., 0.1089, 0.5585, 0.0336],\n",
            "         [0.7296, 0.8808, 0.2808,  ..., 0.1825, 0.5623, 0.1948]],\n",
            "\n",
            "        [[0.9736, 0.8402, 0.8647,  ..., 0.5777, 0.4864, 0.8276],\n",
            "         [0.6686, 0.5525, 0.2231,  ..., 0.4558, 0.5644, 0.8896],\n",
            "         [0.7455, 0.5204, 0.2836,  ..., 0.6366, 0.8354, 0.8209],\n",
            "         ...,\n",
            "         [0.0747, 0.7809, 0.1262,  ..., 0.9271, 0.6523, 0.9887],\n",
            "         [0.3315, 0.6317, 0.4005,  ..., 0.4370, 0.6355, 0.2805],\n",
            "         [0.4008, 0.1259, 0.4123,  ..., 0.6321, 0.1656, 0.9930]]],\n",
            "       names=('red', 'green', 'blue'))\n",
            "\n",
            "Red color mean: tensor([[[0.5481, 0.6072, 0.5579,  ..., 0.5231, 0.6407, 0.4944],\n",
            "         [0.6261, 0.2305, 0.3378,  ..., 0.3932, 0.6292, 0.6373],\n",
            "         [0.6147, 0.3353, 0.5573,  ..., 0.4154, 0.7962, 0.6085],\n",
            "         ...,\n",
            "         [0.3930, 0.4820, 0.3178,  ..., 0.8106, 0.3565, 0.6440],\n",
            "         [0.5708, 0.6621, 0.5252,  ..., 0.3148, 0.5284, 0.3630],\n",
            "         [0.6011, 0.6590, 0.5179,  ..., 0.5164, 0.5415, 0.4529]]],\n",
            "       names=('red', 'green', 'blue'))\n",
            "\n",
            "Green color mean: tensor([[0.2878, 0.2450, 0.2657, 0.2819, 0.2563, 0.3037, 0.2980, 0.2765, 0.3095,\n",
            "         0.2880, 0.2764, 0.2986, 0.3255, 0.2885, 0.2658, 0.2857, 0.2932, 0.2790,\n",
            "         0.2990, 0.2751, 0.2727, 0.2863, 0.3101, 0.2722, 0.2919, 0.3075, 0.2908,\n",
            "         0.3152, 0.2767, 0.2949, 0.2675, 0.2645, 0.2898, 0.3085, 0.3168, 0.2894,\n",
            "         0.2908, 0.2960, 0.2905, 0.3010, 0.2850, 0.2764, 0.2688, 0.2983, 0.2807,\n",
            "         0.2816, 0.2742, 0.3008, 0.3153, 0.2728, 0.2674, 0.2797, 0.2738, 0.2847,\n",
            "         0.2974, 0.2955, 0.2916, 0.3294, 0.2886, 0.2942, 0.2779, 0.2639, 0.3235,\n",
            "         0.2732],\n",
            "        [0.2587, 0.3324, 0.2929, 0.3005, 0.3001, 0.2527, 0.2710, 0.3033, 0.2968,\n",
            "         0.2616, 0.2954, 0.2640, 0.3119, 0.2744, 0.2521, 0.2421, 0.2926, 0.3049,\n",
            "         0.2673, 0.3094, 0.2848, 0.2965, 0.3025, 0.3076, 0.2752, 0.2975, 0.3073,\n",
            "         0.3005, 0.2893, 0.2658, 0.2959, 0.3011, 0.3049, 0.3034, 0.2754, 0.3056,\n",
            "         0.2701, 0.2783, 0.2716, 0.2734, 0.2719, 0.2925, 0.2958, 0.2834, 0.2860,\n",
            "         0.2856, 0.2574, 0.2876, 0.2794, 0.3011, 0.2620, 0.2624, 0.3087, 0.2880,\n",
            "         0.2680, 0.3016, 0.2745, 0.2943, 0.3071, 0.2905, 0.3005, 0.3074, 0.2779,\n",
            "         0.2764],\n",
            "        [0.2961, 0.2723, 0.2808, 0.2883, 0.2911, 0.2952, 0.2990, 0.2853, 0.2912,\n",
            "         0.2989, 0.2939, 0.3069, 0.2932, 0.2873, 0.2882, 0.2888, 0.2861, 0.2777,\n",
            "         0.3187, 0.2795, 0.2773, 0.3173, 0.2903, 0.2721, 0.3022, 0.2692, 0.2743,\n",
            "         0.2908, 0.2844, 0.2698, 0.3023, 0.2986, 0.2964, 0.3188, 0.2789, 0.2731,\n",
            "         0.2794, 0.2864, 0.2612, 0.2752, 0.2918, 0.3089, 0.2913, 0.2967, 0.2592,\n",
            "         0.2862, 0.3032, 0.2695, 0.2787, 0.2707, 0.2964, 0.3008, 0.2806, 0.2836,\n",
            "         0.2849, 0.3117, 0.3048, 0.2781, 0.2731, 0.3032, 0.2703, 0.2756, 0.2611,\n",
            "         0.2889]], names=('red', 'blue'))\n"
          ]
        }
      ]
    },
    {
      "cell_type": "markdown",
      "source": [
        "### Tensor element attributes"
      ],
      "metadata": {
        "id": "SzTgHdsrRu6C"
      }
    },
    {
      "cell_type": "markdown",
      "source": [
        "Tensors have some important attributes like\n",
        "\n",
        "*   **tensor.dtype** (returns the data type of the tensor's elements)\n",
        "*   **tensor.device** (indicates the device on which the tensor is stored like CPU, GPU)\n",
        "*   **tensor.numel()** (returns the total number of elements in the tensor)\n",
        "*   **tensor.layout** (returns the layout of tensor)\n",
        "*   **tensor.requires_grad** (indicates whehter gradient computation is required for the tensor?)\n",
        "\n",
        "\n",
        "\n"
      ],
      "metadata": {
        "id": "GDLUOP3YDk_B"
      }
    },
    {
      "cell_type": "markdown",
      "source": [
        "The **dtype** argument specifies the numerical data type that will be contained in the tensor. It specifies the possible value the tensor can hold and the number of bytes per value.\n",
        "<br/>\n",
        "Computation in neural network are typically executed with 32-bit floating-point precision. 64-bit does not improve accuracy in the model and will require more memory and computing time"
      ],
      "metadata": {
        "id": "EA6UpaBCnEKp"
      }
    },
    {
      "cell_type": "code",
      "source": [
        "float_32_tensor = torch.tensor([3.0, 6.0, 9.0],\n",
        "                               dtype=torch.float32, # data type of the tensor\n",
        "                               device=\"cpu\", # what devices is your tensor on\n",
        "                               requires_grad=False) # want pytorch to track gradients\n",
        "float_32_tensor"
      ],
      "metadata": {
        "colab": {
          "base_uri": "https://localhost:8080/"
        },
        "id": "gDTIBPITCd-7",
        "outputId": "693939c9-3a0c-40dd-93e4-701a7fb67d18"
      },
      "execution_count": null,
      "outputs": [
        {
          "output_type": "execute_result",
          "data": {
            "text/plain": [
              "tensor([3., 6., 9.])"
            ]
          },
          "metadata": {},
          "execution_count": 57
        }
      ]
    },
    {
      "cell_type": "code",
      "source": [
        "#always creates a copy\n",
        "float_64_tensor = float_32_tensor.type(torch.float64) #float_32_tensor is not changed\n",
        "float_64_tensor"
      ],
      "metadata": {
        "colab": {
          "base_uri": "https://localhost:8080/"
        },
        "id": "fRXydOulD2lq",
        "outputId": "bb5fd674-2537-4e69-a511-1bac327bba7b"
      },
      "execution_count": null,
      "outputs": [
        {
          "output_type": "execute_result",
          "data": {
            "text/plain": [
              "tensor([3., 6., 9.], dtype=torch.float64)"
            ]
          },
          "metadata": {},
          "execution_count": 59
        }
      ]
    },
    {
      "cell_type": "code",
      "source": [
        "float_32_tensor.dtype"
      ],
      "metadata": {
        "colab": {
          "base_uri": "https://localhost:8080/"
        },
        "id": "2zfLhMVdGBUa",
        "outputId": "3a8276d4-4844-4bc2-990b-a84178d7b8a0"
      },
      "execution_count": null,
      "outputs": [
        {
          "output_type": "execute_result",
          "data": {
            "text/plain": [
              "torch.float32"
            ]
          },
          "metadata": {},
          "execution_count": 61
        }
      ]
    },
    {
      "cell_type": "markdown",
      "source": [
        "### Tensor Arithmetics"
      ],
      "metadata": {
        "id": "aaQB3Mt8n7k5"
      }
    },
    {
      "cell_type": "markdown",
      "source": [
        "**We can perform arthematic operations on the tensors**"
      ],
      "metadata": {
        "id": "ePYWcyPzMhFY"
      }
    },
    {
      "cell_type": "code",
      "source": [
        "# manipulating tensors\n",
        "# additions, subtraction, multiplication (element-wise), division, matrix multiplication"
      ],
      "metadata": {
        "id": "gNCuynHcGhNo"
      },
      "execution_count": null,
      "outputs": []
    },
    {
      "cell_type": "code",
      "source": [
        "ten = torch.tensor([1, 2, 3])\n",
        "print(f\"Tensor: {ten}\")\n",
        "print(f\"Adding 10 to the tensor: {ten + 10}\")\n",
        "print(f\"Multiplying 25 with the tensor: {ten * 25}\")\n",
        "print(f\"Multiplying 10 with the tensor: {torch.mul(ten, 10)}\")\n",
        "print(f\"Dividing the tensor by 2: {ten/ 2}\")"
      ],
      "metadata": {
        "colab": {
          "base_uri": "https://localhost:8080/"
        },
        "id": "wh-uWF2bIhlJ",
        "outputId": "074f06b4-283e-4aa6-d338-5e719f584202"
      },
      "execution_count": null,
      "outputs": [
        {
          "output_type": "stream",
          "name": "stdout",
          "text": [
            "Tensor: tensor([1, 2, 3])\n",
            "Adding 10 to the tensor: tensor([11, 12, 13])\n",
            "Multiplying 25 with the tensor: tensor([25, 50, 75])\n",
            "Multiplying 10 with the tensor: tensor([10, 20, 30])\n",
            "Dividing the tensor by 2: tensor([0.5000, 1.0000, 1.5000])\n"
          ]
        }
      ]
    },
    {
      "cell_type": "markdown",
      "source": [
        "There are two main types of multiplication in deep learning\n",
        "\n",
        "1.   Element wise multiplication\n",
        "2.   Matrix multiplication (dot product) (most common operation in deep learning)\n",
        "\n"
      ],
      "metadata": {
        "id": "RtnaPj8V2mL_"
      }
    },
    {
      "cell_type": "code",
      "source": [
        "tensor = torch.tensor([1, 2, 3])\n",
        "tensor"
      ],
      "metadata": {
        "colab": {
          "base_uri": "https://localhost:8080/"
        },
        "id": "XjdNfDx40f2G",
        "outputId": "9513bad4-e18e-41ae-8f5e-26f45eb93c72"
      },
      "execution_count": null,
      "outputs": [
        {
          "output_type": "execute_result",
          "data": {
            "text/plain": [
              "tensor([1, 2, 3])"
            ]
          },
          "metadata": {},
          "execution_count": 22
        }
      ]
    },
    {
      "cell_type": "code",
      "source": [
        "# element wise multiplication\n",
        "print(f\"Element wise multiplication: {tensor * tensor }\")\n",
        "print(f\"Dot multiplication: {torch.dot(tensor, tensor)}\")"
      ],
      "metadata": {
        "colab": {
          "base_uri": "https://localhost:8080/"
        },
        "id": "qX5Y7t9a0mFJ",
        "outputId": "ed72cacc-bffc-472d-a889-6f4ebfe18b2a"
      },
      "execution_count": null,
      "outputs": [
        {
          "output_type": "stream",
          "name": "stdout",
          "text": [
            "Element wise multiplication: tensor([1, 4, 9])\n",
            "Dot multiplication: 14\n"
          ]
        }
      ]
    },
    {
      "cell_type": "markdown",
      "source": [
        "`tensor @ tensor` **@** is other way for matrix multiplication (not a recommended approach)"
      ],
      "metadata": {
        "id": "rlMZVhvdokh_"
      }
    },
    {
      "cell_type": "code",
      "source": [
        "# calculate time taken my manually calculating dot product\n",
        "%%time\n",
        "value = 0\n",
        "for i in range(len(tensor)):\n",
        "  value += tensor[i] + tensor[i]\n",
        "\n",
        "print(value)"
      ],
      "metadata": {
        "colab": {
          "base_uri": "https://localhost:8080/"
        },
        "id": "FrWSlQKw0tyH",
        "outputId": "d94d60bc-75eb-4396-d65b-25ee36dab3a8"
      },
      "execution_count": null,
      "outputs": [
        {
          "output_type": "stream",
          "name": "stdout",
          "text": [
            "tensor(12)\n",
            "CPU times: user 4 ms, sys: 0 ns, total: 4 ms\n",
            "Wall time: 20.7 ms\n"
          ]
        }
      ]
    },
    {
      "cell_type": "code",
      "source": [
        "# calculate time taken by using built-in dot method\n",
        "%%time\n",
        "torch.dot(tensor, tensor)"
      ],
      "metadata": {
        "colab": {
          "base_uri": "https://localhost:8080/"
        },
        "id": "fCoLCmXx1tC3",
        "outputId": "2c2dc15f-29c1-4e04-df03-cb03e6494038"
      },
      "execution_count": null,
      "outputs": [
        {
          "output_type": "stream",
          "name": "stdout",
          "text": [
            "CPU times: user 441 µs, sys: 51 µs, total: 492 µs\n",
            "Wall time: 513 µs\n"
          ]
        },
        {
          "output_type": "execute_result",
          "data": {
            "text/plain": [
              "tensor(14)"
            ]
          },
          "metadata": {},
          "execution_count": 25
        }
      ]
    },
    {
      "cell_type": "code",
      "source": [
        "%%time\n",
        "torch.matmul(tensor, tensor)"
      ],
      "metadata": {
        "colab": {
          "base_uri": "https://localhost:8080/"
        },
        "id": "ThgNAMAf1w4W",
        "outputId": "6a128726-537b-4a53-9618-f77e15b3d8aa"
      },
      "execution_count": null,
      "outputs": [
        {
          "output_type": "stream",
          "name": "stdout",
          "text": [
            "CPU times: user 774 µs, sys: 875 µs, total: 1.65 ms\n",
            "Wall time: 1.89 ms\n"
          ]
        },
        {
          "output_type": "execute_result",
          "data": {
            "text/plain": [
              "tensor(14)"
            ]
          },
          "metadata": {},
          "execution_count": 26
        }
      ]
    },
    {
      "cell_type": "markdown",
      "source": [
        "There are two main rules that performing matrix multiplication needs to satisfy\n",
        "\n",
        "1.   The inner dimension must match\n",
        "*   (3, 2) @ (3, 2) will not work\n",
        "*   (2, 3) @ (3, 2) will work\n",
        "*   (3, 2) @ (2, 3) will work\n",
        "\n",
        "2.   The resulting matrix has the shape of the outer dimension\n",
        "*   (2, 3) @ (3, 2) will have shape (2, 2)\n",
        "*   (3, 2) @ (2, 3) will have shape (3, 3)\n",
        "\n",
        "\n",
        "\n"
      ],
      "metadata": {
        "id": "5U8hWipQoG7Y"
      }
    },
    {
      "cell_type": "code",
      "source": [
        "# torch.matmul(torch.rand(3, 2), torch.rand(3, 2)) # error because inner dimension\n",
        "                                # do not match"
      ],
      "metadata": {
        "id": "_f_JNkDF2um2"
      },
      "execution_count": null,
      "outputs": []
    },
    {
      "cell_type": "code",
      "source": [
        "torch.matmul(torch.rand(2, 3), torch.rand(3, 2)) # no error"
      ],
      "metadata": {
        "colab": {
          "base_uri": "https://localhost:8080/"
        },
        "id": "zLDtH3ec3cRm",
        "outputId": "4a298378-3b53-41da-81e6-339ad229d0d7"
      },
      "execution_count": null,
      "outputs": [
        {
          "output_type": "execute_result",
          "data": {
            "text/plain": [
              "tensor([[0.2433, 1.2289],\n",
              "        [0.0890, 0.5614]])"
            ]
          },
          "metadata": {},
          "execution_count": 18
        }
      ]
    },
    {
      "cell_type": "code",
      "source": [
        "torch.matmul(torch.rand(2, 3), torch.rand(3, 2)).shape"
      ],
      "metadata": {
        "colab": {
          "base_uri": "https://localhost:8080/"
        },
        "id": "plJfEX_E3m0V",
        "outputId": "96e5d1a6-970e-4ef3-97bf-70fcd77502e7"
      },
      "execution_count": null,
      "outputs": [
        {
          "output_type": "execute_result",
          "data": {
            "text/plain": [
              "torch.Size([2, 2])"
            ]
          },
          "metadata": {},
          "execution_count": 21
        }
      ]
    },
    {
      "cell_type": "markdown",
      "source": [
        "One of the most common errors in deep learning is shape error. To fix our tensor shape issues, we can manipulate the shape of one of our\n",
        "tensors using a transpose"
      ],
      "metadata": {
        "id": "8Ov63Lilo9au"
      }
    },
    {
      "cell_type": "code",
      "source": [
        "torch.matmul(torch.rand(3, 2), torch.rand(3, 2).T) # no error"
      ],
      "metadata": {
        "colab": {
          "base_uri": "https://localhost:8080/"
        },
        "id": "pszvA0bV5czP",
        "outputId": "9530e0f9-7b3b-40a2-c626-dfc6eed9b07b"
      },
      "execution_count": null,
      "outputs": [
        {
          "output_type": "execute_result",
          "data": {
            "text/plain": [
              "tensor([[0.0636, 0.6495, 0.4846],\n",
              "        [0.0420, 0.3916, 0.3926],\n",
              "        [0.0702, 0.6126, 0.7372]])"
            ]
          },
          "metadata": {},
          "execution_count": 24
        }
      ]
    },
    {
      "cell_type": "markdown",
      "source": [
        "### Tensor Aggregation"
      ],
      "metadata": {
        "id": "uAEgjjU4pH2Z"
      }
    },
    {
      "cell_type": "markdown",
      "source": [
        "**finding min, max, mean, sum, etc**"
      ],
      "metadata": {
        "id": "BiMfJh-opK8F"
      }
    },
    {
      "cell_type": "code",
      "source": [
        "tensor = torch.arange(0, 100)"
      ],
      "metadata": {
        "id": "KIc5B5zb8d2S"
      },
      "execution_count": null,
      "outputs": []
    },
    {
      "cell_type": "code",
      "source": [
        "print(f\"\\nTensor: {tensor}\")\n",
        "print(f\"Minimum value: {tensor.min}\")\n",
        "print(f\"Maximum value: {tensor.max}\")"
      ],
      "metadata": {
        "colab": {
          "base_uri": "https://localhost:8080/"
        },
        "id": "sqyILyYn8fMy",
        "outputId": "3b8e8eec-024a-40e4-ccf5-08ea56085a80"
      },
      "execution_count": null,
      "outputs": [
        {
          "output_type": "stream",
          "name": "stdout",
          "text": [
            "\n",
            "Tensor: tensor([ 0,  1,  2,  3,  4,  5,  6,  7,  8,  9, 10, 11, 12, 13, 14, 15, 16, 17,\n",
            "        18, 19, 20, 21, 22, 23, 24, 25, 26, 27, 28, 29, 30, 31, 32, 33, 34, 35,\n",
            "        36, 37, 38, 39, 40, 41, 42, 43, 44, 45, 46, 47, 48, 49, 50, 51, 52, 53,\n",
            "        54, 55, 56, 57, 58, 59, 60, 61, 62, 63, 64, 65, 66, 67, 68, 69, 70, 71,\n",
            "        72, 73, 74, 75, 76, 77, 78, 79, 80, 81, 82, 83, 84, 85, 86, 87, 88, 89,\n",
            "        90, 91, 92, 93, 94, 95, 96, 97, 98, 99])\n",
            "Minimum value: <built-in method min of Tensor object at 0x7a41fb2f6a20>\n",
            "Maximum value: <built-in method max of Tensor object at 0x7a41fb2f6a20>\n"
          ]
        }
      ]
    },
    {
      "cell_type": "markdown",
      "source": [
        "**mean doesn't work with int64 or long**"
      ],
      "metadata": {
        "id": "mE5DeUnapQtS"
      }
    },
    {
      "cell_type": "code",
      "source": [
        "print(f\"Mean: {torch.mean(tensor.type(torch.float32))}\")\n",
        "# converting to float32\n",
        "print(f\"Median: {tensor.median()}\")\n",
        "print(f\"Sum: {torch.sum(tensor)}\")"
      ],
      "metadata": {
        "colab": {
          "base_uri": "https://localhost:8080/"
        },
        "id": "PCfl0GDs84hy",
        "outputId": "5fb94c1e-3687-49b7-9e7b-7e6d910d8835"
      },
      "execution_count": null,
      "outputs": [
        {
          "output_type": "stream",
          "name": "stdout",
          "text": [
            "Mean: 49.5\n",
            "Median: 49\n",
            "Sum: 4950\n"
          ]
        }
      ]
    },
    {
      "cell_type": "markdown",
      "source": [
        "#### Positional min max of tensors\n",
        "In the context of tensors, finding positional min and max involves not only determining the minimum and maximum values but also identifying the position (*indices*) where these value occur."
      ],
      "metadata": {
        "id": "mrlExlqRp92f"
      }
    },
    {
      "cell_type": "code",
      "source": [
        "\n",
        "print(f\"Position of minimum value: {tensor.argmin()}\")\n",
        "# returns the index position where the minimum value occurs\n",
        "\n",
        "print(f\"Position of maximum value: {tensor.argmax()}\")\n",
        "# returns the index position where the minimum value occurs"
      ],
      "metadata": {
        "colab": {
          "base_uri": "https://localhost:8080/"
        },
        "id": "7pN13hxC-UEA",
        "outputId": "6166646d-89dd-4818-f061-7f4b6dec5b30"
      },
      "execution_count": null,
      "outputs": [
        {
          "output_type": "stream",
          "name": "stdout",
          "text": [
            "Position of minimum value: 53\n",
            "Position of maximum value: 7\n"
          ]
        }
      ]
    },
    {
      "cell_type": "code",
      "source": [
        "tensor = torch.rand(8, 8)"
      ],
      "metadata": {
        "id": "02XtCg9v-huf"
      },
      "execution_count": null,
      "outputs": []
    },
    {
      "cell_type": "code",
      "source": [
        "print(f\"Tensor: {tensor}\")\n",
        "print(f\"Position of minimum value: {tensor.argmin()}\")\n",
        "print(f\"Position of maximum value: {tensor.argmax()}\")"
      ],
      "metadata": {
        "colab": {
          "base_uri": "https://localhost:8080/"
        },
        "id": "qH1JIwBs-l2R",
        "outputId": "8391e63a-2614-4206-806c-35cce2c14579"
      },
      "execution_count": null,
      "outputs": [
        {
          "output_type": "stream",
          "name": "stdout",
          "text": [
            "Tensor: tensor([[9.1966e-01, 2.7856e-02, 8.5210e-01, 8.5290e-01, 2.8515e-01, 4.7567e-01,\n",
            "         7.3274e-01, 9.8351e-01],\n",
            "        [1.4489e-01, 3.4806e-01, 5.9828e-02, 2.3390e-01, 5.1137e-01, 9.0029e-01,\n",
            "         4.7636e-01, 6.9137e-01],\n",
            "        [8.3104e-02, 8.3162e-01, 5.2739e-01, 3.1169e-01, 4.1097e-01, 2.3216e-02,\n",
            "         6.4255e-01, 4.5943e-01],\n",
            "        [7.4951e-02, 5.2587e-01, 2.4780e-02, 4.1653e-01, 9.3602e-01, 9.1294e-01,\n",
            "         4.1436e-02, 7.7510e-01],\n",
            "        [8.0107e-01, 7.5273e-01, 8.5156e-01, 5.7133e-01, 5.0669e-01, 6.3028e-01,\n",
            "         1.6166e-01, 5.3324e-03],\n",
            "        [7.0224e-01, 4.9582e-01, 5.5058e-01, 4.7480e-01, 5.7500e-01, 3.1480e-01,\n",
            "         9.0592e-01, 7.0695e-01],\n",
            "        [6.0275e-03, 1.5420e-01, 5.2672e-01, 4.6139e-01, 7.6842e-01, 6.2776e-04,\n",
            "         9.2860e-01, 9.4003e-01],\n",
            "        [9.0865e-01, 1.2922e-01, 4.7545e-01, 3.4608e-01, 6.1136e-01, 9.1591e-01,\n",
            "         5.7778e-01, 8.0731e-01]])\n",
            "Position of minimum value: 53\n",
            "Position of maximum value: 7\n"
          ]
        }
      ]
    },
    {
      "cell_type": "markdown",
      "source": [
        "### Reshaping, Stacking, Qqueezing and Unsqueezing Tensors"
      ],
      "metadata": {
        "id": "NhuE2rkwzxc8"
      }
    },
    {
      "cell_type": "markdown",
      "source": [
        "\n",
        "\n",
        "*   **Reshaping** - reshapes an input tensor to a defined shape\n",
        "*   **View** -  return a view of an input tensor of certain but keep the same memory as the originial tensor\n",
        "*   **Stacking** - combine multiple tensors on top of each other\n",
        "*   **Squeeze** -  remove all `1` dimensions from a tensor\n",
        "*   **Unsqueeze** - add a `1` dimension to a target tensor\n",
        "*   **Permute** - return a view of the input with dimensions permuted (swapped) in a certain way"
      ],
      "metadata": {
        "id": "nGgnQiV7z-FA"
      }
    },
    {
      "cell_type": "code",
      "source": [
        "tensor = torch.rand(3, 5)\n",
        "tensor, tensor.shape"
      ],
      "metadata": {
        "colab": {
          "base_uri": "https://localhost:8080/"
        },
        "id": "PHdc7oZNGDhP",
        "outputId": "cf432ea8-ab51-45eb-f081-5b711b051ca2"
      },
      "execution_count": null,
      "outputs": [
        {
          "output_type": "execute_result",
          "data": {
            "text/plain": [
              "(tensor([[0.3823, 0.7687, 0.2623, 0.4473, 0.1350],\n",
              "         [0.0723, 0.2757, 0.5578, 0.1750, 0.6667],\n",
              "         [0.7786, 0.0263, 0.6258, 0.8889, 0.8857]]),\n",
              " torch.Size([3, 5]))"
            ]
          },
          "metadata": {},
          "execution_count": 17
        }
      ]
    },
    {
      "cell_type": "code",
      "source": [
        "tensor_reshaped = tensor.reshape(1, 15)\n",
        "tensor_reshaped, tensor_reshaped.shape"
      ],
      "metadata": {
        "colab": {
          "base_uri": "https://localhost:8080/"
        },
        "id": "HFg-J2vyGMov",
        "outputId": "55729216-c18d-4bc0-b6d4-bd3ae4428e9e"
      },
      "execution_count": null,
      "outputs": [
        {
          "output_type": "execute_result",
          "data": {
            "text/plain": [
              "(tensor([[0.3823, 0.7687, 0.2623, 0.4473, 0.1350, 0.0723, 0.2757, 0.5578, 0.1750,\n",
              "          0.6667, 0.7786, 0.0263, 0.6258, 0.8889, 0.8857]]),\n",
              " torch.Size([1, 15]))"
            ]
          },
          "metadata": {},
          "execution_count": 18
        }
      ]
    },
    {
      "cell_type": "code",
      "source": [
        "z = tensor.view(3, 5) #changing z changes tensor (because a view of tensor shares\n",
        "                    # the same memory as original)\n",
        "z, z.shape"
      ],
      "metadata": {
        "colab": {
          "base_uri": "https://localhost:8080/"
        },
        "id": "GuWvgZxEGarO",
        "outputId": "8552e668-436a-408b-d1c5-b84411bc7870"
      },
      "execution_count": null,
      "outputs": [
        {
          "output_type": "execute_result",
          "data": {
            "text/plain": [
              "(tensor([[0.1364, 0.2351, 0.1271, 0.8342, 0.5425],\n",
              "         [0.7679, 0.2764, 0.1265, 0.2041, 0.3384],\n",
              "         [0.8958, 0.1590, 0.2624, 0.5675, 0.2305]]),\n",
              " torch.Size([3, 5]))"
            ]
          },
          "metadata": {},
          "execution_count": 78
        }
      ]
    },
    {
      "cell_type": "code",
      "source": [
        "z[:, 0] = 5"
      ],
      "metadata": {
        "id": "HotnvjPpIAfu"
      },
      "execution_count": null,
      "outputs": []
    },
    {
      "cell_type": "code",
      "source": [
        "tensor"
      ],
      "metadata": {
        "colab": {
          "base_uri": "https://localhost:8080/"
        },
        "id": "wzWtAxaUIeEA",
        "outputId": "5b4b292b-2bb7-443f-e84d-28985e4a2a3d"
      },
      "execution_count": null,
      "outputs": [
        {
          "output_type": "execute_result",
          "data": {
            "text/plain": [
              "tensor([[5.0000, 0.2351, 0.1271, 0.8342, 0.5425],\n",
              "        [5.0000, 0.2764, 0.1265, 0.2041, 0.3384],\n",
              "        [5.0000, 0.1590, 0.2624, 0.5675, 0.2305]])"
            ]
          },
          "metadata": {},
          "execution_count": 80
        }
      ]
    },
    {
      "cell_type": "markdown",
      "source": [
        "**Stacking** combines multiple tensors along a new dimension. This is useful for creating batches of data or combining ouputs from different models\n"
      ],
      "metadata": {
        "id": "f0wVNksB3aVn"
      }
    },
    {
      "cell_type": "code",
      "source": [
        "# stacks tensors on top of each other\n",
        "x_stacked = torch.stack([tensor, tensor], dim=2)\n",
        "x_stacked"
      ],
      "metadata": {
        "colab": {
          "base_uri": "https://localhost:8080/"
        },
        "id": "FrulzHCkIgqd",
        "outputId": "b8ecadf4-e5b6-4d11-9fd0-ce41e463ce9e"
      },
      "execution_count": null,
      "outputs": [
        {
          "output_type": "execute_result",
          "data": {
            "text/plain": [
              "tensor([[[5.0000, 5.0000],\n",
              "         [0.2351, 0.2351],\n",
              "         [0.1271, 0.1271],\n",
              "         [0.8342, 0.8342],\n",
              "         [0.5425, 0.5425]],\n",
              "\n",
              "        [[5.0000, 5.0000],\n",
              "         [0.2764, 0.2764],\n",
              "         [0.1265, 0.1265],\n",
              "         [0.2041, 0.2041],\n",
              "         [0.3384, 0.3384]],\n",
              "\n",
              "        [[5.0000, 5.0000],\n",
              "         [0.1590, 0.1590],\n",
              "         [0.2624, 0.2624],\n",
              "         [0.5675, 0.5675],\n",
              "         [0.2305, 0.2305]]])"
            ]
          },
          "metadata": {},
          "execution_count": 83
        }
      ]
    },
    {
      "cell_type": "markdown",
      "source": [
        "**Squeezing** removes dimensions of size 1 from a tensor. This is useful for removing unnecessary dimensions, especially after operations like aggregations that can add extra dimensions."
      ],
      "metadata": {
        "id": "-DZlqRlF5jn5"
      }
    },
    {
      "cell_type": "code",
      "source": [
        "tensor = torch.tensor([[[1, 2, 3], [4, 5, 6]]])\n",
        "print(\"Original Tensor with extra dimension:\\n\", tensor)\n",
        "print(\"Original Tensor dimension:\", tensor.ndim)\n",
        "\n",
        "# Squeeze the tensor to remove dimensions of size 1\n",
        "squeezed_tensor = tensor.squeeze()\n",
        "print(\"\\nSqueezed Tensor:\\n\", squeezed_tensor)\n",
        "print(\"Squeezed Tensor dimension:\", squeezed_tensor.ndim)\n"
      ],
      "metadata": {
        "colab": {
          "base_uri": "https://localhost:8080/"
        },
        "id": "jqZIa7eJIvId",
        "outputId": "86f69292-a00f-4614-cee3-f60ff631f888"
      },
      "execution_count": null,
      "outputs": [
        {
          "output_type": "stream",
          "name": "stdout",
          "text": [
            "Original Tensor with extra dimension:\n",
            " tensor([[[1, 2, 3],\n",
            "         [4, 5, 6]]])\n",
            "Original Tensor dimension: 3\n",
            "\n",
            "Squeezed Tensor:\n",
            " tensor([[1, 2, 3],\n",
            "        [4, 5, 6]])\n",
            "Squeezed Tensor dimension: 2\n"
          ]
        }
      ]
    },
    {
      "cell_type": "markdown",
      "source": [
        "**Unsqueezing** adds a dimension of size 1 to a tensor. This is useful when you need to add a batch dimension or channel dimension for specific operations or model requirements."
      ],
      "metadata": {
        "id": "FDytBC1O7wbZ"
      }
    },
    {
      "cell_type": "code",
      "source": [
        "tensor = torch.tensor([[1, 2, 3], [4, 5, 6]])\n",
        "print(\"Original Tensor:\\n\", tensor)\n",
        "print(\"Original Tensor dimension:\", tensor.ndim)\n",
        "\n",
        "# Unsqueeze the tensor to add a new dimension at dim=0\n",
        "unsqueezed_tensor = tensor.unsqueeze(dim=0)\n",
        "print(\"Unsqueezed Tensor along dim=0:\\n\", unsqueezed_tensor)\n",
        "print(\"Unsqueezed Tensor dimension:\", unsqueezed_tensor.ndim)\n"
      ],
      "metadata": {
        "colab": {
          "base_uri": "https://localhost:8080/"
        },
        "id": "08pRlBKGJSrN",
        "outputId": "798bfa1a-5942-432f-95f6-08f6cba763aa"
      },
      "execution_count": null,
      "outputs": [
        {
          "output_type": "stream",
          "name": "stdout",
          "text": [
            "Original Tensor:\n",
            " tensor([[1, 2, 3],\n",
            "        [4, 5, 6]])\n",
            "Original Tensor dimension: 2\n",
            "Unsqueezed Tensor along dim=0:\n",
            " tensor([[[1, 2, 3],\n",
            "         [4, 5, 6]]])\n",
            "Unsqueezed Tensor dimension: 3\n"
          ]
        }
      ]
    },
    {
      "cell_type": "code",
      "source": [
        "# torch.permute - rearranges the dimensions of a target tensor in a specified order\n",
        "# commonly used for images\n",
        "x_original = torch.rand(size=(224, 224, 3))\n",
        "x_permuted = x_original.permute(2, 0, 1) # the 2nd index (3) is re-ordered to start\n",
        "\n",
        "# re-orders the shape indexes\n",
        "\n",
        "print(f\"Original shape: {x_original.shape}\")\n",
        "print(f\"Permuted shape: {x_permuted.shape}\")"
      ],
      "metadata": {
        "colab": {
          "base_uri": "https://localhost:8080/"
        },
        "id": "OQg9nM3HJ1Hc",
        "outputId": "1b664cab-71b7-4f7d-f0e0-2d02a2c17c48"
      },
      "execution_count": null,
      "outputs": [
        {
          "output_type": "stream",
          "name": "stdout",
          "text": [
            "Original shape: torch.Size([224, 224, 3])\n",
            "Permuted shape: torch.Size([3, 224, 224])\n"
          ]
        }
      ]
    },
    {
      "cell_type": "code",
      "source": [
        "# numpy and pytorch\n",
        "# numpy to pytorch (torch.from_numpy(ndarray))\n",
        "# pytorch to numpy (torch.Tensor.numpy())"
      ],
      "metadata": {
        "id": "wEnia26sKsXL"
      },
      "execution_count": null,
      "outputs": []
    },
    {
      "cell_type": "code",
      "source": [
        "array = np.arange(1.0, 8.0)\n",
        "tensor = torch.from_numpy(array) #numpy default datatype is float64\n",
        "tensor"
      ],
      "metadata": {
        "colab": {
          "base_uri": "https://localhost:8080/"
        },
        "id": "mk7dPhSLWy0E",
        "outputId": "a865e3b7-b364-4fed-da29-f3cc9db3872d"
      },
      "execution_count": null,
      "outputs": [
        {
          "output_type": "execute_result",
          "data": {
            "text/plain": [
              "tensor([1., 2., 3., 4., 5., 6., 7.], dtype=torch.float64)"
            ]
          },
          "metadata": {},
          "execution_count": 98
        }
      ]
    },
    {
      "cell_type": "code",
      "source": [
        "tensor = torch.ones(7)\n",
        "numpy_tensor = tensor.numpy()\n",
        "numpy_tensor, numpy_tensor.dtype"
      ],
      "metadata": {
        "colab": {
          "base_uri": "https://localhost:8080/"
        },
        "id": "_hsZA07RW7Fz",
        "outputId": "f6cc2711-7b43-477c-da74-7f799e2f0501"
      },
      "execution_count": null,
      "outputs": [
        {
          "output_type": "execute_result",
          "data": {
            "text/plain": [
              "(array([1., 1., 1., 1., 1., 1., 1.], dtype=float32), dtype('float32'))"
            ]
          },
          "metadata": {},
          "execution_count": 99
        }
      ]
    },
    {
      "cell_type": "markdown",
      "source": [
        "### Python Reproduceability"
      ],
      "metadata": {
        "id": "zQGcDlqo8PCL"
      }
    },
    {
      "cell_type": "markdown",
      "source": [
        "**Reproduceability in PyTorch** (or any other machine learning framework) refers to the ability to consistently reproduce the same results given the same input and condition. This is cruical for debugging, verifying experiments, and comparing models"
      ],
      "metadata": {
        "id": "5ItIpTPv8bOq"
      }
    },
    {
      "cell_type": "markdown",
      "source": [
        "Achieving reproduceability ensures that the results are reliable and can be independently verified by others or by yourself at a later time"
      ],
      "metadata": {
        "id": "Q6iKD2YI8tYS"
      }
    },
    {
      "cell_type": "code",
      "source": [
        "random_A = torch.rand(3, 4)\n",
        "random_B = torch.rand(3, 4)\n",
        "\n",
        "print(f\"Random tensor A: {random_A}\")\n",
        "print(f\"Random tensor B: {random_B}\")\n",
        "print(random_A == random_B)"
      ],
      "metadata": {
        "id": "t8G4j3eXYFOE",
        "colab": {
          "base_uri": "https://localhost:8080/"
        },
        "outputId": "643599c1-778b-4a48-bcaa-a7a6c23fc8eb"
      },
      "execution_count": null,
      "outputs": [
        {
          "output_type": "stream",
          "name": "stdout",
          "text": [
            "Random tensor A: tensor([[0.0482, 0.7124, 0.8801, 0.6303],\n",
            "        [0.4352, 0.1096, 0.8976, 0.8997],\n",
            "        [0.2484, 0.4821, 0.9280, 0.9965]])\n",
            "Random tensor B: tensor([[0.5120, 0.8107, 0.0403, 0.4691],\n",
            "        [0.2694, 0.5730, 0.2722, 0.0104],\n",
            "        [0.5658, 0.4776, 0.8009, 0.8854]])\n",
            "tensor([[False, False, False, False],\n",
            "        [False, False, False, False],\n",
            "        [False, False, False, False]])\n"
          ]
        }
      ]
    },
    {
      "cell_type": "markdown",
      "source": [
        "Setting seeds for random number generators ensures that the pseudo-random numbers generated are the same each time.\n",
        "<br/>\n",
        "`Random number generators` in computers are not truly random but pseudo-random. The use deterministic algorithms to produces sequences of numbers that only appear to be random"
      ],
      "metadata": {
        "id": "qI_09j8s8_56"
      }
    },
    {
      "cell_type": "code",
      "source": [
        "# lets make some random but reproduceable tensors\n",
        "\n",
        "RANDOM_SEED = 2 # const that's why capitalized\n",
        "\n",
        "torch.manual_seed(RANDOM_SEED) #set seed for PyTorch\n",
        "random_C = torch.rand(3, 4)\n",
        "\n",
        "torch.manual_seed(RANDOM_SEED)\n",
        "random_D = torch.rand(3, 4)\n",
        "\n",
        "print(f\"Random tensor C: {random_C}\")\n",
        "print(f\"Random tensor D: {random_D}\")\n",
        "print(random_C == random_D)\n"
      ],
      "metadata": {
        "colab": {
          "base_uri": "https://localhost:8080/"
        },
        "id": "_7mzojKxBbCp",
        "outputId": "6db09237-e44e-4146-826a-64e2200dc1ce"
      },
      "execution_count": null,
      "outputs": [
        {
          "output_type": "stream",
          "name": "stdout",
          "text": [
            "Random tensor C: tensor([[0.6147, 0.3810, 0.6371, 0.4745],\n",
            "        [0.7136, 0.6190, 0.4425, 0.0958],\n",
            "        [0.6142, 0.0573, 0.5657, 0.5332]])\n",
            "Random tensor D: tensor([[0.6147, 0.3810, 0.6371, 0.4745],\n",
            "        [0.7136, 0.6190, 0.4425, 0.0958],\n",
            "        [0.6142, 0.0573, 0.5657, 0.5332]])\n",
            "tensor([[True, True, True, True],\n",
            "        [True, True, True, True],\n",
            "        [True, True, True, True]])\n"
          ]
        }
      ]
    },
    {
      "cell_type": "markdown",
      "source": [
        "**Read**\n",
        "<br/>\n",
        "https://pytorch.org/docs/stable/notes/randomness.html\n",
        "<br/>\n",
        "https://en.wikipedia.org/wiki/Random_seed"
      ],
      "metadata": {
        "id": "2EOSTOoSCntm"
      }
    },
    {
      "cell_type": "markdown",
      "source": [
        "### Putting tensors and models on GPU"
      ],
      "metadata": {
        "id": "-tXyLZwD7brD"
      }
    },
    {
      "cell_type": "markdown",
      "source": [
        "The reason we want our tensors/models on the GPU is because using a GPU results in faster calculation"
      ],
      "metadata": {
        "id": "QKTIf-_g7mxk"
      }
    },
    {
      "cell_type": "code",
      "source": [
        "# create a tensor (on CPU)\n",
        "tensor = torch.tensor([1, 2, 3], device= 'cpu')\n",
        "tensor"
      ],
      "metadata": {
        "id": "fMzZYvjREpIz",
        "colab": {
          "base_uri": "https://localhost:8080/"
        },
        "outputId": "27c233d0-5671-44a1-9320-fcbd95f2b35f"
      },
      "execution_count": null,
      "outputs": [
        {
          "output_type": "execute_result",
          "data": {
            "text/plain": [
              "tensor([1, 2, 3])"
            ]
          },
          "metadata": {},
          "execution_count": 30
        }
      ]
    },
    {
      "cell_type": "code",
      "source": [
        "tensor = torch.tensor([1, 2, 3], device='cuda')\n",
        "tensor"
      ],
      "metadata": {
        "id": "WiTieEvZxsjT",
        "colab": {
          "base_uri": "https://localhost:8080/",
          "height": 309
        },
        "outputId": "0f089fd6-2862-4ada-f629-c04f641f1917"
      },
      "execution_count": null,
      "outputs": [
        {
          "output_type": "error",
          "ename": "RuntimeError",
          "evalue": "Found no NVIDIA driver on your system. Please check that you have an NVIDIA GPU and installed a driver from http://www.nvidia.com/Download/index.aspx",
          "traceback": [
            "\u001b[0;31m---------------------------------------------------------------------------\u001b[0m",
            "\u001b[0;31mRuntimeError\u001b[0m                              Traceback (most recent call last)",
            "\u001b[0;32m<ipython-input-32-18ef09b9771b>\u001b[0m in \u001b[0;36m<cell line: 1>\u001b[0;34m()\u001b[0m\n\u001b[0;32m----> 1\u001b[0;31m \u001b[0mtensor\u001b[0m \u001b[0;34m=\u001b[0m \u001b[0mtorch\u001b[0m\u001b[0;34m.\u001b[0m\u001b[0mtensor\u001b[0m\u001b[0;34m(\u001b[0m\u001b[0;34m[\u001b[0m\u001b[0;36m1\u001b[0m\u001b[0;34m,\u001b[0m \u001b[0;36m2\u001b[0m\u001b[0;34m,\u001b[0m \u001b[0;36m3\u001b[0m\u001b[0;34m]\u001b[0m\u001b[0;34m,\u001b[0m \u001b[0mdevice\u001b[0m\u001b[0;34m=\u001b[0m\u001b[0;34m'cuda'\u001b[0m\u001b[0;34m)\u001b[0m\u001b[0;34m\u001b[0m\u001b[0;34m\u001b[0m\u001b[0m\n\u001b[0m\u001b[1;32m      2\u001b[0m \u001b[0mtensor\u001b[0m\u001b[0;34m\u001b[0m\u001b[0;34m\u001b[0m\u001b[0m\n",
            "\u001b[0;32m/usr/local/lib/python3.10/dist-packages/torch/cuda/__init__.py\u001b[0m in \u001b[0;36m_lazy_init\u001b[0;34m()\u001b[0m\n\u001b[1;32m    291\u001b[0m         \u001b[0;32mif\u001b[0m \u001b[0;34m\"CUDA_MODULE_LOADING\"\u001b[0m \u001b[0;32mnot\u001b[0m \u001b[0;32min\u001b[0m \u001b[0mos\u001b[0m\u001b[0;34m.\u001b[0m\u001b[0menviron\u001b[0m\u001b[0;34m:\u001b[0m\u001b[0;34m\u001b[0m\u001b[0;34m\u001b[0m\u001b[0m\n\u001b[1;32m    292\u001b[0m             \u001b[0mos\u001b[0m\u001b[0;34m.\u001b[0m\u001b[0menviron\u001b[0m\u001b[0;34m[\u001b[0m\u001b[0;34m\"CUDA_MODULE_LOADING\"\u001b[0m\u001b[0;34m]\u001b[0m \u001b[0;34m=\u001b[0m \u001b[0;34m\"LAZY\"\u001b[0m\u001b[0;34m\u001b[0m\u001b[0;34m\u001b[0m\u001b[0m\n\u001b[0;32m--> 293\u001b[0;31m         \u001b[0mtorch\u001b[0m\u001b[0;34m.\u001b[0m\u001b[0m_C\u001b[0m\u001b[0;34m.\u001b[0m\u001b[0m_cuda_init\u001b[0m\u001b[0;34m(\u001b[0m\u001b[0;34m)\u001b[0m\u001b[0;34m\u001b[0m\u001b[0;34m\u001b[0m\u001b[0m\n\u001b[0m\u001b[1;32m    294\u001b[0m         \u001b[0;31m# Some of the queued calls may reentrantly call _lazy_init();\u001b[0m\u001b[0;34m\u001b[0m\u001b[0;34m\u001b[0m\u001b[0m\n\u001b[1;32m    295\u001b[0m         \u001b[0;31m# we need to just return without initializing in that case.\u001b[0m\u001b[0;34m\u001b[0m\u001b[0;34m\u001b[0m\u001b[0m\n",
            "\u001b[0;31mRuntimeError\u001b[0m: Found no NVIDIA driver on your system. Please check that you have an NVIDIA GPU and installed a driver from http://www.nvidia.com/Download/index.aspx"
          ]
        }
      ]
    },
    {
      "cell_type": "markdown",
      "source": [
        "# PyTorch Workflow"
      ],
      "metadata": {
        "id": "1erhW1g48Luk"
      }
    },
    {
      "cell_type": "markdown",
      "source": [
        "Typically pytorch workflow includes\n",
        "\n",
        "1.   Get data ready\n",
        "2.   Build or pock a pre-trained model\n",
        "      *   Build a trainig loop\n",
        "      *   Pick a loss funciton optimizer\n",
        "      *   Repeat the step 2\n",
        "\n",
        "3.   Fit the model to data to make prediction\n",
        "4.   Evaluate the model\n",
        "5.   Improve through experimentation\n",
        "6.   Save and reload your trained model\n",
        "\n"
      ],
      "metadata": {
        "id": "acvAfej3-fpg"
      }
    },
    {
      "cell_type": "code",
      "source": [
        "weight = 0.7\n",
        "bias = 0.3"
      ],
      "metadata": {
        "id": "Qyyb6zOYKo_9"
      },
      "execution_count": null,
      "outputs": []
    },
    {
      "cell_type": "code",
      "source": [
        "start = 0\n",
        "end = 1\n",
        "step = 0.02\n",
        "\n",
        "X = torch.arange(start, end, step).unsqueeze(dim=1)  # capital because mostly it is matrix or tensor\n",
        "y = weight * X + bias\n",
        "\n",
        "X[:10], y[:10]"
      ],
      "metadata": {
        "colab": {
          "base_uri": "https://localhost:8080/"
        },
        "id": "i_ABMpu2LVHq",
        "outputId": "5650961f-97d2-49bb-ddf3-59dd255a1f10"
      },
      "execution_count": null,
      "outputs": [
        {
          "output_type": "execute_result",
          "data": {
            "text/plain": [
              "(tensor([[0.0000],\n",
              "         [0.0200],\n",
              "         [0.0400],\n",
              "         [0.0600],\n",
              "         [0.0800],\n",
              "         [0.1000],\n",
              "         [0.1200],\n",
              "         [0.1400],\n",
              "         [0.1600],\n",
              "         [0.1800]]),\n",
              " tensor([[0.3000],\n",
              "         [0.3140],\n",
              "         [0.3280],\n",
              "         [0.3420],\n",
              "         [0.3560],\n",
              "         [0.3700],\n",
              "         [0.3840],\n",
              "         [0.3980],\n",
              "         [0.4120],\n",
              "         [0.4260]]))"
            ]
          },
          "metadata": {},
          "execution_count": 10
        }
      ]
    },
    {
      "cell_type": "code",
      "source": [
        "len(X), len(y)"
      ],
      "metadata": {
        "colab": {
          "base_uri": "https://localhost:8080/"
        },
        "id": "LV_UdZnVLtiq",
        "outputId": "d63a4a0c-650e-4192-e3c1-68f23e2bbb11"
      },
      "execution_count": null,
      "outputs": [
        {
          "output_type": "execute_result",
          "data": {
            "text/plain": [
              "(50, 50)"
            ]
          },
          "metadata": {},
          "execution_count": 11
        }
      ]
    },
    {
      "cell_type": "markdown",
      "source": [
        "### Training data"
      ],
      "metadata": {
        "id": "TUU0094M25Y8"
      }
    },
    {
      "cell_type": "markdown",
      "source": [
        "Splitting data into training and test set is the most important concept in machine learning.\n",
        "<br/>\n",
        "In general\n",
        "*   Training data (60-80)%\n",
        "*   Validation data (10-20 of)% (not always used)\n",
        "*   Test data (10-20)%"
      ],
      "metadata": {
        "id": "CYgtSe-W_9iw"
      }
    },
    {
      "cell_type": "code",
      "source": [
        "train_split = int(0.8 * len(X))\n",
        "X_train, y_train = X[:train_split], y[:train_split]\n",
        "\n",
        "X_test, y_test = X[train_split:], y[train_split:]"
      ],
      "metadata": {
        "id": "pLN0rv_yMMpa"
      },
      "execution_count": null,
      "outputs": []
    },
    {
      "cell_type": "code",
      "source": [
        "len(X_train), len(y_train), len(X_test), len(y_test)"
      ],
      "metadata": {
        "colab": {
          "base_uri": "https://localhost:8080/"
        },
        "id": "jpjp1Nx7N-L0",
        "outputId": "9123d2ee-2dbc-453b-c18f-0278131d15e8"
      },
      "execution_count": null,
      "outputs": [
        {
          "output_type": "execute_result",
          "data": {
            "text/plain": [
              "(40, 40, 10, 10)"
            ]
          },
          "metadata": {},
          "execution_count": 13
        }
      ]
    },
    {
      "cell_type": "markdown",
      "source": [
        "### Visualizing Data\n",
        "After splitting the training and testing data, it is a good practice to visualize data to see any visible patterns or outliers"
      ],
      "metadata": {
        "id": "248g_e433DxS"
      }
    },
    {
      "cell_type": "code",
      "source": [
        "def plot_predictions(train_data = X_train,\n",
        "                     train_labels = y_train,\n",
        "                     test_data = X_test,\n",
        "                     test_labels = y_test,\n",
        "                     predictions = None):\n",
        "  \"\"\"\n",
        "  Plot training data, test data and compares predictions\n",
        "  \"\"\"\n",
        "\n",
        "  plt.figure(figsize=(10, 7))\n",
        "  plt.scatter(train_data, train_labels, c='b', s=4, label='Training data')\n",
        "            # color blue and size is 4\n",
        "\n",
        "  plt.scatter(test_data, test_labels, c='g', s=4, label='Test data')\n",
        "  if predictions is not None:\n",
        "    # plot predictions if they exists\n",
        "    plt.scatter(test_data, predictions, c='r', s=4, label='Predictions')\n",
        "\n",
        "  plt.legend(prop={\"size\": 14})\n"
      ],
      "metadata": {
        "id": "d3drZ4FkODKo"
      },
      "execution_count": null,
      "outputs": []
    },
    {
      "cell_type": "code",
      "source": [
        "plot_predictions()"
      ],
      "metadata": {
        "colab": {
          "base_uri": "https://localhost:8080/",
          "height": 599
        },
        "id": "aCItTUOHPn0Y",
        "outputId": "0abbdf43-3e22-4145-e7c6-868ace5ec3a0"
      },
      "execution_count": null,
      "outputs": [
        {
          "output_type": "display_data",
          "data": {
            "text/plain": [
              "<Figure size 1000x700 with 1 Axes>"
            ],
            "image/png": "[encoded data removed]"
          },
          "metadata": {}
        }
      ]
    },
    {
      "cell_type": "markdown",
      "source": [
        "### Selecting Model"
      ],
      "metadata": {
        "id": "J2xO9mNW3Bv6"
      }
    },
    {
      "cell_type": "markdown",
      "source": [
        "Initially, lets consider using the simplest model out there, `Linear Regression Model`\n",
        "<br/>\n",
        "**y = x * weight + bias**"
      ],
      "metadata": {
        "id": "TJRZrIYZAcLX"
      }
    },
    {
      "cell_type": "markdown",
      "source": [
        "We need to estimate the value of *weight* abd *bias*, which are parameters in our model, based on the data we have, such that the values of **y** through the model actually measure the data we have in **x**"
      ],
      "metadata": {
        "id": "NaO9Z56mAv3K"
      }
    },
    {
      "cell_type": "code",
      "source": [
        "# Module is the base class for all neural network modules in PyTorch. Your\n",
        "# models should subclass this\n",
        "\n",
        "class LinearRegressionModel(nn.Module):\n",
        "  def __init__(self):\n",
        "    super().__init__()\n",
        "    # nn.Parameter tells PyTorch that a tensor should be considered a parameter\n",
        "    # of a module and will be automatically added to list of its parameters\n",
        "    # Parameter is typically used to define learnablke parameters in custom\n",
        "    # layers\n",
        "    self.weights = nn.Parameter(torch.randn(1,\n",
        "                                            requires_grad=True,\n",
        "                                            dtype=torch.float))\n",
        "    self.bias = nn.Parameter(torch.randn(1,\n",
        "                                         requires_grad=True,\n",
        "                                         dtype=torch.float))\n",
        "\n",
        "  # Forward method defines the computation performed at every call of the module\n",
        "  # It is where you specify the operations that happen during the forward pass of\n",
        "  # your network. It is required\n",
        "  def forward(self, x:torch.Tensor)->torch.Tensor:\n",
        "    return self.weights * x + self.bias"
      ],
      "metadata": {
        "id": "yB-FKBCw_3Pd"
      },
      "execution_count": null,
      "outputs": []
    },
    {
      "cell_type": "markdown",
      "source": [
        "We start with random values of weight and bias, look at training data, and adjust the random values to better represent (or get\n",
        "closer to) the ideal values that better fit the actual data"
      ],
      "metadata": {
        "id": "epnFCpL4BGnI"
      }
    },
    {
      "cell_type": "markdown",
      "source": [
        "This is done by\n",
        "\n",
        "1.   Gradient Descent\n",
        "2.   Backpropagation\n",
        "\n"
      ],
      "metadata": {
        "id": "f46N8GU2BXV-"
      }
    },
    {
      "cell_type": "markdown",
      "source": [
        "### Model Learning and Loss Functions"
      ],
      "metadata": {
        "id": "8LtjzGi43ciL"
      }
    },
    {
      "cell_type": "markdown",
      "source": [
        "A loss function (or cost function) is a function that computes a single numerical value\n",
        "that the learning process will attempt to minimize."
      ],
      "metadata": {
        "id": "dc4QzXscBXq4"
      }
    },
    {
      "cell_type": "markdown",
      "source": [
        "Conceptually, a loss function is a way of prioritizing which errors to fix from our\n",
        "training samples, so that our parameter updates result in adjustments to the outputs for\n",
        "the highly weighted samples instead of changes to some other samples’ output that had\n",
        "a smaller loss."
      ],
      "metadata": {
        "id": "lfIJ-3SHBUyk"
      }
    },
    {
      "cell_type": "markdown",
      "source": [
        "#### Backpropagation\n",
        "**Backpropagation**, short for `backward propagation of errors` is a fundamental algorithm for training neural networks. It computes the gradient of loss function function with respect to each weight by using chain rule"
      ],
      "metadata": {
        "id": "bC9WkBEe9cl_"
      }
    },
    {
      "cell_type": "markdown",
      "source": [
        "Steps of backpropagation involves\n",
        "\n",
        "1.   Forward Pass\n",
        "    *   The input data is passed through the network layer by layer, to compute the output (predictions)\n",
        "\n",
        "2.   Loss Calculation\n",
        "    *   Calculate the loss using the predicted output and actual target\n",
        "    *   The loss function compares the network's predictions with the actual target values to measure the prediction error\n",
        "    *   Minimizing the loss error improves the model prediction\n",
        "\n",
        "3.   Backward propagation\n",
        "    *  Compute the gradient of the loss with respect to the output layers parameters\n",
        "    *  Propagate the error backward through each layer\n",
        "\n",
        "4.   Update parameters\n",
        "    *  Update the weights and biases using gradient descent\n",
        "\n"
      ],
      "metadata": {
        "id": "E-zk3_FB97yY"
      }
    },
    {
      "cell_type": "markdown",
      "source": [
        "#### Gradient Descent\n",
        "**Gradient descent** is an optimization algorithm used to minimize the loss function in the machine and deep learning algorithms. Minimizing the cost funciton improves model accuracy"
      ],
      "metadata": {
        "id": "fm-aanIT9F7G"
      }
    },
    {
      "cell_type": "markdown",
      "source": [
        "Neural network uses gradient descent to learn by following the steps\n",
        "\n",
        "1.   Randomly initializes the network weight weights and biases\n",
        "2.   Pass the input data through network to obtain output predictions\n",
        "    *  This involves calculating weighted sums and applying activation function\n",
        "\n",
        "3. We compute the loss using predicted output and the actual target values\n",
        "4. We calcualte the gradient of loss function\n",
        "    *  Gradient points in the direction of steepest decrease in loss function\n",
        "\n",
        "5. We update the network parameter using gradients calculated during backpropagation\n",
        "\n",
        "6. Repeat the steps unitl the loss converges to minimum value\n",
        "\n"
      ],
      "metadata": {
        "id": "roRqN4G-_Xb9"
      }
    },
    {
      "cell_type": "markdown",
      "source": [
        "**The difference b/w gradient and backpropagation is**\n",
        "*   *Backpropagation* is used to calculate the error and figure out how each part of the neural network contributed to error\n",
        "  * Happens after the network has made a prediction and we know how wrong it was\n",
        "\n",
        "*   *Gradient descent* is an optimization technique/algorithm that updates the neural network weight to minimize the error\n",
        "  * It happens after backpropagation"
      ],
      "metadata": {
        "id": "xOddBtBkAiD0"
      }
    },
    {
      "cell_type": "code",
      "source": [
        "torch.manual_seed(42)\n",
        "\n",
        "# create an instance of the mode\n",
        "\n",
        "model_0 = LinearRegressionModel()\n",
        "\n",
        "# Checkout the parameters\n",
        "print(f\"Parameters of the model: \\n {list(model_0.parameters())}\")"
      ],
      "metadata": {
        "colab": {
          "base_uri": "https://localhost:8080/"
        },
        "id": "eNaKntDmZ5HD",
        "outputId": "564ae98b-3892-4c78-d0a5-ce919d61b363"
      },
      "execution_count": null,
      "outputs": [
        {
          "output_type": "stream",
          "name": "stdout",
          "text": [
            "Parameters of the model: \n",
            " [Parameter containing:\n",
            "tensor([0.3367], requires_grad=True), Parameter containing:\n",
            "tensor([0.1288], requires_grad=True)]\n"
          ]
        }
      ]
    },
    {
      "cell_type": "code",
      "source": [
        "print(f\"Parameters of the model: {model_0.state_dict()}\")"
      ],
      "metadata": {
        "colab": {
          "base_uri": "https://localhost:8080/"
        },
        "id": "1aVPIzcgc6Rv",
        "outputId": "2cc8d6f8-8e6f-4228-ee51-2ba88ac4034d"
      },
      "execution_count": null,
      "outputs": [
        {
          "output_type": "stream",
          "name": "stdout",
          "text": [
            "Parameters of the model: OrderedDict([('weights', tensor([0.3367])), ('bias', tensor([0.1288]))])\n"
          ]
        }
      ]
    },
    {
      "cell_type": "markdown",
      "source": [
        "**torch.inference_mode** is a context manager in PyTorch used to improve the performance of inference (making predictions) by disabling gradienta computation. It is especially designed for interfernce where you do not need to update the model weights"
      ],
      "metadata": {
        "id": "mnKb9LbfHSzY"
      }
    },
    {
      "cell_type": "code",
      "source": [
        "with torch.inference_mode():\n",
        "  y_preds = model_0(X_test)\n",
        "\n",
        "y_preds"
      ],
      "metadata": {
        "colab": {
          "base_uri": "https://localhost:8080/"
        },
        "id": "Hyyby3uDe1_R",
        "outputId": "4d20875f-feee-4245-a1c1-4189e870fab2"
      },
      "execution_count": null,
      "outputs": [
        {
          "output_type": "execute_result",
          "data": {
            "text/plain": [
              "tensor([[0.3982],\n",
              "        [0.4049],\n",
              "        [0.4116],\n",
              "        [0.4184],\n",
              "        [0.4251],\n",
              "        [0.4318],\n",
              "        [0.4386],\n",
              "        [0.4453],\n",
              "        [0.4520],\n",
              "        [0.4588]])"
            ]
          },
          "metadata": {},
          "execution_count": 17
        }
      ]
    },
    {
      "cell_type": "code",
      "source": [
        "plot_predictions(predictions=y_preds)"
      ],
      "metadata": {
        "colab": {
          "base_uri": "https://localhost:8080/",
          "height": 599
        },
        "id": "0MBxBTBXe9oB",
        "outputId": "d5ff0546-bbc5-401a-d4db-850f43d2502f"
      },
      "execution_count": null,
      "outputs": [
        {
          "output_type": "display_data",
          "data": {
            "text/plain": [
              "<Figure size 1000x700 with 1 Axes>"
            ],
            "image/png": "[encoded data removed]"
          },
          "metadata": {}
        }
      ]
    },
    {
      "cell_type": "markdown",
      "source": [
        "**nn.L1Loss** is a loss function in PyTorch that calculates the mean absolute error (MAE) between the predicted values and the actual target values"
      ],
      "metadata": {
        "id": "R2lP0kCIHnHG"
      }
    },
    {
      "cell_type": "code",
      "source": [
        "loss_fn = nn.L1Loss()\n",
        "loss = loss_fn(y_preds, X_test)\n",
        "print(f\"Loss: {loss}\")"
      ],
      "metadata": {
        "id": "AXXT_9mMj5ie",
        "colab": {
          "base_uri": "https://localhost:8080/"
        },
        "outputId": "4a618a8f-5faf-4805-fb72-a58e390a887a"
      },
      "execution_count": null,
      "outputs": [
        {
          "output_type": "stream",
          "name": "stdout",
          "text": [
            "Loss: 0.46153610944747925\n"
          ]
        }
      ]
    },
    {
      "cell_type": "code",
      "source": [],
      "metadata": {
        "id": "IlyY_oVGfiFM"
      },
      "execution_count": null,
      "outputs": []
    },
    {
      "cell_type": "code",
      "source": [
        "# classification with pytorch"
      ],
      "metadata": {
        "id": "bHz7se0BKdH5"
      },
      "execution_count": null,
      "outputs": []
    },
    {
      "cell_type": "code",
      "source": [
        "# classification is a problem of predicting whether something is one thing or\n",
        "# another (there can be multiple things as the options)"
      ],
      "metadata": {
        "id": "rCYlRtMU5eWI"
      },
      "execution_count": null,
      "outputs": []
    },
    {
      "cell_type": "code",
      "source": [
        "n_samples = 1000\n",
        "\n",
        "# Create circles\n",
        "X, y  = make_circles(n_samples, noise=0.03, random_state=42)"
      ],
      "metadata": {
        "id": "LiAKDaTU5m42"
      },
      "execution_count": null,
      "outputs": []
    },
    {
      "cell_type": "code",
      "source": [
        "print(f\"First five samples of X:\\n {X[:5]}\")\n",
        "print(f\"First five samples of y:\\n {y[:5]}\")"
      ],
      "metadata": {
        "colab": {
          "base_uri": "https://localhost:8080/"
        },
        "id": "emaVjBHn6KaW",
        "outputId": "42beb481-f2b9-46b5-8393-387e914cbaa9"
      },
      "execution_count": null,
      "outputs": [
        {
          "output_type": "stream",
          "name": "stdout",
          "text": [
            "First five samples of X:\n",
            " [[ 0.75424625  0.23148074]\n",
            " [-0.75615888  0.15325888]\n",
            " [-0.81539193  0.17328203]\n",
            " [-0.39373073  0.69288277]\n",
            " [ 0.44220765 -0.89672343]]\n",
            "First five samples of y:\n",
            " [1 1 1 1 0]\n"
          ]
        }
      ]
    },
    {
      "cell_type": "code",
      "source": [
        "circles = pd.DataFrame({\n",
        "    \"X1\": X[:, 0],\n",
        "    \"X2\": X[:, 1],\n",
        "    \"label\": y\n",
        "})\n",
        "\n",
        "circles.head(5)"
      ],
      "metadata": {
        "colab": {
          "base_uri": "https://localhost:8080/",
          "height": 206
        },
        "id": "RqS7UADs6RYm",
        "outputId": "efac5b7d-079a-4e32-d3ac-dacfac783923"
      },
      "execution_count": null,
      "outputs": [
        {
          "output_type": "execute_result",
          "data": {
            "text/plain": [
              "         X1        X2  label\n",
              "0  0.754246  0.231481      1\n",
              "1 -0.756159  0.153259      1\n",
              "2 -0.815392  0.173282      1\n",
              "3 -0.393731  0.692883      1\n",
              "4  0.442208 -0.896723      0"
            ],
            "text/html": [
              "\n",
              "  <div id=\"df-506fb3cb-904b-403a-80f4-c6c31509d1f5\" class=\"colab-df-container\">\n",
              "    <div>\n",
              "<style scoped>\n",
              "    .dataframe tbody tr th:only-of-type {\n",
              "        vertical-align: middle;\n",
              "    }\n",
              "\n",
              "    .dataframe tbody tr th {\n",
              "        vertical-align: top;\n",
              "    }\n",
              "\n",
              "    .dataframe thead th {\n",
              "        text-align: right;\n",
              "    }\n",
              "</style>\n",
              "<table border=\"1\" class=\"dataframe\">\n",
              "  <thead>\n",
              "    <tr style=\"text-align: right;\">\n",
              "      <th></th>\n",
              "      <th>X1</th>\n",
              "      <th>X2</th>\n",
              "      <th>label</th>\n",
              "    </tr>\n",
              "  </thead>\n",
              "  <tbody>\n",
              "    <tr>\n",
              "      <th>0</th>\n",
              "      <td>0.754246</td>\n",
              "      <td>0.231481</td>\n",
              "      <td>1</td>\n",
              "    </tr>\n",
              "    <tr>\n",
              "      <th>1</th>\n",
              "      <td>-0.756159</td>\n",
              "      <td>0.153259</td>\n",
              "      <td>1</td>\n",
              "    </tr>\n",
              "    <tr>\n",
              "      <th>2</th>\n",
              "      <td>-0.815392</td>\n",
              "      <td>0.173282</td>\n",
              "      <td>1</td>\n",
              "    </tr>\n",
              "    <tr>\n",
              "      <th>3</th>\n",
              "      <td>-0.393731</td>\n",
              "      <td>0.692883</td>\n",
              "      <td>1</td>\n",
              "    </tr>\n",
              "    <tr>\n",
              "      <th>4</th>\n",
              "      <td>0.442208</td>\n",
              "      <td>-0.896723</td>\n",
              "      <td>0</td>\n",
              "    </tr>\n",
              "  </tbody>\n",
              "</table>\n",
              "</div>\n",
              "    <div class=\"colab-df-buttons\">\n",
              "\n",
              "  <div class=\"colab-df-container\">\n",
              "    <button class=\"colab-df-convert\" onclick=\"convertToInteractive('df-506fb3cb-904b-403a-80f4-c6c31509d1f5')\"\n",
              "            title=\"Convert this dataframe to an interactive table.\"\n",
              "            style=\"display:none;\">\n",
              "\n",
              "  <svg xmlns=\"http://www.w3.org/2000/svg\" height=\"24px\" viewBox=\"0 -960 960 960\">\n",
              "    <path d=\"M120-120v-720h720v720H120Zm60-500h600v-160H180v160Zm220 220h160v-160H400v160Zm0 220h160v-160H400v160ZM180-400h160v-160H180v160Zm440 0h160v-160H620v160ZM180-180h160v-160H180v160Zm440 0h160v-160H620v160Z\"/>\n",
              "  </svg>\n",
              "    </button>\n",
              "\n",
              "  <style>\n",
              "    .colab-df-container {\n",
              "      display:flex;\n",
              "      gap: 12px;\n",
              "    }\n",
              "\n",
              "    .colab-df-convert {\n",
              "      background-color: #E8F0FE;\n",
              "      border: none;\n",
              "      border-radius: 50%;\n",
              "      cursor: pointer;\n",
              "      display: none;\n",
              "      fill: #1967D2;\n",
              "      height: 32px;\n",
              "      padding: 0 0 0 0;\n",
              "      width: 32px;\n",
              "    }\n",
              "\n",
              "    .colab-df-convert:hover {\n",
              "      background-color: #E2EBFA;\n",
              "      box-shadow: 0px 1px 2px rgba(60, 64, 67, 0.3), 0px 1px 3px 1px rgba(60, 64, 67, 0.15);\n",
              "      fill: #174EA6;\n",
              "    }\n",
              "\n",
              "    .colab-df-buttons div {\n",
              "      margin-bottom: 4px;\n",
              "    }\n",
              "\n",
              "    [theme=dark] .colab-df-convert {\n",
              "      background-color: #3B4455;\n",
              "      fill: #D2E3FC;\n",
              "    }\n",
              "\n",
              "    [theme=dark] .colab-df-convert:hover {\n",
              "      background-color: #434B5C;\n",
              "      box-shadow: 0px 1px 3px 1px rgba(0, 0, 0, 0.15);\n",
              "      filter: drop-shadow(0px 1px 2px rgba(0, 0, 0, 0.3));\n",
              "      fill: #FFFFFF;\n",
              "    }\n",
              "  </style>\n",
              "\n",
              "    <script>\n",
              "      const buttonEl =\n",
              "        document.querySelector('#df-506fb3cb-904b-403a-80f4-c6c31509d1f5 button.colab-df-convert');\n",
              "      buttonEl.style.display =\n",
              "        google.colab.kernel.accessAllowed ? 'block' : 'none';\n",
              "\n",
              "      async function convertToInteractive(key) {\n",
              "        const element = document.querySelector('#df-506fb3cb-904b-403a-80f4-c6c31509d1f5');\n",
              "        const dataTable =\n",
              "          await google.colab.kernel.invokeFunction('convertToInteractive',\n",
              "                                                    [key], {});\n",
              "        if (!dataTable) return;\n",
              "\n",
              "        const docLinkHtml = 'Like what you see? Visit the ' +\n",
              "          '<a target=\"_blank\" href=https://colab.research.google.com/notebooks/data_table.ipynb>data table notebook</a>'\n",
              "          + ' to learn more about interactive tables.';\n",
              "        element.innerHTML = '';\n",
              "        dataTable['output_type'] = 'display_data';\n",
              "        await google.colab.output.renderOutput(dataTable, element);\n",
              "        const docLink = document.createElement('div');\n",
              "        docLink.innerHTML = docLinkHtml;\n",
              "        element.appendChild(docLink);\n",
              "      }\n",
              "    </script>\n",
              "  </div>\n",
              "\n",
              "\n",
              "<div id=\"df-992e3a86-ae03-40c8-8eeb-e4a20e28b59e\">\n",
              "  <button class=\"colab-df-quickchart\" onclick=\"quickchart('df-992e3a86-ae03-40c8-8eeb-e4a20e28b59e')\"\n",
              "            title=\"Suggest charts\"\n",
              "            style=\"display:none;\">\n",
              "\n",
              "<svg xmlns=\"http://www.w3.org/2000/svg\" height=\"24px\"viewBox=\"0 0 24 24\"\n",
              "     width=\"24px\">\n",
              "    <g>\n",
              "        <path d=\"M19 3H5c-1.1 0-2 .9-2 2v14c0 1.1.9 2 2 2h14c1.1 0 2-.9 2-2V5c0-1.1-.9-2-2-2zM9 17H7v-7h2v7zm4 0h-2V7h2v10zm4 0h-2v-4h2v4z\"/>\n",
              "    </g>\n",
              "</svg>\n",
              "  </button>\n",
              "\n",
              "<style>\n",
              "  .colab-df-quickchart {\n",
              "      --bg-color: #E8F0FE;\n",
              "      --fill-color: #1967D2;\n",
              "      --hover-bg-color: #E2EBFA;\n",
              "      --hover-fill-color: #174EA6;\n",
              "      --disabled-fill-color: #AAA;\n",
              "      --disabled-bg-color: #DDD;\n",
              "  }\n",
              "\n",
              "  [theme=dark] .colab-df-quickchart {\n",
              "      --bg-color: #3B4455;\n",
              "      --fill-color: #D2E3FC;\n",
              "      --hover-bg-color: #434B5C;\n",
              "      --hover-fill-color: #FFFFFF;\n",
              "      --disabled-bg-color: #3B4455;\n",
              "      --disabled-fill-color: #666;\n",
              "  }\n",
              "\n",
              "  .colab-df-quickchart {\n",
              "    background-color: var(--bg-color);\n",
              "    border: none;\n",
              "    border-radius: 50%;\n",
              "    cursor: pointer;\n",
              "    display: none;\n",
              "    fill: var(--fill-color);\n",
              "    height: 32px;\n",
              "    padding: 0;\n",
              "    width: 32px;\n",
              "  }\n",
              "\n",
              "  .colab-df-quickchart:hover {\n",
              "    background-color: var(--hover-bg-color);\n",
              "    box-shadow: 0 1px 2px rgba(60, 64, 67, 0.3), 0 1px 3px 1px rgba(60, 64, 67, 0.15);\n",
              "    fill: var(--button-hover-fill-color);\n",
              "  }\n",
              "\n",
              "  .colab-df-quickchart-complete:disabled,\n",
              "  .colab-df-quickchart-complete:disabled:hover {\n",
              "    background-color: var(--disabled-bg-color);\n",
              "    fill: var(--disabled-fill-color);\n",
              "    box-shadow: none;\n",
              "  }\n",
              "\n",
              "  .colab-df-spinner {\n",
              "    border: 2px solid var(--fill-color);\n",
              "    border-color: transparent;\n",
              "    border-bottom-color: var(--fill-color);\n",
              "    animation:\n",
              "      spin 1s steps(1) infinite;\n",
              "  }\n",
              "\n",
              "  @keyframes spin {\n",
              "    0% {\n",
              "      border-color: transparent;\n",
              "      border-bottom-color: var(--fill-color);\n",
              "      border-left-color: var(--fill-color);\n",
              "    }\n",
              "    20% {\n",
              "      border-color: transparent;\n",
              "      border-left-color: var(--fill-color);\n",
              "      border-top-color: var(--fill-color);\n",
              "    }\n",
              "    30% {\n",
              "      border-color: transparent;\n",
              "      border-left-color: var(--fill-color);\n",
              "      border-top-color: var(--fill-color);\n",
              "      border-right-color: var(--fill-color);\n",
              "    }\n",
              "    40% {\n",
              "      border-color: transparent;\n",
              "      border-right-color: var(--fill-color);\n",
              "      border-top-color: var(--fill-color);\n",
              "    }\n",
              "    60% {\n",
              "      border-color: transparent;\n",
              "      border-right-color: var(--fill-color);\n",
              "    }\n",
              "    80% {\n",
              "      border-color: transparent;\n",
              "      border-right-color: var(--fill-color);\n",
              "      border-bottom-color: var(--fill-color);\n",
              "    }\n",
              "    90% {\n",
              "      border-color: transparent;\n",
              "      border-bottom-color: var(--fill-color);\n",
              "    }\n",
              "  }\n",
              "</style>\n",
              "\n",
              "  <script>\n",
              "    async function quickchart(key) {\n",
              "      const quickchartButtonEl =\n",
              "        document.querySelector('#' + key + ' button');\n",
              "      quickchartButtonEl.disabled = true;  // To prevent multiple clicks.\n",
              "      quickchartButtonEl.classList.add('colab-df-spinner');\n",
              "      try {\n",
              "        const charts = await google.colab.kernel.invokeFunction(\n",
              "            'suggestCharts', [key], {});\n",
              "      } catch (error) {\n",
              "        console.error('Error during call to suggestCharts:', error);\n",
              "      }\n",
              "      quickchartButtonEl.classList.remove('colab-df-spinner');\n",
              "      quickchartButtonEl.classList.add('colab-df-quickchart-complete');\n",
              "    }\n",
              "    (() => {\n",
              "      let quickchartButtonEl =\n",
              "        document.querySelector('#df-992e3a86-ae03-40c8-8eeb-e4a20e28b59e button');\n",
              "      quickchartButtonEl.style.display =\n",
              "        google.colab.kernel.accessAllowed ? 'block' : 'none';\n",
              "    })();\n",
              "  </script>\n",
              "</div>\n",
              "\n",
              "    </div>\n",
              "  </div>\n"
            ],
            "application/vnd.google.colaboratory.intrinsic+json": {
              "type": "dataframe",
              "variable_name": "circles",
              "summary": "{\n  \"name\": \"circles\",\n  \"rows\": 1000,\n  \"fields\": [\n    {\n      \"column\": \"X1\",\n      \"properties\": {\n        \"dtype\": \"number\",\n        \"std\": 0.6398365674574613,\n        \"min\": -1.0595024599098635,\n        \"max\": 1.0337117525463373,\n        \"num_unique_values\": 1000,\n        \"samples\": [\n          -0.3751930206933384,\n          0.015380346701456493,\n          -0.7027835978832848\n        ],\n        \"semantic_type\": \"\",\n        \"description\": \"\"\n      }\n    },\n    {\n      \"column\": \"X2\",\n      \"properties\": {\n        \"dtype\": \"number\",\n        \"std\": 0.6411559581015384,\n        \"min\": -1.0677683182718436,\n        \"max\": 1.0360036756154805,\n        \"num_unique_values\": 1000,\n        \"samples\": [\n          0.6826597225888621,\n          0.9600260220697324,\n          -0.3147169925147762\n        ],\n        \"semantic_type\": \"\",\n        \"description\": \"\"\n      }\n    },\n    {\n      \"column\": \"label\",\n      \"properties\": {\n        \"dtype\": \"number\",\n        \"std\": 0,\n        \"min\": 0,\n        \"max\": 1,\n        \"num_unique_values\": 2,\n        \"samples\": [\n          0,\n          1\n        ],\n        \"semantic_type\": \"\",\n        \"description\": \"\"\n      }\n    }\n  ]\n}"
            }
          },
          "metadata": {},
          "execution_count": 5
        }
      ]
    },
    {
      "cell_type": "code",
      "source": [
        "plt.scatter(x=X[:, 0],\n",
        "                y=X[:, 1],\n",
        "                c=y,\n",
        "                cmap = plt.cm.RdYlBu)"
      ],
      "metadata": {
        "colab": {
          "base_uri": "https://localhost:8080/",
          "height": 448
        },
        "id": "WBY5lop17T-W",
        "outputId": "7b9e2910-5d23-4de1-b916-06c19b8564aa"
      },
      "execution_count": null,
      "outputs": [
        {
          "output_type": "execute_result",
          "data": {
            "text/plain": [
              "<matplotlib.collections.PathCollection at 0x780964bdaef0>"
            ]
          },
          "metadata": {},
          "execution_count": 6
        },
        {
          "output_type": "display_data",
          "data": {
            "text/plain": [
              "<Figure size 640x480 with 1 Axes>"
            ],
            "image/png": "[encoded data removed]"
          },
          "metadata": {}
        }
      ]
    },
    {
      "cell_type": "code",
      "source": [
        " X.shape, y.shape"
      ],
      "metadata": {
        "colab": {
          "base_uri": "https://localhost:8080/"
        },
        "id": "rNcl1hfL7mun",
        "outputId": "d6829103-6adb-4885-aef7-b2fcdcd930d6"
      },
      "execution_count": null,
      "outputs": [
        {
          "output_type": "execute_result",
          "data": {
            "text/plain": [
              "((1000, 2), (1000,))"
            ]
          },
          "metadata": {},
          "execution_count": 7
        }
      ]
    },
    {
      "cell_type": "code",
      "source": [
        "# turning data into tensors"
      ],
      "metadata": {
        "id": "cPOgsl8i89Pz"
      },
      "execution_count": null,
      "outputs": []
    },
    {
      "cell_type": "code",
      "source": [
        "X = torch.from_numpy(X).type(torch.float)\n",
        "y = torch.from_numpy(y).type(torch.float)\n",
        "\n",
        "X[:5], y[:5]"
      ],
      "metadata": {
        "colab": {
          "base_uri": "https://localhost:8080/"
        },
        "id": "19sEIRfm9Wzz",
        "outputId": "cc999685-e789-449c-c39b-f46d266e89a1"
      },
      "execution_count": null,
      "outputs": [
        {
          "output_type": "execute_result",
          "data": {
            "text/plain": [
              "(tensor([[ 0.7542,  0.2315],\n",
              "         [-0.7562,  0.1533],\n",
              "         [-0.8154,  0.1733],\n",
              "         [-0.3937,  0.6929],\n",
              "         [ 0.4422, -0.8967]]),\n",
              " tensor([1., 1., 1., 1., 0.]))"
            ]
          },
          "metadata": {},
          "execution_count": 9
        }
      ]
    },
    {
      "cell_type": "code",
      "source": [
        "X_train, X_test, y_train, y_test = train_test_split(X, y, test_size=0.2, random_state=42)"
      ],
      "metadata": {
        "id": "m-OdHGsm9eFU"
      },
      "execution_count": null,
      "outputs": []
    },
    {
      "cell_type": "code",
      "source": [
        "# building a model\n",
        "\n",
        "# to do so we want to\n",
        "# 1. Setup device agonistic code so our model will run on accelerator (GPU) if\n",
        "# there is one\n",
        "\n",
        "# 2. Construct a model\n",
        "# 3. Defube a loss function and optimizer\n",
        "# 4. Create a training and test loop"
      ],
      "metadata": {
        "id": "L8ZS_4eE-pvD"
      },
      "execution_count": null,
      "outputs": []
    },
    {
      "cell_type": "code",
      "source": [
        "device = 'cuda' if torch.cuda.is_available() else \"cpu\"\n",
        "device"
      ],
      "metadata": {
        "colab": {
          "base_uri": "https://localhost:8080/",
          "height": 36
        },
        "id": "Y2G1z0MG_NW0",
        "outputId": "7a6588e7-e9e3-4247-b180-d0b9d105fc91"
      },
      "execution_count": null,
      "outputs": [
        {
          "output_type": "execute_result",
          "data": {
            "text/plain": [
              "'cuda'"
            ],
            "application/vnd.google.colaboratory.intrinsic+json": {
              "type": "string"
            }
          },
          "metadata": {},
          "execution_count": 12
        }
      ]
    },
    {
      "cell_type": "code",
      "source": [
        "# create a model\n",
        "\n",
        "# 1. Subclasses (almost all models in PyTorch is subclass in nn.Module)\n",
        "# 2. Create 2 layers (nn.Linear) that are capable of handling the shapes of\n",
        "# our data\n",
        "\n",
        "# 3. Define a forward() method that outlines the forward pass of the model\n",
        "# 4. Instatiate an isntance of our model class and send it to the target device"
      ],
      "metadata": {
        "id": "riQxEf6J_Uxy"
      },
      "execution_count": null,
      "outputs": []
    },
    {
      "cell_type": "code",
      "source": [
        "class CircleModelV0(nn.Module):\n",
        "  def __init__(self):\n",
        "    super(). __init__()\n",
        "    # 2. Create 2 layers\n",
        "    self.layer_1 = nn.Linear(in_features=2, out_features=5)\n",
        "    self.layer_2 = nn.Linear(in_features=5, out_features=1)\n",
        "\n",
        "  # 3. Define forward() method\n",
        "  def forward(self, x):\n",
        "    return self.layer_2(self.layer_1(x)) #x -> layer_1 -> layer_2 -> output\n",
        "\n",
        "# 4. Instance of model\n",
        "model_0 = CircleModelV0().to(device)\n",
        "model_0"
      ],
      "metadata": {
        "colab": {
          "base_uri": "https://localhost:8080/"
        },
        "id": "77fViJk2ACMS",
        "outputId": "cc8c6959-c242-4a58-f1ee-681cf6d9be95"
      },
      "execution_count": null,
      "outputs": [
        {
          "output_type": "execute_result",
          "data": {
            "text/plain": [
              "CircleModelV0(\n",
              "  (layer_1): Linear(in_features=2, out_features=5, bias=True)\n",
              "  (layer_2): Linear(in_features=5, out_features=1, bias=True)\n",
              ")"
            ]
          },
          "metadata": {},
          "execution_count": 14
        }
      ]
    },
    {
      "cell_type": "code",
      "source": [
        "# replicate model using nn.Sequential()\n",
        "\n",
        "model_0 = nn.Sequential(\n",
        "    nn.Linear(in_features=2, out_features=5),\n",
        "    nn.Linear(in_features=5, out_features=1)\n",
        ").to(device)\n",
        "\n",
        "model_0"
      ],
      "metadata": {
        "colab": {
          "base_uri": "https://localhost:8080/"
        },
        "id": "p7OVWUSdBn6x",
        "outputId": "82a9a678-aa16-41c0-b349-222b15eb903e"
      },
      "execution_count": null,
      "outputs": [
        {
          "output_type": "execute_result",
          "data": {
            "text/plain": [
              "Sequential(\n",
              "  (0): Linear(in_features=2, out_features=5, bias=True)\n",
              "  (1): Linear(in_features=5, out_features=1, bias=True)\n",
              ")"
            ]
          },
          "metadata": {},
          "execution_count": 15
        }
      ]
    },
    {
      "cell_type": "code",
      "source": [
        "model_0.state_dict()"
      ],
      "metadata": {
        "colab": {
          "base_uri": "https://localhost:8080/"
        },
        "id": "utvfWdPqMCgo",
        "outputId": "9ec86255-0666-44f0-d6a4-7cbd8e68deee"
      },
      "execution_count": null,
      "outputs": [
        {
          "output_type": "execute_result",
          "data": {
            "text/plain": [
              "OrderedDict([('0.weight',\n",
              "              tensor([[ 0.0768,  0.2135],\n",
              "                      [ 0.4515, -0.4757],\n",
              "                      [ 0.1825, -0.5347],\n",
              "                      [ 0.5259, -0.4771],\n",
              "                      [ 0.4495,  0.4100]], device='cuda:0')),\n",
              "             ('0.bias',\n",
              "              tensor([ 0.2971, -0.3556,  0.4432,  0.3369,  0.1073], device='cuda:0')),\n",
              "             ('1.weight',\n",
              "              tensor([[-0.3397, -0.0172,  0.0162,  0.2890,  0.3555]], device='cuda:0')),\n",
              "             ('1.bias', tensor([0.2026], device='cuda:0'))])"
            ]
          },
          "metadata": {},
          "execution_count": 16
        }
      ]
    },
    {
      "cell_type": "code",
      "source": [
        "# Make predictions\n",
        "with torch.inference_mode():\n",
        "  untrained_preds = model_0(X_test.to(device))\n",
        "\n",
        "print(f\"First 10 predictions: {untrained_preds[:10]}\")\n",
        "print(f\"\\nFirst 10 labels: {y_test[:10]}\")"
      ],
      "metadata": {
        "colab": {
          "base_uri": "https://localhost:8080/"
        },
        "id": "w0rSq7QfLFXb",
        "outputId": "4bc7c49f-cd65-4076-8f6e-86920c2474fb"
      },
      "execution_count": null,
      "outputs": [
        {
          "output_type": "stream",
          "name": "stdout",
          "text": [
            "First 10 predictions: tensor([[0.1006],\n",
            "        [0.1922],\n",
            "        [0.0736],\n",
            "        [0.1073],\n",
            "        [0.4119],\n",
            "        [0.4652],\n",
            "        [0.4550],\n",
            "        [0.5198],\n",
            "        [0.0593],\n",
            "        [0.2021]], device='cuda:0')\n",
            "\n",
            "First 10 labels: tensor([1., 0., 1., 0., 1., 1., 0., 0., 1., 0.])\n"
          ]
        }
      ]
    },
    {
      "cell_type": "markdown",
      "source": [
        "### Fully Connected Neural Network"
      ],
      "metadata": {
        "id": "8McvOMfxAp2p"
      }
    },
    {
      "cell_type": "markdown",
      "source": [
        "A **fully connected neural network** (also known as dense neural network) is one of the simplest types of artifical neural networks where each neuron in one layer is connected to every neuron in subsequent layer"
      ],
      "metadata": {
        "id": "bvI2iA5dF9cJ"
      }
    },
    {
      "cell_type": "markdown",
      "source": [
        "It typically consists of an input layer, one or more hidden layers, and an output layer."
      ],
      "metadata": {
        "id": "iV0BB5AdGQBy"
      }
    },
    {
      "cell_type": "markdown",
      "source": [
        "Every neuron in a layer recieves input from all the neurons in the previous layer and passes its output to all neuron of next layer"
      ],
      "metadata": {
        "id": "ja923r24GWrd"
      }
    },
    {
      "cell_type": "markdown",
      "source": [
        "Each neuron has a weight and bias term which are learnable parameters that the model adjust to minimize error"
      ],
      "metadata": {
        "id": "UTDJH5ooGk2e"
      }
    },
    {
      "cell_type": "markdown",
      "source": [
        "**nn.Linear** is a module in PyTorch that implements a fully connected layer, also known as linear layer\n",
        "<br/>\n",
        "Key parameter includes\n",
        "\n",
        "*   **in_features** The number of input features (size of each input samples)\n",
        "*   **out_features** The number of output features (size of each output samples)\n",
        "* **bias** (a flag to indicate if a bias term should be included)\n",
        "\n"
      ],
      "metadata": {
        "id": "igA3zJqdGvgG"
      }
    },
    {
      "cell_type": "code",
      "source": [
        "# Create a model class that inherts nn.Module\n",
        "class Model(nn.Module):\n",
        "  # Input layer (4 features of the flower)\n",
        "  # Input layer data passed to the hidden layer H1\n",
        "  # Data is passed from H1 to hidden layer H2\n",
        "  # After that it is passed to output layer\n",
        "\n",
        "  def __init__(self, in_features=4, h1=8, h2=9, out_features=3):\n",
        "    super().__init__()\n",
        "    self.fc1 = nn.Linear(in_features,  h1)\n",
        "    self.fc2 = nn.Linear(h1, h2)\n",
        "    self.out = nn.Linear(h2, out_features)\n",
        "\n",
        "  # we need a function that moves everything forward\n",
        "  def forward(self, x):\n",
        "    x = F.relu(self.fc1(x))\n",
        "    x = F.relu(self.fc2(x))\n",
        "    x = self.out(x)\n",
        "    return x"
      ],
      "metadata": {
        "id": "lzhkex3f7WOP"
      },
      "execution_count": null,
      "outputs": []
    },
    {
      "cell_type": "markdown",
      "source": [
        "**torch.nn.functional** is a module in PyTorch that provides functions for various operations including applying layers, activation functions, and loss functions"
      ],
      "metadata": {
        "id": "3WJEJ5GtHg1c"
      }
    },
    {
      "cell_type": "markdown",
      "source": [
        "They are stateless and typically used to  apply operations in the forward method of a neural network"
      ],
      "metadata": {
        "id": "cr27MEk6HtdN"
      }
    },
    {
      "cell_type": "code",
      "source": [
        "# pick a random manual seed for randomization\n",
        "torch.manual_seed(41)\n",
        "\n",
        "# create an instance of mode\n",
        "model = Model()"
      ],
      "metadata": {
        "id": "giXstwZYA4V0"
      },
      "execution_count": null,
      "outputs": []
    },
    {
      "cell_type": "code",
      "source": [
        "url = 'https://gist.githubusercontent.com/netj/8836201/raw/6f9306ad21398ea43cba4f7d537619d0e07d5ae3/iris.csv'\n",
        "df = pd.read_csv(url)"
      ],
      "metadata": {
        "id": "UduOM8CcD2J7"
      },
      "execution_count": null,
      "outputs": []
    },
    {
      "cell_type": "code",
      "source": [
        "df.head()"
      ],
      "metadata": {
        "colab": {
          "base_uri": "https://localhost:8080/",
          "height": 206
        },
        "id": "af49TwVwIiFl",
        "outputId": "c7b5b89c-0616-449d-cd5b-2a5e21d88942"
      },
      "execution_count": null,
      "outputs": [
        {
          "output_type": "execute_result",
          "data": {
            "text/plain": [
              "   sepal.length  sepal.width  petal.length  petal.width variety\n",
              "0           5.1          3.5           1.4          0.2  Setosa\n",
              "1           4.9          3.0           1.4          0.2  Setosa\n",
              "2           4.7          3.2           1.3          0.2  Setosa\n",
              "3           4.6          3.1           1.5          0.2  Setosa\n",
              "4           5.0          3.6           1.4          0.2  Setosa"
            ],
            "text/html": [
              "\n",
              "  <div id=\"df-bc2b9634-a5bc-494d-9729-c5e811f63d83\" class=\"colab-df-container\">\n",
              "    <div>\n",
              "<style scoped>\n",
              "    .dataframe tbody tr th:only-of-type {\n",
              "        vertical-align: middle;\n",
              "    }\n",
              "\n",
              "    .dataframe tbody tr th {\n",
              "        vertical-align: top;\n",
              "    }\n",
              "\n",
              "    .dataframe thead th {\n",
              "        text-align: right;\n",
              "    }\n",
              "</style>\n",
              "<table border=\"1\" class=\"dataframe\">\n",
              "  <thead>\n",
              "    <tr style=\"text-align: right;\">\n",
              "      <th></th>\n",
              "      <th>sepal.length</th>\n",
              "      <th>sepal.width</th>\n",
              "      <th>petal.length</th>\n",
              "      <th>petal.width</th>\n",
              "      <th>variety</th>\n",
              "    </tr>\n",
              "  </thead>\n",
              "  <tbody>\n",
              "    <tr>\n",
              "      <th>0</th>\n",
              "      <td>5.1</td>\n",
              "      <td>3.5</td>\n",
              "      <td>1.4</td>\n",
              "      <td>0.2</td>\n",
              "      <td>Setosa</td>\n",
              "    </tr>\n",
              "    <tr>\n",
              "      <th>1</th>\n",
              "      <td>4.9</td>\n",
              "      <td>3.0</td>\n",
              "      <td>1.4</td>\n",
              "      <td>0.2</td>\n",
              "      <td>Setosa</td>\n",
              "    </tr>\n",
              "    <tr>\n",
              "      <th>2</th>\n",
              "      <td>4.7</td>\n",
              "      <td>3.2</td>\n",
              "      <td>1.3</td>\n",
              "      <td>0.2</td>\n",
              "      <td>Setosa</td>\n",
              "    </tr>\n",
              "    <tr>\n",
              "      <th>3</th>\n",
              "      <td>4.6</td>\n",
              "      <td>3.1</td>\n",
              "      <td>1.5</td>\n",
              "      <td>0.2</td>\n",
              "      <td>Setosa</td>\n",
              "    </tr>\n",
              "    <tr>\n",
              "      <th>4</th>\n",
              "      <td>5.0</td>\n",
              "      <td>3.6</td>\n",
              "      <td>1.4</td>\n",
              "      <td>0.2</td>\n",
              "      <td>Setosa</td>\n",
              "    </tr>\n",
              "  </tbody>\n",
              "</table>\n",
              "</div>\n",
              "    <div class=\"colab-df-buttons\">\n",
              "\n",
              "  <div class=\"colab-df-container\">\n",
              "    <button class=\"colab-df-convert\" onclick=\"convertToInteractive('df-bc2b9634-a5bc-494d-9729-c5e811f63d83')\"\n",
              "            title=\"Convert this dataframe to an interactive table.\"\n",
              "            style=\"display:none;\">\n",
              "\n",
              "  <svg xmlns=\"http://www.w3.org/2000/svg\" height=\"24px\" viewBox=\"0 -960 960 960\">\n",
              "    <path d=\"M120-120v-720h720v720H120Zm60-500h600v-160H180v160Zm220 220h160v-160H400v160Zm0 220h160v-160H400v160ZM180-400h160v-160H180v160Zm440 0h160v-160H620v160ZM180-180h160v-160H180v160Zm440 0h160v-160H620v160Z\"/>\n",
              "  </svg>\n",
              "    </button>\n",
              "\n",
              "  <style>\n",
              "    .colab-df-container {\n",
              "      display:flex;\n",
              "      gap: 12px;\n",
              "    }\n",
              "\n",
              "    .colab-df-convert {\n",
              "      background-color: #E8F0FE;\n",
              "      border: none;\n",
              "      border-radius: 50%;\n",
              "      cursor: pointer;\n",
              "      display: none;\n",
              "      fill: #1967D2;\n",
              "      height: 32px;\n",
              "      padding: 0 0 0 0;\n",
              "      width: 32px;\n",
              "    }\n",
              "\n",
              "    .colab-df-convert:hover {\n",
              "      background-color: #E2EBFA;\n",
              "      box-shadow: 0px 1px 2px rgba(60, 64, 67, 0.3), 0px 1px 3px 1px rgba(60, 64, 67, 0.15);\n",
              "      fill: #174EA6;\n",
              "    }\n",
              "\n",
              "    .colab-df-buttons div {\n",
              "      margin-bottom: 4px;\n",
              "    }\n",
              "\n",
              "    [theme=dark] .colab-df-convert {\n",
              "      background-color: #3B4455;\n",
              "      fill: #D2E3FC;\n",
              "    }\n",
              "\n",
              "    [theme=dark] .colab-df-convert:hover {\n",
              "      background-color: #434B5C;\n",
              "      box-shadow: 0px 1px 3px 1px rgba(0, 0, 0, 0.15);\n",
              "      filter: drop-shadow(0px 1px 2px rgba(0, 0, 0, 0.3));\n",
              "      fill: #FFFFFF;\n",
              "    }\n",
              "  </style>\n",
              "\n",
              "    <script>\n",
              "      const buttonEl =\n",
              "        document.querySelector('#df-bc2b9634-a5bc-494d-9729-c5e811f63d83 button.colab-df-convert');\n",
              "      buttonEl.style.display =\n",
              "        google.colab.kernel.accessAllowed ? 'block' : 'none';\n",
              "\n",
              "      async function convertToInteractive(key) {\n",
              "        const element = document.querySelector('#df-bc2b9634-a5bc-494d-9729-c5e811f63d83');\n",
              "        const dataTable =\n",
              "          await google.colab.kernel.invokeFunction('convertToInteractive',\n",
              "                                                    [key], {});\n",
              "        if (!dataTable) return;\n",
              "\n",
              "        const docLinkHtml = 'Like what you see? Visit the ' +\n",
              "          '<a target=\"_blank\" href=https://colab.research.google.com/notebooks/data_table.ipynb>data table notebook</a>'\n",
              "          + ' to learn more about interactive tables.';\n",
              "        element.innerHTML = '';\n",
              "        dataTable['output_type'] = 'display_data';\n",
              "        await google.colab.output.renderOutput(dataTable, element);\n",
              "        const docLink = document.createElement('div');\n",
              "        docLink.innerHTML = docLinkHtml;\n",
              "        element.appendChild(docLink);\n",
              "      }\n",
              "    </script>\n",
              "  </div>\n",
              "\n",
              "\n",
              "<div id=\"df-8f8923b2-a1e5-49b3-82ec-aa5911aa11ee\">\n",
              "  <button class=\"colab-df-quickchart\" onclick=\"quickchart('df-8f8923b2-a1e5-49b3-82ec-aa5911aa11ee')\"\n",
              "            title=\"Suggest charts\"\n",
              "            style=\"display:none;\">\n",
              "\n",
              "<svg xmlns=\"http://www.w3.org/2000/svg\" height=\"24px\"viewBox=\"0 0 24 24\"\n",
              "     width=\"24px\">\n",
              "    <g>\n",
              "        <path d=\"M19 3H5c-1.1 0-2 .9-2 2v14c0 1.1.9 2 2 2h14c1.1 0 2-.9 2-2V5c0-1.1-.9-2-2-2zM9 17H7v-7h2v7zm4 0h-2V7h2v10zm4 0h-2v-4h2v4z\"/>\n",
              "    </g>\n",
              "</svg>\n",
              "  </button>\n",
              "\n",
              "<style>\n",
              "  .colab-df-quickchart {\n",
              "      --bg-color: #E8F0FE;\n",
              "      --fill-color: #1967D2;\n",
              "      --hover-bg-color: #E2EBFA;\n",
              "      --hover-fill-color: #174EA6;\n",
              "      --disabled-fill-color: #AAA;\n",
              "      --disabled-bg-color: #DDD;\n",
              "  }\n",
              "\n",
              "  [theme=dark] .colab-df-quickchart {\n",
              "      --bg-color: #3B4455;\n",
              "      --fill-color: #D2E3FC;\n",
              "      --hover-bg-color: #434B5C;\n",
              "      --hover-fill-color: #FFFFFF;\n",
              "      --disabled-bg-color: #3B4455;\n",
              "      --disabled-fill-color: #666;\n",
              "  }\n",
              "\n",
              "  .colab-df-quickchart {\n",
              "    background-color: var(--bg-color);\n",
              "    border: none;\n",
              "    border-radius: 50%;\n",
              "    cursor: pointer;\n",
              "    display: none;\n",
              "    fill: var(--fill-color);\n",
              "    height: 32px;\n",
              "    padding: 0;\n",
              "    width: 32px;\n",
              "  }\n",
              "\n",
              "  .colab-df-quickchart:hover {\n",
              "    background-color: var(--hover-bg-color);\n",
              "    box-shadow: 0 1px 2px rgba(60, 64, 67, 0.3), 0 1px 3px 1px rgba(60, 64, 67, 0.15);\n",
              "    fill: var(--button-hover-fill-color);\n",
              "  }\n",
              "\n",
              "  .colab-df-quickchart-complete:disabled,\n",
              "  .colab-df-quickchart-complete:disabled:hover {\n",
              "    background-color: var(--disabled-bg-color);\n",
              "    fill: var(--disabled-fill-color);\n",
              "    box-shadow: none;\n",
              "  }\n",
              "\n",
              "  .colab-df-spinner {\n",
              "    border: 2px solid var(--fill-color);\n",
              "    border-color: transparent;\n",
              "    border-bottom-color: var(--fill-color);\n",
              "    animation:\n",
              "      spin 1s steps(1) infinite;\n",
              "  }\n",
              "\n",
              "  @keyframes spin {\n",
              "    0% {\n",
              "      border-color: transparent;\n",
              "      border-bottom-color: var(--fill-color);\n",
              "      border-left-color: var(--fill-color);\n",
              "    }\n",
              "    20% {\n",
              "      border-color: transparent;\n",
              "      border-left-color: var(--fill-color);\n",
              "      border-top-color: var(--fill-color);\n",
              "    }\n",
              "    30% {\n",
              "      border-color: transparent;\n",
              "      border-left-color: var(--fill-color);\n",
              "      border-top-color: var(--fill-color);\n",
              "      border-right-color: var(--fill-color);\n",
              "    }\n",
              "    40% {\n",
              "      border-color: transparent;\n",
              "      border-right-color: var(--fill-color);\n",
              "      border-top-color: var(--fill-color);\n",
              "    }\n",
              "    60% {\n",
              "      border-color: transparent;\n",
              "      border-right-color: var(--fill-color);\n",
              "    }\n",
              "    80% {\n",
              "      border-color: transparent;\n",
              "      border-right-color: var(--fill-color);\n",
              "      border-bottom-color: var(--fill-color);\n",
              "    }\n",
              "    90% {\n",
              "      border-color: transparent;\n",
              "      border-bottom-color: var(--fill-color);\n",
              "    }\n",
              "  }\n",
              "</style>\n",
              "\n",
              "  <script>\n",
              "    async function quickchart(key) {\n",
              "      const quickchartButtonEl =\n",
              "        document.querySelector('#' + key + ' button');\n",
              "      quickchartButtonEl.disabled = true;  // To prevent multiple clicks.\n",
              "      quickchartButtonEl.classList.add('colab-df-spinner');\n",
              "      try {\n",
              "        const charts = await google.colab.kernel.invokeFunction(\n",
              "            'suggestCharts', [key], {});\n",
              "      } catch (error) {\n",
              "        console.error('Error during call to suggestCharts:', error);\n",
              "      }\n",
              "      quickchartButtonEl.classList.remove('colab-df-spinner');\n",
              "      quickchartButtonEl.classList.add('colab-df-quickchart-complete');\n",
              "    }\n",
              "    (() => {\n",
              "      let quickchartButtonEl =\n",
              "        document.querySelector('#df-8f8923b2-a1e5-49b3-82ec-aa5911aa11ee button');\n",
              "      quickchartButtonEl.style.display =\n",
              "        google.colab.kernel.accessAllowed ? 'block' : 'none';\n",
              "    })();\n",
              "  </script>\n",
              "</div>\n",
              "\n",
              "    </div>\n",
              "  </div>\n"
            ],
            "application/vnd.google.colaboratory.intrinsic+json": {
              "type": "dataframe",
              "variable_name": "df",
              "summary": "{\n  \"name\": \"df\",\n  \"rows\": 150,\n  \"fields\": [\n    {\n      \"column\": \"sepal.length\",\n      \"properties\": {\n        \"dtype\": \"number\",\n        \"std\": 0.828066127977863,\n        \"min\": 4.3,\n        \"max\": 7.9,\n        \"num_unique_values\": 35,\n        \"samples\": [\n          6.2,\n          4.5,\n          5.6\n        ],\n        \"semantic_type\": \"\",\n        \"description\": \"\"\n      }\n    },\n    {\n      \"column\": \"sepal.width\",\n      \"properties\": {\n        \"dtype\": \"number\",\n        \"std\": 0.4358662849366982,\n        \"min\": 2.0,\n        \"max\": 4.4,\n        \"num_unique_values\": 23,\n        \"samples\": [\n          2.3,\n          4.0,\n          3.5\n        ],\n        \"semantic_type\": \"\",\n        \"description\": \"\"\n      }\n    },\n    {\n      \"column\": \"petal.length\",\n      \"properties\": {\n        \"dtype\": \"number\",\n        \"std\": 1.7652982332594662,\n        \"min\": 1.0,\n        \"max\": 6.9,\n        \"num_unique_values\": 43,\n        \"samples\": [\n          6.7,\n          3.8,\n          3.7\n        ],\n        \"semantic_type\": \"\",\n        \"description\": \"\"\n      }\n    },\n    {\n      \"column\": \"petal.width\",\n      \"properties\": {\n        \"dtype\": \"number\",\n        \"std\": 0.7622376689603465,\n        \"min\": 0.1,\n        \"max\": 2.5,\n        \"num_unique_values\": 22,\n        \"samples\": [\n          0.2,\n          1.2,\n          1.3\n        ],\n        \"semantic_type\": \"\",\n        \"description\": \"\"\n      }\n    },\n    {\n      \"column\": \"variety\",\n      \"properties\": {\n        \"dtype\": \"category\",\n        \"num_unique_values\": 3,\n        \"samples\": [\n          \"Setosa\",\n          \"Versicolor\",\n          \"Virginica\"\n        ],\n        \"semantic_type\": \"\",\n        \"description\": \"\"\n      }\n    }\n  ]\n}"
            }
          },
          "metadata": {},
          "execution_count": 78
        }
      ]
    },
    {
      "cell_type": "code",
      "source": [
        "df.tail()"
      ],
      "metadata": {
        "colab": {
          "base_uri": "https://localhost:8080/",
          "height": 206
        },
        "id": "Tt7hDlSCInLT",
        "outputId": "00d4820f-8d3d-4b7b-c42c-eed28f420bba"
      },
      "execution_count": null,
      "outputs": [
        {
          "output_type": "execute_result",
          "data": {
            "text/plain": [
              "     sepal.length  sepal.width  petal.length  petal.width    variety\n",
              "145           6.7          3.0           5.2          2.3  Virginica\n",
              "146           6.3          2.5           5.0          1.9  Virginica\n",
              "147           6.5          3.0           5.2          2.0  Virginica\n",
              "148           6.2          3.4           5.4          2.3  Virginica\n",
              "149           5.9          3.0           5.1          1.8  Virginica"
            ],
            "text/html": [
              "\n",
              "  <div id=\"df-aa7a0939-55c6-4c49-bf42-d1ec4a4cf93d\" class=\"colab-df-container\">\n",
              "    <div>\n",
              "<style scoped>\n",
              "    .dataframe tbody tr th:only-of-type {\n",
              "        vertical-align: middle;\n",
              "    }\n",
              "\n",
              "    .dataframe tbody tr th {\n",
              "        vertical-align: top;\n",
              "    }\n",
              "\n",
              "    .dataframe thead th {\n",
              "        text-align: right;\n",
              "    }\n",
              "</style>\n",
              "<table border=\"1\" class=\"dataframe\">\n",
              "  <thead>\n",
              "    <tr style=\"text-align: right;\">\n",
              "      <th></th>\n",
              "      <th>sepal.length</th>\n",
              "      <th>sepal.width</th>\n",
              "      <th>petal.length</th>\n",
              "      <th>petal.width</th>\n",
              "      <th>variety</th>\n",
              "    </tr>\n",
              "  </thead>\n",
              "  <tbody>\n",
              "    <tr>\n",
              "      <th>145</th>\n",
              "      <td>6.7</td>\n",
              "      <td>3.0</td>\n",
              "      <td>5.2</td>\n",
              "      <td>2.3</td>\n",
              "      <td>Virginica</td>\n",
              "    </tr>\n",
              "    <tr>\n",
              "      <th>146</th>\n",
              "      <td>6.3</td>\n",
              "      <td>2.5</td>\n",
              "      <td>5.0</td>\n",
              "      <td>1.9</td>\n",
              "      <td>Virginica</td>\n",
              "    </tr>\n",
              "    <tr>\n",
              "      <th>147</th>\n",
              "      <td>6.5</td>\n",
              "      <td>3.0</td>\n",
              "      <td>5.2</td>\n",
              "      <td>2.0</td>\n",
              "      <td>Virginica</td>\n",
              "    </tr>\n",
              "    <tr>\n",
              "      <th>148</th>\n",
              "      <td>6.2</td>\n",
              "      <td>3.4</td>\n",
              "      <td>5.4</td>\n",
              "      <td>2.3</td>\n",
              "      <td>Virginica</td>\n",
              "    </tr>\n",
              "    <tr>\n",
              "      <th>149</th>\n",
              "      <td>5.9</td>\n",
              "      <td>3.0</td>\n",
              "      <td>5.1</td>\n",
              "      <td>1.8</td>\n",
              "      <td>Virginica</td>\n",
              "    </tr>\n",
              "  </tbody>\n",
              "</table>\n",
              "</div>\n",
              "    <div class=\"colab-df-buttons\">\n",
              "\n",
              "  <div class=\"colab-df-container\">\n",
              "    <button class=\"colab-df-convert\" onclick=\"convertToInteractive('df-aa7a0939-55c6-4c49-bf42-d1ec4a4cf93d')\"\n",
              "            title=\"Convert this dataframe to an interactive table.\"\n",
              "            style=\"display:none;\">\n",
              "\n",
              "  <svg xmlns=\"http://www.w3.org/2000/svg\" height=\"24px\" viewBox=\"0 -960 960 960\">\n",
              "    <path d=\"M120-120v-720h720v720H120Zm60-500h600v-160H180v160Zm220 220h160v-160H400v160Zm0 220h160v-160H400v160ZM180-400h160v-160H180v160Zm440 0h160v-160H620v160ZM180-180h160v-160H180v160Zm440 0h160v-160H620v160Z\"/>\n",
              "  </svg>\n",
              "    </button>\n",
              "\n",
              "  <style>\n",
              "    .colab-df-container {\n",
              "      display:flex;\n",
              "      gap: 12px;\n",
              "    }\n",
              "\n",
              "    .colab-df-convert {\n",
              "      background-color: #E8F0FE;\n",
              "      border: none;\n",
              "      border-radius: 50%;\n",
              "      cursor: pointer;\n",
              "      display: none;\n",
              "      fill: #1967D2;\n",
              "      height: 32px;\n",
              "      padding: 0 0 0 0;\n",
              "      width: 32px;\n",
              "    }\n",
              "\n",
              "    .colab-df-convert:hover {\n",
              "      background-color: #E2EBFA;\n",
              "      box-shadow: 0px 1px 2px rgba(60, 64, 67, 0.3), 0px 1px 3px 1px rgba(60, 64, 67, 0.15);\n",
              "      fill: #174EA6;\n",
              "    }\n",
              "\n",
              "    .colab-df-buttons div {\n",
              "      margin-bottom: 4px;\n",
              "    }\n",
              "\n",
              "    [theme=dark] .colab-df-convert {\n",
              "      background-color: #3B4455;\n",
              "      fill: #D2E3FC;\n",
              "    }\n",
              "\n",
              "    [theme=dark] .colab-df-convert:hover {\n",
              "      background-color: #434B5C;\n",
              "      box-shadow: 0px 1px 3px 1px rgba(0, 0, 0, 0.15);\n",
              "      filter: drop-shadow(0px 1px 2px rgba(0, 0, 0, 0.3));\n",
              "      fill: #FFFFFF;\n",
              "    }\n",
              "  </style>\n",
              "\n",
              "    <script>\n",
              "      const buttonEl =\n",
              "        document.querySelector('#df-aa7a0939-55c6-4c49-bf42-d1ec4a4cf93d button.colab-df-convert');\n",
              "      buttonEl.style.display =\n",
              "        google.colab.kernel.accessAllowed ? 'block' : 'none';\n",
              "\n",
              "      async function convertToInteractive(key) {\n",
              "        const element = document.querySelector('#df-aa7a0939-55c6-4c49-bf42-d1ec4a4cf93d');\n",
              "        const dataTable =\n",
              "          await google.colab.kernel.invokeFunction('convertToInteractive',\n",
              "                                                    [key], {});\n",
              "        if (!dataTable) return;\n",
              "\n",
              "        const docLinkHtml = 'Like what you see? Visit the ' +\n",
              "          '<a target=\"_blank\" href=https://colab.research.google.com/notebooks/data_table.ipynb>data table notebook</a>'\n",
              "          + ' to learn more about interactive tables.';\n",
              "        element.innerHTML = '';\n",
              "        dataTable['output_type'] = 'display_data';\n",
              "        await google.colab.output.renderOutput(dataTable, element);\n",
              "        const docLink = document.createElement('div');\n",
              "        docLink.innerHTML = docLinkHtml;\n",
              "        element.appendChild(docLink);\n",
              "      }\n",
              "    </script>\n",
              "  </div>\n",
              "\n",
              "\n",
              "<div id=\"df-89a10903-bb8b-476d-a634-15b26977b16e\">\n",
              "  <button class=\"colab-df-quickchart\" onclick=\"quickchart('df-89a10903-bb8b-476d-a634-15b26977b16e')\"\n",
              "            title=\"Suggest charts\"\n",
              "            style=\"display:none;\">\n",
              "\n",
              "<svg xmlns=\"http://www.w3.org/2000/svg\" height=\"24px\"viewBox=\"0 0 24 24\"\n",
              "     width=\"24px\">\n",
              "    <g>\n",
              "        <path d=\"M19 3H5c-1.1 0-2 .9-2 2v14c0 1.1.9 2 2 2h14c1.1 0 2-.9 2-2V5c0-1.1-.9-2-2-2zM9 17H7v-7h2v7zm4 0h-2V7h2v10zm4 0h-2v-4h2v4z\"/>\n",
              "    </g>\n",
              "</svg>\n",
              "  </button>\n",
              "\n",
              "<style>\n",
              "  .colab-df-quickchart {\n",
              "      --bg-color: #E8F0FE;\n",
              "      --fill-color: #1967D2;\n",
              "      --hover-bg-color: #E2EBFA;\n",
              "      --hover-fill-color: #174EA6;\n",
              "      --disabled-fill-color: #AAA;\n",
              "      --disabled-bg-color: #DDD;\n",
              "  }\n",
              "\n",
              "  [theme=dark] .colab-df-quickchart {\n",
              "      --bg-color: #3B4455;\n",
              "      --fill-color: #D2E3FC;\n",
              "      --hover-bg-color: #434B5C;\n",
              "      --hover-fill-color: #FFFFFF;\n",
              "      --disabled-bg-color: #3B4455;\n",
              "      --disabled-fill-color: #666;\n",
              "  }\n",
              "\n",
              "  .colab-df-quickchart {\n",
              "    background-color: var(--bg-color);\n",
              "    border: none;\n",
              "    border-radius: 50%;\n",
              "    cursor: pointer;\n",
              "    display: none;\n",
              "    fill: var(--fill-color);\n",
              "    height: 32px;\n",
              "    padding: 0;\n",
              "    width: 32px;\n",
              "  }\n",
              "\n",
              "  .colab-df-quickchart:hover {\n",
              "    background-color: var(--hover-bg-color);\n",
              "    box-shadow: 0 1px 2px rgba(60, 64, 67, 0.3), 0 1px 3px 1px rgba(60, 64, 67, 0.15);\n",
              "    fill: var(--button-hover-fill-color);\n",
              "  }\n",
              "\n",
              "  .colab-df-quickchart-complete:disabled,\n",
              "  .colab-df-quickchart-complete:disabled:hover {\n",
              "    background-color: var(--disabled-bg-color);\n",
              "    fill: var(--disabled-fill-color);\n",
              "    box-shadow: none;\n",
              "  }\n",
              "\n",
              "  .colab-df-spinner {\n",
              "    border: 2px solid var(--fill-color);\n",
              "    border-color: transparent;\n",
              "    border-bottom-color: var(--fill-color);\n",
              "    animation:\n",
              "      spin 1s steps(1) infinite;\n",
              "  }\n",
              "\n",
              "  @keyframes spin {\n",
              "    0% {\n",
              "      border-color: transparent;\n",
              "      border-bottom-color: var(--fill-color);\n",
              "      border-left-color: var(--fill-color);\n",
              "    }\n",
              "    20% {\n",
              "      border-color: transparent;\n",
              "      border-left-color: var(--fill-color);\n",
              "      border-top-color: var(--fill-color);\n",
              "    }\n",
              "    30% {\n",
              "      border-color: transparent;\n",
              "      border-left-color: var(--fill-color);\n",
              "      border-top-color: var(--fill-color);\n",
              "      border-right-color: var(--fill-color);\n",
              "    }\n",
              "    40% {\n",
              "      border-color: transparent;\n",
              "      border-right-color: var(--fill-color);\n",
              "      border-top-color: var(--fill-color);\n",
              "    }\n",
              "    60% {\n",
              "      border-color: transparent;\n",
              "      border-right-color: var(--fill-color);\n",
              "    }\n",
              "    80% {\n",
              "      border-color: transparent;\n",
              "      border-right-color: var(--fill-color);\n",
              "      border-bottom-color: var(--fill-color);\n",
              "    }\n",
              "    90% {\n",
              "      border-color: transparent;\n",
              "      border-bottom-color: var(--fill-color);\n",
              "    }\n",
              "  }\n",
              "</style>\n",
              "\n",
              "  <script>\n",
              "    async function quickchart(key) {\n",
              "      const quickchartButtonEl =\n",
              "        document.querySelector('#' + key + ' button');\n",
              "      quickchartButtonEl.disabled = true;  // To prevent multiple clicks.\n",
              "      quickchartButtonEl.classList.add('colab-df-spinner');\n",
              "      try {\n",
              "        const charts = await google.colab.kernel.invokeFunction(\n",
              "            'suggestCharts', [key], {});\n",
              "      } catch (error) {\n",
              "        console.error('Error during call to suggestCharts:', error);\n",
              "      }\n",
              "      quickchartButtonEl.classList.remove('colab-df-spinner');\n",
              "      quickchartButtonEl.classList.add('colab-df-quickchart-complete');\n",
              "    }\n",
              "    (() => {\n",
              "      let quickchartButtonEl =\n",
              "        document.querySelector('#df-89a10903-bb8b-476d-a634-15b26977b16e button');\n",
              "      quickchartButtonEl.style.display =\n",
              "        google.colab.kernel.accessAllowed ? 'block' : 'none';\n",
              "    })();\n",
              "  </script>\n",
              "</div>\n",
              "\n",
              "    </div>\n",
              "  </div>\n"
            ],
            "application/vnd.google.colaboratory.intrinsic+json": {
              "type": "dataframe",
              "summary": "{\n  \"name\": \"df\",\n  \"rows\": 5,\n  \"fields\": [\n    {\n      \"column\": \"sepal.length\",\n      \"properties\": {\n        \"dtype\": \"number\",\n        \"std\": 0.30331501776206193,\n        \"min\": 5.9,\n        \"max\": 6.7,\n        \"num_unique_values\": 5,\n        \"samples\": [\n          6.3,\n          5.9,\n          6.5\n        ],\n        \"semantic_type\": \"\",\n        \"description\": \"\"\n      }\n    },\n    {\n      \"column\": \"sepal.width\",\n      \"properties\": {\n        \"dtype\": \"number\",\n        \"std\": 0.31937438845342625,\n        \"min\": 2.5,\n        \"max\": 3.4,\n        \"num_unique_values\": 3,\n        \"samples\": [\n          3.0,\n          2.5,\n          3.4\n        ],\n        \"semantic_type\": \"\",\n        \"description\": \"\"\n      }\n    },\n    {\n      \"column\": \"petal.length\",\n      \"properties\": {\n        \"dtype\": \"number\",\n        \"std\": 0.14832396974191348,\n        \"min\": 5.0,\n        \"max\": 5.4,\n        \"num_unique_values\": 4,\n        \"samples\": [\n          5.0,\n          5.1,\n          5.2\n        ],\n        \"semantic_type\": \"\",\n        \"description\": \"\"\n      }\n    },\n    {\n      \"column\": \"petal.width\",\n      \"properties\": {\n        \"dtype\": \"number\",\n        \"std\": 0.23021728866442667,\n        \"min\": 1.8,\n        \"max\": 2.3,\n        \"num_unique_values\": 4,\n        \"samples\": [\n          1.9,\n          1.8,\n          2.3\n        ],\n        \"semantic_type\": \"\",\n        \"description\": \"\"\n      }\n    },\n    {\n      \"column\": \"variety\",\n      \"properties\": {\n        \"dtype\": \"category\",\n        \"num_unique_values\": 1,\n        \"samples\": [\n          \"Virginica\"\n        ],\n        \"semantic_type\": \"\",\n        \"description\": \"\"\n      }\n    }\n  ]\n}"
            }
          },
          "metadata": {},
          "execution_count": 79
        }
      ]
    },
    {
      "cell_type": "code",
      "source": [
        "# Change the variety column data from string to number\n",
        "# by replacing it with number specific to each category\n",
        "# In simple terms, do a manual one-hot encoding\n",
        "\n",
        "df['variety'] = df['variety'].replace('Setosa', 0.0)\n",
        "df['variety'] = df['variety'].replace('Versicolor', 1.0)\n",
        "df['variety'] = df['variety'].replace('Virginica', 2.0)"
      ],
      "metadata": {
        "id": "sbQvy9PhIvYL"
      },
      "execution_count": null,
      "outputs": []
    },
    {
      "cell_type": "code",
      "source": [
        "df.head()"
      ],
      "metadata": {
        "colab": {
          "base_uri": "https://localhost:8080/",
          "height": 206
        },
        "id": "UPjtRH05JL7Z",
        "outputId": "c5eb35ce-25b9-44f5-f273-71b9f04d4752"
      },
      "execution_count": null,
      "outputs": [
        {
          "output_type": "execute_result",
          "data": {
            "text/plain": [
              "   sepal.length  sepal.width  petal.length  petal.width  variety\n",
              "0           5.1          3.5           1.4          0.2      0.0\n",
              "1           4.9          3.0           1.4          0.2      0.0\n",
              "2           4.7          3.2           1.3          0.2      0.0\n",
              "3           4.6          3.1           1.5          0.2      0.0\n",
              "4           5.0          3.6           1.4          0.2      0.0"
            ],
            "text/html": [
              "\n",
              "  <div id=\"df-f20728dd-2184-43ec-8b86-3bc365a48069\" class=\"colab-df-container\">\n",
              "    <div>\n",
              "<style scoped>\n",
              "    .dataframe tbody tr th:only-of-type {\n",
              "        vertical-align: middle;\n",
              "    }\n",
              "\n",
              "    .dataframe tbody tr th {\n",
              "        vertical-align: top;\n",
              "    }\n",
              "\n",
              "    .dataframe thead th {\n",
              "        text-align: right;\n",
              "    }\n",
              "</style>\n",
              "<table border=\"1\" class=\"dataframe\">\n",
              "  <thead>\n",
              "    <tr style=\"text-align: right;\">\n",
              "      <th></th>\n",
              "      <th>sepal.length</th>\n",
              "      <th>sepal.width</th>\n",
              "      <th>petal.length</th>\n",
              "      <th>petal.width</th>\n",
              "      <th>variety</th>\n",
              "    </tr>\n",
              "  </thead>\n",
              "  <tbody>\n",
              "    <tr>\n",
              "      <th>0</th>\n",
              "      <td>5.1</td>\n",
              "      <td>3.5</td>\n",
              "      <td>1.4</td>\n",
              "      <td>0.2</td>\n",
              "      <td>0.0</td>\n",
              "    </tr>\n",
              "    <tr>\n",
              "      <th>1</th>\n",
              "      <td>4.9</td>\n",
              "      <td>3.0</td>\n",
              "      <td>1.4</td>\n",
              "      <td>0.2</td>\n",
              "      <td>0.0</td>\n",
              "    </tr>\n",
              "    <tr>\n",
              "      <th>2</th>\n",
              "      <td>4.7</td>\n",
              "      <td>3.2</td>\n",
              "      <td>1.3</td>\n",
              "      <td>0.2</td>\n",
              "      <td>0.0</td>\n",
              "    </tr>\n",
              "    <tr>\n",
              "      <th>3</th>\n",
              "      <td>4.6</td>\n",
              "      <td>3.1</td>\n",
              "      <td>1.5</td>\n",
              "      <td>0.2</td>\n",
              "      <td>0.0</td>\n",
              "    </tr>\n",
              "    <tr>\n",
              "      <th>4</th>\n",
              "      <td>5.0</td>\n",
              "      <td>3.6</td>\n",
              "      <td>1.4</td>\n",
              "      <td>0.2</td>\n",
              "      <td>0.0</td>\n",
              "    </tr>\n",
              "  </tbody>\n",
              "</table>\n",
              "</div>\n",
              "    <div class=\"colab-df-buttons\">\n",
              "\n",
              "  <div class=\"colab-df-container\">\n",
              "    <button class=\"colab-df-convert\" onclick=\"convertToInteractive('df-f20728dd-2184-43ec-8b86-3bc365a48069')\"\n",
              "            title=\"Convert this dataframe to an interactive table.\"\n",
              "            style=\"display:none;\">\n",
              "\n",
              "  <svg xmlns=\"http://www.w3.org/2000/svg\" height=\"24px\" viewBox=\"0 -960 960 960\">\n",
              "    <path d=\"M120-120v-720h720v720H120Zm60-500h600v-160H180v160Zm220 220h160v-160H400v160Zm0 220h160v-160H400v160ZM180-400h160v-160H180v160Zm440 0h160v-160H620v160ZM180-180h160v-160H180v160Zm440 0h160v-160H620v160Z\"/>\n",
              "  </svg>\n",
              "    </button>\n",
              "\n",
              "  <style>\n",
              "    .colab-df-container {\n",
              "      display:flex;\n",
              "      gap: 12px;\n",
              "    }\n",
              "\n",
              "    .colab-df-convert {\n",
              "      background-color: #E8F0FE;\n",
              "      border: none;\n",
              "      border-radius: 50%;\n",
              "      cursor: pointer;\n",
              "      display: none;\n",
              "      fill: #1967D2;\n",
              "      height: 32px;\n",
              "      padding: 0 0 0 0;\n",
              "      width: 32px;\n",
              "    }\n",
              "\n",
              "    .colab-df-convert:hover {\n",
              "      background-color: #E2EBFA;\n",
              "      box-shadow: 0px 1px 2px rgba(60, 64, 67, 0.3), 0px 1px 3px 1px rgba(60, 64, 67, 0.15);\n",
              "      fill: #174EA6;\n",
              "    }\n",
              "\n",
              "    .colab-df-buttons div {\n",
              "      margin-bottom: 4px;\n",
              "    }\n",
              "\n",
              "    [theme=dark] .colab-df-convert {\n",
              "      background-color: #3B4455;\n",
              "      fill: #D2E3FC;\n",
              "    }\n",
              "\n",
              "    [theme=dark] .colab-df-convert:hover {\n",
              "      background-color: #434B5C;\n",
              "      box-shadow: 0px 1px 3px 1px rgba(0, 0, 0, 0.15);\n",
              "      filter: drop-shadow(0px 1px 2px rgba(0, 0, 0, 0.3));\n",
              "      fill: #FFFFFF;\n",
              "    }\n",
              "  </style>\n",
              "\n",
              "    <script>\n",
              "      const buttonEl =\n",
              "        document.querySelector('#df-f20728dd-2184-43ec-8b86-3bc365a48069 button.colab-df-convert');\n",
              "      buttonEl.style.display =\n",
              "        google.colab.kernel.accessAllowed ? 'block' : 'none';\n",
              "\n",
              "      async function convertToInteractive(key) {\n",
              "        const element = document.querySelector('#df-f20728dd-2184-43ec-8b86-3bc365a48069');\n",
              "        const dataTable =\n",
              "          await google.colab.kernel.invokeFunction('convertToInteractive',\n",
              "                                                    [key], {});\n",
              "        if (!dataTable) return;\n",
              "\n",
              "        const docLinkHtml = 'Like what you see? Visit the ' +\n",
              "          '<a target=\"_blank\" href=https://colab.research.google.com/notebooks/data_table.ipynb>data table notebook</a>'\n",
              "          + ' to learn more about interactive tables.';\n",
              "        element.innerHTML = '';\n",
              "        dataTable['output_type'] = 'display_data';\n",
              "        await google.colab.output.renderOutput(dataTable, element);\n",
              "        const docLink = document.createElement('div');\n",
              "        docLink.innerHTML = docLinkHtml;\n",
              "        element.appendChild(docLink);\n",
              "      }\n",
              "    </script>\n",
              "  </div>\n",
              "\n",
              "\n",
              "<div id=\"df-a07862c3-5dd1-4595-a81a-c6ae16065ab4\">\n",
              "  <button class=\"colab-df-quickchart\" onclick=\"quickchart('df-a07862c3-5dd1-4595-a81a-c6ae16065ab4')\"\n",
              "            title=\"Suggest charts\"\n",
              "            style=\"display:none;\">\n",
              "\n",
              "<svg xmlns=\"http://www.w3.org/2000/svg\" height=\"24px\"viewBox=\"0 0 24 24\"\n",
              "     width=\"24px\">\n",
              "    <g>\n",
              "        <path d=\"M19 3H5c-1.1 0-2 .9-2 2v14c0 1.1.9 2 2 2h14c1.1 0 2-.9 2-2V5c0-1.1-.9-2-2-2zM9 17H7v-7h2v7zm4 0h-2V7h2v10zm4 0h-2v-4h2v4z\"/>\n",
              "    </g>\n",
              "</svg>\n",
              "  </button>\n",
              "\n",
              "<style>\n",
              "  .colab-df-quickchart {\n",
              "      --bg-color: #E8F0FE;\n",
              "      --fill-color: #1967D2;\n",
              "      --hover-bg-color: #E2EBFA;\n",
              "      --hover-fill-color: #174EA6;\n",
              "      --disabled-fill-color: #AAA;\n",
              "      --disabled-bg-color: #DDD;\n",
              "  }\n",
              "\n",
              "  [theme=dark] .colab-df-quickchart {\n",
              "      --bg-color: #3B4455;\n",
              "      --fill-color: #D2E3FC;\n",
              "      --hover-bg-color: #434B5C;\n",
              "      --hover-fill-color: #FFFFFF;\n",
              "      --disabled-bg-color: #3B4455;\n",
              "      --disabled-fill-color: #666;\n",
              "  }\n",
              "\n",
              "  .colab-df-quickchart {\n",
              "    background-color: var(--bg-color);\n",
              "    border: none;\n",
              "    border-radius: 50%;\n",
              "    cursor: pointer;\n",
              "    display: none;\n",
              "    fill: var(--fill-color);\n",
              "    height: 32px;\n",
              "    padding: 0;\n",
              "    width: 32px;\n",
              "  }\n",
              "\n",
              "  .colab-df-quickchart:hover {\n",
              "    background-color: var(--hover-bg-color);\n",
              "    box-shadow: 0 1px 2px rgba(60, 64, 67, 0.3), 0 1px 3px 1px rgba(60, 64, 67, 0.15);\n",
              "    fill: var(--button-hover-fill-color);\n",
              "  }\n",
              "\n",
              "  .colab-df-quickchart-complete:disabled,\n",
              "  .colab-df-quickchart-complete:disabled:hover {\n",
              "    background-color: var(--disabled-bg-color);\n",
              "    fill: var(--disabled-fill-color);\n",
              "    box-shadow: none;\n",
              "  }\n",
              "\n",
              "  .colab-df-spinner {\n",
              "    border: 2px solid var(--fill-color);\n",
              "    border-color: transparent;\n",
              "    border-bottom-color: var(--fill-color);\n",
              "    animation:\n",
              "      spin 1s steps(1) infinite;\n",
              "  }\n",
              "\n",
              "  @keyframes spin {\n",
              "    0% {\n",
              "      border-color: transparent;\n",
              "      border-bottom-color: var(--fill-color);\n",
              "      border-left-color: var(--fill-color);\n",
              "    }\n",
              "    20% {\n",
              "      border-color: transparent;\n",
              "      border-left-color: var(--fill-color);\n",
              "      border-top-color: var(--fill-color);\n",
              "    }\n",
              "    30% {\n",
              "      border-color: transparent;\n",
              "      border-left-color: var(--fill-color);\n",
              "      border-top-color: var(--fill-color);\n",
              "      border-right-color: var(--fill-color);\n",
              "    }\n",
              "    40% {\n",
              "      border-color: transparent;\n",
              "      border-right-color: var(--fill-color);\n",
              "      border-top-color: var(--fill-color);\n",
              "    }\n",
              "    60% {\n",
              "      border-color: transparent;\n",
              "      border-right-color: var(--fill-color);\n",
              "    }\n",
              "    80% {\n",
              "      border-color: transparent;\n",
              "      border-right-color: var(--fill-color);\n",
              "      border-bottom-color: var(--fill-color);\n",
              "    }\n",
              "    90% {\n",
              "      border-color: transparent;\n",
              "      border-bottom-color: var(--fill-color);\n",
              "    }\n",
              "  }\n",
              "</style>\n",
              "\n",
              "  <script>\n",
              "    async function quickchart(key) {\n",
              "      const quickchartButtonEl =\n",
              "        document.querySelector('#' + key + ' button');\n",
              "      quickchartButtonEl.disabled = true;  // To prevent multiple clicks.\n",
              "      quickchartButtonEl.classList.add('colab-df-spinner');\n",
              "      try {\n",
              "        const charts = await google.colab.kernel.invokeFunction(\n",
              "            'suggestCharts', [key], {});\n",
              "      } catch (error) {\n",
              "        console.error('Error during call to suggestCharts:', error);\n",
              "      }\n",
              "      quickchartButtonEl.classList.remove('colab-df-spinner');\n",
              "      quickchartButtonEl.classList.add('colab-df-quickchart-complete');\n",
              "    }\n",
              "    (() => {\n",
              "      let quickchartButtonEl =\n",
              "        document.querySelector('#df-a07862c3-5dd1-4595-a81a-c6ae16065ab4 button');\n",
              "      quickchartButtonEl.style.display =\n",
              "        google.colab.kernel.accessAllowed ? 'block' : 'none';\n",
              "    })();\n",
              "  </script>\n",
              "</div>\n",
              "\n",
              "    </div>\n",
              "  </div>\n"
            ],
            "application/vnd.google.colaboratory.intrinsic+json": {
              "type": "dataframe",
              "variable_name": "df",
              "summary": "{\n  \"name\": \"df\",\n  \"rows\": 150,\n  \"fields\": [\n    {\n      \"column\": \"sepal.length\",\n      \"properties\": {\n        \"dtype\": \"number\",\n        \"std\": 0.828066127977863,\n        \"min\": 4.3,\n        \"max\": 7.9,\n        \"num_unique_values\": 35,\n        \"samples\": [\n          6.2,\n          4.5,\n          5.6\n        ],\n        \"semantic_type\": \"\",\n        \"description\": \"\"\n      }\n    },\n    {\n      \"column\": \"sepal.width\",\n      \"properties\": {\n        \"dtype\": \"number\",\n        \"std\": 0.4358662849366982,\n        \"min\": 2.0,\n        \"max\": 4.4,\n        \"num_unique_values\": 23,\n        \"samples\": [\n          2.3,\n          4.0,\n          3.5\n        ],\n        \"semantic_type\": \"\",\n        \"description\": \"\"\n      }\n    },\n    {\n      \"column\": \"petal.length\",\n      \"properties\": {\n        \"dtype\": \"number\",\n        \"std\": 1.7652982332594662,\n        \"min\": 1.0,\n        \"max\": 6.9,\n        \"num_unique_values\": 43,\n        \"samples\": [\n          6.7,\n          3.8,\n          3.7\n        ],\n        \"semantic_type\": \"\",\n        \"description\": \"\"\n      }\n    },\n    {\n      \"column\": \"petal.width\",\n      \"properties\": {\n        \"dtype\": \"number\",\n        \"std\": 0.7622376689603465,\n        \"min\": 0.1,\n        \"max\": 2.5,\n        \"num_unique_values\": 22,\n        \"samples\": [\n          0.2,\n          1.2,\n          1.3\n        ],\n        \"semantic_type\": \"\",\n        \"description\": \"\"\n      }\n    },\n    {\n      \"column\": \"variety\",\n      \"properties\": {\n        \"dtype\": \"number\",\n        \"std\": 0.8192319205190405,\n        \"min\": 0.0,\n        \"max\": 2.0,\n        \"num_unique_values\": 3,\n        \"samples\": [\n          0.0,\n          1.0,\n          2.0\n        ],\n        \"semantic_type\": \"\",\n        \"description\": \"\"\n      }\n    }\n  ]\n}"
            }
          },
          "metadata": {},
          "execution_count": 81
        }
      ]
    },
    {
      "cell_type": "code",
      "source": [
        "# separating the features and target variables\n",
        "\n",
        "X = df.drop('variety', axis=1)\n",
        "y = df['variety']\n",
        "\n",
        "X = X.values\n",
        "y = y.values"
      ],
      "metadata": {
        "id": "SexJEGRoJNNP"
      },
      "execution_count": null,
      "outputs": []
    },
    {
      "cell_type": "code",
      "source": [
        "# splitting data into testing and training data\n",
        "X_train, X_test, y_train, y_test = train_test_split(X, y, test_size=0.2, random_state=41)"
      ],
      "metadata": {
        "id": "DXpjryWvJdLD"
      },
      "execution_count": null,
      "outputs": []
    },
    {
      "cell_type": "code",
      "source": [
        "# converting X features to tensor\n",
        "\n",
        "X_train = torch.FloatTensor(X_train)\n",
        "X_test = torch.FloatTensor(X_test)"
      ],
      "metadata": {
        "id": "D_jsJlgjJ0uM"
      },
      "execution_count": null,
      "outputs": []
    },
    {
      "cell_type": "code",
      "source": [
        "# converting y labels to tensor\n",
        "\n",
        "y_train = torch.LongTensor(y_train)\n",
        "y_test = torch.LongTensor(y_test)"
      ],
      "metadata": {
        "id": "J_TmgWuRKbX2"
      },
      "execution_count": null,
      "outputs": []
    },
    {
      "cell_type": "code",
      "source": [
        "# set the criterion of model to measure the error, how far off the predictions\n",
        "# are from the data\n",
        "\n",
        "criterion = nn.CrossEntropyLoss()"
      ],
      "metadata": {
        "id": "uc9u6RfPKolM"
      },
      "execution_count": null,
      "outputs": []
    },
    {
      "cell_type": "code",
      "source": [
        "# choose optimizer and learning rate (lr)\n",
        "# lower the learning rate is, the longer it will take to train\n",
        "optimizer = torch.optim.Adam(model.parameters(), lr = 0.01)"
      ],
      "metadata": {
        "id": "fRekzyS7LEzD"
      },
      "execution_count": null,
      "outputs": []
    },
    {
      "cell_type": "code",
      "source": [
        "# train out model\n",
        "# set epoch (one run thru all the training data in our network)\n",
        "\n",
        "epochs = 100\n",
        "losses = [] # to keep track of error of model\n",
        "\n",
        "for i in range(epochs):\n",
        "  # go forward and get predictions\n",
        "  y_pred = model.forward(X_train) #get predicted results\n",
        "\n",
        "  # measure the loss/error which will be high at first\n",
        "  loss = criterion(y_pred, y_train) #predicted values vs the y_train\n",
        "\n",
        "  # keeping track of losses\n",
        "  losses.append(loss.detach().numpy())\n",
        "\n",
        "  # print every ten epochs\n",
        "  if i%10 == 0:\n",
        "    print(f\"Epoch: {i} and loss is {loss}\")\n",
        "\n",
        "  # doing backpropagation\n",
        "  optimizer.zero_grad()\n",
        "  loss.backward()\n",
        "  optimizer.step()"
      ],
      "metadata": {
        "colab": {
          "base_uri": "https://localhost:8080/"
        },
        "id": "vOq7nskzMECz",
        "outputId": "77f4cdda-8ec8-467f-a918-3c76df20ac2f"
      },
      "execution_count": null,
      "outputs": [
        {
          "output_type": "stream",
          "name": "stdout",
          "text": [
            "Epoch: 0 and loss is 1.125203251838684\n",
            "Epoch: 10 and loss is 1.0097211599349976\n",
            "Epoch: 20 and loss is 0.8162347674369812\n",
            "Epoch: 30 and loss is 0.585993230342865\n",
            "Epoch: 40 and loss is 0.4003389775753021\n",
            "Epoch: 50 and loss is 0.26794716715812683\n",
            "Epoch: 60 and loss is 0.1796349585056305\n",
            "Epoch: 70 and loss is 0.12165623158216476\n",
            "Epoch: 80 and loss is 0.0860651507973671\n",
            "Epoch: 90 and loss is 0.06522614508867264\n"
          ]
        }
      ]
    },
    {
      "cell_type": "code",
      "source": [
        "plt.plot(range(epochs), losses)\n",
        "plt.ylabel('Error')\n",
        "plt.xlabel('Epoch')"
      ],
      "metadata": {
        "colab": {
          "base_uri": "https://localhost:8080/",
          "height": 467
        },
        "id": "P1x3JctwNWxp",
        "outputId": "9c2cff1c-66b8-4d20-f528-cd6a37aa88c8"
      },
      "execution_count": null,
      "outputs": [
        {
          "output_type": "execute_result",
          "data": {
            "text/plain": [
              "Text(0.5, 0, 'Epoch')"
            ]
          },
          "metadata": {},
          "execution_count": 89
        },
        {
          "output_type": "display_data",
          "data": {
            "text/plain": [
              "<Figure size 640x480 with 1 Axes>"
            ],
            "image/png": "[encoded data removed]"
          },
          "metadata": {}
        }
      ]
    },
    {
      "cell_type": "code",
      "source": [
        "# evaluate model on test data set\n",
        "with torch.no_grad(): # turns off back propagation\n",
        "  y_eval = model.forward(X_test)\n",
        "  loss = criterion(y_eval, y_test)\n",
        "\n",
        "loss"
      ],
      "metadata": {
        "colab": {
          "base_uri": "https://localhost:8080/"
        },
        "id": "e8Z37X3lT_WC",
        "outputId": "63defe8b-c512-4755-ba80-a7596bdef9ac"
      },
      "execution_count": null,
      "outputs": [
        {
          "output_type": "execute_result",
          "data": {
            "text/plain": [
              "tensor(0.1315)"
            ]
          },
          "metadata": {},
          "execution_count": 90
        }
      ]
    },
    {
      "cell_type": "code",
      "source": [
        "correct = 0\n",
        "with torch.no_grad():\n",
        "  for i, data in enumerate(X_test):\n",
        "    y_val = model.forward(data)\n",
        "\n",
        "    # will tell us what type of flower class network thinks it is\n",
        "    print(f\"{i+1}.) {str(y_val)} \\t {y_test[i]} \\t{y_val.argmax().item()}\")\n",
        "    if y_val.argmax().item() == y_test[i]:\n",
        "      correct += 1\n",
        "\n",
        "print(f\"\\nWe got {correct} correct\")"
      ],
      "metadata": {
        "colab": {
          "base_uri": "https://localhost:8080/"
        },
        "id": "4Euzh9MNaW_W",
        "outputId": "68bebcf3-c38d-443f-8a95-c7776fed78dc"
      },
      "execution_count": null,
      "outputs": [
        {
          "output_type": "stream",
          "name": "stdout",
          "text": [
            "1.) tensor([-5.8771,  4.4629,  6.5155]) \t 2 \t2\n",
            "2.) tensor([-7.5451,  4.1668,  9.7293]) \t 2 \t2\n",
            "3.) tensor([-8.4517,  5.1275, 10.2015]) \t 2 \t2\n",
            "4.) tensor([-4.3411,  5.6280,  2.5636]) \t 1 \t1\n",
            "5.) tensor([-7.1838,  4.8757,  8.3023]) \t 2 \t2\n",
            "6.) tensor([-3.3940,  5.3421,  1.2802]) \t 1 \t1\n",
            "7.) tensor([-5.9240,  4.9826,  6.0025]) \t 2 \t2\n",
            "8.) tensor([-4.2895,  5.7016,  2.3920]) \t 1 \t1\n",
            "9.) tensor([-6.5369,  4.9261,  7.1291]) \t 2 \t2\n",
            "10.) tensor([-8.0526,  4.4129, 10.3325]) \t 2 \t2\n",
            "11.) tensor([-5.6775,  4.9505,  5.6248]) \t 2 \t2\n",
            "12.) tensor([ 4.5748, -2.2579, -2.8925]) \t 0 \t0\n",
            "13.) tensor([ 4.2646, -2.0055, -2.7342]) \t 0 \t0\n",
            "14.) tensor([-2.1081,  4.0482,  0.5803]) \t 1 \t1\n",
            "15.) tensor([ 3.4608, -1.2147, -2.3488]) \t 0 \t0\n",
            "16.) tensor([-5.4739,  5.1174,  5.0966]) \t 2 \t1\n",
            "17.) tensor([ 4.0637, -1.8045, -2.6504]) \t 0 \t0\n",
            "18.) tensor([-5.8090,  4.6057,  6.2494]) \t 1 \t2\n",
            "19.) tensor([ 4.9250, -2.5763, -3.0545]) \t 0 \t0\n",
            "20.) tensor([ 3.4559, -1.2559, -2.3637]) \t 0 \t0\n",
            "21.) tensor([-2.6161,  4.5584,  0.8575]) \t 1 \t1\n",
            "22.) tensor([-7.7427,  4.7379,  9.4233]) \t 2 \t2\n",
            "23.) tensor([ 3.5776, -1.3269, -2.4109]) \t 0 \t0\n",
            "24.) tensor([ 4.5445, -2.2478, -2.8698]) \t 0 \t0\n",
            "25.) tensor([-2.6548,  4.6138,  0.8825]) \t 1 \t1\n",
            "26.) tensor([-3.2832,  5.2189,  1.2163]) \t 1 \t1\n",
            "27.) tensor([-4.6527,  5.7790,  2.9302]) \t 1 \t1\n",
            "28.) tensor([-2.9436,  4.8858,  1.0381]) \t 1 \t1\n",
            "29.) tensor([ 4.5932, -2.2788, -2.8989]) \t 0 \t0\n",
            "30.) tensor([-4.5797,  5.4566,  3.1690]) \t 1 \t1\n",
            "\n",
            "We got 28 correct\n"
          ]
        }
      ]
    },
    {
      "cell_type": "code",
      "source": [
        "# checking the model response for new data\n",
        "new_iris_data = torch.tensor([5.0,\t3.6,\t1.4,\t0.2])\n",
        "with torch.no_grad():\n",
        "  print(model(new_iris_data))"
      ],
      "metadata": {
        "colab": {
          "base_uri": "https://localhost:8080/"
        },
        "id": "dWvvNkbUasel",
        "outputId": "36794270-1224-488a-d449-a53443c1eced"
      },
      "execution_count": null,
      "outputs": [
        {
          "output_type": "stream",
          "name": "stdout",
          "text": [
            "tensor([ 4.8496, -2.5121, -3.0175])\n"
          ]
        }
      ]
    },
    {
      "cell_type": "code",
      "source": [
        "torch.save(model.state_dict(), \"iris_model.pt\") # save the weight and biases\n",
        "# for our model that we have trained for the current google lab\n",
        "# notebook"
      ],
      "metadata": {
        "id": "gz4zOf6kgBVK"
      },
      "execution_count": null,
      "outputs": []
    },
    {
      "cell_type": "code",
      "source": [
        "# load save model\n",
        "\n",
        "new_model = Model()\n",
        "new_model.load_state_dict(torch.load(\"iris_model.pt\"))"
      ],
      "metadata": {
        "colab": {
          "base_uri": "https://localhost:8080/"
        },
        "id": "aUC2RqYeflDi",
        "outputId": "3e4e10ab-2814-4a6c-f961-4cc4c5679a6e"
      },
      "execution_count": null,
      "outputs": [
        {
          "output_type": "execute_result",
          "data": {
            "text/plain": [
              "<All keys matched successfully>"
            ]
          },
          "metadata": {},
          "execution_count": 103
        }
      ]
    },
    {
      "cell_type": "code",
      "source": [
        "new_model.eval()"
      ],
      "metadata": {
        "colab": {
          "base_uri": "https://localhost:8080/"
        },
        "id": "nW5gWQ_MiJXA",
        "outputId": "8d82729a-ed18-4589-a8b1-825c55591d55"
      },
      "execution_count": null,
      "outputs": [
        {
          "output_type": "execute_result",
          "data": {
            "text/plain": [
              "Model(\n",
              "  (fc1): Linear(in_features=4, out_features=8, bias=True)\n",
              "  (fc2): Linear(in_features=8, out_features=9, bias=True)\n",
              "  (out): Linear(in_features=9, out_features=3, bias=True)\n",
              ")"
            ]
          },
          "metadata": {},
          "execution_count": 104
        }
      ]
    },
    {
      "cell_type": "markdown",
      "source": [
        "# Types of Neural Network"
      ],
      "metadata": {
        "id": "aTxBYBJM6hrR"
      }
    },
    {
      "cell_type": "markdown",
      "source": [
        "## Feedforward Neural Networks(FNN)\n",
        "\n",
        "It is the simples type of neural network where data flows in one-direction, from input to output, without any cycles or loops. It is composed of an input layer, one or more hidden layers, and an output layer"
      ],
      "metadata": {
        "id": "D_9H5AWT7Fz-"
      }
    },
    {
      "cell_type": "markdown",
      "source": [
        "It is good for simple classification and regression problems"
      ],
      "metadata": {
        "id": "eSNwenfG7bUz"
      }
    },
    {
      "cell_type": "markdown",
      "source": [
        "It is used for applications like predicting housing price based on various features or classification problems like classifying handwritten digits"
      ],
      "metadata": {
        "id": "O4fxtuwB7iKO"
      }
    },
    {
      "cell_type": "markdown",
      "source": [
        "## Convolutional Neural Networks"
      ],
      "metadata": {
        "id": "yWr5J47z7shv"
      }
    },
    {
      "cell_type": "markdown",
      "source": [
        "It is specialised neural network for processing grid-like data such as images."
      ],
      "metadata": {
        "id": "o7LAKX_z7vJ1"
      }
    },
    {
      "cell_type": "markdown",
      "source": [
        "It uses convolution layers to automatically and adaptively learn spatial hierarchies of features from input images. It includes layers like convolutional, pooling, and fully connected layers"
      ],
      "metadata": {
        "id": "Po3iHi_Y79ZD"
      }
    },
    {
      "cell_type": "markdown",
      "source": [
        "It can be used for\n",
        "\n",
        "*   Autonomous driving\n",
        "*   Medical imaging\n",
        "*   Image segmentation (dividing image into multiple regions)\n",
        "\n"
      ],
      "metadata": {
        "id": "3_w1SBV_8IRU"
      }
    },
    {
      "cell_type": "markdown",
      "source": [
        "## Recurrent Neural Network"
      ],
      "metadata": {
        "id": "tkXAmygL8cWq"
      }
    },
    {
      "cell_type": "markdown",
      "source": [
        "It is designed to handle sequential data by maintaining a hidden state that captures information from previous steps. The output from previous step is fed as input to the current time step"
      ],
      "metadata": {
        "id": "ZugNr40y8ft7"
      }
    },
    {
      "cell_type": "markdown",
      "source": [
        "Its application includes\n",
        "\n",
        "*   Time series prediction\n",
        "*   Natural language processing tasks\n",
        "*   Speech recognition and translation\n",
        "\n"
      ],
      "metadata": {
        "id": "rVLmeDV48uCU"
      }
    },
    {
      "cell_type": "markdown",
      "source": [
        "It is used for\n",
        "\n",
        "*   Stock market forecasting\n",
        "*   Predicting next word in a sentence\n",
        "*   Analyzing sentiment in text\n",
        "\n"
      ],
      "metadata": {
        "id": "MdJdxES1898G"
      }
    },
    {
      "cell_type": "markdown",
      "source": [
        "## Long Short-Term Memory Networks (LSTM)"
      ],
      "metadata": {
        "id": "ia0955Eq9MeV"
      }
    },
    {
      "cell_type": "markdown",
      "source": [
        "It is a type of RNN that addresses the problem of vanishing gradients. This enable the network to learn long-term dependencies."
      ],
      "metadata": {
        "id": "XlNQQ7OV9Sh-"
      }
    },
    {
      "cell_type": "markdown",
      "source": [
        "It has more complex architecture with gating mechanisms to control the flow of information"
      ],
      "metadata": {
        "id": "N45WaGIE9mrI"
      }
    },
    {
      "cell_type": "markdown",
      "source": [
        "It can be used for applications like\n",
        "*    Tasks requiring long-range temporal dependencies\n",
        "*    Time series forecasting (e.g., predicting electricity consumption)\n",
        "*    Sequence-to-sequence tasks (e.g., machine translation)"
      ],
      "metadata": {
        "id": "XyKmrQra9p9V"
      }
    },
    {
      "cell_type": "markdown",
      "source": [
        "Application of LSTM includes\n",
        "*    Predicting weather patterns based on historical data\n",
        "*    Translating sentences from one language to another"
      ],
      "metadata": {
        "id": "yNmmW7uSXgb4"
      }
    },
    {
      "cell_type": "markdown",
      "source": [
        "## Autoencoders"
      ],
      "metadata": {
        "id": "Zqn5dDh59rf3"
      }
    },
    {
      "cell_type": "markdown",
      "source": [
        "It is type of unsupervised neural network that learns efficient representations of the input data (encoding) and then attempts to reconstruct the input from these representations (decoding).\n"
      ],
      "metadata": {
        "id": "-NqfSIxO9tAb"
      }
    },
    {
      "cell_type": "markdown",
      "source": [
        "It consists of an encoder and a decoder, usually symmetric."
      ],
      "metadata": {
        "id": "Dn9eHmEQXw4B"
      }
    },
    {
      "cell_type": "markdown",
      "source": [
        "It can be used for applications like\n",
        "*   Dimensionality reduction\n",
        "*   Anomaly detection (e.g., detecting fraudulent transactions)\n",
        "*   Data denoising (e.g., removing noise from images)\n"
      ],
      "metadata": {
        "id": "IBSoZdJeXq4Z"
      }
    },
    {
      "cell_type": "markdown",
      "source": [
        "It is used for:\n",
        "\n",
        "*  Compressing data (e.g., image compression)\n",
        "*  Detecting outliers in data"
      ],
      "metadata": {
        "id": "v5L2TtaCX36Z"
      }
    },
    {
      "cell_type": "markdown",
      "source": [
        "## Variational Autoencoders"
      ],
      "metadata": {
        "id": "HE7LPi5N9xP8"
      }
    },
    {
      "cell_type": "markdown",
      "source": [
        "It is a type of autoencoder that generates new data points similar to the training data by learning the distribution of the input data. It introduces probabilistic layers to model data as a distribution rather than deterministic points.\n"
      ],
      "metadata": {
        "id": "3YM7NqnQ90J6"
      }
    },
    {
      "cell_type": "markdown",
      "source": [
        "It is used for applications like:\n",
        "*  Generating new data samples (e.g., creating new images, music, or text)\n",
        "*  Semi-supervised learning"
      ],
      "metadata": {
        "id": "n7Y-bxr1YLWW"
      }
    },
    {
      "cell_type": "markdown",
      "source": [
        "It is used for\n",
        "*  Generating realistic images of faces\n",
        "*  Creating new product designs"
      ],
      "metadata": {
        "id": "NVzjRi6KYB5f"
      }
    },
    {
      "cell_type": "markdown",
      "source": [
        "## Generative Adversarial Networks"
      ],
      "metadata": {
        "id": "NM7pPBIw92vn"
      }
    },
    {
      "cell_type": "markdown",
      "source": [
        "This type of neural type consists of two networks:\n",
        "1.  A Generator\n",
        "2.  A Discriminator.\n"
      ],
      "metadata": {
        "id": "sVihU_E996Se"
      }
    },
    {
      "cell_type": "markdown",
      "source": [
        "The generator creates fake data, and the discriminator tries to distinguish between real and fake data. The two networks compete, with the generator improving its ability to create realistic data over time.\n"
      ],
      "metadata": {
        "id": "XeLGEV2pYonL"
      }
    },
    {
      "cell_type": "markdown",
      "source": [
        "It is used for applications like:\n",
        "*  Image generation (e.g., generating realistic images of non-existent objects)\n",
        "*  Style transfer (e.g., converting photos into paintings)\n",
        "*  Data augmentation (e.g., generating more training data)\n"
      ],
      "metadata": {
        "id": "ic_gG3qcYaMA"
      }
    },
    {
      "cell_type": "markdown",
      "source": [
        "It is used for:\n",
        "*  Creating realistic images, videos, and animations\n",
        "*  Enhancing the resolution of images (super-resolution)"
      ],
      "metadata": {
        "id": "uJi9Yw87YzQE"
      }
    },
    {
      "cell_type": "markdown",
      "source": [
        "## Transformer Networks\n"
      ],
      "metadata": {
        "id": "uciPdKIM98JQ"
      }
    },
    {
      "cell_type": "markdown",
      "source": [
        "It is type of network designed for handling sequential data, particularly in NLP. Transformers use **self-attention mechanisms** to process input data in parallel rather than sequentially, enabling faster training.\n",
        "\n"
      ],
      "metadata": {
        "id": "ZZoVleHF-Dqx"
      }
    },
    {
      "cell_type": "markdown",
      "source": [
        "The architecture includes encoder and decoder layers, where each layer consists of multi-head attention mechanisms and feedforward neural networks."
      ],
      "metadata": {
        "id": "h758J21kZF6v"
      }
    },
    {
      "cell_type": "markdown",
      "source": [
        "It can be used for applications like:\n",
        "*  Machine translation (e.g., translating text from one language to another)\n",
        "*  Text summarization\n",
        "*  Question answering systems\n"
      ],
      "metadata": {
        "id": "L36VIbJJY8m2"
      }
    },
    {
      "cell_type": "markdown",
      "source": [
        "It is used for:\n",
        "*  Powering models like GPT (Generative Pretrained Transformer) for text generation\n",
        "*  BERT (Bidirectional Encoder Representations from Transformers) for understanding context in text\n"
      ],
      "metadata": {
        "id": "0yw0PpH3ZOIT"
      }
    },
    {
      "cell_type": "markdown",
      "source": [
        "## Radial Basis Function Networks"
      ],
      "metadata": {
        "id": "6U04yen3-FOO"
      }
    },
    {
      "cell_type": "markdown",
      "source": [
        "A type of neural network that uses radial basis functions as activation functions. It typically consists of an input layer, a hidden layer with a non-linear RBF activation function, and a linear output layer.\n",
        "It is good at handling interpolation in multi-dimensional space.\n"
      ],
      "metadata": {
        "id": "A7kcL0xC-JAV"
      }
    },
    {
      "cell_type": "markdown",
      "source": [
        "It can be used for applications like\n",
        "*  Function approximation\n",
        "*  Time series prediction\n",
        "*  Control systems\n",
        "\n",
        "\n",
        "It is used for:\n",
        "*  Predicting chaotic time series data\n",
        "*  Implementing adaptive control systems\n"
      ],
      "metadata": {
        "id": "5OdR3mExZUsS"
      }
    },
    {
      "cell_type": "markdown",
      "source": [],
      "metadata": {
        "id": "nYVWLT9GZUko"
      }
    },
    {
      "cell_type": "markdown",
      "source": [
        "# Convolutional Neural Networks (CNNs)"
      ],
      "metadata": {
        "id": "AJ-s9RfZ-ONS"
      }
    },
    {
      "cell_type": "code",
      "source": [],
      "metadata": {
        "id": "lx_BHJF9zwYM"
      },
      "execution_count": null,
      "outputs": []
    },
    {
      "cell_type": "markdown",
      "source": [
        "**CNN** is a specialized type of neural network designed primarily for processing structured grid data such as images. It takes an input image, assign importance (learnable weights and biases) to various aspects in the image and able to differeniate from one another"
      ],
      "metadata": {
        "id": "lUnqG4KXzT8m"
      }
    },
    {
      "cell_type": "markdown",
      "source": [
        "Key components include\n",
        "\n",
        "*   Convolution layers\n",
        "*   Rectified Linear Unit (ReLu)\n",
        "*   Pooling layers\n",
        "*   Fully conntected layers\n",
        "\n"
      ],
      "metadata": {
        "id": "tLy6UAk6zgX3"
      }
    },
    {
      "cell_type": "markdown",
      "source": [
        "Image -> Convolution Layer 1 -> Max Pooling -> Convolutional Layer 2 -> Max Pooling -> Fully Connect NN -> Output"
      ],
      "metadata": {
        "id": "FgWoAta20iJC"
      }
    },
    {
      "cell_type": "code",
      "source": [
        "# convert the mnist image files into a tensor of 4 dimension\n",
        "# to keep track of number of images, width, height, and color\n",
        "# channel\n",
        "\n",
        "transform = transforms.ToTensor()"
      ],
      "metadata": {
        "id": "nIj24Yot-xL4"
      },
      "execution_count": 25,
      "outputs": []
    },
    {
      "cell_type": "code",
      "source": [
        "# train data\n",
        "train_data = datasets.MNIST(root='/cnn_data',\n",
        "                            train=True,\n",
        "                            transform=transform,\n",
        "                            download=True)"
      ],
      "metadata": {
        "id": "EJsvbNA7VnM0"
      },
      "execution_count": 26,
      "outputs": []
    },
    {
      "cell_type": "code",
      "source": [
        "# test data\n",
        "test_data = datasets.MNIST(root='/cnn_data',\n",
        "                            train=False,\n",
        "                            transform=transform,\n",
        "                            download=True)"
      ],
      "metadata": {
        "id": "BtnqyqSUWJ_b"
      },
      "execution_count": 27,
      "outputs": []
    },
    {
      "cell_type": "code",
      "source": [
        "print(f\"Training Data Overview: \\n\\n{train_data}\")"
      ],
      "metadata": {
        "colab": {
          "base_uri": "https://localhost:8080/"
        },
        "id": "5hN5tt2HWZMe",
        "outputId": "fce38eb9-be51-44c2-8954-50ccb824b913"
      },
      "execution_count": 28,
      "outputs": [
        {
          "output_type": "stream",
          "name": "stdout",
          "text": [
            "Training Data Overview: \n",
            "\n",
            "Dataset MNIST\n",
            "    Number of datapoints: 60000\n",
            "    Root location: /cnn_data\n",
            "    Split: Train\n",
            "    StandardTransform\n",
            "Transform: ToTensor()\n"
          ]
        }
      ]
    },
    {
      "cell_type": "code",
      "source": [
        "print(f\"Test Data Overview: \\n\\n{train_data}\")"
      ],
      "metadata": {
        "colab": {
          "base_uri": "https://localhost:8080/"
        },
        "id": "LFYe-ItOWeTO",
        "outputId": "ddf0adf0-fc90-49cc-d5b0-f77b78092be0"
      },
      "execution_count": 29,
      "outputs": [
        {
          "output_type": "stream",
          "name": "stdout",
          "text": [
            "Test Data Overview: \n",
            "\n",
            "Dataset MNIST\n",
            "    Number of datapoints: 60000\n",
            "    Root location: /cnn_data\n",
            "    Split: Train\n",
            "    StandardTransform\n",
            "Transform: ToTensor()\n"
          ]
        }
      ]
    },
    {
      "cell_type": "markdown",
      "source": [
        "Data is divided into batches which help in training the model with subsets of the data at a time which is more memory efficinet"
      ],
      "metadata": {
        "id": "eOhQZ0ir380F"
      }
    },
    {
      "cell_type": "code",
      "source": [
        "# load the dataset in batches\n",
        "# each batch will contain 10 images\n",
        "# the data will be shuffled before each epoch to ensure the model doesn't\n",
        "# learn unintended patterns\n",
        "\n",
        "train_loader = DataLoader(train_data, batch_size=10, shuffle=True)\n",
        "test_loader = DataLoader(test_data, batch_size=10, shuffle=True)"
      ],
      "metadata": {
        "id": "SfrzjTtFfBqp"
      },
      "execution_count": 16,
      "outputs": []
    },
    {
      "cell_type": "markdown",
      "source": [
        "CNN uses a series of alyers to progressively extract high-level features from input data"
      ],
      "metadata": {
        "id": "DYPxARoK4HnZ"
      }
    },
    {
      "cell_type": "markdown",
      "source": [
        "**1. Convolutional Layers**\n",
        "\n",
        "*   These layer apply a convolutional operation to the input passing result to next layer\n",
        "*   **Convolution** is process of sliding a filter over the input data to produce a feature map.\n",
        "* The primary purpose of this layer is to detect various features of input data such as wedges, texture etc\n",
        "\n"
      ],
      "metadata": {
        "id": "GBcaeIxo4TMH"
      }
    },
    {
      "cell_type": "markdown",
      "source": [
        "Steps include\n",
        "1. An input, which as image represented by 3D tensor of height, width, and channel\n",
        "2. A filter, which is a small matrix of weight, slides over the input\n",
        "  * The filter is applied to different regions of input data, performing element-wise multiplication and summing results to produce single value\n",
        "  * The process is repeated as the filter moves across the entire input, generating a 2D output called **feature map**\n",
        "\n",
        "3. Activation function is applied and output is passed to pooling layer"
      ],
      "metadata": {
        "id": "4Sm0L-9045PS"
      }
    },
    {
      "cell_type": "markdown",
      "source": [
        "**2. Activation Function**\n",
        "The activation function introduces a non-linearity into the model. This function (ReLu) helps to learn non-linear relationship b/w the features in the image"
      ],
      "metadata": {
        "id": "WDbSAR_l53yo"
      }
    },
    {
      "cell_type": "markdown",
      "source": [
        "**3. Pooling Layer**\n",
        "\n",
        "Pooling layer is used to reduce the spatial dimension (height and width) of feature maps generated by convolution layer\n"
      ],
      "metadata": {
        "id": "3Vw1CfQ56RhZ"
      }
    },
    {
      "cell_type": "markdown",
      "source": [
        "This reduction helps in\n",
        "* Decrease computational load\n",
        "* Reduce number of parameters (avoid overfitting)\n",
        "* Make model invariant to small distortion in input data"
      ],
      "metadata": {
        "id": "v16Sp7A16hvG"
      }
    },
    {
      "cell_type": "markdown",
      "source": [
        "Steps include\n",
        "1. Input is typically feature map from convolutional layer\n",
        "2. The layer scans over the feature map with defined window size and stride\n",
        "  * For each window, it divides the input into non-overlapping regions\n",
        "  * Output the maximum value from each region\n",
        "3. The result is flattend and feed to fully connected neural network"
      ],
      "metadata": {
        "id": "XENDg92X6vZo"
      }
    },
    {
      "cell_type": "markdown",
      "source": [
        "**4. Fully Connected Neural Network**\n",
        "After convolutional and pooling layers, the output is flattedinto vectors and passed to fully connected neural network layer. These layer perform high level reasoning and make predictions"
      ],
      "metadata": {
        "id": "MbXNC2fe7OSt"
      }
    },
    {
      "cell_type": "markdown",
      "source": [
        "**5. Output Layer**\n",
        "The FCNN passes the value to output layer where a softmax activation function to generate probabilities for extracted features"
      ],
      "metadata": {
        "id": "GsR9m3nB7hP5"
      }
    },
    {
      "cell_type": "markdown",
      "source": [
        "![1_uAeANQIOQPqWZnnuH-VEyw.jpg](data:image/jpeg;base64,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)"
      ],
      "metadata": {
        "id": "JoCS0DXo773b"
      }
    },
    {
      "cell_type": "code",
      "source": [
        "class ConvolutionalNetwork(nn.Module):\n",
        "  def __init__(self):\n",
        "    super().__init__()\n",
        "    self.conv1 = nn.Conv2d(1, 8, 3, 1) # 1 image, 8 output, 3x3 kernel, 1 stride\n",
        "    self.conv2 = nn.Conv2d(8, 16, 3, 1) # 8 input (output from previous layer)\n",
        "                                      # 16 output, 3x3 kernel, 1 stride\n",
        "\n",
        "    # fully connected layer\n",
        "    self.fc1 = nn.Linear(5*5*16, 150) #flattening to 150 neurons\n",
        "    self.fc2 = nn.Linear(150, 84)   # arbitary values (can be set to anything)\n",
        "    self.fc3 = nn.Linear(84, 10) # 10 because 10 numbers to identify\n",
        "\n",
        "  def forward(self, X):\n",
        "    X = F.relu(self.conv1(X)) # first convolution layer\n",
        "    X = F.max_pool2d(X, 2, 2) # 2x2 kernel, 2 stride, pooling layer\n",
        "    # Second pass\n",
        "    X = F.relu(self.conv2(X)) #passed to second convolutional layer\n",
        "    X = F.max_pool2d(X, 2, 2) # 2x2 kernel, 2 stride\n",
        "\n",
        "    # Review to flatten the data\n",
        "    X = X.view(-1, 16*5*5) # negative one so that we can vary the batch size\n",
        "    # converts the 3D tensor into 1D vector to be fed into the fully connected\n",
        "    # layers\n",
        "\n",
        "    # fully connected layers\n",
        "\n",
        "    X = F.relu(self.fc1(X)) #activation function applied in fully cnn\n",
        "    X = F.relu(self.fc2(X))\n",
        "    X = self.fc3(X)\n",
        "\n",
        "    return F.log_softmax(X, dim=1)"
      ],
      "metadata": {
        "id": "56L12YDAVk_c"
      },
      "execution_count": 30,
      "outputs": []
    },
    {
      "cell_type": "code",
      "source": [
        "# create an instance of model\n",
        "\n",
        "torch.manual_seed(41)\n",
        "model = ConvolutionalNetwork()\n",
        "model"
      ],
      "metadata": {
        "colab": {
          "base_uri": "https://localhost:8080/"
        },
        "id": "ZandvDs8YOqn",
        "outputId": "1c1516d4-3c8a-40a7-9709-2b6d55041e38"
      },
      "execution_count": 31,
      "outputs": [
        {
          "output_type": "execute_result",
          "data": {
            "text/plain": [
              "ConvolutionalNetwork(\n",
              "  (conv1): Conv2d(1, 8, kernel_size=(3, 3), stride=(1, 1))\n",
              "  (conv2): Conv2d(8, 16, kernel_size=(3, 3), stride=(1, 1))\n",
              "  (fc1): Linear(in_features=400, out_features=150, bias=True)\n",
              "  (fc2): Linear(in_features=150, out_features=84, bias=True)\n",
              "  (fc3): Linear(in_features=84, out_features=10, bias=True)\n",
              ")"
            ]
          },
          "metadata": {},
          "execution_count": 31
        }
      ]
    },
    {
      "cell_type": "code",
      "source": [
        "# loss function optimizer\n",
        "\n",
        "criterion = nn.CrossEntropyLoss()\n",
        "optimizer = torch.optim.Adam(model.parameters(), lr=0.001)"
      ],
      "metadata": {
        "id": "EOOFifMMYOko"
      },
      "execution_count": 32,
      "outputs": []
    },
    {
      "cell_type": "code",
      "source": [
        "start_time = time.time()\n",
        "current_time = time.time()\n",
        "\n",
        "epochs = 5 # number of times entire dataset will be passed through the network\n",
        "\n",
        "# lists to store the losses and number of correct predictions for training and\n",
        "# testing data\n",
        "train_losses = []\n",
        "test_losses = []\n",
        "train_correct = []\n",
        "test_correct = []\n",
        "\n",
        "for i in range(epochs):\n",
        "  trn_corr = 0\n",
        "  tst_corr = 0\n",
        "\n",
        "  # training\n",
        "\n",
        "  for b, (X_train, y_train) in enumerate(train_loader):\n",
        "    b += 1 # batch\n",
        "    y_pred = model(X_train) # get predicted value\n",
        "    loss = criterion(y_pred, y_train)\n",
        "\n",
        "    # class with highest probability is chose as the predicted label\n",
        "    predicted = torch.max(y_pred.data, 1)[1]\n",
        "\n",
        "    # add up the number of correct predictions. Indexed off the first point\n",
        "    batch_corr = (predicted == y_train).sum() # how many we got correct True = 1, False = 0\n",
        "    trn_corr += batch_corr # keep track as we go along in training\n",
        "\n",
        "    # update our parameters\n",
        "    optimizer.zero_grad()\n",
        "    loss.backward()\n",
        "    optimizer.step()\n",
        "\n",
        "    if b%600 == 0:\n",
        "      print(f\"Epoch: {i}  Batch: {b} Loss: {loss.item()}\")\n",
        "\n",
        "  train_losses.append(loss)\n",
        "  train_correct.append(trn_corr)\n",
        "\n",
        "  # testing\n",
        "\n",
        "  with torch.no_grad(): # no gradient as we dont want to our weights and biases\n",
        "    for b, (X_test, y_test) in enumerate(test_loader):\n",
        "      y_val = model(X_test)\n",
        "      predicted = torch.max(y_val.data, 1)[1]\n",
        "      tst_corr +=  (predicted == y_test).sum()\n",
        "\n",
        "  loss = criterion(y_val, y_test)\n",
        "  test_losses.append(loss)\n",
        "  test_correct.append(tst_corr)\n",
        "\n",
        "\n",
        "total = current_time - start_time\n",
        "print(f\"Training took: {total/60} minutes\")"
      ],
      "metadata": {
        "colab": {
          "base_uri": "https://localhost:8080/"
        },
        "id": "nUxnfpsbYOeN",
        "outputId": "3448565b-7005-4a79-8917-f21ec12e1e53"
      },
      "execution_count": 33,
      "outputs": [
        {
          "output_type": "stream",
          "name": "stdout",
          "text": [
            "Epoch: 0  Batch: 600 Loss: 0.023705067113041878\n",
            "Epoch: 0  Batch: 1200 Loss: 0.18726857006549835\n",
            "Epoch: 0  Batch: 1800 Loss: 0.005581941455602646\n",
            "Epoch: 0  Batch: 2400 Loss: 0.021588627249002457\n",
            "Epoch: 0  Batch: 3000 Loss: 0.11054973304271698\n",
            "Epoch: 0  Batch: 3600 Loss: 0.018623532727360725\n",
            "Epoch: 0  Batch: 4200 Loss: 0.007855492644011974\n",
            "Epoch: 0  Batch: 4800 Loss: 0.039657533168792725\n",
            "Epoch: 0  Batch: 5400 Loss: 0.703203558921814\n",
            "Epoch: 0  Batch: 6000 Loss: 0.015441931784152985\n",
            "Epoch: 1  Batch: 600 Loss: 0.0696057602763176\n",
            "Epoch: 1  Batch: 1200 Loss: 0.007918923161923885\n",
            "Epoch: 1  Batch: 1800 Loss: 0.0007686825119890273\n",
            "Epoch: 1  Batch: 2400 Loss: 0.0014419667422771454\n",
            "Epoch: 1  Batch: 3000 Loss: 0.0008773431181907654\n",
            "Epoch: 1  Batch: 3600 Loss: 0.003343090880662203\n",
            "Epoch: 1  Batch: 4200 Loss: 0.12798702716827393\n",
            "Epoch: 1  Batch: 4800 Loss: 0.00041408222750760615\n",
            "Epoch: 1  Batch: 5400 Loss: 0.00015216402243822813\n",
            "Epoch: 1  Batch: 6000 Loss: 0.42278456687927246\n",
            "Epoch: 2  Batch: 600 Loss: 0.0044781905598938465\n",
            "Epoch: 2  Batch: 1200 Loss: 0.0011303701903671026\n",
            "Epoch: 2  Batch: 1800 Loss: 0.001873467699624598\n",
            "Epoch: 2  Batch: 2400 Loss: 0.007507955189794302\n",
            "Epoch: 2  Batch: 3000 Loss: 0.0884966254234314\n",
            "Epoch: 2  Batch: 3600 Loss: 8.770769636612386e-05\n",
            "Epoch: 2  Batch: 4200 Loss: 0.00014682378969155252\n",
            "Epoch: 2  Batch: 4800 Loss: 0.29277265071868896\n",
            "Epoch: 2  Batch: 5400 Loss: 0.0028823555912822485\n",
            "Epoch: 2  Batch: 6000 Loss: 0.06510816514492035\n",
            "Epoch: 3  Batch: 600 Loss: 0.00048122816951945424\n",
            "Epoch: 3  Batch: 1200 Loss: 0.001924320706166327\n",
            "Epoch: 3  Batch: 1800 Loss: 0.0011604854371398687\n",
            "Epoch: 3  Batch: 2400 Loss: 0.0005421685054898262\n",
            "Epoch: 3  Batch: 3000 Loss: 0.009612318128347397\n",
            "Epoch: 3  Batch: 3600 Loss: 0.007225790526717901\n",
            "Epoch: 3  Batch: 4200 Loss: 0.003843239974230528\n",
            "Epoch: 3  Batch: 4800 Loss: 0.004296933300793171\n",
            "Epoch: 3  Batch: 5400 Loss: 0.0005833622999489307\n",
            "Epoch: 3  Batch: 6000 Loss: 0.000649639405310154\n",
            "Epoch: 4  Batch: 600 Loss: 0.007563130464404821\n",
            "Epoch: 4  Batch: 1200 Loss: 0.020866110920906067\n",
            "Epoch: 4  Batch: 1800 Loss: 0.0017120506381615996\n",
            "Epoch: 4  Batch: 2400 Loss: 0.0002160367730539292\n",
            "Epoch: 4  Batch: 3000 Loss: 0.0034245518036186695\n",
            "Epoch: 4  Batch: 3600 Loss: 6.961733561183792e-06\n",
            "Epoch: 4  Batch: 4200 Loss: 0.00023122697893995792\n",
            "Epoch: 4  Batch: 4800 Loss: 0.08781124651432037\n",
            "Epoch: 4  Batch: 5400 Loss: 0.04058381915092468\n",
            "Epoch: 4  Batch: 6000 Loss: 0.0008596613770350814\n",
            "Training took: 4.967053731282552e-07 minutes\n"
          ]
        }
      ]
    },
    {
      "cell_type": "code",
      "source": [
        "train_losses = [tl.item() for tl in train_losses]\n",
        "\n",
        "plt.plot(train_losses, label='Training Loss')\n",
        "plt.plot(test_losses, label='Validation Loss')\n",
        "plt.title('Loss at Epoch')\n",
        "plt.legend()"
      ],
      "metadata": {
        "colab": {
          "base_uri": "https://localhost:8080/",
          "height": 469
        },
        "id": "9ignCINMYOYO",
        "outputId": "0dac042c-dfad-494a-d508-93729217f363"
      },
      "execution_count": 34,
      "outputs": [
        {
          "output_type": "execute_result",
          "data": {
            "text/plain": [
              "<matplotlib.legend.Legend at 0x77fe7ccf79d0>"
            ]
          },
          "metadata": {},
          "execution_count": 34
        },
        {
          "output_type": "display_data",
          "data": {
            "text/plain": [
              "<Figure size 640x480 with 1 Axes>"
            ],
            "image/png": "[encoded data removed]"
          },
          "metadata": {}
        }
      ]
    },
    {
      "cell_type": "code",
      "source": [
        "# graph the accuracy\n",
        "plt.plot([t/600 for t in train_correct], label='Training Accuracy')\n",
        "plt.plot([t/100 for t in test_correct], label='Validation Accuracy')\n",
        "plt.title('Accuracy at the end of each epoch')\n",
        "plt.legend()"
      ],
      "metadata": {
        "colab": {
          "base_uri": "https://localhost:8080/",
          "height": 469
        },
        "id": "Qv1hWLA2YOQv",
        "outputId": "892094aa-e024-49d2-d2e4-b20c6b60f016"
      },
      "execution_count": 35,
      "outputs": [
        {
          "output_type": "execute_result",
          "data": {
            "text/plain": [
              "<matplotlib.legend.Legend at 0x77fe7cd71030>"
            ]
          },
          "metadata": {},
          "execution_count": 35
        },
        {
          "output_type": "display_data",
          "data": {
            "text/plain": [
              "<Figure size 640x480 with 1 Axes>"
            ],
            "image/png": "[encoded data removed]"
          },
          "metadata": {}
        }
      ]
    },
    {
      "cell_type": "code",
      "source": [
        "test_load = DataLoader(test_data, batch_size=10000, shuffle=False)"
      ],
      "metadata": {
        "id": "GgpoSKiFW3ht"
      },
      "execution_count": 17,
      "outputs": []
    },
    {
      "cell_type": "code",
      "source": [
        "with torch.no_grad():\n",
        "  correct = 0\n",
        "  for X_test, y_test in test_load:\n",
        "    y_val = model(X_test)\n",
        "    predicted = torch.max(y_val, 1)[1]\n",
        "    correct += (predicted == y_test).sum()"
      ],
      "metadata": {
        "id": "qHWslj5_mK-u"
      },
      "execution_count": 18,
      "outputs": []
    },
    {
      "cell_type": "code",
      "source": [
        "correct.item()/len(test_data) * 100"
      ],
      "metadata": {
        "colab": {
          "base_uri": "https://localhost:8080/"
        },
        "id": "kIk7dlveVPtG",
        "outputId": "d59c8f33-e9e2-4816-ab6f-1b46b31a3f93"
      },
      "execution_count": 21,
      "outputs": [
        {
          "output_type": "execute_result",
          "data": {
            "text/plain": [
              "98.59"
            ]
          },
          "metadata": {},
          "execution_count": 21
        }
      ]
    },
    {
      "cell_type": "code",
      "source": [
        "test_data[4143] # tensor with an image in it and at end it shows the label"
      ],
      "metadata": {
        "colab": {
          "base_uri": "https://localhost:8080/"
        },
        "id": "Ue9mA8u3mm3r",
        "outputId": "729d506c-2e97-4744-c37b-cd8395ba31a0"
      },
      "execution_count": 22,
      "outputs": [
        {
          "output_type": "execute_result",
          "data": {
            "text/plain": [
              "(tensor([[[0.0000, 0.0000, 0.0000, 0.0000, 0.0000, 0.0000, 0.0000, 0.0000,\n",
              "           0.0000, 0.0000, 0.0000, 0.0000, 0.0000, 0.0000, 0.0000, 0.0000,\n",
              "           0.0000, 0.0000, 0.0000, 0.0000, 0.0000, 0.0000, 0.0000, 0.0000,\n",
              "           0.0000, 0.0000, 0.0000, 0.0000],\n",
              "          [0.0000, 0.0000, 0.0000, 0.0000, 0.0000, 0.0000, 0.0000, 0.0000,\n",
              "           0.0000, 0.0000, 0.0000, 0.0000, 0.0000, 0.0000, 0.0000, 0.0000,\n",
              "           0.0000, 0.0000, 0.0000, 0.0000, 0.0000, 0.0000, 0.0000, 0.0000,\n",
              "           0.0000, 0.0000, 0.0000, 0.0000],\n",
              "          [0.0000, 0.0000, 0.0000, 0.0000, 0.0000, 0.0000, 0.0000, 0.0000,\n",
              "           0.0000, 0.0000, 0.0000, 0.0000, 0.0000, 0.0000, 0.0000, 0.0000,\n",
              "           0.0000, 0.0000, 0.0000, 0.0000, 0.0000, 0.0000, 0.0000, 0.0000,\n",
              "           0.0000, 0.0000, 0.0000, 0.0000],\n",
              "          [0.0000, 0.0000, 0.0000, 0.0000, 0.0000, 0.0000, 0.0000, 0.0000,\n",
              "           0.0000, 0.0000, 0.0000, 0.0000, 0.0000, 0.0000, 0.0000, 0.0000,\n",
              "           0.0000, 0.0000, 0.0000, 0.0000, 0.0000, 0.0000, 0.0000, 0.0000,\n",
              "           0.0000, 0.0000, 0.0000, 0.0000],\n",
              "          [0.0000, 0.0000, 0.0000, 0.0000, 0.0000, 0.0000, 0.0000, 0.0000,\n",
              "           0.0000, 0.0000, 0.0000, 0.0000, 0.0000, 0.0000, 0.0000, 0.0000,\n",
              "           0.0000, 0.0000, 0.0000, 0.0000, 0.0000, 0.0000, 0.0000, 0.0000,\n",
              "           0.0000, 0.0000, 0.0000, 0.0000],\n",
              "          [0.0000, 0.0000, 0.0000, 0.0000, 0.0000, 0.0000, 0.0000, 0.0000,\n",
              "           0.0000, 0.0000, 0.0000, 0.0000, 0.0000, 0.0000, 0.0000, 0.0000,\n",
              "           0.0000, 0.0000, 0.0000, 0.0000, 0.0000, 0.0000, 0.0000, 0.0000,\n",
              "           0.0000, 0.0000, 0.0000, 0.0000],\n",
              "          [0.0000, 0.0000, 0.0000, 0.0000, 0.0000, 0.0000, 0.0000, 0.0000,\n",
              "           0.0000, 0.0000, 0.0000, 0.1765, 0.9098, 0.8275, 0.4980, 0.0627,\n",
              "           0.0000, 0.0000, 0.0000, 0.0000, 0.0000, 0.0000, 0.0000, 0.0000,\n",
              "           0.0000, 0.0000, 0.0000, 0.0000],\n",
              "          [0.0000, 0.0000, 0.0000, 0.0000, 0.0000, 0.0000, 0.0000, 0.0000,\n",
              "           0.0000, 0.0000, 0.0706, 0.7961, 0.9961, 0.9961, 0.9961, 0.8235,\n",
              "           0.3765, 0.0667, 0.0000, 0.0000, 0.0000, 0.0000, 0.0000, 0.0000,\n",
              "           0.0000, 0.0000, 0.0000, 0.0000],\n",
              "          [0.0000, 0.0000, 0.0000, 0.0000, 0.0000, 0.0000, 0.0000, 0.0000,\n",
              "           0.0000, 0.0000, 0.4353, 0.9961, 0.9961, 0.4667, 0.8941, 0.9961,\n",
              "           0.9961, 0.9412, 0.1490, 0.0000, 0.0000, 0.0000, 0.0000, 0.0000,\n",
              "           0.0000, 0.0000, 0.0000, 0.0000],\n",
              "          [0.0000, 0.0000, 0.0000, 0.0000, 0.0000, 0.0000, 0.0000, 0.0000,\n",
              "           0.0000, 0.0000, 0.8824, 0.9961, 0.7922, 0.0588, 0.1569, 0.8235,\n",
              "           0.9961, 0.9961, 0.4431, 0.0000, 0.0000, 0.0000, 0.0000, 0.0000,\n",
              "           0.0000, 0.0000, 0.0000, 0.0000],\n",
              "          [0.0000, 0.0000, 0.0000, 0.0000, 0.0000, 0.0000, 0.0000, 0.0000,\n",
              "           0.0000, 0.2314, 0.9569, 0.9961, 0.2706, 0.0000, 0.0000, 0.8157,\n",
              "           0.9961, 0.9961, 0.6902, 0.0000, 0.0000, 0.0000, 0.0000, 0.0000,\n",
              "           0.0000, 0.0000, 0.0000, 0.0000],\n",
              "          [0.0000, 0.0000, 0.0000, 0.0000, 0.0000, 0.0000, 0.0000, 0.0000,\n",
              "           0.0000, 0.7725, 0.9961, 0.9961, 0.1333, 0.0000, 0.2235, 0.9843,\n",
              "           0.9961, 0.9961, 0.5725, 0.0000, 0.0000, 0.0000, 0.0000, 0.0000,\n",
              "           0.0000, 0.0000, 0.0000, 0.0000],\n",
              "          [0.0000, 0.0000, 0.0000, 0.0000, 0.0000, 0.0000, 0.0000, 0.0000,\n",
              "           0.0000, 0.9176, 0.9961, 0.6235, 0.0157, 0.0392, 0.7176, 0.9961,\n",
              "           0.9961, 0.9961, 0.3843, 0.0000, 0.0000, 0.0000, 0.0000, 0.0000,\n",
              "           0.0000, 0.0000, 0.0000, 0.0000],\n",
              "          [0.0000, 0.0000, 0.0000, 0.0000, 0.0000, 0.0000, 0.0000, 0.0000,\n",
              "           0.0000, 0.9176, 0.9961, 0.1569, 0.0000, 0.6549, 0.9961, 0.9961,\n",
              "           0.9961, 0.9961, 0.2353, 0.0000, 0.0000, 0.0000, 0.0000, 0.0000,\n",
              "           0.0000, 0.0000, 0.0000, 0.0000],\n",
              "          [0.0000, 0.0000, 0.0000, 0.0000, 0.0000, 0.0000, 0.0000, 0.0000,\n",
              "           0.0000, 0.7373, 0.9961, 0.2824, 0.6588, 0.9765, 0.9961, 0.9961,\n",
              "           0.9961, 0.9961, 0.2353, 0.0000, 0.0000, 0.0000, 0.0000, 0.0000,\n",
              "           0.0000, 0.0000, 0.0000, 0.0000],\n",
              "          [0.0000, 0.0000, 0.0000, 0.0000, 0.0000, 0.0000, 0.0000, 0.0000,\n",
              "           0.0000, 0.3647, 0.9804, 0.9961, 0.9961, 0.9961, 0.9961, 0.9961,\n",
              "           0.9961, 0.9961, 0.2353, 0.0000, 0.0000, 0.0000, 0.0000, 0.0000,\n",
              "           0.0000, 0.0000, 0.0000, 0.0000],\n",
              "          [0.0000, 0.0000, 0.0000, 0.0000, 0.0000, 0.0000, 0.0000, 0.0000,\n",
              "           0.0000, 0.0000, 0.6784, 0.9961, 0.9961, 0.9961, 0.9451, 0.9961,\n",
              "           0.9961, 0.6824, 0.0392, 0.0000, 0.0000, 0.0000, 0.0000, 0.0000,\n",
              "           0.0000, 0.0000, 0.0000, 0.0000],\n",
              "          [0.0000, 0.0000, 0.0000, 0.0000, 0.0000, 0.0000, 0.0000, 0.0000,\n",
              "           0.0000, 0.0000, 0.0431, 0.4863, 0.8157, 0.4627, 0.5804, 0.9961,\n",
              "           0.9961, 0.8941, 0.0000, 0.0000, 0.0000, 0.0000, 0.0000, 0.0000,\n",
              "           0.0000, 0.0000, 0.0000, 0.0000],\n",
              "          [0.0000, 0.0000, 0.0000, 0.0000, 0.0000, 0.0000, 0.0000, 0.0000,\n",
              "           0.0000, 0.0000, 0.0000, 0.0000, 0.0000, 0.0000, 0.4941, 0.9961,\n",
              "           0.9961, 0.6235, 0.0000, 0.0000, 0.0000, 0.0000, 0.0000, 0.0000,\n",
              "           0.0000, 0.0000, 0.0000, 0.0000],\n",
              "          [0.0000, 0.0000, 0.0000, 0.0000, 0.0000, 0.0000, 0.0000, 0.0000,\n",
              "           0.0000, 0.0000, 0.0000, 0.0000, 0.0000, 0.0000, 0.7569, 0.9961,\n",
              "           0.9961, 0.5569, 0.0000, 0.0000, 0.0000, 0.0000, 0.0000, 0.0000,\n",
              "           0.0000, 0.0000, 0.0000, 0.0000],\n",
              "          [0.0000, 0.0000, 0.0000, 0.0000, 0.0000, 0.0000, 0.0000, 0.0000,\n",
              "           0.0000, 0.0000, 0.0000, 0.0000, 0.0000, 0.0000, 0.8314, 0.9961,\n",
              "           0.9961, 0.4157, 0.0000, 0.0000, 0.0000, 0.0000, 0.0000, 0.0000,\n",
              "           0.0000, 0.0000, 0.0000, 0.0000],\n",
              "          [0.0000, 0.0000, 0.0000, 0.0000, 0.0000, 0.0000, 0.0000, 0.0000,\n",
              "           0.0000, 0.0000, 0.0000, 0.0000, 0.0000, 0.0118, 0.8431, 0.9961,\n",
              "           0.9882, 0.2039, 0.0000, 0.0000, 0.0000, 0.0000, 0.0000, 0.0000,\n",
              "           0.0000, 0.0000, 0.0000, 0.0000],\n",
              "          [0.0000, 0.0000, 0.0000, 0.0000, 0.0000, 0.0000, 0.0000, 0.0000,\n",
              "           0.0000, 0.0000, 0.0000, 0.0000, 0.0000, 0.1882, 0.9961, 0.9961,\n",
              "           0.9255, 0.0863, 0.0000, 0.0000, 0.0000, 0.0000, 0.0000, 0.0000,\n",
              "           0.0000, 0.0000, 0.0000, 0.0000],\n",
              "          [0.0000, 0.0000, 0.0000, 0.0000, 0.0000, 0.0000, 0.0000, 0.0000,\n",
              "           0.0000, 0.0000, 0.0000, 0.0000, 0.0000, 0.5098, 0.9961, 1.0000,\n",
              "           0.5529, 0.0627, 0.0000, 0.0000, 0.0000, 0.0000, 0.0000, 0.0000,\n",
              "           0.0000, 0.0000, 0.0000, 0.0000],\n",
              "          [0.0000, 0.0000, 0.0000, 0.0000, 0.0000, 0.0000, 0.0000, 0.0000,\n",
              "           0.0000, 0.0000, 0.0000, 0.0000, 0.0000, 0.5098, 0.9961, 1.0000,\n",
              "           0.3059, 0.0000, 0.0000, 0.0000, 0.0000, 0.0000, 0.0000, 0.0000,\n",
              "           0.0000, 0.0000, 0.0000, 0.0000],\n",
              "          [0.0000, 0.0000, 0.0000, 0.0000, 0.0000, 0.0000, 0.0000, 0.0000,\n",
              "           0.0000, 0.0000, 0.0000, 0.0000, 0.0000, 0.3961, 0.9961, 0.7882,\n",
              "           0.0667, 0.0000, 0.0000, 0.0000, 0.0000, 0.0000, 0.0000, 0.0000,\n",
              "           0.0000, 0.0000, 0.0000, 0.0000],\n",
              "          [0.0000, 0.0000, 0.0000, 0.0000, 0.0000, 0.0000, 0.0000, 0.0000,\n",
              "           0.0000, 0.0000, 0.0000, 0.0000, 0.0000, 0.0000, 0.0000, 0.0000,\n",
              "           0.0000, 0.0000, 0.0000, 0.0000, 0.0000, 0.0000, 0.0000, 0.0000,\n",
              "           0.0000, 0.0000, 0.0000, 0.0000],\n",
              "          [0.0000, 0.0000, 0.0000, 0.0000, 0.0000, 0.0000, 0.0000, 0.0000,\n",
              "           0.0000, 0.0000, 0.0000, 0.0000, 0.0000, 0.0000, 0.0000, 0.0000,\n",
              "           0.0000, 0.0000, 0.0000, 0.0000, 0.0000, 0.0000, 0.0000, 0.0000,\n",
              "           0.0000, 0.0000, 0.0000, 0.0000]]]),\n",
              " 9)"
            ]
          },
          "metadata": {},
          "execution_count": 22
        }
      ]
    },
    {
      "cell_type": "code",
      "source": [
        "# grab just the data\n",
        "test_data[4143][0]"
      ],
      "metadata": {
        "colab": {
          "base_uri": "https://localhost:8080/"
        },
        "id": "W9b35RHCnCU0",
        "outputId": "d4d42603-e179-4e9c-de72-992b5cca537d"
      },
      "execution_count": 23,
      "outputs": [
        {
          "output_type": "execute_result",
          "data": {
            "text/plain": [
              "tensor([[[0.0000, 0.0000, 0.0000, 0.0000, 0.0000, 0.0000, 0.0000, 0.0000,\n",
              "          0.0000, 0.0000, 0.0000, 0.0000, 0.0000, 0.0000, 0.0000, 0.0000,\n",
              "          0.0000, 0.0000, 0.0000, 0.0000, 0.0000, 0.0000, 0.0000, 0.0000,\n",
              "          0.0000, 0.0000, 0.0000, 0.0000],\n",
              "         [0.0000, 0.0000, 0.0000, 0.0000, 0.0000, 0.0000, 0.0000, 0.0000,\n",
              "          0.0000, 0.0000, 0.0000, 0.0000, 0.0000, 0.0000, 0.0000, 0.0000,\n",
              "          0.0000, 0.0000, 0.0000, 0.0000, 0.0000, 0.0000, 0.0000, 0.0000,\n",
              "          0.0000, 0.0000, 0.0000, 0.0000],\n",
              "         [0.0000, 0.0000, 0.0000, 0.0000, 0.0000, 0.0000, 0.0000, 0.0000,\n",
              "          0.0000, 0.0000, 0.0000, 0.0000, 0.0000, 0.0000, 0.0000, 0.0000,\n",
              "          0.0000, 0.0000, 0.0000, 0.0000, 0.0000, 0.0000, 0.0000, 0.0000,\n",
              "          0.0000, 0.0000, 0.0000, 0.0000],\n",
              "         [0.0000, 0.0000, 0.0000, 0.0000, 0.0000, 0.0000, 0.0000, 0.0000,\n",
              "          0.0000, 0.0000, 0.0000, 0.0000, 0.0000, 0.0000, 0.0000, 0.0000,\n",
              "          0.0000, 0.0000, 0.0000, 0.0000, 0.0000, 0.0000, 0.0000, 0.0000,\n",
              "          0.0000, 0.0000, 0.0000, 0.0000],\n",
              "         [0.0000, 0.0000, 0.0000, 0.0000, 0.0000, 0.0000, 0.0000, 0.0000,\n",
              "          0.0000, 0.0000, 0.0000, 0.0000, 0.0000, 0.0000, 0.0000, 0.0000,\n",
              "          0.0000, 0.0000, 0.0000, 0.0000, 0.0000, 0.0000, 0.0000, 0.0000,\n",
              "          0.0000, 0.0000, 0.0000, 0.0000],\n",
              "         [0.0000, 0.0000, 0.0000, 0.0000, 0.0000, 0.0000, 0.0000, 0.0000,\n",
              "          0.0000, 0.0000, 0.0000, 0.0000, 0.0000, 0.0000, 0.0000, 0.0000,\n",
              "          0.0000, 0.0000, 0.0000, 0.0000, 0.0000, 0.0000, 0.0000, 0.0000,\n",
              "          0.0000, 0.0000, 0.0000, 0.0000],\n",
              "         [0.0000, 0.0000, 0.0000, 0.0000, 0.0000, 0.0000, 0.0000, 0.0000,\n",
              "          0.0000, 0.0000, 0.0000, 0.1765, 0.9098, 0.8275, 0.4980, 0.0627,\n",
              "          0.0000, 0.0000, 0.0000, 0.0000, 0.0000, 0.0000, 0.0000, 0.0000,\n",
              "          0.0000, 0.0000, 0.0000, 0.0000],\n",
              "         [0.0000, 0.0000, 0.0000, 0.0000, 0.0000, 0.0000, 0.0000, 0.0000,\n",
              "          0.0000, 0.0000, 0.0706, 0.7961, 0.9961, 0.9961, 0.9961, 0.8235,\n",
              "          0.3765, 0.0667, 0.0000, 0.0000, 0.0000, 0.0000, 0.0000, 0.0000,\n",
              "          0.0000, 0.0000, 0.0000, 0.0000],\n",
              "         [0.0000, 0.0000, 0.0000, 0.0000, 0.0000, 0.0000, 0.0000, 0.0000,\n",
              "          0.0000, 0.0000, 0.4353, 0.9961, 0.9961, 0.4667, 0.8941, 0.9961,\n",
              "          0.9961, 0.9412, 0.1490, 0.0000, 0.0000, 0.0000, 0.0000, 0.0000,\n",
              "          0.0000, 0.0000, 0.0000, 0.0000],\n",
              "         [0.0000, 0.0000, 0.0000, 0.0000, 0.0000, 0.0000, 0.0000, 0.0000,\n",
              "          0.0000, 0.0000, 0.8824, 0.9961, 0.7922, 0.0588, 0.1569, 0.8235,\n",
              "          0.9961, 0.9961, 0.4431, 0.0000, 0.0000, 0.0000, 0.0000, 0.0000,\n",
              "          0.0000, 0.0000, 0.0000, 0.0000],\n",
              "         [0.0000, 0.0000, 0.0000, 0.0000, 0.0000, 0.0000, 0.0000, 0.0000,\n",
              "          0.0000, 0.2314, 0.9569, 0.9961, 0.2706, 0.0000, 0.0000, 0.8157,\n",
              "          0.9961, 0.9961, 0.6902, 0.0000, 0.0000, 0.0000, 0.0000, 0.0000,\n",
              "          0.0000, 0.0000, 0.0000, 0.0000],\n",
              "         [0.0000, 0.0000, 0.0000, 0.0000, 0.0000, 0.0000, 0.0000, 0.0000,\n",
              "          0.0000, 0.7725, 0.9961, 0.9961, 0.1333, 0.0000, 0.2235, 0.9843,\n",
              "          0.9961, 0.9961, 0.5725, 0.0000, 0.0000, 0.0000, 0.0000, 0.0000,\n",
              "          0.0000, 0.0000, 0.0000, 0.0000],\n",
              "         [0.0000, 0.0000, 0.0000, 0.0000, 0.0000, 0.0000, 0.0000, 0.0000,\n",
              "          0.0000, 0.9176, 0.9961, 0.6235, 0.0157, 0.0392, 0.7176, 0.9961,\n",
              "          0.9961, 0.9961, 0.3843, 0.0000, 0.0000, 0.0000, 0.0000, 0.0000,\n",
              "          0.0000, 0.0000, 0.0000, 0.0000],\n",
              "         [0.0000, 0.0000, 0.0000, 0.0000, 0.0000, 0.0000, 0.0000, 0.0000,\n",
              "          0.0000, 0.9176, 0.9961, 0.1569, 0.0000, 0.6549, 0.9961, 0.9961,\n",
              "          0.9961, 0.9961, 0.2353, 0.0000, 0.0000, 0.0000, 0.0000, 0.0000,\n",
              "          0.0000, 0.0000, 0.0000, 0.0000],\n",
              "         [0.0000, 0.0000, 0.0000, 0.0000, 0.0000, 0.0000, 0.0000, 0.0000,\n",
              "          0.0000, 0.7373, 0.9961, 0.2824, 0.6588, 0.9765, 0.9961, 0.9961,\n",
              "          0.9961, 0.9961, 0.2353, 0.0000, 0.0000, 0.0000, 0.0000, 0.0000,\n",
              "          0.0000, 0.0000, 0.0000, 0.0000],\n",
              "         [0.0000, 0.0000, 0.0000, 0.0000, 0.0000, 0.0000, 0.0000, 0.0000,\n",
              "          0.0000, 0.3647, 0.9804, 0.9961, 0.9961, 0.9961, 0.9961, 0.9961,\n",
              "          0.9961, 0.9961, 0.2353, 0.0000, 0.0000, 0.0000, 0.0000, 0.0000,\n",
              "          0.0000, 0.0000, 0.0000, 0.0000],\n",
              "         [0.0000, 0.0000, 0.0000, 0.0000, 0.0000, 0.0000, 0.0000, 0.0000,\n",
              "          0.0000, 0.0000, 0.6784, 0.9961, 0.9961, 0.9961, 0.9451, 0.9961,\n",
              "          0.9961, 0.6824, 0.0392, 0.0000, 0.0000, 0.0000, 0.0000, 0.0000,\n",
              "          0.0000, 0.0000, 0.0000, 0.0000],\n",
              "         [0.0000, 0.0000, 0.0000, 0.0000, 0.0000, 0.0000, 0.0000, 0.0000,\n",
              "          0.0000, 0.0000, 0.0431, 0.4863, 0.8157, 0.4627, 0.5804, 0.9961,\n",
              "          0.9961, 0.8941, 0.0000, 0.0000, 0.0000, 0.0000, 0.0000, 0.0000,\n",
              "          0.0000, 0.0000, 0.0000, 0.0000],\n",
              "         [0.0000, 0.0000, 0.0000, 0.0000, 0.0000, 0.0000, 0.0000, 0.0000,\n",
              "          0.0000, 0.0000, 0.0000, 0.0000, 0.0000, 0.0000, 0.4941, 0.9961,\n",
              "          0.9961, 0.6235, 0.0000, 0.0000, 0.0000, 0.0000, 0.0000, 0.0000,\n",
              "          0.0000, 0.0000, 0.0000, 0.0000],\n",
              "         [0.0000, 0.0000, 0.0000, 0.0000, 0.0000, 0.0000, 0.0000, 0.0000,\n",
              "          0.0000, 0.0000, 0.0000, 0.0000, 0.0000, 0.0000, 0.7569, 0.9961,\n",
              "          0.9961, 0.5569, 0.0000, 0.0000, 0.0000, 0.0000, 0.0000, 0.0000,\n",
              "          0.0000, 0.0000, 0.0000, 0.0000],\n",
              "         [0.0000, 0.0000, 0.0000, 0.0000, 0.0000, 0.0000, 0.0000, 0.0000,\n",
              "          0.0000, 0.0000, 0.0000, 0.0000, 0.0000, 0.0000, 0.8314, 0.9961,\n",
              "          0.9961, 0.4157, 0.0000, 0.0000, 0.0000, 0.0000, 0.0000, 0.0000,\n",
              "          0.0000, 0.0000, 0.0000, 0.0000],\n",
              "         [0.0000, 0.0000, 0.0000, 0.0000, 0.0000, 0.0000, 0.0000, 0.0000,\n",
              "          0.0000, 0.0000, 0.0000, 0.0000, 0.0000, 0.0118, 0.8431, 0.9961,\n",
              "          0.9882, 0.2039, 0.0000, 0.0000, 0.0000, 0.0000, 0.0000, 0.0000,\n",
              "          0.0000, 0.0000, 0.0000, 0.0000],\n",
              "         [0.0000, 0.0000, 0.0000, 0.0000, 0.0000, 0.0000, 0.0000, 0.0000,\n",
              "          0.0000, 0.0000, 0.0000, 0.0000, 0.0000, 0.1882, 0.9961, 0.9961,\n",
              "          0.9255, 0.0863, 0.0000, 0.0000, 0.0000, 0.0000, 0.0000, 0.0000,\n",
              "          0.0000, 0.0000, 0.0000, 0.0000],\n",
              "         [0.0000, 0.0000, 0.0000, 0.0000, 0.0000, 0.0000, 0.0000, 0.0000,\n",
              "          0.0000, 0.0000, 0.0000, 0.0000, 0.0000, 0.5098, 0.9961, 1.0000,\n",
              "          0.5529, 0.0627, 0.0000, 0.0000, 0.0000, 0.0000, 0.0000, 0.0000,\n",
              "          0.0000, 0.0000, 0.0000, 0.0000],\n",
              "         [0.0000, 0.0000, 0.0000, 0.0000, 0.0000, 0.0000, 0.0000, 0.0000,\n",
              "          0.0000, 0.0000, 0.0000, 0.0000, 0.0000, 0.5098, 0.9961, 1.0000,\n",
              "          0.3059, 0.0000, 0.0000, 0.0000, 0.0000, 0.0000, 0.0000, 0.0000,\n",
              "          0.0000, 0.0000, 0.0000, 0.0000],\n",
              "         [0.0000, 0.0000, 0.0000, 0.0000, 0.0000, 0.0000, 0.0000, 0.0000,\n",
              "          0.0000, 0.0000, 0.0000, 0.0000, 0.0000, 0.3961, 0.9961, 0.7882,\n",
              "          0.0667, 0.0000, 0.0000, 0.0000, 0.0000, 0.0000, 0.0000, 0.0000,\n",
              "          0.0000, 0.0000, 0.0000, 0.0000],\n",
              "         [0.0000, 0.0000, 0.0000, 0.0000, 0.0000, 0.0000, 0.0000, 0.0000,\n",
              "          0.0000, 0.0000, 0.0000, 0.0000, 0.0000, 0.0000, 0.0000, 0.0000,\n",
              "          0.0000, 0.0000, 0.0000, 0.0000, 0.0000, 0.0000, 0.0000, 0.0000,\n",
              "          0.0000, 0.0000, 0.0000, 0.0000],\n",
              "         [0.0000, 0.0000, 0.0000, 0.0000, 0.0000, 0.0000, 0.0000, 0.0000,\n",
              "          0.0000, 0.0000, 0.0000, 0.0000, 0.0000, 0.0000, 0.0000, 0.0000,\n",
              "          0.0000, 0.0000, 0.0000, 0.0000, 0.0000, 0.0000, 0.0000, 0.0000,\n",
              "          0.0000, 0.0000, 0.0000, 0.0000]]])"
            ]
          },
          "metadata": {},
          "execution_count": 23
        }
      ]
    },
    {
      "cell_type": "code",
      "source": [
        "test_data[4143][0].reshape(28, 28)"
      ],
      "metadata": {
        "colab": {
          "base_uri": "https://localhost:8080/"
        },
        "id": "y-wavsvqnNIn",
        "outputId": "e5fdaf3e-85fe-4330-b5b0-08ea23cef128"
      },
      "execution_count": 24,
      "outputs": [
        {
          "output_type": "execute_result",
          "data": {
            "text/plain": [
              "tensor([[0.0000, 0.0000, 0.0000, 0.0000, 0.0000, 0.0000, 0.0000, 0.0000, 0.0000,\n",
              "         0.0000, 0.0000, 0.0000, 0.0000, 0.0000, 0.0000, 0.0000, 0.0000, 0.0000,\n",
              "         0.0000, 0.0000, 0.0000, 0.0000, 0.0000, 0.0000, 0.0000, 0.0000, 0.0000,\n",
              "         0.0000],\n",
              "        [0.0000, 0.0000, 0.0000, 0.0000, 0.0000, 0.0000, 0.0000, 0.0000, 0.0000,\n",
              "         0.0000, 0.0000, 0.0000, 0.0000, 0.0000, 0.0000, 0.0000, 0.0000, 0.0000,\n",
              "         0.0000, 0.0000, 0.0000, 0.0000, 0.0000, 0.0000, 0.0000, 0.0000, 0.0000,\n",
              "         0.0000],\n",
              "        [0.0000, 0.0000, 0.0000, 0.0000, 0.0000, 0.0000, 0.0000, 0.0000, 0.0000,\n",
              "         0.0000, 0.0000, 0.0000, 0.0000, 0.0000, 0.0000, 0.0000, 0.0000, 0.0000,\n",
              "         0.0000, 0.0000, 0.0000, 0.0000, 0.0000, 0.0000, 0.0000, 0.0000, 0.0000,\n",
              "         0.0000],\n",
              "        [0.0000, 0.0000, 0.0000, 0.0000, 0.0000, 0.0000, 0.0000, 0.0000, 0.0000,\n",
              "         0.0000, 0.0000, 0.0000, 0.0000, 0.0000, 0.0000, 0.0000, 0.0000, 0.0000,\n",
              "         0.0000, 0.0000, 0.0000, 0.0000, 0.0000, 0.0000, 0.0000, 0.0000, 0.0000,\n",
              "         0.0000],\n",
              "        [0.0000, 0.0000, 0.0000, 0.0000, 0.0000, 0.0000, 0.0000, 0.0000, 0.0000,\n",
              "         0.0000, 0.0000, 0.0000, 0.0000, 0.0000, 0.0000, 0.0000, 0.0000, 0.0000,\n",
              "         0.0000, 0.0000, 0.0000, 0.0000, 0.0000, 0.0000, 0.0000, 0.0000, 0.0000,\n",
              "         0.0000],\n",
              "        [0.0000, 0.0000, 0.0000, 0.0000, 0.0000, 0.0000, 0.0000, 0.0000, 0.0000,\n",
              "         0.0000, 0.0000, 0.0000, 0.0000, 0.0000, 0.0000, 0.0000, 0.0000, 0.0000,\n",
              "         0.0000, 0.0000, 0.0000, 0.0000, 0.0000, 0.0000, 0.0000, 0.0000, 0.0000,\n",
              "         0.0000],\n",
              "        [0.0000, 0.0000, 0.0000, 0.0000, 0.0000, 0.0000, 0.0000, 0.0000, 0.0000,\n",
              "         0.0000, 0.0000, 0.1765, 0.9098, 0.8275, 0.4980, 0.0627, 0.0000, 0.0000,\n",
              "         0.0000, 0.0000, 0.0000, 0.0000, 0.0000, 0.0000, 0.0000, 0.0000, 0.0000,\n",
              "         0.0000],\n",
              "        [0.0000, 0.0000, 0.0000, 0.0000, 0.0000, 0.0000, 0.0000, 0.0000, 0.0000,\n",
              "         0.0000, 0.0706, 0.7961, 0.9961, 0.9961, 0.9961, 0.8235, 0.3765, 0.0667,\n",
              "         0.0000, 0.0000, 0.0000, 0.0000, 0.0000, 0.0000, 0.0000, 0.0000, 0.0000,\n",
              "         0.0000],\n",
              "        [0.0000, 0.0000, 0.0000, 0.0000, 0.0000, 0.0000, 0.0000, 0.0000, 0.0000,\n",
              "         0.0000, 0.4353, 0.9961, 0.9961, 0.4667, 0.8941, 0.9961, 0.9961, 0.9412,\n",
              "         0.1490, 0.0000, 0.0000, 0.0000, 0.0000, 0.0000, 0.0000, 0.0000, 0.0000,\n",
              "         0.0000],\n",
              "        [0.0000, 0.0000, 0.0000, 0.0000, 0.0000, 0.0000, 0.0000, 0.0000, 0.0000,\n",
              "         0.0000, 0.8824, 0.9961, 0.7922, 0.0588, 0.1569, 0.8235, 0.9961, 0.9961,\n",
              "         0.4431, 0.0000, 0.0000, 0.0000, 0.0000, 0.0000, 0.0000, 0.0000, 0.0000,\n",
              "         0.0000],\n",
              "        [0.0000, 0.0000, 0.0000, 0.0000, 0.0000, 0.0000, 0.0000, 0.0000, 0.0000,\n",
              "         0.2314, 0.9569, 0.9961, 0.2706, 0.0000, 0.0000, 0.8157, 0.9961, 0.9961,\n",
              "         0.6902, 0.0000, 0.0000, 0.0000, 0.0000, 0.0000, 0.0000, 0.0000, 0.0000,\n",
              "         0.0000],\n",
              "        [0.0000, 0.0000, 0.0000, 0.0000, 0.0000, 0.0000, 0.0000, 0.0000, 0.0000,\n",
              "         0.7725, 0.9961, 0.9961, 0.1333, 0.0000, 0.2235, 0.9843, 0.9961, 0.9961,\n",
              "         0.5725, 0.0000, 0.0000, 0.0000, 0.0000, 0.0000, 0.0000, 0.0000, 0.0000,\n",
              "         0.0000],\n",
              "        [0.0000, 0.0000, 0.0000, 0.0000, 0.0000, 0.0000, 0.0000, 0.0000, 0.0000,\n",
              "         0.9176, 0.9961, 0.6235, 0.0157, 0.0392, 0.7176, 0.9961, 0.9961, 0.9961,\n",
              "         0.3843, 0.0000, 0.0000, 0.0000, 0.0000, 0.0000, 0.0000, 0.0000, 0.0000,\n",
              "         0.0000],\n",
              "        [0.0000, 0.0000, 0.0000, 0.0000, 0.0000, 0.0000, 0.0000, 0.0000, 0.0000,\n",
              "         0.9176, 0.9961, 0.1569, 0.0000, 0.6549, 0.9961, 0.9961, 0.9961, 0.9961,\n",
              "         0.2353, 0.0000, 0.0000, 0.0000, 0.0000, 0.0000, 0.0000, 0.0000, 0.0000,\n",
              "         0.0000],\n",
              "        [0.0000, 0.0000, 0.0000, 0.0000, 0.0000, 0.0000, 0.0000, 0.0000, 0.0000,\n",
              "         0.7373, 0.9961, 0.2824, 0.6588, 0.9765, 0.9961, 0.9961, 0.9961, 0.9961,\n",
              "         0.2353, 0.0000, 0.0000, 0.0000, 0.0000, 0.0000, 0.0000, 0.0000, 0.0000,\n",
              "         0.0000],\n",
              "        [0.0000, 0.0000, 0.0000, 0.0000, 0.0000, 0.0000, 0.0000, 0.0000, 0.0000,\n",
              "         0.3647, 0.9804, 0.9961, 0.9961, 0.9961, 0.9961, 0.9961, 0.9961, 0.9961,\n",
              "         0.2353, 0.0000, 0.0000, 0.0000, 0.0000, 0.0000, 0.0000, 0.0000, 0.0000,\n",
              "         0.0000],\n",
              "        [0.0000, 0.0000, 0.0000, 0.0000, 0.0000, 0.0000, 0.0000, 0.0000, 0.0000,\n",
              "         0.0000, 0.6784, 0.9961, 0.9961, 0.9961, 0.9451, 0.9961, 0.9961, 0.6824,\n",
              "         0.0392, 0.0000, 0.0000, 0.0000, 0.0000, 0.0000, 0.0000, 0.0000, 0.0000,\n",
              "         0.0000],\n",
              "        [0.0000, 0.0000, 0.0000, 0.0000, 0.0000, 0.0000, 0.0000, 0.0000, 0.0000,\n",
              "         0.0000, 0.0431, 0.4863, 0.8157, 0.4627, 0.5804, 0.9961, 0.9961, 0.8941,\n",
              "         0.0000, 0.0000, 0.0000, 0.0000, 0.0000, 0.0000, 0.0000, 0.0000, 0.0000,\n",
              "         0.0000],\n",
              "        [0.0000, 0.0000, 0.0000, 0.0000, 0.0000, 0.0000, 0.0000, 0.0000, 0.0000,\n",
              "         0.0000, 0.0000, 0.0000, 0.0000, 0.0000, 0.4941, 0.9961, 0.9961, 0.6235,\n",
              "         0.0000, 0.0000, 0.0000, 0.0000, 0.0000, 0.0000, 0.0000, 0.0000, 0.0000,\n",
              "         0.0000],\n",
              "        [0.0000, 0.0000, 0.0000, 0.0000, 0.0000, 0.0000, 0.0000, 0.0000, 0.0000,\n",
              "         0.0000, 0.0000, 0.0000, 0.0000, 0.0000, 0.7569, 0.9961, 0.9961, 0.5569,\n",
              "         0.0000, 0.0000, 0.0000, 0.0000, 0.0000, 0.0000, 0.0000, 0.0000, 0.0000,\n",
              "         0.0000],\n",
              "        [0.0000, 0.0000, 0.0000, 0.0000, 0.0000, 0.0000, 0.0000, 0.0000, 0.0000,\n",
              "         0.0000, 0.0000, 0.0000, 0.0000, 0.0000, 0.8314, 0.9961, 0.9961, 0.4157,\n",
              "         0.0000, 0.0000, 0.0000, 0.0000, 0.0000, 0.0000, 0.0000, 0.0000, 0.0000,\n",
              "         0.0000],\n",
              "        [0.0000, 0.0000, 0.0000, 0.0000, 0.0000, 0.0000, 0.0000, 0.0000, 0.0000,\n",
              "         0.0000, 0.0000, 0.0000, 0.0000, 0.0118, 0.8431, 0.9961, 0.9882, 0.2039,\n",
              "         0.0000, 0.0000, 0.0000, 0.0000, 0.0000, 0.0000, 0.0000, 0.0000, 0.0000,\n",
              "         0.0000],\n",
              "        [0.0000, 0.0000, 0.0000, 0.0000, 0.0000, 0.0000, 0.0000, 0.0000, 0.0000,\n",
              "         0.0000, 0.0000, 0.0000, 0.0000, 0.1882, 0.9961, 0.9961, 0.9255, 0.0863,\n",
              "         0.0000, 0.0000, 0.0000, 0.0000, 0.0000, 0.0000, 0.0000, 0.0000, 0.0000,\n",
              "         0.0000],\n",
              "        [0.0000, 0.0000, 0.0000, 0.0000, 0.0000, 0.0000, 0.0000, 0.0000, 0.0000,\n",
              "         0.0000, 0.0000, 0.0000, 0.0000, 0.5098, 0.9961, 1.0000, 0.5529, 0.0627,\n",
              "         0.0000, 0.0000, 0.0000, 0.0000, 0.0000, 0.0000, 0.0000, 0.0000, 0.0000,\n",
              "         0.0000],\n",
              "        [0.0000, 0.0000, 0.0000, 0.0000, 0.0000, 0.0000, 0.0000, 0.0000, 0.0000,\n",
              "         0.0000, 0.0000, 0.0000, 0.0000, 0.5098, 0.9961, 1.0000, 0.3059, 0.0000,\n",
              "         0.0000, 0.0000, 0.0000, 0.0000, 0.0000, 0.0000, 0.0000, 0.0000, 0.0000,\n",
              "         0.0000],\n",
              "        [0.0000, 0.0000, 0.0000, 0.0000, 0.0000, 0.0000, 0.0000, 0.0000, 0.0000,\n",
              "         0.0000, 0.0000, 0.0000, 0.0000, 0.3961, 0.9961, 0.7882, 0.0667, 0.0000,\n",
              "         0.0000, 0.0000, 0.0000, 0.0000, 0.0000, 0.0000, 0.0000, 0.0000, 0.0000,\n",
              "         0.0000],\n",
              "        [0.0000, 0.0000, 0.0000, 0.0000, 0.0000, 0.0000, 0.0000, 0.0000, 0.0000,\n",
              "         0.0000, 0.0000, 0.0000, 0.0000, 0.0000, 0.0000, 0.0000, 0.0000, 0.0000,\n",
              "         0.0000, 0.0000, 0.0000, 0.0000, 0.0000, 0.0000, 0.0000, 0.0000, 0.0000,\n",
              "         0.0000],\n",
              "        [0.0000, 0.0000, 0.0000, 0.0000, 0.0000, 0.0000, 0.0000, 0.0000, 0.0000,\n",
              "         0.0000, 0.0000, 0.0000, 0.0000, 0.0000, 0.0000, 0.0000, 0.0000, 0.0000,\n",
              "         0.0000, 0.0000, 0.0000, 0.0000, 0.0000, 0.0000, 0.0000, 0.0000, 0.0000,\n",
              "         0.0000]])"
            ]
          },
          "metadata": {},
          "execution_count": 24
        }
      ]
    },
    {
      "cell_type": "code",
      "source": [
        "plt.imshow(test_data[4143][0].reshape(28, 28))"
      ],
      "metadata": {
        "colab": {
          "base_uri": "https://localhost:8080/",
          "height": 447
        },
        "id": "O_rH7RHwnZTe",
        "outputId": "4afa86b8-1534-4356-a0c8-6a3df102b021"
      },
      "execution_count": 26,
      "outputs": [
        {
          "output_type": "execute_result",
          "data": {
            "text/plain": [
              "<matplotlib.image.AxesImage at 0x7a3451a06bc0>"
            ]
          },
          "metadata": {},
          "execution_count": 26
        },
        {
          "output_type": "display_data",
          "data": {
            "text/plain": [
              "<Figure size 640x480 with 1 Axes>"
            ],
            "image/png": "[encoded data removed]"
          },
          "metadata": {}
        }
      ]
    },
    {
      "cell_type": "code",
      "source": [
        "model.eval()\n",
        "with torch.no_grad():\n",
        "  new_prediction = model(test_data[4143][0].view(1, 1, 28, 28))"
      ],
      "metadata": {
        "id": "2Sjc7qDCnjhr"
      },
      "execution_count": 27,
      "outputs": []
    },
    {
      "cell_type": "code",
      "source": [
        "new_prediction"
      ],
      "metadata": {
        "colab": {
          "base_uri": "https://localhost:8080/"
        },
        "id": "8R3mot1pn-RK",
        "outputId": "a9dd99ca-dec7-477b-fba2-23fc1f93ec72"
      },
      "execution_count": 28,
      "outputs": [
        {
          "output_type": "execute_result",
          "data": {
            "text/plain": [
              "tensor([[-1.9783e+01, -2.0513e+01, -2.0931e+01, -1.3588e+01, -9.8797e+00,\n",
              "         -1.4948e+01, -3.3749e+01, -9.2057e+00, -1.4788e+01, -1.5365e-04]])"
            ]
          },
          "metadata": {},
          "execution_count": 28
        }
      ]
    },
    {
      "cell_type": "code",
      "source": [
        "new_prediction.argmax()"
      ],
      "metadata": {
        "colab": {
          "base_uri": "https://localhost:8080/"
        },
        "id": "70HRFlg6n_RX",
        "outputId": "b2de2e74-6b5f-4bdd-a661-be5b19a282fc"
      },
      "execution_count": 29,
      "outputs": [
        {
          "output_type": "execute_result",
          "data": {
            "text/plain": [
              "tensor(9)"
            ]
          },
          "metadata": {},
          "execution_count": 29
        }
      ]
    },
    {
      "cell_type": "code",
      "source": [
        "``"
      ],
      "metadata": {
        "id": "UjnUOl9SoF04"
      },
      "execution_count": null,
      "outputs": []
    }
  ]
}