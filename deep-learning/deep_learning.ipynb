{
  "nbformat": 4,
  "nbformat_minor": 0,
  "metadata": {
    "colab": {
      "provenance": [],
      "toc_visible": true
    },
    "kernelspec": {
      "name": "python3",
      "display_name": "Python 3"
    },
    "language_info": {
      "name": "python"
    }
  },
  "cells": [
    {
      "cell_type": "code",
      "execution_count": 1,
      "metadata": {
        "id": "zJTGdNdnhcEw"
      },
      "outputs": [],
      "source": [
        "import random\n",
        "\n",
        "import pandas as pd\n",
        "import numpy as np\n",
        "import matplotlib.pyplot as plt\n",
        "\n",
        "from sklearn.datasets import make_circles\n",
        "from sklearn.model_selection import train_test_split\n",
        "\n",
        "import torch\n",
        "from torch import nn # nn contains all of Pytorch building blocks for neural network\n",
        "import torch.nn.functional as F"
      ]
    },
    {
      "cell_type": "markdown",
      "source": [
        "## Introduction\n",
        "`Deep learning` is a specialised form of deep learning that involves neural network with many deep layers. Neural networks are designed to mimic the human's brain ability to recognize patterns and intercept complex data such as iamge, sound, or text\n",
        "\n",
        "### Difference b/w machine learning and deep learning\n",
        "\n",
        "<ul>\n",
        "    Machine learning is used for tabular or structured data\n",
        "  <li>\n",
        "    Machine learning requires feature engineering (select best relevant features)\n",
        "  </li>\n",
        "  <li>\n",
        "    Simpler and easy to interpret\n",
        "  </li>\n",
        "  <li>\n",
        "    Are computationally efficient and doesn't require high processing power\n",
        "  </li>\n",
        "</ul>\n",
        "\n",
        "<ul>\n",
        "    Deep learning works better for unstructured data like images, text, sound or video\n",
        "  <li>\n",
        "    Doesn't requires feature engineering\n",
        "  </li>\n",
        "  <li>\n",
        "    Due to complexity and depth, they are difficult to understand and are referred as black box\n",
        "  </li>\n",
        "  <li>\n",
        "    Works better with large amount of training data\n",
        "  </li>\n",
        "  <li>\n",
        "    Requires substantional competitive power\n",
        "  </li>\n",
        "</ul>"
      ],
      "metadata": {
        "id": "4NxT-f2D7ZCc"
      }
    },
    {
      "cell_type": "markdown",
      "source": [
        "### Neural Network\n",
        "They are complex computational models that are inspired by human brain strucutre and function. It consist of following layers\n",
        "<ul>\n",
        "  <li>\n",
        "    Artifical neurons or nodes\n",
        "  </li>\n",
        "  <li>\n",
        "    Input layer\n",
        "  </li>\n",
        "  <li>\n",
        "    One or more hidden layers\n",
        "  </li>\n",
        "  <li>\n",
        "    Output layer\n",
        "  </li>\n",
        "</ul>"
      ],
      "metadata": {
        "id": "dYJC5nz2885W"
      }
    },
    {
      "cell_type": "markdown",
      "source": [
        "`Neurons` are fundamental units of neural network which\n",
        "<ul>\n",
        "  <li>\n",
        "    Recieves an input\n",
        "  </li>\n",
        "  <li>\n",
        "    Process the input\n",
        "  </li>\n",
        "  <li>\n",
        "    Produces an output\n",
        "  </li>\n",
        "</ul>\n",
        "\n",
        "Each neuron has its own linear regresion model that is used to predict output using weighted inputs"
      ],
      "metadata": {
        "id": "3soltL829amO"
      }
    },
    {
      "cell_type": "markdown",
      "source": [
        "Each neuron has an activation function that introduces non-linear into the network, enabling it to learn and model complex problems. An `activation function` decides whether a neuron should be activated or not. This means that `it will decide whether the neuron's input to the network is important or not in the process of prediction using simpler mathematical operations.`\n",
        "<ul>\n",
        "  <li>\n",
        "    Sigmoid (outputs between 0 and 1)\n",
        "  </li>\n",
        "  <li>\n",
        "    Tanh (output between -1 and 1)\n",
        "  </li>\n",
        "  <li>\n",
        "    ReLu (ouput input directly if posiive otherwise 0. Widely used in hidden layers)\n",
        "  </li>\n",
        "</ul>"
      ],
      "metadata": {
        "id": "tFARQTIQ_Vom"
      }
    },
    {
      "cell_type": "markdown",
      "source": [
        "Neurons are organized into layers. There are three main\n",
        "<ul>\n",
        "  <li>\n",
        "    Input Layer\n",
        "  </li>\n",
        "  <li>\n",
        "    Hidden layers\n",
        "  </li>\n",
        "  <li>\n",
        "    Output layer\n",
        "  </li>\n",
        "</ul>"
      ],
      "metadata": {
        "id": "eFvmGpSt9mph"
      }
    },
    {
      "cell_type": "markdown",
      "source": [
        "`Input layer` recieves an input in raw form. Each neuron in this layer represents a feature of input data\n",
        "<br/>\n",
        "`Hidden layer` are layers that transform the input into something the output layer can use\n",
        "<br/>\n",
        "`Output layer` is final layer that produces the output. The number of neurons in this layer depends on nature of task"
      ],
      "metadata": {
        "id": "1SITAX6t9_bn"
      }
    },
    {
      "cell_type": "markdown",
      "source": [
        "#### How neural network works?\n",
        "<ol>\n",
        "  <li>\n",
        "    Each node has its own linear regression model composed of\n",
        "      <ul>\n",
        "        <li>\n",
        "          Input Layer\n",
        "        </li>\n",
        "        <li>\n",
        "          Weight\n",
        "        </li>\n",
        "        <li>\n",
        "          Bias (Each neuron has bias that allows the activation function to be shifted left or right, which helps the model fit the data better)\n",
        "        </li>\n",
        "      </ul>\n",
        "  </li>\n",
        "  <li>\n",
        "    Once input layer is determined, weights are assigned. It helps deremine the importance of any given variable, with larger ones contributong more significantly to the output\n",
        "  </li>\n",
        "  <li>\n",
        "    All input multiplied by their respective weights are then summed\n",
        "  </li>\n",
        "  <li>\n",
        "    The sum output is passed through an activation function which determines the output\n",
        "  </li>\n",
        "  <li>\n",
        "    Output of one node becomes input of next node. This process of passing data from one layer to next layer defines the neural network as feed forward neural network\n",
        "  </li>\n",
        "</ol>"
      ],
      "metadata": {
        "id": "BmMKZpuK_sPl"
      }
    },
    {
      "cell_type": "markdown",
      "source": [
        "## PyTorch\n"
      ],
      "metadata": {
        "id": "m7_sUQtB0w0d"
      }
    },
    {
      "cell_type": "markdown",
      "source": [
        "### Tensor\n",
        "`Tensors` are fundamental concept in deep learning serving as a primary data structure for storing and manipulating data. It is a multi-dimensional array that generalizes scalars, vectors, and matrices to higher dimensions"
      ],
      "metadata": {
        "id": "Xxj-LAda0-eE"
      }
    },
    {
      "cell_type": "markdown",
      "source": [
        "It is a way to represenst complex data structures and are essential for performing mathematical operaiton in deep learning. In Pytorchm, almost everything is referred as tensor"
      ],
      "metadata": {
        "id": "SLDObT4x1VI8"
      }
    },
    {
      "cell_type": "markdown",
      "source": [
        "In context of deep learning, tensors refers to the generalization of vectors and matrices to an arbitary number of dimensions. Another name for the same concept is *`multi-dimensional array`*"
      ],
      "metadata": {
        "id": "pJ3_4G3pH9oC"
      }
    },
    {
      "cell_type": "markdown",
      "source": [
        "Types of tensors include\n",
        "\n",
        "\n",
        "*   Scalar\n",
        "*   Vector\n",
        "*   Matrix\n",
        "*   3D Tensor\n",
        "*   ND Tensor\n",
        "\n"
      ],
      "metadata": {
        "id": "5-W0m82t1l5U"
      }
    },
    {
      "cell_type": "markdown",
      "source": [
        "**`Scalar tensor`** are single numbers and also known as 0 dimensional tensor"
      ],
      "metadata": {
        "id": "VA3H52LK18L7"
      }
    },
    {
      "cell_type": "code",
      "source": [
        "scalar = torch.tensor(7) #scalar tensor\n",
        "print(f\"Scalar: {scalar}\")\n",
        "print(f\"Dimension of scalar: {scalar.ndim}\")\n",
        "print(f\"Type: {type(scalar)}\")"
      ],
      "metadata": {
        "colab": {
          "base_uri": "https://localhost:8080/"
        },
        "id": "nCPk7PTAt9Ys",
        "outputId": "f2cfec84-8886-47df-a645-db9cbfd40e0e"
      },
      "execution_count": null,
      "outputs": [
        {
          "output_type": "stream",
          "name": "stdout",
          "text": [
            "Scalar: 7\n",
            "Dimension of scalar: 0\n",
            "Type: <class 'torch.Tensor'>\n"
          ]
        }
      ]
    },
    {
      "cell_type": "markdown",
      "source": [
        "We can retrieve the data inside a tensor as a python integer"
      ],
      "metadata": {
        "id": "d5GBc1fN2T_s"
      }
    },
    {
      "cell_type": "code",
      "source": [
        "print(f\"Item inside the scalar: {scalar.item()}\") # Here we get the value stored as a python integer\n",
        "print(f\"Type of item stored in the scalar: {type(scalar.item())}\")"
      ],
      "metadata": {
        "colab": {
          "base_uri": "https://localhost:8080/"
        },
        "id": "gKLcDVlWuvi2",
        "outputId": "4193c1e5-cc3d-4772-a233-fcd6c83eaa03"
      },
      "execution_count": null,
      "outputs": [
        {
          "output_type": "stream",
          "name": "stdout",
          "text": [
            "Item inside the scalar: 7\n",
            "Type of item stored in the scalar: <class 'int'>\n"
          ]
        }
      ]
    },
    {
      "cell_type": "markdown",
      "source": [
        "**`Vector`** are one dimensional array of numbers"
      ],
      "metadata": {
        "id": "ZImdCIz32p7U"
      }
    },
    {
      "cell_type": "code",
      "source": [
        "vector = torch.tensor([7, 7]) #vector has magnitude and a direction\n",
        "print(f\"Vector: {vector}\")  # you can calculate the number of dimension by counting the square\n",
        "                            # brackets []\n",
        "print(f\"Dimension of vector: {vector.ndim}\")\n",
        "print(f\"Shape of vector: {vector.shape}\")"
      ],
      "metadata": {
        "colab": {
          "base_uri": "https://localhost:8080/"
        },
        "id": "cP_Hbwf8u_NJ",
        "outputId": "e148fb38-b326-4dbf-de90-c043033395ec"
      },
      "execution_count": null,
      "outputs": [
        {
          "output_type": "stream",
          "name": "stdout",
          "text": [
            "Vector: tensor([7, 7])\n",
            "Dimension of vector: 1\n",
            "Shape of vector: torch.Size([2])\n"
          ]
        }
      ]
    },
    {
      "cell_type": "markdown",
      "source": [
        "**`Matrix`** are two-dimensional array of numbers"
      ],
      "metadata": {
        "id": "1QcgNFss3JGC"
      }
    },
    {
      "cell_type": "code",
      "source": [
        "MATRIX = torch.tensor([[7, 8],\n",
        "                       [9, 10]]) #matrix is usally indicated with capital name\n",
        "\n",
        "print(f\"Matrix: {MATRIX}\")\n",
        "print(f\"Dimension of matrix: {MATRIX.ndim}\")\n",
        "print(f\"Shape of matrix: {MATRIX.shape}\")\n",
        "print(f\"Type of matrix: {type(MATRIX)}\")\n",
        "print(f\"First item in the matrix: {MATRIX[0]}\")"
      ],
      "metadata": {
        "colab": {
          "base_uri": "https://localhost:8080/"
        },
        "id": "DQF2dXNpvhcZ",
        "outputId": "48068687-822b-4070-b16b-533266e8da3b"
      },
      "execution_count": null,
      "outputs": [
        {
          "output_type": "stream",
          "name": "stdout",
          "text": [
            "Matrix: tensor([[ 7,  8],\n",
            "        [ 9, 10]])\n",
            "Dimension of matrix: 2\n",
            "Shape of matrix: torch.Size([2, 2])\n",
            "Type of matrix: <class 'torch.Tensor'>\n",
            "First item in the matrix: tensor([7, 8])\n"
          ]
        }
      ]
    },
    {
      "cell_type": "markdown",
      "source": [
        "**3D Tensor** is a three-dimensional array of numbers, often used to\n",
        "represent a sequence of matrices"
      ],
      "metadata": {
        "id": "wDhal1ofJVcG"
      }
    },
    {
      "cell_type": "code",
      "source": [
        " TENSOR = torch.tensor([[[1, 2],\n",
        "                         [3, 4],\n",
        "                         [4, 5]]]) # tensor are also named capital\n",
        "print(f\"Tensor: {TENSOR}\")\n",
        "print(f\"Shape of tensor: {TENSOR.shape}\")\n",
        "print(f\"Dimension of tensor: {TENSOR.ndim}\")\n",
        "print(f\"Type of tensor: {type(TENSOR)}\")\n",
        "print(f\"Second item in the tensor: {TENSOR[0]}\")"
      ],
      "metadata": {
        "colab": {
          "base_uri": "https://localhost:8080/"
        },
        "id": "5N2iZnTiv6gW",
        "outputId": "74a9be9e-36e0-4f54-c3cb-28625c9f22ac"
      },
      "execution_count": null,
      "outputs": [
        {
          "output_type": "stream",
          "name": "stdout",
          "text": [
            "Tensor: tensor([[[1, 2],\n",
            "         [3, 4],\n",
            "         [4, 5]]])\n",
            "Shape of tensor: torch.Size([1, 3, 2])\n",
            "Dimension of tensor: 3\n",
            "Type of tensor: <class 'torch.Tensor'>\n",
            "Second item in the tensor: tensor([[1, 2],\n",
            "        [3, 4],\n",
            "        [4, 5]])\n"
          ]
        }
      ]
    },
    {
      "cell_type": "markdown",
      "source": [
        "**Random tensors** are tensors filled with random values. Random numbers are crucial in deep learning for various reasons\n",
        "\n",
        "*   Weights in neural network are typically initialized with random values\n",
        "*   Random tensors can be used to introduce randomness and variability in the input data during training\n",
        "*   The way neural network learn is they start with tensors full of random numbers and then adjust those random number to better represent the data\n",
        "\n"
      ],
      "metadata": {
        "id": "dyrgF0dzJ-N9"
      }
    },
    {
      "cell_type": "markdown",
      "source": [
        "***`Start with random numbers -> look at data -> update random numbers -> look at data -> update random numbers`***"
      ],
      "metadata": {
        "id": "ZmJil6GX4pry"
      }
    },
    {
      "cell_type": "code",
      "source": [
        "# create a random tensor of size (3, 4)\n",
        "random_tensor = torch.rand(3, 4)\n",
        "print(f\"Tensor with random values and of shape (3, 4): \\n\\n{random_tensor}\")"
      ],
      "metadata": {
        "colab": {
          "base_uri": "https://localhost:8080/"
        },
        "id": "qRtzz5GI4o3z",
        "outputId": "8ffa981a-2c74-43d7-889e-7c0b77e9cb77"
      },
      "execution_count": null,
      "outputs": [
        {
          "output_type": "stream",
          "name": "stdout",
          "text": [
            "Tensor with random values and of shape (3, 4): \n",
            "\n",
            "tensor([[0.6672, 0.1332, 0.8477, 0.5400],\n",
            "        [0.7751, 0.2600, 0.5883, 0.7640],\n",
            "        [0.3466, 0.2019, 0.6494, 0.5128]])\n"
          ]
        }
      ]
    },
    {
      "cell_type": "code",
      "source": [
        "# create a random tensor with similar shape to an image tensor\n",
        "random_image_size_tensor = torch.rand(size=(224, 224, 3)) #height, width, of color\n",
        "                                                          # channels (R, G, B)\n",
        "random_image_size_tensor"
      ],
      "metadata": {
        "colab": {
          "base_uri": "https://localhost:8080/"
        },
        "id": "bEW9GB3xQzW8",
        "outputId": "d33ecb3b-cc0e-4bcb-af8c-08f07b5ac0e7"
      },
      "execution_count": null,
      "outputs": [
        {
          "output_type": "execute_result",
          "data": {
            "text/plain": [
              "tensor([[[0.7789, 0.9671, 0.9627],\n",
              "         [0.9973, 0.0995, 0.5866],\n",
              "         [0.9299, 0.4142, 0.7746],\n",
              "         ...,\n",
              "         [0.7212, 0.3567, 0.0506],\n",
              "         [0.4683, 0.7544, 0.8661],\n",
              "         [0.9962, 0.1573, 0.9356]],\n",
              "\n",
              "        [[0.1309, 0.3091, 0.3121],\n",
              "         [0.1000, 0.6089, 0.5859],\n",
              "         [0.3567, 0.7816, 0.6649],\n",
              "         ...,\n",
              "         [0.1116, 0.6984, 0.6725],\n",
              "         [0.1077, 0.0357, 0.9666],\n",
              "         [0.9041, 0.2112, 0.4902]],\n",
              "\n",
              "        [[0.7164, 0.5593, 0.4399],\n",
              "         [0.1770, 0.1366, 0.8591],\n",
              "         [0.4599, 0.4374, 0.6637],\n",
              "         ...,\n",
              "         [0.3293, 0.8928, 0.1439],\n",
              "         [0.6255, 0.5210, 0.1135],\n",
              "         [0.3691, 0.4658, 0.5474]],\n",
              "\n",
              "        ...,\n",
              "\n",
              "        [[0.8911, 0.5221, 0.6324],\n",
              "         [0.1247, 0.4185, 0.0520],\n",
              "         [0.5082, 0.2870, 0.4402],\n",
              "         ...,\n",
              "         [0.6544, 0.6166, 0.6535],\n",
              "         [0.6125, 0.9050, 0.7228],\n",
              "         [0.4790, 0.4963, 0.1604]],\n",
              "\n",
              "        [[0.0831, 0.0322, 0.0552],\n",
              "         [0.1448, 0.1376, 0.6349],\n",
              "         [0.6246, 0.1796, 0.9551],\n",
              "         ...,\n",
              "         [0.0353, 0.7799, 0.1872],\n",
              "         [0.1659, 0.0303, 0.2253],\n",
              "         [0.3383, 0.3399, 0.7596]],\n",
              "\n",
              "        [[0.4504, 0.8244, 0.1966],\n",
              "         [0.8110, 0.2369, 0.0748],\n",
              "         [0.0506, 0.7465, 0.4360],\n",
              "         ...,\n",
              "         [0.0068, 0.3186, 0.1315],\n",
              "         [0.8027, 0.7132, 0.0545],\n",
              "         [0.0588, 0.2704, 0.2266]]])"
            ]
          },
          "metadata": {},
          "execution_count": 45
        }
      ]
    },
    {
      "cell_type": "code",
      "source": [
        "# we can create a tensor of zeros values\n",
        "zeros = torch.zeros(size=(3, 4))\n",
        "zeros"
      ],
      "metadata": {
        "colab": {
          "base_uri": "https://localhost:8080/"
        },
        "id": "M0Fnb-05Q3Rx",
        "outputId": "5f764637-45fe-4d6f-fc2a-d1c4516aee85"
      },
      "execution_count": null,
      "outputs": [
        {
          "output_type": "execute_result",
          "data": {
            "text/plain": [
              "tensor([[0., 0., 0., 0.],\n",
              "        [0., 0., 0., 0.],\n",
              "        [0., 0., 0., 0.]])"
            ]
          },
          "metadata": {},
          "execution_count": 46
        }
      ]
    },
    {
      "cell_type": "code",
      "source": [
        "# We can also create a tensor os specified shape containing only one\n",
        "ones = torch.ones(size=(4, 4))\n",
        "ones"
      ],
      "metadata": {
        "colab": {
          "base_uri": "https://localhost:8080/"
        },
        "id": "MOOHc81TQ8MY",
        "outputId": "76a08064-76c4-454f-da55-98601fd23afb"
      },
      "execution_count": null,
      "outputs": [
        {
          "output_type": "execute_result",
          "data": {
            "text/plain": [
              "tensor([[1., 1., 1., 1.],\n",
              "        [1., 1., 1., 1.],\n",
              "        [1., 1., 1., 1.],\n",
              "        [1., 1., 1., 1.]])"
            ]
          },
          "metadata": {},
          "execution_count": 47
        }
      ]
    },
    {
      "cell_type": "code",
      "source": [
        "torch.arange(0 ,10)"
      ],
      "metadata": {
        "colab": {
          "base_uri": "https://localhost:8080/"
        },
        "id": "xzb-N4CXREDZ",
        "outputId": "7ce664dc-25c6-4a1e-cd15-5b141772d988"
      },
      "execution_count": null,
      "outputs": [
        {
          "output_type": "execute_result",
          "data": {
            "text/plain": [
              "tensor([0, 1, 2, 3, 4, 5, 6, 7, 8, 9])"
            ]
          },
          "metadata": {},
          "execution_count": 13
        }
      ]
    },
    {
      "cell_type": "code",
      "source": [
        "even_numbers = torch.arange(0, 10, 2)\n",
        "even_numbers"
      ],
      "metadata": {
        "colab": {
          "base_uri": "https://localhost:8080/"
        },
        "id": "vJeFsKiPRiAk",
        "outputId": "6d6eff01-10e2-4226-a355-94cff2c84a37"
      },
      "execution_count": null,
      "outputs": [
        {
          "output_type": "execute_result",
          "data": {
            "text/plain": [
              "tensor([0, 2, 4, 6, 8])"
            ]
          },
          "metadata": {},
          "execution_count": 53
        }
      ]
    },
    {
      "cell_type": "markdown",
      "source": [
        "In pytorch we use **tensor_like** function\n",
        "\n",
        "*   When you need to create new tensors that match the shape and data type of existing tensors, thus ensuring consistency\n",
        "*   Make the code more readable and concise\n",
        "*   Simplifies the process of creating tensors that share properties with an existing tensor\n",
        "\n"
      ],
      "metadata": {
        "id": "BNnuvEbMRhCM"
      }
    },
    {
      "cell_type": "code",
      "source": [
        "# creating tensors like\n",
        "ten_zeros = torch.zeros_like(input=even_numbers)\n",
        "ten_zeros"
      ],
      "metadata": {
        "colab": {
          "base_uri": "https://localhost:8080/"
        },
        "id": "FlRzxgfORcXr",
        "outputId": "88386b48-9721-43a2-cb08-d950381a598f"
      },
      "execution_count": null,
      "outputs": [
        {
          "output_type": "execute_result",
          "data": {
            "text/plain": [
              "tensor([0, 0, 0, 0, 0])"
            ]
          },
          "metadata": {},
          "execution_count": 54
        }
      ]
    },
    {
      "cell_type": "markdown",
      "source": [
        "### Indexing tensors"
      ],
      "metadata": {
        "id": "d5M4bJSGJAhK"
      }
    },
    {
      "cell_type": "markdown",
      "source": [
        "We can index tensors with the same notation just as in NumPy and other python scientific libraries"
      ],
      "metadata": {
        "id": "sZjZGGljKZsA"
      }
    },
    {
      "cell_type": "markdown",
      "source": [
        "**Vector Tensors**"
      ],
      "metadata": {
        "id": "cv48WbeLJ5kh"
      }
    },
    {
      "cell_type": "code",
      "source": [
        "tensor = torch.arange(0, 10)\n",
        "\n",
        "print(f\"Tensor: {tensor}\")\n",
        "print(f\"\\nFirst Element: {tensor[0]}\")\n",
        "print(f\"\\nLast Element: {tensor[-1]}\")\n",
        "print(f\"\\nFirst Two elements: {tensor[:2]}\")"
      ],
      "metadata": {
        "colab": {
          "base_uri": "https://localhost:8080/"
        },
        "id": "xvTvUubVJ48a",
        "outputId": "4e70780e-a4de-443e-d0ef-12aa55c14971"
      },
      "execution_count": null,
      "outputs": [
        {
          "output_type": "stream",
          "name": "stdout",
          "text": [
            "Tensor: tensor([0, 1, 2, 3, 4, 5, 6, 7, 8, 9])\n",
            "\n",
            "First Element: 0\n",
            "\n",
            "Last Element: 9\n",
            "\n",
            "First Two elements at 1 index: tensor([0, 1])\n"
          ]
        }
      ]
    },
    {
      "cell_type": "markdown",
      "source": [
        "**Matrix Tensors**"
      ],
      "metadata": {
        "id": "c-L3BtESKTb5"
      }
    },
    {
      "cell_type": "code",
      "source": [
        "print(f\"Tensor: {random_tensor}\")\n",
        "print(f\"\\nElement on 0 index: {random_tensor[0]}\")\n",
        "print(f\"\\nFirst Element: {random_tensor[0][0]}\")\n",
        "print(f\"\\nLast Element: {random_tensor[-1][-1]}\")\n",
        "print(f\"\\nFirst Two elements at 1 index: {random_tensor[1][:2]}\")"
      ],
      "metadata": {
        "colab": {
          "base_uri": "https://localhost:8080/"
        },
        "id": "KCVBSOM8JAz7",
        "outputId": "7a7e7771-9941-4e07-9ab2-c2cc6b395e51"
      },
      "execution_count": null,
      "outputs": [
        {
          "output_type": "stream",
          "name": "stdout",
          "text": [
            "Tensor: tensor([[0.6672, 0.1332, 0.8477, 0.5400],\n",
            "        [0.7751, 0.2600, 0.5883, 0.7640],\n",
            "        [0.3466, 0.2019, 0.6494, 0.5128]])\n",
            "\n",
            "Element on 0 index: tensor([0.6672, 0.1332, 0.8477, 0.5400])\n",
            "\n",
            "First Element: 0.6672316193580627\n",
            "\n",
            "Last Element: 0.5127742886543274\n",
            "\n",
            "First Two elements at 1 index: tensor([0.7751, 0.2600])\n"
          ]
        }
      ]
    },
    {
      "cell_type": "markdown",
      "source": [
        "### Named tensors\n",
        "***Named tensors*** are feature in PyToch that allows you to associate names with the dimensions of a tenor, making tensor opeartion more readable and less error prone. It also improves readability and makes debugging easy"
      ],
      "metadata": {
        "id": "q12rF66yM002"
      }
    },
    {
      "cell_type": "code",
      "source": [
        "tensor = torch.rand(2, 3, 3, names=('Red', 'Green', 'Blue'))\n",
        "print(f\"Tensor: {tensor}\")\n",
        "print(f\"\\nTensor name: {tensor.names}\")"
      ],
      "metadata": {
        "colab": {
          "base_uri": "https://localhost:8080/"
        },
        "id": "4mYBoZAmM0bT",
        "outputId": "275c42ca-028a-4b7b-8e20-c0e7a00317b7"
      },
      "execution_count": null,
      "outputs": [
        {
          "output_type": "stream",
          "name": "stdout",
          "text": [
            "Tensor: tensor([[[0.0272, 0.3874, 0.4744],\n",
            "         [0.2397, 0.3241, 0.3169],\n",
            "         [0.1423, 0.6742, 0.4621]],\n",
            "\n",
            "        [[0.5829, 0.1077, 0.1516],\n",
            "         [0.8369, 0.1507, 0.9246],\n",
            "         [0.4054, 0.4225, 0.5438]]], names=('Red', 'Green', 'Blue'))\n",
            "\n",
            "Tensor name: ('Red', 'Green', 'Blue')\n"
          ]
        },
        {
          "output_type": "stream",
          "name": "stderr",
          "text": [
            "<ipython-input-14-055b0cc3d740>:1: UserWarning: Named tensors and all their associated APIs are an experimental feature and subject to change. Please do not use them for anything important until they are released as stable. (Triggered internally at ../c10/core/TensorImpl.h:1921.)\n",
            "  tensor = torch.rand(2, 3, 3, names=('Red', 'Green', 'Blue'))\n"
          ]
        }
      ]
    },
    {
      "cell_type": "markdown",
      "source": [
        "We can select a specific dimension using its name"
      ],
      "metadata": {
        "id": "TPFjH1pwN-Ge"
      }
    },
    {
      "cell_type": "code",
      "source": [
        "red_color = tensor.select(dim='Red', index=0)\n",
        "print(f\"Red color data: \\n{red_color}\")"
      ],
      "metadata": {
        "colab": {
          "base_uri": "https://localhost:8080/"
        },
        "id": "nkqG9Er9N94O",
        "outputId": "73ae5ec7-d2a7-4c86-a8bd-845d5cb66e1e"
      },
      "execution_count": null,
      "outputs": [
        {
          "output_type": "stream",
          "name": "stdout",
          "text": [
            "Red color data: \n",
            "tensor([[0.0272, 0.3874, 0.4744],\n",
            "        [0.2397, 0.3241, 0.3169],\n",
            "        [0.1423, 0.6742, 0.4621]], names=('Green', 'Blue'))\n"
          ]
        }
      ]
    },
    {
      "cell_type": "code",
      "source": [
        "green_color = tensor.select(dim='Green', index=0)\n",
        "print(f\"Green color data: \\n{green_color}\")"
      ],
      "metadata": {
        "colab": {
          "base_uri": "https://localhost:8080/"
        },
        "id": "KXuxL_7TrwRh",
        "outputId": "685a6748-b8c1-4209-df8c-0bafa71303db"
      },
      "execution_count": null,
      "outputs": [
        {
          "output_type": "stream",
          "name": "stdout",
          "text": [
            "Green color data: \n",
            "tensor([[0.0272, 0.3874, 0.4744],\n",
            "        [0.5829, 0.1077, 0.1516]], names=('Red', 'Blue'))\n"
          ]
        }
      ]
    },
    {
      "cell_type": "code",
      "source": [
        "blue_color = tensor.select(dim='Blue', index=0)\n",
        "print(f\"Blue color data: \\n{blue_color}\")"
      ],
      "metadata": {
        "colab": {
          "base_uri": "https://localhost:8080/"
        },
        "id": "OF_W11jyr9tg",
        "outputId": "482cdda2-de4d-47ac-80b1-2d9d43217aba"
      },
      "execution_count": null,
      "outputs": [
        {
          "output_type": "stream",
          "name": "stdout",
          "text": [
            "Blue color data: \n",
            "tensor([[0.0272, 0.2397, 0.1423],\n",
            "        [0.5829, 0.8369, 0.4054]], names=('Red', 'Green'))\n"
          ]
        }
      ]
    },
    {
      "cell_type": "markdown",
      "source": [
        "We can rename existing tensors"
      ],
      "metadata": {
        "id": "oQTAWhK4OW3o"
      }
    },
    {
      "cell_type": "code",
      "source": [
        "new_tensor = tensor.rename(Red='red_color', Green='green_color')\n",
        "print(f\"New Tensor: {new_tensor}\")\n",
        "print(f\"\\nNew names: {new_tensor.names}\")"
      ],
      "metadata": {
        "colab": {
          "base_uri": "https://localhost:8080/"
        },
        "id": "_uuseSg2N6ZP",
        "outputId": "8b4fd17b-a22a-4b90-a76a-3a7667e78ae5"
      },
      "execution_count": null,
      "outputs": [
        {
          "output_type": "stream",
          "name": "stdout",
          "text": [
            "New Tensor: tensor([[[0.2436, 0.0957, 0.1743],\n",
            "         [0.2378, 0.0855, 0.5250],\n",
            "         [0.0725, 0.0408, 0.1775]],\n",
            "\n",
            "        [[0.6060, 0.9309, 0.7031],\n",
            "         [0.0628, 0.6746, 0.0414],\n",
            "         [0.2047, 0.2586, 0.1226]]],\n",
            "       names=('red_color', 'green_color', 'Blue'))\n",
            "\n",
            "New names: ('red_color', 'green_color', 'Blue')\n"
          ]
        }
      ]
    },
    {
      "cell_type": "markdown",
      "source": [
        "Performing some examples"
      ],
      "metadata": {
        "id": "YycxQGmhPc3s"
      }
    },
    {
      "cell_type": "code",
      "source": [
        "red, green, blue =  3, 64, 64\n",
        "images = torch.rand(red, green, blue, names=('red', 'green', 'blue'))\n",
        "\n",
        "print(f\"Images {images}\")\n",
        "\n",
        "red_mean = images.mean(dim='red', keepdim=True)\n",
        "green_std = images.std(dim='green', keepdim=False)\n",
        "\n",
        "print(f\"\\nRed color mean: {red_mean}\")\n",
        "print(f\"\\nGreen color mean: {green_std}\")"
      ],
      "metadata": {
        "colab": {
          "base_uri": "https://localhost:8080/"
        },
        "id": "wn4GJJDKPbvQ",
        "outputId": "e520f29e-9414-4b01-cce9-97fa73595c9c"
      },
      "execution_count": null,
      "outputs": [
        {
          "output_type": "stream",
          "name": "stdout",
          "text": [
            "Images tensor([[[0.0622, 0.1264, 0.7123,  ..., 0.7022, 0.5376, 0.0841],\n",
            "         [0.6538, 0.0045, 0.6487,  ..., 0.4707, 0.3573, 0.8898],\n",
            "         [0.6224, 0.1207, 0.6166,  ..., 0.2881, 0.8859, 0.8363],\n",
            "         ...,\n",
            "         [0.3276, 0.4432, 0.6523,  ..., 0.9133, 0.2721, 0.2487],\n",
            "         [0.6604, 0.4026, 0.8583,  ..., 0.3986, 0.3913, 0.7750],\n",
            "         [0.6729, 0.9702, 0.8605,  ..., 0.7345, 0.8964, 0.1710]],\n",
            "\n",
            "        [[0.6086, 0.8549, 0.0965,  ..., 0.2895, 0.8981, 0.5714],\n",
            "         [0.5560, 0.1346, 0.1417,  ..., 0.2531, 0.9660, 0.1326],\n",
            "         [0.4762, 0.3648, 0.7717,  ..., 0.3214, 0.6674, 0.1684],\n",
            "         ...,\n",
            "         [0.7767, 0.2220, 0.1748,  ..., 0.5914, 0.1453, 0.6945],\n",
            "         [0.7204, 0.9521, 0.3169,  ..., 0.1089, 0.5585, 0.0336],\n",
            "         [0.7296, 0.8808, 0.2808,  ..., 0.1825, 0.5623, 0.1948]],\n",
            "\n",
            "        [[0.9736, 0.8402, 0.8647,  ..., 0.5777, 0.4864, 0.8276],\n",
            "         [0.6686, 0.5525, 0.2231,  ..., 0.4558, 0.5644, 0.8896],\n",
            "         [0.7455, 0.5204, 0.2836,  ..., 0.6366, 0.8354, 0.8209],\n",
            "         ...,\n",
            "         [0.0747, 0.7809, 0.1262,  ..., 0.9271, 0.6523, 0.9887],\n",
            "         [0.3315, 0.6317, 0.4005,  ..., 0.4370, 0.6355, 0.2805],\n",
            "         [0.4008, 0.1259, 0.4123,  ..., 0.6321, 0.1656, 0.9930]]],\n",
            "       names=('red', 'green', 'blue'))\n",
            "\n",
            "Red color mean: tensor([[[0.5481, 0.6072, 0.5579,  ..., 0.5231, 0.6407, 0.4944],\n",
            "         [0.6261, 0.2305, 0.3378,  ..., 0.3932, 0.6292, 0.6373],\n",
            "         [0.6147, 0.3353, 0.5573,  ..., 0.4154, 0.7962, 0.6085],\n",
            "         ...,\n",
            "         [0.3930, 0.4820, 0.3178,  ..., 0.8106, 0.3565, 0.6440],\n",
            "         [0.5708, 0.6621, 0.5252,  ..., 0.3148, 0.5284, 0.3630],\n",
            "         [0.6011, 0.6590, 0.5179,  ..., 0.5164, 0.5415, 0.4529]]],\n",
            "       names=('red', 'green', 'blue'))\n",
            "\n",
            "Green color mean: tensor([[0.2878, 0.2450, 0.2657, 0.2819, 0.2563, 0.3037, 0.2980, 0.2765, 0.3095,\n",
            "         0.2880, 0.2764, 0.2986, 0.3255, 0.2885, 0.2658, 0.2857, 0.2932, 0.2790,\n",
            "         0.2990, 0.2751, 0.2727, 0.2863, 0.3101, 0.2722, 0.2919, 0.3075, 0.2908,\n",
            "         0.3152, 0.2767, 0.2949, 0.2675, 0.2645, 0.2898, 0.3085, 0.3168, 0.2894,\n",
            "         0.2908, 0.2960, 0.2905, 0.3010, 0.2850, 0.2764, 0.2688, 0.2983, 0.2807,\n",
            "         0.2816, 0.2742, 0.3008, 0.3153, 0.2728, 0.2674, 0.2797, 0.2738, 0.2847,\n",
            "         0.2974, 0.2955, 0.2916, 0.3294, 0.2886, 0.2942, 0.2779, 0.2639, 0.3235,\n",
            "         0.2732],\n",
            "        [0.2587, 0.3324, 0.2929, 0.3005, 0.3001, 0.2527, 0.2710, 0.3033, 0.2968,\n",
            "         0.2616, 0.2954, 0.2640, 0.3119, 0.2744, 0.2521, 0.2421, 0.2926, 0.3049,\n",
            "         0.2673, 0.3094, 0.2848, 0.2965, 0.3025, 0.3076, 0.2752, 0.2975, 0.3073,\n",
            "         0.3005, 0.2893, 0.2658, 0.2959, 0.3011, 0.3049, 0.3034, 0.2754, 0.3056,\n",
            "         0.2701, 0.2783, 0.2716, 0.2734, 0.2719, 0.2925, 0.2958, 0.2834, 0.2860,\n",
            "         0.2856, 0.2574, 0.2876, 0.2794, 0.3011, 0.2620, 0.2624, 0.3087, 0.2880,\n",
            "         0.2680, 0.3016, 0.2745, 0.2943, 0.3071, 0.2905, 0.3005, 0.3074, 0.2779,\n",
            "         0.2764],\n",
            "        [0.2961, 0.2723, 0.2808, 0.2883, 0.2911, 0.2952, 0.2990, 0.2853, 0.2912,\n",
            "         0.2989, 0.2939, 0.3069, 0.2932, 0.2873, 0.2882, 0.2888, 0.2861, 0.2777,\n",
            "         0.3187, 0.2795, 0.2773, 0.3173, 0.2903, 0.2721, 0.3022, 0.2692, 0.2743,\n",
            "         0.2908, 0.2844, 0.2698, 0.3023, 0.2986, 0.2964, 0.3188, 0.2789, 0.2731,\n",
            "         0.2794, 0.2864, 0.2612, 0.2752, 0.2918, 0.3089, 0.2913, 0.2967, 0.2592,\n",
            "         0.2862, 0.3032, 0.2695, 0.2787, 0.2707, 0.2964, 0.3008, 0.2806, 0.2836,\n",
            "         0.2849, 0.3117, 0.3048, 0.2781, 0.2731, 0.3032, 0.2703, 0.2756, 0.2611,\n",
            "         0.2889]], names=('red', 'blue'))\n"
          ]
        }
      ]
    },
    {
      "cell_type": "markdown",
      "source": [
        "### Tensor element attributes"
      ],
      "metadata": {
        "id": "SzTgHdsrRu6C"
      }
    },
    {
      "cell_type": "markdown",
      "source": [
        "Tensors have some important attributes like\n",
        "\n",
        "*   **tensor.dtype** (returns the data type of the tensor's elements)\n",
        "*   **tensor.device** (indicates the device on which the tensor is stored like CPU, GPU)\n",
        "*   **tensor.numel()** (returns the total number of elements in the tensor)\n",
        "*   **tensor.layout** (returns the layout of tensor)\n",
        "*   **tensor.requires_grad** (indicates whehter gradient computation is required for the tensor?)\n",
        "\n",
        "\n",
        "\n"
      ],
      "metadata": {
        "id": "GDLUOP3YDk_B"
      }
    },
    {
      "cell_type": "markdown",
      "source": [
        "The **dtype** argument specifies the numerical data type that will be contained in the tensor. It specifies the possible value the tensor can hold and the number of bytes per value.\n",
        "<br/>\n",
        "Computation in neural network are typically executed with 32-bit floating-point precision. 64-bit does not improve accuracy in the model and will require more memory and computing time"
      ],
      "metadata": {
        "id": "EA6UpaBCnEKp"
      }
    },
    {
      "cell_type": "code",
      "source": [
        "float_32_tensor = torch.tensor([3.0, 6.0, 9.0],\n",
        "                               dtype=torch.float32, # data type of the tensor\n",
        "                               device=\"cpu\", # what devices is your tensor on\n",
        "                               requires_grad=False) # want pytorch to track gradients\n",
        "float_32_tensor"
      ],
      "metadata": {
        "colab": {
          "base_uri": "https://localhost:8080/"
        },
        "id": "gDTIBPITCd-7",
        "outputId": "693939c9-3a0c-40dd-93e4-701a7fb67d18"
      },
      "execution_count": null,
      "outputs": [
        {
          "output_type": "execute_result",
          "data": {
            "text/plain": [
              "tensor([3., 6., 9.])"
            ]
          },
          "metadata": {},
          "execution_count": 57
        }
      ]
    },
    {
      "cell_type": "code",
      "source": [
        "#always creates a copy\n",
        "float_64_tensor = float_32_tensor.type(torch.float64) #float_32_tensor is not changed\n",
        "float_64_tensor"
      ],
      "metadata": {
        "colab": {
          "base_uri": "https://localhost:8080/"
        },
        "id": "fRXydOulD2lq",
        "outputId": "bb5fd674-2537-4e69-a511-1bac327bba7b"
      },
      "execution_count": null,
      "outputs": [
        {
          "output_type": "execute_result",
          "data": {
            "text/plain": [
              "tensor([3., 6., 9.], dtype=torch.float64)"
            ]
          },
          "metadata": {},
          "execution_count": 59
        }
      ]
    },
    {
      "cell_type": "code",
      "source": [
        "float_32_tensor.dtype"
      ],
      "metadata": {
        "colab": {
          "base_uri": "https://localhost:8080/"
        },
        "id": "2zfLhMVdGBUa",
        "outputId": "3a8276d4-4844-4bc2-990b-a84178d7b8a0"
      },
      "execution_count": null,
      "outputs": [
        {
          "output_type": "execute_result",
          "data": {
            "text/plain": [
              "torch.float32"
            ]
          },
          "metadata": {},
          "execution_count": 61
        }
      ]
    },
    {
      "cell_type": "markdown",
      "source": [
        "### Tensor Arithmetics"
      ],
      "metadata": {
        "id": "aaQB3Mt8n7k5"
      }
    },
    {
      "cell_type": "markdown",
      "source": [
        "**We can perform arthematic operations on the tensors**"
      ],
      "metadata": {
        "id": "ePYWcyPzMhFY"
      }
    },
    {
      "cell_type": "code",
      "source": [
        "# manipulating tensors\n",
        "# additions, subtraction, multiplication (element-wise), division, matrix multiplication"
      ],
      "metadata": {
        "id": "gNCuynHcGhNo"
      },
      "execution_count": null,
      "outputs": []
    },
    {
      "cell_type": "code",
      "source": [
        "ten = torch.tensor([1, 2, 3])\n",
        "print(f\"Tensor: {ten}\")\n",
        "print(f\"Adding 10 to the tensor: {ten + 10}\")\n",
        "print(f\"Multiplying 25 with the tensor: {ten * 25}\")\n",
        "print(f\"Multiplying 10 with the tensor: {torch.mul(ten, 10)}\")\n",
        "print(f\"Dividing the tensor by 2: {ten/ 2}\")"
      ],
      "metadata": {
        "colab": {
          "base_uri": "https://localhost:8080/"
        },
        "id": "wh-uWF2bIhlJ",
        "outputId": "074f06b4-283e-4aa6-d338-5e719f584202"
      },
      "execution_count": null,
      "outputs": [
        {
          "output_type": "stream",
          "name": "stdout",
          "text": [
            "Tensor: tensor([1, 2, 3])\n",
            "Adding 10 to the tensor: tensor([11, 12, 13])\n",
            "Multiplying 25 with the tensor: tensor([25, 50, 75])\n",
            "Multiplying 10 with the tensor: tensor([10, 20, 30])\n",
            "Dividing the tensor by 2: tensor([0.5000, 1.0000, 1.5000])\n"
          ]
        }
      ]
    },
    {
      "cell_type": "markdown",
      "source": [
        "There are two main types of multiplication in deep learning\n",
        "\n",
        "1.   Element wise multiplication\n",
        "2.   Matrix multiplication (dot product) (most common operation in deep learning)\n",
        "\n"
      ],
      "metadata": {
        "id": "RtnaPj8V2mL_"
      }
    },
    {
      "cell_type": "code",
      "source": [
        "tensor = torch.tensor([1, 2, 3])\n",
        "tensor"
      ],
      "metadata": {
        "colab": {
          "base_uri": "https://localhost:8080/"
        },
        "id": "XjdNfDx40f2G",
        "outputId": "9513bad4-e18e-41ae-8f5e-26f45eb93c72"
      },
      "execution_count": null,
      "outputs": [
        {
          "output_type": "execute_result",
          "data": {
            "text/plain": [
              "tensor([1, 2, 3])"
            ]
          },
          "metadata": {},
          "execution_count": 22
        }
      ]
    },
    {
      "cell_type": "code",
      "source": [
        "# element wise multiplication\n",
        "print(f\"Element wise multiplication: {tensor * tensor }\")\n",
        "print(f\"Dot multiplication: {torch.dot(tensor, tensor)}\")"
      ],
      "metadata": {
        "colab": {
          "base_uri": "https://localhost:8080/"
        },
        "id": "qX5Y7t9a0mFJ",
        "outputId": "ed72cacc-bffc-472d-a889-6f4ebfe18b2a"
      },
      "execution_count": null,
      "outputs": [
        {
          "output_type": "stream",
          "name": "stdout",
          "text": [
            "Element wise multiplication: tensor([1, 4, 9])\n",
            "Dot multiplication: 14\n"
          ]
        }
      ]
    },
    {
      "cell_type": "markdown",
      "source": [
        "`tensor @ tensor` **@** is other way for matrix multiplication (not a recommended approach)"
      ],
      "metadata": {
        "id": "rlMZVhvdokh_"
      }
    },
    {
      "cell_type": "code",
      "source": [
        "# calculate time taken my manually calculating dot product\n",
        "%%time\n",
        "value = 0\n",
        "for i in range(len(tensor)):\n",
        "  value += tensor[i] + tensor[i]\n",
        "\n",
        "print(value)"
      ],
      "metadata": {
        "colab": {
          "base_uri": "https://localhost:8080/"
        },
        "id": "FrWSlQKw0tyH",
        "outputId": "d94d60bc-75eb-4396-d65b-25ee36dab3a8"
      },
      "execution_count": null,
      "outputs": [
        {
          "output_type": "stream",
          "name": "stdout",
          "text": [
            "tensor(12)\n",
            "CPU times: user 4 ms, sys: 0 ns, total: 4 ms\n",
            "Wall time: 20.7 ms\n"
          ]
        }
      ]
    },
    {
      "cell_type": "code",
      "source": [
        "# calculate time taken by using built-in dot method\n",
        "%%time\n",
        "torch.dot(tensor, tensor)"
      ],
      "metadata": {
        "colab": {
          "base_uri": "https://localhost:8080/"
        },
        "id": "fCoLCmXx1tC3",
        "outputId": "2c2dc15f-29c1-4e04-df03-cb03e6494038"
      },
      "execution_count": null,
      "outputs": [
        {
          "output_type": "stream",
          "name": "stdout",
          "text": [
            "CPU times: user 441 µs, sys: 51 µs, total: 492 µs\n",
            "Wall time: 513 µs\n"
          ]
        },
        {
          "output_type": "execute_result",
          "data": {
            "text/plain": [
              "tensor(14)"
            ]
          },
          "metadata": {},
          "execution_count": 25
        }
      ]
    },
    {
      "cell_type": "code",
      "source": [
        "%%time\n",
        "torch.matmul(tensor, tensor)"
      ],
      "metadata": {
        "colab": {
          "base_uri": "https://localhost:8080/"
        },
        "id": "ThgNAMAf1w4W",
        "outputId": "6a128726-537b-4a53-9618-f77e15b3d8aa"
      },
      "execution_count": null,
      "outputs": [
        {
          "output_type": "stream",
          "name": "stdout",
          "text": [
            "CPU times: user 774 µs, sys: 875 µs, total: 1.65 ms\n",
            "Wall time: 1.89 ms\n"
          ]
        },
        {
          "output_type": "execute_result",
          "data": {
            "text/plain": [
              "tensor(14)"
            ]
          },
          "metadata": {},
          "execution_count": 26
        }
      ]
    },
    {
      "cell_type": "markdown",
      "source": [
        "There are two main rules that performing matrix multiplication needs to satisfy\n",
        "\n",
        "1.   The inner dimension must match\n",
        "*   (3, 2) @ (3, 2) will not work\n",
        "*   (2, 3) @ (3, 2) will work\n",
        "*   (3, 2) @ (2, 3) will work\n",
        "\n",
        "2.   The resulting matrix has the shape of the outer dimension\n",
        "*   (2, 3) @ (3, 2) will have shape (2, 2)\n",
        "*   (3, 2) @ (2, 3) will have shape (3, 3)\n",
        "\n",
        "\n",
        "\n"
      ],
      "metadata": {
        "id": "5U8hWipQoG7Y"
      }
    },
    {
      "cell_type": "code",
      "source": [
        "# torch.matmul(torch.rand(3, 2), torch.rand(3, 2)) # error because inner dimension\n",
        "                                # do not match"
      ],
      "metadata": {
        "id": "_f_JNkDF2um2"
      },
      "execution_count": null,
      "outputs": []
    },
    {
      "cell_type": "code",
      "source": [
        "torch.matmul(torch.rand(2, 3), torch.rand(3, 2)) # no error"
      ],
      "metadata": {
        "colab": {
          "base_uri": "https://localhost:8080/"
        },
        "id": "zLDtH3ec3cRm",
        "outputId": "4a298378-3b53-41da-81e6-339ad229d0d7"
      },
      "execution_count": null,
      "outputs": [
        {
          "output_type": "execute_result",
          "data": {
            "text/plain": [
              "tensor([[0.2433, 1.2289],\n",
              "        [0.0890, 0.5614]])"
            ]
          },
          "metadata": {},
          "execution_count": 18
        }
      ]
    },
    {
      "cell_type": "code",
      "source": [
        "torch.matmul(torch.rand(2, 3), torch.rand(3, 2)).shape"
      ],
      "metadata": {
        "colab": {
          "base_uri": "https://localhost:8080/"
        },
        "id": "plJfEX_E3m0V",
        "outputId": "96e5d1a6-970e-4ef3-97bf-70fcd77502e7"
      },
      "execution_count": null,
      "outputs": [
        {
          "output_type": "execute_result",
          "data": {
            "text/plain": [
              "torch.Size([2, 2])"
            ]
          },
          "metadata": {},
          "execution_count": 21
        }
      ]
    },
    {
      "cell_type": "markdown",
      "source": [
        "One of the most common errors in deep learning is shape error. To fix our tensor shape issues, we can manipulate the shape of one of our\n",
        "tensors using a transpose"
      ],
      "metadata": {
        "id": "8Ov63Lilo9au"
      }
    },
    {
      "cell_type": "code",
      "source": [
        "torch.matmul(torch.rand(3, 2), torch.rand(3, 2).T) # no error"
      ],
      "metadata": {
        "colab": {
          "base_uri": "https://localhost:8080/"
        },
        "id": "pszvA0bV5czP",
        "outputId": "9530e0f9-7b3b-40a2-c626-dfc6eed9b07b"
      },
      "execution_count": null,
      "outputs": [
        {
          "output_type": "execute_result",
          "data": {
            "text/plain": [
              "tensor([[0.0636, 0.6495, 0.4846],\n",
              "        [0.0420, 0.3916, 0.3926],\n",
              "        [0.0702, 0.6126, 0.7372]])"
            ]
          },
          "metadata": {},
          "execution_count": 24
        }
      ]
    },
    {
      "cell_type": "markdown",
      "source": [
        "### Tensor Aggregation"
      ],
      "metadata": {
        "id": "uAEgjjU4pH2Z"
      }
    },
    {
      "cell_type": "markdown",
      "source": [
        "**finding min, max, mean, sum, etc**"
      ],
      "metadata": {
        "id": "BiMfJh-opK8F"
      }
    },
    {
      "cell_type": "code",
      "source": [
        "tensor = torch.arange(0, 100)"
      ],
      "metadata": {
        "id": "KIc5B5zb8d2S"
      },
      "execution_count": null,
      "outputs": []
    },
    {
      "cell_type": "code",
      "source": [
        "print(f\"\\nTensor: {tensor}\")\n",
        "print(f\"Minimum value: {tensor.min}\")\n",
        "print(f\"Maximum value: {tensor.max}\")"
      ],
      "metadata": {
        "colab": {
          "base_uri": "https://localhost:8080/"
        },
        "id": "sqyILyYn8fMy",
        "outputId": "3b8e8eec-024a-40e4-ccf5-08ea56085a80"
      },
      "execution_count": null,
      "outputs": [
        {
          "output_type": "stream",
          "name": "stdout",
          "text": [
            "\n",
            "Tensor: tensor([ 0,  1,  2,  3,  4,  5,  6,  7,  8,  9, 10, 11, 12, 13, 14, 15, 16, 17,\n",
            "        18, 19, 20, 21, 22, 23, 24, 25, 26, 27, 28, 29, 30, 31, 32, 33, 34, 35,\n",
            "        36, 37, 38, 39, 40, 41, 42, 43, 44, 45, 46, 47, 48, 49, 50, 51, 52, 53,\n",
            "        54, 55, 56, 57, 58, 59, 60, 61, 62, 63, 64, 65, 66, 67, 68, 69, 70, 71,\n",
            "        72, 73, 74, 75, 76, 77, 78, 79, 80, 81, 82, 83, 84, 85, 86, 87, 88, 89,\n",
            "        90, 91, 92, 93, 94, 95, 96, 97, 98, 99])\n",
            "Minimum value: <built-in method min of Tensor object at 0x7a41fb2f6a20>\n",
            "Maximum value: <built-in method max of Tensor object at 0x7a41fb2f6a20>\n"
          ]
        }
      ]
    },
    {
      "cell_type": "markdown",
      "source": [
        "**mean doesn't work with int64 or long**"
      ],
      "metadata": {
        "id": "mE5DeUnapQtS"
      }
    },
    {
      "cell_type": "code",
      "source": [
        "print(f\"Mean: {torch.mean(tensor.type(torch.float32))}\")\n",
        "# converting to float32\n",
        "print(f\"Median: {tensor.median()}\")\n",
        "print(f\"Sum: {torch.sum(tensor)}\")"
      ],
      "metadata": {
        "colab": {
          "base_uri": "https://localhost:8080/"
        },
        "id": "PCfl0GDs84hy",
        "outputId": "5fb94c1e-3687-49b7-9e7b-7e6d910d8835"
      },
      "execution_count": null,
      "outputs": [
        {
          "output_type": "stream",
          "name": "stdout",
          "text": [
            "Mean: 49.5\n",
            "Median: 49\n",
            "Sum: 4950\n"
          ]
        }
      ]
    },
    {
      "cell_type": "markdown",
      "source": [
        "#### Positional min max of tensors\n",
        "In the context of tensors, finding positional min and max involves not only determining the minimum and maximum values but also identifying the position (*indices*) where these value occur."
      ],
      "metadata": {
        "id": "mrlExlqRp92f"
      }
    },
    {
      "cell_type": "code",
      "source": [
        "\n",
        "print(f\"Position of minimum value: {tensor.argmin()}\")\n",
        "# returns the index position where the minimum value occurs\n",
        "\n",
        "print(f\"Position of maximum value: {tensor.argmax()}\")\n",
        "# returns the index position where the minimum value occurs"
      ],
      "metadata": {
        "colab": {
          "base_uri": "https://localhost:8080/"
        },
        "id": "7pN13hxC-UEA",
        "outputId": "6166646d-89dd-4818-f061-7f4b6dec5b30"
      },
      "execution_count": null,
      "outputs": [
        {
          "output_type": "stream",
          "name": "stdout",
          "text": [
            "Position of minimum value: 53\n",
            "Position of maximum value: 7\n"
          ]
        }
      ]
    },
    {
      "cell_type": "code",
      "source": [
        "tensor = torch.rand(8, 8)"
      ],
      "metadata": {
        "id": "02XtCg9v-huf"
      },
      "execution_count": null,
      "outputs": []
    },
    {
      "cell_type": "code",
      "source": [
        "print(f\"Tensor: {tensor}\")\n",
        "print(f\"Position of minimum value: {tensor.argmin()}\")\n",
        "print(f\"Position of maximum value: {tensor.argmax()}\")"
      ],
      "metadata": {
        "colab": {
          "base_uri": "https://localhost:8080/"
        },
        "id": "qH1JIwBs-l2R",
        "outputId": "8391e63a-2614-4206-806c-35cce2c14579"
      },
      "execution_count": null,
      "outputs": [
        {
          "output_type": "stream",
          "name": "stdout",
          "text": [
            "Tensor: tensor([[9.1966e-01, 2.7856e-02, 8.5210e-01, 8.5290e-01, 2.8515e-01, 4.7567e-01,\n",
            "         7.3274e-01, 9.8351e-01],\n",
            "        [1.4489e-01, 3.4806e-01, 5.9828e-02, 2.3390e-01, 5.1137e-01, 9.0029e-01,\n",
            "         4.7636e-01, 6.9137e-01],\n",
            "        [8.3104e-02, 8.3162e-01, 5.2739e-01, 3.1169e-01, 4.1097e-01, 2.3216e-02,\n",
            "         6.4255e-01, 4.5943e-01],\n",
            "        [7.4951e-02, 5.2587e-01, 2.4780e-02, 4.1653e-01, 9.3602e-01, 9.1294e-01,\n",
            "         4.1436e-02, 7.7510e-01],\n",
            "        [8.0107e-01, 7.5273e-01, 8.5156e-01, 5.7133e-01, 5.0669e-01, 6.3028e-01,\n",
            "         1.6166e-01, 5.3324e-03],\n",
            "        [7.0224e-01, 4.9582e-01, 5.5058e-01, 4.7480e-01, 5.7500e-01, 3.1480e-01,\n",
            "         9.0592e-01, 7.0695e-01],\n",
            "        [6.0275e-03, 1.5420e-01, 5.2672e-01, 4.6139e-01, 7.6842e-01, 6.2776e-04,\n",
            "         9.2860e-01, 9.4003e-01],\n",
            "        [9.0865e-01, 1.2922e-01, 4.7545e-01, 3.4608e-01, 6.1136e-01, 9.1591e-01,\n",
            "         5.7778e-01, 8.0731e-01]])\n",
            "Position of minimum value: 53\n",
            "Position of maximum value: 7\n"
          ]
        }
      ]
    },
    {
      "cell_type": "markdown",
      "source": [
        "### Reshaping, Stacking, Qqueezing and Unsqueezing Tensors"
      ],
      "metadata": {
        "id": "NhuE2rkwzxc8"
      }
    },
    {
      "cell_type": "markdown",
      "source": [
        "\n",
        "\n",
        "*   **Reshaping** - reshapes an input tensor to a defined shape\n",
        "*   **View** -  return a view of an input tensor of certain but keep the same memory as the originial tensor\n",
        "*   **Stacking** - combine multiple tensors on top of each other\n",
        "*   **Squeeze** -  remove all `1` dimensions from a tensor\n",
        "*   **Unsqueeze** - add a `1` dimension to a target tensor\n",
        "*   **Permute** - return a view of the input with dimensions permuted (swapped) in a certain way"
      ],
      "metadata": {
        "id": "nGgnQiV7z-FA"
      }
    },
    {
      "cell_type": "code",
      "source": [
        "tensor = torch.rand(3, 5)\n",
        "tensor, tensor.shape"
      ],
      "metadata": {
        "colab": {
          "base_uri": "https://localhost:8080/"
        },
        "id": "PHdc7oZNGDhP",
        "outputId": "cf432ea8-ab51-45eb-f081-5b711b051ca2"
      },
      "execution_count": null,
      "outputs": [
        {
          "output_type": "execute_result",
          "data": {
            "text/plain": [
              "(tensor([[0.3823, 0.7687, 0.2623, 0.4473, 0.1350],\n",
              "         [0.0723, 0.2757, 0.5578, 0.1750, 0.6667],\n",
              "         [0.7786, 0.0263, 0.6258, 0.8889, 0.8857]]),\n",
              " torch.Size([3, 5]))"
            ]
          },
          "metadata": {},
          "execution_count": 17
        }
      ]
    },
    {
      "cell_type": "code",
      "source": [
        "tensor_reshaped = tensor.reshape(1, 15)\n",
        "tensor_reshaped, tensor_reshaped.shape"
      ],
      "metadata": {
        "colab": {
          "base_uri": "https://localhost:8080/"
        },
        "id": "HFg-J2vyGMov",
        "outputId": "55729216-c18d-4bc0-b6d4-bd3ae4428e9e"
      },
      "execution_count": null,
      "outputs": [
        {
          "output_type": "execute_result",
          "data": {
            "text/plain": [
              "(tensor([[0.3823, 0.7687, 0.2623, 0.4473, 0.1350, 0.0723, 0.2757, 0.5578, 0.1750,\n",
              "          0.6667, 0.7786, 0.0263, 0.6258, 0.8889, 0.8857]]),\n",
              " torch.Size([1, 15]))"
            ]
          },
          "metadata": {},
          "execution_count": 18
        }
      ]
    },
    {
      "cell_type": "code",
      "source": [
        "z = tensor.view(3, 5) #changing z changes tensor (because a view of tensor shares\n",
        "                    # the same memory as original)\n",
        "z, z.shape"
      ],
      "metadata": {
        "colab": {
          "base_uri": "https://localhost:8080/"
        },
        "id": "GuWvgZxEGarO",
        "outputId": "8552e668-436a-408b-d1c5-b84411bc7870"
      },
      "execution_count": null,
      "outputs": [
        {
          "output_type": "execute_result",
          "data": {
            "text/plain": [
              "(tensor([[0.1364, 0.2351, 0.1271, 0.8342, 0.5425],\n",
              "         [0.7679, 0.2764, 0.1265, 0.2041, 0.3384],\n",
              "         [0.8958, 0.1590, 0.2624, 0.5675, 0.2305]]),\n",
              " torch.Size([3, 5]))"
            ]
          },
          "metadata": {},
          "execution_count": 78
        }
      ]
    },
    {
      "cell_type": "code",
      "source": [
        "z[:, 0] = 5"
      ],
      "metadata": {
        "id": "HotnvjPpIAfu"
      },
      "execution_count": null,
      "outputs": []
    },
    {
      "cell_type": "code",
      "source": [
        "tensor"
      ],
      "metadata": {
        "colab": {
          "base_uri": "https://localhost:8080/"
        },
        "id": "wzWtAxaUIeEA",
        "outputId": "5b4b292b-2bb7-443f-e84d-28985e4a2a3d"
      },
      "execution_count": null,
      "outputs": [
        {
          "output_type": "execute_result",
          "data": {
            "text/plain": [
              "tensor([[5.0000, 0.2351, 0.1271, 0.8342, 0.5425],\n",
              "        [5.0000, 0.2764, 0.1265, 0.2041, 0.3384],\n",
              "        [5.0000, 0.1590, 0.2624, 0.5675, 0.2305]])"
            ]
          },
          "metadata": {},
          "execution_count": 80
        }
      ]
    },
    {
      "cell_type": "markdown",
      "source": [
        "**Stacking** combines multiple tensors along a new dimension. This is useful for creating batches of data or combining ouputs from different models\n"
      ],
      "metadata": {
        "id": "f0wVNksB3aVn"
      }
    },
    {
      "cell_type": "code",
      "source": [
        "# stacks tensors on top of each other\n",
        "x_stacked = torch.stack([tensor, tensor], dim=2)\n",
        "x_stacked"
      ],
      "metadata": {
        "colab": {
          "base_uri": "https://localhost:8080/"
        },
        "id": "FrulzHCkIgqd",
        "outputId": "b8ecadf4-e5b6-4d11-9fd0-ce41e463ce9e"
      },
      "execution_count": null,
      "outputs": [
        {
          "output_type": "execute_result",
          "data": {
            "text/plain": [
              "tensor([[[5.0000, 5.0000],\n",
              "         [0.2351, 0.2351],\n",
              "         [0.1271, 0.1271],\n",
              "         [0.8342, 0.8342],\n",
              "         [0.5425, 0.5425]],\n",
              "\n",
              "        [[5.0000, 5.0000],\n",
              "         [0.2764, 0.2764],\n",
              "         [0.1265, 0.1265],\n",
              "         [0.2041, 0.2041],\n",
              "         [0.3384, 0.3384]],\n",
              "\n",
              "        [[5.0000, 5.0000],\n",
              "         [0.1590, 0.1590],\n",
              "         [0.2624, 0.2624],\n",
              "         [0.5675, 0.5675],\n",
              "         [0.2305, 0.2305]]])"
            ]
          },
          "metadata": {},
          "execution_count": 83
        }
      ]
    },
    {
      "cell_type": "markdown",
      "source": [
        "**Squeezing** removes dimensions of size 1 from a tensor. This is useful for removing unnecessary dimensions, especially after operations like aggregations that can add extra dimensions."
      ],
      "metadata": {
        "id": "-DZlqRlF5jn5"
      }
    },
    {
      "cell_type": "code",
      "source": [
        "tensor = torch.tensor([[[1, 2, 3], [4, 5, 6]]])\n",
        "print(\"Original Tensor with extra dimension:\\n\", tensor)\n",
        "print(\"Original Tensor dimension:\", tensor.ndim)\n",
        "\n",
        "# Squeeze the tensor to remove dimensions of size 1\n",
        "squeezed_tensor = tensor.squeeze()\n",
        "print(\"\\nSqueezed Tensor:\\n\", squeezed_tensor)\n",
        "print(\"Squeezed Tensor dimension:\", squeezed_tensor.ndim)\n"
      ],
      "metadata": {
        "colab": {
          "base_uri": "https://localhost:8080/"
        },
        "id": "jqZIa7eJIvId",
        "outputId": "86f69292-a00f-4614-cee3-f60ff631f888"
      },
      "execution_count": null,
      "outputs": [
        {
          "output_type": "stream",
          "name": "stdout",
          "text": [
            "Original Tensor with extra dimension:\n",
            " tensor([[[1, 2, 3],\n",
            "         [4, 5, 6]]])\n",
            "Original Tensor dimension: 3\n",
            "\n",
            "Squeezed Tensor:\n",
            " tensor([[1, 2, 3],\n",
            "        [4, 5, 6]])\n",
            "Squeezed Tensor dimension: 2\n"
          ]
        }
      ]
    },
    {
      "cell_type": "markdown",
      "source": [
        "**Unsqueezing** adds a dimension of size 1 to a tensor. This is useful when you need to add a batch dimension or channel dimension for specific operations or model requirements."
      ],
      "metadata": {
        "id": "FDytBC1O7wbZ"
      }
    },
    {
      "cell_type": "code",
      "source": [
        "tensor = torch.tensor([[1, 2, 3], [4, 5, 6]])\n",
        "print(\"Original Tensor:\\n\", tensor)\n",
        "print(\"Original Tensor dimension:\", tensor.ndim)\n",
        "\n",
        "# Unsqueeze the tensor to add a new dimension at dim=0\n",
        "unsqueezed_tensor = tensor.unsqueeze(dim=0)\n",
        "print(\"Unsqueezed Tensor along dim=0:\\n\", unsqueezed_tensor)\n",
        "print(\"Unsqueezed Tensor dimension:\", unsqueezed_tensor.ndim)\n"
      ],
      "metadata": {
        "colab": {
          "base_uri": "https://localhost:8080/"
        },
        "id": "08pRlBKGJSrN",
        "outputId": "798bfa1a-5942-432f-95f6-08f6cba763aa"
      },
      "execution_count": null,
      "outputs": [
        {
          "output_type": "stream",
          "name": "stdout",
          "text": [
            "Original Tensor:\n",
            " tensor([[1, 2, 3],\n",
            "        [4, 5, 6]])\n",
            "Original Tensor dimension: 2\n",
            "Unsqueezed Tensor along dim=0:\n",
            " tensor([[[1, 2, 3],\n",
            "         [4, 5, 6]]])\n",
            "Unsqueezed Tensor dimension: 3\n"
          ]
        }
      ]
    },
    {
      "cell_type": "code",
      "source": [
        "# torch.permute - rearranges the dimensions of a target tensor in a specified order\n",
        "# commonly used for images\n",
        "x_original = torch.rand(size=(224, 224, 3))\n",
        "x_permuted = x_original.permute(2, 0, 1) # the 2nd index (3) is re-ordered to start\n",
        "\n",
        "# re-orders the shape indexes\n",
        "\n",
        "print(f\"Original shape: {x_original.shape}\")\n",
        "print(f\"Permuted shape: {x_permuted.shape}\")"
      ],
      "metadata": {
        "colab": {
          "base_uri": "https://localhost:8080/"
        },
        "id": "OQg9nM3HJ1Hc",
        "outputId": "1b664cab-71b7-4f7d-f0e0-2d02a2c17c48"
      },
      "execution_count": null,
      "outputs": [
        {
          "output_type": "stream",
          "name": "stdout",
          "text": [
            "Original shape: torch.Size([224, 224, 3])\n",
            "Permuted shape: torch.Size([3, 224, 224])\n"
          ]
        }
      ]
    },
    {
      "cell_type": "code",
      "source": [
        "# numpy and pytorch\n",
        "# numpy to pytorch (torch.from_numpy(ndarray))\n",
        "# pytorch to numpy (torch.Tensor.numpy())"
      ],
      "metadata": {
        "id": "wEnia26sKsXL"
      },
      "execution_count": null,
      "outputs": []
    },
    {
      "cell_type": "code",
      "source": [
        "array = np.arange(1.0, 8.0)\n",
        "tensor = torch.from_numpy(array) #numpy default datatype is float64\n",
        "tensor"
      ],
      "metadata": {
        "colab": {
          "base_uri": "https://localhost:8080/"
        },
        "id": "mk7dPhSLWy0E",
        "outputId": "a865e3b7-b364-4fed-da29-f3cc9db3872d"
      },
      "execution_count": null,
      "outputs": [
        {
          "output_type": "execute_result",
          "data": {
            "text/plain": [
              "tensor([1., 2., 3., 4., 5., 6., 7.], dtype=torch.float64)"
            ]
          },
          "metadata": {},
          "execution_count": 98
        }
      ]
    },
    {
      "cell_type": "code",
      "source": [
        "tensor = torch.ones(7)\n",
        "numpy_tensor = tensor.numpy()\n",
        "numpy_tensor, numpy_tensor.dtype"
      ],
      "metadata": {
        "colab": {
          "base_uri": "https://localhost:8080/"
        },
        "id": "_hsZA07RW7Fz",
        "outputId": "f6cc2711-7b43-477c-da74-7f799e2f0501"
      },
      "execution_count": null,
      "outputs": [
        {
          "output_type": "execute_result",
          "data": {
            "text/plain": [
              "(array([1., 1., 1., 1., 1., 1., 1.], dtype=float32), dtype('float32'))"
            ]
          },
          "metadata": {},
          "execution_count": 99
        }
      ]
    },
    {
      "cell_type": "markdown",
      "source": [
        "### Python Reproduceability"
      ],
      "metadata": {
        "id": "zQGcDlqo8PCL"
      }
    },
    {
      "cell_type": "markdown",
      "source": [
        "**Reproduceability in PyTorch** (or any other machine learning framework) refers to the ability to consistently reproduce the same results given the same input and condition. This is cruical for debugging, verifying experiments, and comparing models"
      ],
      "metadata": {
        "id": "5ItIpTPv8bOq"
      }
    },
    {
      "cell_type": "markdown",
      "source": [
        "Achieving reproduceability ensures that the results are reliable and can be independently verified by others or by yourself at a later time"
      ],
      "metadata": {
        "id": "Q6iKD2YI8tYS"
      }
    },
    {
      "cell_type": "code",
      "source": [
        "random_A = torch.rand(3, 4)\n",
        "random_B = torch.rand(3, 4)\n",
        "\n",
        "print(f\"Random tensor A: {random_A}\")\n",
        "print(f\"Random tensor B: {random_B}\")\n",
        "print(random_A == random_B)"
      ],
      "metadata": {
        "id": "t8G4j3eXYFOE",
        "colab": {
          "base_uri": "https://localhost:8080/"
        },
        "outputId": "643599c1-778b-4a48-bcaa-a7a6c23fc8eb"
      },
      "execution_count": null,
      "outputs": [
        {
          "output_type": "stream",
          "name": "stdout",
          "text": [
            "Random tensor A: tensor([[0.0482, 0.7124, 0.8801, 0.6303],\n",
            "        [0.4352, 0.1096, 0.8976, 0.8997],\n",
            "        [0.2484, 0.4821, 0.9280, 0.9965]])\n",
            "Random tensor B: tensor([[0.5120, 0.8107, 0.0403, 0.4691],\n",
            "        [0.2694, 0.5730, 0.2722, 0.0104],\n",
            "        [0.5658, 0.4776, 0.8009, 0.8854]])\n",
            "tensor([[False, False, False, False],\n",
            "        [False, False, False, False],\n",
            "        [False, False, False, False]])\n"
          ]
        }
      ]
    },
    {
      "cell_type": "markdown",
      "source": [
        "Setting seeds for random number generators ensures that the pseudo-random numbers generated are the same each time.\n",
        "<br/>\n",
        "`Random number generators` in computers are not truly random but pseudo-random. The use deterministic algorithms to produces sequences of numbers that only appear to be random"
      ],
      "metadata": {
        "id": "qI_09j8s8_56"
      }
    },
    {
      "cell_type": "code",
      "source": [
        "# lets make some random but reproduceable tensors\n",
        "\n",
        "RANDOM_SEED = 2 # const that's why capitalized\n",
        "\n",
        "torch.manual_seed(RANDOM_SEED) #set seed for PyTorch\n",
        "random_C = torch.rand(3, 4)\n",
        "\n",
        "torch.manual_seed(RANDOM_SEED)\n",
        "random_D = torch.rand(3, 4)\n",
        "\n",
        "print(f\"Random tensor C: {random_C}\")\n",
        "print(f\"Random tensor D: {random_D}\")\n",
        "print(random_C == random_D)\n"
      ],
      "metadata": {
        "colab": {
          "base_uri": "https://localhost:8080/"
        },
        "id": "_7mzojKxBbCp",
        "outputId": "6db09237-e44e-4146-826a-64e2200dc1ce"
      },
      "execution_count": null,
      "outputs": [
        {
          "output_type": "stream",
          "name": "stdout",
          "text": [
            "Random tensor C: tensor([[0.6147, 0.3810, 0.6371, 0.4745],\n",
            "        [0.7136, 0.6190, 0.4425, 0.0958],\n",
            "        [0.6142, 0.0573, 0.5657, 0.5332]])\n",
            "Random tensor D: tensor([[0.6147, 0.3810, 0.6371, 0.4745],\n",
            "        [0.7136, 0.6190, 0.4425, 0.0958],\n",
            "        [0.6142, 0.0573, 0.5657, 0.5332]])\n",
            "tensor([[True, True, True, True],\n",
            "        [True, True, True, True],\n",
            "        [True, True, True, True]])\n"
          ]
        }
      ]
    },
    {
      "cell_type": "markdown",
      "source": [
        "**Read**\n",
        "<br/>\n",
        "https://pytorch.org/docs/stable/notes/randomness.html\n",
        "<br/>\n",
        "https://en.wikipedia.org/wiki/Random_seed"
      ],
      "metadata": {
        "id": "2EOSTOoSCntm"
      }
    },
    {
      "cell_type": "markdown",
      "source": [
        "### Putting tensors and models on GPU"
      ],
      "metadata": {
        "id": "-tXyLZwD7brD"
      }
    },
    {
      "cell_type": "markdown",
      "source": [
        "The reason we want our tensors/models on the GPU is because using a GPU results in faster calculation"
      ],
      "metadata": {
        "id": "QKTIf-_g7mxk"
      }
    },
    {
      "cell_type": "code",
      "source": [
        "# create a tensor (on CPU)\n",
        "tensor = torch.tensor([1, 2, 3], device= 'cpu')\n",
        "tensor"
      ],
      "metadata": {
        "id": "fMzZYvjREpIz",
        "colab": {
          "base_uri": "https://localhost:8080/"
        },
        "outputId": "27c233d0-5671-44a1-9320-fcbd95f2b35f"
      },
      "execution_count": null,
      "outputs": [
        {
          "output_type": "execute_result",
          "data": {
            "text/plain": [
              "tensor([1, 2, 3])"
            ]
          },
          "metadata": {},
          "execution_count": 30
        }
      ]
    },
    {
      "cell_type": "code",
      "source": [
        "tensor = torch.tensor([1, 2, 3], device='cuda')\n",
        "tensor"
      ],
      "metadata": {
        "id": "WiTieEvZxsjT",
        "colab": {
          "base_uri": "https://localhost:8080/",
          "height": 309
        },
        "outputId": "0f089fd6-2862-4ada-f629-c04f641f1917"
      },
      "execution_count": null,
      "outputs": [
        {
          "output_type": "error",
          "ename": "RuntimeError",
          "evalue": "Found no NVIDIA driver on your system. Please check that you have an NVIDIA GPU and installed a driver from http://www.nvidia.com/Download/index.aspx",
          "traceback": [
            "\u001b[0;31m---------------------------------------------------------------------------\u001b[0m",
            "\u001b[0;31mRuntimeError\u001b[0m                              Traceback (most recent call last)",
            "\u001b[0;32m<ipython-input-32-18ef09b9771b>\u001b[0m in \u001b[0;36m<cell line: 1>\u001b[0;34m()\u001b[0m\n\u001b[0;32m----> 1\u001b[0;31m \u001b[0mtensor\u001b[0m \u001b[0;34m=\u001b[0m \u001b[0mtorch\u001b[0m\u001b[0;34m.\u001b[0m\u001b[0mtensor\u001b[0m\u001b[0;34m(\u001b[0m\u001b[0;34m[\u001b[0m\u001b[0;36m1\u001b[0m\u001b[0;34m,\u001b[0m \u001b[0;36m2\u001b[0m\u001b[0;34m,\u001b[0m \u001b[0;36m3\u001b[0m\u001b[0;34m]\u001b[0m\u001b[0;34m,\u001b[0m \u001b[0mdevice\u001b[0m\u001b[0;34m=\u001b[0m\u001b[0;34m'cuda'\u001b[0m\u001b[0;34m)\u001b[0m\u001b[0;34m\u001b[0m\u001b[0;34m\u001b[0m\u001b[0m\n\u001b[0m\u001b[1;32m      2\u001b[0m \u001b[0mtensor\u001b[0m\u001b[0;34m\u001b[0m\u001b[0;34m\u001b[0m\u001b[0m\n",
            "\u001b[0;32m/usr/local/lib/python3.10/dist-packages/torch/cuda/__init__.py\u001b[0m in \u001b[0;36m_lazy_init\u001b[0;34m()\u001b[0m\n\u001b[1;32m    291\u001b[0m         \u001b[0;32mif\u001b[0m \u001b[0;34m\"CUDA_MODULE_LOADING\"\u001b[0m \u001b[0;32mnot\u001b[0m \u001b[0;32min\u001b[0m \u001b[0mos\u001b[0m\u001b[0;34m.\u001b[0m\u001b[0menviron\u001b[0m\u001b[0;34m:\u001b[0m\u001b[0;34m\u001b[0m\u001b[0;34m\u001b[0m\u001b[0m\n\u001b[1;32m    292\u001b[0m             \u001b[0mos\u001b[0m\u001b[0;34m.\u001b[0m\u001b[0menviron\u001b[0m\u001b[0;34m[\u001b[0m\u001b[0;34m\"CUDA_MODULE_LOADING\"\u001b[0m\u001b[0;34m]\u001b[0m \u001b[0;34m=\u001b[0m \u001b[0;34m\"LAZY\"\u001b[0m\u001b[0;34m\u001b[0m\u001b[0;34m\u001b[0m\u001b[0m\n\u001b[0;32m--> 293\u001b[0;31m         \u001b[0mtorch\u001b[0m\u001b[0;34m.\u001b[0m\u001b[0m_C\u001b[0m\u001b[0;34m.\u001b[0m\u001b[0m_cuda_init\u001b[0m\u001b[0;34m(\u001b[0m\u001b[0;34m)\u001b[0m\u001b[0;34m\u001b[0m\u001b[0;34m\u001b[0m\u001b[0m\n\u001b[0m\u001b[1;32m    294\u001b[0m         \u001b[0;31m# Some of the queued calls may reentrantly call _lazy_init();\u001b[0m\u001b[0;34m\u001b[0m\u001b[0;34m\u001b[0m\u001b[0m\n\u001b[1;32m    295\u001b[0m         \u001b[0;31m# we need to just return without initializing in that case.\u001b[0m\u001b[0;34m\u001b[0m\u001b[0;34m\u001b[0m\u001b[0m\n",
            "\u001b[0;31mRuntimeError\u001b[0m: Found no NVIDIA driver on your system. Please check that you have an NVIDIA GPU and installed a driver from http://www.nvidia.com/Download/index.aspx"
          ]
        }
      ]
    },
    {
      "cell_type": "markdown",
      "source": [
        "# PyTorch Workflow"
      ],
      "metadata": {
        "id": "1erhW1g48Luk"
      }
    },
    {
      "cell_type": "markdown",
      "source": [
        "Typically pytorch workflow includes\n",
        "\n",
        "1.   Get data ready\n",
        "2.   Build or pock a pre-trained model\n",
        "      *   Build a trainig loop\n",
        "      *   Pick a loss funciton optimizer\n",
        "      *   Repeat the step 2\n",
        "\n",
        "3.   Fit the model to data to make prediction\n",
        "4.   Evaluate the model\n",
        "5.   Improve through experimentation\n",
        "6.   Save and reload your trained model\n",
        "\n"
      ],
      "metadata": {
        "id": "acvAfej3-fpg"
      }
    },
    {
      "cell_type": "code",
      "source": [
        "weight = 0.7\n",
        "bias = 0.3"
      ],
      "metadata": {
        "id": "Qyyb6zOYKo_9"
      },
      "execution_count": null,
      "outputs": []
    },
    {
      "cell_type": "code",
      "source": [
        "start = 0\n",
        "end = 1\n",
        "step = 0.02\n",
        "\n",
        "X = torch.arange(start, end, step).unsqueeze(dim=1)  # capital because mostly it is matrix or tensor\n",
        "y = weight * X + bias\n",
        "\n",
        "X[:10], y[:10]"
      ],
      "metadata": {
        "colab": {
          "base_uri": "https://localhost:8080/"
        },
        "id": "i_ABMpu2LVHq",
        "outputId": "5650961f-97d2-49bb-ddf3-59dd255a1f10"
      },
      "execution_count": null,
      "outputs": [
        {
          "output_type": "execute_result",
          "data": {
            "text/plain": [
              "(tensor([[0.0000],\n",
              "         [0.0200],\n",
              "         [0.0400],\n",
              "         [0.0600],\n",
              "         [0.0800],\n",
              "         [0.1000],\n",
              "         [0.1200],\n",
              "         [0.1400],\n",
              "         [0.1600],\n",
              "         [0.1800]]),\n",
              " tensor([[0.3000],\n",
              "         [0.3140],\n",
              "         [0.3280],\n",
              "         [0.3420],\n",
              "         [0.3560],\n",
              "         [0.3700],\n",
              "         [0.3840],\n",
              "         [0.3980],\n",
              "         [0.4120],\n",
              "         [0.4260]]))"
            ]
          },
          "metadata": {},
          "execution_count": 10
        }
      ]
    },
    {
      "cell_type": "code",
      "source": [
        "len(X), len(y)"
      ],
      "metadata": {
        "colab": {
          "base_uri": "https://localhost:8080/"
        },
        "id": "LV_UdZnVLtiq",
        "outputId": "d63a4a0c-650e-4192-e3c1-68f23e2bbb11"
      },
      "execution_count": null,
      "outputs": [
        {
          "output_type": "execute_result",
          "data": {
            "text/plain": [
              "(50, 50)"
            ]
          },
          "metadata": {},
          "execution_count": 11
        }
      ]
    },
    {
      "cell_type": "markdown",
      "source": [
        "### Training data"
      ],
      "metadata": {
        "id": "TUU0094M25Y8"
      }
    },
    {
      "cell_type": "markdown",
      "source": [
        "Splitting data into training and test set is the most important concept in machine learning.\n",
        "<br/>\n",
        "In general\n",
        "*   Training data (60-80)%\n",
        "*   Validation data (10-20 of)% (not always used)\n",
        "*   Test data (10-20)%"
      ],
      "metadata": {
        "id": "CYgtSe-W_9iw"
      }
    },
    {
      "cell_type": "code",
      "source": [
        "train_split = int(0.8 * len(X))\n",
        "X_train, y_train = X[:train_split], y[:train_split]\n",
        "\n",
        "X_test, y_test = X[train_split:], y[train_split:]"
      ],
      "metadata": {
        "id": "pLN0rv_yMMpa"
      },
      "execution_count": null,
      "outputs": []
    },
    {
      "cell_type": "code",
      "source": [
        "len(X_train), len(y_train), len(X_test), len(y_test)"
      ],
      "metadata": {
        "colab": {
          "base_uri": "https://localhost:8080/"
        },
        "id": "jpjp1Nx7N-L0",
        "outputId": "9123d2ee-2dbc-453b-c18f-0278131d15e8"
      },
      "execution_count": null,
      "outputs": [
        {
          "output_type": "execute_result",
          "data": {
            "text/plain": [
              "(40, 40, 10, 10)"
            ]
          },
          "metadata": {},
          "execution_count": 13
        }
      ]
    },
    {
      "cell_type": "markdown",
      "source": [
        "### Visualizing Data\n",
        "After splitting the training and testing data, it is a good practice to visualize data to see any visible patterns or outliers"
      ],
      "metadata": {
        "id": "248g_e433DxS"
      }
    },
    {
      "cell_type": "code",
      "source": [
        "def plot_predictions(train_data = X_train,\n",
        "                     train_labels = y_train,\n",
        "                     test_data = X_test,\n",
        "                     test_labels = y_test,\n",
        "                     predictions = None):\n",
        "  \"\"\"\n",
        "  Plot training data, test data and compares predictions\n",
        "  \"\"\"\n",
        "\n",
        "  plt.figure(figsize=(10, 7))\n",
        "  plt.scatter(train_data, train_labels, c='b', s=4, label='Training data')\n",
        "            # color blue and size is 4\n",
        "\n",
        "  plt.scatter(test_data, test_labels, c='g', s=4, label='Test data')\n",
        "  if predictions is not None:\n",
        "    # plot predictions if they exists\n",
        "    plt.scatter(test_data, predictions, c='r', s=4, label='Predictions')\n",
        "\n",
        "  plt.legend(prop={\"size\": 14})\n"
      ],
      "metadata": {
        "id": "d3drZ4FkODKo"
      },
      "execution_count": null,
      "outputs": []
    },
    {
      "cell_type": "code",
      "source": [
        "plot_predictions()"
      ],
      "metadata": {
        "colab": {
          "base_uri": "https://localhost:8080/",
          "height": 599
        },
        "id": "aCItTUOHPn0Y",
        "outputId": "0abbdf43-3e22-4145-e7c6-868ace5ec3a0"
      },
      "execution_count": null,
      "outputs": [
        {
          "output_type": "display_data",
          "data": {
            "text/plain": [
              "<Figure size 1000x700 with 1 Axes>"
            ],
            "image/png": "[encoded data removed]"
          },
          "metadata": {}
        }
      ]
    },
    {
      "cell_type": "markdown",
      "source": [
        "### Selecting Model"
      ],
      "metadata": {
        "id": "J2xO9mNW3Bv6"
      }
    },
    {
      "cell_type": "markdown",
      "source": [
        "Initially, lets consider using the simplest model out there, `Linear Regression Model`\n",
        "<br/>\n",
        "**y = x * weight + bias**"
      ],
      "metadata": {
        "id": "TJRZrIYZAcLX"
      }
    },
    {
      "cell_type": "markdown",
      "source": [
        "We need to estimate the value of *weight* abd *bias*, which are parameters in our model, based on the data we have, such that the values of **y** through the model actually measure the data we have in **x**"
      ],
      "metadata": {
        "id": "NaO9Z56mAv3K"
      }
    },
    {
      "cell_type": "code",
      "source": [
        "# Module is the base class for all neural network modules in PyTorch. Your\n",
        "# models should subclass this\n",
        "\n",
        "class LinearRegressionModel(nn.Module):\n",
        "  def __init__(self):\n",
        "    super().__init__()\n",
        "    # nn.Parameter tells PyTorch that a tensor should be considered a parameter\n",
        "    # of a module and will be automatically added to list of its parameters\n",
        "    # Parameter is typically used to define learnablke parameters in custom\n",
        "    # layers\n",
        "    self.weights = nn.Parameter(torch.randn(1,\n",
        "                                            requires_grad=True,\n",
        "                                            dtype=torch.float))\n",
        "    self.bias = nn.Parameter(torch.randn(1,\n",
        "                                         requires_grad=True,\n",
        "                                         dtype=torch.float))\n",
        "\n",
        "  # Forward method defines the computation performed at every call of the module\n",
        "  # It is where you specify the operations that happen during the forward pass of\n",
        "  # your network. It is required\n",
        "  def forward(self, x:torch.Tensor)->torch.Tensor:\n",
        "    return self.weights * x + self.bias"
      ],
      "metadata": {
        "id": "yB-FKBCw_3Pd"
      },
      "execution_count": null,
      "outputs": []
    },
    {
      "cell_type": "markdown",
      "source": [
        "We start with random values of weight and bias, look at training data, and adjust the random values to better represent (or get\n",
        "closer to) the ideal values that better fit the actual data"
      ],
      "metadata": {
        "id": "epnFCpL4BGnI"
      }
    },
    {
      "cell_type": "markdown",
      "source": [
        "This is done by\n",
        "\n",
        "1.   Gradient Descent\n",
        "2.   Backpropagation\n",
        "\n"
      ],
      "metadata": {
        "id": "f46N8GU2BXV-"
      }
    },
    {
      "cell_type": "markdown",
      "source": [
        "### Model Learning and Loss Functions"
      ],
      "metadata": {
        "id": "8LtjzGi43ciL"
      }
    },
    {
      "cell_type": "markdown",
      "source": [
        "A loss function (or cost function) is a function that computes a single numerical value\n",
        "that the learning process will attempt to minimize."
      ],
      "metadata": {
        "id": "dc4QzXscBXq4"
      }
    },
    {
      "cell_type": "markdown",
      "source": [
        "Conceptually, a loss function is a way of prioritizing which errors to fix from our\n",
        "training samples, so that our parameter updates result in adjustments to the outputs for\n",
        "the highly weighted samples instead of changes to some other samples’ output that had\n",
        "a smaller loss."
      ],
      "metadata": {
        "id": "lfIJ-3SHBUyk"
      }
    },
    {
      "cell_type": "markdown",
      "source": [
        "#### Backpropagation\n",
        "**Backpropagation**, short for `backward propagation of errors` is a fundamental algorithm for training neural networks. It computes the gradient of loss function function with respect to each weight by using chain rule"
      ],
      "metadata": {
        "id": "bC9WkBEe9cl_"
      }
    },
    {
      "cell_type": "markdown",
      "source": [
        "Steps of backpropagation involves\n",
        "\n",
        "1.   Forward Pass\n",
        "    *   The input data is passed through the network layer by layer, to compute the output (predictions)\n",
        "\n",
        "2.   Loss Calculation\n",
        "    *   Calculate the loss using the predicted output and actual target\n",
        "    *   The loss function compares the network's predictions with the actual target values to measure the prediction error\n",
        "    *   Minimizing the loss error improves the model prediction\n",
        "\n",
        "3.   Backward propagation\n",
        "    *  Compute the gradient of the loss with respect to the output layers parameters\n",
        "    *  Propagate the error backward through each layer\n",
        "\n",
        "4.   Update parameters\n",
        "    *  Update the weights and biases using gradient descent\n",
        "\n"
      ],
      "metadata": {
        "id": "E-zk3_FB97yY"
      }
    },
    {
      "cell_type": "markdown",
      "source": [
        "#### Gradient Descent\n",
        "**Gradient descent** is an optimization algorithm used to minimize the loss function in the machine and deep learning algorithms. Minimizing the cost funciton improves model accuracy"
      ],
      "metadata": {
        "id": "fm-aanIT9F7G"
      }
    },
    {
      "cell_type": "markdown",
      "source": [
        "Neural network uses gradient descent to learn by following the steps\n",
        "\n",
        "1.   Randomly initializes the network weight weights and biases\n",
        "2.   Pass the input data through network to obtain output predictions\n",
        "    *  This involves calculating weighted sums and applying activation function\n",
        "\n",
        "3. We compute the loss using predicted output and the actual target values\n",
        "4. We calcualte the gradient of loss function\n",
        "    *  Gradient points in the direction of steepest decrease in loss function\n",
        "\n",
        "5. We update the network parameter using gradients calculated during backpropagation\n",
        "\n",
        "6. Repeat the steps unitl the loss converges to minimum value\n",
        "\n"
      ],
      "metadata": {
        "id": "roRqN4G-_Xb9"
      }
    },
    {
      "cell_type": "markdown",
      "source": [
        "**The difference b/w gradient and backpropagation is**\n",
        "*   *Backpropagation* is used to calculate the error and figure out how each part of the neural network contributed to error\n",
        "  * Happens after the network has made a prediction and we know how wrong it was\n",
        "\n",
        "*   *Gradient descent* is an optimization technique/algorithm that updates the neural network weight to minimize the error\n",
        "  * It happens after backpropagation"
      ],
      "metadata": {
        "id": "xOddBtBkAiD0"
      }
    },
    {
      "cell_type": "code",
      "source": [
        "torch.manual_seed(42)\n",
        "\n",
        "# create an instance of the mode\n",
        "\n",
        "model_0 = LinearRegressionModel()\n",
        "\n",
        "# Checkout the parameters\n",
        "print(f\"Parameters of the model: \\n {list(model_0.parameters())}\")"
      ],
      "metadata": {
        "colab": {
          "base_uri": "https://localhost:8080/"
        },
        "id": "eNaKntDmZ5HD",
        "outputId": "564ae98b-3892-4c78-d0a5-ce919d61b363"
      },
      "execution_count": null,
      "outputs": [
        {
          "output_type": "stream",
          "name": "stdout",
          "text": [
            "Parameters of the model: \n",
            " [Parameter containing:\n",
            "tensor([0.3367], requires_grad=True), Parameter containing:\n",
            "tensor([0.1288], requires_grad=True)]\n"
          ]
        }
      ]
    },
    {
      "cell_type": "code",
      "source": [
        "print(f\"Parameters of the model: {model_0.state_dict()}\")"
      ],
      "metadata": {
        "colab": {
          "base_uri": "https://localhost:8080/"
        },
        "id": "1aVPIzcgc6Rv",
        "outputId": "2cc8d6f8-8e6f-4228-ee51-2ba88ac4034d"
      },
      "execution_count": null,
      "outputs": [
        {
          "output_type": "stream",
          "name": "stdout",
          "text": [
            "Parameters of the model: OrderedDict([('weights', tensor([0.3367])), ('bias', tensor([0.1288]))])\n"
          ]
        }
      ]
    },
    {
      "cell_type": "markdown",
      "source": [
        "**torch.inference_mode** is a context manager in PyTorch used to improve the performance of inference (making predictions) by disabling gradienta computation. It is especially designed for interfernce where you do not need to update the model weights"
      ],
      "metadata": {
        "id": "mnKb9LbfHSzY"
      }
    },
    {
      "cell_type": "code",
      "source": [
        "with torch.inference_mode():\n",
        "  y_preds = model_0(X_test)\n",
        "\n",
        "y_preds"
      ],
      "metadata": {
        "colab": {
          "base_uri": "https://localhost:8080/"
        },
        "id": "Hyyby3uDe1_R",
        "outputId": "4d20875f-feee-4245-a1c1-4189e870fab2"
      },
      "execution_count": null,
      "outputs": [
        {
          "output_type": "execute_result",
          "data": {
            "text/plain": [
              "tensor([[0.3982],\n",
              "        [0.4049],\n",
              "        [0.4116],\n",
              "        [0.4184],\n",
              "        [0.4251],\n",
              "        [0.4318],\n",
              "        [0.4386],\n",
              "        [0.4453],\n",
              "        [0.4520],\n",
              "        [0.4588]])"
            ]
          },
          "metadata": {},
          "execution_count": 17
        }
      ]
    },
    {
      "cell_type": "code",
      "source": [
        "plot_predictions(predictions=y_preds)"
      ],
      "metadata": {
        "colab": {
          "base_uri": "https://localhost:8080/",
          "height": 599
        },
        "id": "0MBxBTBXe9oB",
        "outputId": "d5ff0546-bbc5-401a-d4db-850f43d2502f"
      },
      "execution_count": null,
      "outputs": [
        {
          "output_type": "display_data",
          "data": {
            "text/plain": [
              "<Figure size 1000x700 with 1 Axes>"
            ],
            "image/png": "[encoded data removed]"
          },
          "metadata": {}
        }
      ]
    },
    {
      "cell_type": "markdown",
      "source": [
        "**nn.L1Loss** is a loss function in PyTorch that calculates the mean absolute error (MAE) between the predicted values and the actual target values"
      ],
      "metadata": {
        "id": "R2lP0kCIHnHG"
      }
    },
    {
      "cell_type": "code",
      "source": [
        "loss_fn = nn.L1Loss()\n",
        "loss = loss_fn(y_preds, X_test)\n",
        "print(f\"Loss: {loss}\")"
      ],
      "metadata": {
        "id": "AXXT_9mMj5ie",
        "colab": {
          "base_uri": "https://localhost:8080/"
        },
        "outputId": "4a618a8f-5faf-4805-fb72-a58e390a887a"
      },
      "execution_count": null,
      "outputs": [
        {
          "output_type": "stream",
          "name": "stdout",
          "text": [
            "Loss: 0.46153610944747925\n"
          ]
        }
      ]
    },
    {
      "cell_type": "code",
      "source": [],
      "metadata": {
        "id": "IlyY_oVGfiFM"
      },
      "execution_count": null,
      "outputs": []
    },
    {
      "cell_type": "code",
      "source": [
        "# classification with pytorch"
      ],
      "metadata": {
        "id": "bHz7se0BKdH5"
      },
      "execution_count": null,
      "outputs": []
    },
    {
      "cell_type": "code",
      "source": [
        "# classification is a problem of predicting whether something is one thing or\n",
        "# another (there can be multiple things as the options)"
      ],
      "metadata": {
        "id": "rCYlRtMU5eWI"
      },
      "execution_count": null,
      "outputs": []
    },
    {
      "cell_type": "code",
      "source": [
        "n_samples = 1000\n",
        "\n",
        "# Create circles\n",
        "X, y  = make_circles(n_samples, noise=0.03, random_state=42)"
      ],
      "metadata": {
        "id": "LiAKDaTU5m42"
      },
      "execution_count": null,
      "outputs": []
    },
    {
      "cell_type": "code",
      "source": [
        "print(f\"First five samples of X:\\n {X[:5]}\")\n",
        "print(f\"First five samples of y:\\n {y[:5]}\")"
      ],
      "metadata": {
        "colab": {
          "base_uri": "https://localhost:8080/"
        },
        "id": "emaVjBHn6KaW",
        "outputId": "42beb481-f2b9-46b5-8393-387e914cbaa9"
      },
      "execution_count": null,
      "outputs": [
        {
          "output_type": "stream",
          "name": "stdout",
          "text": [
            "First five samples of X:\n",
            " [[ 0.75424625  0.23148074]\n",
            " [-0.75615888  0.15325888]\n",
            " [-0.81539193  0.17328203]\n",
            " [-0.39373073  0.69288277]\n",
            " [ 0.44220765 -0.89672343]]\n",
            "First five samples of y:\n",
            " [1 1 1 1 0]\n"
          ]
        }
      ]
    },
    {
      "cell_type": "code",
      "source": [
        "circles = pd.DataFrame({\n",
        "    \"X1\": X[:, 0],\n",
        "    \"X2\": X[:, 1],\n",
        "    \"label\": y\n",
        "})\n",
        "\n",
        "circles.head(5)"
      ],
      "metadata": {
        "colab": {
          "base_uri": "https://localhost:8080/",
          "height": 206
        },
        "id": "RqS7UADs6RYm",
        "outputId": "efac5b7d-079a-4e32-d3ac-dacfac783923"
      },
      "execution_count": null,
      "outputs": [
        {
          "output_type": "execute_result",
          "data": {
            "text/plain": [
              "         X1        X2  label\n",
              "0  0.754246  0.231481      1\n",
              "1 -0.756159  0.153259      1\n",
              "2 -0.815392  0.173282      1\n",
              "3 -0.393731  0.692883      1\n",
              "4  0.442208 -0.896723      0"
            ],
            "text/html": [
              "\n",
              "  <div id=\"df-506fb3cb-904b-403a-80f4-c6c31509d1f5\" class=\"colab-df-container\">\n",
              "    <div>\n",
              "<style scoped>\n",
              "    .dataframe tbody tr th:only-of-type {\n",
              "        vertical-align: middle;\n",
              "    }\n",
              "\n",
              "    .dataframe tbody tr th {\n",
              "        vertical-align: top;\n",
              "    }\n",
              "\n",
              "    .dataframe thead th {\n",
              "        text-align: right;\n",
              "    }\n",
              "</style>\n",
              "<table border=\"1\" class=\"dataframe\">\n",
              "  <thead>\n",
              "    <tr style=\"text-align: right;\">\n",
              "      <th></th>\n",
              "      <th>X1</th>\n",
              "      <th>X2</th>\n",
              "      <th>label</th>\n",
              "    </tr>\n",
              "  </thead>\n",
              "  <tbody>\n",
              "    <tr>\n",
              "      <th>0</th>\n",
              "      <td>0.754246</td>\n",
              "      <td>0.231481</td>\n",
              "      <td>1</td>\n",
              "    </tr>\n",
              "    <tr>\n",
              "      <th>1</th>\n",
              "      <td>-0.756159</td>\n",
              "      <td>0.153259</td>\n",
              "      <td>1</td>\n",
              "    </tr>\n",
              "    <tr>\n",
              "      <th>2</th>\n",
              "      <td>-0.815392</td>\n",
              "      <td>0.173282</td>\n",
              "      <td>1</td>\n",
              "    </tr>\n",
              "    <tr>\n",
              "      <th>3</th>\n",
              "      <td>-0.393731</td>\n",
              "      <td>0.692883</td>\n",
              "      <td>1</td>\n",
              "    </tr>\n",
              "    <tr>\n",
              "      <th>4</th>\n",
              "      <td>0.442208</td>\n",
              "      <td>-0.896723</td>\n",
              "      <td>0</td>\n",
              "    </tr>\n",
              "  </tbody>\n",
              "</table>\n",
              "</div>\n",
              "    <div class=\"colab-df-buttons\">\n",
              "\n",
              "  <div class=\"colab-df-container\">\n",
              "    <button class=\"colab-df-convert\" onclick=\"convertToInteractive('df-506fb3cb-904b-403a-80f4-c6c31509d1f5')\"\n",
              "            title=\"Convert this dataframe to an interactive table.\"\n",
              "            style=\"display:none;\">\n",
              "\n",
              "  <svg xmlns=\"http://www.w3.org/2000/svg\" height=\"24px\" viewBox=\"0 -960 960 960\">\n",
              "    <path d=\"M120-120v-720h720v720H120Zm60-500h600v-160H180v160Zm220 220h160v-160H400v160Zm0 220h160v-160H400v160ZM180-400h160v-160H180v160Zm440 0h160v-160H620v160ZM180-180h160v-160H180v160Zm440 0h160v-160H620v160Z\"/>\n",
              "  </svg>\n",
              "    </button>\n",
              "\n",
              "  <style>\n",
              "    .colab-df-container {\n",
              "      display:flex;\n",
              "      gap: 12px;\n",
              "    }\n",
              "\n",
              "    .colab-df-convert {\n",
              "      background-color: #E8F0FE;\n",
              "      border: none;\n",
              "      border-radius: 50%;\n",
              "      cursor: pointer;\n",
              "      display: none;\n",
              "      fill: #1967D2;\n",
              "      height: 32px;\n",
              "      padding: 0 0 0 0;\n",
              "      width: 32px;\n",
              "    }\n",
              "\n",
              "    .colab-df-convert:hover {\n",
              "      background-color: #E2EBFA;\n",
              "      box-shadow: 0px 1px 2px rgba(60, 64, 67, 0.3), 0px 1px 3px 1px rgba(60, 64, 67, 0.15);\n",
              "      fill: #174EA6;\n",
              "    }\n",
              "\n",
              "    .colab-df-buttons div {\n",
              "      margin-bottom: 4px;\n",
              "    }\n",
              "\n",
              "    [theme=dark] .colab-df-convert {\n",
              "      background-color: #3B4455;\n",
              "      fill: #D2E3FC;\n",
              "    }\n",
              "\n",
              "    [theme=dark] .colab-df-convert:hover {\n",
              "      background-color: #434B5C;\n",
              "      box-shadow: 0px 1px 3px 1px rgba(0, 0, 0, 0.15);\n",
              "      filter: drop-shadow(0px 1px 2px rgba(0, 0, 0, 0.3));\n",
              "      fill: #FFFFFF;\n",
              "    }\n",
              "  </style>\n",
              "\n",
              "    <script>\n",
              "      const buttonEl =\n",
              "        document.querySelector('#df-506fb3cb-904b-403a-80f4-c6c31509d1f5 button.colab-df-convert');\n",
              "      buttonEl.style.display =\n",
              "        google.colab.kernel.accessAllowed ? 'block' : 'none';\n",
              "\n",
              "      async function convertToInteractive(key) {\n",
              "        const element = document.querySelector('#df-506fb3cb-904b-403a-80f4-c6c31509d1f5');\n",
              "        const dataTable =\n",
              "          await google.colab.kernel.invokeFunction('convertToInteractive',\n",
              "                                                    [key], {});\n",
              "        if (!dataTable) return;\n",
              "\n",
              "        const docLinkHtml = 'Like what you see? Visit the ' +\n",
              "          '<a target=\"_blank\" href=https://colab.research.google.com/notebooks/data_table.ipynb>data table notebook</a>'\n",
              "          + ' to learn more about interactive tables.';\n",
              "        element.innerHTML = '';\n",
              "        dataTable['output_type'] = 'display_data';\n",
              "        await google.colab.output.renderOutput(dataTable, element);\n",
              "        const docLink = document.createElement('div');\n",
              "        docLink.innerHTML = docLinkHtml;\n",
              "        element.appendChild(docLink);\n",
              "      }\n",
              "    </script>\n",
              "  </div>\n",
              "\n",
              "\n",
              "<div id=\"df-992e3a86-ae03-40c8-8eeb-e4a20e28b59e\">\n",
              "  <button class=\"colab-df-quickchart\" onclick=\"quickchart('df-992e3a86-ae03-40c8-8eeb-e4a20e28b59e')\"\n",
              "            title=\"Suggest charts\"\n",
              "            style=\"display:none;\">\n",
              "\n",
              "<svg xmlns=\"http://www.w3.org/2000/svg\" height=\"24px\"viewBox=\"0 0 24 24\"\n",
              "     width=\"24px\">\n",
              "    <g>\n",
              "        <path d=\"M19 3H5c-1.1 0-2 .9-2 2v14c0 1.1.9 2 2 2h14c1.1 0 2-.9 2-2V5c0-1.1-.9-2-2-2zM9 17H7v-7h2v7zm4 0h-2V7h2v10zm4 0h-2v-4h2v4z\"/>\n",
              "    </g>\n",
              "</svg>\n",
              "  </button>\n",
              "\n",
              "<style>\n",
              "  .colab-df-quickchart {\n",
              "      --bg-color: #E8F0FE;\n",
              "      --fill-color: #1967D2;\n",
              "      --hover-bg-color: #E2EBFA;\n",
              "      --hover-fill-color: #174EA6;\n",
              "      --disabled-fill-color: #AAA;\n",
              "      --disabled-bg-color: #DDD;\n",
              "  }\n",
              "\n",
              "  [theme=dark] .colab-df-quickchart {\n",
              "      --bg-color: #3B4455;\n",
              "      --fill-color: #D2E3FC;\n",
              "      --hover-bg-color: #434B5C;\n",
              "      --hover-fill-color: #FFFFFF;\n",
              "      --disabled-bg-color: #3B4455;\n",
              "      --disabled-fill-color: #666;\n",
              "  }\n",
              "\n",
              "  .colab-df-quickchart {\n",
              "    background-color: var(--bg-color);\n",
              "    border: none;\n",
              "    border-radius: 50%;\n",
              "    cursor: pointer;\n",
              "    display: none;\n",
              "    fill: var(--fill-color);\n",
              "    height: 32px;\n",
              "    padding: 0;\n",
              "    width: 32px;\n",
              "  }\n",
              "\n",
              "  .colab-df-quickchart:hover {\n",
              "    background-color: var(--hover-bg-color);\n",
              "    box-shadow: 0 1px 2px rgba(60, 64, 67, 0.3), 0 1px 3px 1px rgba(60, 64, 67, 0.15);\n",
              "    fill: var(--button-hover-fill-color);\n",
              "  }\n",
              "\n",
              "  .colab-df-quickchart-complete:disabled,\n",
              "  .colab-df-quickchart-complete:disabled:hover {\n",
              "    background-color: var(--disabled-bg-color);\n",
              "    fill: var(--disabled-fill-color);\n",
              "    box-shadow: none;\n",
              "  }\n",
              "\n",
              "  .colab-df-spinner {\n",
              "    border: 2px solid var(--fill-color);\n",
              "    border-color: transparent;\n",
              "    border-bottom-color: var(--fill-color);\n",
              "    animation:\n",
              "      spin 1s steps(1) infinite;\n",
              "  }\n",
              "\n",
              "  @keyframes spin {\n",
              "    0% {\n",
              "      border-color: transparent;\n",
              "      border-bottom-color: var(--fill-color);\n",
              "      border-left-color: var(--fill-color);\n",
              "    }\n",
              "    20% {\n",
              "      border-color: transparent;\n",
              "      border-left-color: var(--fill-color);\n",
              "      border-top-color: var(--fill-color);\n",
              "    }\n",
              "    30% {\n",
              "      border-color: transparent;\n",
              "      border-left-color: var(--fill-color);\n",
              "      border-top-color: var(--fill-color);\n",
              "      border-right-color: var(--fill-color);\n",
              "    }\n",
              "    40% {\n",
              "      border-color: transparent;\n",
              "      border-right-color: var(--fill-color);\n",
              "      border-top-color: var(--fill-color);\n",
              "    }\n",
              "    60% {\n",
              "      border-color: transparent;\n",
              "      border-right-color: var(--fill-color);\n",
              "    }\n",
              "    80% {\n",
              "      border-color: transparent;\n",
              "      border-right-color: var(--fill-color);\n",
              "      border-bottom-color: var(--fill-color);\n",
              "    }\n",
              "    90% {\n",
              "      border-color: transparent;\n",
              "      border-bottom-color: var(--fill-color);\n",
              "    }\n",
              "  }\n",
              "</style>\n",
              "\n",
              "  <script>\n",
              "    async function quickchart(key) {\n",
              "      const quickchartButtonEl =\n",
              "        document.querySelector('#' + key + ' button');\n",
              "      quickchartButtonEl.disabled = true;  // To prevent multiple clicks.\n",
              "      quickchartButtonEl.classList.add('colab-df-spinner');\n",
              "      try {\n",
              "        const charts = await google.colab.kernel.invokeFunction(\n",
              "            'suggestCharts', [key], {});\n",
              "      } catch (error) {\n",
              "        console.error('Error during call to suggestCharts:', error);\n",
              "      }\n",
              "      quickchartButtonEl.classList.remove('colab-df-spinner');\n",
              "      quickchartButtonEl.classList.add('colab-df-quickchart-complete');\n",
              "    }\n",
              "    (() => {\n",
              "      let quickchartButtonEl =\n",
              "        document.querySelector('#df-992e3a86-ae03-40c8-8eeb-e4a20e28b59e button');\n",
              "      quickchartButtonEl.style.display =\n",
              "        google.colab.kernel.accessAllowed ? 'block' : 'none';\n",
              "    })();\n",
              "  </script>\n",
              "</div>\n",
              "\n",
              "    </div>\n",
              "  </div>\n"
            ],
            "application/vnd.google.colaboratory.intrinsic+json": {
              "type": "dataframe",
              "variable_name": "circles",
              "summary": "{\n  \"name\": \"circles\",\n  \"rows\": 1000,\n  \"fields\": [\n    {\n      \"column\": \"X1\",\n      \"properties\": {\n        \"dtype\": \"number\",\n        \"std\": 0.6398365674574613,\n        \"min\": -1.0595024599098635,\n        \"max\": 1.0337117525463373,\n        \"num_unique_values\": 1000,\n        \"samples\": [\n          -0.3751930206933384,\n          0.015380346701456493,\n          -0.7027835978832848\n        ],\n        \"semantic_type\": \"\",\n        \"description\": \"\"\n      }\n    },\n    {\n      \"column\": \"X2\",\n      \"properties\": {\n        \"dtype\": \"number\",\n        \"std\": 0.6411559581015384,\n        \"min\": -1.0677683182718436,\n        \"max\": 1.0360036756154805,\n        \"num_unique_values\": 1000,\n        \"samples\": [\n          0.6826597225888621,\n          0.9600260220697324,\n          -0.3147169925147762\n        ],\n        \"semantic_type\": \"\",\n        \"description\": \"\"\n      }\n    },\n    {\n      \"column\": \"label\",\n      \"properties\": {\n        \"dtype\": \"number\",\n        \"std\": 0,\n        \"min\": 0,\n        \"max\": 1,\n        \"num_unique_values\": 2,\n        \"samples\": [\n          0,\n          1\n        ],\n        \"semantic_type\": \"\",\n        \"description\": \"\"\n      }\n    }\n  ]\n}"
            }
          },
          "metadata": {},
          "execution_count": 5
        }
      ]
    },
    {
      "cell_type": "code",
      "source": [
        "plt.scatter(x=X[:, 0],\n",
        "                y=X[:, 1],\n",
        "                c=y,\n",
        "                cmap = plt.cm.RdYlBu)"
      ],
      "metadata": {
        "colab": {
          "base_uri": "https://localhost:8080/",
          "height": 448
        },
        "id": "WBY5lop17T-W",
        "outputId": "7b9e2910-5d23-4de1-b916-06c19b8564aa"
      },
      "execution_count": null,
      "outputs": [
        {
          "output_type": "execute_result",
          "data": {
            "text/plain": [
              "<matplotlib.collections.PathCollection at 0x780964bdaef0>"
            ]
          },
          "metadata": {},
          "execution_count": 6
        },
        {
          "output_type": "display_data",
          "data": {
            "text/plain": [
              "<Figure size 640x480 with 1 Axes>"
            ],
            "image/png": "[encoded data removed]"
          },
          "metadata": {}
        }
      ]
    },
    {
      "cell_type": "code",
      "source": [
        " X.shape, y.shape"
      ],
      "metadata": {
        "colab": {
          "base_uri": "https://localhost:8080/"
        },
        "id": "rNcl1hfL7mun",
        "outputId": "d6829103-6adb-4885-aef7-b2fcdcd930d6"
      },
      "execution_count": null,
      "outputs": [
        {
          "output_type": "execute_result",
          "data": {
            "text/plain": [
              "((1000, 2), (1000,))"
            ]
          },
          "metadata": {},
          "execution_count": 7
        }
      ]
    },
    {
      "cell_type": "code",
      "source": [
        "# turning data into tensors"
      ],
      "metadata": {
        "id": "cPOgsl8i89Pz"
      },
      "execution_count": null,
      "outputs": []
    },
    {
      "cell_type": "code",
      "source": [
        "X = torch.from_numpy(X).type(torch.float)\n",
        "y = torch.from_numpy(y).type(torch.float)\n",
        "\n",
        "X[:5], y[:5]"
      ],
      "metadata": {
        "colab": {
          "base_uri": "https://localhost:8080/"
        },
        "id": "19sEIRfm9Wzz",
        "outputId": "cc999685-e789-449c-c39b-f46d266e89a1"
      },
      "execution_count": null,
      "outputs": [
        {
          "output_type": "execute_result",
          "data": {
            "text/plain": [
              "(tensor([[ 0.7542,  0.2315],\n",
              "         [-0.7562,  0.1533],\n",
              "         [-0.8154,  0.1733],\n",
              "         [-0.3937,  0.6929],\n",
              "         [ 0.4422, -0.8967]]),\n",
              " tensor([1., 1., 1., 1., 0.]))"
            ]
          },
          "metadata": {},
          "execution_count": 9
        }
      ]
    },
    {
      "cell_type": "code",
      "source": [
        "X_train, X_test, y_train, y_test = train_test_split(X, y, test_size=0.2, random_state=42)"
      ],
      "metadata": {
        "id": "m-OdHGsm9eFU"
      },
      "execution_count": null,
      "outputs": []
    },
    {
      "cell_type": "code",
      "source": [
        "# building a model\n",
        "\n",
        "# to do so we want to\n",
        "# 1. Setup device agonistic code so our model will run on accelerator (GPU) if\n",
        "# there is one\n",
        "\n",
        "# 2. Construct a model\n",
        "# 3. Defube a loss function and optimizer\n",
        "# 4. Create a training and test loop"
      ],
      "metadata": {
        "id": "L8ZS_4eE-pvD"
      },
      "execution_count": null,
      "outputs": []
    },
    {
      "cell_type": "code",
      "source": [
        "device = 'cuda' if torch.cuda.is_available() else \"cpu\"\n",
        "device"
      ],
      "metadata": {
        "colab": {
          "base_uri": "https://localhost:8080/",
          "height": 36
        },
        "id": "Y2G1z0MG_NW0",
        "outputId": "7a6588e7-e9e3-4247-b180-d0b9d105fc91"
      },
      "execution_count": null,
      "outputs": [
        {
          "output_type": "execute_result",
          "data": {
            "text/plain": [
              "'cuda'"
            ],
            "application/vnd.google.colaboratory.intrinsic+json": {
              "type": "string"
            }
          },
          "metadata": {},
          "execution_count": 12
        }
      ]
    },
    {
      "cell_type": "code",
      "source": [
        "# create a model\n",
        "\n",
        "# 1. Subclasses (almost all models in PyTorch is subclass in nn.Module)\n",
        "# 2. Create 2 layers (nn.Linear) that are capable of handling the shapes of\n",
        "# our data\n",
        "\n",
        "# 3. Define a forward() method that outlines the forward pass of the model\n",
        "# 4. Instatiate an isntance of our model class and send it to the target device"
      ],
      "metadata": {
        "id": "riQxEf6J_Uxy"
      },
      "execution_count": null,
      "outputs": []
    },
    {
      "cell_type": "code",
      "source": [
        "class CircleModelV0(nn.Module):\n",
        "  def __init__(self):\n",
        "    super(). __init__()\n",
        "    # 2. Create 2 layers\n",
        "    self.layer_1 = nn.Linear(in_features=2, out_features=5)\n",
        "    self.layer_2 = nn.Linear(in_features=5, out_features=1)\n",
        "\n",
        "  # 3. Define forward() method\n",
        "  def forward(self, x):\n",
        "    return self.layer_2(self.layer_1(x)) #x -> layer_1 -> layer_2 -> output\n",
        "\n",
        "# 4. Instance of model\n",
        "model_0 = CircleModelV0().to(device)\n",
        "model_0"
      ],
      "metadata": {
        "colab": {
          "base_uri": "https://localhost:8080/"
        },
        "id": "77fViJk2ACMS",
        "outputId": "cc8c6959-c242-4a58-f1ee-681cf6d9be95"
      },
      "execution_count": null,
      "outputs": [
        {
          "output_type": "execute_result",
          "data": {
            "text/plain": [
              "CircleModelV0(\n",
              "  (layer_1): Linear(in_features=2, out_features=5, bias=True)\n",
              "  (layer_2): Linear(in_features=5, out_features=1, bias=True)\n",
              ")"
            ]
          },
          "metadata": {},
          "execution_count": 14
        }
      ]
    },
    {
      "cell_type": "code",
      "source": [
        "# replicate model using nn.Sequential()\n",
        "\n",
        "model_0 = nn.Sequential(\n",
        "    nn.Linear(in_features=2, out_features=5),\n",
        "    nn.Linear(in_features=5, out_features=1)\n",
        ").to(device)\n",
        "\n",
        "model_0"
      ],
      "metadata": {
        "colab": {
          "base_uri": "https://localhost:8080/"
        },
        "id": "p7OVWUSdBn6x",
        "outputId": "82a9a678-aa16-41c0-b349-222b15eb903e"
      },
      "execution_count": null,
      "outputs": [
        {
          "output_type": "execute_result",
          "data": {
            "text/plain": [
              "Sequential(\n",
              "  (0): Linear(in_features=2, out_features=5, bias=True)\n",
              "  (1): Linear(in_features=5, out_features=1, bias=True)\n",
              ")"
            ]
          },
          "metadata": {},
          "execution_count": 15
        }
      ]
    },
    {
      "cell_type": "code",
      "source": [
        "model_0.state_dict()"
      ],
      "metadata": {
        "colab": {
          "base_uri": "https://localhost:8080/"
        },
        "id": "utvfWdPqMCgo",
        "outputId": "9ec86255-0666-44f0-d6a4-7cbd8e68deee"
      },
      "execution_count": null,
      "outputs": [
        {
          "output_type": "execute_result",
          "data": {
            "text/plain": [
              "OrderedDict([('0.weight',\n",
              "              tensor([[ 0.0768,  0.2135],\n",
              "                      [ 0.4515, -0.4757],\n",
              "                      [ 0.1825, -0.5347],\n",
              "                      [ 0.5259, -0.4771],\n",
              "                      [ 0.4495,  0.4100]], device='cuda:0')),\n",
              "             ('0.bias',\n",
              "              tensor([ 0.2971, -0.3556,  0.4432,  0.3369,  0.1073], device='cuda:0')),\n",
              "             ('1.weight',\n",
              "              tensor([[-0.3397, -0.0172,  0.0162,  0.2890,  0.3555]], device='cuda:0')),\n",
              "             ('1.bias', tensor([0.2026], device='cuda:0'))])"
            ]
          },
          "metadata": {},
          "execution_count": 16
        }
      ]
    },
    {
      "cell_type": "code",
      "source": [
        "# Make predictions\n",
        "with torch.inference_mode():\n",
        "  untrained_preds = model_0(X_test.to(device))\n",
        "\n",
        "print(f\"First 10 predictions: {untrained_preds[:10]}\")\n",
        "print(f\"\\nFirst 10 labels: {y_test[:10]}\")"
      ],
      "metadata": {
        "colab": {
          "base_uri": "https://localhost:8080/"
        },
        "id": "w0rSq7QfLFXb",
        "outputId": "4bc7c49f-cd65-4076-8f6e-86920c2474fb"
      },
      "execution_count": null,
      "outputs": [
        {
          "output_type": "stream",
          "name": "stdout",
          "text": [
            "First 10 predictions: tensor([[0.1006],\n",
            "        [0.1922],\n",
            "        [0.0736],\n",
            "        [0.1073],\n",
            "        [0.4119],\n",
            "        [0.4652],\n",
            "        [0.4550],\n",
            "        [0.5198],\n",
            "        [0.0593],\n",
            "        [0.2021]], device='cuda:0')\n",
            "\n",
            "First 10 labels: tensor([1., 0., 1., 0., 1., 1., 0., 0., 1., 0.])\n"
          ]
        }
      ]
    },
    {
      "cell_type": "markdown",
      "source": [
        "### Fully Connected Neural Network"
      ],
      "metadata": {
        "id": "8McvOMfxAp2p"
      }
    },
    {
      "cell_type": "markdown",
      "source": [
        "A **fully connected neural network** (also known as dense neural network) is one of the simplest types of artifical neural networks where each neuron in one layer is connected to every neuron in subsequent layer"
      ],
      "metadata": {
        "id": "bvI2iA5dF9cJ"
      }
    },
    {
      "cell_type": "markdown",
      "source": [
        "It typically consists of an input layer, one or more hidden layers, and an output layer."
      ],
      "metadata": {
        "id": "iV0BB5AdGQBy"
      }
    },
    {
      "cell_type": "markdown",
      "source": [
        "Every neuron in a layer recieves input from all the neurons in the previous layer and passes its output to all neuron of next layer"
      ],
      "metadata": {
        "id": "ja923r24GWrd"
      }
    },
    {
      "cell_type": "markdown",
      "source": [
        "Each neuron has a weight and bias term which are learnable parameters that the model adjust to minimize error"
      ],
      "metadata": {
        "id": "UTDJH5ooGk2e"
      }
    },
    {
      "cell_type": "markdown",
      "source": [
        "**nn.Linear** is a module in PyTorch that implements a fully connected layer, also known as linear layer\n",
        "<br/>\n",
        "Key parameter includes\n",
        "\n",
        "*   **in_features** The number of input features (size of each input samples)\n",
        "*   **out_features** The number of output features (size of each output samples)\n",
        "* **bias** (a flag to indicate if a bias term should be included)\n",
        "\n"
      ],
      "metadata": {
        "id": "igA3zJqdGvgG"
      }
    },
    {
      "cell_type": "code",
      "source": [
        "# Create a model class that inherts nn.Module\n",
        "class Model(nn.Module):\n",
        "  # Input layer (4 features of the flower)\n",
        "  # Input layer data passed to the hidden layer H1\n",
        "  # Data is passed from H1 to hidden layer H2\n",
        "  # After that it is passed to output layer\n",
        "\n",
        "  def __init__(self, in_features=4, h1=8, h2=9, out_features=3):\n",
        "    super().__init__()\n",
        "    self.fc1 = nn.Linear(in_features,  h1)\n",
        "    self.fc2 = nn.Linear(h1, h2)\n",
        "    self.out = nn.Linear(h2, out_features)\n",
        "\n",
        "  # we need a function that moves everything forward\n",
        "  def forward(self, x):\n",
        "    x = F.relu(self.fc1(x))\n",
        "    x = F.relu(self.fc2(x))\n",
        "    x = self.out(x)\n",
        "    return x"
      ],
      "metadata": {
        "id": "lzhkex3f7WOP"
      },
      "execution_count": null,
      "outputs": []
    },
    {
      "cell_type": "markdown",
      "source": [
        "**torch.nn.functional** is a module in PyTorch that provides functions for various operations including applying layers, activation functions, and loss functions"
      ],
      "metadata": {
        "id": "3WJEJ5GtHg1c"
      }
    },
    {
      "cell_type": "markdown",
      "source": [
        "They are stateless and typically used to  apply operations in the forward method of a neural network"
      ],
      "metadata": {
        "id": "cr27MEk6HtdN"
      }
    },
    {
      "cell_type": "code",
      "source": [
        "# pick a random manual seed for randomization\n",
        "torch.manual_seed(41)\n",
        "\n",
        "# create an instance of mode\n",
        "model = Model()"
      ],
      "metadata": {
        "id": "giXstwZYA4V0"
      },
      "execution_count": null,
      "outputs": []
    },
    {
      "cell_type": "code",
      "source": [
        "url = 'https://gist.githubusercontent.com/netj/8836201/raw/6f9306ad21398ea43cba4f7d537619d0e07d5ae3/iris.csv'\n",
        "df = pd.read_csv(url)"
      ],
      "metadata": {
        "id": "UduOM8CcD2J7"
      },
      "execution_count": null,
      "outputs": []
    },
    {
      "cell_type": "code",
      "source": [
        "df.head()"
      ],
      "metadata": {
        "colab": {
          "base_uri": "https://localhost:8080/",
          "height": 206
        },
        "id": "af49TwVwIiFl",
        "outputId": "c7b5b89c-0616-449d-cd5b-2a5e21d88942"
      },
      "execution_count": null,
      "outputs": [
        {
          "output_type": "execute_result",
          "data": {
            "text/plain": [
              "   sepal.length  sepal.width  petal.length  petal.width variety\n",
              "0           5.1          3.5           1.4          0.2  Setosa\n",
              "1           4.9          3.0           1.4          0.2  Setosa\n",
              "2           4.7          3.2           1.3          0.2  Setosa\n",
              "3           4.6          3.1           1.5          0.2  Setosa\n",
              "4           5.0          3.6           1.4          0.2  Setosa"
            ],
            "text/html": [
              "\n",
              "  <div id=\"df-bc2b9634-a5bc-494d-9729-c5e811f63d83\" class=\"colab-df-container\">\n",
              "    <div>\n",
              "<style scoped>\n",
              "    .dataframe tbody tr th:only-of-type {\n",
              "        vertical-align: middle;\n",
              "    }\n",
              "\n",
              "    .dataframe tbody tr th {\n",
              "        vertical-align: top;\n",
              "    }\n",
              "\n",
              "    .dataframe thead th {\n",
              "        text-align: right;\n",
              "    }\n",
              "</style>\n",
              "<table border=\"1\" class=\"dataframe\">\n",
              "  <thead>\n",
              "    <tr style=\"text-align: right;\">\n",
              "      <th></th>\n",
              "      <th>sepal.length</th>\n",
              "      <th>sepal.width</th>\n",
              "      <th>petal.length</th>\n",
              "      <th>petal.width</th>\n",
              "      <th>variety</th>\n",
              "    </tr>\n",
              "  </thead>\n",
              "  <tbody>\n",
              "    <tr>\n",
              "      <th>0</th>\n",
              "      <td>5.1</td>\n",
              "      <td>3.5</td>\n",
              "      <td>1.4</td>\n",
              "      <td>0.2</td>\n",
              "      <td>Setosa</td>\n",
              "    </tr>\n",
              "    <tr>\n",
              "      <th>1</th>\n",
              "      <td>4.9</td>\n",
              "      <td>3.0</td>\n",
              "      <td>1.4</td>\n",
              "      <td>0.2</td>\n",
              "      <td>Setosa</td>\n",
              "    </tr>\n",
              "    <tr>\n",
              "      <th>2</th>\n",
              "      <td>4.7</td>\n",
              "      <td>3.2</td>\n",
              "      <td>1.3</td>\n",
              "      <td>0.2</td>\n",
              "      <td>Setosa</td>\n",
              "    </tr>\n",
              "    <tr>\n",
              "      <th>3</th>\n",
              "      <td>4.6</td>\n",
              "      <td>3.1</td>\n",
              "      <td>1.5</td>\n",
              "      <td>0.2</td>\n",
              "      <td>Setosa</td>\n",
              "    </tr>\n",
              "    <tr>\n",
              "      <th>4</th>\n",
              "      <td>5.0</td>\n",
              "      <td>3.6</td>\n",
              "      <td>1.4</td>\n",
              "      <td>0.2</td>\n",
              "      <td>Setosa</td>\n",
              "    </tr>\n",
              "  </tbody>\n",
              "</table>\n",
              "</div>\n",
              "    <div class=\"colab-df-buttons\">\n",
              "\n",
              "  <div class=\"colab-df-container\">\n",
              "    <button class=\"colab-df-convert\" onclick=\"convertToInteractive('df-bc2b9634-a5bc-494d-9729-c5e811f63d83')\"\n",
              "            title=\"Convert this dataframe to an interactive table.\"\n",
              "            style=\"display:none;\">\n",
              "\n",
              "  <svg xmlns=\"http://www.w3.org/2000/svg\" height=\"24px\" viewBox=\"0 -960 960 960\">\n",
              "    <path d=\"M120-120v-720h720v720H120Zm60-500h600v-160H180v160Zm220 220h160v-160H400v160Zm0 220h160v-160H400v160ZM180-400h160v-160H180v160Zm440 0h160v-160H620v160ZM180-180h160v-160H180v160Zm440 0h160v-160H620v160Z\"/>\n",
              "  </svg>\n",
              "    </button>\n",
              "\n",
              "  <style>\n",
              "    .colab-df-container {\n",
              "      display:flex;\n",
              "      gap: 12px;\n",
              "    }\n",
              "\n",
              "    .colab-df-convert {\n",
              "      background-color: #E8F0FE;\n",
              "      border: none;\n",
              "      border-radius: 50%;\n",
              "      cursor: pointer;\n",
              "      display: none;\n",
              "      fill: #1967D2;\n",
              "      height: 32px;\n",
              "      padding: 0 0 0 0;\n",
              "      width: 32px;\n",
              "    }\n",
              "\n",
              "    .colab-df-convert:hover {\n",
              "      background-color: #E2EBFA;\n",
              "      box-shadow: 0px 1px 2px rgba(60, 64, 67, 0.3), 0px 1px 3px 1px rgba(60, 64, 67, 0.15);\n",
              "      fill: #174EA6;\n",
              "    }\n",
              "\n",
              "    .colab-df-buttons div {\n",
              "      margin-bottom: 4px;\n",
              "    }\n",
              "\n",
              "    [theme=dark] .colab-df-convert {\n",
              "      background-color: #3B4455;\n",
              "      fill: #D2E3FC;\n",
              "    }\n",
              "\n",
              "    [theme=dark] .colab-df-convert:hover {\n",
              "      background-color: #434B5C;\n",
              "      box-shadow: 0px 1px 3px 1px rgba(0, 0, 0, 0.15);\n",
              "      filter: drop-shadow(0px 1px 2px rgba(0, 0, 0, 0.3));\n",
              "      fill: #FFFFFF;\n",
              "    }\n",
              "  </style>\n",
              "\n",
              "    <script>\n",
              "      const buttonEl =\n",
              "        document.querySelector('#df-bc2b9634-a5bc-494d-9729-c5e811f63d83 button.colab-df-convert');\n",
              "      buttonEl.style.display =\n",
              "        google.colab.kernel.accessAllowed ? 'block' : 'none';\n",
              "\n",
              "      async function convertToInteractive(key) {\n",
              "        const element = document.querySelector('#df-bc2b9634-a5bc-494d-9729-c5e811f63d83');\n",
              "        const dataTable =\n",
              "          await google.colab.kernel.invokeFunction('convertToInteractive',\n",
              "                                                    [key], {});\n",
              "        if (!dataTable) return;\n",
              "\n",
              "        const docLinkHtml = 'Like what you see? Visit the ' +\n",
              "          '<a target=\"_blank\" href=https://colab.research.google.com/notebooks/data_table.ipynb>data table notebook</a>'\n",
              "          + ' to learn more about interactive tables.';\n",
              "        element.innerHTML = '';\n",
              "        dataTable['output_type'] = 'display_data';\n",
              "        await google.colab.output.renderOutput(dataTable, element);\n",
              "        const docLink = document.createElement('div');\n",
              "        docLink.innerHTML = docLinkHtml;\n",
              "        element.appendChild(docLink);\n",
              "      }\n",
              "    </script>\n",
              "  </div>\n",
              "\n",
              "\n",
              "<div id=\"df-8f8923b2-a1e5-49b3-82ec-aa5911aa11ee\">\n",
              "  <button class=\"colab-df-quickchart\" onclick=\"quickchart('df-8f8923b2-a1e5-49b3-82ec-aa5911aa11ee')\"\n",
              "            title=\"Suggest charts\"\n",
              "            style=\"display:none;\">\n",
              "\n",
              "<svg xmlns=\"http://www.w3.org/2000/svg\" height=\"24px\"viewBox=\"0 0 24 24\"\n",
              "     width=\"24px\">\n",
              "    <g>\n",
              "        <path d=\"M19 3H5c-1.1 0-2 .9-2 2v14c0 1.1.9 2 2 2h14c1.1 0 2-.9 2-2V5c0-1.1-.9-2-2-2zM9 17H7v-7h2v7zm4 0h-2V7h2v10zm4 0h-2v-4h2v4z\"/>\n",
              "    </g>\n",
              "</svg>\n",
              "  </button>\n",
              "\n",
              "<style>\n",
              "  .colab-df-quickchart {\n",
              "      --bg-color: #E8F0FE;\n",
              "      --fill-color: #1967D2;\n",
              "      --hover-bg-color: #E2EBFA;\n",
              "      --hover-fill-color: #174EA6;\n",
              "      --disabled-fill-color: #AAA;\n",
              "      --disabled-bg-color: #DDD;\n",
              "  }\n",
              "\n",
              "  [theme=dark] .colab-df-quickchart {\n",
              "      --bg-color: #3B4455;\n",
              "      --fill-color: #D2E3FC;\n",
              "      --hover-bg-color: #434B5C;\n",
              "      --hover-fill-color: #FFFFFF;\n",
              "      --disabled-bg-color: #3B4455;\n",
              "      --disabled-fill-color: #666;\n",
              "  }\n",
              "\n",
              "  .colab-df-quickchart {\n",
              "    background-color: var(--bg-color);\n",
              "    border: none;\n",
              "    border-radius: 50%;\n",
              "    cursor: pointer;\n",
              "    display: none;\n",
              "    fill: var(--fill-color);\n",
              "    height: 32px;\n",
              "    padding: 0;\n",
              "    width: 32px;\n",
              "  }\n",
              "\n",
              "  .colab-df-quickchart:hover {\n",
              "    background-color: var(--hover-bg-color);\n",
              "    box-shadow: 0 1px 2px rgba(60, 64, 67, 0.3), 0 1px 3px 1px rgba(60, 64, 67, 0.15);\n",
              "    fill: var(--button-hover-fill-color);\n",
              "  }\n",
              "\n",
              "  .colab-df-quickchart-complete:disabled,\n",
              "  .colab-df-quickchart-complete:disabled:hover {\n",
              "    background-color: var(--disabled-bg-color);\n",
              "    fill: var(--disabled-fill-color);\n",
              "    box-shadow: none;\n",
              "  }\n",
              "\n",
              "  .colab-df-spinner {\n",
              "    border: 2px solid var(--fill-color);\n",
              "    border-color: transparent;\n",
              "    border-bottom-color: var(--fill-color);\n",
              "    animation:\n",
              "      spin 1s steps(1) infinite;\n",
              "  }\n",
              "\n",
              "  @keyframes spin {\n",
              "    0% {\n",
              "      border-color: transparent;\n",
              "      border-bottom-color: var(--fill-color);\n",
              "      border-left-color: var(--fill-color);\n",
              "    }\n",
              "    20% {\n",
              "      border-color: transparent;\n",
              "      border-left-color: var(--fill-color);\n",
              "      border-top-color: var(--fill-color);\n",
              "    }\n",
              "    30% {\n",
              "      border-color: transparent;\n",
              "      border-left-color: var(--fill-color);\n",
              "      border-top-color: var(--fill-color);\n",
              "      border-right-color: var(--fill-color);\n",
              "    }\n",
              "    40% {\n",
              "      border-color: transparent;\n",
              "      border-right-color: var(--fill-color);\n",
              "      border-top-color: var(--fill-color);\n",
              "    }\n",
              "    60% {\n",
              "      border-color: transparent;\n",
              "      border-right-color: var(--fill-color);\n",
              "    }\n",
              "    80% {\n",
              "      border-color: transparent;\n",
              "      border-right-color: var(--fill-color);\n",
              "      border-bottom-color: var(--fill-color);\n",
              "    }\n",
              "    90% {\n",
              "      border-color: transparent;\n",
              "      border-bottom-color: var(--fill-color);\n",
              "    }\n",
              "  }\n",
              "</style>\n",
              "\n",
              "  <script>\n",
              "    async function quickchart(key) {\n",
              "      const quickchartButtonEl =\n",
              "        document.querySelector('#' + key + ' button');\n",
              "      quickchartButtonEl.disabled = true;  // To prevent multiple clicks.\n",
              "      quickchartButtonEl.classList.add('colab-df-spinner');\n",
              "      try {\n",
              "        const charts = await google.colab.kernel.invokeFunction(\n",
              "            'suggestCharts', [key], {});\n",
              "      } catch (error) {\n",
              "        console.error('Error during call to suggestCharts:', error);\n",
              "      }\n",
              "      quickchartButtonEl.classList.remove('colab-df-spinner');\n",
              "      quickchartButtonEl.classList.add('colab-df-quickchart-complete');\n",
              "    }\n",
              "    (() => {\n",
              "      let quickchartButtonEl =\n",
              "        document.querySelector('#df-8f8923b2-a1e5-49b3-82ec-aa5911aa11ee button');\n",
              "      quickchartButtonEl.style.display =\n",
              "        google.colab.kernel.accessAllowed ? 'block' : 'none';\n",
              "    })();\n",
              "  </script>\n",
              "</div>\n",
              "\n",
              "    </div>\n",
              "  </div>\n"
            ],
            "application/vnd.google.colaboratory.intrinsic+json": {
              "type": "dataframe",
              "variable_name": "df",
              "summary": "{\n  \"name\": \"df\",\n  \"rows\": 150,\n  \"fields\": [\n    {\n      \"column\": \"sepal.length\",\n      \"properties\": {\n        \"dtype\": \"number\",\n        \"std\": 0.828066127977863,\n        \"min\": 4.3,\n        \"max\": 7.9,\n        \"num_unique_values\": 35,\n        \"samples\": [\n          6.2,\n          4.5,\n          5.6\n        ],\n        \"semantic_type\": \"\",\n        \"description\": \"\"\n      }\n    },\n    {\n      \"column\": \"sepal.width\",\n      \"properties\": {\n        \"dtype\": \"number\",\n        \"std\": 0.4358662849366982,\n        \"min\": 2.0,\n        \"max\": 4.4,\n        \"num_unique_values\": 23,\n        \"samples\": [\n          2.3,\n          4.0,\n          3.5\n        ],\n        \"semantic_type\": \"\",\n        \"description\": \"\"\n      }\n    },\n    {\n      \"column\": \"petal.length\",\n      \"properties\": {\n        \"dtype\": \"number\",\n        \"std\": 1.7652982332594662,\n        \"min\": 1.0,\n        \"max\": 6.9,\n        \"num_unique_values\": 43,\n        \"samples\": [\n          6.7,\n          3.8,\n          3.7\n        ],\n        \"semantic_type\": \"\",\n        \"description\": \"\"\n      }\n    },\n    {\n      \"column\": \"petal.width\",\n      \"properties\": {\n        \"dtype\": \"number\",\n        \"std\": 0.7622376689603465,\n        \"min\": 0.1,\n        \"max\": 2.5,\n        \"num_unique_values\": 22,\n        \"samples\": [\n          0.2,\n          1.2,\n          1.3\n        ],\n        \"semantic_type\": \"\",\n        \"description\": \"\"\n      }\n    },\n    {\n      \"column\": \"variety\",\n      \"properties\": {\n        \"dtype\": \"category\",\n        \"num_unique_values\": 3,\n        \"samples\": [\n          \"Setosa\",\n          \"Versicolor\",\n          \"Virginica\"\n        ],\n        \"semantic_type\": \"\",\n        \"description\": \"\"\n      }\n    }\n  ]\n}"
            }
          },
          "metadata": {},
          "execution_count": 78
        }
      ]
    },
    {
      "cell_type": "code",
      "source": [
        "df.tail()"
      ],
      "metadata": {
        "colab": {
          "base_uri": "https://localhost:8080/",
          "height": 206
        },
        "id": "Tt7hDlSCInLT",
        "outputId": "00d4820f-8d3d-4b7b-c42c-eed28f420bba"
      },
      "execution_count": null,
      "outputs": [
        {
          "output_type": "execute_result",
          "data": {
            "text/plain": [
              "     sepal.length  sepal.width  petal.length  petal.width    variety\n",
              "145           6.7          3.0           5.2          2.3  Virginica\n",
              "146           6.3          2.5           5.0          1.9  Virginica\n",
              "147           6.5          3.0           5.2          2.0  Virginica\n",
              "148           6.2          3.4           5.4          2.3  Virginica\n",
              "149           5.9          3.0           5.1          1.8  Virginica"
            ],
            "text/html": [
              "\n",
              "  <div id=\"df-aa7a0939-55c6-4c49-bf42-d1ec4a4cf93d\" class=\"colab-df-container\">\n",
              "    <div>\n",
              "<style scoped>\n",
              "    .dataframe tbody tr th:only-of-type {\n",
              "        vertical-align: middle;\n",
              "    }\n",
              "\n",
              "    .dataframe tbody tr th {\n",
              "        vertical-align: top;\n",
              "    }\n",
              "\n",
              "    .dataframe thead th {\n",
              "        text-align: right;\n",
              "    }\n",
              "</style>\n",
              "<table border=\"1\" class=\"dataframe\">\n",
              "  <thead>\n",
              "    <tr style=\"text-align: right;\">\n",
              "      <th></th>\n",
              "      <th>sepal.length</th>\n",
              "      <th>sepal.width</th>\n",
              "      <th>petal.length</th>\n",
              "      <th>petal.width</th>\n",
              "      <th>variety</th>\n",
              "    </tr>\n",
              "  </thead>\n",
              "  <tbody>\n",
              "    <tr>\n",
              "      <th>145</th>\n",
              "      <td>6.7</td>\n",
              "      <td>3.0</td>\n",
              "      <td>5.2</td>\n",
              "      <td>2.3</td>\n",
              "      <td>Virginica</td>\n",
              "    </tr>\n",
              "    <tr>\n",
              "      <th>146</th>\n",
              "      <td>6.3</td>\n",
              "      <td>2.5</td>\n",
              "      <td>5.0</td>\n",
              "      <td>1.9</td>\n",
              "      <td>Virginica</td>\n",
              "    </tr>\n",
              "    <tr>\n",
              "      <th>147</th>\n",
              "      <td>6.5</td>\n",
              "      <td>3.0</td>\n",
              "      <td>5.2</td>\n",
              "      <td>2.0</td>\n",
              "      <td>Virginica</td>\n",
              "    </tr>\n",
              "    <tr>\n",
              "      <th>148</th>\n",
              "      <td>6.2</td>\n",
              "      <td>3.4</td>\n",
              "      <td>5.4</td>\n",
              "      <td>2.3</td>\n",
              "      <td>Virginica</td>\n",
              "    </tr>\n",
              "    <tr>\n",
              "      <th>149</th>\n",
              "      <td>5.9</td>\n",
              "      <td>3.0</td>\n",
              "      <td>5.1</td>\n",
              "      <td>1.8</td>\n",
              "      <td>Virginica</td>\n",
              "    </tr>\n",
              "  </tbody>\n",
              "</table>\n",
              "</div>\n",
              "    <div class=\"colab-df-buttons\">\n",
              "\n",
              "  <div class=\"colab-df-container\">\n",
              "    <button class=\"colab-df-convert\" onclick=\"convertToInteractive('df-aa7a0939-55c6-4c49-bf42-d1ec4a4cf93d')\"\n",
              "            title=\"Convert this dataframe to an interactive table.\"\n",
              "            style=\"display:none;\">\n",
              "\n",
              "  <svg xmlns=\"http://www.w3.org/2000/svg\" height=\"24px\" viewBox=\"0 -960 960 960\">\n",
              "    <path d=\"M120-120v-720h720v720H120Zm60-500h600v-160H180v160Zm220 220h160v-160H400v160Zm0 220h160v-160H400v160ZM180-400h160v-160H180v160Zm440 0h160v-160H620v160ZM180-180h160v-160H180v160Zm440 0h160v-160H620v160Z\"/>\n",
              "  </svg>\n",
              "    </button>\n",
              "\n",
              "  <style>\n",
              "    .colab-df-container {\n",
              "      display:flex;\n",
              "      gap: 12px;\n",
              "    }\n",
              "\n",
              "    .colab-df-convert {\n",
              "      background-color: #E8F0FE;\n",
              "      border: none;\n",
              "      border-radius: 50%;\n",
              "      cursor: pointer;\n",
              "      display: none;\n",
              "      fill: #1967D2;\n",
              "      height: 32px;\n",
              "      padding: 0 0 0 0;\n",
              "      width: 32px;\n",
              "    }\n",
              "\n",
              "    .colab-df-convert:hover {\n",
              "      background-color: #E2EBFA;\n",
              "      box-shadow: 0px 1px 2px rgba(60, 64, 67, 0.3), 0px 1px 3px 1px rgba(60, 64, 67, 0.15);\n",
              "      fill: #174EA6;\n",
              "    }\n",
              "\n",
              "    .colab-df-buttons div {\n",
              "      margin-bottom: 4px;\n",
              "    }\n",
              "\n",
              "    [theme=dark] .colab-df-convert {\n",
              "      background-color: #3B4455;\n",
              "      fill: #D2E3FC;\n",
              "    }\n",
              "\n",
              "    [theme=dark] .colab-df-convert:hover {\n",
              "      background-color: #434B5C;\n",
              "      box-shadow: 0px 1px 3px 1px rgba(0, 0, 0, 0.15);\n",
              "      filter: drop-shadow(0px 1px 2px rgba(0, 0, 0, 0.3));\n",
              "      fill: #FFFFFF;\n",
              "    }\n",
              "  </style>\n",
              "\n",
              "    <script>\n",
              "      const buttonEl =\n",
              "        document.querySelector('#df-aa7a0939-55c6-4c49-bf42-d1ec4a4cf93d button.colab-df-convert');\n",
              "      buttonEl.style.display =\n",
              "        google.colab.kernel.accessAllowed ? 'block' : 'none';\n",
              "\n",
              "      async function convertToInteractive(key) {\n",
              "        const element = document.querySelector('#df-aa7a0939-55c6-4c49-bf42-d1ec4a4cf93d');\n",
              "        const dataTable =\n",
              "          await google.colab.kernel.invokeFunction('convertToInteractive',\n",
              "                                                    [key], {});\n",
              "        if (!dataTable) return;\n",
              "\n",
              "        const docLinkHtml = 'Like what you see? Visit the ' +\n",
              "          '<a target=\"_blank\" href=https://colab.research.google.com/notebooks/data_table.ipynb>data table notebook</a>'\n",
              "          + ' to learn more about interactive tables.';\n",
              "        element.innerHTML = '';\n",
              "        dataTable['output_type'] = 'display_data';\n",
              "        await google.colab.output.renderOutput(dataTable, element);\n",
              "        const docLink = document.createElement('div');\n",
              "        docLink.innerHTML = docLinkHtml;\n",
              "        element.appendChild(docLink);\n",
              "      }\n",
              "    </script>\n",
              "  </div>\n",
              "\n",
              "\n",
              "<div id=\"df-89a10903-bb8b-476d-a634-15b26977b16e\">\n",
              "  <button class=\"colab-df-quickchart\" onclick=\"quickchart('df-89a10903-bb8b-476d-a634-15b26977b16e')\"\n",
              "            title=\"Suggest charts\"\n",
              "            style=\"display:none;\">\n",
              "\n",
              "<svg xmlns=\"http://www.w3.org/2000/svg\" height=\"24px\"viewBox=\"0 0 24 24\"\n",
              "     width=\"24px\">\n",
              "    <g>\n",
              "        <path d=\"M19 3H5c-1.1 0-2 .9-2 2v14c0 1.1.9 2 2 2h14c1.1 0 2-.9 2-2V5c0-1.1-.9-2-2-2zM9 17H7v-7h2v7zm4 0h-2V7h2v10zm4 0h-2v-4h2v4z\"/>\n",
              "    </g>\n",
              "</svg>\n",
              "  </button>\n",
              "\n",
              "<style>\n",
              "  .colab-df-quickchart {\n",
              "      --bg-color: #E8F0FE;\n",
              "      --fill-color: #1967D2;\n",
              "      --hover-bg-color: #E2EBFA;\n",
              "      --hover-fill-color: #174EA6;\n",
              "      --disabled-fill-color: #AAA;\n",
              "      --disabled-bg-color: #DDD;\n",
              "  }\n",
              "\n",
              "  [theme=dark] .colab-df-quickchart {\n",
              "      --bg-color: #3B4455;\n",
              "      --fill-color: #D2E3FC;\n",
              "      --hover-bg-color: #434B5C;\n",
              "      --hover-fill-color: #FFFFFF;\n",
              "      --disabled-bg-color: #3B4455;\n",
              "      --disabled-fill-color: #666;\n",
              "  }\n",
              "\n",
              "  .colab-df-quickchart {\n",
              "    background-color: var(--bg-color);\n",
              "    border: none;\n",
              "    border-radius: 50%;\n",
              "    cursor: pointer;\n",
              "    display: none;\n",
              "    fill: var(--fill-color);\n",
              "    height: 32px;\n",
              "    padding: 0;\n",
              "    width: 32px;\n",
              "  }\n",
              "\n",
              "  .colab-df-quickchart:hover {\n",
              "    background-color: var(--hover-bg-color);\n",
              "    box-shadow: 0 1px 2px rgba(60, 64, 67, 0.3), 0 1px 3px 1px rgba(60, 64, 67, 0.15);\n",
              "    fill: var(--button-hover-fill-color);\n",
              "  }\n",
              "\n",
              "  .colab-df-quickchart-complete:disabled,\n",
              "  .colab-df-quickchart-complete:disabled:hover {\n",
              "    background-color: var(--disabled-bg-color);\n",
              "    fill: var(--disabled-fill-color);\n",
              "    box-shadow: none;\n",
              "  }\n",
              "\n",
              "  .colab-df-spinner {\n",
              "    border: 2px solid var(--fill-color);\n",
              "    border-color: transparent;\n",
              "    border-bottom-color: var(--fill-color);\n",
              "    animation:\n",
              "      spin 1s steps(1) infinite;\n",
              "  }\n",
              "\n",
              "  @keyframes spin {\n",
              "    0% {\n",
              "      border-color: transparent;\n",
              "      border-bottom-color: var(--fill-color);\n",
              "      border-left-color: var(--fill-color);\n",
              "    }\n",
              "    20% {\n",
              "      border-color: transparent;\n",
              "      border-left-color: var(--fill-color);\n",
              "      border-top-color: var(--fill-color);\n",
              "    }\n",
              "    30% {\n",
              "      border-color: transparent;\n",
              "      border-left-color: var(--fill-color);\n",
              "      border-top-color: var(--fill-color);\n",
              "      border-right-color: var(--fill-color);\n",
              "    }\n",
              "    40% {\n",
              "      border-color: transparent;\n",
              "      border-right-color: var(--fill-color);\n",
              "      border-top-color: var(--fill-color);\n",
              "    }\n",
              "    60% {\n",
              "      border-color: transparent;\n",
              "      border-right-color: var(--fill-color);\n",
              "    }\n",
              "    80% {\n",
              "      border-color: transparent;\n",
              "      border-right-color: var(--fill-color);\n",
              "      border-bottom-color: var(--fill-color);\n",
              "    }\n",
              "    90% {\n",
              "      border-color: transparent;\n",
              "      border-bottom-color: var(--fill-color);\n",
              "    }\n",
              "  }\n",
              "</style>\n",
              "\n",
              "  <script>\n",
              "    async function quickchart(key) {\n",
              "      const quickchartButtonEl =\n",
              "        document.querySelector('#' + key + ' button');\n",
              "      quickchartButtonEl.disabled = true;  // To prevent multiple clicks.\n",
              "      quickchartButtonEl.classList.add('colab-df-spinner');\n",
              "      try {\n",
              "        const charts = await google.colab.kernel.invokeFunction(\n",
              "            'suggestCharts', [key], {});\n",
              "      } catch (error) {\n",
              "        console.error('Error during call to suggestCharts:', error);\n",
              "      }\n",
              "      quickchartButtonEl.classList.remove('colab-df-spinner');\n",
              "      quickchartButtonEl.classList.add('colab-df-quickchart-complete');\n",
              "    }\n",
              "    (() => {\n",
              "      let quickchartButtonEl =\n",
              "        document.querySelector('#df-89a10903-bb8b-476d-a634-15b26977b16e button');\n",
              "      quickchartButtonEl.style.display =\n",
              "        google.colab.kernel.accessAllowed ? 'block' : 'none';\n",
              "    })();\n",
              "  </script>\n",
              "</div>\n",
              "\n",
              "    </div>\n",
              "  </div>\n"
            ],
            "application/vnd.google.colaboratory.intrinsic+json": {
              "type": "dataframe",
              "summary": "{\n  \"name\": \"df\",\n  \"rows\": 5,\n  \"fields\": [\n    {\n      \"column\": \"sepal.length\",\n      \"properties\": {\n        \"dtype\": \"number\",\n        \"std\": 0.30331501776206193,\n        \"min\": 5.9,\n        \"max\": 6.7,\n        \"num_unique_values\": 5,\n        \"samples\": [\n          6.3,\n          5.9,\n          6.5\n        ],\n        \"semantic_type\": \"\",\n        \"description\": \"\"\n      }\n    },\n    {\n      \"column\": \"sepal.width\",\n      \"properties\": {\n        \"dtype\": \"number\",\n        \"std\": 0.31937438845342625,\n        \"min\": 2.5,\n        \"max\": 3.4,\n        \"num_unique_values\": 3,\n        \"samples\": [\n          3.0,\n          2.5,\n          3.4\n        ],\n        \"semantic_type\": \"\",\n        \"description\": \"\"\n      }\n    },\n    {\n      \"column\": \"petal.length\",\n      \"properties\": {\n        \"dtype\": \"number\",\n        \"std\": 0.14832396974191348,\n        \"min\": 5.0,\n        \"max\": 5.4,\n        \"num_unique_values\": 4,\n        \"samples\": [\n          5.0,\n          5.1,\n          5.2\n        ],\n        \"semantic_type\": \"\",\n        \"description\": \"\"\n      }\n    },\n    {\n      \"column\": \"petal.width\",\n      \"properties\": {\n        \"dtype\": \"number\",\n        \"std\": 0.23021728866442667,\n        \"min\": 1.8,\n        \"max\": 2.3,\n        \"num_unique_values\": 4,\n        \"samples\": [\n          1.9,\n          1.8,\n          2.3\n        ],\n        \"semantic_type\": \"\",\n        \"description\": \"\"\n      }\n    },\n    {\n      \"column\": \"variety\",\n      \"properties\": {\n        \"dtype\": \"category\",\n        \"num_unique_values\": 1,\n        \"samples\": [\n          \"Virginica\"\n        ],\n        \"semantic_type\": \"\",\n        \"description\": \"\"\n      }\n    }\n  ]\n}"
            }
          },
          "metadata": {},
          "execution_count": 79
        }
      ]
    },
    {
      "cell_type": "code",
      "source": [
        "# Change the variety column data from string to number\n",
        "# by replacing it with number specific to each category\n",
        "# In simple terms, do a manual one-hot encoding\n",
        "\n",
        "df['variety'] = df['variety'].replace('Setosa', 0.0)\n",
        "df['variety'] = df['variety'].replace('Versicolor', 1.0)\n",
        "df['variety'] = df['variety'].replace('Virginica', 2.0)"
      ],
      "metadata": {
        "id": "sbQvy9PhIvYL"
      },
      "execution_count": null,
      "outputs": []
    },
    {
      "cell_type": "code",
      "source": [
        "df.head()"
      ],
      "metadata": {
        "colab": {
          "base_uri": "https://localhost:8080/",
          "height": 206
        },
        "id": "UPjtRH05JL7Z",
        "outputId": "c5eb35ce-25b9-44f5-f273-71b9f04d4752"
      },
      "execution_count": null,
      "outputs": [
        {
          "output_type": "execute_result",
          "data": {
            "text/plain": [
              "   sepal.length  sepal.width  petal.length  petal.width  variety\n",
              "0           5.1          3.5           1.4          0.2      0.0\n",
              "1           4.9          3.0           1.4          0.2      0.0\n",
              "2           4.7          3.2           1.3          0.2      0.0\n",
              "3           4.6          3.1           1.5          0.2      0.0\n",
              "4           5.0          3.6           1.4          0.2      0.0"
            ],
            "text/html": [
              "\n",
              "  <div id=\"df-f20728dd-2184-43ec-8b86-3bc365a48069\" class=\"colab-df-container\">\n",
              "    <div>\n",
              "<style scoped>\n",
              "    .dataframe tbody tr th:only-of-type {\n",
              "        vertical-align: middle;\n",
              "    }\n",
              "\n",
              "    .dataframe tbody tr th {\n",
              "        vertical-align: top;\n",
              "    }\n",
              "\n",
              "    .dataframe thead th {\n",
              "        text-align: right;\n",
              "    }\n",
              "</style>\n",
              "<table border=\"1\" class=\"dataframe\">\n",
              "  <thead>\n",
              "    <tr style=\"text-align: right;\">\n",
              "      <th></th>\n",
              "      <th>sepal.length</th>\n",
              "      <th>sepal.width</th>\n",
              "      <th>petal.length</th>\n",
              "      <th>petal.width</th>\n",
              "      <th>variety</th>\n",
              "    </tr>\n",
              "  </thead>\n",
              "  <tbody>\n",
              "    <tr>\n",
              "      <th>0</th>\n",
              "      <td>5.1</td>\n",
              "      <td>3.5</td>\n",
              "      <td>1.4</td>\n",
              "      <td>0.2</td>\n",
              "      <td>0.0</td>\n",
              "    </tr>\n",
              "    <tr>\n",
              "      <th>1</th>\n",
              "      <td>4.9</td>\n",
              "      <td>3.0</td>\n",
              "      <td>1.4</td>\n",
              "      <td>0.2</td>\n",
              "      <td>0.0</td>\n",
              "    </tr>\n",
              "    <tr>\n",
              "      <th>2</th>\n",
              "      <td>4.7</td>\n",
              "      <td>3.2</td>\n",
              "      <td>1.3</td>\n",
              "      <td>0.2</td>\n",
              "      <td>0.0</td>\n",
              "    </tr>\n",
              "    <tr>\n",
              "      <th>3</th>\n",
              "      <td>4.6</td>\n",
              "      <td>3.1</td>\n",
              "      <td>1.5</td>\n",
              "      <td>0.2</td>\n",
              "      <td>0.0</td>\n",
              "    </tr>\n",
              "    <tr>\n",
              "      <th>4</th>\n",
              "      <td>5.0</td>\n",
              "      <td>3.6</td>\n",
              "      <td>1.4</td>\n",
              "      <td>0.2</td>\n",
              "      <td>0.0</td>\n",
              "    </tr>\n",
              "  </tbody>\n",
              "</table>\n",
              "</div>\n",
              "    <div class=\"colab-df-buttons\">\n",
              "\n",
              "  <div class=\"colab-df-container\">\n",
              "    <button class=\"colab-df-convert\" onclick=\"convertToInteractive('df-f20728dd-2184-43ec-8b86-3bc365a48069')\"\n",
              "            title=\"Convert this dataframe to an interactive table.\"\n",
              "            style=\"display:none;\">\n",
              "\n",
              "  <svg xmlns=\"http://www.w3.org/2000/svg\" height=\"24px\" viewBox=\"0 -960 960 960\">\n",
              "    <path d=\"M120-120v-720h720v720H120Zm60-500h600v-160H180v160Zm220 220h160v-160H400v160Zm0 220h160v-160H400v160ZM180-400h160v-160H180v160Zm440 0h160v-160H620v160ZM180-180h160v-160H180v160Zm440 0h160v-160H620v160Z\"/>\n",
              "  </svg>\n",
              "    </button>\n",
              "\n",
              "  <style>\n",
              "    .colab-df-container {\n",
              "      display:flex;\n",
              "      gap: 12px;\n",
              "    }\n",
              "\n",
              "    .colab-df-convert {\n",
              "      background-color: #E8F0FE;\n",
              "      border: none;\n",
              "      border-radius: 50%;\n",
              "      cursor: pointer;\n",
              "      display: none;\n",
              "      fill: #1967D2;\n",
              "      height: 32px;\n",
              "      padding: 0 0 0 0;\n",
              "      width: 32px;\n",
              "    }\n",
              "\n",
              "    .colab-df-convert:hover {\n",
              "      background-color: #E2EBFA;\n",
              "      box-shadow: 0px 1px 2px rgba(60, 64, 67, 0.3), 0px 1px 3px 1px rgba(60, 64, 67, 0.15);\n",
              "      fill: #174EA6;\n",
              "    }\n",
              "\n",
              "    .colab-df-buttons div {\n",
              "      margin-bottom: 4px;\n",
              "    }\n",
              "\n",
              "    [theme=dark] .colab-df-convert {\n",
              "      background-color: #3B4455;\n",
              "      fill: #D2E3FC;\n",
              "    }\n",
              "\n",
              "    [theme=dark] .colab-df-convert:hover {\n",
              "      background-color: #434B5C;\n",
              "      box-shadow: 0px 1px 3px 1px rgba(0, 0, 0, 0.15);\n",
              "      filter: drop-shadow(0px 1px 2px rgba(0, 0, 0, 0.3));\n",
              "      fill: #FFFFFF;\n",
              "    }\n",
              "  </style>\n",
              "\n",
              "    <script>\n",
              "      const buttonEl =\n",
              "        document.querySelector('#df-f20728dd-2184-43ec-8b86-3bc365a48069 button.colab-df-convert');\n",
              "      buttonEl.style.display =\n",
              "        google.colab.kernel.accessAllowed ? 'block' : 'none';\n",
              "\n",
              "      async function convertToInteractive(key) {\n",
              "        const element = document.querySelector('#df-f20728dd-2184-43ec-8b86-3bc365a48069');\n",
              "        const dataTable =\n",
              "          await google.colab.kernel.invokeFunction('convertToInteractive',\n",
              "                                                    [key], {});\n",
              "        if (!dataTable) return;\n",
              "\n",
              "        const docLinkHtml = 'Like what you see? Visit the ' +\n",
              "          '<a target=\"_blank\" href=https://colab.research.google.com/notebooks/data_table.ipynb>data table notebook</a>'\n",
              "          + ' to learn more about interactive tables.';\n",
              "        element.innerHTML = '';\n",
              "        dataTable['output_type'] = 'display_data';\n",
              "        await google.colab.output.renderOutput(dataTable, element);\n",
              "        const docLink = document.createElement('div');\n",
              "        docLink.innerHTML = docLinkHtml;\n",
              "        element.appendChild(docLink);\n",
              "      }\n",
              "    </script>\n",
              "  </div>\n",
              "\n",
              "\n",
              "<div id=\"df-a07862c3-5dd1-4595-a81a-c6ae16065ab4\">\n",
              "  <button class=\"colab-df-quickchart\" onclick=\"quickchart('df-a07862c3-5dd1-4595-a81a-c6ae16065ab4')\"\n",
              "            title=\"Suggest charts\"\n",
              "            style=\"display:none;\">\n",
              "\n",
              "<svg xmlns=\"http://www.w3.org/2000/svg\" height=\"24px\"viewBox=\"0 0 24 24\"\n",
              "     width=\"24px\">\n",
              "    <g>\n",
              "        <path d=\"M19 3H5c-1.1 0-2 .9-2 2v14c0 1.1.9 2 2 2h14c1.1 0 2-.9 2-2V5c0-1.1-.9-2-2-2zM9 17H7v-7h2v7zm4 0h-2V7h2v10zm4 0h-2v-4h2v4z\"/>\n",
              "    </g>\n",
              "</svg>\n",
              "  </button>\n",
              "\n",
              "<style>\n",
              "  .colab-df-quickchart {\n",
              "      --bg-color: #E8F0FE;\n",
              "      --fill-color: #1967D2;\n",
              "      --hover-bg-color: #E2EBFA;\n",
              "      --hover-fill-color: #174EA6;\n",
              "      --disabled-fill-color: #AAA;\n",
              "      --disabled-bg-color: #DDD;\n",
              "  }\n",
              "\n",
              "  [theme=dark] .colab-df-quickchart {\n",
              "      --bg-color: #3B4455;\n",
              "      --fill-color: #D2E3FC;\n",
              "      --hover-bg-color: #434B5C;\n",
              "      --hover-fill-color: #FFFFFF;\n",
              "      --disabled-bg-color: #3B4455;\n",
              "      --disabled-fill-color: #666;\n",
              "  }\n",
              "\n",
              "  .colab-df-quickchart {\n",
              "    background-color: var(--bg-color);\n",
              "    border: none;\n",
              "    border-radius: 50%;\n",
              "    cursor: pointer;\n",
              "    display: none;\n",
              "    fill: var(--fill-color);\n",
              "    height: 32px;\n",
              "    padding: 0;\n",
              "    width: 32px;\n",
              "  }\n",
              "\n",
              "  .colab-df-quickchart:hover {\n",
              "    background-color: var(--hover-bg-color);\n",
              "    box-shadow: 0 1px 2px rgba(60, 64, 67, 0.3), 0 1px 3px 1px rgba(60, 64, 67, 0.15);\n",
              "    fill: var(--button-hover-fill-color);\n",
              "  }\n",
              "\n",
              "  .colab-df-quickchart-complete:disabled,\n",
              "  .colab-df-quickchart-complete:disabled:hover {\n",
              "    background-color: var(--disabled-bg-color);\n",
              "    fill: var(--disabled-fill-color);\n",
              "    box-shadow: none;\n",
              "  }\n",
              "\n",
              "  .colab-df-spinner {\n",
              "    border: 2px solid var(--fill-color);\n",
              "    border-color: transparent;\n",
              "    border-bottom-color: var(--fill-color);\n",
              "    animation:\n",
              "      spin 1s steps(1) infinite;\n",
              "  }\n",
              "\n",
              "  @keyframes spin {\n",
              "    0% {\n",
              "      border-color: transparent;\n",
              "      border-bottom-color: var(--fill-color);\n",
              "      border-left-color: var(--fill-color);\n",
              "    }\n",
              "    20% {\n",
              "      border-color: transparent;\n",
              "      border-left-color: var(--fill-color);\n",
              "      border-top-color: var(--fill-color);\n",
              "    }\n",
              "    30% {\n",
              "      border-color: transparent;\n",
              "      border-left-color: var(--fill-color);\n",
              "      border-top-color: var(--fill-color);\n",
              "      border-right-color: var(--fill-color);\n",
              "    }\n",
              "    40% {\n",
              "      border-color: transparent;\n",
              "      border-right-color: var(--fill-color);\n",
              "      border-top-color: var(--fill-color);\n",
              "    }\n",
              "    60% {\n",
              "      border-color: transparent;\n",
              "      border-right-color: var(--fill-color);\n",
              "    }\n",
              "    80% {\n",
              "      border-color: transparent;\n",
              "      border-right-color: var(--fill-color);\n",
              "      border-bottom-color: var(--fill-color);\n",
              "    }\n",
              "    90% {\n",
              "      border-color: transparent;\n",
              "      border-bottom-color: var(--fill-color);\n",
              "    }\n",
              "  }\n",
              "</style>\n",
              "\n",
              "  <script>\n",
              "    async function quickchart(key) {\n",
              "      const quickchartButtonEl =\n",
              "        document.querySelector('#' + key + ' button');\n",
              "      quickchartButtonEl.disabled = true;  // To prevent multiple clicks.\n",
              "      quickchartButtonEl.classList.add('colab-df-spinner');\n",
              "      try {\n",
              "        const charts = await google.colab.kernel.invokeFunction(\n",
              "            'suggestCharts', [key], {});\n",
              "      } catch (error) {\n",
              "        console.error('Error during call to suggestCharts:', error);\n",
              "      }\n",
              "      quickchartButtonEl.classList.remove('colab-df-spinner');\n",
              "      quickchartButtonEl.classList.add('colab-df-quickchart-complete');\n",
              "    }\n",
              "    (() => {\n",
              "      let quickchartButtonEl =\n",
              "        document.querySelector('#df-a07862c3-5dd1-4595-a81a-c6ae16065ab4 button');\n",
              "      quickchartButtonEl.style.display =\n",
              "        google.colab.kernel.accessAllowed ? 'block' : 'none';\n",
              "    })();\n",
              "  </script>\n",
              "</div>\n",
              "\n",
              "    </div>\n",
              "  </div>\n"
            ],
            "application/vnd.google.colaboratory.intrinsic+json": {
              "type": "dataframe",
              "variable_name": "df",
              "summary": "{\n  \"name\": \"df\",\n  \"rows\": 150,\n  \"fields\": [\n    {\n      \"column\": \"sepal.length\",\n      \"properties\": {\n        \"dtype\": \"number\",\n        \"std\": 0.828066127977863,\n        \"min\": 4.3,\n        \"max\": 7.9,\n        \"num_unique_values\": 35,\n        \"samples\": [\n          6.2,\n          4.5,\n          5.6\n        ],\n        \"semantic_type\": \"\",\n        \"description\": \"\"\n      }\n    },\n    {\n      \"column\": \"sepal.width\",\n      \"properties\": {\n        \"dtype\": \"number\",\n        \"std\": 0.4358662849366982,\n        \"min\": 2.0,\n        \"max\": 4.4,\n        \"num_unique_values\": 23,\n        \"samples\": [\n          2.3,\n          4.0,\n          3.5\n        ],\n        \"semantic_type\": \"\",\n        \"description\": \"\"\n      }\n    },\n    {\n      \"column\": \"petal.length\",\n      \"properties\": {\n        \"dtype\": \"number\",\n        \"std\": 1.7652982332594662,\n        \"min\": 1.0,\n        \"max\": 6.9,\n        \"num_unique_values\": 43,\n        \"samples\": [\n          6.7,\n          3.8,\n          3.7\n        ],\n        \"semantic_type\": \"\",\n        \"description\": \"\"\n      }\n    },\n    {\n      \"column\": \"petal.width\",\n      \"properties\": {\n        \"dtype\": \"number\",\n        \"std\": 0.7622376689603465,\n        \"min\": 0.1,\n        \"max\": 2.5,\n        \"num_unique_values\": 22,\n        \"samples\": [\n          0.2,\n          1.2,\n          1.3\n        ],\n        \"semantic_type\": \"\",\n        \"description\": \"\"\n      }\n    },\n    {\n      \"column\": \"variety\",\n      \"properties\": {\n        \"dtype\": \"number\",\n        \"std\": 0.8192319205190405,\n        \"min\": 0.0,\n        \"max\": 2.0,\n        \"num_unique_values\": 3,\n        \"samples\": [\n          0.0,\n          1.0,\n          2.0\n        ],\n        \"semantic_type\": \"\",\n        \"description\": \"\"\n      }\n    }\n  ]\n}"
            }
          },
          "metadata": {},
          "execution_count": 81
        }
      ]
    },
    {
      "cell_type": "code",
      "source": [
        "# separating the features and target variables\n",
        "\n",
        "X = df.drop('variety', axis=1)\n",
        "y = df['variety']\n",
        "\n",
        "X = X.values\n",
        "y = y.values"
      ],
      "metadata": {
        "id": "SexJEGRoJNNP"
      },
      "execution_count": null,
      "outputs": []
    },
    {
      "cell_type": "code",
      "source": [
        "# splitting data into testing and training data\n",
        "X_train, X_test, y_train, y_test = train_test_split(X, y, test_size=0.2, random_state=41)"
      ],
      "metadata": {
        "id": "DXpjryWvJdLD"
      },
      "execution_count": null,
      "outputs": []
    },
    {
      "cell_type": "code",
      "source": [
        "# converting X features to tensor\n",
        "\n",
        "X_train = torch.FloatTensor(X_train)\n",
        "X_test = torch.FloatTensor(X_test)"
      ],
      "metadata": {
        "id": "D_jsJlgjJ0uM"
      },
      "execution_count": null,
      "outputs": []
    },
    {
      "cell_type": "code",
      "source": [
        "# converting y labels to tensor\n",
        "\n",
        "y_train = torch.LongTensor(y_train)\n",
        "y_test = torch.LongTensor(y_test)"
      ],
      "metadata": {
        "id": "J_TmgWuRKbX2"
      },
      "execution_count": null,
      "outputs": []
    },
    {
      "cell_type": "code",
      "source": [
        "# set the criterion of model to measure the error, how far off the predictions\n",
        "# are from the data\n",
        "\n",
        "criterion = nn.CrossEntropyLoss()"
      ],
      "metadata": {
        "id": "uc9u6RfPKolM"
      },
      "execution_count": null,
      "outputs": []
    },
    {
      "cell_type": "code",
      "source": [
        "# choose optimizer and learning rate (lr)\n",
        "# lower the learning rate is, the longer it will take to train\n",
        "optimizer = torch.optim.Adam(model.parameters(), lr = 0.01)"
      ],
      "metadata": {
        "id": "fRekzyS7LEzD"
      },
      "execution_count": null,
      "outputs": []
    },
    {
      "cell_type": "code",
      "source": [
        "# train out model\n",
        "# set epoch (one run thru all the training data in our network)\n",
        "\n",
        "epochs = 100\n",
        "losses = [] # to keep track of error of model\n",
        "\n",
        "for i in range(epochs):\n",
        "  # go forward and get predictions\n",
        "  y_pred = model.forward(X_train) #get predicted results\n",
        "\n",
        "  # measure the loss/error which will be high at first\n",
        "  loss = criterion(y_pred, y_train) #predicted values vs the y_train\n",
        "\n",
        "  # keeping track of losses\n",
        "  losses.append(loss.detach().numpy())\n",
        "\n",
        "  # print every ten epochs\n",
        "  if i%10 == 0:\n",
        "    print(f\"Epoch: {i} and loss is {loss}\")\n",
        "\n",
        "  # doing backpropagation\n",
        "  optimizer.zero_grad()\n",
        "  loss.backward()\n",
        "  optimizer.step()"
      ],
      "metadata": {
        "colab": {
          "base_uri": "https://localhost:8080/"
        },
        "id": "vOq7nskzMECz",
        "outputId": "77f4cdda-8ec8-467f-a918-3c76df20ac2f"
      },
      "execution_count": null,
      "outputs": [
        {
          "output_type": "stream",
          "name": "stdout",
          "text": [
            "Epoch: 0 and loss is 1.125203251838684\n",
            "Epoch: 10 and loss is 1.0097211599349976\n",
            "Epoch: 20 and loss is 0.8162347674369812\n",
            "Epoch: 30 and loss is 0.585993230342865\n",
            "Epoch: 40 and loss is 0.4003389775753021\n",
            "Epoch: 50 and loss is 0.26794716715812683\n",
            "Epoch: 60 and loss is 0.1796349585056305\n",
            "Epoch: 70 and loss is 0.12165623158216476\n",
            "Epoch: 80 and loss is 0.0860651507973671\n",
            "Epoch: 90 and loss is 0.06522614508867264\n"
          ]
        }
      ]
    },
    {
      "cell_type": "code",
      "source": [
        "plt.plot(range(epochs), losses)\n",
        "plt.ylabel('Error')\n",
        "plt.xlabel('Epoch')"
      ],
      "metadata": {
        "colab": {
          "base_uri": "https://localhost:8080/",
          "height": 467
        },
        "id": "P1x3JctwNWxp",
        "outputId": "9c2cff1c-66b8-4d20-f528-cd6a37aa88c8"
      },
      "execution_count": null,
      "outputs": [
        {
          "output_type": "execute_result",
          "data": {
            "text/plain": [
              "Text(0.5, 0, 'Epoch')"
            ]
          },
          "metadata": {},
          "execution_count": 89
        },
        {
          "output_type": "display_data",
          "data": {
            "text/plain": [
              "<Figure size 640x480 with 1 Axes>"
            ],
            "image/png": "[encoded data removed]"
          },
          "metadata": {}
        }
      ]
    },
    {
      "cell_type": "code",
      "source": [
        "# evaluate model on test data set\n",
        "with torch.no_grad(): # turns off back propagation\n",
        "  y_eval = model.forward(X_test)\n",
        "  loss = criterion(y_eval, y_test)\n",
        "\n",
        "loss"
      ],
      "metadata": {
        "colab": {
          "base_uri": "https://localhost:8080/"
        },
        "id": "e8Z37X3lT_WC",
        "outputId": "63defe8b-c512-4755-ba80-a7596bdef9ac"
      },
      "execution_count": null,
      "outputs": [
        {
          "output_type": "execute_result",
          "data": {
            "text/plain": [
              "tensor(0.1315)"
            ]
          },
          "metadata": {},
          "execution_count": 90
        }
      ]
    },
    {
      "cell_type": "code",
      "source": [
        "correct = 0\n",
        "with torch.no_grad():\n",
        "  for i, data in enumerate(X_test):\n",
        "    y_val = model.forward(data)\n",
        "\n",
        "    # will tell us what type of flower class network thinks it is\n",
        "    print(f\"{i+1}.) {str(y_val)} \\t {y_test[i]} \\t{y_val.argmax().item()}\")\n",
        "    if y_val.argmax().item() == y_test[i]:\n",
        "      correct += 1\n",
        "\n",
        "print(f\"\\nWe got {correct} correct\")"
      ],
      "metadata": {
        "colab": {
          "base_uri": "https://localhost:8080/"
        },
        "id": "4Euzh9MNaW_W",
        "outputId": "68bebcf3-c38d-443f-8a95-c7776fed78dc"
      },
      "execution_count": null,
      "outputs": [
        {
          "output_type": "stream",
          "name": "stdout",
          "text": [
            "1.) tensor([-5.8771,  4.4629,  6.5155]) \t 2 \t2\n",
            "2.) tensor([-7.5451,  4.1668,  9.7293]) \t 2 \t2\n",
            "3.) tensor([-8.4517,  5.1275, 10.2015]) \t 2 \t2\n",
            "4.) tensor([-4.3411,  5.6280,  2.5636]) \t 1 \t1\n",
            "5.) tensor([-7.1838,  4.8757,  8.3023]) \t 2 \t2\n",
            "6.) tensor([-3.3940,  5.3421,  1.2802]) \t 1 \t1\n",
            "7.) tensor([-5.9240,  4.9826,  6.0025]) \t 2 \t2\n",
            "8.) tensor([-4.2895,  5.7016,  2.3920]) \t 1 \t1\n",
            "9.) tensor([-6.5369,  4.9261,  7.1291]) \t 2 \t2\n",
            "10.) tensor([-8.0526,  4.4129, 10.3325]) \t 2 \t2\n",
            "11.) tensor([-5.6775,  4.9505,  5.6248]) \t 2 \t2\n",
            "12.) tensor([ 4.5748, -2.2579, -2.8925]) \t 0 \t0\n",
            "13.) tensor([ 4.2646, -2.0055, -2.7342]) \t 0 \t0\n",
            "14.) tensor([-2.1081,  4.0482,  0.5803]) \t 1 \t1\n",
            "15.) tensor([ 3.4608, -1.2147, -2.3488]) \t 0 \t0\n",
            "16.) tensor([-5.4739,  5.1174,  5.0966]) \t 2 \t1\n",
            "17.) tensor([ 4.0637, -1.8045, -2.6504]) \t 0 \t0\n",
            "18.) tensor([-5.8090,  4.6057,  6.2494]) \t 1 \t2\n",
            "19.) tensor([ 4.9250, -2.5763, -3.0545]) \t 0 \t0\n",
            "20.) tensor([ 3.4559, -1.2559, -2.3637]) \t 0 \t0\n",
            "21.) tensor([-2.6161,  4.5584,  0.8575]) \t 1 \t1\n",
            "22.) tensor([-7.7427,  4.7379,  9.4233]) \t 2 \t2\n",
            "23.) tensor([ 3.5776, -1.3269, -2.4109]) \t 0 \t0\n",
            "24.) tensor([ 4.5445, -2.2478, -2.8698]) \t 0 \t0\n",
            "25.) tensor([-2.6548,  4.6138,  0.8825]) \t 1 \t1\n",
            "26.) tensor([-3.2832,  5.2189,  1.2163]) \t 1 \t1\n",
            "27.) tensor([-4.6527,  5.7790,  2.9302]) \t 1 \t1\n",
            "28.) tensor([-2.9436,  4.8858,  1.0381]) \t 1 \t1\n",
            "29.) tensor([ 4.5932, -2.2788, -2.8989]) \t 0 \t0\n",
            "30.) tensor([-4.5797,  5.4566,  3.1690]) \t 1 \t1\n",
            "\n",
            "We got 28 correct\n"
          ]
        }
      ]
    },
    {
      "cell_type": "code",
      "source": [
        "# checking the model response for new data\n",
        "new_iris_data = torch.tensor([5.0,\t3.6,\t1.4,\t0.2])\n",
        "with torch.no_grad():\n",
        "  print(model(new_iris_data))"
      ],
      "metadata": {
        "colab": {
          "base_uri": "https://localhost:8080/"
        },
        "id": "dWvvNkbUasel",
        "outputId": "36794270-1224-488a-d449-a53443c1eced"
      },
      "execution_count": null,
      "outputs": [
        {
          "output_type": "stream",
          "name": "stdout",
          "text": [
            "tensor([ 4.8496, -2.5121, -3.0175])\n"
          ]
        }
      ]
    },
    {
      "cell_type": "code",
      "source": [
        "torch.save(model.state_dict(), \"iris_model.pt\") # save the weight and biases\n",
        "# for our model that we have trained for the current google lab\n",
        "# notebook"
      ],
      "metadata": {
        "id": "gz4zOf6kgBVK"
      },
      "execution_count": null,
      "outputs": []
    },
    {
      "cell_type": "code",
      "source": [
        "# load save model\n",
        "\n",
        "new_model = Model()\n",
        "new_model.load_state_dict(torch.load(\"iris_model.pt\"))"
      ],
      "metadata": {
        "colab": {
          "base_uri": "https://localhost:8080/"
        },
        "id": "aUC2RqYeflDi",
        "outputId": "3e4e10ab-2814-4a6c-f961-4cc4c5679a6e"
      },
      "execution_count": null,
      "outputs": [
        {
          "output_type": "execute_result",
          "data": {
            "text/plain": [
              "<All keys matched successfully>"
            ]
          },
          "metadata": {},
          "execution_count": 103
        }
      ]
    },
    {
      "cell_type": "code",
      "source": [
        "new_model.eval()"
      ],
      "metadata": {
        "colab": {
          "base_uri": "https://localhost:8080/"
        },
        "id": "nW5gWQ_MiJXA",
        "outputId": "8d82729a-ed18-4589-a8b1-825c55591d55"
      },
      "execution_count": null,
      "outputs": [
        {
          "output_type": "execute_result",
          "data": {
            "text/plain": [
              "Model(\n",
              "  (fc1): Linear(in_features=4, out_features=8, bias=True)\n",
              "  (fc2): Linear(in_features=8, out_features=9, bias=True)\n",
              "  (out): Linear(in_features=9, out_features=3, bias=True)\n",
              ")"
            ]
          },
          "metadata": {},
          "execution_count": 104
        }
      ]
    },
    {
      "cell_type": "markdown",
      "source": [
        "# Types of Neural Network"
      ],
      "metadata": {
        "id": "aTxBYBJM6hrR"
      }
    },
    {
      "cell_type": "markdown",
      "source": [
        "## Feedforward Neural Networks(FNN)\n",
        "\n",
        "It is the simples type of neural network where data flows in one-direction, from input to output, without any cycles or loops. It is composed of an input layer, one or more hidden layers, and an output layer"
      ],
      "metadata": {
        "id": "D_9H5AWT7Fz-"
      }
    },
    {
      "cell_type": "markdown",
      "source": [
        "It is good for simple classification and regression problems"
      ],
      "metadata": {
        "id": "eSNwenfG7bUz"
      }
    },
    {
      "cell_type": "markdown",
      "source": [
        "It is used for applications like predicting housing price based on various features or classification problems like classifying handwritten digits"
      ],
      "metadata": {
        "id": "O4fxtuwB7iKO"
      }
    },
    {
      "cell_type": "markdown",
      "source": [
        "## Convolutional Neural Networks"
      ],
      "metadata": {
        "id": "yWr5J47z7shv"
      }
    },
    {
      "cell_type": "markdown",
      "source": [
        "It is specialised neural network for processing grid-like data such as images."
      ],
      "metadata": {
        "id": "o7LAKX_z7vJ1"
      }
    },
    {
      "cell_type": "markdown",
      "source": [
        "It uses convolution layers to automatically and adaptively learn spatial hierarchies of features from input images. It includes layers like convolutional, pooling, and fully connected layers"
      ],
      "metadata": {
        "id": "Po3iHi_Y79ZD"
      }
    },
    {
      "cell_type": "markdown",
      "source": [
        "It can be used for\n",
        "\n",
        "*   Autonomous driving\n",
        "*   Medical imaging\n",
        "*   Image segmentation (dividing image into multiple regions)\n",
        "\n"
      ],
      "metadata": {
        "id": "3_w1SBV_8IRU"
      }
    },
    {
      "cell_type": "markdown",
      "source": [
        "## Recurrent Neural Network"
      ],
      "metadata": {
        "id": "tkXAmygL8cWq"
      }
    },
    {
      "cell_type": "markdown",
      "source": [
        "It is designed to handle sequential data by maintaining a hidden state that captures information from previous steps. The output from previous step is fed as input to the current time step"
      ],
      "metadata": {
        "id": "ZugNr40y8ft7"
      }
    },
    {
      "cell_type": "markdown",
      "source": [
        "Its application includes\n",
        "\n",
        "*   Time series prediction\n",
        "*   Natural language processing tasks\n",
        "*   Speech recognition and translation\n",
        "\n"
      ],
      "metadata": {
        "id": "rVLmeDV48uCU"
      }
    },
    {
      "cell_type": "markdown",
      "source": [
        "It is used for\n",
        "\n",
        "*   Stock market forecasting\n",
        "*   Predicting next word in a sentence\n",
        "*   Analyzing sentiment in text\n",
        "\n"
      ],
      "metadata": {
        "id": "MdJdxES1898G"
      }
    },
    {
      "cell_type": "markdown",
      "source": [
        "## Long Short-Term Memory Networks (LSTM)"
      ],
      "metadata": {
        "id": "ia0955Eq9MeV"
      }
    },
    {
      "cell_type": "markdown",
      "source": [
        "It is a type of RNN that addresses the problem of vanishing gradients. This enable the network to learn long-term dependencies."
      ],
      "metadata": {
        "id": "XlNQQ7OV9Sh-"
      }
    },
    {
      "cell_type": "markdown",
      "source": [
        "It has more complex architecture with gating mechanisms to control the flow of information"
      ],
      "metadata": {
        "id": "N45WaGIE9mrI"
      }
    },
    {
      "cell_type": "markdown",
      "source": [
        "Applications:\n",
        "Tasks requiring long-range temporal dependencies\n",
        "Time series forecasting (e.g., predicting electricity consumption)\n",
        "Sequence-to-sequence tasks (e.g., machine translation)\n",
        "Used For:\n",
        "Predicting weather patterns based on historical data\n",
        "Translating sentences from one language to another"
      ],
      "metadata": {
        "id": "XyKmrQra9p9V"
      }
    },
    {
      "cell_type": "markdown",
      "source": [
        "## Autoencoders"
      ],
      "metadata": {
        "id": "Zqn5dDh59rf3"
      }
    },
    {
      "cell_type": "markdown",
      "source": [
        "A type of unsupervised neural network that learns efficient representations of the input data (encoding) and then attempts to reconstruct the input from these representations (decoding).\n",
        "Consists of an encoder and a decoder, usually symmetric.\n",
        "Applications:\n",
        "Dimensionality reduction\n",
        "Anomaly detection (e.g., detecting fraudulent transactions)\n",
        "Data denoising (e.g., removing noise from images)\n",
        "Used For:\n",
        "Compressing data (e.g., image compression)\n",
        "Detecting outliers in data"
      ],
      "metadata": {
        "id": "-NqfSIxO9tAb"
      }
    },
    {
      "cell_type": "markdown",
      "source": [
        "## Variational Autoencoders"
      ],
      "metadata": {
        "id": "HE7LPi5N9xP8"
      }
    },
    {
      "cell_type": "markdown",
      "source": [
        "A type of autoencoder that generates new data points similar to the training data by learning the distribution of the input data.\n",
        "Introduces probabilistic layers to model data as a distribution rather than deterministic points.\n",
        "Applications:\n",
        "Generating new data samples (e.g., creating new images, music, or text)\n",
        "Semi-supervised learning\n",
        "Used For:\n",
        "Generating realistic images of faces\n",
        "Creating new product designs"
      ],
      "metadata": {
        "id": "3YM7NqnQ90J6"
      }
    },
    {
      "cell_type": "markdown",
      "source": [
        "## Generative Adversarial Networks"
      ],
      "metadata": {
        "id": "NM7pPBIw92vn"
      }
    },
    {
      "cell_type": "markdown",
      "source": [
        "Consists of two networks: a generator and a discriminator. The generator creates fake data, and the discriminator tries to distinguish between real and fake data.\n",
        "The two networks compete, with the generator improving its ability to create realistic data over time.\n",
        "Applications:\n",
        "Image generation (e.g., generating realistic images of non-existent objects)\n",
        "Style transfer (e.g., converting photos into paintings)\n",
        "Data augmentation (e.g., generating more training data)\n",
        "Used For:\n",
        "Creating realistic images, videos, and animations\n",
        "Enhancing the resolution of images (super-resolution)"
      ],
      "metadata": {
        "id": "sVihU_E996Se"
      }
    },
    {
      "cell_type": "markdown",
      "source": [
        "## Transformer Networks\n"
      ],
      "metadata": {
        "id": "uciPdKIM98JQ"
      }
    },
    {
      "cell_type": "markdown",
      "source": [
        "A type of model designed for handling sequential data, particularly in NLP. Transformers use self-attention mechanisms to process input data in parallel rather than sequentially, enabling faster training.\n",
        "The architecture includes encoder and decoder layers, where each layer consists of multi-head attention mechanisms and feedforward neural networks.\n",
        "Applications:\n",
        "Machine translation (e.g., translating text from one language to another)\n",
        "Text summarization\n",
        "Question answering systems\n",
        "Used For:\n",
        "Powering models like GPT (Generative Pretrained Transformer) for text generation\n",
        "BERT (Bidirectional Encoder Representations from Transformers) for understanding context in text\n"
      ],
      "metadata": {
        "id": "ZZoVleHF-Dqx"
      }
    },
    {
      "cell_type": "markdown",
      "source": [
        "## Radial Basis Function Networks"
      ],
      "metadata": {
        "id": "6U04yen3-FOO"
      }
    },
    {
      "cell_type": "markdown",
      "source": [
        "A type of neural network that uses radial basis functions as activation functions. Typically consists of an input layer, a hidden layer with a non-linear RBF activation function, and a linear output layer.\n",
        "Good at handling interpolation in multi-dimensional space.\n",
        "Applications:\n",
        "Function approximation\n",
        "Time series prediction\n",
        "Control systems\n",
        "Used For:\n",
        "Predicting chaotic time series data\n",
        "Implementing adaptive control systems\n"
      ],
      "metadata": {
        "id": "A7kcL0xC-JAV"
      }
    },
    {
      "cell_type": "code",
      "source": [],
      "metadata": {
        "id": "JTRWpsgD9mMf"
      },
      "execution_count": null,
      "outputs": []
    },
    {
      "cell_type": "markdown",
      "source": [
        "# Convolutional Neural Networks (CNNs)"
      ],
      "metadata": {
        "id": "AJ-s9RfZ-ONS"
      }
    },
    {
      "cell_type": "code",
      "source": [],
      "metadata": {
        "id": "lPc__sda-U67"
      },
      "execution_count": null,
      "outputs": []
    }
  ]
}