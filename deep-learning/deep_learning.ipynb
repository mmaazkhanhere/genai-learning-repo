{
  "nbformat": 4,
  "nbformat_minor": 0,
  "metadata": {
    "colab": {
      "provenance": [],
      "toc_visible": true
    },
    "kernelspec": {
      "name": "python3",
      "display_name": "Python 3"
    },
    "language_info": {
      "name": "python"
    }
  },
  "cells": [
    {
      "cell_type": "code",
      "execution_count": 1,
      "metadata": {
        "id": "zJTGdNdnhcEw"
      },
      "outputs": [],
      "source": [
        "import torch\n",
        "import pandas as pd\n",
        "import numpy as np\n",
        "import matplotlib.pyplot as plt"
      ]
    },
    {
      "cell_type": "markdown",
      "source": [
        "## Introduction\n",
        "`Deep learning` is a specialised form of deep learning that involves neural network with many deep layers. Neural networks are designed to mimic the human's brain ability to recognize patterns and intercept complex data such as iamge, sound, or text\n",
        "\n",
        "### Difference b/w machine learning and deep learning\n",
        "\n",
        "<ul>\n",
        "    Machine learning is used for tabular or structured data\n",
        "  <li>\n",
        "    Machine learning requires feature engineering (select best relevant features)\n",
        "  </li>\n",
        "  <li>\n",
        "    Simpler and easy to interpret\n",
        "  </li>\n",
        "  <li>\n",
        "    Are computationally efficient and doesn't require high processing power\n",
        "  </li>\n",
        "</ul>\n",
        "\n",
        "<ul>\n",
        "    Deep learning works better for unstructured data like images, text, sound or video\n",
        "  <li>\n",
        "    Doesn't requires feature engineering\n",
        "  </li>\n",
        "  <li>\n",
        "    Due to complexity and depth, they are difficult to understand and are referred as black box\n",
        "  </li>\n",
        "  <li>\n",
        "    Works better with large amount of training data\n",
        "  </li>\n",
        "  <li>\n",
        "    Requires substantional competitive power\n",
        "  </li>\n",
        "</ul>"
      ],
      "metadata": {
        "id": "4NxT-f2D7ZCc"
      }
    },
    {
      "cell_type": "markdown",
      "source": [
        "### Neural Network\n",
        "They are complex computational models that are inspired by human brain strucutre and function. It consist of following layers\n",
        "<ul>\n",
        "  <li>\n",
        "    Artifical neurons or nodes\n",
        "  </li>\n",
        "  <li>\n",
        "    Input layer\n",
        "  </li>\n",
        "  <li>\n",
        "    One or more hidden layers\n",
        "  </li>\n",
        "  <li>\n",
        "    Output layer\n",
        "  </li>\n",
        "</ul>"
      ],
      "metadata": {
        "id": "dYJC5nz2885W"
      }
    },
    {
      "cell_type": "markdown",
      "source": [
        "`Neurons` are fundamental units of neural network which\n",
        "<ul>\n",
        "  <li>\n",
        "    Recieves an input\n",
        "  </li>\n",
        "  <li>\n",
        "    Process the input\n",
        "  </li>\n",
        "  <li>\n",
        "    Produces an output\n",
        "  </li>\n",
        "</ul>\n",
        "\n",
        "Each neuron has its own linear regresion model that is used to predict output using weighted inputs"
      ],
      "metadata": {
        "id": "3soltL829amO"
      }
    },
    {
      "cell_type": "markdown",
      "source": [
        "Each neuron has an activation function that introduces non-linear into the network, enabling it to learn and model complex problems. An `activation function` decides whether a neuron should be activated or not. This means that `it will decide whether the neuron's input to the network is important or not in the process of prediction using simpler mathematical operations.`\n",
        "<ul>\n",
        "  <li>\n",
        "    Sigmoid (outputs between 0 and 1)\n",
        "  </li>\n",
        "  <li>\n",
        "    Tanh (output between -1 and 1)\n",
        "  </li>\n",
        "  <li>\n",
        "    ReLu (ouput input directly if posiive otherwise 0. Widely used in hidden layers)\n",
        "  </li>\n",
        "</ul>"
      ],
      "metadata": {
        "id": "tFARQTIQ_Vom"
      }
    },
    {
      "cell_type": "markdown",
      "source": [
        "Neurons are organized into layers. There are three main\n",
        "<ul>\n",
        "  <li>\n",
        "    Input Layer\n",
        "  </li>\n",
        "  <li>\n",
        "    Hidden layers\n",
        "  </li>\n",
        "  <li>\n",
        "    Output layer\n",
        "  </li>\n",
        "</ul>"
      ],
      "metadata": {
        "id": "eFvmGpSt9mph"
      }
    },
    {
      "cell_type": "markdown",
      "source": [
        "`Input layer` recieves an input in raw form. Each neuron in this layer represents a feature of input data\n",
        "<br/>\n",
        "`Hidden layer` are layers that transform the input into something the output layer can use\n",
        "<br/>\n",
        "`Output layer` is final layer that produces the output. The number of neurons in this layer depends on nature of task"
      ],
      "metadata": {
        "id": "1SITAX6t9_bn"
      }
    },
    {
      "cell_type": "markdown",
      "source": [
        "#### How neural network works?\n",
        "<ol>\n",
        "  <li>\n",
        "    Each node has its own linear regression model composed of\n",
        "      <ul>\n",
        "        <li>\n",
        "          Input Layer\n",
        "        </li>\n",
        "        <li>\n",
        "          Weight\n",
        "        </li>\n",
        "        <li>\n",
        "          Bias (Each neuron has bias that allows the activation function to be shifted left or right, which helps the model fit the data better)\n",
        "        </li>\n",
        "      </ul>\n",
        "  </li>\n",
        "  <li>\n",
        "    Once input layer is determined, weights are assigned. It helps deremine the importance of any given variable, with larger ones contributong more significantly to the output\n",
        "  </li>\n",
        "  <li>\n",
        "    All input multiplied by their respective weights are then summed\n",
        "  </li>\n",
        "  <li>\n",
        "    The sum output is passed through an activation function which determines the output\n",
        "  </li>\n",
        "  <li>\n",
        "    Output of one node becomes input of next node. This process of passing data from one layer to next layer defines the neural network as feed forward neural network\n",
        "  </li>\n",
        "</ol>"
      ],
      "metadata": {
        "id": "BmMKZpuK_sPl"
      }
    },
    {
      "cell_type": "markdown",
      "source": [
        "## PyTorch\n"
      ],
      "metadata": {
        "id": "m7_sUQtB0w0d"
      }
    },
    {
      "cell_type": "markdown",
      "source": [
        "### Tensor\n",
        "`Tensors` are fundamental concept in deep learningserving as a primary data structure for storing and manipulating data. It is a multi-dimensional array that generalizes scalars, vectors, and matrices to higher dimensions"
      ],
      "metadata": {
        "id": "Xxj-LAda0-eE"
      }
    },
    {
      "cell_type": "markdown",
      "source": [
        "It is a way to represenst complex data structures and are essential for performing mathematical operaiton in deep learning. In Pytorchm, almost everything is referred as tensor"
      ],
      "metadata": {
        "id": "SLDObT4x1VI8"
      }
    },
    {
      "cell_type": "markdown",
      "source": [
        "Types of tensors include\n",
        "\n",
        "\n",
        "*   Scalar\n",
        "*   Vector\n",
        "*   Matrix\n",
        "*   3D Tensor\n",
        "*   ND Tensor\n",
        "\n"
      ],
      "metadata": {
        "id": "5-W0m82t1l5U"
      }
    },
    {
      "cell_type": "markdown",
      "source": [
        "**`Scalar tensor`** are single numbers and also known as 0 dimensional tensor"
      ],
      "metadata": {
        "id": "VA3H52LK18L7"
      }
    },
    {
      "cell_type": "code",
      "source": [
        "scalar = torch.tensor(7) #scalar tensor\n",
        "print(f\"Scalar: {scalar}\")\n",
        "print(f\"Dimension of scalar: {scalar.ndim}\")\n",
        "print(f\"Type: {type(scalar)}\")"
      ],
      "metadata": {
        "colab": {
          "base_uri": "https://localhost:8080/"
        },
        "id": "nCPk7PTAt9Ys",
        "outputId": "cd494b58-cb62-4c49-a789-b68adfee0594"
      },
      "execution_count": null,
      "outputs": [
        {
          "output_type": "stream",
          "name": "stdout",
          "text": [
            "Scalar: 7\n",
            "Dimension of scalar: 0\n",
            "Type: <class 'torch.Tensor'>\n"
          ]
        }
      ]
    },
    {
      "cell_type": "markdown",
      "source": [
        "We can retrieve the data inside a tensor as a python integer"
      ],
      "metadata": {
        "id": "d5GBc1fN2T_s"
      }
    },
    {
      "cell_type": "code",
      "source": [
        "print(f\"Item inside the scalar: {scalar.item()}\") # Here we get the value stored as a python integer\n",
        "print(f\"Type of item stored in the scalar: {type(scalar.item())}\")"
      ],
      "metadata": {
        "colab": {
          "base_uri": "https://localhost:8080/"
        },
        "id": "gKLcDVlWuvi2",
        "outputId": "39e10cc7-d8be-4191-e50a-468d44699886"
      },
      "execution_count": null,
      "outputs": [
        {
          "output_type": "stream",
          "name": "stdout",
          "text": [
            "Item inside the scalar: 7\n",
            "Type of item stored in the scalar: <class 'int'>\n"
          ]
        }
      ]
    },
    {
      "cell_type": "markdown",
      "source": [
        "**`Vector`** are one dimensional array of numbers"
      ],
      "metadata": {
        "id": "ZImdCIz32p7U"
      }
    },
    {
      "cell_type": "code",
      "source": [
        "vector = torch.tensor([7, 7]) #vector has magnitude and a direction\n",
        "print(f\"Vector: {vector}\")  # you can calculate the number of dimension by counting the square\n",
        "                            # brackets []\n",
        "print(f\"Dimension of vector: {vector.ndim}\")\n",
        "print(f\"Shape of vector: {vector.shape}\")"
      ],
      "metadata": {
        "colab": {
          "base_uri": "https://localhost:8080/"
        },
        "id": "cP_Hbwf8u_NJ",
        "outputId": "6bd5ff0a-9270-4eae-ae28-84bfdf6dd102"
      },
      "execution_count": null,
      "outputs": [
        {
          "output_type": "stream",
          "name": "stdout",
          "text": [
            "Vector: tensor([7, 7])\n",
            "Dimension of vector: 1\n",
            "Shape of vector: torch.Size([2])\n"
          ]
        }
      ]
    },
    {
      "cell_type": "markdown",
      "source": [
        "**`Matrix`** are two-dimensional array of numbers"
      ],
      "metadata": {
        "id": "1QcgNFss3JGC"
      }
    },
    {
      "cell_type": "code",
      "source": [
        "MATRIX = torch.tensor([[7, 8],\n",
        "                       [9, 10]]) #matrix is usally indicated with capital name\n",
        "\n",
        "print(f\"Matrix: {MATRIX}\")\n",
        "print(f\"Dimension of matrix: {MATRIX.ndim}\")\n",
        "print(f\"Shape of matrix: {MATRIX.shape}\")\n",
        "print(f\"Type of matrix: {type(MATRIX)}\")\n",
        "print(f\"First item in the matrix: {MATRIX[0]}\")"
      ],
      "metadata": {
        "colab": {
          "base_uri": "https://localhost:8080/"
        },
        "id": "DQF2dXNpvhcZ",
        "outputId": "dda277fd-0f66-4650-d54a-219da8799f76"
      },
      "execution_count": null,
      "outputs": [
        {
          "output_type": "stream",
          "name": "stdout",
          "text": [
            "Matrix: tensor([[ 7,  8],\n",
            "        [ 9, 10]])\n",
            "Dimension of matrix: 2\n",
            "Shape of matrix: torch.Size([2, 2])\n",
            "Type of matrix: <class 'torch.Tensor'>\n",
            "First item in the matrix: tensor([7, 8])\n"
          ]
        }
      ]
    },
    {
      "cell_type": "markdown",
      "source": [
        "**3D Tensor** is a three-dimensional array of numbers, often used to\n",
        "represent a sequence of matrices"
      ],
      "metadata": {
        "id": "wDhal1ofJVcG"
      }
    },
    {
      "cell_type": "code",
      "source": [
        " TENSOR = torch.tensor([[[1, 2],\n",
        "                         [3, 4],\n",
        "                         [4, 5]]]) # tensor are also named capital\n",
        "print(f\"Tensor: {TENSOR}\")\n",
        "print(f\"Shape of tensor: {TENSOR.shape}\")\n",
        "print(f\"Dimension of tensor: {TENSOR.ndim}\")\n",
        "print(f\"Type of tensor: {type(TENSOR)}\")\n",
        "print(f\"Second item in the tensor: {TENSOR[0]}\")"
      ],
      "metadata": {
        "colab": {
          "base_uri": "https://localhost:8080/"
        },
        "id": "5N2iZnTiv6gW",
        "outputId": "24932f4c-78c8-4a79-e03b-ee540278fa92"
      },
      "execution_count": null,
      "outputs": [
        {
          "output_type": "stream",
          "name": "stdout",
          "text": [
            "Tensor: tensor([[[1, 2],\n",
            "         [3, 4],\n",
            "         [4, 5]]])\n",
            "Shape of tensor: torch.Size([1, 3, 2])\n",
            "Dimension of tensor: 3\n",
            "Type of tensor: <class 'torch.Tensor'>\n",
            "Second item in the tensor: tensor([[1, 2],\n",
            "        [3, 4],\n",
            "        [4, 5]])\n"
          ]
        }
      ]
    },
    {
      "cell_type": "markdown",
      "source": [
        "**Random tensors** are tensors filled with random values. Random numbers are crucial in deep learning for various reasons\n",
        "\n",
        "*   Weights in neural network are typically initialized with random values\n",
        "*   Random tensors can be used to introduce randomness and variability in the input data during training\n",
        "*   The way neural network learn is they start with tensors full of random numbers and then adjust those random number to better represent the data\n",
        "\n"
      ],
      "metadata": {
        "id": "dyrgF0dzJ-N9"
      }
    },
    {
      "cell_type": "markdown",
      "source": [
        "***`Start with random numbers -> look at data -> update random numbers -> look at data -> update random numbers`***"
      ],
      "metadata": {
        "id": "ZmJil6GX4pry"
      }
    },
    {
      "cell_type": "code",
      "source": [
        "# create a random tensor of size (3, 4)\n",
        "random_tensor = torch.rand(3, 4)\n",
        "print(f\"Tensor with random values and of shape (3, 4): \\n\\n{random_tensor}\")"
      ],
      "metadata": {
        "colab": {
          "base_uri": "https://localhost:8080/"
        },
        "id": "qRtzz5GI4o3z",
        "outputId": "6cd29e14-e4aa-432d-bf58-dacafc91fc4b"
      },
      "execution_count": null,
      "outputs": [
        {
          "output_type": "stream",
          "name": "stdout",
          "text": [
            "Tensor with random values and of shape (3, 4): \n",
            "\n",
            "tensor([[0.3550, 0.3605, 0.5246, 0.6180],\n",
            "        [0.3620, 0.1204, 0.5568, 0.5691],\n",
            "        [0.0963, 0.8359, 0.0884, 0.5536]])\n"
          ]
        }
      ]
    },
    {
      "cell_type": "code",
      "source": [
        "# create a random tensor with similar shape to an image tensor\n",
        "random_image_size_tensor = torch.rand(size=(224, 224, 3)) #height, width, of color\n",
        "                                                          # channels (R, G, B)\n",
        "random_image_size_tensor"
      ],
      "metadata": {
        "colab": {
          "base_uri": "https://localhost:8080/"
        },
        "id": "rKDgdNGp49Dy",
        "outputId": "e7b7ee2d-db66-4728-e73c-80441b3c1604"
      },
      "execution_count": null,
      "outputs": [
        {
          "output_type": "execute_result",
          "data": {
            "text/plain": [
              "tensor([[[0.6083, 0.9721, 0.5859],\n",
              "         [0.7717, 0.1164, 0.6863],\n",
              "         [0.5714, 0.3780, 0.0363],\n",
              "         ...,\n",
              "         [0.5180, 0.0673, 0.9145],\n",
              "         [0.5903, 0.5712, 0.1816],\n",
              "         [0.8822, 0.6989, 0.9805]],\n",
              "\n",
              "        [[0.0031, 0.3603, 0.8703],\n",
              "         [0.8748, 0.8882, 0.0348],\n",
              "         [0.4056, 0.4695, 0.4244],\n",
              "         ...,\n",
              "         [0.9328, 0.3702, 0.7721],\n",
              "         [0.6633, 0.4525, 0.9984],\n",
              "         [0.6792, 0.7905, 0.2288]],\n",
              "\n",
              "        [[0.5939, 0.2008, 0.2115],\n",
              "         [0.9025, 0.4215, 0.9674],\n",
              "         [0.5754, 0.2539, 0.8895],\n",
              "         ...,\n",
              "         [0.1448, 0.0172, 0.1905],\n",
              "         [0.1718, 0.3876, 0.2265],\n",
              "         [0.3940, 0.2337, 0.6809]],\n",
              "\n",
              "        ...,\n",
              "\n",
              "        [[0.8155, 0.0582, 0.3077],\n",
              "         [0.7600, 0.7464, 0.3036],\n",
              "         [0.6078, 0.1981, 0.7122],\n",
              "         ...,\n",
              "         [0.3362, 0.5635, 0.1697],\n",
              "         [0.9096, 0.9081, 0.1052],\n",
              "         [0.2538, 0.4128, 0.3481]],\n",
              "\n",
              "        [[0.8560, 0.9521, 0.6841],\n",
              "         [0.4796, 0.3813, 0.4430],\n",
              "         [0.7872, 0.8451, 0.4045],\n",
              "         ...,\n",
              "         [0.4600, 0.5031, 0.6226],\n",
              "         [0.4739, 0.8599, 0.8896],\n",
              "         [0.6493, 0.0308, 0.7757]],\n",
              "\n",
              "        [[0.2981, 0.1491, 0.0641],\n",
              "         [0.2939, 0.3819, 0.4164],\n",
              "         [0.0484, 0.8440, 0.4359],\n",
              "         ...,\n",
              "         [0.7090, 0.1026, 0.9998],\n",
              "         [0.5508, 0.9871, 0.9460],\n",
              "         [0.1919, 0.9370, 0.1497]]])"
            ]
          },
          "metadata": {},
          "execution_count": 40
        }
      ]
    },
    {
      "cell_type": "code",
      "source": [
        "# we can create a tensor of zeros values\n",
        "zeros = torch.zeros(size=(3, 4))\n",
        "zeros"
      ],
      "metadata": {
        "colab": {
          "base_uri": "https://localhost:8080/"
        },
        "id": "aatBhUQj57tS",
        "outputId": "8526ce26-c105-4ba0-f4e8-b6b2c3a91100"
      },
      "execution_count": null,
      "outputs": [
        {
          "output_type": "execute_result",
          "data": {
            "text/plain": [
              "tensor([[0., 0., 0., 0.],\n",
              "        [0., 0., 0., 0.],\n",
              "        [0., 0., 0., 0.]])"
            ]
          },
          "metadata": {},
          "execution_count": 42
        }
      ]
    },
    {
      "cell_type": "code",
      "source": [
        "# We can also create a tensor os specified shape containing only one\n",
        "ones = torch.ones(size=(4, 4))\n",
        "ones"
      ],
      "metadata": {
        "colab": {
          "base_uri": "https://localhost:8080/"
        },
        "id": "OvKTJzyXByS8",
        "outputId": "18430d85-5576-4d5f-d65f-fad8bfdb41ca"
      },
      "execution_count": null,
      "outputs": [
        {
          "output_type": "execute_result",
          "data": {
            "text/plain": [
              "tensor([[1., 1., 1., 1.],\n",
              "        [1., 1., 1., 1.],\n",
              "        [1., 1., 1., 1.],\n",
              "        [1., 1., 1., 1.]])"
            ]
          },
          "metadata": {},
          "execution_count": 77
        }
      ]
    },
    {
      "cell_type": "markdown",
      "source": [
        "Tensors can be created using a `arange()`"
      ],
      "metadata": {
        "id": "QB_2w7UyLVCO"
      }
    },
    {
      "cell_type": "code",
      "source": [
        "torch.arange(0 ,10)"
      ],
      "metadata": {
        "colab": {
          "base_uri": "https://localhost:8080/"
        },
        "id": "G-QrRhXBCb4s",
        "outputId": "567b3d77-edd5-44bb-c2e0-ca7448d53324"
      },
      "execution_count": null,
      "outputs": [
        {
          "output_type": "execute_result",
          "data": {
            "text/plain": [
              "tensor([0, 1, 2, 3, 4, 5, 6, 7, 8, 9])"
            ]
          },
          "metadata": {},
          "execution_count": 49
        }
      ]
    },
    {
      "cell_type": "code",
      "source": [
        "even_numbers = torch.arange(start=0, end=21, step=2)\n",
        "even_numbers"
      ],
      "metadata": {
        "colab": {
          "base_uri": "https://localhost:8080/"
        },
        "id": "BAlrPhVxCf6L",
        "outputId": "6160b90e-b300-492d-8a63-fb07dbe8935e"
      },
      "execution_count": null,
      "outputs": [
        {
          "output_type": "execute_result",
          "data": {
            "text/plain": [
              "tensor([ 0,  2,  4,  6,  8, 10, 12, 14, 16, 18, 20])"
            ]
          },
          "metadata": {},
          "execution_count": 52
        }
      ]
    },
    {
      "cell_type": "markdown",
      "source": [
        "In pytorch we use **tensor_like** function\n",
        "\n",
        "*   When you need to create new tensors that match the shape and data type of existing tensors, thus ensuring consistency\n",
        "*   Make the code more readable and concise\n",
        "*   Simplifies the process of creating tensors that share properties with an existing tensor\n",
        "\n"
      ],
      "metadata": {
        "id": "52dtsJC8NOZ5"
      }
    },
    {
      "cell_type": "code",
      "source": [
        "# creating tensors like\n",
        "ten_zeros = torch.zeros_like(input=even_numbers)\n",
        "ten_zeros"
      ],
      "metadata": {
        "colab": {
          "base_uri": "https://localhost:8080/"
        },
        "id": "YG7kW19qDTfZ",
        "outputId": "9e399533-8f5d-4859-bb0f-7b0ed266f3f9"
      },
      "execution_count": null,
      "outputs": [
        {
          "output_type": "execute_result",
          "data": {
            "text/plain": [
              "tensor([0, 0, 0, 0, 0, 0, 0, 0, 0, 0, 0])"
            ]
          },
          "metadata": {},
          "execution_count": 53
        }
      ]
    },
    {
      "cell_type": "markdown",
      "source": [
        "Tensors have some important attributes like\n",
        "\n",
        "*   **tensor.dtype** (returns the data type of the tensor's elements)\n",
        "*   **tensor.device** (indicates the device on which the tensor is stored like CPU, GPU)\n",
        "*   **tensor.numel()** (returns the total number of elements in the tensor)\n",
        "*   **tensor.layout** (returns the layout of tensor)\n",
        "*   **tensor.requires_grad** (indicates whehter gradient computation is required for the tensor?)\n",
        "\n",
        "\n",
        "\n"
      ],
      "metadata": {
        "id": "GDLUOP3YDk_B"
      }
    },
    {
      "cell_type": "code",
      "source": [
        "float_32_tensor = torch.tensor([3.0, 6.0, 9.0],\n",
        "                               dtype=torch.float32, # data type of the tensor\n",
        "                               device=\"cpu\", # what devices is your tensor on\n",
        "                               requires_grad=False) # want pytorch to track gradients\n",
        "float_32_tensor"
      ],
      "metadata": {
        "colab": {
          "base_uri": "https://localhost:8080/"
        },
        "id": "gDTIBPITCd-7",
        "outputId": "693939c9-3a0c-40dd-93e4-701a7fb67d18"
      },
      "execution_count": null,
      "outputs": [
        {
          "output_type": "execute_result",
          "data": {
            "text/plain": [
              "tensor([3., 6., 9.])"
            ]
          },
          "metadata": {},
          "execution_count": 57
        }
      ]
    },
    {
      "cell_type": "code",
      "source": [
        "#always creates a copy\n",
        "float_64_tensor = float_32_tensor.type(torch.float64) #float_32_tensor is not changed\n",
        "float_64_tensor"
      ],
      "metadata": {
        "colab": {
          "base_uri": "https://localhost:8080/"
        },
        "id": "fRXydOulD2lq",
        "outputId": "bb5fd674-2537-4e69-a511-1bac327bba7b"
      },
      "execution_count": null,
      "outputs": [
        {
          "output_type": "execute_result",
          "data": {
            "text/plain": [
              "tensor([3., 6., 9.], dtype=torch.float64)"
            ]
          },
          "metadata": {},
          "execution_count": 59
        }
      ]
    },
    {
      "cell_type": "code",
      "source": [
        "float_32_tensor.dtype"
      ],
      "metadata": {
        "colab": {
          "base_uri": "https://localhost:8080/"
        },
        "id": "2zfLhMVdGBUa",
        "outputId": "3a8276d4-4844-4bc2-990b-a84178d7b8a0"
      },
      "execution_count": null,
      "outputs": [
        {
          "output_type": "execute_result",
          "data": {
            "text/plain": [
              "torch.float32"
            ]
          },
          "metadata": {},
          "execution_count": 61
        }
      ]
    },
    {
      "cell_type": "markdown",
      "source": [
        "**We can perform arthematic operations on the tensors**"
      ],
      "metadata": {
        "id": "ePYWcyPzMhFY"
      }
    },
    {
      "cell_type": "code",
      "source": [
        "# manipulating tensors\n",
        "# additions, subtraction, multiplication (element-wise), division, matrix multiplication"
      ],
      "metadata": {
        "id": "gNCuynHcGhNo"
      },
      "execution_count": null,
      "outputs": []
    },
    {
      "cell_type": "code",
      "source": [
        "ten = torch.tensor([1, 2, 3])\n",
        "print(f\"Tensor: {ten}\")\n",
        "print(f\"Adding 10 to the tensor: {ten + 10}\")\n",
        "print(f\"Multiplying 25 with the tensor: {ten * 25}\")\n",
        "print(f\"Multiplying 10 with the tensor: {torch.mul(ten, 10)}\")\n",
        "print(f\"Dividing the tensor by 2: {ten/ 2}\")"
      ],
      "metadata": {
        "colab": {
          "base_uri": "https://localhost:8080/"
        },
        "id": "wh-uWF2bIhlJ",
        "outputId": "074f06b4-283e-4aa6-d338-5e719f584202"
      },
      "execution_count": null,
      "outputs": [
        {
          "output_type": "stream",
          "name": "stdout",
          "text": [
            "Tensor: tensor([1, 2, 3])\n",
            "Adding 10 to the tensor: tensor([11, 12, 13])\n",
            "Multiplying 25 with the tensor: tensor([25, 50, 75])\n",
            "Multiplying 10 with the tensor: tensor([10, 20, 30])\n",
            "Dividing the tensor by 2: tensor([0.5000, 1.0000, 1.5000])\n"
          ]
        }
      ]
    },
    {
      "cell_type": "code",
      "source": [],
      "metadata": {
        "id": "CKFoWlkeJHX3"
      },
      "execution_count": null,
      "outputs": []
    },
    {
      "cell_type": "code",
      "source": [
        "# two main types of multiplication in deep learning\n",
        "# 1) element wise multiplication\n",
        "# 2) matrix multiplication (dot product) (most common operation in deep learning)"
      ],
      "metadata": {
        "id": "Go8BkYbCyaII"
      },
      "execution_count": 13,
      "outputs": []
    },
    {
      "cell_type": "code",
      "source": [
        "tensor = torch.tensor([1, 2, 3])\n",
        "tensor"
      ],
      "metadata": {
        "colab": {
          "base_uri": "https://localhost:8080/"
        },
        "id": "XjdNfDx40f2G",
        "outputId": "e1968fa6-6213-4516-8ec0-407075dfc0f3"
      },
      "execution_count": 3,
      "outputs": [
        {
          "output_type": "execute_result",
          "data": {
            "text/plain": [
              "tensor([1, 2, 3])"
            ]
          },
          "metadata": {},
          "execution_count": 3
        }
      ]
    },
    {
      "cell_type": "code",
      "source": [
        "tensor * tensor # element wise multiplication"
      ],
      "metadata": {
        "colab": {
          "base_uri": "https://localhost:8080/"
        },
        "id": "qX5Y7t9a0mFJ",
        "outputId": "7bcc2a9e-acb5-4518-c612-8da967bd510c"
      },
      "execution_count": 8,
      "outputs": [
        {
          "output_type": "execute_result",
          "data": {
            "text/plain": [
              "tensor([1, 4, 9])"
            ]
          },
          "metadata": {},
          "execution_count": 8
        }
      ]
    },
    {
      "cell_type": "code",
      "source": [
        "torch.matmul(tensor, tensor) # matrix multiplication"
      ],
      "metadata": {
        "colab": {
          "base_uri": "https://localhost:8080/"
        },
        "id": "oDMeB-Zg0pOY",
        "outputId": "1cd995a9-fe47-49a4-c280-c073447fd65d"
      },
      "execution_count": 9,
      "outputs": [
        {
          "output_type": "execute_result",
          "data": {
            "text/plain": [
              "tensor(14)"
            ]
          },
          "metadata": {},
          "execution_count": 9
        }
      ]
    },
    {
      "cell_type": "code",
      "source": [
        "%%time\n",
        "value = 0\n",
        "for i in range(len(tensor)):\n",
        "  value += tensor[i] + tensor[i]\n",
        "\n",
        "print(value)"
      ],
      "metadata": {
        "colab": {
          "base_uri": "https://localhost:8080/"
        },
        "id": "FrWSlQKw0tyH",
        "outputId": "62ba7763-414d-4f45-aa24-0f57342bd4d5"
      },
      "execution_count": 10,
      "outputs": [
        {
          "output_type": "stream",
          "name": "stdout",
          "text": [
            "tensor(12)\n",
            "CPU times: user 2.66 ms, sys: 1.07 ms, total: 3.73 ms\n",
            "Wall time: 13.9 ms\n"
          ]
        }
      ]
    },
    {
      "cell_type": "code",
      "source": [
        "%%time\n",
        "torch.dot(tensor, tensor)"
      ],
      "metadata": {
        "colab": {
          "base_uri": "https://localhost:8080/"
        },
        "id": "fCoLCmXx1tC3",
        "outputId": "92bfb967-d705-474e-fe30-675a4e3af4a1"
      },
      "execution_count": 11,
      "outputs": [
        {
          "output_type": "stream",
          "name": "stdout",
          "text": [
            "CPU times: user 1.01 ms, sys: 0 ns, total: 1.01 ms\n",
            "Wall time: 1.02 ms\n"
          ]
        },
        {
          "output_type": "execute_result",
          "data": {
            "text/plain": [
              "tensor(14)"
            ]
          },
          "metadata": {},
          "execution_count": 11
        }
      ]
    },
    {
      "cell_type": "code",
      "source": [
        "%%time\n",
        "torch.matmul(tensor, tensor)"
      ],
      "metadata": {
        "colab": {
          "base_uri": "https://localhost:8080/"
        },
        "id": "ThgNAMAf1w4W",
        "outputId": "747e9f10-5d94-4eb3-b25b-b89e7d29eaf9"
      },
      "execution_count": 12,
      "outputs": [
        {
          "output_type": "stream",
          "name": "stdout",
          "text": [
            "CPU times: user 1.11 ms, sys: 0 ns, total: 1.11 ms\n",
            "Wall time: 1.01 ms\n"
          ]
        },
        {
          "output_type": "execute_result",
          "data": {
            "text/plain": [
              "tensor(14)"
            ]
          },
          "metadata": {},
          "execution_count": 12
        }
      ]
    },
    {
      "cell_type": "code",
      "source": [
        "# There are two main rules that performing matrix multiplication needs to satisfy\n",
        "# 1- The inner dimension must match\n",
        "# (3, 2) @ (3, 2) will not work\n",
        "# (2, 3) @ (3, 2) will work\n",
        "# (3, 2) @ (2, 3) will work"
      ],
      "metadata": {
        "id": "cE7Il4a22d03"
      },
      "execution_count": null,
      "outputs": []
    },
    {
      "cell_type": "code",
      "source": [
        "tensor @ tensor # @ is other way for matrix multiplication (not a recommended approach)"
      ],
      "metadata": {
        "colab": {
          "base_uri": "https://localhost:8080/"
        },
        "id": "u51PM8-H2tL-",
        "outputId": "8148791f-800e-4a60-d0d1-12115ff1a9b7"
      },
      "execution_count": 16,
      "outputs": [
        {
          "output_type": "execute_result",
          "data": {
            "text/plain": [
              "tensor(14)"
            ]
          },
          "metadata": {},
          "execution_count": 16
        }
      ]
    },
    {
      "cell_type": "code",
      "source": [
        "torch.matmul(torch.rand(3, 2), torch.rand(3, 2)) # error"
      ],
      "metadata": {
        "colab": {
          "base_uri": "https://localhost:8080/",
          "height": 146
        },
        "id": "_f_JNkDF2um2",
        "outputId": "f12c2426-67a1-445b-c623-382328d304f1"
      },
      "execution_count": 17,
      "outputs": [
        {
          "output_type": "error",
          "ename": "RuntimeError",
          "evalue": "mat1 and mat2 shapes cannot be multiplied (3x2 and 3x2)",
          "traceback": [
            "\u001b[0;31m---------------------------------------------------------------------------\u001b[0m",
            "\u001b[0;31mRuntimeError\u001b[0m                              Traceback (most recent call last)",
            "\u001b[0;32m<ipython-input-17-18e2767ff2aa>\u001b[0m in \u001b[0;36m<cell line: 1>\u001b[0;34m()\u001b[0m\n\u001b[0;32m----> 1\u001b[0;31m \u001b[0mtorch\u001b[0m\u001b[0;34m.\u001b[0m\u001b[0mmatmul\u001b[0m\u001b[0;34m(\u001b[0m\u001b[0mtorch\u001b[0m\u001b[0;34m.\u001b[0m\u001b[0mrand\u001b[0m\u001b[0;34m(\u001b[0m\u001b[0;36m3\u001b[0m\u001b[0;34m,\u001b[0m \u001b[0;36m2\u001b[0m\u001b[0;34m)\u001b[0m\u001b[0;34m,\u001b[0m \u001b[0mtorch\u001b[0m\u001b[0;34m.\u001b[0m\u001b[0mrand\u001b[0m\u001b[0;34m(\u001b[0m\u001b[0;36m3\u001b[0m\u001b[0;34m,\u001b[0m \u001b[0;36m2\u001b[0m\u001b[0;34m)\u001b[0m\u001b[0;34m)\u001b[0m \u001b[0;31m# error\u001b[0m\u001b[0;34m\u001b[0m\u001b[0;34m\u001b[0m\u001b[0m\n\u001b[0m",
            "\u001b[0;31mRuntimeError\u001b[0m: mat1 and mat2 shapes cannot be multiplied (3x2 and 3x2)"
          ]
        }
      ]
    },
    {
      "cell_type": "code",
      "source": [
        "torch.matmul(torch.rand(2, 3), torch.rand(3, 2)) # no error"
      ],
      "metadata": {
        "colab": {
          "base_uri": "https://localhost:8080/"
        },
        "id": "zLDtH3ec3cRm",
        "outputId": "4a298378-3b53-41da-81e6-339ad229d0d7"
      },
      "execution_count": 18,
      "outputs": [
        {
          "output_type": "execute_result",
          "data": {
            "text/plain": [
              "tensor([[0.2433, 1.2289],\n",
              "        [0.0890, 0.5614]])"
            ]
          },
          "metadata": {},
          "execution_count": 18
        }
      ]
    },
    {
      "cell_type": "code",
      "source": [
        "# 2) The resulting matrix has the shape of the outer dimension\n",
        "# (2, 3) @ (3, 2) will have shape (2, 2)\n",
        "# (3, 2) @ (2, 3) will have shape (3, 3)"
      ],
      "metadata": {
        "id": "Uy9bSmCE3gKH"
      },
      "execution_count": 20,
      "outputs": []
    },
    {
      "cell_type": "code",
      "source": [
        "torch.matmul(torch.rand(2, 3), torch.rand(3, 2)).shape"
      ],
      "metadata": {
        "colab": {
          "base_uri": "https://localhost:8080/"
        },
        "id": "plJfEX_E3m0V",
        "outputId": "96e5d1a6-970e-4ef3-97bf-70fcd77502e7"
      },
      "execution_count": 21,
      "outputs": [
        {
          "output_type": "execute_result",
          "data": {
            "text/plain": [
              "torch.Size([2, 2])"
            ]
          },
          "metadata": {},
          "execution_count": 21
        }
      ]
    },
    {
      "cell_type": "code",
      "source": [
        "# One of the most common errors in deep learning is shape error"
      ],
      "metadata": {
        "id": "eY_HQNH734F1"
      },
      "execution_count": 22,
      "outputs": []
    },
    {
      "cell_type": "code",
      "source": [
        "# to fix our tensor shape issues, we can manipulate the shape of one of our\n",
        "# tensors using a transpose"
      ],
      "metadata": {
        "id": "xjp9yAM94g90"
      },
      "execution_count": 23,
      "outputs": []
    },
    {
      "cell_type": "code",
      "source": [
        "torch.matmul(torch.rand(3, 2), torch.rand(3, 2).T) # no error"
      ],
      "metadata": {
        "colab": {
          "base_uri": "https://localhost:8080/"
        },
        "id": "pszvA0bV5czP",
        "outputId": "9530e0f9-7b3b-40a2-c626-dfc6eed9b07b"
      },
      "execution_count": 24,
      "outputs": [
        {
          "output_type": "execute_result",
          "data": {
            "text/plain": [
              "tensor([[0.0636, 0.6495, 0.4846],\n",
              "        [0.0420, 0.3916, 0.3926],\n",
              "        [0.0702, 0.6126, 0.7372]])"
            ]
          },
          "metadata": {},
          "execution_count": 24
        }
      ]
    },
    {
      "cell_type": "code",
      "source": [
        "# tensor aggregation\n",
        "# finding min, max, mean, sum, etc"
      ],
      "metadata": {
        "id": "JLWM4k_g5hQ0"
      },
      "execution_count": 26,
      "outputs": []
    },
    {
      "cell_type": "code",
      "source": [
        "tensor = torch.arange(0, 100)\n",
        "tensor"
      ],
      "metadata": {
        "colab": {
          "base_uri": "https://localhost:8080/"
        },
        "id": "KIc5B5zb8d2S",
        "outputId": "4abb6a08-c448-4090-c4ff-760eb0108c8d"
      },
      "execution_count": 58,
      "outputs": [
        {
          "output_type": "execute_result",
          "data": {
            "text/plain": [
              "tensor([ 0,  1,  2,  3,  4,  5,  6,  7,  8,  9, 10, 11, 12, 13, 14, 15, 16, 17,\n",
              "        18, 19, 20, 21, 22, 23, 24, 25, 26, 27, 28, 29, 30, 31, 32, 33, 34, 35,\n",
              "        36, 37, 38, 39, 40, 41, 42, 43, 44, 45, 46, 47, 48, 49, 50, 51, 52, 53,\n",
              "        54, 55, 56, 57, 58, 59, 60, 61, 62, 63, 64, 65, 66, 67, 68, 69, 70, 71,\n",
              "        72, 73, 74, 75, 76, 77, 78, 79, 80, 81, 82, 83, 84, 85, 86, 87, 88, 89,\n",
              "        90, 91, 92, 93, 94, 95, 96, 97, 98, 99])"
            ]
          },
          "metadata": {},
          "execution_count": 58
        }
      ]
    },
    {
      "cell_type": "code",
      "source": [
        "tensor.min() # minimum"
      ],
      "metadata": {
        "colab": {
          "base_uri": "https://localhost:8080/"
        },
        "id": "sqyILyYn8fMy",
        "outputId": "914d844a-92e5-461c-ce7d-92efecf5a412"
      },
      "execution_count": 40,
      "outputs": [
        {
          "output_type": "execute_result",
          "data": {
            "text/plain": [
              "tensor(0)"
            ]
          },
          "metadata": {},
          "execution_count": 40
        }
      ]
    },
    {
      "cell_type": "code",
      "source": [
        "torch.min(tensor) # another way to find minimum"
      ],
      "metadata": {
        "colab": {
          "base_uri": "https://localhost:8080/"
        },
        "id": "QEt2tK9c8rCR",
        "outputId": "80b0029d-d1e5-4e05-8723-92456f33debe"
      },
      "execution_count": 41,
      "outputs": [
        {
          "output_type": "execute_result",
          "data": {
            "text/plain": [
              "tensor(0)"
            ]
          },
          "metadata": {},
          "execution_count": 41
        }
      ]
    },
    {
      "cell_type": "code",
      "source": [
        "torch.max(tensor)"
      ],
      "metadata": {
        "colab": {
          "base_uri": "https://localhost:8080/"
        },
        "id": "iNCqszDE8xmS",
        "outputId": "0736cd20-872e-417a-c574-66e38f9969a6"
      },
      "execution_count": 42,
      "outputs": [
        {
          "output_type": "execute_result",
          "data": {
            "text/plain": [
              "tensor(99)"
            ]
          },
          "metadata": {},
          "execution_count": 42
        }
      ]
    },
    {
      "cell_type": "code",
      "source": [
        "torch.mean(tensor.type(torch.float32)) #mean doesn't work with int64 or long"
      ],
      "metadata": {
        "colab": {
          "base_uri": "https://localhost:8080/"
        },
        "id": "PCfl0GDs84hy",
        "outputId": "ff1ea2b8-cd8b-459c-b56c-c9879f311c38"
      },
      "execution_count": 46,
      "outputs": [
        {
          "output_type": "execute_result",
          "data": {
            "text/plain": [
              "tensor(49.5000)"
            ]
          },
          "metadata": {},
          "execution_count": 46
        }
      ]
    },
    {
      "cell_type": "code",
      "source": [
        "torch.median(tensor)"
      ],
      "metadata": {
        "colab": {
          "base_uri": "https://localhost:8080/"
        },
        "id": "SRKTGNK_9B0y",
        "outputId": "efea1f3a-01c9-4aca-c06c-089c47d9ba3c"
      },
      "execution_count": 48,
      "outputs": [
        {
          "output_type": "execute_result",
          "data": {
            "text/plain": [
              "tensor(49)"
            ]
          },
          "metadata": {},
          "execution_count": 48
        }
      ]
    },
    {
      "cell_type": "code",
      "source": [
        "tensor.sum()"
      ],
      "metadata": {
        "colab": {
          "base_uri": "https://localhost:8080/"
        },
        "id": "YffO2OJv9Fuy",
        "outputId": "ad560f32-bbd9-4ab9-9a05-f613b8a689ae"
      },
      "execution_count": 50,
      "outputs": [
        {
          "output_type": "execute_result",
          "data": {
            "text/plain": [
              "tensor(4950)"
            ]
          },
          "metadata": {},
          "execution_count": 50
        }
      ]
    },
    {
      "cell_type": "code",
      "source": [
        "# positional min max of tensors"
      ],
      "metadata": {
        "id": "2cBEauzQ9_Ch"
      },
      "execution_count": 51,
      "outputs": []
    },
    {
      "cell_type": "code",
      "source": [
        "tensor.argmin() # returns the index position where the minimum value occurs"
      ],
      "metadata": {
        "colab": {
          "base_uri": "https://localhost:8080/"
        },
        "id": "7pN13hxC-UEA",
        "outputId": "c451b65b-6283-4228-e477-3a41653a7c08"
      },
      "execution_count": 59,
      "outputs": [
        {
          "output_type": "execute_result",
          "data": {
            "text/plain": [
              "tensor(0)"
            ]
          },
          "metadata": {},
          "execution_count": 59
        }
      ]
    },
    {
      "cell_type": "code",
      "source": [
        "tensor.argmax() # returns the index position where the maximum value occurs"
      ],
      "metadata": {
        "colab": {
          "base_uri": "https://localhost:8080/"
        },
        "id": "dNUDRQVk-eYA",
        "outputId": "d92d3e9e-de69-4caf-deb9-fb8db2ec7960"
      },
      "execution_count": 60,
      "outputs": [
        {
          "output_type": "execute_result",
          "data": {
            "text/plain": [
              "tensor(99)"
            ]
          },
          "metadata": {},
          "execution_count": 60
        }
      ]
    },
    {
      "cell_type": "code",
      "source": [
        "tensor = torch.rand(8, 8)"
      ],
      "metadata": {
        "id": "02XtCg9v-huf"
      },
      "execution_count": 62,
      "outputs": []
    },
    {
      "cell_type": "code",
      "source": [
        "tensor.argmin()"
      ],
      "metadata": {
        "colab": {
          "base_uri": "https://localhost:8080/"
        },
        "id": "qH1JIwBs-l2R",
        "outputId": "6c041ad7-8d54-406d-84b6-93d4517b2cc4"
      },
      "execution_count": 63,
      "outputs": [
        {
          "output_type": "execute_result",
          "data": {
            "text/plain": [
              "tensor(41)"
            ]
          },
          "metadata": {},
          "execution_count": 63
        }
      ]
    },
    {
      "cell_type": "code",
      "source": [
        "tensor.argmax()"
      ],
      "metadata": {
        "colab": {
          "base_uri": "https://localhost:8080/"
        },
        "id": "_QIc9tra-nuv",
        "outputId": "a199bc36-8392-4daf-dc97-f91e7b297dc6"
      },
      "execution_count": 64,
      "outputs": [
        {
          "output_type": "execute_result",
          "data": {
            "text/plain": [
              "tensor(44)"
            ]
          },
          "metadata": {},
          "execution_count": 64
        }
      ]
    },
    {
      "cell_type": "code",
      "source": [
        "# reshaping, stacking, squeezing and unsqueezing tensors"
      ],
      "metadata": {
        "id": "n0Xa7pk0-oQP"
      },
      "execution_count": 66,
      "outputs": []
    },
    {
      "cell_type": "code",
      "source": [
        "# reshaping - reshapes an input tensor to a defined shape\n",
        "# view -  return a view of an input tensor of certain but keep the same memory as the originial tensor\n",
        "# stacking - combine multiple tensors on top of each other\n",
        "# squeeze -  remove all `1` dimensions from a tensor\n",
        "# unsqueeze - add a `1` dimension to a target tensor\n",
        "# permute - return a view of the input with dimensions permuted (swapped) in a certain way"
      ],
      "metadata": {
        "id": "3cpVVzN1FGUv"
      },
      "execution_count": 67,
      "outputs": []
    },
    {
      "cell_type": "code",
      "source": [
        "tensor = torch.rand(3, 5)\n",
        "tensor, tensor.shape"
      ],
      "metadata": {
        "colab": {
          "base_uri": "https://localhost:8080/"
        },
        "id": "PHdc7oZNGDhP",
        "outputId": "81ba9c0e-9243-4c3f-9438-5e03093a8950"
      },
      "execution_count": 70,
      "outputs": [
        {
          "output_type": "execute_result",
          "data": {
            "text/plain": [
              "(tensor([[0.1364, 0.2351, 0.1271, 0.8342, 0.5425],\n",
              "         [0.7679, 0.2764, 0.1265, 0.2041, 0.3384],\n",
              "         [0.8958, 0.1590, 0.2624, 0.5675, 0.2305]]),\n",
              " torch.Size([3, 5]))"
            ]
          },
          "metadata": {},
          "execution_count": 70
        }
      ]
    },
    {
      "cell_type": "code",
      "source": [
        "tensor_reshaped = tensor.reshape(1, 15)\n",
        "tensor_reshaped, tensor_reshaped.shape"
      ],
      "metadata": {
        "colab": {
          "base_uri": "https://localhost:8080/"
        },
        "id": "HFg-J2vyGMov",
        "outputId": "f531ceab-f7c3-46af-e226-a2eeb8ce39af"
      },
      "execution_count": 74,
      "outputs": [
        {
          "output_type": "execute_result",
          "data": {
            "text/plain": [
              "(tensor([[0.1364, 0.2351, 0.1271, 0.8342, 0.5425, 0.7679, 0.2764, 0.1265, 0.2041,\n",
              "          0.3384, 0.8958, 0.1590, 0.2624, 0.5675, 0.2305]]),\n",
              " torch.Size([1, 15]))"
            ]
          },
          "metadata": {},
          "execution_count": 74
        }
      ]
    },
    {
      "cell_type": "code",
      "source": [
        "z = tensor.view(3, 5) #changing z changes tensor (because a view of tensor shares\n",
        "                    # the same memory as original)\n",
        "z, z.shape"
      ],
      "metadata": {
        "colab": {
          "base_uri": "https://localhost:8080/"
        },
        "id": "GuWvgZxEGarO",
        "outputId": "8552e668-436a-408b-d1c5-b84411bc7870"
      },
      "execution_count": 78,
      "outputs": [
        {
          "output_type": "execute_result",
          "data": {
            "text/plain": [
              "(tensor([[0.1364, 0.2351, 0.1271, 0.8342, 0.5425],\n",
              "         [0.7679, 0.2764, 0.1265, 0.2041, 0.3384],\n",
              "         [0.8958, 0.1590, 0.2624, 0.5675, 0.2305]]),\n",
              " torch.Size([3, 5]))"
            ]
          },
          "metadata": {},
          "execution_count": 78
        }
      ]
    },
    {
      "cell_type": "code",
      "source": [
        "z[:, 0] = 5"
      ],
      "metadata": {
        "id": "HotnvjPpIAfu"
      },
      "execution_count": 79,
      "outputs": []
    },
    {
      "cell_type": "code",
      "source": [
        "tensor"
      ],
      "metadata": {
        "colab": {
          "base_uri": "https://localhost:8080/"
        },
        "id": "wzWtAxaUIeEA",
        "outputId": "5b4b292b-2bb7-443f-e84d-28985e4a2a3d"
      },
      "execution_count": 80,
      "outputs": [
        {
          "output_type": "execute_result",
          "data": {
            "text/plain": [
              "tensor([[5.0000, 0.2351, 0.1271, 0.8342, 0.5425],\n",
              "        [5.0000, 0.2764, 0.1265, 0.2041, 0.3384],\n",
              "        [5.0000, 0.1590, 0.2624, 0.5675, 0.2305]])"
            ]
          },
          "metadata": {},
          "execution_count": 80
        }
      ]
    },
    {
      "cell_type": "code",
      "source": [
        "# stacks tensors on top of each other\n",
        "x_stacked = torch.stack([tensor, tensor], dim=2)\n",
        "x_stacked"
      ],
      "metadata": {
        "colab": {
          "base_uri": "https://localhost:8080/"
        },
        "id": "FrulzHCkIgqd",
        "outputId": "b8ecadf4-e5b6-4d11-9fd0-ce41e463ce9e"
      },
      "execution_count": 83,
      "outputs": [
        {
          "output_type": "execute_result",
          "data": {
            "text/plain": [
              "tensor([[[5.0000, 5.0000],\n",
              "         [0.2351, 0.2351],\n",
              "         [0.1271, 0.1271],\n",
              "         [0.8342, 0.8342],\n",
              "         [0.5425, 0.5425]],\n",
              "\n",
              "        [[5.0000, 5.0000],\n",
              "         [0.2764, 0.2764],\n",
              "         [0.1265, 0.1265],\n",
              "         [0.2041, 0.2041],\n",
              "         [0.3384, 0.3384]],\n",
              "\n",
              "        [[5.0000, 5.0000],\n",
              "         [0.1590, 0.1590],\n",
              "         [0.2624, 0.2624],\n",
              "         [0.5675, 0.5675],\n",
              "         [0.2305, 0.2305]]])"
            ]
          },
          "metadata": {},
          "execution_count": 83
        }
      ]
    },
    {
      "cell_type": "code",
      "source": [
        "# squeez remove all single dimensions from a target tensor\n",
        "tensor[:, 0] = 1\n",
        "tensor, tensor.shape"
      ],
      "metadata": {
        "colab": {
          "base_uri": "https://localhost:8080/"
        },
        "id": "jqZIa7eJIvId",
        "outputId": "38769169-769e-4a80-bd3e-dfea940d94ac"
      },
      "execution_count": 89,
      "outputs": [
        {
          "output_type": "execute_result",
          "data": {
            "text/plain": [
              "(tensor([[1.0000, 0.2351, 0.1271, 0.8342, 0.5425],\n",
              "         [1.0000, 0.2764, 0.1265, 0.2041, 0.3384],\n",
              "         [1.0000, 0.1590, 0.2624, 0.5675, 0.2305]]),\n",
              " torch.Size([3, 5]))"
            ]
          },
          "metadata": {},
          "execution_count": 89
        }
      ]
    },
    {
      "cell_type": "code",
      "source": [
        "tensor.squeeze(), tensor.squeeze().shape"
      ],
      "metadata": {
        "colab": {
          "base_uri": "https://localhost:8080/"
        },
        "id": "psjaz5lLJQqd",
        "outputId": "af9b7d3b-40ae-4a5b-c62c-e486e2b3cc55"
      },
      "execution_count": 90,
      "outputs": [
        {
          "output_type": "execute_result",
          "data": {
            "text/plain": [
              "(tensor([[1.0000, 0.2351, 0.1271, 0.8342, 0.5425],\n",
              "         [1.0000, 0.2764, 0.1265, 0.2041, 0.3384],\n",
              "         [1.0000, 0.1590, 0.2624, 0.5675, 0.2305]]),\n",
              " torch.Size([3, 5]))"
            ]
          },
          "metadata": {},
          "execution_count": 90
        }
      ]
    },
    {
      "cell_type": "code",
      "source": [
        "tensor.unsqueeze(dim=0), tensor.unsqueeze(dim=0).shape"
      ],
      "metadata": {
        "colab": {
          "base_uri": "https://localhost:8080/"
        },
        "id": "08pRlBKGJSrN",
        "outputId": "b3770ecb-bb1f-4624-d861-5a633cb2a178"
      },
      "execution_count": 93,
      "outputs": [
        {
          "output_type": "execute_result",
          "data": {
            "text/plain": [
              "(tensor([[[1.0000, 0.2351, 0.1271, 0.8342, 0.5425],\n",
              "          [1.0000, 0.2764, 0.1265, 0.2041, 0.3384],\n",
              "          [1.0000, 0.1590, 0.2624, 0.5675, 0.2305]]]),\n",
              " torch.Size([1, 3, 5]))"
            ]
          },
          "metadata": {},
          "execution_count": 93
        }
      ]
    },
    {
      "cell_type": "code",
      "source": [
        "# torch.permute - rearranges the dimensions of a target tensor in a specified order\n",
        "# commonly used for images\n",
        "x_original = torch.rand(size=(224, 224, 3))\n",
        "x_permuted = x_original.permute(2, 0, 1) # the 2nd index (3) is re-ordered to start\n",
        "\n",
        "# re-orders the shape indexes\n",
        "\n",
        "print(f\"Original shape: {x_original.shape}\")\n",
        "print(f\"Permuted shape: {x_permuted.shape}\")"
      ],
      "metadata": {
        "colab": {
          "base_uri": "https://localhost:8080/"
        },
        "id": "OQg9nM3HJ1Hc",
        "outputId": "1b664cab-71b7-4f7d-f0e0-2d02a2c17c48"
      },
      "execution_count": 96,
      "outputs": [
        {
          "output_type": "stream",
          "name": "stdout",
          "text": [
            "Original shape: torch.Size([224, 224, 3])\n",
            "Permuted shape: torch.Size([3, 224, 224])\n"
          ]
        }
      ]
    },
    {
      "cell_type": "code",
      "source": [
        "# numpy and pytorch\n",
        "# numpy to pytorch (torch.from_numpy(ndarray))\n",
        "# pytorch to numpy (torch.Tensor.numpy())"
      ],
      "metadata": {
        "id": "wEnia26sKsXL"
      },
      "execution_count": 97,
      "outputs": []
    },
    {
      "cell_type": "code",
      "source": [
        "array = np.arange(1.0, 8.0)\n",
        "tensor = torch.from_numpy(array) #numpy default datatype is float64\n",
        "tensor"
      ],
      "metadata": {
        "colab": {
          "base_uri": "https://localhost:8080/"
        },
        "id": "mk7dPhSLWy0E",
        "outputId": "a865e3b7-b364-4fed-da29-f3cc9db3872d"
      },
      "execution_count": 98,
      "outputs": [
        {
          "output_type": "execute_result",
          "data": {
            "text/plain": [
              "tensor([1., 2., 3., 4., 5., 6., 7.], dtype=torch.float64)"
            ]
          },
          "metadata": {},
          "execution_count": 98
        }
      ]
    },
    {
      "cell_type": "code",
      "source": [
        "tensor = torch.ones(7)\n",
        "numpy_tensor = tensor.numpy()\n",
        "numpy_tensor, numpy_tensor.dtype"
      ],
      "metadata": {
        "colab": {
          "base_uri": "https://localhost:8080/"
        },
        "id": "_hsZA07RW7Fz",
        "outputId": "f6cc2711-7b43-477c-da74-7f799e2f0501"
      },
      "execution_count": 99,
      "outputs": [
        {
          "output_type": "execute_result",
          "data": {
            "text/plain": [
              "(array([1., 1., 1., 1., 1., 1., 1.], dtype=float32), dtype('float32'))"
            ]
          },
          "metadata": {},
          "execution_count": 99
        }
      ]
    },
    {
      "cell_type": "code",
      "source": [
        "#pytorch reproduceability"
      ],
      "metadata": {
        "id": "SP5kvkmZXphS"
      },
      "execution_count": 100,
      "outputs": []
    },
    {
      "cell_type": "code",
      "source": [],
      "metadata": {
        "id": "t8G4j3eXYFOE"
      },
      "execution_count": null,
      "outputs": []
    }
  ]
}