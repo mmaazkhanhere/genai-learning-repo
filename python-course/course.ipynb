{
 "cells": [
  {
   "cell_type": "code",
   "execution_count": 1,
   "metadata": {},
   "outputs": [],
   "source": [
    "from typing import Tuple, Dict, Set, List\n",
    "import math\n",
    "import random"
   ]
  },
  {
   "cell_type": "markdown",
   "metadata": {},
   "source": [
    "# Basics\n"
   ]
  },
  {
   "cell_type": "markdown",
   "metadata": {},
   "source": [
    "## Variable\n"
   ]
  },
  {
   "cell_type": "markdown",
   "metadata": {},
   "source": [
    "`Variable` is like a container for some value inside of computer or inside of a program. It is better to think of variables as labels that you can assign to values. In other word `variable references a certain value`\n"
   ]
  },
  {
   "cell_type": "code",
   "execution_count": 11,
   "metadata": {},
   "outputs": [],
   "source": [
    "planet = 'Earth'"
   ]
  },
  {
   "cell_type": "markdown",
   "metadata": {},
   "source": [
    "In the above example, a memory is assigned a name `planet` and value `Earth` is stored in it. <br/> Consider variable as a box with the name planet written to it. Now, if someone ask you to bring the planet box and tell what is inside it. You go and find the box with name planet among different boxes and display what is stored or stashed inside it\n"
   ]
  },
  {
   "cell_type": "code",
   "execution_count": 15,
   "metadata": {},
   "outputs": [
    {
     "name": "stdout",
     "output_type": "stream",
     "text": [
      "My name is Maaz Khan*"
     ]
    }
   ],
   "source": [
    "print('My name is Maaz Khan', sep=' ', end='*' ) #the print will end with an astrik"
   ]
  },
  {
   "cell_type": "markdown",
   "metadata": {},
   "source": [
    "There are no data types in Python. We dont assign any type to variable. <br/>\n",
    "\n",
    "`a = 5` Here `a` has no data type <br/>\n",
    "\n",
    "However, reference in the memory has datatype. Considering above example, `a` doesnt have type but the value `5` that it refers to has datatype assigned, which is assigned in the memory\n"
   ]
  },
  {
   "cell_type": "markdown",
   "metadata": {},
   "source": [
    "## Data Types\n"
   ]
  },
  {
   "cell_type": "markdown",
   "metadata": {},
   "source": [
    "<ul>\n",
    "<b><i>Number:</i></b>\n",
    "<li>1234, 3.14 ,0b111, Decimal(), Fraction()</li>\n",
    "</ul>\n",
    "\n",
    "<ul>\n",
    "<b><i>Strings:</i></b>\n",
    "<li>'spam', \"Bob's\", b'a\\x01c', u'sp\\xc4m' (unicode characters)</li>\n",
    "</ul>\n",
    "\n",
    "<ul>\n",
    "<b><i>List:</i></b>\n",
    "<li>[1, 2, 3], [1, [2, 3]], [1, 'a', false], list(range(10))</li>\n",
    "</ul>\n",
    "\n",
    "<ul>\n",
    "<b><i>Tuple:</i></b>\n",
    "<li>(1, 'spam', 4, 'U'), tuple('spam')</li>\n",
    "</ul>\n",
    "\n",
    "<ul>\n",
    "<b><i>Dictionary:</i></b>\n",
    "<li>{'food': 'spam', 'taste':'yum'} #index doesn't start with 0 and you give index a value or name</li>\n",
    "</ul>\n",
    "\n",
    "<ul>\n",
    "<b><i>Set:</i></b>\n",
    "<li>//keeps unique values only\n",
    "set('abc'), {'a','b','c'}</li>\n",
    "</ul>\n",
    "\n",
    "<ul>\n",
    "<b><i>File:</i></b>\n",
    "<li>/open('eggs.txt'), open(r'C:\\ham.bin', 'wb')</li>\n",
    "</ul>\n",
    "\n",
    "<ul>\n",
    "<b><i>Boolean:</i></b>\n",
    "<li>True False</li>\n",
    "</ul>\n"
   ]
  },
  {
   "cell_type": "markdown",
   "metadata": {},
   "source": [
    "### Number & Float\n"
   ]
  },
  {
   "cell_type": "code",
   "execution_count": 17,
   "metadata": {},
   "outputs": [
    {
     "name": "stdout",
     "output_type": "stream",
     "text": [
      "5\n",
      "4 divided by 2 is =  3.0\n",
      "8 divided by 2 is =  4\n",
      "3 square is: 9\n",
      "Univers age:  14000000000\n"
     ]
    }
   ],
   "source": [
    "x: int = 5\n",
    "print(x)\n",
    "\n",
    "result: int = 6 / 2 # division always returns a float\n",
    "print('4 divided by 2 is = ', result)\n",
    "result: int = 8 // 2 # floor division discards the fractional part\n",
    "print('8 divided by 2 is = ', result)\n",
    "print(f\"{3} square is: {3**2}\")\n",
    "print(\"Univers age: \",14_000_000_000) #clean way to write 14,000,000,000\n",
    "\n"
   ]
  },
  {
   "cell_type": "code",
   "execution_count": 12,
   "metadata": {},
   "outputs": [
    {
     "name": "stdout",
     "output_type": "stream",
     "text": [
      "1.55\n"
     ]
    }
   ],
   "source": [
    "x: float = 1.546\n",
    "print(round(x, 2))"
   ]
  },
  {
   "cell_type": "markdown",
   "metadata": {},
   "source": [
    "#### Simple Calculator\n"
   ]
  },
  {
   "cell_type": "code",
   "execution_count": 18,
   "metadata": {},
   "outputs": [
    {
     "name": "stdout",
     "output_type": "stream",
     "text": [
      "5.0 - 5.0 =  0.0\n"
     ]
    }
   ],
   "source": [
    "first_input: float = float(input('Enter first input number: '));\n",
    "operator: int = int(input('Chose operation: \\n1)Add \\n2)Subtract \\n3)Multiply \\n4)Divide').lower());\n",
    "second_input: float = float(input('Enter second input number: '));\n",
    "\n",
    "if operator == 1:\n",
    "    print(f\"{first_input} + {second_input} = \",first_input + second_input);\n",
    "elif operator == 2:\n",
    "    print(f\"{first_input} - {second_input} = \", first_input - second_input);\n",
    "elif operator == 3:\n",
    "    print(f\"{first_input} * {second_input} = \", first_input * second_input);\n",
    "elif operator == 4:\n",
    "    print(f\"{first_input} / {second_input} = \", first_input / second_input);\n",
    "else:\n",
    "    print('Invalid Operation');"
   ]
  },
  {
   "cell_type": "markdown",
   "metadata": {},
   "source": [
    "### String\n"
   ]
  },
  {
   "cell_type": "markdown",
   "metadata": {},
   "source": [
    "A `string` is a series of characters. Anything inside quotes is considered a string in python\n"
   ]
  },
  {
   "cell_type": "code",
   "execution_count": 17,
   "metadata": {},
   "outputs": [
    {
     "name": "stdout",
     "output_type": "stream",
     "text": [
      "Please tell Maaz, it's raining \n"
     ]
    }
   ],
   "source": [
    "name: str = 'Maaz'\n",
    "message: str = f\"Please tell {name}, it's raining \" #format string that enables to enter variable inside curly brackets\n",
    "print(message)"
   ]
  },
  {
   "cell_type": "code",
   "execution_count": 6,
   "metadata": {},
   "outputs": [
    {
     "name": "stdout",
     "output_type": "stream",
     "text": [
      "Message:   Hello World  \n",
      "Message without whitespace: Hello World\n",
      "Message without whitespaces and capitalized:  HELLO WORLD\n"
     ]
    }
   ],
   "source": [
    "message: str = \"  Hello World  \";\n",
    "print('Message:' ,message)\n",
    "print('Message without whitespace:',message.strip()) #whitespace before and after are removed not within\n",
    "print(\"Message without whitespaces and capitalized: \",message.strip().upper()) #you can chain methods"
   ]
  },
  {
   "cell_type": "code",
   "execution_count": 4,
   "metadata": {},
   "outputs": [
    {
     "name": "stdout",
     "output_type": "stream",
     "text": [
      "Maaz\n",
      "Khan\n"
     ]
    }
   ],
   "source": [
    "username = 'Maaz'\n",
    "print(username)\n",
    "username = 'Khan'\n",
    "print(username)"
   ]
  },
  {
   "cell_type": "markdown",
   "metadata": {},
   "source": [
    "Python have built-in different methods that can be used to modify string\n"
   ]
  },
  {
   "cell_type": "code",
   "execution_count": 20,
   "metadata": {},
   "outputs": [
    {
     "data": {
      "text/plain": [
       "['__add__',\n",
       " '__class__',\n",
       " '__contains__',\n",
       " '__delattr__',\n",
       " '__dir__',\n",
       " '__doc__',\n",
       " '__eq__',\n",
       " '__format__',\n",
       " '__ge__',\n",
       " '__getattribute__',\n",
       " '__getitem__',\n",
       " '__getnewargs__',\n",
       " '__getstate__',\n",
       " '__gt__',\n",
       " '__hash__',\n",
       " '__init__',\n",
       " '__init_subclass__',\n",
       " '__iter__',\n",
       " '__le__',\n",
       " '__len__',\n",
       " '__lt__',\n",
       " '__mod__',\n",
       " '__mul__',\n",
       " '__ne__',\n",
       " '__new__',\n",
       " '__reduce__',\n",
       " '__reduce_ex__',\n",
       " '__repr__',\n",
       " '__rmod__',\n",
       " '__rmul__',\n",
       " '__setattr__',\n",
       " '__sizeof__',\n",
       " '__str__',\n",
       " '__subclasshook__',\n",
       " 'capitalize',\n",
       " 'casefold',\n",
       " 'center',\n",
       " 'count',\n",
       " 'encode',\n",
       " 'endswith',\n",
       " 'expandtabs',\n",
       " 'find',\n",
       " 'format',\n",
       " 'format_map',\n",
       " 'index',\n",
       " 'isalnum',\n",
       " 'isalpha',\n",
       " 'isascii',\n",
       " 'isdecimal',\n",
       " 'isdigit',\n",
       " 'isidentifier',\n",
       " 'islower',\n",
       " 'isnumeric',\n",
       " 'isprintable',\n",
       " 'isspace',\n",
       " 'istitle',\n",
       " 'isupper',\n",
       " 'join',\n",
       " 'ljust',\n",
       " 'lower',\n",
       " 'lstrip',\n",
       " 'maketrans',\n",
       " 'partition',\n",
       " 'removeprefix',\n",
       " 'removesuffix',\n",
       " 'replace',\n",
       " 'rfind',\n",
       " 'rindex',\n",
       " 'rjust',\n",
       " 'rpartition',\n",
       " 'rsplit',\n",
       " 'rstrip',\n",
       " 'split',\n",
       " 'splitlines',\n",
       " 'startswith',\n",
       " 'strip',\n",
       " 'swapcase',\n",
       " 'title',\n",
       " 'translate',\n",
       " 'upper',\n",
       " 'zfill']"
      ]
     },
     "metadata": {},
     "output_type": "display_data"
    }
   ],
   "source": [
    "name: str = \"John\"\n",
    "display(dir(name)) #display different methods of string"
   ]
  },
  {
   "cell_type": "code",
   "execution_count": 29,
   "metadata": {},
   "outputs": [
    {
     "name": "stdout",
     "output_type": "stream",
     "text": [
      "John\n",
      "Name to lower case: john\n",
      "Name to upper case: JOHN\n",
      "Google url: https://google.com\n",
      "Clean url: google.com\n"
     ]
    }
   ],
   "source": [
    "print(name.title())\n",
    "print('Name to lower case:', name.lower())\n",
    "print('Name to upper case:', name.upper())\n",
    "url = 'https://google.com'\n",
    "print('Google url:',url)\n",
    "print('Clean url:', url.removeprefix('https://'))"
   ]
  },
  {
   "cell_type": "code",
   "execution_count": 24,
   "metadata": {},
   "outputs": [
    {
     "name": "stdout",
     "output_type": "stream",
     "text": [
      "length of username:  4\n",
      "0 element of username:  m\n",
      "second last character of username:  a\n",
      "middle two character of username:  aa\n"
     ]
    }
   ],
   "source": [
    "username: str = 'maaz'\n",
    "print('length of username: ', len(username))\n",
    "print('0 element of username: ', username[0]) # indicates that string is also sometimes treated as a list\n",
    "# username[0] = 'M' # this will give error because string is immutable, meaning you cannot change exisitng value\n",
    "print('second last character of username: ', username[-2])\n",
    "print('middle two character of username: ', username[1:3]) # 1 included and 3 excluded. Technically means give character at [1] and [2] but not at [3]\n"
   ]
  },
  {
   "cell_type": "code",
   "execution_count": 9,
   "metadata": {},
   "outputs": [
    {
     "name": "stdout",
     "output_type": "stream",
     "text": [
      "Message: hello world! this is python\n",
      "Message split in words ['hello', 'world!', 'this', 'is', 'python']\n",
      "Message split in character ['h', 'e', 'l', 'l', 'o', ' ', 'w', 'o', 'r', 'l', 'd', '!', ' ', 't', 'h', 'i', 's', ' ', 'i', 's', ' ', 'p', 'y', 't', 'h', 'o', 'n']\n"
     ]
    }
   ],
   "source": [
    "message: str = 'hello world! this is python'\n",
    "print('Message:',message)\n",
    "print('Message split in words', message.split(' '));\n",
    "print('Message split in character', list(message));"
   ]
  },
  {
   "cell_type": "markdown",
   "metadata": {},
   "source": [
    "### Lists\n"
   ]
  },
  {
   "cell_type": "markdown",
   "metadata": {},
   "source": [
    "`List` is a collection of items in particular order. The type of items doesn't matter but since we are using static typing, it will matter. However, even if with static typing, the python displays the list since python is dynamic language, although a lint error is shown to the developer\n"
   ]
  },
  {
   "cell_type": "code",
   "execution_count": null,
   "metadata": {},
   "outputs": [],
   "source": [
    "squares = [1, 3, 9, 16, 25]"
   ]
  },
  {
   "cell_type": "markdown",
   "metadata": {},
   "source": [
    "You can access element of a list using `array_name[index]` method. The index in python starts at 0 not 1. A negative index value index the array from behind\n"
   ]
  },
  {
   "cell_type": "code",
   "execution_count": 35,
   "metadata": {},
   "outputs": [
    {
     "name": "stdout",
     "output_type": "stream",
     "text": [
      "First element of the array: Black\n",
      "Second last element of the array: Oolong\n"
     ]
    }
   ],
   "source": [
    "tea_varities = [\"Black\", \"Green\", \"Oolong\", \"White\"]\n",
    "print(f\"First element of the array: {tea_varities[0]}\")\n",
    "print(f\"Second last element of the array: {tea_varities[-2]}\")"
   ]
  },
  {
   "cell_type": "markdown",
   "metadata": {},
   "source": [
    "You can modify a list by modifying the element content at given index\n"
   ]
  },
  {
   "cell_type": "code",
   "execution_count": 36,
   "metadata": {},
   "outputs": [
    {
     "name": "stdout",
     "output_type": "stream",
     "text": [
      "Different tea varities: ['Black', 'Green', 'Oolong', 'White']\n",
      "Different tea varities: ['Black', 'Green', 'Kashmiri', 'White']\n"
     ]
    }
   ],
   "source": [
    "print(f\"Different tea varities: {tea_varities}\")\n",
    "tea_varities[2] = 'Kashmiri'\n",
    "print(f\"Different tea varities: {tea_varities}\")"
   ]
  },
  {
   "cell_type": "code",
   "execution_count": 47,
   "metadata": {},
   "outputs": [
    {
     "name": "stdout",
     "output_type": "stream",
     "text": [
      "I love Jasmine\n"
     ]
    }
   ],
   "source": [
    "if \"Jasmine\" in tea_varities:\n",
    "    print(\"I love Jasmine\")"
   ]
  },
  {
   "cell_type": "markdown",
   "metadata": {},
   "source": [
    "You can add element to a list. The simplest way to add an element in list is using `append()` that add the element at the back of list\n"
   ]
  },
  {
   "cell_type": "code",
   "execution_count": 59,
   "metadata": {},
   "outputs": [
    {
     "name": "stdout",
     "output_type": "stream",
     "text": [
      "Tea varities after Herbal inserted in back:  ['Black', 'Green', 'White', ['Herbal', 'Masala']]\n"
     ]
    }
   ],
   "source": [
    "tea_varities.append(['Herbal', 'Masala'])\n",
    "print('Tea varities after Herbal inserted in back: ',tea_varities)\n"
   ]
  },
  {
   "cell_type": "markdown",
   "metadata": {},
   "source": [
    "You can add a new element at any position in your list using the `insert()` method. This is done by specifying the index of the new element and the value of the new item\n"
   ]
  },
  {
   "cell_type": "code",
   "execution_count": 49,
   "metadata": {},
   "outputs": [
    {
     "name": "stdout",
     "output_type": "stream",
     "text": [
      "Tea varities after English Breakfast inserted in position 1:  ['Black', 'English Breakfast', 'English Breakfast', 'Honey', 'White']\n"
     ]
    }
   ],
   "source": [
    "insert_item = tea_varities.insert(1, 'English Breakfast')\n",
    "print('Tea varities after English Breakfast inserted in position 1: ', tea_varities)"
   ]
  },
  {
   "cell_type": "markdown",
   "metadata": {},
   "source": [
    "You can remove an item from the list given an index using `del()` statement\n"
   ]
  },
  {
   "cell_type": "code",
   "execution_count": 51,
   "metadata": {},
   "outputs": [
    {
     "name": "stdout",
     "output_type": "stream",
     "text": [
      "Different tea varities: ['Black', 'Green', 'Oolong', 'White']\n",
      "Removing item at index 2: ['Black', 'Green', 'White']\n"
     ]
    }
   ],
   "source": [
    "tea_varities = [\"Black\", \"Green\", \"Oolong\", \"White\"]\n",
    "print(f'Different tea varities: {tea_varities}')\n",
    "del tea_varities[2]\n",
    "print(f'Removing item at index 2: {tea_varities}')"
   ]
  },
  {
   "cell_type": "markdown",
   "metadata": {},
   "source": [
    "You can remove last item using `pop()` method. You can also remove item at specific position using pop\n"
   ]
  },
  {
   "cell_type": "code",
   "execution_count": 55,
   "metadata": {},
   "outputs": [
    {
     "name": "stdout",
     "output_type": "stream",
     "text": [
      "Different tea varities: ['Black', 'Green', 'Oolong', 'White']\n",
      "Removing last item: White\n",
      "Removing 1 item: Black\n",
      "Teas after items removed: ['Green', 'Oolong']\n"
     ]
    }
   ],
   "source": [
    "tea_varities = [\"Black\", \"Green\", \"Oolong\", \"White\"]\n",
    "print(f'Different tea varities: {tea_varities}')\n",
    "\n",
    "print(f'Removing last item: {tea_varities.pop()}')\n",
    "print(f\"Removing 1 item: {tea_varities.pop(0)}\")\n",
    "print(f\"Teas after items removed: {tea_varities}\")\n"
   ]
  },
  {
   "cell_type": "markdown",
   "metadata": {},
   "source": [
    "You can remove an item from list by its value using `remove()` method\n"
   ]
  },
  {
   "cell_type": "code",
   "execution_count": 58,
   "metadata": {},
   "outputs": [
    {
     "name": "stdout",
     "output_type": "stream",
     "text": [
      "Different tea varities: ['Black', 'Green', 'Oolong', 'White']\n",
      "Removing Oolong tea:  ['Black', 'Green', 'White']\n"
     ]
    }
   ],
   "source": [
    "tea_varities = [\"Black\", \"Green\", \"Oolong\", \"White\"]\n",
    "print(f'Different tea varities: {tea_varities}')\n",
    "tea_varities.remove('Oolong')\n",
    "print(f'Removing Oolong tea: ',tea_varities)"
   ]
  },
  {
   "cell_type": "markdown",
   "metadata": {},
   "source": [
    "List can be sorted using `sort()` method\n"
   ]
  },
  {
   "cell_type": "code",
   "execution_count": 68,
   "metadata": {},
   "outputs": [
    {
     "name": "stdout",
     "output_type": "stream",
     "text": [
      "Numbers: [5, 1, 9, 3, 4, 6, 8, 2, 0, 7, 1]\n",
      "Number sorted: [0, 1, 1, 2, 3, 4, 5, 6, 7, 8, 9]\n",
      "Number sorted in reverse: [9, 8, 7, 6, 5, 4, 3, 2, 1, 1, 0]\n"
     ]
    }
   ],
   "source": [
    "random_number:List[int] = [5,1,9,3,4,6,8,2,0,7,1]\n",
    "print(f'Numbers: {random_number}')\n",
    "random_number.sort()\n",
    "print(f\"Number sorted: {random_number}\")\n",
    "random_number.sort(reverse=True)\n",
    "print(f\"Number sorted in reverse: {random_number}\")"
   ]
  },
  {
   "cell_type": "markdown",
   "metadata": {},
   "source": [
    "List can also be sorted in reverse using `reverse()` method\n"
   ]
  },
  {
   "cell_type": "code",
   "execution_count": 69,
   "metadata": {},
   "outputs": [
    {
     "name": "stdout",
     "output_type": "stream",
     "text": [
      "Different tea varities: ['White', 'Oolong', 'Green', 'Black']\n",
      "Tea varities sorted: ['Black', 'Green', 'Oolong', 'White']\n",
      "Tea varities sorted reversed: ['White', 'Oolong', 'Green', 'Black']\n"
     ]
    }
   ],
   "source": [
    "tea_varities = [\"White\" , \"Oolong\",\"Green\" ,\"Black\"]\n",
    "print(f'Different tea varities: {tea_varities}')\n",
    "tea_varities.sort()\n",
    "print(f'Tea varities sorted: {tea_varities}')\n",
    "tea_varities.reverse()\n",
    "print(f'Tea varities sorted reversed: {tea_varities}')"
   ]
  },
  {
   "cell_type": "markdown",
   "metadata": {},
   "source": [
    "We can loop through a list using `for()` loop\n"
   ]
  },
  {
   "cell_type": "code",
   "execution_count": 39,
   "metadata": {},
   "outputs": [
    {
     "name": "stdout",
     "output_type": "stream",
     "text": [
      "I like White\n",
      "I dont like Oolong\n",
      "I like Green\n",
      "I like Black\n"
     ]
    }
   ],
   "source": [
    "tea_varities = [\"White\" , \"Oolong\",\"Green\" ,\"Black\"]\n",
    "\n",
    "for tea in tea_varities: # tells the python to take an element from tea_varities list and assign it to variable tea\n",
    "    if tea == \"Oolong\":\n",
    "        print(f'I dont like {tea}')\n",
    "    else:\n",
    "        print(f\"I like {tea}\")"
   ]
  },
  {
   "cell_type": "markdown",
   "metadata": {},
   "source": [
    "We can check if a value exits in a list using `in` loop\n"
   ]
  },
  {
   "cell_type": "code",
   "execution_count": 41,
   "metadata": {},
   "outputs": [
    {
     "name": "stdout",
     "output_type": "stream",
     "text": [
      "True\n",
      "False\n"
     ]
    }
   ],
   "source": [
    "tea_varities = [\"White\", \"Oolong\", \"Green\" ,\"Black\"]\n",
    "\n",
    "print('Green' in tea_varities) # true\n",
    "print('Kashmiri' in tea_varities) # false"
   ]
  },
  {
   "cell_type": "code",
   "execution_count": 43,
   "metadata": {},
   "outputs": [
    {
     "name": "stdout",
     "output_type": "stream",
     "text": [
      "James can access the website\n"
     ]
    }
   ],
   "source": [
    "banned_users: List[str] = ['Andrew', 'Ella', 'Samanatha', 'Jones']\n",
    "user = 'James'\n",
    "if user not in banned_users: # checks if the user is not present in the list of banned user\n",
    "    print(f\"{user} can access the website\")"
   ]
  },
  {
   "cell_type": "markdown",
   "metadata": {},
   "source": [
    "There are many reasons to store a set of numbers. Python provides a variety of tools to help you work efficiently with list of numbers. <br/>\n",
    "Python `range()` function makes it easy to generate a series of numbers.\n"
   ]
  },
  {
   "cell_type": "code",
   "execution_count": 13,
   "metadata": {},
   "outputs": [
    {
     "name": "stdout",
     "output_type": "stream",
     "text": [
      "[0, 1, 2, 3, 4, 5]\n"
     ]
    }
   ],
   "source": [
    "numbers: List[int] = list(range(6)) # create list of first 5 numbers\n",
    "print(numbers) # print list"
   ]
  },
  {
   "cell_type": "code",
   "execution_count": 9,
   "metadata": {},
   "outputs": [
    {
     "name": "stdout",
     "output_type": "stream",
     "text": [
      "Values in range 1 to 4\n",
      "0\n",
      "1\n",
      "2\n",
      "3\n",
      "4\n",
      "5\n"
     ]
    }
   ],
   "source": [
    "print('Values in range 1 to 4')\n",
    "for value in range(6): # same as range(1, 6) #start from 1 and go to 6 but dont include 6 so techncially 1 to 5\n",
    "    print(value)"
   ]
  },
  {
   "cell_type": "code",
   "execution_count": 16,
   "metadata": {},
   "outputs": [
    {
     "name": "stdout",
     "output_type": "stream",
     "text": [
      "First 5 even numbers\n",
      "2\n",
      "4\n",
      "6\n",
      "8\n",
      "10\n"
     ]
    }
   ],
   "source": [
    "print('First 5 even numbers')\n",
    "for value in range(2,11,2): # start from 2 and go to 10 (exclude 11) with step 2 (skip one value)\n",
    "    print(value)"
   ]
  },
  {
   "cell_type": "code",
   "execution_count": 18,
   "metadata": {},
   "outputs": [
    {
     "name": "stdout",
     "output_type": "stream",
     "text": [
      "Table of 3: \n",
      "3\n",
      "6\n",
      "9\n",
      "12\n",
      "15\n",
      "18\n",
      "21\n",
      "24\n",
      "27\n",
      "30\n"
     ]
    }
   ],
   "source": [
    "print('Table of 3: ')\n",
    "for value in range(3, 31, 3): #starts from 3 and go till 31 with step 3 (skip 2 values)\n",
    "    print(value)"
   ]
  },
  {
   "cell_type": "markdown",
   "metadata": {},
   "source": [
    "You can also work with a specific group of items in a list called `slice` in Python. To make a slice, you specify the index of first and last element you want to work with\n"
   ]
  },
  {
   "cell_type": "code",
   "execution_count": 37,
   "metadata": {},
   "outputs": [
    {
     "name": "stdout",
     "output_type": "stream",
     "text": [
      "Varities of tea: ['Black', 'Green', 'Oolong', 'White']\n",
      "First two varieties of tea: ['Black', 'Green']\n",
      "First three varities of tea:['Black', 'Green', 'Oolong']\n",
      "Last two varities of tea: ['Oolong', 'White']\n"
     ]
    }
   ],
   "source": [
    "tea_varities = [\"Black\", \"Green\", \"Oolong\", \"White\"]\n",
    "print(f\"Varities of tea: {tea_varities}\")\n",
    "print(f\"First two varieties of tea: {tea_varities[0:2]}\")\n",
    "print(f\"First three varities of tea:{tea_varities[:3]}\") #automatically starts from 0 index and display items till 2 index (3 is omitted)\n",
    "print(f\"Last two varities of tea: {tea_varities[2:]}\") #automatically starts from 2 index and display all items after 2 index"
   ]
  },
  {
   "cell_type": "markdown",
   "metadata": {},
   "source": [
    "You can make copy of a list using slicing\n"
   ]
  },
  {
   "cell_type": "code",
   "execution_count": 39,
   "metadata": {},
   "outputs": [
    {
     "name": "stdout",
     "output_type": "stream",
     "text": [
      "Jack favorite food: ['Pizza', 'Falafel', 'Carrot Cake']\n",
      "My favorite food: ['Pizza', 'Falafel', 'Carrot Cake']\n",
      "Jack favorite food: ['Pizza', 'Falafel', 'Carrot Cake', 'Burger']\n",
      "My favorite food: ['Pizza', 'Falafel', 'Carrot Cake', 'Steak']\n",
      "Jack favorite food: ['Pizza', 'Falafel', 'Carrot Cake', 'Steak']\n",
      "My favorite food: ['Pizza', 'Falafel', 'Carrot Cake', 'Steak']\n",
      "Jack favorite food: ['Pizza', 'Falafel', 'Carrot Cake', 'Steak', 'Ice Cream', 'Tacos']\n",
      "My favorite food: ['Pizza', 'Falafel', 'Carrot Cake', 'Steak', 'Ice Cream', 'Tacos']\n"
     ]
    }
   ],
   "source": [
    "jack_favorite_food = ['Pizza', 'Falafel', 'Carrot Cake']\n",
    "my_favorute_food = jack_favorite_food[:] #copy is created (my_favorite_food is different than jack_favorite_food)\n",
    "\n",
    "print(f\"Jack favorite food: {jack_favorite_food}\")\n",
    "print(f\"My favorite food: {my_favorute_food}\")\n",
    "\n",
    "jack_favorite_food.append('Burger')\n",
    "my_favorute_food.append('Steak')\n",
    "\n",
    "print(f\"Jack favorite food: {jack_favorite_food}\")\n",
    "print(f\"My favorite food: {my_favorute_food}\") # different from jack favorite food that shows separate list was created\n",
    "\n",
    "\n",
    "jack_favorite_food = my_favorute_food\n",
    "print(f\"Jack favorite food: {jack_favorite_food}\")\n",
    "print(f\"My favorite food: {my_favorute_food}\") # now both are same list\n",
    "\n",
    "jack_favorite_food.append('Ice Cream')\n",
    "my_favorute_food.append('Tacos')\n",
    "print(f\"Jack favorite food: {jack_favorite_food}\")\n",
    "print(f\"My favorite food: {my_favorute_food}\") # now both are same list"
   ]
  },
  {
   "cell_type": "code",
   "execution_count": 32,
   "metadata": {},
   "outputs": [
    {
     "name": "stdout",
     "output_type": "stream",
     "text": [
      "['Black', 'Jasmine', 'Honey', 'White']\n"
     ]
    }
   ],
   "source": [
    "tea_varities = [\"Black\", \"Green\", \"Oolong\", \"White\"]\n",
    "tea_varities[1:3] = [\"Jasmine\", \"Honey\"] # replace items at index 1 and 2\n",
    "print(tea_varities) #[\"Black\", \"Jasmine\", \"Honey\", \"White\"]"
   ]
  },
  {
   "cell_type": "code",
   "execution_count": 31,
   "metadata": {},
   "outputs": [
    {
     "name": "stdout",
     "output_type": "stream",
     "text": [
      "['Black', 'Green', 'Oolong', 'White']\n",
      "['Black', 'L', 'e', 'm', 'o', 'n', 'Oolong', 'White']\n",
      "['Black', 'Lemon', 'Oolong', 'White']\n"
     ]
    }
   ],
   "source": [
    "tea_varities = [\"Black\", \"Green\", \"Oolong\", \"White\"]\n",
    "print(tea_varities)\n",
    "tea_varities[1:2] = \"Lemon\" # want to insert lemon at index 1 because 2 is exclusive\n",
    "print(tea_varities) #However, the Lemon is treated is an array and sort of destructured. If you want to insert an element at specific location using indexing syntax, you should pass an array\n",
    "tea_varities = [\"Black\", \"Green\", \"Oolong\", \"White\"]\n",
    "tea_varities[1:2] = [\"Lemon\"]\n",
    "print(tea_varities) #now lemon will be inserted at index 1"
   ]
  },
  {
   "cell_type": "code",
   "execution_count": 33,
   "metadata": {},
   "outputs": [
    {
     "name": "stdout",
     "output_type": "stream",
     "text": [
      "[]\n",
      "['Black', 'test', 'test', 'Jasmine', 'Honey', 'White']\n",
      "['Black', 'Jasmine', 'Honey', 'White']\n"
     ]
    }
   ],
   "source": [
    "print(tea_varities[1:1]) #[] because being at index 1 you are also excluding it\n",
    "tea_varities[1:1] = ['test', 'test']\n",
    "print(tea_varities) #data will be inserted at index 1 and will push the rest of the data to the right\n",
    "tea_varities[1:3]=[] #you are telling python to insert nothing at index 1 and 3\n",
    "print(tea_varities) #will remove the data at index 1 and 3"
   ]
  },
  {
   "cell_type": "markdown",
   "metadata": {},
   "source": [
    "#### List Comprehension\n"
   ]
  },
  {
   "cell_type": "markdown",
   "metadata": {},
   "source": [
    "`List Comprehension` allows you to generate a list in more concise way, that is, in one line. <br/> <br/>\n",
    "[expression `for` item `in` iterable `if` condition] <br/><br/>\n",
    "`expression`: Item that will be added to the list<br/>\n",
    "`item:` Variable that takes the value of each element in iterable (collection of element you are iterating over) manner <br/>\n",
    "`condition:` Optional part of syntax that acts filter and includes only items in the list that satisfy the condition\n"
   ]
  },
  {
   "cell_type": "markdown",
   "metadata": {},
   "source": [
    "##### Examples\n"
   ]
  },
  {
   "cell_type": "markdown",
   "metadata": {},
   "source": [
    "###### List of numbers from 0 to 9\n"
   ]
  },
  {
   "cell_type": "code",
   "execution_count": 19,
   "metadata": {},
   "outputs": [
    {
     "name": "stdout",
     "output_type": "stream",
     "text": [
      "[1, 2, 3, 4, 5, 6, 7, 8, 9]\n"
     ]
    }
   ],
   "source": [
    "numbers = [x for x in range(1,10)]\n",
    "print(numbers)"
   ]
  },
  {
   "cell_type": "markdown",
   "metadata": {},
   "source": [
    "###### List of squares\n"
   ]
  },
  {
   "cell_type": "code",
   "execution_count": 22,
   "metadata": {},
   "outputs": [
    {
     "name": "stdout",
     "output_type": "stream",
     "text": [
      "[0, 1, 4, 9, 16, 25, 36, 49, 64, 81]\n"
     ]
    }
   ],
   "source": [
    "squares: List[int] = [num ** 2 for num in range(10)]\n",
    "print(squares)"
   ]
  },
  {
   "cell_type": "markdown",
   "metadata": {},
   "source": [
    "###### List of even numbers\n"
   ]
  },
  {
   "cell_type": "code",
   "execution_count": 24,
   "metadata": {},
   "outputs": [
    {
     "name": "stdout",
     "output_type": "stream",
     "text": [
      "[0, 2, 4, 6, 8, 10, 12, 14, 16, 18]\n"
     ]
    }
   ],
   "source": [
    "even_numbers: List[int] = [x for x in range(20) if x%2==0]\n",
    "print(even_numbers)"
   ]
  },
  {
   "cell_type": "markdown",
   "metadata": {},
   "source": [
    "###### List of uppercase letters\n"
   ]
  },
  {
   "cell_type": "code",
   "execution_count": 26,
   "metadata": {},
   "outputs": [
    {
     "name": "stdout",
     "output_type": "stream",
     "text": [
      "['A', 'B', 'C', 'D']\n"
     ]
    }
   ],
   "source": [
    "letters = ['a', 'b', 'c', 'd']\n",
    "uppercase_letters: List[str] = [letter.upper() for letter in letters ]\n",
    "print(uppercase_letters)"
   ]
  },
  {
   "cell_type": "markdown",
   "metadata": {},
   "source": [
    "###### Flatten a nested list\n"
   ]
  },
  {
   "cell_type": "code",
   "execution_count": 28,
   "metadata": {},
   "outputs": [
    {
     "name": "stdout",
     "output_type": "stream",
     "text": [
      "[1, 2, 3, 4, 5, 6, 7, 8, 9]\n"
     ]
    }
   ],
   "source": [
    "nested_list = [[1, 2, 3], [4, 5, 6], [7, 8, 9]]\n",
    "flat_list: List[int] = [item for sublist in nested_list for item in sublist]\n",
    "print(flat_list)"
   ]
  },
  {
   "cell_type": "code",
   "execution_count": 30,
   "metadata": {},
   "outputs": [
    {
     "name": "stdout",
     "output_type": "stream",
     "text": [
      "['even', 1, 'even', 3, 'even', 5, 'even', 7, 'even', 9]\n"
     ]
    }
   ],
   "source": [
    "replace_even = [x if x % 2 != 0 else 'even' for x in range(10)]\n",
    "print(replace_even)"
   ]
  },
  {
   "cell_type": "code",
   "execution_count": 60,
   "metadata": {},
   "outputs": [
    {
     "name": "stdout",
     "output_type": "stream",
     "text": [
      "[0, 1, 4, 9, 16, 25, 36, 49, 64, 81]\n"
     ]
    }
   ],
   "source": [
    "squared_nums = [x**2 for x in range(10)]\n",
    "print(squared_nums)"
   ]
  },
  {
   "cell_type": "markdown",
   "metadata": {},
   "source": [
    "### Tuple\n"
   ]
  },
  {
   "cell_type": "markdown",
   "metadata": {},
   "source": [
    "`Tuple` is an immutable list in Python that this defined usin `(item, item)`\n"
   ]
  },
  {
   "cell_type": "code",
   "execution_count": 8,
   "metadata": {},
   "outputs": [
    {
     "name": "stdout",
     "output_type": "stream",
     "text": [
      "Dimension of the rectangle is: (200, 30)\n",
      "Length of the rod is 200\n",
      "Content in tuple I just created: ('Hello',)\n"
     ]
    }
   ],
   "source": [
    "dimension: Tuple[int] = (200,30)\n",
    "print(f'Dimension of the rectangle is: {dimension}')\n",
    "print(f\"Length of the rod is {dimension[0]}\") # you can access item of tuple using [] like list\n",
    "#dimension[0] = 250 # this will give type error because tuples are immutable\n",
    "\n",
    "my_tuple: Tuple['str'] = ('Hello',) # when defining a tuple with one element, you need to include a trailing \n",
    "print(f\"Content in tuple I just created: {my_tuple}\")\n"
   ]
  },
  {
   "cell_type": "markdown",
   "metadata": {},
   "source": [
    "We can also loop over all the values in tuple using `for loop`\n"
   ]
  },
  {
   "cell_type": "code",
   "execution_count": 9,
   "metadata": {},
   "outputs": [
    {
     "name": "stdout",
     "output_type": "stream",
     "text": [
      "Dimension value are\n",
      "200\n",
      "30\n"
     ]
    }
   ],
   "source": [
    "print(f'Dimension value are')\n",
    "for dim in dimension:\n",
    "    print(dim)"
   ]
  },
  {
   "cell_type": "markdown",
   "metadata": {},
   "source": [
    "We can't modify a tuple but we can assign a new tuple to variable that represents a tuple. Basically, the tuple variable is now pointing (or referring) towards new tuple instead of the previous tuple\n"
   ]
  },
  {
   "cell_type": "code",
   "execution_count": 10,
   "metadata": {},
   "outputs": [
    {
     "name": "stdout",
     "output_type": "stream",
     "text": [
      "Dimensions: (200, 10)\n",
      "New dimensions: (400, 15)\n"
     ]
    }
   ],
   "source": [
    "dimension: Tuple[int] = (200,10)\n",
    "print(f\"Dimensions: {dimension}\")\n",
    "dimension = (400,15)\n",
    "print(f\"New dimensions: {dimension}\")"
   ]
  },
  {
   "cell_type": "markdown",
   "metadata": {},
   "source": [
    "### Dictionary\n"
   ]
  },
  {
   "cell_type": "markdown",
   "metadata": {},
   "source": [
    "A `dictionary` in python is collection of `key-value` pairs. Each `key` is connected to a value, which can be accessed using a key. A key's value can be a number, string, a list, or even another dictionary.\n"
   ]
  },
  {
   "cell_type": "markdown",
   "metadata": {},
   "source": [
    "key should always of type string\n"
   ]
  },
  {
   "cell_type": "code",
   "execution_count": 4,
   "metadata": {},
   "outputs": [
    {
     "data": {
      "text/plain": [
       "{'id': 'user-1234567890',\n",
       " 'name': 'John Doe',\n",
       " 'email': 'john.doe@example.com',\n",
       " 'age': 25,\n",
       " 'active': True,\n",
       " 'education': {'bachelor': 2015, 'master': 2018}}"
      ]
     },
     "metadata": {},
     "output_type": "display_data"
    }
   ],
   "source": [
    "user: Dict[str, str] = {\n",
    "    \"id\": \"user-1234567890\",\n",
    "    \"name\": \"John Doe\",\n",
    "    \"email\": \"john.doe@example.com\",\n",
    "    \"age\":25,\n",
    "    \"active\": True,\n",
    "    \"education\":{\n",
    "        \"bachelor\":2015,\n",
    "        \"master\":2018\n",
    "    }\n",
    "\n",
    "}\n",
    "display(user)"
   ]
  },
  {
   "cell_type": "markdown",
   "metadata": {},
   "source": [
    "To get the value associated with a key, give the name of the dictionary and then place the key inside a set of square brackets\n",
    "\n",
    "`dictionary_name['key_name']`\n"
   ]
  },
  {
   "cell_type": "code",
   "execution_count": 5,
   "metadata": {},
   "outputs": [
    {
     "name": "stdout",
     "output_type": "stream",
     "text": [
      "User id: user-1234567890\n",
      "User bachelor completion year: 2015\n"
     ]
    }
   ],
   "source": [
    "print(f\"User id: {user['id']}\") #value of key can be accessed using ['key'] brackets\n",
    "print(f\"User bachelor completion year: {user['education']['bachelor']}\")"
   ]
  },
  {
   "cell_type": "markdown",
   "metadata": {},
   "source": [
    "Dictionaries are dynamic structures and you can add new-key valye pairs to a dictionary at any time\n"
   ]
  },
  {
   "cell_type": "code",
   "execution_count": 6,
   "metadata": {},
   "outputs": [
    {
     "data": {
      "text/plain": [
       "{'id': 'user-1234567890',\n",
       " 'name': 'John Doe',\n",
       " 'email': 'john.doe@example.com',\n",
       " 'age': 25,\n",
       " 'active': True,\n",
       " 'education': {'bachelor': 2015, 'master': 2018, 'PHD': 2024},\n",
       " 'joining_date': '12-07-2017'}"
      ]
     },
     "metadata": {},
     "output_type": "display_data"
    }
   ],
   "source": [
    "user['joining_date'] = '12-07-2017' # add new key joining date with value\n",
    "user['education']['PHD'] = 2024 # creates a new key in education dictionary with value 2024\n",
    "display(user)"
   ]
  },
  {
   "cell_type": "markdown",
   "metadata": {},
   "source": [
    "To modify a value in the dictionary, give the name of the dictionary with the key in square brackets and then the new value you want associated with that key\n"
   ]
  },
  {
   "cell_type": "code",
   "execution_count": 11,
   "metadata": {},
   "outputs": [
    {
     "data": {
      "text/plain": [
       "'User after name being updated: '"
      ]
     },
     "metadata": {},
     "output_type": "display_data"
    },
    {
     "data": {
      "text/plain": [
       "{'id': 'user-1234567890',\n",
       " 'name': 'Maaz',\n",
       " 'email': 'john.doe@example.com',\n",
       " 'age': 25,\n",
       " 'active': True,\n",
       " 'education': {'bachelor': 2015, 'master': 2018, 'PHD': 2024},\n",
       " 'joining_date': '12-07-2017'}"
      ]
     },
     "metadata": {},
     "output_type": "display_data"
    }
   ],
   "source": [
    "user['name'] = 'Maaz'\n",
    "display(\"User after name being updated: \", user)"
   ]
  },
  {
   "cell_type": "markdown",
   "metadata": {},
   "source": [
    "You can user `del` to completed remove a key-value pair\n"
   ]
  },
  {
   "cell_type": "code",
   "execution_count": 12,
   "metadata": {},
   "outputs": [
    {
     "data": {
      "text/plain": [
       "'User after active key is removed'"
      ]
     },
     "metadata": {},
     "output_type": "display_data"
    },
    {
     "data": {
      "text/plain": [
       "{'id': 'user-1234567890',\n",
       " 'name': 'Maaz',\n",
       " 'email': 'john.doe@example.com',\n",
       " 'age': 25,\n",
       " 'education': {'bachelor': 2015, 'master': 2018, 'PHD': 2024},\n",
       " 'joining_date': '12-07-2017'}"
      ]
     },
     "metadata": {},
     "output_type": "display_data"
    }
   ],
   "source": [
    "del user['active']\n",
    "display(\"User after active key is removed\",user)"
   ]
  },
  {
   "cell_type": "markdown",
   "metadata": {},
   "source": [
    "Using keys in square brackets to retrieve the value for a given key can cause one potential erorr. If the key doesn't exist, it will give `KeyError`\n"
   ]
  },
  {
   "cell_type": "code",
   "execution_count": 17,
   "metadata": {},
   "outputs": [
    {
     "ename": "KeyError",
     "evalue": "'country'",
     "output_type": "error",
     "traceback": [
      "\u001b[1;31m---------------------------------------------------------------------------\u001b[0m",
      "\u001b[1;31mKeyError\u001b[0m                                  Traceback (most recent call last)",
      "Cell \u001b[1;32mIn[17], line 1\u001b[0m\n\u001b[1;32m----> 1\u001b[0m \u001b[38;5;28mprint\u001b[39m(\u001b[38;5;124mf\u001b[39m\u001b[38;5;124m\"\u001b[39m\u001b[38;5;124mUser country: \u001b[39m\u001b[38;5;132;01m{\u001b[39;00m\u001b[43muser\u001b[49m\u001b[43m[\u001b[49m\u001b[38;5;124;43m'\u001b[39;49m\u001b[38;5;124;43mcountry\u001b[39;49m\u001b[38;5;124;43m'\u001b[39;49m\u001b[43m]\u001b[49m\u001b[38;5;132;01m}\u001b[39;00m\u001b[38;5;124m\"\u001b[39m)\n",
      "\u001b[1;31mKeyError\u001b[0m: 'country'"
     ]
    }
   ],
   "source": [
    "print(f\"User country: {user['country']}\")"
   ]
  },
  {
   "cell_type": "markdown",
   "metadata": {},
   "source": [
    "Using `get()` method to get the value for a key, if the key doesn't exist, a default value will be returned. If the key exists, you will get the value for that key\n"
   ]
  },
  {
   "cell_type": "code",
   "execution_count": 21,
   "metadata": {},
   "outputs": [
    {
     "name": "stdout",
     "output_type": "stream",
     "text": [
      "User country: User does not have a country key\n",
      "User age: 25\n",
      "User city: None\n"
     ]
    }
   ],
   "source": [
    "print(f\"User country: {user.get('country', 'User does not have a country key')}\")\n",
    "print(f\"User age: {user.get('age')}\")\n",
    "print(f\"User city: {user.get('city')}\") # if a default value is not provided, it will return None"
   ]
  },
  {
   "cell_type": "markdown",
   "metadata": {},
   "source": [
    "We can loop over dictionary using for loop\n"
   ]
  },
  {
   "cell_type": "code",
   "execution_count": 23,
   "metadata": {},
   "outputs": [
    {
     "data": {
      "text/plain": [
       "{'id': 'user-1234567890',\n",
       " 'name': 'Maaz',\n",
       " 'email': 'john.doe@example.com',\n",
       " 'age': 25,\n",
       " 'education': {'bachelor': 2015, 'master': 2018, 'PHD': 2024},\n",
       " 'joining_date': '12-07-2017'}"
      ]
     },
     "execution_count": 23,
     "metadata": {},
     "output_type": "execute_result"
    }
   ],
   "source": [
    "user"
   ]
  },
  {
   "cell_type": "code",
   "execution_count": 29,
   "metadata": {},
   "outputs": [
    {
     "name": "stdout",
     "output_type": "stream",
     "text": [
      "The key id has a value of:  user-1234567890\n",
      "The key name has a value of:  Maaz\n",
      "The key email has a value of:  john.doe@example.com\n",
      "The key age has a value of:  25\n",
      "The key education has a value of:  {'bachelor': 2015, 'master': 2018, 'PHD': 2024}\n",
      "The key joining_date has a value of:  12-07-2017\n"
     ]
    }
   ],
   "source": [
    "for key, value in user.items(): #key and value is example. You can change it into property, stored_value or anything you want\n",
    "    print(f\"The key {key} has a value of:  {value}\")"
   ]
  },
  {
   "cell_type": "markdown",
   "metadata": {},
   "source": [
    "You can loop through all the keys and print them\n"
   ]
  },
  {
   "cell_type": "code",
   "execution_count": 31,
   "metadata": {},
   "outputs": [
    {
     "name": "stdout",
     "output_type": "stream",
     "text": [
      "id\n",
      "name\n",
      "email\n",
      "age\n",
      "education\n",
      "joining_date\n"
     ]
    }
   ],
   "source": [
    "for key in user.keys(): #default behavior. same as for key in user:\n",
    "    print(key)"
   ]
  },
  {
   "cell_type": "markdown",
   "metadata": {},
   "source": [
    "You can loop through all values and print them\n"
   ]
  },
  {
   "cell_type": "code",
   "execution_count": 35,
   "metadata": {},
   "outputs": [
    {
     "name": "stdout",
     "output_type": "stream",
     "text": [
      "user-1234567890\n",
      "Maaz\n",
      "john.doe@example.com\n",
      "25\n",
      "{'bachelor': 2015, 'master': 2018, 'PHD': 2024}\n",
      "12-07-2017\n"
     ]
    }
   ],
   "source": [
    "for value in user.values():\n",
    "    print(value)"
   ]
  },
  {
   "cell_type": "markdown",
   "metadata": {},
   "source": [
    "Typically, the keys are returned in the same order it is stored in dictionary. However, you can sort them if you want\n"
   ]
  },
  {
   "cell_type": "code",
   "execution_count": 34,
   "metadata": {},
   "outputs": [
    {
     "name": "stdout",
     "output_type": "stream",
     "text": [
      "Keys sorted\n",
      "\n",
      "\n",
      "age => 25\n",
      "education => {'bachelor': 2015, 'master': 2018, 'PHD': 2024}\n",
      "email => john.doe@example.com\n",
      "id => user-1234567890\n",
      "joining_date => 12-07-2017\n",
      "name => Maaz\n"
     ]
    }
   ],
   "source": [
    "print(\"Keys sorted\\n\\n\")\n",
    "for key in sorted(user.keys()):\n",
    "    print(key, \"=>\", user[key])"
   ]
  },
  {
   "cell_type": "markdown",
   "metadata": {},
   "source": [
    "You can make sure that you dont get repeated keys by using for key\n"
   ]
  },
  {
   "cell_type": "code",
   "execution_count": 37,
   "metadata": {},
   "outputs": [
    {
     "name": "stdout",
     "output_type": "stream",
     "text": [
      "Unique keys\n",
      "\n",
      "age\n",
      "name\n",
      "email\n",
      "joining_date\n",
      "education\n",
      "id\n"
     ]
    }
   ],
   "source": [
    "print('Unique keys\\n')\n",
    "\n",
    "for key in set(user.keys()):\n",
    "    print(key) #we dont have any repeatitive keys so we will get same keys"
   ]
  },
  {
   "cell_type": "markdown",
   "metadata": {},
   "source": [
    "### Note\n"
   ]
  },
  {
   "cell_type": "markdown",
   "metadata": {},
   "source": [
    "When we hear about immutable and mutable, it comes to our understanding that immutable that is something that is not changed while mutable is something that is changed. <br/>\n",
    "In Python, the following are immuable:<br/>\n",
    "\n",
    "<ul>\n",
    "    <li>int</li>\n",
    "    <li>string</li>\n",
    "    <li>boolean</li>\n",
    "</ul>\n",
    "\n",
    "In Python, the following are immutable: <br/>\n",
    "\n",
    "<ul>\n",
    "    <li>list</li>\n",
    "    <li>object</li>\n",
    "</ul>\n",
    "\n",
    "However, the concept of immutable and mutable is slightly different in python. The core concept in python is that everything is an object. Consider the following example to understand the point\n"
   ]
  },
  {
   "cell_type": "markdown",
   "metadata": {},
   "source": [
    "Now we have just said that string is immutable that means username should not be changeable, but it is not correct in this case. In python, when the `username = 'Maaz'` was created, a memory called `username` was allocated in the memory space and it was pointing towards `Maaz`. This reference is immutable. Before it is changed, it will always points toward `Maaz` and you cannot delete this reference. </br>\n",
    "When username is changed to `Khan`, username refers toward it instead of Maaz. The garbage collector deletes the Maaz data and the `username` now refers toward the `Khan` <br/> <br/>\n",
    "`Another point`, if the data to collect by garbage collector is string or number, it is not immediately collected because Python tries to optimize expecting maybe the value changed maybe used in future\n"
   ]
  },
  {
   "cell_type": "markdown",
   "metadata": {},
   "source": [
    "# Functions\n"
   ]
  },
  {
   "cell_type": "markdown",
   "metadata": {},
   "source": [
    "`Function` is something that lets you do something in the program. Generally, every programming language comes with pre-defined functions that lets programmer do things it indents to do\n"
   ]
  },
  {
   "cell_type": "code",
   "execution_count": 1,
   "metadata": {},
   "outputs": [
    {
     "name": "stdout",
     "output_type": "stream",
     "text": [
      "Hello World\n"
     ]
    }
   ],
   "source": [
    "print('Hello World')"
   ]
  },
  {
   "cell_type": "markdown",
   "metadata": {},
   "source": [
    "`print()` is a pre-defined function that is provided by python programming langugage that prints the content passed to it\n"
   ]
  },
  {
   "cell_type": "markdown",
   "metadata": {},
   "source": [
    "In world of functions, `arguments` is an input to a function that somehow influences its behavior. For example, in above print function, it takes an input argument that the print function has to display\n"
   ]
  },
  {
   "cell_type": "markdown",
   "metadata": {},
   "source": [
    "Another important function is `input(message)` that is used to print message passed and take input from the user. The type of input is string unless explicitly changed.\n"
   ]
  },
  {
   "cell_type": "code",
   "execution_count": 2,
   "metadata": {},
   "outputs": [
    {
     "name": "stdout",
     "output_type": "stream",
     "text": [
      "Hello Maaz\n"
     ]
    }
   ],
   "source": [
    "name = input('What is your name'); \n",
    "print('Hello ' + name);"
   ]
  },
  {
   "cell_type": "markdown",
   "metadata": {},
   "source": [
    "Functions can return values when called. The `return` statement takes a value from inside a function and sends it back to the lin that called the function\n"
   ]
  },
  {
   "cell_type": "code",
   "execution_count": 2,
   "metadata": {},
   "outputs": [
    {
     "name": "stdout",
     "output_type": "stream",
     "text": [
      "3\n"
     ]
    }
   ],
   "source": [
    "def add(num1: int, num2: int) -> int: # function that takes two numbers and result its sum\n",
    "    '''Takes two numbers, adds them, and return their result''' #doc string. A brief description of the function\n",
    "    return num1 + num2 # function returns the sum of two numbers\n",
    "\n",
    "sum: int = add(1, 2) # the function is called and two number are passed as parameter\n",
    "print(sum) # number is displayed"
   ]
  },
  {
   "cell_type": "markdown",
   "metadata": {},
   "source": [
    "When you call a function, Python must match each argument in the function call with a parameter in the function definition. The simplest way to do is based on the order of the arguments provided. In the above example, the first value passed is automatically assign to `num1` and second value is assigned to `num2`. This is way of calling is called `positional argument`\n",
    "<br/> <br/>\n",
    "There is another way to pass arguments to function. You can explicitly assign values to the arguments of the function. This way is called `keyword argument`\n"
   ]
  },
  {
   "cell_type": "code",
   "execution_count": 4,
   "metadata": {},
   "outputs": [
    {
     "name": "stdout",
     "output_type": "stream",
     "text": [
      "11\n",
      "16\n"
     ]
    }
   ],
   "source": [
    "sum: int = add(num1=5, num2=6)\n",
    "print(sum)\n",
    "\n",
    "sum: int = add(num2=5, num1=11)\n",
    "print(sum)"
   ]
  },
  {
   "cell_type": "markdown",
   "metadata": {},
   "source": [
    "An argument can have a default value. If no value is passed for the argument, the default value is assigned to it\n"
   ]
  },
  {
   "cell_type": "code",
   "execution_count": 7,
   "metadata": {},
   "outputs": [
    {
     "name": "stdout",
     "output_type": "stream",
     "text": [
      "Hello John! You are 25 years old.\n",
      "Hello Maaz! You are 24 years old.\n"
     ]
    }
   ],
   "source": [
    "def user(name: str, age: int = 24)->str:\n",
    "    '''Function that takes a name and age of a user and return their combined result'''\n",
    "    return f\"Hello {name}! You are {age} years old.\"\n",
    "\n",
    "print(user(\"John\", 25))\n",
    "print(user('Maaz')) # default value of 24 will be assigned to age"
   ]
  },
  {
   "cell_type": "markdown",
   "metadata": {},
   "source": [
    "We can also make an argument optional. Not in tradtional sense like done in Javascript. Basically, you assign a default value to it\n"
   ]
  },
  {
   "cell_type": "code",
   "execution_count": 9,
   "metadata": {},
   "outputs": [
    {
     "name": "stdout",
     "output_type": "stream",
     "text": [
      "Maaz Ullah Khan\n",
      "Maaz  Khan\n"
     ]
    }
   ],
   "source": [
    "def full_name(first_name: str, last_name: str, middle_name: str = '')-> str:\n",
    "    '''Takes firt name, middle name, and last name from the user and returns the full name'''\n",
    "    return f\"{first_name} {middle_name} {last_name}\"\n",
    "\n",
    "print(full_name('Maaz', 'Khan', \"Ullah\"))\n",
    "print(full_name('Maaz', 'Khan')) # no value provided for middle name so it is not included"
   ]
  },
  {
   "cell_type": "code",
   "execution_count": 14,
   "metadata": {},
   "outputs": [
    {
     "name": "stdout",
     "output_type": "stream",
     "text": [
      "2.0\n",
      "2.5\n"
     ]
    }
   ],
   "source": [
    "def division(num1: float, num2: float, round_to: int = 0)->float:\n",
    "    '''Takes two number, divides them and return the result. An optional parameter `round_to` to round off the results'''\n",
    "    return round(num1/num2, round_to)\n",
    "\n",
    "print(division(5, 2))\n",
    "print(division(5, 2, 2))"
   ]
  },
  {
   "cell_type": "markdown",
   "metadata": {},
   "source": [
    "Function can return any kind of value you need it to including dictionaries and lists\n"
   ]
  },
  {
   "cell_type": "code",
   "execution_count": 3,
   "metadata": {},
   "outputs": [
    {
     "name": "stdout",
     "output_type": "stream",
     "text": [
      "{'first': 'Maaz', 'middle': 'Ullah', 'last': 'Khan'}\n",
      "{'first': 'Maaz', 'middle': '', 'last': 'Khan'}\n"
     ]
    }
   ],
   "source": [
    "def user_detail(first_name: str, last_name: str, middle_name: str = '')-> Dict:\n",
    "    '''Takes firt name, middle name, and last name from the user and returns a dictionary of'''\n",
    "    user: Dict[str, str] = {\n",
    "        'first': first_name,\n",
    "        'middle': middle_name,\n",
    "        'last': last_name\n",
    "    }\n",
    "    return user\n",
    "\n",
    "print(user_detail('Maaz', 'Khan', \"Ullah\"))\n",
    "print(user_detail('Maaz', 'Khan')) # no value provided for middle name so it is not included"
   ]
  },
  {
   "cell_type": "markdown",
   "metadata": {},
   "source": [
    "You can pass a list to function\n"
   ]
  },
  {
   "cell_type": "code",
   "execution_count": 4,
   "metadata": {},
   "outputs": [
    {
     "name": "stdout",
     "output_type": "stream",
     "text": [
      "Hello, Hannah!\n",
      "Hello, Ty!\n",
      "Hello, Margot!\n"
     ]
    }
   ],
   "source": [
    "def greet_users(names: List):\n",
    "    \"\"\"Print simple greeting to each user in the list\"\"\"\n",
    "    for name in names:\n",
    "        print(f\"Hello, {name.title()}!\")\n",
    "\n",
    "usernames = ['hannah', 'ty', 'margot']\n",
    "greet_users(usernames)"
   ]
  },
  {
   "cell_type": "markdown",
   "metadata": {},
   "source": [
    "You can also pass an aribtary number of arguments to a function. By arbitary, we mean `unlimited amount of arguments to a function`\n"
   ]
  },
  {
   "cell_type": "code",
   "execution_count": 8,
   "metadata": {},
   "outputs": [
    {
     "name": "stdout",
     "output_type": "stream",
     "text": [
      "('pepperoni',)\n",
      "('mushrooms, green peppers, extra cheese',)\n",
      "('mushrooms, green peppers, extra cheese, pepperoni',)\n"
     ]
    }
   ],
   "source": [
    "def make_pizza(*toppings):\n",
    "    \"\"\"Print the list of toppings that have been requested.\"\"\"\n",
    "    print(toppings)\n",
    "\n",
    "make_pizza('pepperoni')\n",
    "make_pizza(\"mushrooms, green peppers, extra cheese\")\n",
    "make_pizza(\"mushrooms, green peppers, extra cheese, pepperoni\")"
   ]
  },
  {
   "cell_type": "markdown",
   "metadata": {},
   "source": [
    "Sometimes you will want to accept an aribtary number of arguments but you wont know ahead of time what kind of information will be passed to the function. In such case we can write function that accepts as many key-value paris as the calling statement provides\n"
   ]
  },
  {
   "cell_type": "code",
   "execution_count": 15,
   "metadata": {},
   "outputs": [
    {
     "name": "stdout",
     "output_type": "stream",
     "text": [
      "{'first_name': 'Maaz', 'last_name': 'Khan'}\n",
      "{'age': 30, 'occupation': 'Engineer', 'first_name': 'John', 'last_name': 'Smith'}\n",
      "{'location': 'New York', 'hobby': 'painting', 'university': 'Cambridge', 'first_name': 'Alice', 'last_name': 'Johnson'}\n"
     ]
    }
   ],
   "source": [
    "def build_profile(first: str, last: str, **user_detail):\n",
    "    \"\"\"Build a dictionary containing everything about a user\"\"\"\n",
    "    user_detail['first_name'] = first\n",
    "    user_detail['last_name'] = last\n",
    "    return user_detail\n",
    "\n",
    "print(build_profile('Maaz', 'Khan'))\n",
    "print(build_profile('John', 'Smith', age=30, occupation='Engineer')) # you note that the declared arhuments are pushed backed while the arbitary arguments are added first\n",
    "print(build_profile('Alice', 'Johnson', location='New York', hobby='painting', university='Cambridge'))"
   ]
  },
  {
   "cell_type": "markdown",
   "metadata": {},
   "source": [
    "# Conditional\n"
   ]
  },
  {
   "cell_type": "markdown",
   "metadata": {},
   "source": [
    "## If conditional statements\n"
   ]
  },
  {
   "cell_type": "markdown",
   "metadata": {},
   "source": [
    "`If condition` statement takes a condition. If the condition is satisfied (true), the code statement of if condition is run else it gets skipped over <br/>\n",
    "At the heart of every if statement is an expression that can be evaluated as True or False and is called a `conditional test`. Python uses the values True and False to decide whether the code in a if statement should be executed or not.\n",
    "\n",
    "<ul>\n",
    "<li>If conditional test evaluates to True, Python executes it</li>\n",
    "<li>If conditional test evaluates to False, Python ignores it</li>\n",
    "</ul>\n"
   ]
  },
  {
   "cell_type": "markdown",
   "metadata": {},
   "source": [
    "`if conditional_test:` <br/>\n",
    "&nbsp;&nbsp;&nbsp;&nbsp;`do something`\n"
   ]
  },
  {
   "cell_type": "code",
   "execution_count": 74,
   "metadata": {},
   "outputs": [],
   "source": [
    "age: int = int(input(\"What is your age: \"))\n",
    "\n",
    "if age<18: #if the age is less than 18, run the below code\n",
    "    print(\"You are not eligible to vote\")"
   ]
  },
  {
   "cell_type": "markdown",
   "metadata": {},
   "source": [
    "Now what if I enter anything above 18. We have an `else()` statement that runs if the condition of the if statement are not satisfied. Updating, the above example\n"
   ]
  },
  {
   "cell_type": "code",
   "execution_count": 76,
   "metadata": {},
   "outputs": [
    {
     "name": "stdout",
     "output_type": "stream",
     "text": [
      "You are eligible to vote\n"
     ]
    }
   ],
   "source": [
    "age: int = int(input(\"What is your age: \"))\n",
    "\n",
    "if age<18: #if the age is less than 18, run the below code\n",
    "    print(\"You are not eligible to vote\")\n",
    "else: #if age is greater than 18, run the below print statement\n",
    "    print('You are eligible to vote')"
   ]
  },
  {
   "cell_type": "code",
   "execution_count": 11,
   "metadata": {},
   "outputs": [
    {
     "name": "stdout",
     "output_type": "stream",
     "text": [
      "Audi\n",
      "BMW\n",
      "Subaru\n",
      "Toyota\n"
     ]
    }
   ],
   "source": [
    "cars: List[str] = ['audi', 'bmw', 'subaru', 'toyota']\n",
    "\n",
    "for car in cars:\n",
    "    if car == 'bmw':\n",
    "        print(car.upper())\n",
    "    else:\n",
    "        print(car.title())"
   ]
  },
  {
   "cell_type": "markdown",
   "metadata": {},
   "source": [
    "Testing for equality is case sensitive in Python\n"
   ]
  },
  {
   "cell_type": "code",
   "execution_count": 13,
   "metadata": {},
   "outputs": [
    {
     "name": "stdout",
     "output_type": "stream",
     "text": [
      "False\n"
     ]
    }
   ],
   "source": [
    "car = 'bmw'\n",
    "print(car == 'BMW' )# false"
   ]
  },
  {
   "cell_type": "code",
   "execution_count": 28,
   "metadata": {},
   "outputs": [
    {
     "name": "stdout",
     "output_type": "stream",
     "text": [
      "Your guess was wrong. The number to guess was 7 but your number was 5\n"
     ]
    }
   ],
   "source": [
    "guess_number: int = round(random.randint(1,10))\n",
    "number: int = int(input(\"Guess the number between 1  and 10\"))\n",
    "\n",
    "if number != guess_number: # if number is not equal to guess number\n",
    "    print(F\"Your guess was wrong. The number to guess was {guess_number} but your number was {number}\")\n",
    "else:\n",
    "    print(f\"You correctly guessed the number {guess_number}\")"
   ]
  },
  {
   "cell_type": "markdown",
   "metadata": {},
   "source": [
    "We can also check multiple conditions using `and` or `or` operator\n"
   ]
  },
  {
   "cell_type": "code",
   "execution_count": 32,
   "metadata": {},
   "outputs": [
    {
     "name": "stdout",
     "output_type": "stream",
     "text": [
      "You cannot drive on highways\n"
     ]
    }
   ],
   "source": [
    "age: int = int(input('Enter your age: '));\n",
    "have_license_card: str = input('Do you have license card? Enter y for yes and n for no')\n",
    "\n",
    "if age>=18 and have_license_card == 'y': # evaluates true if both conditions are satisfied.\n",
    "                                    # If any of the condition is not satisfied, evaluate false\n",
    "    print('You can drive on highways')\n",
    "else:\n",
    "    print('You cannot drive on highways')"
   ]
  },
  {
   "cell_type": "code",
   "execution_count": 37,
   "metadata": {},
   "outputs": [
    {
     "name": "stdout",
     "output_type": "stream",
     "text": [
      "We can go for shopping\n"
     ]
    }
   ],
   "source": [
    "have_wallet: str = input('Do you have wallet with you? Enter y for yes and n for no')\n",
    "have_credit_card: str = input('Do you have credit card? Enter y for yes and n for no')\n",
    "\n",
    "if have_wallet == 'y' or have_credit_card == 'y':\n",
    "    print(\"We can go for shopping\")\n",
    "else:\n",
    "    print(\"I am too poor for shopping\")"
   ]
  },
  {
   "cell_type": "markdown",
   "metadata": {},
   "source": [
    "## if-elif-else chain\n"
   ]
  },
  {
   "cell_type": "markdown",
   "metadata": {},
   "source": [
    "Sometimes, we need to test more than two possible situation. For such situations, we user `if-elif-else` chain.\n"
   ]
  },
  {
   "cell_type": "markdown",
   "metadata": {},
   "source": [
    "`if condtion:` <br/>\n",
    "&nbsp;&nbsp;&nbsp; `do something`<br/>\n",
    "`elif condition:`<br/>\n",
    "&nbsp;&nbsp;&nbsp; `do something`<br/>\n",
    "`elif condition:`<br/>\n",
    "&nbsp;&nbsp;&nbsp; `do something`<br/>\n",
    "`else:`<br/>\n",
    "&nbsp;&nbsp;&nbsp; `do something`<br/>\n"
   ]
  },
  {
   "cell_type": "markdown",
   "metadata": {},
   "source": [
    "The flow is something like this\n",
    "\n",
    "<ul>\n",
    "    <li>Check the if condition</li>\n",
    "    <ul>\n",
    "        <li>If true, print the if statement and exit</li>\n",
    "        <li>Skip and check the next elif condition</li>\n",
    "    </ul>\n",
    "    <li>Check the elif condition</li>\n",
    "    <ul>\n",
    "        <li>If true, print the elif statement and exit</li>\n",
    "        <li>Skip and check the next elif condition</li>\n",
    "    </ul>\n",
    "    <li>Check the elif condition</li>\n",
    "    <ul>\n",
    "        <li>If true, print the elif statement and exit</li>\n",
    "        <li>Skip and check the next elif condition</li>\n",
    "    </ul>\n",
    "    <li>If no other elif statement, run the else and exit</li>\n",
    "</ul>\n"
   ]
  },
  {
   "cell_type": "code",
   "execution_count": 47,
   "metadata": {},
   "outputs": [
    {
     "name": "stdout",
     "output_type": "stream",
     "text": [
      "Your ticket price is $20\n"
     ]
    }
   ],
   "source": [
    "age: int = int(input(\"Enter your age: \"))\n",
    "if age < 4:\n",
    "    print(f\"Your ticket is free\")\n",
    "elif age > 4 and age<=18:\n",
    "    print(\"Your ticket price is $10\")\n",
    "else:\n",
    "    print(\"Your ticket price is $20\")\n"
   ]
  },
  {
   "cell_type": "markdown",
   "metadata": {},
   "source": [
    "However, `you can ommit the else condition`\n"
   ]
  },
  {
   "cell_type": "code",
   "execution_count": 50,
   "metadata": {},
   "outputs": [
    {
     "name": "stdout",
     "output_type": "stream",
     "text": [
      "Your age is 20 and the ticket price is $20\n"
     ]
    }
   ],
   "source": [
    "age: int = int(input(\"Enter your age: \"))\n",
    "if age < 4:\n",
    "    print(f\"Your age is {age} and the ticket is free\")\n",
    "elif age > 4 and age<=18:\n",
    "    print(f\"Your age is {age} and the ticket price is $10\")\n",
    "elif age >18: \n",
    "    print(f\"Your age is {age} and the ticket price is $20\")\n"
   ]
  },
  {
   "cell_type": "markdown",
   "metadata": {},
   "source": [
    "You can use if statement with lists\n"
   ]
  },
  {
   "cell_type": "code",
   "execution_count": 51,
   "metadata": {},
   "outputs": [
    {
     "name": "stdout",
     "output_type": "stream",
     "text": [
      "I like Mutton\n"
     ]
    }
   ],
   "source": [
    "food_items = ['Burger', 'Mutton', 'Pizza', 'Grilled Fish']\n",
    "if 'Mutton' in food_items:\n",
    "    print(\"I like Mutton\")"
   ]
  },
  {
   "cell_type": "markdown",
   "metadata": {},
   "source": [
    "## Problem Questions\n",
    "\n",
    "<details>\n",
    "<summary>1. Age Group Categorization\n",
    "</summary>\n",
    "Classify a person's age group: Child (< 13), Teenager (13-19), Adult (20-59), Senior (60+).\n",
    "\n",
    "</details>\n",
    "\n",
    "<details>\n",
    "<summary>2. Movie Ticket Pricing\n",
    "</summary>\n",
    "Problem: Movie tickets are priced based on age: $12 for adults (18 and over), $8 for children. Everyone gets a $2 discount on Wednesday.\n",
    "\n",
    "</details>\n",
    "\n",
    "<details>\n",
    "<summary>3. Grade Calculator\n",
    "</summary>\n",
    "Problem: Assign a letter grade based on a student's score: A (90-100), B (80-89), C (70-79), D (60-69), F (below 60).\n",
    "\n",
    "</details>\n",
    "\n",
    "<details>\n",
    "<summary>4. Fruit Ripeness Checker\n",
    "</summary>\n",
    "Problem: Determine if a fruit is ripe, overripe, or unripe based on its color. (e.g., Banana: Green - Unripe, Yellow - Ripe, Brown - Overripe)\n",
    "\n",
    "</details>\n",
    "\n",
    "<details>\n",
    "<summary>5. Weather Activity Suggestion\n",
    "</summary>\n",
    "Problem: Suggest an activity based on the weather (e.g., Sunny - Go for a walk, Rainy - Read a book, Snowy - Build a snowman).\n",
    "\n",
    "</details>\n",
    "\n",
    "<details>\n",
    "<summary>6. Transportation Mode Selection\n",
    "</summary>\n",
    "Problem: Choose a mode of transportation based on the distance (e.g., <3 km: Walk, 3-15 km: Bike, >15 km: Car).\n",
    "\n",
    "</details>\n",
    "\n",
    "<details>\n",
    "<summary>7. Coffee Customization\n",
    "</summary>\n",
    "Problem: Customize a coffee order: \"Small\", \"Medium\", or \"Large\" with an option for \"Extra shot\" of espresso.\n",
    "\n",
    "</details>\n",
    "\n",
    "<details>\n",
    "<summary>8. Password Strength Checker\n",
    "</summary>\n",
    "Problem: Check if a password is \"Weak\", \"Medium\", or \"Strong\". Criteria: < 6 chars (Weak), 6-10 chars (Medium), >10 chars (Strong).\n",
    "\n",
    "</details>\n",
    "\n",
    "<details>\n",
    "<summary>9. Leap Year Checker\n",
    "</summary>\n",
    "Problem: Determine if a year is a leap year. (Leap years are divisible by 4, but not by 100 unless also divisible by 400).\n",
    "\n",
    "</details>\n",
    "\n",
    "<details>\n",
    "<summary>10. Pet Food Recommendation\n",
    "</summary>\n",
    "Problem: Recommend a type of pet food based on the pet's species and age. (e.g., Dog: <2 years - Puppy food, Cat: >5 years - Senior cat food).\n",
    "\n",
    "</details>\n"
   ]
  },
  {
   "cell_type": "markdown",
   "metadata": {},
   "source": [
    "##### Solution 1\n"
   ]
  },
  {
   "cell_type": "code",
   "execution_count": 1,
   "metadata": {},
   "outputs": [
    {
     "name": "stdout",
     "output_type": "stream",
     "text": [
      "Adult\n"
     ]
    }
   ],
   "source": [
    "age = int(input('Enter an age'));\n",
    "if age < 13:\n",
    "    print('Child')\n",
    "elif age >= 13 and age <= 19:\n",
    "    print('Teenager')\n",
    "elif age > 19 and age <= 59:\n",
    "    print('Adult')\n",
    "else:\n",
    "    print('Senior')\n"
   ]
  },
  {
   "cell_type": "markdown",
   "metadata": {},
   "source": [
    "##### Solution 2\n"
   ]
  },
  {
   "cell_type": "code",
   "execution_count": 20,
   "metadata": {},
   "outputs": [
    {
     "name": "stdout",
     "output_type": "stream",
     "text": [
      "Ticket price is $ 12\n"
     ]
    }
   ],
   "source": [
    "day = input('What is day today? Enter full form like Monday').lower()\n",
    "age = int(input('Enter age: '))\n",
    "price = 12 if age >= 18 else 8\n",
    "\n",
    "if day == 'wednesday':\n",
    "    if age >= 18:\n",
    "        print('Ticket price is $', price-2)\n",
    "    else:\n",
    "        print('Ticket price is $', price-2)\n",
    "else:\n",
    "    if age >= 18:\n",
    "        print('Ticket price is $', price)\n",
    "    else:\n",
    "        print('Ticket price is $', price)"
   ]
  },
  {
   "cell_type": "markdown",
   "metadata": {},
   "source": [
    "##### Solution 3\n"
   ]
  },
  {
   "cell_type": "code",
   "execution_count": 23,
   "metadata": {},
   "outputs": [
    {
     "name": "stdout",
     "output_type": "stream",
     "text": [
      "Invalid score! Enter correct score\n"
     ]
    }
   ],
   "source": [
    "score = int(input('Enter your grade'))\n",
    "if score >100:\n",
    "    print('Invalid score! Enter correct score')\n",
    "elif score >= 90 or score == 100:\n",
    "    print('Grade A')\n",
    "elif score >=80:\n",
    "    print('Grade B')\n",
    "elif score >=70:\n",
    "    print('Grade C')\n",
    "elif score >=60:\n",
    "    print('Grade D')\n",
    "else:\n",
    "        print('Grade F')"
   ]
  },
  {
   "cell_type": "markdown",
   "metadata": {},
   "source": [
    "##### Solution 4\n"
   ]
  },
  {
   "cell_type": "code",
   "execution_count": 24,
   "metadata": {},
   "outputs": [
    {
     "name": "stdout",
     "output_type": "stream",
     "text": [
      "Ripe\n"
     ]
    }
   ],
   "source": [
    "fruit = input('Enter fruit to check').lower();\n",
    "color = input('Enter color of fruit').lower();\n",
    "\n",
    "if fruit == 'banana':\n",
    "    if color == 'green':\n",
    "        print('Unripe');\n",
    "    elif color == 'yellow':\n",
    "        print('Ripe');\n",
    "    elif color == 'brown':\n",
    "        print('overripe')\n",
    "    else:\n",
    "        print('Invalid color')\n"
   ]
  },
  {
   "cell_type": "markdown",
   "metadata": {},
   "source": [
    "##### Solution 5\n"
   ]
  },
  {
   "cell_type": "code",
   "execution_count": 26,
   "metadata": {},
   "outputs": [
    {
     "name": "stdout",
     "output_type": "stream",
     "text": [
      "Build a snowman\n"
     ]
    }
   ],
   "source": [
    "weather = input('Enter the weather condition').lower();\n",
    "if weather == 'sunny':\n",
    "    print('Go for a walk')\n",
    "elif weather == 'rainy':\n",
    "    print('Read a book')\n",
    "elif weather == 'snowy':\n",
    "    print('Build a snowman')\n",
    "else:\n",
    "    print('There is no such', weather, 'weather on the Earth I know of')"
   ]
  },
  {
   "cell_type": "markdown",
   "metadata": {},
   "source": [
    "# Loops\n"
   ]
  },
  {
   "cell_type": "markdown",
   "metadata": {},
   "source": [
    "#### Practice Loop Questions\n",
    "\n",
    "<details>\n",
    "<summary>\n",
    "1. Counting Positive Numbers\n",
    "</summary>\n",
    "Problem: Given a list of numbers, count how many are positive.\n",
    "\n",
    "```python\n",
    "numbers = [1, -2, 3, -4, 5, 6, -7, -8, 9, 10]\n",
    "```\n",
    "\n",
    "</details>\n",
    "\n",
    "<details>\n",
    "<summary>\n",
    "2. Sum of Even Numbers\n",
    "</summary>\n",
    "Problem: Calculate the sum of even numbers up to a given number n.\n",
    "\n",
    "</details>\n",
    "\n",
    "<details>\n",
    "<summary>\n",
    "3. Multiplication Table Printer\n",
    "</summary>\n",
    "Problem: Print the multiplication table for a given number up to 10, but skip the fifth iteration.\n",
    "\n",
    "</details>\n",
    "\n",
    "<details>\n",
    "<summary>\n",
    "4. Reverse a String\n",
    "</summary>\n",
    "Problem: Reverse a string using a loop.\n",
    "\n",
    "</details>\n",
    "\n",
    "<details>\n",
    "<summary>\n",
    "5. Find the First Non-Repeated Character\n",
    "</summary>\n",
    "Problem: Given a string, find the first non-repeated character.\n",
    "\n",
    "</details>\n",
    "\n",
    "<details>\n",
    "<summary>\n",
    "6. Factorial Calculator\n",
    "</summary>\n",
    "Problem: Compute the factorial of a number using a while loop.\n",
    "\n",
    "</details>\n",
    "\n",
    "<details>\n",
    "<summary>\n",
    "7. Validate Input\n",
    "</summary>\n",
    "Problem: Keep asking the user for input until they enter a number between 1 and 10.\n",
    "\n",
    "</details>\n",
    "\n",
    "<details>\n",
    "<summary>\n",
    "8. Prime Number Checker\n",
    "</summary>\n",
    "Problem: Check if a number is prime.\n",
    "\n",
    "</details>\n",
    "\n",
    "<details>\n",
    "<summary>\n",
    "9. List Uniqueness Checker\n",
    "</summary>\n",
    "Problem: Check if all elements in a list are unique. If a duplicate is found, exit the loop and print the duplicate.\n",
    "\n",
    "```python\n",
    "items = [\"apple\", \"banana\", \"orange\", \"apple\", \"mango\"]\n",
    "```\n",
    "\n",
    "</details>\n",
    "\n",
    "<details>\n",
    "<summary>\n",
    "10. Exponential Backoff\n",
    "</summary>\n",
    "Problem: Implement an exponential backoff strategy that doubles the wait time between retries, starting from 1 second, but stops after 5 retries.\n",
    "</details>\n"
   ]
  },
  {
   "cell_type": "markdown",
   "metadata": {},
   "source": []
  },
  {
   "cell_type": "code",
   "execution_count": null,
   "metadata": {},
   "outputs": [],
   "source": []
  }
 ],
 "metadata": {
  "kernelspec": {
   "display_name": "Python 3",
   "language": "python",
   "name": "python3"
  },
  "language_info": {
   "codemirror_mode": {
    "name": "ipython",
    "version": 3
   },
   "file_extension": ".py",
   "mimetype": "text/x-python",
   "name": "python",
   "nbconvert_exporter": "python",
   "pygments_lexer": "ipython3",
   "version": "3.12.4"
  }
 },
 "nbformat": 4,
 "nbformat_minor": 2
}
