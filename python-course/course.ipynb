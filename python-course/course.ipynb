{
 "cells": [
  {
   "cell_type": "code",
   "execution_count": 1,
   "metadata": {},
   "outputs": [],
   "source": [
    "from typing import Tuple, Dict, Set\n",
    "import math\n",
    "import random"
   ]
  },
  {
   "cell_type": "markdown",
   "metadata": {},
   "source": [
    "# 01- Basics\n"
   ]
  },
  {
   "cell_type": "code",
   "execution_count": 2,
   "metadata": {},
   "outputs": [
    {
     "name": "stdout",
     "output_type": "stream",
     "text": [
      "Hello World\n"
     ]
    }
   ],
   "source": [
    "print('Hello World')"
   ]
  },
  {
   "cell_type": "markdown",
   "metadata": {},
   "source": [
    "When we hear about immutable and mutable, it comes to our understanding that immutable that is something that is not changed while mutable is something that is changed. <br/>\n",
    "In Python, the following are immuable:<br/>\n",
    "\n",
    "<ul>\n",
    "    <li>int</li>\n",
    "    <li>string</li>\n",
    "    <li>boolean</li>\n",
    "</ul>\n",
    "\n",
    "In Python, the following are immutable: <br/>\n",
    "\n",
    "<ul>\n",
    "    <li>array</li>\n",
    "    <li>object</li>\n",
    "</ul>\n",
    "\n",
    "However, the concept of immutable and mutable is slightly different in python. The core concept in python is that everything is an object. Consider the following example to understand the point\n"
   ]
  },
  {
   "cell_type": "code",
   "execution_count": 4,
   "metadata": {},
   "outputs": [
    {
     "name": "stdout",
     "output_type": "stream",
     "text": [
      "Maaz\n",
      "Khan\n"
     ]
    }
   ],
   "source": [
    "username = 'Maaz'\n",
    "print(username)\n",
    "username = 'Khan'\n",
    "print(username)"
   ]
  },
  {
   "cell_type": "markdown",
   "metadata": {},
   "source": [
    "Now we have just said that string is immutable that means username should not be changeable, but it is not correct in this case. In python, when the `username = 'Maaz'` was created, a memory called `username` was allocated in the memory space and it was pointing towards `Maaz`. This reference is immutable. Before it is changed, it will always points toward `Maaz` and you cannot delete this reference. </br>\n",
    "When username is changed to `Khan`, username refers toward it instead of Maaz. The garbage collector deletes the Maaz data and the `username` now refers toward the `Khan` <br/> <br/>\n",
    "`Another point`, if the data to collect by garbage collector is string or number, it is not immediately collected because Python tries to optimize expecting maybe the value changed maybe used in future\n"
   ]
  },
  {
   "cell_type": "markdown",
   "metadata": {},
   "source": [
    "# Datatypes /Object types\n"
   ]
  },
  {
   "cell_type": "markdown",
   "metadata": {},
   "source": [
    "<ul>\n",
    "<b><i>Number:</i></b>\n",
    "<li>1234, 3.14 ,0b111, Decimal(), Fraction()</li>\n",
    "</ul>\n",
    "\n",
    "<ul>\n",
    "<b><i>Strings:</i></b>\n",
    "<li>'spam', \"Bob's\", b'a\\x01c', u'sp\\xc4m' (unicode characters)</li>\n",
    "</ul>\n",
    "\n",
    "<ul>\n",
    "<b><i>List:</i></b>\n",
    "<li>[1, 2, 3], [1, [2, 3]], [1, 'a', false], list(range(10))</li>\n",
    "</ul>\n",
    "\n",
    "<ul>\n",
    "<b><i>Tuple:</i></b>\n",
    "<li>(1, 'spam', 4, 'U'), tuple('spam')</li>\n",
    "</ul>\n",
    "\n",
    "<ul>\n",
    "<b><i>Dictionary:</i></b>\n",
    "<li>{'food': 'spam', 'taste':'yum'} #index doesn't start with 0 and you give index a value or name</li>\n",
    "</ul>\n",
    "\n",
    "<ul>\n",
    "<b><i>Set:</i></b>\n",
    "<li>//keeps unique values only\n",
    "set('abc'), {'a','b','c'}</li>\n",
    "</ul>\n",
    "\n",
    "<ul>\n",
    "<b><i>File:</i></b>\n",
    "<li>/open('eggs.txt'), open(r'C:\\ham.bin', 'wb')</li>\n",
    "</ul>\n",
    "\n",
    "<ul>\n",
    "<b><i>Boolean:</i></b>\n",
    "<li>True False</li>\n",
    "</ul>\n"
   ]
  },
  {
   "cell_type": "code",
   "execution_count": 5,
   "metadata": {},
   "outputs": [
    {
     "name": "stdout",
     "output_type": "stream",
     "text": [
      "12 * 12 =  144\n",
      "2.5 * 13 =  26.0\n",
      "2 power 100 =  1267650600228229401496703205376\n",
      "Pi =  3.141592653589793\n",
      "random value:  0.3768674803627954\n",
      "Random number between [1, 2, 3, 4, 5]:  1\n"
     ]
    }
   ],
   "source": [
    "print('12 * 12 = ',12*12);\n",
    "print('2.5 * 13 = ', 2.*13);\n",
    "print('2 power 100 = ', 2**100);\n",
    "print('Pi = ',math.pi);\n",
    "print('random value: ', random.random());\n",
    "print('Random number between [1, 2, 3, 4, 5]: ', random.choice([1, 2, 3, 4, 5]))"
   ]
  },
  {
   "cell_type": "code",
   "execution_count": 6,
   "metadata": {},
   "outputs": [
    {
     "name": "stdout",
     "output_type": "stream",
     "text": [
      "length of username:  4\n",
      "0 element of username:  m\n",
      "second last character of username:  a\n",
      "middle two character of username:  aa\n"
     ]
    },
    {
     "data": {
      "text/plain": [
       "'list of methods that can be used for string: '"
      ]
     },
     "metadata": {},
     "output_type": "display_data"
    },
    {
     "data": {
      "text/plain": [
       "['__add__',\n",
       " '__class__',\n",
       " '__contains__',\n",
       " '__delattr__',\n",
       " '__dir__',\n",
       " '__doc__',\n",
       " '__eq__',\n",
       " '__format__',\n",
       " '__ge__',\n",
       " '__getattribute__',\n",
       " '__getitem__',\n",
       " '__getnewargs__',\n",
       " '__getstate__',\n",
       " '__gt__',\n",
       " '__hash__',\n",
       " '__init__',\n",
       " '__init_subclass__',\n",
       " '__iter__',\n",
       " '__le__',\n",
       " '__len__',\n",
       " '__lt__',\n",
       " '__mod__',\n",
       " '__mul__',\n",
       " '__ne__',\n",
       " '__new__',\n",
       " '__reduce__',\n",
       " '__reduce_ex__',\n",
       " '__repr__',\n",
       " '__rmod__',\n",
       " '__rmul__',\n",
       " '__setattr__',\n",
       " '__sizeof__',\n",
       " '__str__',\n",
       " '__subclasshook__',\n",
       " 'capitalize',\n",
       " 'casefold',\n",
       " 'center',\n",
       " 'count',\n",
       " 'encode',\n",
       " 'endswith',\n",
       " 'expandtabs',\n",
       " 'find',\n",
       " 'format',\n",
       " 'format_map',\n",
       " 'index',\n",
       " 'isalnum',\n",
       " 'isalpha',\n",
       " 'isascii',\n",
       " 'isdecimal',\n",
       " 'isdigit',\n",
       " 'isidentifier',\n",
       " 'islower',\n",
       " 'isnumeric',\n",
       " 'isprintable',\n",
       " 'isspace',\n",
       " 'istitle',\n",
       " 'isupper',\n",
       " 'join',\n",
       " 'ljust',\n",
       " 'lower',\n",
       " 'lstrip',\n",
       " 'maketrans',\n",
       " 'partition',\n",
       " 'removeprefix',\n",
       " 'removesuffix',\n",
       " 'replace',\n",
       " 'rfind',\n",
       " 'rindex',\n",
       " 'rjust',\n",
       " 'rpartition',\n",
       " 'rsplit',\n",
       " 'rstrip',\n",
       " 'split',\n",
       " 'splitlines',\n",
       " 'startswith',\n",
       " 'strip',\n",
       " 'swapcase',\n",
       " 'title',\n",
       " 'translate',\n",
       " 'upper',\n",
       " 'zfill']"
      ]
     },
     "metadata": {},
     "output_type": "display_data"
    }
   ],
   "source": [
    "username: str = 'maaz'\n",
    "print('length of username: ', len(username))\n",
    "print('0 element of username: ', username[0]) # indicates that string is also sometimes treated as a list\n",
    "# username[0] = 'M' # this will give error because string is immutable, meaning you cannot change exisitng value\n",
    "print('second last character of username: ', username[-2])\n",
    "print('middle two character of username: ', username[1:3]) # 1 included and 3 excluded. Technically means give character at [1] and [2] but not at [3]\n",
    "display('list of methods that can be used for string: ', dir(username))\n"
   ]
  },
  {
   "cell_type": "code",
   "execution_count": 7,
   "metadata": {},
   "outputs": [
    {
     "name": "stdout",
     "output_type": "stream",
     "text": [
      "List:  [123, 'chai', 3.14]\n",
      "Length of list:  3\n",
      "Second element:  chai\n",
      "Last element:  3.14\n"
     ]
    }
   ],
   "source": [
    "my_list = [123, \"chai\", 3.14]\n",
    "print('List: ',my_list)\n",
    "print('Length of list: ', len(my_list))\n",
    "print('Second element: ', my_list[1])\n",
    "print('Last element: ', my_list[-1])"
   ]
  },
  {
   "cell_type": "code",
   "execution_count": 8,
   "metadata": {},
   "outputs": [
    {
     "name": "stdout",
     "output_type": "stream",
     "text": [
      "Dictionary:  {'one': 'lemon', 'two': 'ginger', 'comic': 'batman'}\n",
      "Keys:  dict_keys(['one', 'two', 'comic'])\n",
      "Values:  dict_values(['lemon', 'ginger', 'batman'])\n",
      "value for key two:  ginger\n"
     ]
    }
   ],
   "source": [
    "my_dict = {'one': 'lemon', 'two':'ginger', 'comic':'batman'}\n",
    "print('Dictionary: ', my_dict)\n",
    "print('Keys: ', my_dict.keys())\n",
    "print('Values: ', my_dict.values())\n",
    "print('value for key two: ', my_dict['two'])"
   ]
  },
  {
   "cell_type": "code",
   "execution_count": 9,
   "metadata": {},
   "outputs": [
    {
     "name": "stdout",
     "output_type": "stream",
     "text": [
      "Tuple:  (1, 2, 3, 4, 5)\n",
      "Length:  5\n",
      "Type:  <class 'tuple'>\n",
      "First element:  1\n"
     ]
    }
   ],
   "source": [
    "my_tuple = (1, 2, 3, 4, 5)\n",
    "print('Tuple: ', my_tuple)\n",
    "print('Length: ', len(my_tuple))\n",
    "print('Type: ', type(my_tuple))\n",
    "print('First element: ', my_tuple[0])"
   ]
  },
  {
   "cell_type": "markdown",
   "metadata": {},
   "source": [
    "There are no data types in Python. We dont assign any type to variable. <br/>\n",
    "\n",
    "`a = 5` Here a has no data type <br/>\n",
    "\n",
    "However, reference in the memory has datatype. Considering above example, `a` doesnt have type but the value `5` that it refers to has datatype assigned, which is assigned in the memory\n"
   ]
  },
  {
   "cell_type": "markdown",
   "metadata": {},
   "source": [
    "list_one = [1, 2, 3]\n",
    "list_two = list_one\n",
    "print('list one', list_one)\n",
    "print('list two', list_two)\n",
    "\n",
    "list_one = [22, 3, 4]\n",
    "print('list one after changed: ', list_one)\n",
    "print('list two after changed: ', list_two)\n",
    "\n",
    "list_one = [1, 2, 3]\n",
    "list_two = list_one\n",
    "list_one[0] = 55\n",
    "print('list one after changed: ', list_one)\n",
    "print('list two after changed: ', list_two)\n"
   ]
  },
  {
   "cell_type": "markdown",
   "metadata": {},
   "source": [
    "# Lists\n"
   ]
  },
  {
   "cell_type": "code",
   "execution_count": 10,
   "metadata": {},
   "outputs": [
    {
     "name": "stdout",
     "output_type": "stream",
     "text": [
      "['Black', 'Green', 'Oolong', 'White']\n",
      "['Black', 'L', 'e', 'm', 'o', 'n', 'Oolong', 'White']\n",
      "['Black', 'Lemon', 'Oolong', 'White']\n"
     ]
    }
   ],
   "source": [
    "tea_varities = [\"Black\", \"Green\", \"Oolong\", \"White\"]\n",
    "print(tea_varities)\n",
    "tea_varities[1:2] = \"Lemon\" # want to insert lemon at index 1 because 2 is exclusive\n",
    "print(tea_varities) #However, the Lemon is treated is an array and sort of destructured. If you want to insert an element at specific location using indexing syntax, you should pass an array\n",
    "tea_varities = [\"Black\", \"Green\", \"Oolong\", \"White\"]\n",
    "tea_varities[1:2] = [\"Lemon\"]\n",
    "print(tea_varities) #now lemon will be inserted at index 1"
   ]
  },
  {
   "cell_type": "code",
   "execution_count": 11,
   "metadata": {},
   "outputs": [
    {
     "name": "stdout",
     "output_type": "stream",
     "text": [
      "['Black', 'Jasmine', 'Honey', 'White']\n"
     ]
    }
   ],
   "source": [
    "tea_varities = [\"Black\", \"Green\", \"Oolong\", \"White\"]\n",
    "tea_varities[1:3] = [\"Jasmine\", \"Honey\"] # replace items at index 1 and 2\n",
    "print(tea_varities) #[\"Black\", \"Jasmine\", \"Honey\", \"White\"]"
   ]
  },
  {
   "cell_type": "code",
   "execution_count": 12,
   "metadata": {},
   "outputs": [
    {
     "name": "stdout",
     "output_type": "stream",
     "text": [
      "[]\n",
      "['Black', 'test', 'test', 'Jasmine', 'Honey', 'White']\n",
      "['Black', 'Jasmine', 'Honey', 'White']\n"
     ]
    }
   ],
   "source": [
    "print(tea_varities[1:1]) #[] because being at index 1 you are also excluding it\n",
    "tea_varities[1:1] = ['test', 'test']\n",
    "print(tea_varities) #data will be inserted at index 1 and will push the rest of the data to the right\n",
    "tea_varities[1:3]=[] #you are telling python to insert nothing at index 1 and 3\n",
    "print(tea_varities) #will remove the data at index 1 and 3"
   ]
  },
  {
   "cell_type": "code",
   "execution_count": 13,
   "metadata": {},
   "outputs": [
    {
     "name": "stdout",
     "output_type": "stream",
     "text": [
      "I love Jasmine\n"
     ]
    }
   ],
   "source": [
    "if \"Jasmine\" in tea_varities:\n",
    "    print(\"I love Jasmine\")"
   ]
  },
  {
   "cell_type": "code",
   "execution_count": 14,
   "metadata": {},
   "outputs": [
    {
     "name": "stdout",
     "output_type": "stream",
     "text": [
      "Tea varities after Herbal inserted in back:  ['Black', 'Jasmine', 'Honey', 'White', 'Herbal']\n",
      "Last item in the list removed:  Herbal\n",
      "Tea varities after Jasmine removed:  ['Black', 'Honey', 'White']\n",
      "Tea varities after English Breakfast inserted in position 1:  ['Black', 'English Breakfast', 'Honey', 'White']\n"
     ]
    }
   ],
   "source": [
    "tea_varities.append('Herbal')\n",
    "print('Tea varities after Herbal inserted in back: ',tea_varities)\n",
    "last_item = tea_varities.pop()\n",
    "print('Last item in the list removed: ', last_item)\n",
    "item_removed = tea_varities.remove('Jasmine')\n",
    "print('Tea varities after Jasmine removed: ',tea_varities)\n",
    "insert_item = tea_varities.insert(1, 'English Breakfast')\n",
    "print('Tea varities after English Breakfast inserted in position 1: ', tea_varities)"
   ]
  },
  {
   "cell_type": "code",
   "execution_count": 15,
   "metadata": {},
   "outputs": [
    {
     "name": "stdout",
     "output_type": "stream",
     "text": [
      "[0, 1, 4, 9, 16, 25, 36, 49, 64, 81]\n"
     ]
    }
   ],
   "source": [
    "squared_nums = [x**2 for x in range(10)]\n",
    "print(squared_nums)"
   ]
  },
  {
   "cell_type": "markdown",
   "metadata": {},
   "source": [
    "# Dictionary\n"
   ]
  },
  {
   "cell_type": "code",
   "execution_count": 16,
   "metadata": {},
   "outputs": [
    {
     "name": "stdout",
     "output_type": "stream",
     "text": [
      "Value for the key Ginger:  Zesty\n"
     ]
    }
   ],
   "source": [
    "chai_types = {'Masala':'Spicy', 'Ginger':'Zesty'}\n",
    "print('Value for the key Ginger: ', chai_types.get('Ginger'))"
   ]
  },
  {
   "cell_type": "code",
   "execution_count": 17,
   "metadata": {},
   "outputs": [
    {
     "name": "stdout",
     "output_type": "stream",
     "text": [
      "Masala\n",
      "Ginger\n"
     ]
    }
   ],
   "source": [
    "for chai in chai_types:\n",
    "    print(chai) #gives list of keys"
   ]
  },
  {
   "cell_type": "code",
   "execution_count": 18,
   "metadata": {},
   "outputs": [
    {
     "name": "stdout",
     "output_type": "stream",
     "text": [
      "Masala is Spicy\n",
      "Ginger is Zesty\n"
     ]
    }
   ],
   "source": [
    "for chai in chai_types:\n",
    "    print(chai, 'is', chai_types[chai])"
   ]
  },
  {
   "cell_type": "markdown",
   "metadata": {},
   "source": [
    "# Conditional\n"
   ]
  },
  {
   "cell_type": "markdown",
   "metadata": {},
   "source": [
    "#### Problem Questions\n",
    "\n",
    "<details>\n",
    "<summary>1. Age Group Categorization\n",
    "</summary>\n",
    "Classify a person's age group: Child (< 13), Teenager (13-19), Adult (20-59), Senior (60+).\n",
    "\n",
    "</details>\n",
    "\n",
    "<details>\n",
    "<summary>2. Movie Ticket Pricing\n",
    "</summary>\n",
    "Problem: Movie tickets are priced based on age: $12 for adults (18 and over), $8 for children. Everyone gets a $2 discount on Wednesday.\n",
    "\n",
    "</details>\n",
    "\n",
    "<details>\n",
    "<summary>3. Grade Calculator\n",
    "</summary>\n",
    "Problem: Assign a letter grade based on a student's score: A (90-100), B (80-89), C (70-79), D (60-69), F (below 60).\n",
    "\n",
    "</details>\n",
    "\n",
    "<details>\n",
    "<summary>4. Fruit Ripeness Checker\n",
    "</summary>\n",
    "Problem: Determine if a fruit is ripe, overripe, or unripe based on its color. (e.g., Banana: Green - Unripe, Yellow - Ripe, Brown - Overripe)\n",
    "\n",
    "</details>\n",
    "\n",
    "<details>\n",
    "<summary>5. Weather Activity Suggestion\n",
    "</summary>\n",
    "Problem: Suggest an activity based on the weather (e.g., Sunny - Go for a walk, Rainy - Read a book, Snowy - Build a snowman).\n",
    "\n",
    "</details>\n",
    "\n",
    "<details>\n",
    "<summary>6. Transportation Mode Selection\n",
    "</summary>\n",
    "Problem: Choose a mode of transportation based on the distance (e.g., <3 km: Walk, 3-15 km: Bike, >15 km: Car).\n",
    "\n",
    "</details>\n",
    "\n",
    "<details>\n",
    "<summary>7. Coffee Customization\n",
    "</summary>\n",
    "Problem: Customize a coffee order: \"Small\", \"Medium\", or \"Large\" with an option for \"Extra shot\" of espresso.\n",
    "\n",
    "</details>\n",
    "\n",
    "<details>\n",
    "<summary>8. Password Strength Checker\n",
    "</summary>\n",
    "Problem: Check if a password is \"Weak\", \"Medium\", or \"Strong\". Criteria: < 6 chars (Weak), 6-10 chars (Medium), >10 chars (Strong).\n",
    "\n",
    "</details>\n",
    "\n",
    "<details>\n",
    "<summary>9. Leap Year Checker\n",
    "</summary>\n",
    "Problem: Determine if a year is a leap year. (Leap years are divisible by 4, but not by 100 unless also divisible by 400).\n",
    "\n",
    "</details>\n",
    "\n",
    "<details>\n",
    "<summary>10. Pet Food Recommendation\n",
    "</summary>\n",
    "Problem: Recommend a type of pet food based on the pet's species and age. (e.g., Dog: <2 years - Puppy food, Cat: >5 years - Senior cat food).\n",
    "\n",
    "</details>\n"
   ]
  },
  {
   "cell_type": "markdown",
   "metadata": {},
   "source": [
    "##### Solution 1\n"
   ]
  },
  {
   "cell_type": "code",
   "execution_count": 19,
   "metadata": {},
   "outputs": [
    {
     "name": "stdout",
     "output_type": "stream",
     "text": [
      "Adult\n"
     ]
    }
   ],
   "source": [
    "age = int(input('Enter an age'));\n",
    "if age < 13:\n",
    "    print('Child')\n",
    "elif age >= 13 and age <= 19:\n",
    "    print('Teenager')\n",
    "elif age > 19 and age <= 59:\n",
    "    print('Adult')\n",
    "else:\n",
    "    print('Senior')\n"
   ]
  },
  {
   "cell_type": "markdown",
   "metadata": {},
   "source": [
    "##### Solution 2\n"
   ]
  },
  {
   "cell_type": "code",
   "execution_count": 20,
   "metadata": {},
   "outputs": [
    {
     "name": "stdout",
     "output_type": "stream",
     "text": [
      "Ticket price is $ 12\n"
     ]
    }
   ],
   "source": [
    "day = input('What is day today? Enter full form like Monday').lower()\n",
    "age = int(input('Enter age: '))\n",
    "price = 12 if age >= 18 else 8\n",
    "\n",
    "if day == 'wednesday':\n",
    "    if age >= 18:\n",
    "        print('Ticket price is $', price-2)\n",
    "    else:\n",
    "        print('Ticket price is $', price-2)\n",
    "else:\n",
    "    if age >= 18:\n",
    "        print('Ticket price is $', price)\n",
    "    else:\n",
    "        print('Ticket price is $', price)"
   ]
  },
  {
   "cell_type": "markdown",
   "metadata": {},
   "source": [
    "##### Solution 3\n"
   ]
  },
  {
   "cell_type": "code",
   "execution_count": 23,
   "metadata": {},
   "outputs": [
    {
     "name": "stdout",
     "output_type": "stream",
     "text": [
      "Invalid score! Enter correct score\n"
     ]
    }
   ],
   "source": [
    "score = int(input('Enter your grade'))\n",
    "if score >100:\n",
    "    print('Invalid score! Enter correct score')\n",
    "elif score >= 90 or score == 100:\n",
    "    print('Grade A')\n",
    "elif score >=80:\n",
    "    print('Grade B')\n",
    "elif score >=70:\n",
    "    print('Grade C')\n",
    "elif score >=60:\n",
    "    print('Grade D')\n",
    "else:\n",
    "        print('Grade F')"
   ]
  },
  {
   "cell_type": "markdown",
   "metadata": {},
   "source": [
    "##### Solution 4\n"
   ]
  },
  {
   "cell_type": "code",
   "execution_count": 24,
   "metadata": {},
   "outputs": [
    {
     "name": "stdout",
     "output_type": "stream",
     "text": [
      "Ripe\n"
     ]
    }
   ],
   "source": [
    "fruit = input('Enter fruit to check').lower();\n",
    "color = input('Enter color of fruit').lower();\n",
    "\n",
    "if fruit == 'banana':\n",
    "    if color == 'green':\n",
    "        print('Unripe');\n",
    "    elif color == 'yellow':\n",
    "        print('Ripe');\n",
    "    elif color == 'brown':\n",
    "        print('overripe')\n",
    "    else:\n",
    "        print('Invalid color')\n"
   ]
  },
  {
   "cell_type": "markdown",
   "metadata": {},
   "source": [
    "##### Solution 5\n"
   ]
  },
  {
   "cell_type": "code",
   "execution_count": 26,
   "metadata": {},
   "outputs": [
    {
     "name": "stdout",
     "output_type": "stream",
     "text": [
      "Build a snowman\n"
     ]
    }
   ],
   "source": [
    "weather = input('Enter the weather condition').lower();\n",
    "if weather == 'sunny':\n",
    "    print('Go for a walk')\n",
    "elif weather == 'rainy':\n",
    "    print('Read a book')\n",
    "elif weather == 'snowy':\n",
    "    print('Build a snowman')\n",
    "else:\n",
    "    print('There is no such', weather, 'weather on the Earth I know of')"
   ]
  },
  {
   "cell_type": "code",
   "execution_count": null,
   "metadata": {},
   "outputs": [],
   "source": []
  }
 ],
 "metadata": {
  "kernelspec": {
   "display_name": "Python 3",
   "language": "python",
   "name": "python3"
  },
  "language_info": {
   "codemirror_mode": {
    "name": "ipython",
    "version": 3
   },
   "file_extension": ".py",
   "mimetype": "text/x-python",
   "name": "python",
   "nbconvert_exporter": "python",
   "pygments_lexer": "ipython3",
   "version": "3.12.4"
  }
 },
 "nbformat": 4,
 "nbformat_minor": 2
}
