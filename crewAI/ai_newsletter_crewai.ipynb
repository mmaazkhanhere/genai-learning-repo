{
  "cells": [
    {
      "cell_type": "code",
      "source": [
        "!pip install --quiet langchain\n",
        "!pip install --quiet litellm\n",
        "!pip install --quiet  langchain-google-genai\n",
        "!pip install --quiet crewai crewai-tools\n",
        "!pip install --quiet beautifulsoup4"
      ],
      "metadata": {
        "id": "YAD4KFixNnay",
        "colab": {
          "base_uri": "https://localhost:8080/"
        },
        "outputId": "6a099570-cc1a-4609-fd8f-fd4b2488c1e4"
      },
      "execution_count": null,
      "outputs": [
        {
          "output_type": "stream",
          "name": "stdout",
          "text": [
            "\u001b[?25l   \u001b[90m━━━━━━━━━━━━━━━━━━━━━━━━━━━━━━━━━━━━━━━━\u001b[0m \u001b[32m0.0/6.7 MB\u001b[0m \u001b[31m?\u001b[0m eta \u001b[36m-:--:--\u001b[0m\r\u001b[2K   \u001b[91m━━━━━━━━━━━━━━━━━━━━\u001b[0m\u001b[90m╺\u001b[0m\u001b[90m━━━━━━━━━━━━━━━━━━━\u001b[0m \u001b[32m3.4/6.7 MB\u001b[0m \u001b[31m101.7 MB/s\u001b[0m eta \u001b[36m0:00:01\u001b[0m\r\u001b[2K   \u001b[91m━━━━━━━━━━━━━━━━━━━━━━━━━━━━━━━━━━━━━━━\u001b[0m\u001b[91m╸\u001b[0m \u001b[32m6.7/6.7 MB\u001b[0m \u001b[31m139.5 MB/s\u001b[0m eta \u001b[36m0:00:01\u001b[0m\r\u001b[2K   \u001b[90m━━━━━━━━━━━━━━━━━━━━━━━━━━━━━━━━━━━━━━━━\u001b[0m \u001b[32m6.7/6.7 MB\u001b[0m \u001b[31m89.2 MB/s\u001b[0m eta \u001b[36m0:00:00\u001b[0m\n",
            "\u001b[?25h\u001b[?25l   \u001b[90m━━━━━━━━━━━━━━━━━━━━━━━━━━━━━━━━━━━━━━━━\u001b[0m \u001b[32m0.0/76.4 kB\u001b[0m \u001b[31m?\u001b[0m eta \u001b[36m-:--:--\u001b[0m\r\u001b[2K   \u001b[90m━━━━━━━━━━━━━━━━━━━━━━━━━━━━━━━━━━━━━━━━\u001b[0m \u001b[32m76.4/76.4 kB\u001b[0m \u001b[31m7.1 MB/s\u001b[0m eta \u001b[36m0:00:00\u001b[0m\n",
            "\u001b[2K   \u001b[90m━━━━━━━━━━━━━━━━━━━━━━━━━━━━━━━━━━━━━━━━\u001b[0m \u001b[32m1.2/1.2 MB\u001b[0m \u001b[31m64.6 MB/s\u001b[0m eta \u001b[36m0:00:00\u001b[0m\n",
            "\u001b[2K   \u001b[90m━━━━━━━━━━━━━━━━━━━━━━━━━━━━━━━━━━━━━━━━\u001b[0m \u001b[32m41.7/41.7 kB\u001b[0m \u001b[31m2.8 MB/s\u001b[0m eta \u001b[36m0:00:00\u001b[0m\n",
            "\u001b[2K     \u001b[90m━━━━━━━━━━━━━━━━━━━━━━━━━━━━━━━━━━━━━━━━\u001b[0m \u001b[32m42.5/42.5 kB\u001b[0m \u001b[31m4.0 MB/s\u001b[0m eta \u001b[36m0:00:00\u001b[0m\n",
            "\u001b[?25h  Preparing metadata (setup.py) ... \u001b[?25l\u001b[?25hdone\n",
            "  Preparing metadata (setup.py) ... \u001b[?25l\u001b[?25hdone\n",
            "\u001b[2K     \u001b[90m━━━━━━━━━━━━━━━━━━━━━━━━━━━━━━━━━━━━━━━━\u001b[0m \u001b[32m67.3/67.3 kB\u001b[0m \u001b[31m6.5 MB/s\u001b[0m eta \u001b[36m0:00:00\u001b[0m\n",
            "\u001b[?25h  Installing build dependencies ... \u001b[?25l\u001b[?25hdone\n",
            "  Getting requirements to build wheel ... \u001b[?25l\u001b[?25hdone\n",
            "  Preparing metadata (pyproject.toml) ... \u001b[?25l\u001b[?25hdone\n",
            "\u001b[2K     \u001b[90m━━━━━━━━━━━━━━━━━━━━━━━━━━━━━━━━━━━━━━━━\u001b[0m \u001b[32m48.2/48.2 kB\u001b[0m \u001b[31m4.0 MB/s\u001b[0m eta \u001b[36m0:00:00\u001b[0m\n",
            "\u001b[2K     \u001b[90m━━━━━━━━━━━━━━━━━━━━━━━━━━━━━━━━━━━━━━━━\u001b[0m \u001b[32m66.4/66.4 kB\u001b[0m \u001b[31m5.9 MB/s\u001b[0m eta \u001b[36m0:00:00\u001b[0m\n",
            "\u001b[2K   \u001b[90m━━━━━━━━━━━━━━━━━━━━━━━━━━━━━━━━━━━━━━━━\u001b[0m \u001b[32m231.3/231.3 kB\u001b[0m \u001b[31m12.5 MB/s\u001b[0m eta \u001b[36m0:00:00\u001b[0m\n",
            "\u001b[2K   \u001b[90m━━━━━━━━━━━━━━━━━━━━━━━━━━━━━━━━━━━━━━━━\u001b[0m \u001b[32m6.6/6.6 MB\u001b[0m \u001b[31m77.0 MB/s\u001b[0m eta \u001b[36m0:00:00\u001b[0m\n",
            "\u001b[2K   \u001b[90m━━━━━━━━━━━━━━━━━━━━━━━━━━━━━━━━━━━━━━━━\u001b[0m \u001b[32m537.3/537.3 kB\u001b[0m \u001b[31m35.7 MB/s\u001b[0m eta \u001b[36m0:00:00\u001b[0m\n",
            "\u001b[2K   \u001b[90m━━━━━━━━━━━━━━━━━━━━━━━━━━━━━━━━━━━━━━━━\u001b[0m \u001b[32m131.8/131.8 kB\u001b[0m \u001b[31m12.4 MB/s\u001b[0m eta \u001b[36m0:00:00\u001b[0m\n",
            "\u001b[2K   \u001b[90m━━━━━━━━━━━━━━━━━━━━━━━━━━━━━━━━━━━━━━━━\u001b[0m \u001b[32m2.4/2.4 MB\u001b[0m \u001b[31m74.8 MB/s\u001b[0m eta \u001b[36m0:00:00\u001b[0m\n",
            "\u001b[2K   \u001b[90m━━━━━━━━━━━━━━━━━━━━━━━━━━━━━━━━━━━━━━━━\u001b[0m \u001b[32m147.8/147.8 kB\u001b[0m \u001b[31m13.3 MB/s\u001b[0m eta \u001b[36m0:00:00\u001b[0m\n",
            "\u001b[2K   \u001b[90m━━━━━━━━━━━━━━━━━━━━━━━━━━━━━━━━━━━━━━━━\u001b[0m \u001b[32m211.4/211.4 kB\u001b[0m \u001b[31m18.2 MB/s\u001b[0m eta \u001b[36m0:00:00\u001b[0m\n",
            "\u001b[2K   \u001b[90m━━━━━━━━━━━━━━━━━━━━━━━━━━━━━━━━━━━━━━━━\u001b[0m \u001b[32m628.3/628.3 kB\u001b[0m \u001b[31m41.9 MB/s\u001b[0m eta \u001b[36m0:00:00\u001b[0m\n",
            "\u001b[2K   \u001b[90m━━━━━━━━━━━━━━━━━━━━━━━━━━━━━━━━━━━━━━━━\u001b[0m \u001b[32m71.4/71.4 kB\u001b[0m \u001b[31m6.4 MB/s\u001b[0m eta \u001b[36m0:00:00\u001b[0m\n",
            "\u001b[2K   \u001b[90m━━━━━━━━━━━━━━━━━━━━━━━━━━━━━━━━━━━━━━━━\u001b[0m \u001b[32m32.2/32.2 MB\u001b[0m \u001b[31m48.7 MB/s\u001b[0m eta \u001b[36m0:00:00\u001b[0m\n",
            "\u001b[2K   \u001b[90m━━━━━━━━━━━━━━━━━━━━━━━━━━━━━━━━━━━━━━━━\u001b[0m \u001b[32m38.3/38.3 MB\u001b[0m \u001b[31m21.8 MB/s\u001b[0m eta \u001b[36m0:00:00\u001b[0m\n",
            "\u001b[2K   \u001b[90m━━━━━━━━━━━━━━━━━━━━━━━━━━━━━━━━━━━━━━━━\u001b[0m \u001b[32m64.3/64.3 kB\u001b[0m \u001b[31m6.0 MB/s\u001b[0m eta \u001b[36m0:00:00\u001b[0m\n",
            "\u001b[2K   \u001b[90m━━━━━━━━━━━━━━━━━━━━━━━━━━━━━━━━━━━━━━━━\u001b[0m \u001b[32m55.8/55.8 kB\u001b[0m \u001b[31m4.9 MB/s\u001b[0m eta \u001b[36m0:00:00\u001b[0m\n",
            "\u001b[2K   \u001b[90m━━━━━━━━━━━━━━━━━━━━━━━━━━━━━━━━━━━━━━━━\u001b[0m \u001b[32m118.1/118.1 kB\u001b[0m \u001b[31m12.0 MB/s\u001b[0m eta \u001b[36m0:00:00\u001b[0m\n",
            "\u001b[2K   \u001b[90m━━━━━━━━━━━━━━━━━━━━━━━━━━━━━━━━━━━━━━━━\u001b[0m \u001b[32m166.6/166.6 kB\u001b[0m \u001b[31m17.6 MB/s\u001b[0m eta \u001b[36m0:00:00\u001b[0m\n",
            "\u001b[2K   \u001b[90m━━━━━━━━━━━━━━━━━━━━━━━━━━━━━━━━━━━━━━━━\u001b[0m \u001b[32m59.5/59.5 kB\u001b[0m \u001b[31m6.5 MB/s\u001b[0m eta \u001b[36m0:00:00\u001b[0m\n",
            "\u001b[2K   \u001b[90m━━━━━━━━━━━━━━━━━━━━━━━━━━━━━━━━━━━━━━━━\u001b[0m \u001b[32m5.6/5.6 MB\u001b[0m \u001b[31m113.1 MB/s\u001b[0m eta \u001b[36m0:00:00\u001b[0m\n",
            "\u001b[2K   \u001b[90m━━━━━━━━━━━━━━━━━━━━━━━━━━━━━━━━━━━━━━━━\u001b[0m \u001b[32m5.6/5.6 MB\u001b[0m \u001b[31m109.6 MB/s\u001b[0m eta \u001b[36m0:00:00\u001b[0m\n",
            "\u001b[2K   \u001b[90m━━━━━━━━━━━━━━━━━━━━━━━━━━━━━━━━━━━━━━━━\u001b[0m \u001b[32m57.6/57.6 kB\u001b[0m \u001b[31m6.0 MB/s\u001b[0m eta \u001b[36m0:00:00\u001b[0m\n",
            "\u001b[2K   \u001b[90m━━━━━━━━━━━━━━━━━━━━━━━━━━━━━━━━━━━━━━━━\u001b[0m \u001b[32m756.0/756.0 kB\u001b[0m \u001b[31m52.1 MB/s\u001b[0m eta \u001b[36m0:00:00\u001b[0m\n",
            "\u001b[2K   \u001b[90m━━━━━━━━━━━━━━━━━━━━━━━━━━━━━━━━━━━━━━━━\u001b[0m \u001b[32m9.5/9.5 MB\u001b[0m \u001b[31m124.1 MB/s\u001b[0m eta \u001b[36m0:00:00\u001b[0m\n",
            "\u001b[2K   \u001b[90m━━━━━━━━━━━━━━━━━━━━━━━━━━━━━━━━━━━━━━━━\u001b[0m \u001b[32m1.6/1.6 MB\u001b[0m \u001b[31m74.1 MB/s\u001b[0m eta \u001b[36m0:00:00\u001b[0m\n",
            "\u001b[2K   \u001b[90m━━━━━━━━━━━━━━━━━━━━━━━━━━━━━━━━━━━━━━━━\u001b[0m \u001b[32m236.0/236.0 kB\u001b[0m \u001b[31m22.8 MB/s\u001b[0m eta \u001b[36m0:00:00\u001b[0m\n",
            "\u001b[2K   \u001b[90m━━━━━━━━━━━━━━━━━━━━━━━━━━━━━━━━━━━━━━━━\u001b[0m \u001b[32m16.2/16.2 MB\u001b[0m \u001b[31m100.5 MB/s\u001b[0m eta \u001b[36m0:00:00\u001b[0m\n",
            "\u001b[2K   \u001b[90m━━━━━━━━━━━━━━━━━━━━━━━━━━━━━━━━━━━━━━━━\u001b[0m \u001b[32m330.4/330.4 kB\u001b[0m \u001b[31m29.7 MB/s\u001b[0m eta \u001b[36m0:00:00\u001b[0m\n",
            "\u001b[2K   \u001b[90m━━━━━━━━━━━━━━━━━━━━━━━━━━━━━━━━━━━━━━━━\u001b[0m \u001b[32m43.5/43.5 kB\u001b[0m \u001b[31m4.2 MB/s\u001b[0m eta \u001b[36m0:00:00\u001b[0m\n",
            "\u001b[2K   \u001b[90m━━━━━━━━━━━━━━━━━━━━━━━━━━━━━━━━━━━━━━━━\u001b[0m \u001b[32m233.6/233.6 kB\u001b[0m \u001b[31m21.2 MB/s\u001b[0m eta \u001b[36m0:00:00\u001b[0m\n",
            "\u001b[2K   \u001b[90m━━━━━━━━━━━━━━━━━━━━━━━━━━━━━━━━━━━━━━━━\u001b[0m \u001b[32m223.8/223.8 kB\u001b[0m \u001b[31m20.6 MB/s\u001b[0m eta \u001b[36m0:00:00\u001b[0m\n",
            "\u001b[2K   \u001b[90m━━━━━━━━━━━━━━━━━━━━━━━━━━━━━━━━━━━━━━━━\u001b[0m \u001b[32m278.6/278.6 kB\u001b[0m \u001b[31m25.2 MB/s\u001b[0m eta \u001b[36m0:00:00\u001b[0m\n",
            "\u001b[2K   \u001b[90m━━━━━━━━━━━━━━━━━━━━━━━━━━━━━━━━━━━━━━━━\u001b[0m \u001b[32m252.5/252.5 kB\u001b[0m \u001b[31m22.3 MB/s\u001b[0m eta \u001b[36m0:00:00\u001b[0m\n",
            "\u001b[2K   \u001b[90m━━━━━━━━━━━━━━━━━━━━━━━━━━━━━━━━━━━━━━━━\u001b[0m \u001b[32m94.8/94.8 kB\u001b[0m \u001b[31m9.7 MB/s\u001b[0m eta \u001b[36m0:00:00\u001b[0m\n",
            "\u001b[2K   \u001b[90m━━━━━━━━━━━━━━━━━━━━━━━━━━━━━━━━━━━━━━━━\u001b[0m \u001b[32m131.6/131.6 kB\u001b[0m \u001b[31m13.8 MB/s\u001b[0m eta \u001b[36m0:00:00\u001b[0m\n",
            "\u001b[2K   \u001b[90m━━━━━━━━━━━━━━━━━━━━━━━━━━━━━━━━━━━━━━━━\u001b[0m \u001b[32m5.9/5.9 MB\u001b[0m \u001b[31m106.3 MB/s\u001b[0m eta \u001b[36m0:00:00\u001b[0m\n",
            "\u001b[2K   \u001b[90m━━━━━━━━━━━━━━━━━━━━━━━━━━━━━━━━━━━━━━━━\u001b[0m \u001b[32m2.5/2.5 MB\u001b[0m \u001b[31m89.4 MB/s\u001b[0m eta \u001b[36m0:00:00\u001b[0m\n",
            "\u001b[2K   \u001b[90m━━━━━━━━━━━━━━━━━━━━━━━━━━━━━━━━━━━━━━━━\u001b[0m \u001b[32m2.0/2.0 MB\u001b[0m \u001b[31m85.0 MB/s\u001b[0m eta \u001b[36m0:00:00\u001b[0m\n",
            "\u001b[2K   \u001b[90m━━━━━━━━━━━━━━━━━━━━━━━━━━━━━━━━━━━━━━━━\u001b[0m \u001b[32m45.1/45.1 kB\u001b[0m \u001b[31m4.7 MB/s\u001b[0m eta \u001b[36m0:00:00\u001b[0m\n",
            "\u001b[2K   \u001b[90m━━━━━━━━━━━━━━━━━━━━━━━━━━━━━━━━━━━━━━━━\u001b[0m \u001b[32m2.5/2.5 MB\u001b[0m \u001b[31m89.4 MB/s\u001b[0m eta \u001b[36m0:00:00\u001b[0m\n",
            "\u001b[2K   \u001b[90m━━━━━━━━━━━━━━━━━━━━━━━━━━━━━━━━━━━━━━━━\u001b[0m \u001b[32m50.9/50.9 kB\u001b[0m \u001b[31m5.0 MB/s\u001b[0m eta \u001b[36m0:00:00\u001b[0m\n",
            "\u001b[2K   \u001b[90m━━━━━━━━━━━━━━━━━━━━━━━━━━━━━━━━━━━━━━━━\u001b[0m \u001b[32m311.8/311.8 kB\u001b[0m \u001b[31m29.6 MB/s\u001b[0m eta \u001b[36m0:00:00\u001b[0m\n",
            "\u001b[2K   \u001b[90m━━━━━━━━━━━━━━━━━━━━━━━━━━━━━━━━━━━━━━━━\u001b[0m \u001b[32m91.3/91.3 kB\u001b[0m \u001b[31m10.3 MB/s\u001b[0m eta \u001b[36m0:00:00\u001b[0m\n",
            "\u001b[2K   \u001b[90m━━━━━━━━━━━━━━━━━━━━━━━━━━━━━━━━━━━━━━━━\u001b[0m \u001b[32m101.6/101.6 kB\u001b[0m \u001b[31m10.6 MB/s\u001b[0m eta \u001b[36m0:00:00\u001b[0m\n",
            "\u001b[2K   \u001b[90m━━━━━━━━━━━━━━━━━━━━━━━━━━━━━━━━━━━━━━━━\u001b[0m \u001b[32m13.3/13.3 MB\u001b[0m \u001b[31m19.8 MB/s\u001b[0m eta \u001b[36m0:00:00\u001b[0m\n",
            "\u001b[2K   \u001b[90m━━━━━━━━━━━━━━━━━━━━━━━━━━━━━━━━━━━━━━━━\u001b[0m \u001b[32m71.0/71.0 kB\u001b[0m \u001b[31m6.9 MB/s\u001b[0m eta \u001b[36m0:00:00\u001b[0m\n",
            "\u001b[2K   \u001b[90m━━━━━━━━━━━━━━━━━━━━━━━━━━━━━━━━━━━━━━━━\u001b[0m \u001b[32m298.7/298.7 kB\u001b[0m \u001b[31m27.6 MB/s\u001b[0m eta \u001b[36m0:00:00\u001b[0m\n",
            "\u001b[2K   \u001b[90m━━━━━━━━━━━━━━━━━━━━━━━━━━━━━━━━━━━━━━━━\u001b[0m \u001b[32m2.9/2.9 MB\u001b[0m \u001b[31m90.4 MB/s\u001b[0m eta \u001b[36m0:00:00\u001b[0m\n",
            "\u001b[2K   \u001b[90m━━━━━━━━━━━━━━━━━━━━━━━━━━━━━━━━━━━━━━━━\u001b[0m \u001b[32m71.1/71.1 kB\u001b[0m \u001b[31m7.2 MB/s\u001b[0m eta \u001b[36m0:00:00\u001b[0m\n",
            "\u001b[2K   \u001b[90m━━━━━━━━━━━━━━━━━━━━━━━━━━━━━━━━━━━━━━━━\u001b[0m \u001b[32m1.1/1.1 MB\u001b[0m \u001b[31m61.7 MB/s\u001b[0m eta \u001b[36m0:00:00\u001b[0m\n",
            "\u001b[2K   \u001b[90m━━━━━━━━━━━━━━━━━━━━━━━━━━━━━━━━━━━━━━━━\u001b[0m \u001b[32m3.0/3.0 MB\u001b[0m \u001b[31m97.1 MB/s\u001b[0m eta \u001b[36m0:00:00\u001b[0m\n",
            "\u001b[2K   \u001b[90m━━━━━━━━━━━━━━━━━━━━━━━━━━━━━━━━━━━━━━━━\u001b[0m \u001b[32m486.3/486.3 kB\u001b[0m \u001b[31m39.9 MB/s\u001b[0m eta \u001b[36m0:00:00\u001b[0m\n",
            "\u001b[2K   \u001b[90m━━━━━━━━━━━━━━━━━━━━━━━━━━━━━━━━━━━━━━━━\u001b[0m \u001b[32m62.3/62.3 kB\u001b[0m \u001b[31m6.4 MB/s\u001b[0m eta \u001b[36m0:00:00\u001b[0m\n",
            "\u001b[2K   \u001b[90m━━━━━━━━━━━━━━━━━━━━━━━━━━━━━━━━━━━━━━━━\u001b[0m \u001b[32m119.2/119.2 kB\u001b[0m \u001b[31m12.1 MB/s\u001b[0m eta \u001b[36m0:00:00\u001b[0m\n",
            "\u001b[2K   \u001b[90m━━━━━━━━━━━━━━━━━━━━━━━━━━━━━━━━━━━━━━━━\u001b[0m \u001b[32m3.3/3.3 MB\u001b[0m \u001b[31m100.6 MB/s\u001b[0m eta \u001b[36m0:00:00\u001b[0m\n",
            "\u001b[2K   \u001b[90m━━━━━━━━━━━━━━━━━━━━━━━━━━━━━━━━━━━━━━━━\u001b[0m \u001b[32m459.8/459.8 kB\u001b[0m \u001b[31m41.1 MB/s\u001b[0m eta \u001b[36m0:00:00\u001b[0m\n",
            "\u001b[2K   \u001b[90m━━━━━━━━━━━━━━━━━━━━━━━━━━━━━━━━━━━━━━━━\u001b[0m \u001b[32m1.6/1.6 MB\u001b[0m \u001b[31m75.8 MB/s\u001b[0m eta \u001b[36m0:00:00\u001b[0m\n",
            "\u001b[2K   \u001b[90m━━━━━━━━━━━━━━━━━━━━━━━━━━━━━━━━━━━━━━━━\u001b[0m \u001b[32m209.2/209.2 kB\u001b[0m \u001b[31m19.1 MB/s\u001b[0m eta \u001b[36m0:00:00\u001b[0m\n",
            "\u001b[2K   \u001b[90m━━━━━━━━━━━━━━━━━━━━━━━━━━━━━━━━━━━━━━━━\u001b[0m \u001b[32m319.7/319.7 kB\u001b[0m \u001b[31m26.9 MB/s\u001b[0m eta \u001b[36m0:00:00\u001b[0m\n",
            "\u001b[2K   \u001b[90m━━━━━━━━━━━━━━━━━━━━━━━━━━━━━━━━━━━━━━━━\u001b[0m \u001b[32m306.6/306.6 kB\u001b[0m \u001b[31m28.3 MB/s\u001b[0m eta \u001b[36m0:00:00\u001b[0m\n",
            "\u001b[2K   \u001b[90m━━━━━━━━━━━━━━━━━━━━━━━━━━━━━━━━━━━━━━━━\u001b[0m \u001b[32m71.5/71.5 kB\u001b[0m \u001b[31m7.8 MB/s\u001b[0m eta \u001b[36m0:00:00\u001b[0m\n",
            "\u001b[2K   \u001b[90m━━━━━━━━━━━━━━━━━━━━━━━━━━━━━━━━━━━━━━━━\u001b[0m \u001b[32m4.0/4.0 MB\u001b[0m \u001b[31m111.0 MB/s\u001b[0m eta \u001b[36m0:00:00\u001b[0m\n",
            "\u001b[2K   \u001b[90m━━━━━━━━━━━━━━━━━━━━━━━━━━━━━━━━━━━━━━━━\u001b[0m \u001b[32m452.6/452.6 kB\u001b[0m \u001b[31m38.0 MB/s\u001b[0m eta \u001b[36m0:00:00\u001b[0m\n",
            "\u001b[2K   \u001b[90m━━━━━━━━━━━━━━━━━━━━━━━━━━━━━━━━━━━━━━━━\u001b[0m \u001b[32m46.0/46.0 kB\u001b[0m \u001b[31m3.7 MB/s\u001b[0m eta \u001b[36m0:00:00\u001b[0m\n",
            "\u001b[2K   \u001b[90m━━━━━━━━━━━━━━━━━━━━━━━━━━━━━━━━━━━━━━━━\u001b[0m \u001b[32m78.6/78.6 kB\u001b[0m \u001b[31m8.1 MB/s\u001b[0m eta \u001b[36m0:00:00\u001b[0m\n",
            "\u001b[2K   \u001b[90m━━━━━━━━━━━━━━━━━━━━━━━━━━━━━━━━━━━━━━━━\u001b[0m \u001b[32m2.5/2.5 MB\u001b[0m \u001b[31m97.1 MB/s\u001b[0m eta \u001b[36m0:00:00\u001b[0m\n",
            "\u001b[2K   \u001b[90m━━━━━━━━━━━━━━━━━━━━━━━━━━━━━━━━━━━━━━━━\u001b[0m \u001b[32m105.0/105.0 kB\u001b[0m \u001b[31m11.1 MB/s\u001b[0m eta \u001b[36m0:00:00\u001b[0m\n",
            "\u001b[2K   \u001b[90m━━━━━━━━━━━━━━━━━━━━━━━━━━━━━━━━━━━━━━━━\u001b[0m \u001b[32m86.8/86.8 kB\u001b[0m \u001b[31m9.0 MB/s\u001b[0m eta \u001b[36m0:00:00\u001b[0m\n",
            "\u001b[2K   \u001b[90m━━━━━━━━━━━━━━━━━━━━━━━━━━━━━━━━━━━━━━━━\u001b[0m \u001b[32m50.8/50.8 kB\u001b[0m \u001b[31m4.9 MB/s\u001b[0m eta \u001b[36m0:00:00\u001b[0m\n",
            "\u001b[2K   \u001b[90m━━━━━━━━━━━━━━━━━━━━━━━━━━━━━━━━━━━━━━━━\u001b[0m \u001b[32m57.5/57.5 kB\u001b[0m \u001b[31m5.6 MB/s\u001b[0m eta \u001b[36m0:00:00\u001b[0m\n",
            "\u001b[?25h  Building wheel for docx2txt (setup.py) ... \u001b[?25l\u001b[?25hdone\n",
            "  Building wheel for spider-client (setup.py) ... \u001b[?25l\u001b[?25hdone\n",
            "  Building wheel for pypika (pyproject.toml) ... \u001b[?25l\u001b[?25hdone\n",
            "\u001b[31mERROR: pip's dependency resolver does not currently take into account all the packages that are installed. This behaviour is the source of the following dependency conflicts.\n",
            "transformers 4.47.1 requires tokenizers<0.22,>=0.21, but you have tokenizers 0.20.3 which is incompatible.\n",
            "tensorflow 2.17.1 requires protobuf!=4.21.0,!=4.21.1,!=4.21.2,!=4.21.3,!=4.21.4,!=4.21.5,<5.0.0dev,>=3.20.3, but you have protobuf 5.29.3 which is incompatible.\u001b[0m\u001b[31m\n",
            "\u001b[0m"
          ]
        }
      ]
    },
    {
      "cell_type": "code",
      "source": [
        "from crewai import Agent, Task, Crew, Process, LLM\n",
        "from datetime import datetime\n",
        "import requests\n",
        "import json\n",
        "from litellm import completion\n",
        "import os\n",
        "\n",
        "from google.colab import userdata\n",
        "from langchain_google_genai import ChatGoogleGenerativeAI\n",
        "from langchain.tools import tool"
      ],
      "metadata": {
        "id": "oMlpnZRnOPfu"
      },
      "execution_count": null,
      "outputs": []
    },
    {
      "cell_type": "code",
      "source": [
        "google_api_key = userdata.get('GOOGLE_API_KEY')\n",
        "# llm = ChatGoogleGenerativeAI(model='gemini-1.5-flash',\n",
        "#                                api_key=google_api_key,\n",
        "#                                temperature=0.5)\n",
        "# llm.invoke('2+2').content\n",
        "os.environ[\"GEMINI_API_KEY\"] = userdata.get('GOOGLE_API_KEY')\n",
        "\n",
        "llm = LLM(\n",
        "    model=\"gemini/gemini-1.5-flash\",\n",
        "    temperature=0.7,\n",
        ")\n"
      ],
      "metadata": {
        "id": "fx0zBxbJ0utm"
      },
      "execution_count": null,
      "outputs": []
    },
    {
      "cell_type": "code",
      "source": [
        "class AINewsLetterAgent():\n",
        "  def editor_agent(self):\n",
        "    return Agent(\n",
        "        role='Editor',\n",
        "        goal='Oversee the creation of the AI Newsletter',\n",
        "        backstory='With a keen eye for detail and passion for storytelling. you \\\n",
        "        ensure that the newsletter not only informs but also engages and inspires \\\n",
        "        the readers',\n",
        "        allow_delegation=True,\n",
        "        verbose=True,\n",
        "        max_iter=15, # ensure that it doesn't goes in endless loop to write newsletter\n",
        "        llm=llm\n",
        "    )\n",
        "\n",
        "  def news_fetcher_agent(self):\n",
        "    return Agent(\n",
        "        role='News Fetcher',\n",
        "        goal='Fetch the top AI news stories for the day',\n",
        "        backstory='As a digital sleuth, you scoure internet for the latest and most \\\n",
        "        impactful developments in the world of AI, ensuring that our readers \\\n",
        "        are always in the know.',\n",
        "        tools=[SearchTool.search_internet],\n",
        "        verbose=True,\n",
        "        allow_delegation=True,\n",
        "        llm=llm\n",
        "    )\n",
        "\n",
        "  def news_analyzer_agent(self):\n",
        "    return Agent(\n",
        "        role='News Analyzer',\n",
        "        goal='Analyze each new story and generate a detailed markdown summary',\n",
        "        backstory='With a critical eye and a knack for distilling complex information \\\n",
        "        you analyses of AI news stories, making them accessible and engagin for\\\n",
        "        audience.',\n",
        "        tools=[SearchTool.search_internet],\n",
        "        verbose=True,\n",
        "        allow_delegation=True,\n",
        "        llm=llm\n",
        "    )\n",
        "\n",
        "  def news_letter_compiler_agent(self):\n",
        "    return Agent(\n",
        "        role=\"Newsletter Compiler\",\n",
        "        goal=\"Compile the analyzed news stories into a final newsletter format\",\n",
        "        backstory=\"As the final architect of the newsletter, you meticulously\\\n",
        "        arrange and ensure a coherent and visually appealing presentation that \\\n",
        "        captivates our reader. Ensure newsletter format guidelines and maintain \\\n",
        "        consistency throughout\",\n",
        "        verbose=True,\n",
        "        llm=llm\n",
        "    )"
      ],
      "metadata": {
        "id": "rg9XCd-KOcMz"
      },
      "execution_count": null,
      "outputs": []
    },
    {
      "cell_type": "code",
      "source": [
        "class AINewsLetterTasks():\n",
        "  def fetch_news_task(self, agent):\n",
        "    return Task(\n",
        "        description=f\"Fetch top AI news stories from the past 24 hours. The current \\\n",
        "        time is {datetime.now()}\",\n",
        "        agent=agent,\n",
        "        async_execution=True,\n",
        "        expected_output=\"\"\"A list of top AI news story titles, URLs, and a brief\n",
        "        summary for each story from them\n",
        "        Expected Output:\n",
        "        [\n",
        "          {'title': 'AI takes spotlight in Super Bowl Commercials',\n",
        "          'url': 'https://example.com/story1',\n",
        "          'summary': 'AI made a splash in this year\\'s Super Bowl commercials..'\n",
        "          },\n",
        "          {(...)}\n",
        "        ]\n",
        "\n",
        "        \"\"\"\n",
        "    )\n",
        "\n",
        "  def analyze_news_task(self, agent, context):\n",
        "    return Task(\n",
        "        description=\"Analyze each news story and generate ensure there are at least \\\n",
        "        5 well formated articles\",\n",
        "        agent=agent,\n",
        "        context=context,\n",
        "        expected_output=\"\"\" A markdown-formatted analysis for each news story, including\\\n",
        "        a rundown, detailed bullet points and a 'Why it matters' section. There should \\\n",
        "        be atleast 5 articles, each following the proper format.\n",
        "        Example output:\n",
        "        ## AI takes spotlight in Super Bowl commercials \\n\\n\n",
        "        ** The Rundown:\n",
        "        ** AI made a splash in this year\\'s Superbowl commercials... \\n\\n\n",
        "        ** The details: ** \\n\\n\n",
        "        - Microsoft\\'s Copilot spot showcased its AI assistant ... \\n\\n\n",
        "        **Why it matters:** While AI-related ads have been rampant over the last year \\n,\n",
        "        its Super Bowl presence ...\n",
        "        \"\"\",\n",
        "    )\n",
        "\n",
        "  def compile_newsletter_task(self, agent, context, call_back_function):\n",
        "    return Task(\n",
        "        description=\"Compile the analyzed news letter\",\n",
        "        agent=agent,\n",
        "        context=context,\n",
        "        expected_output=\"\"\"A complete newsletter in markdown format, with a consistent \\\n",
        "        style and layout. Example output:\n",
        "        # Top stories in AI today: \\\\n \\\\n\n",
        "        - AI takes spotlight in Super Bowl Commercials \\\\n\n",
        "        - Altman seeks triilions for global AI chip initiative \\\\n \\\\n\n",
        "\n",
        "        ## AI takes spotlight in Super Bowl commercials \\\\n \\\\n\n",
        "        ** The Rundown: ** \\\\n \\\\n\n",
        "        ** Why it matters:: ** ... \\\\n \\\\n\n",
        "        ## Altman seeks trillions for global AI chip initiative \\\\n \\\\n\n",
        "        ** The Rundown: ** \\\\n \\\\n\n",
        "        ** Why it matters:: ** ... \\\\n \\\\n\n",
        "        \"\"\",\n",
        "        call_back_function=call_back_function,\n",
        "        )"
      ],
      "metadata": {
        "id": "_jZvTDU6W9ey"
      },
      "execution_count": null,
      "outputs": []
    },
    {
      "cell_type": "code",
      "source": [
        "serper_api_key = userdata.get('SERPER_API_KEY')\n",
        "\n",
        "class SearchTool():\n",
        "  @tool(\"Search the internet\")\n",
        "  def search_internet(query):\n",
        "    \"\"\"Useful to search the internet about a given topic and return relevant results\"\"\"\n",
        "    print(\"Searching the internet\")\n",
        "    top_result_to_return = 5\n",
        "    url = \"https://google.serper.dev/search\"\n",
        "    payload = json.dumps(\n",
        "        {\n",
        "            \"q\": query,\n",
        "            \"num\": top_result_to_return,\n",
        "            \"tbm\": \"nws\"\n",
        "        }\n",
        "    )\n",
        "    headers = {\n",
        "        'X-API-KEY': serper_api_key,\n",
        "        'Content-Type': 'application/json'\n",
        "    }\n",
        "    response = requests.request(\"POST\", url, headers=headers, data=payload)\n",
        "    if 'organic' not in response.json():\n",
        "      return \"Sorry I couldn't find anything about that, there could be an error \\\n",
        "      with your serper api key.\"\n",
        "    else:\n",
        "      results = response.json()['organic']\n",
        "      string = []\n",
        "      print(f\"Results: {results[:top_result_to_return]}\")\n",
        "      for result in results[:top_result_to_return]:\n",
        "        try:\n",
        "          data = result.get('date', 'Date not available')\n",
        "          string.append('\\n'.join([\n",
        "                        f'Title: {result[\"title\"]}',\n",
        "                        f'Link: {result[\"link\"]}',\n",
        "                        f'Snippet: {result[\"snippet\"]}',\n",
        "                        f'Date: {data}',\n",
        "                        \"\\n----------------------------\",\n",
        "                    ]))\n",
        "        except:\n",
        "          print(\"error\")\n",
        "      return '\\n'.join(string)"
      ],
      "metadata": {
        "id": "S0bailXl1Swt"
      },
      "execution_count": null,
      "outputs": []
    },
    {
      "cell_type": "code",
      "source": [
        "def save_markdown(task_output):\n",
        "  today_date = datetime.now().strftime(\"%Y-%m-%d\")\n",
        "  filename = f\"{today_date}.md\"\n",
        "  with open(filename, \"w\") as f:\n",
        "    f.write(task_output.result)\n",
        "  print(f\"Saved markdown file: {filename}\")\n"
      ],
      "metadata": {
        "id": "YQmfTzwq9ZUJ"
      },
      "execution_count": null,
      "outputs": []
    },
    {
      "cell_type": "code",
      "source": [
        "agents = AINewsLetterAgent()\n",
        "tasks = AINewsLetterTasks()\n",
        "\n",
        "# setting up agents\n",
        "editor = agents.editor_agent()\n",
        "news_fetcher = agents.news_fetcher_agent()\n",
        "news_analyzer = agents.news_analyzer_agent()\n",
        "newsletter_compiler = agents.news_letter_compiler_agent()\n",
        "\n",
        "fetch_news_task = tasks.fetch_news_task(news_fetcher)\n",
        "analyze_news_task = tasks.analyze_news_task(agent=news_analyzer, context=[fetch_news_task])\n",
        "compiled_newsletter_task = tasks.compile_newsletter_task(agent=newsletter_compiler, context=[analyze_news_task], call_back_function=save_markdown)\n",
        "crew = Crew(\n",
        "    agents=[editor, news_fetcher, news_analyzer, newsletter_compiler],\n",
        "    tasks=[fetch_news_task, analyze_news_task, compiled_newsletter_task],\n",
        "    process=Process.hierarchical,\n",
        "    manager_llm=llm,\n",
        "    verbose=True,\n",
        ")\n",
        "\n",
        "results = crew.kickoff()\n",
        "print(f\"Crew work results: {results}\")"
      ],
      "metadata": {
        "id": "GUrkSaBzmYZD"
      },
      "execution_count": null,
      "outputs": []
    },
    {
      "cell_type": "code",
      "source": [
        "results.raw"
      ],
      "metadata": {
        "id": "OfFyZZXfy-6u",
        "colab": {
          "base_uri": "https://localhost:8080/",
          "height": 140
        },
        "outputId": "3a3b6193-acdc-4c5a-bf9c-1bc49270682c"
      },
      "execution_count": null,
      "outputs": [
        {
          "output_type": "execute_result",
          "data": {
            "text/plain": [
              "\"# Top Stories in AI Today:\\n\\n- AI-Powered Drug Discovery Breakthrough\\n- Concerns Rise Over AI-Generated Deepfakes\\n- AI Bias in Hiring Algorithms Under Scrutiny\\n- EU Parliament Votes on New AI Regulations\\n- Microsoft Integrates AI Across its Product Suite\\n\\n\\n## AI-Powered Drug Discovery Breakthrough\\n\\n**The Rundown:** A research team announced a significant advancement in AI-powered drug discovery, identifying a potential treatment for a rare genetic disease.\\n\\n**The Details:**\\n\\n* Researchers utilized a novel deep learning model to analyze vast datasets of genomic information and molecular structures.\\n* The AI identified a previously unknown molecule with high efficacy against the target disease.\\n* Pre-clinical trials are underway to validate the AI's findings.\\n\\n**Why it matters:** This showcases the growing potential of AI to accelerate and revolutionize the drug discovery process, potentially leading to faster development of life-saving treatments.\\n\\n\\n## Concerns Rise Over AI-Generated Deepfakes\\n\\n**The Rundown:** A new report highlights the increasing sophistication and ease of creating realistic deepfake videos, raising concerns about their potential misuse in misinformation campaigns.\\n\\n**The Details:**\\n\\n* Advances in generative AI models allow for the creation of increasingly convincing deepfakes, even with limited training data.\\n* Experts warn of the potential for deepfakes to be used to damage reputations, spread propaganda, and undermine public trust.\\n* Discussions are underway regarding the need for stricter regulations and improved detection technologies.\\n\\n**Why it matters:** The proliferation of deepfakes poses a significant threat to societal trust and stability. The development of effective countermeasures is crucial.\\n\\n\\n## AI Bias in Hiring Algorithms Under Scrutiny\\n\\n**The Rundown:** A study revealed significant bias in AI-powered hiring algorithms, disproportionately favoring certain demographic groups over others.\\n\\n**The Details:**\\n\\n* The study analyzed data from several major companies using AI for candidate screening.\\n* Results indicated that the algorithms exhibited biases related to gender, race, and socioeconomic background.\\n* Experts are calling for greater transparency and accountability in the development and deployment of AI hiring tools.\\n\\n**Why it matters:** Biased AI systems can perpetuate and amplify existing societal inequalities. Addressing algorithmic bias is essential to ensure fairness and equity in the hiring process.\\n\\n\\n## EU Parliament Votes on New AI Regulations\\n\\n**The Rundown:** The European Parliament voted to adopt a landmark bill regulating the development and deployment of AI systems within the European Union.\\n\\n**The Details:**\\n\\n* The AI Act aims to classify AI systems based on their risk level and impose different regulatory requirements accordingly.\\n* High-risk AI systems, such as those used in critical infrastructure or law enforcement, will face stricter scrutiny.\\n* The legislation includes provisions for transparency, accountability, and human oversight.\\n\\n**Why it matters:** The EU AI Act represents a significant step towards establishing a global framework for responsible AI development. Its impact could influence regulatory efforts in other parts of the world.\\n\\n\\n## Microsoft Integrates AI Across its Product Suite\\n\\n**The Rundown:** Microsoft announced further integration of AI capabilities across its range of products, including Office 365 and Windows.\\n\\n**The Details:**\\n\\n* New AI-powered features are being rolled out to improve productivity, accessibility, and user experience.\\n* This includes enhancements to text editing, image generation, and data analysis tools.\\n* The company is emphasizing responsible AI development and user privacy.\\n\\n**Why it matters:** The widespread integration of AI into everyday software applications will significantly impact how people work, communicate, and interact with technology.\""
            ],
            "application/vnd.google.colaboratory.intrinsic+json": {
              "type": "string"
            }
          },
          "metadata": {},
          "execution_count": 24
        }
      ]
    },
    {
      "cell_type": "code",
      "source": [
        "\n",
        "from IPython.display import Markdown\n",
        "\n",
        "def display_markdown(markdown_text):\n",
        "  \"\"\"\n",
        "  Displays markdown text as markdown in a Jupyter environment.\n",
        "  \"\"\"\n",
        "  display(Markdown(markdown_text))\n",
        "\n",
        "display_markdown(results.raw)"
      ],
      "metadata": {
        "colab": {
          "base_uri": "https://localhost:8080/",
          "height": 1000
        },
        "id": "YEgLfJBcFOo3",
        "outputId": "e60264ae-b2b5-47ec-8023-1e79a4517e99"
      },
      "execution_count": null,
      "outputs": [
        {
          "output_type": "display_data",
          "data": {
            "text/plain": [
              "<IPython.core.display.Markdown object>"
            ],
            "text/markdown": "# Top Stories in AI Today:\n\n- AI-Powered Drug Discovery Breakthrough\n- Concerns Rise Over AI-Generated Deepfakes\n- AI Bias in Hiring Algorithms Under Scrutiny\n- EU Parliament Votes on New AI Regulations\n- Microsoft Integrates AI Across its Product Suite\n\n\n## AI-Powered Drug Discovery Breakthrough\n\n**The Rundown:** A research team announced a significant advancement in AI-powered drug discovery, identifying a potential treatment for a rare genetic disease.\n\n**The Details:**\n\n* Researchers utilized a novel deep learning model to analyze vast datasets of genomic information and molecular structures.\n* The AI identified a previously unknown molecule with high efficacy against the target disease.\n* Pre-clinical trials are underway to validate the AI's findings.\n\n**Why it matters:** This showcases the growing potential of AI to accelerate and revolutionize the drug discovery process, potentially leading to faster development of life-saving treatments.\n\n\n## Concerns Rise Over AI-Generated Deepfakes\n\n**The Rundown:** A new report highlights the increasing sophistication and ease of creating realistic deepfake videos, raising concerns about their potential misuse in misinformation campaigns.\n\n**The Details:**\n\n* Advances in generative AI models allow for the creation of increasingly convincing deepfakes, even with limited training data.\n* Experts warn of the potential for deepfakes to be used to damage reputations, spread propaganda, and undermine public trust.\n* Discussions are underway regarding the need for stricter regulations and improved detection technologies.\n\n**Why it matters:** The proliferation of deepfakes poses a significant threat to societal trust and stability. The development of effective countermeasures is crucial.\n\n\n## AI Bias in Hiring Algorithms Under Scrutiny\n\n**The Rundown:** A study revealed significant bias in AI-powered hiring algorithms, disproportionately favoring certain demographic groups over others.\n\n**The Details:**\n\n* The study analyzed data from several major companies using AI for candidate screening.\n* Results indicated that the algorithms exhibited biases related to gender, race, and socioeconomic background.\n* Experts are calling for greater transparency and accountability in the development and deployment of AI hiring tools.\n\n**Why it matters:** Biased AI systems can perpetuate and amplify existing societal inequalities. Addressing algorithmic bias is essential to ensure fairness and equity in the hiring process.\n\n\n## EU Parliament Votes on New AI Regulations\n\n**The Rundown:** The European Parliament voted to adopt a landmark bill regulating the development and deployment of AI systems within the European Union.\n\n**The Details:**\n\n* The AI Act aims to classify AI systems based on their risk level and impose different regulatory requirements accordingly.\n* High-risk AI systems, such as those used in critical infrastructure or law enforcement, will face stricter scrutiny.\n* The legislation includes provisions for transparency, accountability, and human oversight.\n\n**Why it matters:** The EU AI Act represents a significant step towards establishing a global framework for responsible AI development. Its impact could influence regulatory efforts in other parts of the world.\n\n\n## Microsoft Integrates AI Across its Product Suite\n\n**The Rundown:** Microsoft announced further integration of AI capabilities across its range of products, including Office 365 and Windows.\n\n**The Details:**\n\n* New AI-powered features are being rolled out to improve productivity, accessibility, and user experience.\n* This includes enhancements to text editing, image generation, and data analysis tools.\n* The company is emphasizing responsible AI development and user privacy.\n\n**Why it matters:** The widespread integration of AI into everyday software applications will significantly impact how people work, communicate, and interact with technology."
          },
          "metadata": {}
        }
      ]
    },
    {
      "cell_type": "code",
      "source": [],
      "metadata": {
        "id": "1-kTuPa_FtMu"
      },
      "execution_count": null,
      "outputs": []
    }
  ],
  "metadata": {
    "colab": {
      "provenance": []
    },
    "kernelspec": {
      "display_name": "Python 3",
      "name": "python3"
    },
    "language_info": {
      "name": "python"
    }
  },
  "nbformat": 4,
  "nbformat_minor": 0
}