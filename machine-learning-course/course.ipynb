{
 "cells": [
  {
   "cell_type": "code",
   "execution_count": 4,
   "metadata": {},
   "outputs": [],
   "source": [
    "import pandas as pd\n",
    "import numpy as np\n",
    "from matplotlib import pyplot as plt"
   ]
  },
  {
   "cell_type": "markdown",
   "metadata": {},
   "source": [
    "# Machine Learning\n"
   ]
  },
  {
   "cell_type": "markdown",
   "metadata": {},
   "source": [
    "## Introduction\n",
    "\n",
    "`Machine Learning` is field of study that enables computers to learn from data and improve their performance over time. It involves training models to recognize patterns, make predictions, or make decision based on input data\n"
   ]
  },
  {
   "cell_type": "markdown",
   "metadata": {},
   "source": [
    "Types of machine learning includes\n",
    "\n",
    "<ul>\n",
    "    <li>\n",
    "        <b>Supervised Learning: </b>In this type, models are trained on labeled data, learning to map input data to correct ouput labels\n",
    "    </li>\n",
    "    <li>\n",
    "        <b>Unsupervised Learning: </b>In this type the model analyze unlabeled data to find hidden patters or groupings\n",
    "    </li>\n",
    "    <li>\n",
    "        <b>Reinforcement Learning: </b>This models refers to goal-oriented algorithms, which learn how to attain a complex objective (goal) over many steps.\n",
    "            <ul>\n",
    "                <li>\n",
    "                    This method allows machines and software agents to automatically determine the ideal behavior within a specific context in order to maximize performance\n",
    "                </li>\n",
    "            </ul>\n",
    "    </li>\n",
    "</ul>\n"
   ]
  },
  {
   "cell_type": "markdown",
   "metadata": {},
   "source": [
    "A `machine learning workflow` is the end-to-end construct that orchestrates the flow of data into and output from a machine learning model\n"
   ]
  },
  {
   "cell_type": "markdown",
   "metadata": {},
   "source": [
    "Machine learning workflow includes:\n",
    "\n",
    "<ul>\n",
    "    <li>\n",
    "        <b>Gathering Data: </b>This could involve obtaining data from various sources such a databases, APIs, or sensors. High quality data is crucial for training accurate models\n",
    "    </li>\n",
    "    <li>\n",
    "        <b>Data Pre-processing: </b>Involves handling missing values in the dataset, normalizing data, and dealing with outliers\n",
    "    </li>\n",
    "    <li>\n",
    "        <b>Reinforcement Learning: </b>This models refers to goal-oriented algorithms, which learn how to attain a complex objective (goal) over many steps.\n",
    "        <ul>\n",
    "            <li>\n",
    "                This method allows machines and software agents to automatically determine the ideal behavior within a specific context in order to maximize performance\n",
    "            </li>\n",
    "        </ul>\n",
    "    </li>\n",
    "    <li>\n",
    "        <b>Selecting the Model: </b>Different data requires different models. Choosing right model architecture is crucial for achieving optimal performance\n",
    "    </li>\n",
    "    <li>\n",
    "        <b>Training and Testing: </b>Once a model is selected, its time to train model using the prepared data \n",
    "        <ul>\n",
    "            <li>\n",
    "                Training involves feeding model with input data and adjusting its parameters to learn patterns\n",
    "            </li>\n",
    "            <li>\n",
    "                Testing helps ensure that the model generalizes well to new and unseen data\n",
    "            </li>\n",
    "        </ul>\n",
    "    </li>\n",
    "    <li>\n",
    "        <b>Evaluation: </b>After training and testing, model evaluation is essential. This evaluation phase determines whether the model meets the desired criteria and performs effectively in real-world scenarios \n",
    "    </li>\n",
    "</ul>\n"
   ]
  },
  {
   "cell_type": "markdown",
   "metadata": {},
   "source": [
    "In machine learning, there are many levers that impact the performance of the model\n",
    "\n",
    "<ul>\n",
    "    <li>The algorithm choice</li>\n",
    "    <li>The parameters used in the algorithm</li>\n",
    "    <li>The quantity and quality of the data set</li>\n",
    "    <li>The features used to train the model</li>\n",
    "</ul>\n"
   ]
  },
  {
   "cell_type": "markdown",
   "metadata": {},
   "source": [
    "`The choice of features significantly impacts the model's predictive performance and resource equipment. Features should be relevant, predictive, non-redundant, and low in dimensionality to ensure efficient modeling`\n"
   ]
  },
  {
   "cell_type": "code",
   "execution_count": null,
   "metadata": {},
   "outputs": [],
   "source": []
  },
  {
   "cell_type": "markdown",
   "metadata": {},
   "source": [
    "To answer the question of `how much data is required for machine learning`, several factors are included\n",
    "\n",
    "<ul>\n",
    "    <li>\n",
    "        Complexity of Problem\n",
    "        <ul>\n",
    "            <li>More complex problems requires large dataset</li>\n",
    "        </ul>\n",
    "    </li>\n",
    "    <li>\n",
    "        Model complexity\n",
    "        <ul>\n",
    "            <li>Highly complex models like Neural networks may require more data</li>\n",
    "        </ul>\n",
    "    </li>\n",
    "    <li>\n",
    "        Dimensionality of features\n",
    "        <ul>\n",
    "            <li>Higher dimensional features requires more data to effectively cover the feature space and reduce risk of overfitting</li>\n",
    "        </ul>\n",
    "    </li>\n",
    "    <li>\n",
    "        Desired Model Performance\n",
    "        <ul>\n",
    "            <li>High level of accuracy and precision requires large dataset</li>\n",
    "        </ul>\n",
    "    </li>\n",
    "    <li>\n",
    "        Imbalanced classes\n",
    "        <ul>\n",
    "            <li>In imbalanced dataset, the smaller class may need more data to prevent model from biasing</li>\n",
    "        </ul>\n",
    "    </li>\n",
    "    <li>\n",
    "        Data quality and noise\n",
    "        <ul>\n",
    "            <li>Noisy data require a larger dataset </li>\n",
    "        </ul>\n",
    "    </li>\n",
    "    \n",
    "</ul>\n"
   ]
  },
  {
   "cell_type": "markdown",
   "metadata": {},
   "source": [
    "`Generally speaking, the rule of thumb regarding machine learning is that you need at least ten times as many rows as the features in the dataset`\n"
   ]
  },
  {
   "cell_type": "markdown",
   "metadata": {},
   "source": [
    "`Statistical methods are more rigorous and data-driven approaches to estimate the sample size required for a particular study or analysis`\n"
   ]
  },
  {
   "cell_type": "markdown",
   "metadata": {},
   "source": [
    "There are some practical experiences that will help you assess whether you need much or little observation:\n",
    "\n",
    "<ul>\n",
    "    <li>The more intuitive your hypothesis, the less data you need</li>\n",
    "    <li>The rarer the event, the more data you need.</li>\n",
    "    <li>The more properties your data has, the more data you need.</li>\n",
    "    <li>The more model parameters your learning model has, the more data you need</li>\n",
    "    <li>Non-linear relationships need more data</li>\n",
    "</ul>\n"
   ]
  },
  {
   "cell_type": "markdown",
   "metadata": {},
   "source": [
    "`However, there is no golden rule`\n"
   ]
  },
  {
   "cell_type": "markdown",
   "metadata": {},
   "source": [
    "In machine learing, a ` hypothesis` refers to a proposed explanation or model that describes how the features or inputs are related to the target or output. It is essentially an educated guess about the relationship between the variables in a given problem\n"
   ]
  },
  {
   "cell_type": "markdown",
   "metadata": {},
   "source": [
    "The `hypothesis space` is the set of all the possible legal hypothesis. This is the set from which the machine learning algorithm would determine the best possible (only one), which would best describe the target function or the outputs\n"
   ]
  },
  {
   "cell_type": "markdown",
   "metadata": {},
   "source": [
    "In the realm of machine learning, `generalization` refers to evaluating how effectively a trained model can categorize or predict previously unseen data. A well-generalized machine learning model demonstrates its competence across diverse subsets of unseen data.\n"
   ]
  },
  {
   "cell_type": "markdown",
   "metadata": {},
   "source": [
    "The hypothesis is at the core of generalization in machine learning.` A well-designed and trained hypothesis will lead to a model that can accurately generalize and make reliable predictions on data it has not seen during training.` The goal is to find the right balance to prevent overfitting or underfitting, achieving a hypothesis that generalizes optimally to unseen data.\n"
   ]
  },
  {
   "cell_type": "markdown",
   "metadata": {},
   "source": []
  }
 ],
 "metadata": {
  "kernelspec": {
   "display_name": "Python 3",
   "language": "python",
   "name": "python3"
  },
  "language_info": {
   "codemirror_mode": {
    "name": "ipython",
    "version": 3
   },
   "file_extension": ".py",
   "mimetype": "text/x-python",
   "name": "python",
   "nbconvert_exporter": "python",
   "pygments_lexer": "ipython3",
   "version": "3.12.4"
  }
 },
 "nbformat": 4,
 "nbformat_minor": 2
}
