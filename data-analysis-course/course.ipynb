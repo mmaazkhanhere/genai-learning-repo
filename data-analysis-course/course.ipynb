{
 "cells": [
  {
   "cell_type": "code",
   "execution_count": 1,
   "metadata": {},
   "outputs": [],
   "source": [
    "import numpy as np\n",
    "import pandas as pd\n",
    "from datetime import datetime"
   ]
  },
  {
   "cell_type": "markdown",
   "metadata": {},
   "source": [
    "# Numpy\n",
    "\n",
    "`Numpy` (Numerical Python) is one of the most important foundational packages for numerical computing in Python.\n",
    "<br/>\n",
    "One of the reason Numpy is important for numerical computations in Python is because it is designed for efficiency on large arrays of data\n",
    "\n",
    "<ul>\n",
    "    <li>\n",
    "        Numpy internally stores data in a contiguous block of memory, independent of other built-in Python objects\n",
    "    </li>\n",
    "    <li>\n",
    "        Uses much less memory than Python built-in sequences\n",
    "    </li>\n",
    "    <li>\n",
    "        Numpy operations perform complex computations on entire arrays without the need for Python `for` loops\n",
    "    </li>\n",
    "</ul>\n"
   ]
  },
  {
   "cell_type": "code",
   "execution_count": 43,
   "metadata": {},
   "outputs": [
    {
     "name": "stdout",
     "output_type": "stream",
     "text": [
      "3.45 ms ± 243 μs per loop (mean ± std. dev. of 7 runs, 100 loops each)\n"
     ]
    }
   ],
   "source": [
    "my_arr = np.arange(1_000_000)\n",
    "%timeit my_arr2 = my_arr * 2"
   ]
  },
  {
   "cell_type": "code",
   "execution_count": null,
   "metadata": {},
   "outputs": [],
   "source": []
  },
  {
   "cell_type": "code",
   "execution_count": 44,
   "metadata": {},
   "outputs": [
    {
     "name": "stdout",
     "output_type": "stream",
     "text": [
      "75.2 ms ± 7.83 ms per loop (mean ± std. dev. of 7 runs, 10 loops each)\n"
     ]
    }
   ],
   "source": [
    "my_list = list(range(1_000_000))\n",
    "%timeit my_list2 = [x * 2 for x in my_list]"
   ]
  },
  {
   "cell_type": "markdown",
   "metadata": {},
   "source": [
    "Thea above result shows that if every item of numpy array is multiplied by 2, it takes roughly `3.61 ms` while the same operation on list takes nearly `85.7ms`\n"
   ]
  },
  {
   "cell_type": "markdown",
   "metadata": {},
   "source": [
    "## Numpy array\n",
    "\n",
    "One of the key featues of NumPy is its n-dimensional array object. Array enables you to perform mathematical operations on whole blocks of data using similar syntax to the equivalent operations between scalar elements. `In other words, it allows you to apply scalar operations to arrays that will otherwise require a loop in Python built-in list`\n"
   ]
  },
  {
   "cell_type": "code",
   "execution_count": 45,
   "metadata": {},
   "outputs": [
    {
     "name": "stdout",
     "output_type": "stream",
     "text": [
      "Data: [[ 1.   0.5  6. ]\n",
      " [ 5.  -3.   5.5]]\n",
      "\n",
      "Data doubled: [[ 2.  1. 12.]\n",
      " [10. -6. 11.]]\n",
      "\n",
      "Data added with itself: [[ 2.  1. 12.]\n",
      " [10. -6. 11.]]\n"
     ]
    }
   ],
   "source": [
    "example_data = np.array([\n",
    "    [1, 0.5, 6],\n",
    "    [5, -3, 5.5]\n",
    "])\n",
    "print(f\"Data: {example_data}\\n\")\n",
    "\n",
    "print(f\"Data doubled: {example_data * 2}\\n\")\n",
    "\n",
    "print(f\"Data added with itself: {example_data + example_data}\")"
   ]
  },
  {
   "cell_type": "markdown",
   "metadata": {},
   "source": [
    "numpy array is a multidimensional container for homogeneous data (all of the elements must be of same data type)\n"
   ]
  },
  {
   "cell_type": "code",
   "execution_count": 46,
   "metadata": {},
   "outputs": [],
   "source": [
    "# example_data = np.array([\n",
    "#     [1, 0.5, 6],\n",
    "#     [5, 'hello', 5.5]\n",
    "# ])\n",
    "\n",
    "# This will give error because an str is based in an float array. The integers are parsed to float"
   ]
  },
  {
   "cell_type": "markdown",
   "metadata": {},
   "source": [
    "Easiest way to create an array is using `array()`\n"
   ]
  },
  {
   "cell_type": "code",
   "execution_count": 47,
   "metadata": {},
   "outputs": [
    {
     "name": "stdout",
     "output_type": "stream",
     "text": [
      "Array: [6.  0.2 3.6 4.2]\n",
      "Example data type: <class 'list'>\n",
      "Example data array type: <class 'numpy.ndarray'>\n",
      "Example array dimensions: 1\n",
      "Example array shape: (4,)\n",
      "Example array size: 4\n",
      "Example array data type: float64\n"
     ]
    }
   ],
   "source": [
    "example_data = [6, 0.2, 3.6, 4.2]\n",
    "example_data_array = np.array(example_data)\n",
    "print(f'Array: {example_data_array}') # it may seems like a simple list but its type is different\n",
    "\n",
    "print(f\"Example data type: {type(example_data)}\")\n",
    "print(f\"Example data array type: {type(example_data_array)}\")\n",
    "\n",
    "print(f\"Example array dimensions: {example_data_array.ndim}\")\n",
    "print(f'Example array shape: {example_data_array.shape}')\n",
    "print(f'Example array size: {example_data_array.size}')\n",
    "print(f\"Example array data type: {example_data_array.dtype}\")"
   ]
  },
  {
   "cell_type": "markdown",
   "metadata": {},
   "source": [
    "You can explicitly cast an array from one type to another using ndarray `astype()`\n"
   ]
  },
  {
   "cell_type": "code",
   "execution_count": 48,
   "metadata": {},
   "outputs": [
    {
     "name": "stdout",
     "output_type": "stream",
     "text": [
      "Example array: [6.  0.2 3.6 4.2]\n",
      "Example array type: float64\n",
      "\n",
      "Example array after type conversion to int: [6 0 3 4]\n",
      "Example array type: int64\n",
      "\n"
     ]
    }
   ],
   "source": [
    "print(f'Example array: {example_data_array}')\n",
    "\n",
    "print(f'Example array type: {example_data_array.dtype}\\n')\n",
    "\n",
    "int_example_array = example_data_array.astype(np.int64)\n",
    "\n",
    "print(f\"Example array after type conversion to int: {int_example_array}\")\n",
    "\n",
    "print(f'Example array type: {int_example_array.dtype}\\n')"
   ]
  },
  {
   "cell_type": "markdown",
   "metadata": {},
   "source": [
    "If an array is of string numbers, it can be converted to float or integer. If casting were to fail (example string cannot be converted to integer or float), a `ValueError` will be raised\n"
   ]
  },
  {
   "cell_type": "code",
   "execution_count": 49,
   "metadata": {},
   "outputs": [
    {
     "name": "stdout",
     "output_type": "stream",
     "text": [
      "Strings array:  ['1.2' '4.4' '0.5' '-1.6']\n",
      "Float numbers array type:  <U4\n",
      "\n",
      "Float numbers array:  [ 1.2  4.4  0.5 -1.6]\n",
      "Float numbers array type:  float64\n"
     ]
    }
   ],
   "source": [
    "string_numbers_array = np.array(['1.2', '4.4', '0.5', '-1.6'])\n",
    "print(\"Strings array: \", string_numbers_array)\n",
    "print(\"Float numbers array type: \", string_numbers_array.dtype)\n",
    "\n",
    "float_numbers_array = string_numbers_array.astype(np.float64)\n",
    "print(\"\\nFloat numbers array: \", float_numbers_array)\n",
    "print(\"Float numbers array type: \", float_numbers_array.dtype)"
   ]
  },
  {
   "cell_type": "markdown",
   "metadata": {},
   "source": [
    "## Numpy functions\n"
   ]
  },
  {
   "cell_type": "markdown",
   "metadata": {},
   "source": [
    "NumPy provides other functions for creating new arrays\n"
   ]
  },
  {
   "cell_type": "code",
   "execution_count": 50,
   "metadata": {},
   "outputs": [
    {
     "name": "stdout",
     "output_type": "stream",
     "text": [
      "Zero function: [0. 0. 0. 0. 0.]\n",
      "\n",
      "Zero matrix: [[0. 0. 0.]\n",
      " [0. 0. 0.]\n",
      " [0. 0. 0.]]\n",
      "\n",
      "Empty array: [[ 1.   0.5  6. ]\n",
      " [ 5.  -3.   5.5]]\n",
      "\n",
      "Type of numpy.empty: <class 'numpy.ndarray'>\n",
      "\n",
      "Identity matrix: [[1. 0. 0.]\n",
      " [0. 1. 0.]\n",
      " [0. 0. 1.]]\n",
      "\n",
      "Random matrix: [[0.24118228 0.10014174]\n",
      " [0.00405094 0.85246088]]\n",
      "\n",
      "Matrix of one: [[1. 1. 1.]\n",
      " [1. 1. 1.]]\n",
      "\n",
      "Matrix of one while taking an another array as input: [1. 1. 1. 1.]\n",
      "\n",
      "Full numpy matrix: [5 5 5]\n"
     ]
    }
   ],
   "source": [
    "print(f\"Zero function: {np.zeros(5)}\\n\") #prints an array of zero\n",
    "\n",
    "print(f\"Zero matrix: {np.zeros((3,3))}\\n\")\n",
    "\n",
    "print(f\"Empty array: {np.empty((2,3))}\\n\") #prints an array with garbage values\n",
    "\n",
    "print(f\"Type of numpy.empty: {type(np.empty((2,2)))}\\n\")\n",
    "\n",
    "print(f\"Identity matrix: {np.eye(3)}\\n\") #identity matrix\n",
    "\n",
    "print(f\"Random matrix: {np.random.random((2, 2))}\\n\") #random matrix\n",
    "\n",
    "print(f\"Matrix of one: {np.ones((2,3))}\\n\")\n",
    "\n",
    "print(f\"Matrix of one while taking an another array as input: {np.ones_like(example_data)}\\n\") #ones_like takes another array and produces an array of ones array of same shape and size\n",
    "\n",
    "print(f\"Full numpy matrix: {np.full(3,5)}\")"
   ]
  },
  {
   "cell_type": "markdown",
   "metadata": {},
   "source": [
    "## Numpy Arrays Arithmetic\n",
    "\n",
    "An important feature of a numpy array is that you can apply arithmetic operations without using loops. This is called `vectorization` <br/> <br/>\n",
    "Vectorization refers to the process of performing operations on entire array at once rather iterating through individual elements using loop, leading to faster and more efficient code\n"
   ]
  },
  {
   "cell_type": "code",
   "execution_count": 51,
   "metadata": {},
   "outputs": [
    {
     "name": "stdout",
     "output_type": "stream",
     "text": [
      "Example array [[1. 2. 3.]\n",
      " [4. 5. 6.]]\n"
     ]
    }
   ],
   "source": [
    "example_array = np.array([[1., 2., 3.], [4., 5., 6.]])\n",
    "print(f'Example array {example_array}')"
   ]
  },
  {
   "cell_type": "code",
   "execution_count": 52,
   "metadata": {},
   "outputs": [
    {
     "name": "stdout",
     "output_type": "stream",
     "text": [
      "Example array double: [[ 2.  4.  6.]\n",
      " [ 8. 10. 12.]]\n",
      "\n",
      "Example array square: [[ 1.  4.  9.]\n",
      " [16. 25. 36.]]\n",
      "\n",
      "1 divided by example array [[1.         0.5        0.33333333]\n",
      " [0.25       0.2        0.16666667]]\n",
      "\n"
     ]
    }
   ],
   "source": [
    "print(f\"Example array double: {example_array * 2}\\n\")\n",
    "\n",
    "print(f\"Example array square: {example_array * example_array}\\n\")\n",
    "\n",
    "print(f\"1 divided by example array {1/example_array}\\n\")"
   ]
  },
  {
   "cell_type": "markdown",
   "metadata": {},
   "source": [
    "We can compare two arrays. The comparison is done by element wise\n"
   ]
  },
  {
   "cell_type": "code",
   "execution_count": 53,
   "metadata": {},
   "outputs": [
    {
     "name": "stdout",
     "output_type": "stream",
     "text": [
      "First example array: [[1. 2. 3.]\n",
      " [4. 5. 6.]]\n",
      "\n",
      "Second example array: [[ 0.  4.  1.]\n",
      " [ 7.  2. 12.]]\n"
     ]
    }
   ],
   "source": [
    "example_array_2 = np.array([[0., 4., 1.], [7., 2., 12.]])\n",
    "\n",
    "print(f\"First example array: {example_array}\\n\")\n",
    "print(f\"Second example array: {example_array_2}\")"
   ]
  },
  {
   "cell_type": "code",
   "execution_count": 54,
   "metadata": {},
   "outputs": [
    {
     "data": {
      "text/plain": [
       "array([[ True, False,  True],\n",
       "       [False,  True, False]])"
      ]
     },
     "execution_count": 54,
     "metadata": {},
     "output_type": "execute_result"
    }
   ],
   "source": [
    "example_array > example_array_2"
   ]
  },
  {
   "cell_type": "code",
   "execution_count": 55,
   "metadata": {},
   "outputs": [
    {
     "data": {
      "text/plain": [
       "array([[False,  True, False],\n",
       "       [ True, False,  True]])"
      ]
     },
     "execution_count": 55,
     "metadata": {},
     "output_type": "execute_result"
    }
   ],
   "source": [
    "example_array < example_array_2"
   ]
  },
  {
   "cell_type": "markdown",
   "metadata": {},
   "source": [
    "## Indexing and Slicing\n"
   ]
  },
  {
   "cell_type": "markdown",
   "metadata": {},
   "source": [
    "Indexing and slicing of one-dimensional arrays are simple; on the surface they act similarly to Python lists\n"
   ]
  },
  {
   "cell_type": "code",
   "execution_count": 56,
   "metadata": {},
   "outputs": [
    {
     "name": "stdout",
     "output_type": "stream",
     "text": [
      "Array: [0 1 2 3 4 5 6 7 8 9]\n",
      "\n",
      "First element of array: 0\n",
      "Last element of array 9\n",
      "3 to 5 element in array: [2 3 4]\n",
      "\n",
      "Updating element at index 6: [ 0  1  2  3  4 15  6  7  8  9]\n",
      "Updating first 2 elements: [56 56  2  3  4 15  6  7  8  9]\n"
     ]
    }
   ],
   "source": [
    "simple_array = np.arange(10)\n",
    "print(f\"Array: {simple_array}\\n\")\n",
    "\n",
    "print(f\"First element of array: {simple_array[0]}\")\n",
    "print(f\"Last element of array {simple_array[-1]}\")\n",
    "print(f\"3 to 5 element in array: {simple_array[2:5]}\\n\")\n",
    "\n",
    "simple_array[5] = 15\n",
    "print(f\"Updating element at index 6: {simple_array}\")\n",
    "\n",
    "simple_array[0:2] = 56\n",
    "print(f\"Updating first 2 elements: {simple_array}\")"
   ]
  },
  {
   "cell_type": "markdown",
   "metadata": {},
   "source": [
    "In a two-dimensional array, the elements at each index are no longer scalars but rather one dimensional arrays\n"
   ]
  },
  {
   "cell_type": "code",
   "execution_count": 57,
   "metadata": {},
   "outputs": [
    {
     "name": "stdout",
     "output_type": "stream",
     "text": [
      "Two dimensional array: [[1 2 3]\n",
      " [4 5 6]\n",
      " [7 8 9]]\n",
      "\n",
      "First element: 1\n",
      "Last element: 9\n",
      "\n",
      "Second row: [4 5 6]\n",
      "3 column: [3 6 9]\n",
      "2 column: [2 5 8]\n"
     ]
    }
   ],
   "source": [
    "two_dimensional_array = np.array([[1, 2, 3], [4, 5, 6], [7, 8, 9]])\n",
    "\n",
    "print(f\"Two dimensional array: {two_dimensional_array}\")\n",
    "\n",
    "print(f\"\\nFirst element: {two_dimensional_array[0][0]}\")\n",
    "print(f\"Last element: {two_dimensional_array[2][2]}\")\n",
    "\n",
    "print(f\"\\nSecond row: {two_dimensional_array[1]}\")\n",
    "print(f\"3 column: {two_dimensional_array[:, 2]}\")\n",
    "print(f\"2 column: {two_dimensional_array[:, 1]}\")"
   ]
  },
  {
   "cell_type": "code",
   "execution_count": 58,
   "metadata": {},
   "outputs": [
    {
     "name": "stdout",
     "output_type": "stream",
     "text": [
      "Second and third row: [[4 5 6]\n",
      " [7 8 9]]\n",
      "2 and third column: [[2 3]\n",
      " [5 6]\n",
      " [8 9]]\n"
     ]
    }
   ],
   "source": [
    "print(f\"Second and third row: {two_dimensional_array[1:3]}\")\n",
    "print(f\"2 and third column: {two_dimensional_array[:, 1:3]}\")"
   ]
  },
  {
   "cell_type": "markdown",
   "metadata": {},
   "source": [
    "Lets check for multi-dimensional arrays\n"
   ]
  },
  {
   "cell_type": "code",
   "execution_count": 59,
   "metadata": {},
   "outputs": [
    {
     "name": "stdout",
     "output_type": "stream",
     "text": [
      "Multi dimensional array: [[[ 1  2  3]\n",
      "  [ 4  5  6]]\n",
      "\n",
      " [[ 7  8  9]\n",
      "  [10 11 12]]]\n",
      "\n",
      "Multi dimensional array dimension: 3\n",
      "Multi dimensional array shape: (2, 2, 3)\n",
      "Multi dimensional array size: 12\n",
      "\n",
      " First two dim array [[1 2 3]\n",
      " [4 5 6]]\n",
      "Second one dim array [10 11 12]\n",
      "Third element of second one dim array 12\n"
     ]
    }
   ],
   "source": [
    "three_dimensional_array = np.array([[[1, 2, 3], [4, 5, 6]],[[7, 8, 9], [10, 11, 12]]])\n",
    "\n",
    "print(f\"Multi dimensional array: {three_dimensional_array}\")\n",
    "print(f\"\\nMulti dimensional array dimension: {three_dimensional_array.ndim}\")\n",
    "print(f\"Multi dimensional array shape: {three_dimensional_array.shape}\")\n",
    "print(f\"Multi dimensional array size: {three_dimensional_array.size}\")\n",
    "\n",
    "print(f\"\\n First two dim array {three_dimensional_array[0]}\") # returns a two dimensional array\n",
    "print(f\"Second one dim array {three_dimensional_array[1][1]}\") # returns a one dimensional array\n",
    "print(f\"Third element of second one dim array {three_dimensional_array[1][1][2]}\") # returns a scalar value"
   ]
  },
  {
   "cell_type": "markdown",
   "metadata": {},
   "source": [
    "`Fancy indexing` refers to the practice of using arrays or lists of indices to access multiple elements of another array simultaneously. This allows for more flexible and powerful data manipuation\n"
   ]
  },
  {
   "cell_type": "code",
   "execution_count": 60,
   "metadata": {},
   "outputs": [
    {
     "name": "stdout",
     "output_type": "stream",
     "text": [
      "Example array: [10 20 30 40 50]\n",
      "Selected elements: [20 40 50]\n",
      "\n",
      "Two dimensional array: [[1 2 3]\n",
      " [4 5 6]\n",
      " [7 8 9]]\n",
      "Selected elements: [3 5 7]\n"
     ]
    }
   ],
   "source": [
    "example_array = np.array([10, 20, 30, 40, 50])\n",
    "print(f'Example array: {example_array}')\n",
    "indices = [1, 3, 4]\n",
    "\n",
    "print(f\"Selected elements: {example_array[indices]}\")\n",
    "\n",
    "print(f\"\\nTwo dimensional array: {two_dimensional_array}\")\n",
    "\n",
    "# Selects elements at (0, 2), (1, 1), and (2, 0)\n",
    "print(f\"Selected elements: {two_dimensional_array[[0, 1, 2], [2, 1, 0]]}\")"
   ]
  },
  {
   "cell_type": "markdown",
   "metadata": {},
   "source": [
    "`Transposing` is a special form of reshaping that interchanges the column data with row data. `The row becomes columns and the columns become rows`\n"
   ]
  },
  {
   "cell_type": "code",
   "execution_count": 61,
   "metadata": {},
   "outputs": [
    {
     "name": "stdout",
     "output_type": "stream",
     "text": [
      "Example array:\n",
      " [[ 0  1  2  3  4]\n",
      " [ 5  6  7  8  9]\n",
      " [10 11 12 13 14]]"
     ]
    },
    {
     "name": "stdout",
     "output_type": "stream",
     "text": [
      "\n",
      "\n",
      "Example array transpose: [[ 0  5 10]\n",
      " [ 1  6 11]\n",
      " [ 2  7 12]\n",
      " [ 3  8 13]\n",
      " [ 4  9 14]]\n"
     ]
    }
   ],
   "source": [
    "example_array = np.arange(15).reshape((3, 5))\n",
    "print(f\"Example array:\\n {example_array}\")\n",
    "\n",
    "print(f\"\\nExample array transpose: {example_array.T}\")"
   ]
  },
  {
   "cell_type": "markdown",
   "metadata": {},
   "source": [
    "We can also do `dot multiplication`\n"
   ]
  },
  {
   "cell_type": "code",
   "execution_count": 62,
   "metadata": {},
   "outputs": [
    {
     "name": "stdout",
     "output_type": "stream",
     "text": [
      "Dot product of example array and transpose of example array: [[ 30  80 130]\n",
      " [ 80 255 430]\n",
      " [130 430 730]]\n"
     ]
    }
   ],
   "source": [
    "print(f\"Dot product of example array and transpose of example array: {np.dot(example_array, example_array.T)}\")"
   ]
  },
  {
   "cell_type": "markdown",
   "metadata": {},
   "source": [
    "`numpy.random` is used to generate array of random data\n"
   ]
  },
  {
   "cell_type": "code",
   "execution_count": 63,
   "metadata": {},
   "outputs": [
    {
     "name": "stdout",
     "output_type": "stream",
     "text": [
      "Sample data: \n",
      "[[ 1.58609982 -2.61648497  1.03505485  0.87792269]\n",
      " [-0.98787894 -1.29431431  0.04279451 -0.16863342]\n",
      " [ 0.68271307 -0.46911851 -0.58927356  0.19659037]\n",
      " [-0.07528957 -2.05001127  0.28337902 -0.66659274]]\n"
     ]
    }
   ],
   "source": [
    "samples = np.random.standard_normal(size=(4, 4))\n",
    "print(f\"Sample data: \\n{samples}\")"
   ]
  },
  {
   "cell_type": "code",
   "execution_count": 64,
   "metadata": {},
   "outputs": [
    {
     "name": "stdout",
     "output_type": "stream",
     "text": [
      "Sample data: \n",
      "[[-1.42382504  1.26372846 -0.87066174]\n",
      " [-0.25917323 -0.07534331 -0.74088465]]\n"
     ]
    }
   ],
   "source": [
    "random_number_generator = np.random.default_rng(seed = 12345) # seed argument determines the initial state of the generator\n",
    "\n",
    "samples = random_number_generator.standard_normal((2, 3))\n",
    "\n",
    "print(f\"Sample data: \\n{samples}\")"
   ]
  },
  {
   "cell_type": "markdown",
   "metadata": {},
   "source": [
    "Numpy has `universal function` that performs element-wise operations on data in arrays\n"
   ]
  },
  {
   "cell_type": "code",
   "execution_count": 65,
   "metadata": {},
   "outputs": [
    {
     "name": "stdout",
     "output_type": "stream",
     "text": [
      "Samples: \n",
      "[[-1.42382504  1.26372846 -0.87066174]\n",
      " [-0.25917323 -0.07534331 -0.74088465]]\n",
      "\n",
      "Square of array elements: \n",
      "[[2.02727773 1.59700962 0.75805186]\n",
      " [0.06717077 0.00567661 0.54891007]]\n"
     ]
    }
   ],
   "source": [
    "print(f\"Samples: \\n{samples}\")\n",
    "print(f\"\\nSquare of array elements: \\n{np.square(samples)}\")\n",
    "\n"
   ]
  },
  {
   "cell_type": "markdown",
   "metadata": {},
   "source": [
    "`numpy.meshgrid()` takes one-dimensional array and produces two-dimensional matrics corresponding to all pairs of (x, y) in the two arrays\n"
   ]
  },
  {
   "cell_type": "code",
   "execution_count": 66,
   "metadata": {},
   "outputs": [
    {
     "name": "stdout",
     "output_type": "stream",
     "text": [
      "Points: [-5.0000000e+00 -4.9900000e+00 -4.9800000e+00 -4.9700000e+00\n",
      " -4.9600000e+00 -4.9500000e+00 -4.9400000e+00 -4.9300000e+00\n",
      " -4.9200000e+00 -4.9100000e+00 -4.9000000e+00 -4.8900000e+00\n",
      " -4.8800000e+00 -4.8700000e+00 -4.8600000e+00 -4.8500000e+00\n",
      " -4.8400000e+00 -4.8300000e+00 -4.8200000e+00 -4.8100000e+00\n",
      " -4.8000000e+00 -4.7900000e+00 -4.7800000e+00 -4.7700000e+00\n",
      " -4.7600000e+00 -4.7500000e+00 -4.7400000e+00 -4.7300000e+00\n",
      " -4.7200000e+00 -4.7100000e+00 -4.7000000e+00 -4.6900000e+00\n",
      " -4.6800000e+00 -4.6700000e+00 -4.6600000e+00 -4.6500000e+00\n",
      " -4.6400000e+00 -4.6300000e+00 -4.6200000e+00 -4.6100000e+00\n",
      " -4.6000000e+00 -4.5900000e+00 -4.5800000e+00 -4.5700000e+00\n",
      " -4.5600000e+00 -4.5500000e+00 -4.5400000e+00 -4.5300000e+00\n",
      " -4.5200000e+00 -4.5100000e+00 -4.5000000e+00 -4.4900000e+00\n",
      " -4.4800000e+00 -4.4700000e+00 -4.4600000e+00 -4.4500000e+00\n",
      " -4.4400000e+00 -4.4300000e+00 -4.4200000e+00 -4.4100000e+00\n",
      " -4.4000000e+00 -4.3900000e+00 -4.3800000e+00 -4.3700000e+00\n",
      " -4.3600000e+00 -4.3500000e+00 -4.3400000e+00 -4.3300000e+00\n",
      " -4.3200000e+00 -4.3100000e+00 -4.3000000e+00 -4.2900000e+00\n",
      " -4.2800000e+00 -4.2700000e+00 -4.2600000e+00 -4.2500000e+00\n",
      " -4.2400000e+00 -4.2300000e+00 -4.2200000e+00 -4.2100000e+00\n",
      " -4.2000000e+00 -4.1900000e+00 -4.1800000e+00 -4.1700000e+00\n",
      " -4.1600000e+00 -4.1500000e+00 -4.1400000e+00 -4.1300000e+00\n",
      " -4.1200000e+00 -4.1100000e+00 -4.1000000e+00 -4.0900000e+00\n",
      " -4.0800000e+00 -4.0700000e+00 -4.0600000e+00 -4.0500000e+00\n",
      " -4.0400000e+00 -4.0300000e+00 -4.0200000e+00 -4.0100000e+00\n",
      " -4.0000000e+00 -3.9900000e+00 -3.9800000e+00 -3.9700000e+00\n",
      " -3.9600000e+00 -3.9500000e+00 -3.9400000e+00 -3.9300000e+00\n",
      " -3.9200000e+00 -3.9100000e+00 -3.9000000e+00 -3.8900000e+00\n",
      " -3.8800000e+00 -3.8700000e+00 -3.8600000e+00 -3.8500000e+00\n",
      " -3.8400000e+00 -3.8300000e+00 -3.8200000e+00 -3.8100000e+00\n",
      " -3.8000000e+00 -3.7900000e+00 -3.7800000e+00 -3.7700000e+00\n",
      " -3.7600000e+00 -3.7500000e+00 -3.7400000e+00 -3.7300000e+00\n",
      " -3.7200000e+00 -3.7100000e+00 -3.7000000e+00 -3.6900000e+00\n",
      " -3.6800000e+00 -3.6700000e+00 -3.6600000e+00 -3.6500000e+00\n",
      " -3.6400000e+00 -3.6300000e+00 -3.6200000e+00 -3.6100000e+00\n",
      " -3.6000000e+00 -3.5900000e+00 -3.5800000e+00 -3.5700000e+00\n",
      " -3.5600000e+00 -3.5500000e+00 -3.5400000e+00 -3.5300000e+00\n",
      " -3.5200000e+00 -3.5100000e+00 -3.5000000e+00 -3.4900000e+00\n",
      " -3.4800000e+00 -3.4700000e+00 -3.4600000e+00 -3.4500000e+00\n",
      " -3.4400000e+00 -3.4300000e+00 -3.4200000e+00 -3.4100000e+00\n",
      " -3.4000000e+00 -3.3900000e+00 -3.3800000e+00 -3.3700000e+00\n",
      " -3.3600000e+00 -3.3500000e+00 -3.3400000e+00 -3.3300000e+00\n",
      " -3.3200000e+00 -3.3100000e+00 -3.3000000e+00 -3.2900000e+00\n",
      " -3.2800000e+00 -3.2700000e+00 -3.2600000e+00 -3.2500000e+00\n",
      " -3.2400000e+00 -3.2300000e+00 -3.2200000e+00 -3.2100000e+00\n",
      " -3.2000000e+00 -3.1900000e+00 -3.1800000e+00 -3.1700000e+00\n",
      " -3.1600000e+00 -3.1500000e+00 -3.1400000e+00 -3.1300000e+00\n",
      " -3.1200000e+00 -3.1100000e+00 -3.1000000e+00 -3.0900000e+00\n",
      " -3.0800000e+00 -3.0700000e+00 -3.0600000e+00 -3.0500000e+00\n",
      " -3.0400000e+00 -3.0300000e+00 -3.0200000e+00 -3.0100000e+00\n",
      " -3.0000000e+00 -2.9900000e+00 -2.9800000e+00 -2.9700000e+00\n",
      " -2.9600000e+00 -2.9500000e+00 -2.9400000e+00 -2.9300000e+00\n",
      " -2.9200000e+00 -2.9100000e+00 -2.9000000e+00 -2.8900000e+00\n",
      " -2.8800000e+00 -2.8700000e+00 -2.8600000e+00 -2.8500000e+00\n",
      " -2.8400000e+00 -2.8300000e+00 -2.8200000e+00 -2.8100000e+00\n",
      " -2.8000000e+00 -2.7900000e+00 -2.7800000e+00 -2.7700000e+00\n",
      " -2.7600000e+00 -2.7500000e+00 -2.7400000e+00 -2.7300000e+00\n",
      " -2.7200000e+00 -2.7100000e+00 -2.7000000e+00 -2.6900000e+00\n",
      " -2.6800000e+00 -2.6700000e+00 -2.6600000e+00 -2.6500000e+00\n",
      " -2.6400000e+00 -2.6300000e+00 -2.6200000e+00 -2.6100000e+00\n",
      " -2.6000000e+00 -2.5900000e+00 -2.5800000e+00 -2.5700000e+00\n",
      " -2.5600000e+00 -2.5500000e+00 -2.5400000e+00 -2.5300000e+00\n",
      " -2.5200000e+00 -2.5100000e+00 -2.5000000e+00 -2.4900000e+00\n",
      " -2.4800000e+00 -2.4700000e+00 -2.4600000e+00 -2.4500000e+00\n",
      " -2.4400000e+00 -2.4300000e+00 -2.4200000e+00 -2.4100000e+00\n",
      " -2.4000000e+00 -2.3900000e+00 -2.3800000e+00 -2.3700000e+00\n",
      " -2.3600000e+00 -2.3500000e+00 -2.3400000e+00 -2.3300000e+00\n",
      " -2.3200000e+00 -2.3100000e+00 -2.3000000e+00 -2.2900000e+00\n",
      " -2.2800000e+00 -2.2700000e+00 -2.2600000e+00 -2.2500000e+00\n",
      " -2.2400000e+00 -2.2300000e+00 -2.2200000e+00 -2.2100000e+00\n",
      " -2.2000000e+00 -2.1900000e+00 -2.1800000e+00 -2.1700000e+00\n",
      " -2.1600000e+00 -2.1500000e+00 -2.1400000e+00 -2.1300000e+00\n",
      " -2.1200000e+00 -2.1100000e+00 -2.1000000e+00 -2.0900000e+00\n",
      " -2.0800000e+00 -2.0700000e+00 -2.0600000e+00 -2.0500000e+00\n",
      " -2.0400000e+00 -2.0300000e+00 -2.0200000e+00 -2.0100000e+00\n",
      " -2.0000000e+00 -1.9900000e+00 -1.9800000e+00 -1.9700000e+00\n",
      " -1.9600000e+00 -1.9500000e+00 -1.9400000e+00 -1.9300000e+00\n",
      " -1.9200000e+00 -1.9100000e+00 -1.9000000e+00 -1.8900000e+00\n",
      " -1.8800000e+00 -1.8700000e+00 -1.8600000e+00 -1.8500000e+00\n",
      " -1.8400000e+00 -1.8300000e+00 -1.8200000e+00 -1.8100000e+00\n",
      " -1.8000000e+00 -1.7900000e+00 -1.7800000e+00 -1.7700000e+00\n",
      " -1.7600000e+00 -1.7500000e+00 -1.7400000e+00 -1.7300000e+00\n",
      " -1.7200000e+00 -1.7100000e+00 -1.7000000e+00 -1.6900000e+00\n",
      " -1.6800000e+00 -1.6700000e+00 -1.6600000e+00 -1.6500000e+00\n",
      " -1.6400000e+00 -1.6300000e+00 -1.6200000e+00 -1.6100000e+00\n",
      " -1.6000000e+00 -1.5900000e+00 -1.5800000e+00 -1.5700000e+00\n",
      " -1.5600000e+00 -1.5500000e+00 -1.5400000e+00 -1.5300000e+00\n",
      " -1.5200000e+00 -1.5100000e+00 -1.5000000e+00 -1.4900000e+00\n",
      " -1.4800000e+00 -1.4700000e+00 -1.4600000e+00 -1.4500000e+00\n",
      " -1.4400000e+00 -1.4300000e+00 -1.4200000e+00 -1.4100000e+00\n",
      " -1.4000000e+00 -1.3900000e+00 -1.3800000e+00 -1.3700000e+00\n",
      " -1.3600000e+00 -1.3500000e+00 -1.3400000e+00 -1.3300000e+00\n",
      " -1.3200000e+00 -1.3100000e+00 -1.3000000e+00 -1.2900000e+00\n",
      " -1.2800000e+00 -1.2700000e+00 -1.2600000e+00 -1.2500000e+00\n",
      " -1.2400000e+00 -1.2300000e+00 -1.2200000e+00 -1.2100000e+00\n",
      " -1.2000000e+00 -1.1900000e+00 -1.1800000e+00 -1.1700000e+00\n",
      " -1.1600000e+00 -1.1500000e+00 -1.1400000e+00 -1.1300000e+00\n",
      " -1.1200000e+00 -1.1100000e+00 -1.1000000e+00 -1.0900000e+00\n",
      " -1.0800000e+00 -1.0700000e+00 -1.0600000e+00 -1.0500000e+00\n",
      " -1.0400000e+00 -1.0300000e+00 -1.0200000e+00 -1.0100000e+00\n",
      " -1.0000000e+00 -9.9000000e-01 -9.8000000e-01 -9.7000000e-01\n",
      " -9.6000000e-01 -9.5000000e-01 -9.4000000e-01 -9.3000000e-01\n",
      " -9.2000000e-01 -9.1000000e-01 -9.0000000e-01 -8.9000000e-01\n",
      " -8.8000000e-01 -8.7000000e-01 -8.6000000e-01 -8.5000000e-01\n",
      " -8.4000000e-01 -8.3000000e-01 -8.2000000e-01 -8.1000000e-01\n",
      " -8.0000000e-01 -7.9000000e-01 -7.8000000e-01 -7.7000000e-01\n",
      " -7.6000000e-01 -7.5000000e-01 -7.4000000e-01 -7.3000000e-01\n",
      " -7.2000000e-01 -7.1000000e-01 -7.0000000e-01 -6.9000000e-01\n",
      " -6.8000000e-01 -6.7000000e-01 -6.6000000e-01 -6.5000000e-01\n",
      " -6.4000000e-01 -6.3000000e-01 -6.2000000e-01 -6.1000000e-01\n",
      " -6.0000000e-01 -5.9000000e-01 -5.8000000e-01 -5.7000000e-01\n",
      " -5.6000000e-01 -5.5000000e-01 -5.4000000e-01 -5.3000000e-01\n",
      " -5.2000000e-01 -5.1000000e-01 -5.0000000e-01 -4.9000000e-01\n",
      " -4.8000000e-01 -4.7000000e-01 -4.6000000e-01 -4.5000000e-01\n",
      " -4.4000000e-01 -4.3000000e-01 -4.2000000e-01 -4.1000000e-01\n",
      " -4.0000000e-01 -3.9000000e-01 -3.8000000e-01 -3.7000000e-01\n",
      " -3.6000000e-01 -3.5000000e-01 -3.4000000e-01 -3.3000000e-01\n",
      " -3.2000000e-01 -3.1000000e-01 -3.0000000e-01 -2.9000000e-01\n",
      " -2.8000000e-01 -2.7000000e-01 -2.6000000e-01 -2.5000000e-01\n",
      " -2.4000000e-01 -2.3000000e-01 -2.2000000e-01 -2.1000000e-01\n",
      " -2.0000000e-01 -1.9000000e-01 -1.8000000e-01 -1.7000000e-01\n",
      " -1.6000000e-01 -1.5000000e-01 -1.4000000e-01 -1.3000000e-01\n",
      " -1.2000000e-01 -1.1000000e-01 -1.0000000e-01 -9.0000000e-02\n",
      " -8.0000000e-02 -7.0000000e-02 -6.0000000e-02 -5.0000000e-02\n",
      " -4.0000000e-02 -3.0000000e-02 -2.0000000e-02 -1.0000000e-02\n",
      " -1.0658141e-13  1.0000000e-02  2.0000000e-02  3.0000000e-02\n",
      "  4.0000000e-02  5.0000000e-02  6.0000000e-02  7.0000000e-02\n",
      "  8.0000000e-02  9.0000000e-02  1.0000000e-01  1.1000000e-01\n",
      "  1.2000000e-01  1.3000000e-01  1.4000000e-01  1.5000000e-01\n",
      "  1.6000000e-01  1.7000000e-01  1.8000000e-01  1.9000000e-01\n",
      "  2.0000000e-01  2.1000000e-01  2.2000000e-01  2.3000000e-01\n",
      "  2.4000000e-01  2.5000000e-01  2.6000000e-01  2.7000000e-01\n",
      "  2.8000000e-01  2.9000000e-01  3.0000000e-01  3.1000000e-01\n",
      "  3.2000000e-01  3.3000000e-01  3.4000000e-01  3.5000000e-01\n",
      "  3.6000000e-01  3.7000000e-01  3.8000000e-01  3.9000000e-01\n",
      "  4.0000000e-01  4.1000000e-01  4.2000000e-01  4.3000000e-01\n",
      "  4.4000000e-01  4.5000000e-01  4.6000000e-01  4.7000000e-01\n",
      "  4.8000000e-01  4.9000000e-01  5.0000000e-01  5.1000000e-01\n",
      "  5.2000000e-01  5.3000000e-01  5.4000000e-01  5.5000000e-01\n",
      "  5.6000000e-01  5.7000000e-01  5.8000000e-01  5.9000000e-01\n",
      "  6.0000000e-01  6.1000000e-01  6.2000000e-01  6.3000000e-01\n",
      "  6.4000000e-01  6.5000000e-01  6.6000000e-01  6.7000000e-01\n",
      "  6.8000000e-01  6.9000000e-01  7.0000000e-01  7.1000000e-01\n",
      "  7.2000000e-01  7.3000000e-01  7.4000000e-01  7.5000000e-01\n",
      "  7.6000000e-01  7.7000000e-01  7.8000000e-01  7.9000000e-01\n",
      "  8.0000000e-01  8.1000000e-01  8.2000000e-01  8.3000000e-01\n",
      "  8.4000000e-01  8.5000000e-01  8.6000000e-01  8.7000000e-01\n",
      "  8.8000000e-01  8.9000000e-01  9.0000000e-01  9.1000000e-01\n",
      "  9.2000000e-01  9.3000000e-01  9.4000000e-01  9.5000000e-01\n",
      "  9.6000000e-01  9.7000000e-01  9.8000000e-01  9.9000000e-01\n",
      "  1.0000000e+00  1.0100000e+00  1.0200000e+00  1.0300000e+00\n",
      "  1.0400000e+00  1.0500000e+00  1.0600000e+00  1.0700000e+00\n",
      "  1.0800000e+00  1.0900000e+00  1.1000000e+00  1.1100000e+00\n",
      "  1.1200000e+00  1.1300000e+00  1.1400000e+00  1.1500000e+00\n",
      "  1.1600000e+00  1.1700000e+00  1.1800000e+00  1.1900000e+00\n",
      "  1.2000000e+00  1.2100000e+00  1.2200000e+00  1.2300000e+00\n",
      "  1.2400000e+00  1.2500000e+00  1.2600000e+00  1.2700000e+00\n",
      "  1.2800000e+00  1.2900000e+00  1.3000000e+00  1.3100000e+00\n",
      "  1.3200000e+00  1.3300000e+00  1.3400000e+00  1.3500000e+00\n",
      "  1.3600000e+00  1.3700000e+00  1.3800000e+00  1.3900000e+00\n",
      "  1.4000000e+00  1.4100000e+00  1.4200000e+00  1.4300000e+00\n",
      "  1.4400000e+00  1.4500000e+00  1.4600000e+00  1.4700000e+00\n",
      "  1.4800000e+00  1.4900000e+00  1.5000000e+00  1.5100000e+00\n",
      "  1.5200000e+00  1.5300000e+00  1.5400000e+00  1.5500000e+00\n",
      "  1.5600000e+00  1.5700000e+00  1.5800000e+00  1.5900000e+00\n",
      "  1.6000000e+00  1.6100000e+00  1.6200000e+00  1.6300000e+00\n",
      "  1.6400000e+00  1.6500000e+00  1.6600000e+00  1.6700000e+00\n",
      "  1.6800000e+00  1.6900000e+00  1.7000000e+00  1.7100000e+00\n",
      "  1.7200000e+00  1.7300000e+00  1.7400000e+00  1.7500000e+00\n",
      "  1.7600000e+00  1.7700000e+00  1.7800000e+00  1.7900000e+00\n",
      "  1.8000000e+00  1.8100000e+00  1.8200000e+00  1.8300000e+00\n",
      "  1.8400000e+00  1.8500000e+00  1.8600000e+00  1.8700000e+00\n",
      "  1.8800000e+00  1.8900000e+00  1.9000000e+00  1.9100000e+00\n",
      "  1.9200000e+00  1.9300000e+00  1.9400000e+00  1.9500000e+00\n",
      "  1.9600000e+00  1.9700000e+00  1.9800000e+00  1.9900000e+00\n",
      "  2.0000000e+00  2.0100000e+00  2.0200000e+00  2.0300000e+00\n",
      "  2.0400000e+00  2.0500000e+00  2.0600000e+00  2.0700000e+00\n",
      "  2.0800000e+00  2.0900000e+00  2.1000000e+00  2.1100000e+00\n",
      "  2.1200000e+00  2.1300000e+00  2.1400000e+00  2.1500000e+00\n",
      "  2.1600000e+00  2.1700000e+00  2.1800000e+00  2.1900000e+00\n",
      "  2.2000000e+00  2.2100000e+00  2.2200000e+00  2.2300000e+00\n",
      "  2.2400000e+00  2.2500000e+00  2.2600000e+00  2.2700000e+00\n",
      "  2.2800000e+00  2.2900000e+00  2.3000000e+00  2.3100000e+00\n",
      "  2.3200000e+00  2.3300000e+00  2.3400000e+00  2.3500000e+00\n",
      "  2.3600000e+00  2.3700000e+00  2.3800000e+00  2.3900000e+00\n",
      "  2.4000000e+00  2.4100000e+00  2.4200000e+00  2.4300000e+00\n",
      "  2.4400000e+00  2.4500000e+00  2.4600000e+00  2.4700000e+00\n",
      "  2.4800000e+00  2.4900000e+00  2.5000000e+00  2.5100000e+00\n",
      "  2.5200000e+00  2.5300000e+00  2.5400000e+00  2.5500000e+00\n",
      "  2.5600000e+00  2.5700000e+00  2.5800000e+00  2.5900000e+00\n",
      "  2.6000000e+00  2.6100000e+00  2.6200000e+00  2.6300000e+00\n",
      "  2.6400000e+00  2.6500000e+00  2.6600000e+00  2.6700000e+00\n",
      "  2.6800000e+00  2.6900000e+00  2.7000000e+00  2.7100000e+00\n",
      "  2.7200000e+00  2.7300000e+00  2.7400000e+00  2.7500000e+00\n",
      "  2.7600000e+00  2.7700000e+00  2.7800000e+00  2.7900000e+00\n",
      "  2.8000000e+00  2.8100000e+00  2.8200000e+00  2.8300000e+00\n",
      "  2.8400000e+00  2.8500000e+00  2.8600000e+00  2.8700000e+00\n",
      "  2.8800000e+00  2.8900000e+00  2.9000000e+00  2.9100000e+00\n",
      "  2.9200000e+00  2.9300000e+00  2.9400000e+00  2.9500000e+00\n",
      "  2.9600000e+00  2.9700000e+00  2.9800000e+00  2.9900000e+00\n",
      "  3.0000000e+00  3.0100000e+00  3.0200000e+00  3.0300000e+00\n",
      "  3.0400000e+00  3.0500000e+00  3.0600000e+00  3.0700000e+00\n",
      "  3.0800000e+00  3.0900000e+00  3.1000000e+00  3.1100000e+00\n",
      "  3.1200000e+00  3.1300000e+00  3.1400000e+00  3.1500000e+00\n",
      "  3.1600000e+00  3.1700000e+00  3.1800000e+00  3.1900000e+00\n",
      "  3.2000000e+00  3.2100000e+00  3.2200000e+00  3.2300000e+00\n",
      "  3.2400000e+00  3.2500000e+00  3.2600000e+00  3.2700000e+00\n",
      "  3.2800000e+00  3.2900000e+00  3.3000000e+00  3.3100000e+00\n",
      "  3.3200000e+00  3.3300000e+00  3.3400000e+00  3.3500000e+00\n",
      "  3.3600000e+00  3.3700000e+00  3.3800000e+00  3.3900000e+00\n",
      "  3.4000000e+00  3.4100000e+00  3.4200000e+00  3.4300000e+00\n",
      "  3.4400000e+00  3.4500000e+00  3.4600000e+00  3.4700000e+00\n",
      "  3.4800000e+00  3.4900000e+00  3.5000000e+00  3.5100000e+00\n",
      "  3.5200000e+00  3.5300000e+00  3.5400000e+00  3.5500000e+00\n",
      "  3.5600000e+00  3.5700000e+00  3.5800000e+00  3.5900000e+00\n",
      "  3.6000000e+00  3.6100000e+00  3.6200000e+00  3.6300000e+00\n",
      "  3.6400000e+00  3.6500000e+00  3.6600000e+00  3.6700000e+00\n",
      "  3.6800000e+00  3.6900000e+00  3.7000000e+00  3.7100000e+00\n",
      "  3.7200000e+00  3.7300000e+00  3.7400000e+00  3.7500000e+00\n",
      "  3.7600000e+00  3.7700000e+00  3.7800000e+00  3.7900000e+00\n",
      "  3.8000000e+00  3.8100000e+00  3.8200000e+00  3.8300000e+00\n",
      "  3.8400000e+00  3.8500000e+00  3.8600000e+00  3.8700000e+00\n",
      "  3.8800000e+00  3.8900000e+00  3.9000000e+00  3.9100000e+00\n",
      "  3.9200000e+00  3.9300000e+00  3.9400000e+00  3.9500000e+00\n",
      "  3.9600000e+00  3.9700000e+00  3.9800000e+00  3.9900000e+00\n",
      "  4.0000000e+00  4.0100000e+00  4.0200000e+00  4.0300000e+00\n",
      "  4.0400000e+00  4.0500000e+00  4.0600000e+00  4.0700000e+00\n",
      "  4.0800000e+00  4.0900000e+00  4.1000000e+00  4.1100000e+00\n",
      "  4.1200000e+00  4.1300000e+00  4.1400000e+00  4.1500000e+00\n",
      "  4.1600000e+00  4.1700000e+00  4.1800000e+00  4.1900000e+00\n",
      "  4.2000000e+00  4.2100000e+00  4.2200000e+00  4.2300000e+00\n",
      "  4.2400000e+00  4.2500000e+00  4.2600000e+00  4.2700000e+00\n",
      "  4.2800000e+00  4.2900000e+00  4.3000000e+00  4.3100000e+00\n",
      "  4.3200000e+00  4.3300000e+00  4.3400000e+00  4.3500000e+00\n",
      "  4.3600000e+00  4.3700000e+00  4.3800000e+00  4.3900000e+00\n",
      "  4.4000000e+00  4.4100000e+00  4.4200000e+00  4.4300000e+00\n",
      "  4.4400000e+00  4.4500000e+00  4.4600000e+00  4.4700000e+00\n",
      "  4.4800000e+00  4.4900000e+00  4.5000000e+00  4.5100000e+00\n",
      "  4.5200000e+00  4.5300000e+00  4.5400000e+00  4.5500000e+00\n",
      "  4.5600000e+00  4.5700000e+00  4.5800000e+00  4.5900000e+00\n",
      "  4.6000000e+00  4.6100000e+00  4.6200000e+00  4.6300000e+00\n",
      "  4.6400000e+00  4.6500000e+00  4.6600000e+00  4.6700000e+00\n",
      "  4.6800000e+00  4.6900000e+00  4.7000000e+00  4.7100000e+00\n",
      "  4.7200000e+00  4.7300000e+00  4.7400000e+00  4.7500000e+00\n",
      "  4.7600000e+00  4.7700000e+00  4.7800000e+00  4.7900000e+00\n",
      "  4.8000000e+00  4.8100000e+00  4.8200000e+00  4.8300000e+00\n",
      "  4.8400000e+00  4.8500000e+00  4.8600000e+00  4.8700000e+00\n",
      "  4.8800000e+00  4.8900000e+00  4.9000000e+00  4.9100000e+00\n",
      "  4.9200000e+00  4.9300000e+00  4.9400000e+00  4.9500000e+00\n",
      "  4.9600000e+00  4.9700000e+00  4.9800000e+00  4.9900000e+00]\n"
     ]
    }
   ],
   "source": [
    "points = np.arange(-5, 5, 0.01)\n",
    "print(f\"Points: {points}\")"
   ]
  },
  {
   "cell_type": "code",
   "execution_count": 67,
   "metadata": {},
   "outputs": [
    {
     "name": "stdout",
     "output_type": "stream",
     "text": [
      "X points: \n",
      "[[-5.   -4.99 -4.98 ...  4.97  4.98  4.99]\n",
      " [-5.   -4.99 -4.98 ...  4.97  4.98  4.99]\n",
      " [-5.   -4.99 -4.98 ...  4.97  4.98  4.99]\n",
      " ...\n",
      " [-5.   -4.99 -4.98 ...  4.97  4.98  4.99]\n",
      " [-5.   -4.99 -4.98 ...  4.97  4.98  4.99]\n",
      " [-5.   -4.99 -4.98 ...  4.97  4.98  4.99]]\n",
      "\n",
      "Y points: \n",
      "[[-5.   -5.   -5.   ... -5.   -5.   -5.  ]\n",
      " [-4.99 -4.99 -4.99 ... -4.99 -4.99 -4.99]\n",
      " [-4.98 -4.98 -4.98 ... -4.98 -4.98 -4.98]\n",
      " ...\n",
      " [ 4.97  4.97  4.97 ...  4.97  4.97  4.97]\n",
      " [ 4.98  4.98  4.98 ...  4.98  4.98  4.98]\n",
      " [ 4.99  4.99  4.99 ...  4.99  4.99  4.99]]\n"
     ]
    }
   ],
   "source": [
    "xs, ys = np.meshgrid(points, points)\n",
    "print(f\"X points: \\n{xs}\")\n",
    "print(f\"\\nY points: \\n{ys}\")"
   ]
  },
  {
   "cell_type": "markdown",
   "metadata": {},
   "source": [
    "`numpy.where()` function is a vectorized verison of terenary expression (x if condition else y)\n"
   ]
  },
  {
   "cell_type": "code",
   "execution_count": 68,
   "metadata": {},
   "outputs": [
    {
     "name": "stdout",
     "output_type": "stream",
     "text": [
      "Result of traditional terenay operation \n",
      "[np.float64(1.1), np.float64(2.2), np.float64(1.3), np.float64(1.4), np.float64(2.5)]\n",
      "\n",
      "Result of np.where [1.1 2.2 1.3 1.4 2.5]\n"
     ]
    }
   ],
   "source": [
    "xarr = np.array([1.1, 1.2, 1.3, 1.4, 1.5])\n",
    "yarr = np.array([2.1, 2.2, 2.3, 2.4, 2.5])\n",
    "cond = np.array([True, False, True, True, False])\n",
    "\n",
    "result = [(x if c else y)for x, y, c in zip(xarr, yarr, cond)]\n",
    "print(f\"Result of traditional terenay operation \\n{result}\")\n",
    "\n",
    "result = np.where(cond, xarr, yarr)\n",
    "print(f\"\\nResult of np.where {result}\")"
   ]
  },
  {
   "cell_type": "markdown",
   "metadata": {},
   "source": [
    "We can sort using `.sort()`\n"
   ]
  },
  {
   "cell_type": "code",
   "execution_count": 69,
   "metadata": {},
   "outputs": [
    {
     "name": "stdout",
     "output_type": "stream",
     "text": [
      "Samples: \n",
      "[  5 -10   7   1   0  -3]\n",
      "Sorted array: \n",
      "[-10  -3   0   1   5   7]\n"
     ]
    }
   ],
   "source": [
    "arr2 = np.array([5, -10, 7, 1, 0, -3])\n",
    "print(f\"Samples: \\n{arr2}\")\n",
    "\n",
    "sorted_arr2 = np.sort(arr2)\n",
    "\n",
    "print(f\"Sorted array: \\n{sorted_arr2}\")"
   ]
  },
  {
   "cell_type": "code",
   "execution_count": 70,
   "metadata": {},
   "outputs": [
    {
     "name": "stdout",
     "output_type": "stream",
     "text": [
      "Sample: \n",
      "[[ 3.34049734e-01 -1.41453850e+00  1.17720242e-02]\n",
      " [ 3.68256266e-01 -8.80881209e-02 -9.99436879e-02]\n",
      " [-9.44493098e-04  3.41581657e-02  8.50378186e-01]\n",
      " [ 7.01146371e-01 -5.09480603e-01  1.23175265e+00]\n",
      " [-1.26360052e+00 -8.75687937e-01 -4.14038410e-01]]\n",
      "\n",
      "Sample sorted by column \n",
      "[[-1.26360052e+00 -1.41453850e+00 -4.14038410e-01]\n",
      " [-9.44493098e-04 -8.75687937e-01 -9.99436879e-02]\n",
      " [ 3.34049734e-01 -5.09480603e-01  1.17720242e-02]\n",
      " [ 3.68256266e-01 -8.80881209e-02  8.50378186e-01]\n",
      " [ 7.01146371e-01  3.41581657e-02  1.23175265e+00]]\n",
      "\n",
      "Sample sorted by row \n",
      "[[-1.41453850e+00 -1.26360052e+00 -4.14038410e-01]\n",
      " [-8.75687937e-01 -9.99436879e-02 -9.44493098e-04]\n",
      " [-5.09480603e-01  1.17720242e-02  3.34049734e-01]\n",
      " [-8.80881209e-02  3.68256266e-01  8.50378186e-01]\n",
      " [ 3.41581657e-02  7.01146371e-01  1.23175265e+00]]\n"
     ]
    }
   ],
   "source": [
    "samples = np.random.standard_normal((5, 3))\n",
    "print(f\"Sample: \\n{samples}\")\n",
    "\n",
    "samples.sort(axis=0)\n",
    "print(f\"\\nSample sorted by column \\n{samples}\")\n",
    "\n",
    "samples.sort(axis=1)\n",
    "print(f\"\\nSample sorted by row \\n{samples}\")"
   ]
  },
  {
   "cell_type": "markdown",
   "metadata": {},
   "source": [
    "We can find unique values in an array using `np.unique()`\n"
   ]
  },
  {
   "cell_type": "code",
   "execution_count": 71,
   "metadata": {},
   "outputs": [
    {
     "name": "stdout",
     "output_type": "stream",
     "text": [
      "Unique values in samples [-1.41453850e+00 -1.26360052e+00 -8.75687937e-01 -5.09480603e-01\n",
      " -4.14038410e-01 -9.99436879e-02 -8.80881209e-02 -9.44493098e-04\n",
      "  1.17720242e-02  3.41581657e-02  3.34049734e-01  3.68256266e-01\n",
      "  7.01146371e-01  8.50378186e-01  1.23175265e+00]\n"
     ]
    }
   ],
   "source": [
    "print(f\"Unique values in samples {np.unique(samples)}\")"
   ]
  },
  {
   "cell_type": "markdown",
   "metadata": {},
   "source": [
    "# Pandas\n"
   ]
  },
  {
   "cell_type": "markdown",
   "metadata": {},
   "source": [
    "`pandas` is powerful and widely open source data manipulation and analysis library. It is built on top of NumPy and provides data structure and functions needed to work with structured data seamlessly\n"
   ]
  },
  {
   "cell_type": "markdown",
   "metadata": {},
   "source": [
    "It is commonly used for\n",
    "\n",
    "<ul>\n",
    "    <li>\n",
    "        Data cleaning and pre-processing like handling missing values, transforming data types, and normalizing data\n",
    "    </li>\n",
    "    <li>\n",
    "        Exploratory data analysis that includes summarizing data, calculating statisitcs, and visualizing data\n",
    "    </li>\n",
    "    <li>\n",
    "        Data wrangling that includes reshaping, merging, and filtering large datasets\n",
    "    </li>\n",
    "    <li>\n",
    "        Data transformation that includes applying functions and transformations to data\n",
    "    </li>\n",
    "    <li>\n",
    "        Time series analysis that includes working with date-time data for analysis and forecasting\n",
    "    </li>\n",
    "</ul>\n"
   ]
  },
  {
   "cell_type": "markdown",
   "metadata": {},
   "source": [
    "## Series\n"
   ]
  },
  {
   "cell_type": "markdown",
   "metadata": {},
   "source": [
    "`Series` is a one-dimensional array like object containing a sequence of values of the same type and an associated array of data labels called index\n"
   ]
  },
  {
   "cell_type": "code",
   "execution_count": 72,
   "metadata": {},
   "outputs": [
    {
     "data": {
      "text/plain": [
       "Apple                274515\n",
       "Samsung              200734\n",
       "Alphabet             182257\n",
       "Foxconn              181945\n",
       "Microsoft            143015\n",
       "Huawei               129184\n",
       "Dell Technlogoies     92224\n",
       "Meta                  85965\n",
       "Sony                  84893\n",
       "Name: Annual Revenue, dtype: int64"
      ]
     },
     "metadata": {},
     "output_type": "display_data"
    }
   ],
   "source": [
    "companies = ['Apple', 'Samsung', 'Alphabet', 'Foxconn', 'Microsoft', 'Huawei', 'Dell Technlogoies', 'Meta', 'Sony']\n",
    "\n",
    "revenue = [274_515, 200_734, 182_257, 181_945, 143_015, 129_184, 92_224, 85_965, 84_893]\n",
    "\n",
    "annual_report = pd.Series(revenue, index=companies, name='Annual Revenue')\n",
    "\n",
    "display(annual_report)"
   ]
  },
  {
   "cell_type": "markdown",
   "metadata": {},
   "source": [
    "The main component of series are:\n",
    "\n",
    "<ul>\n",
    "    <li>\n",
    "        Data:\n",
    "        <ul>\n",
    "            <li>\n",
    "                This is the most important component of the series. This the data we want to represent\n",
    "            </li>\n",
    "        </ul>\n",
    "    </li>\n",
    "    <li>\n",
    "        Index:\n",
    "        <ul>\n",
    "            <li>\n",
    "                The index indicates the \"labels\" of the data we are storing. It is not a required parameter as pandas assign default sequential numbers if index is not provided\n",
    "            </li>\n",
    "        </ul>\n",
    "    </li>\n",
    "    <li>\n",
    "        Name:\n",
    "        <ul>\n",
    "            <li>\n",
    "                This is sort of documentation that gives name to the table. This is also optional\n",
    "            </li>\n",
    "        </ul>\n",
    "    </li>\n",
    "</ul>\n"
   ]
  },
  {
   "cell_type": "markdown",
   "metadata": {},
   "source": [
    "Series are `strongly typed`; they have an enforced object type. A series of dtype int64 will consist only int64\n"
   ]
  },
  {
   "cell_type": "markdown",
   "metadata": {},
   "source": [
    "We can get data of Series by `index`, by `position` and also by multiple of those\n",
    "<br/> <br/>\n",
    "We use the Series index to reference and locate date associated with it. `Series.loc['index']` is the prefered method to reference values\n"
   ]
  },
  {
   "cell_type": "code",
   "execution_count": 73,
   "metadata": {},
   "outputs": [
    {
     "name": "stdout",
     "output_type": "stream",
     "text": [
      "Annual revenue of Apple: $274515\n",
      "Annual Revenue of Meta: $85965\n",
      "Annual revenue of Nvidia: $None\n",
      "Annual revenue of Samsung: $200734\n",
      "Annual revenue of Alphabet and Dell: \n",
      "Alphabet             182257\n",
      "Dell Technlogoies     92224\n",
      "Name: Annual Revenue, dtype: int64\n"
     ]
    }
   ],
   "source": [
    "print(f\"Annual revenue of Apple: ${annual_report['Apple']}\") # get the value associated with index 'Apple'\n",
    "print(f\"Annual Revenue of Meta: ${annual_report.get('Meta')}\") # another way to get data associated with an index\n",
    "\n",
    "# print(f\"Annual revenue of Nvidia: ${annual_report['Nvidia']}\") # This will give error because there is no index Nvidia\n",
    "# alternative is to use .get() which handles error properly\n",
    "\n",
    "print(f\"Annual revenue of Nvidia: ${annual_report.get('Nvidia')}\")\n",
    "\n",
    "print(f\"Annual revenue of Samsung: ${annual_report.loc['Samsung']}\") # another method to get associated with key\n",
    "\n",
    "print(f\"Annual revenue of Alphabet and Dell: \\n{annual_report.loc[['Alphabet', 'Dell Technlogoies']]}\")"
   ]
  },
  {
   "cell_type": "markdown",
   "metadata": {},
   "source": [
    "We can select elements by their position or order. `.iloc[]` method is used\n"
   ]
  },
  {
   "cell_type": "code",
   "execution_count": 74,
   "metadata": {},
   "outputs": [
    {
     "name": "stdout",
     "output_type": "stream",
     "text": [
      "First data in the series: 200734\n",
      "Last data in the series: 84893\n",
      "Data at first, 5 and last index: \n",
      "Apple     274515\n",
      "Huawei    129184\n",
      "Sony       84893\n",
      "Name: Annual Revenue, dtype: int64\n"
     ]
    }
   ],
   "source": [
    "print(f\"First data in the series: {annual_report.iloc[1]}\")\n",
    "print(f\"Last data in the series: {annual_report.iloc[-1]}\")\n",
    "print(f\"Data at first, 5 and last index: \\n{annual_report.iloc[[0, 5, -1]]}\")"
   ]
  },
  {
   "cell_type": "markdown",
   "metadata": {},
   "source": [
    "A series can be converted back to a dictionary using `to_dict()` method\n"
   ]
  },
  {
   "cell_type": "code",
   "execution_count": 75,
   "metadata": {},
   "outputs": [
    {
     "name": "stdout",
     "output_type": "stream",
     "text": [
      "Dictionary version of the series: {'Apple': 274515, 'Samsung': 200734, 'Alphabet': 182257, 'Foxconn': 181945, 'Microsoft': 143015, 'Huawei': 129184, 'Dell Technlogoies': 92224, 'Meta': 85965, 'Sony': 84893}\n"
     ]
    }
   ],
   "source": [
    "print(f\"Dictionary version of the series: {annual_report.to_dict()}\")"
   ]
  },
  {
   "cell_type": "markdown",
   "metadata": {},
   "source": [
    "The `isna()` function is used to detect missing, NA or null values\n"
   ]
  },
  {
   "cell_type": "code",
   "execution_count": 76,
   "metadata": {},
   "outputs": [
    {
     "name": "stdout",
     "output_type": "stream",
     "text": [
      "Missing values in series: Apple                False\n",
      "Samsung              False\n",
      "Alphabet             False\n",
      "Foxconn              False\n",
      "Microsoft            False\n",
      "Huawei               False\n",
      "Dell Technlogoies    False\n",
      "Meta                 False\n",
      "Sony                 False\n",
      "Name: Annual Revenue, dtype: bool\n"
     ]
    }
   ],
   "source": [
    "print(f\"Missing values in series: {pd.isna(annual_report)}\")"
   ]
  },
  {
   "cell_type": "markdown",
   "metadata": {},
   "source": [
    "To check if the values is not null or NA or missing, you can use `notna()`\n"
   ]
  },
  {
   "cell_type": "code",
   "execution_count": 77,
   "metadata": {},
   "outputs": [
    {
     "name": "stdout",
     "output_type": "stream",
     "text": [
      "Non-null values in the series: Apple                True\n",
      "Samsung              True\n",
      "Alphabet             True\n",
      "Foxconn              True\n",
      "Microsoft            True\n",
      "Huawei               True\n",
      "Dell Technlogoies    True\n",
      "Meta                 True\n",
      "Sony                 True\n",
      "Name: Annual Revenue, dtype: bool\n"
     ]
    }
   ],
   "source": [
    "print(f\"Non-null values in the series: {pd.notna(annual_report)}\")"
   ]
  },
  {
   "cell_type": "markdown",
   "metadata": {},
   "source": [
    "Series contain a lot of useful attributes and methods to interact with them. The most common methods are `.head()` [shows top 5 rows of the series] and `.tail()` [show bottom 5 of the series]\n"
   ]
  },
  {
   "cell_type": "code",
   "execution_count": 78,
   "metadata": {},
   "outputs": [
    {
     "name": "stdout",
     "output_type": "stream",
     "text": [
      "Top five rows of the annual report\n"
     ]
    },
    {
     "data": {
      "text/plain": [
       "Apple        274515\n",
       "Samsung      200734\n",
       "Alphabet     182257\n",
       "Foxconn      181945\n",
       "Microsoft    143015\n",
       "Name: Annual Revenue, dtype: int64"
      ]
     },
     "execution_count": 78,
     "metadata": {},
     "output_type": "execute_result"
    }
   ],
   "source": [
    "print(\"Top five rows of the annual report\")\n",
    "annual_report.head()"
   ]
  },
  {
   "cell_type": "code",
   "execution_count": 79,
   "metadata": {},
   "outputs": [
    {
     "name": "stdout",
     "output_type": "stream",
     "text": [
      "Bottom five rows of the annual report\n"
     ]
    },
    {
     "data": {
      "text/plain": [
       "Microsoft            143015\n",
       "Huawei               129184\n",
       "Dell Technlogoies     92224\n",
       "Meta                  85965\n",
       "Sony                  84893\n",
       "Name: Annual Revenue, dtype: int64"
      ]
     },
     "execution_count": 79,
     "metadata": {},
     "output_type": "execute_result"
    }
   ],
   "source": [
    "print(\"Bottom five rows of the annual report\")\n",
    "annual_report.tail()"
   ]
  },
  {
   "cell_type": "markdown",
   "metadata": {},
   "source": [
    "Once a series is constructed, we can access all the attributes separately. The main are:\n",
    "\n",
    "<ul>\n",
    "    <li>\n",
    "        .values (data of the series)\n",
    "    </li>\n",
    "    <li>\n",
    "        .index (index of the series)\n",
    "    </li>\n",
    "    <li>\n",
    "        .name (name of the series)\n",
    "    </li>\n",
    "    <li>\n",
    "        .dtype (type assigned)\n",
    "    </li>\n",
    "    <li>\n",
    "        .size (number of elements)\n",
    "    </li>\n",
    "</ul>\n"
   ]
  },
  {
   "cell_type": "code",
   "execution_count": 80,
   "metadata": {},
   "outputs": [
    {
     "name": "stdout",
     "output_type": "stream",
     "text": [
      "Values of the annual report series: \n",
      "[274515 200734 182257 181945 143015 129184  92224  85965  84893]\n",
      "\n",
      "Indexes of the annual report series: \n",
      "Index(['Apple', 'Samsung', 'Alphabet', 'Foxconn', 'Microsoft', 'Huawei',\n",
      "       'Dell Technlogoies', 'Meta', 'Sony'],\n",
      "      dtype='object')\n",
      "\n",
      "Name of the series: Annual Revenue\n",
      "Type of the values of the series: int64\n",
      "Number of elements in the series: 9\n"
     ]
    }
   ],
   "source": [
    "print(f\"Values of the annual report series: \\n{annual_report.values}\")\n",
    "\n",
    "print(f\"\\nIndexes of the annual report series: \\n{annual_report.index}\")\n",
    "\n",
    "print(f\"\\nName of the series: {annual_report.name}\")\n",
    "\n",
    "print(f\"Type of the values of the series: {annual_report.dtype}\")\n",
    "print(f\"Number of elements in the series: {annual_report.size}\")"
   ]
  },
  {
   "cell_type": "markdown",
   "metadata": {},
   "source": [
    "The `.describe()` gives a quick summary of statistics of the series\n"
   ]
  },
  {
   "cell_type": "code",
   "execution_count": 81,
   "metadata": {},
   "outputs": [
    {
     "name": "stdout",
     "output_type": "stream",
     "text": [
      "Quick summary of the annual report series\n"
     ]
    },
    {
     "data": {
      "text/plain": [
       "count         9.000000\n",
       "mean     152748.000000\n",
       "std       63472.949406\n",
       "min       84893.000000\n",
       "25%       92224.000000\n",
       "50%      143015.000000\n",
       "75%      182257.000000\n",
       "max      274515.000000\n",
       "Name: Annual Revenue, dtype: float64"
      ]
     },
     "execution_count": 81,
     "metadata": {},
     "output_type": "execute_result"
    }
   ],
   "source": [
    "print(f\"Quick summary of the annual report series\")\n",
    "annual_report.describe()"
   ]
  },
  {
   "cell_type": "markdown",
   "metadata": {},
   "source": [
    "There are also other statisitical methods\n"
   ]
  },
  {
   "cell_type": "code",
   "execution_count": 82,
   "metadata": {},
   "outputs": [
    {
     "name": "stdout",
     "output_type": "stream",
     "text": [
      "Median of the annual report series: 143015.0\n",
      "\n",
      "Standard deviation of the annual report series: 63472.94940563263\n",
      "\n",
      "Variance of the annual report series: 4028815306.25\n",
      "\n",
      "Maximum value of the annual report series:274515\n"
     ]
    }
   ],
   "source": [
    "print(f\"Median of the annual report series: {annual_report.median()}\")\n",
    "\n",
    "print(f\"\\nStandard deviation of the annual report series: {annual_report.std()}\")\n",
    "\n",
    "print(f\"\\nVariance of the annual report series: {annual_report.var()}\")\n",
    "\n",
    "print(f\"\\nMaximum value of the annual report series:{annual_report.max()}\")"
   ]
  },
  {
   "cell_type": "markdown",
   "metadata": {},
   "source": [
    "Sorting series is extermely simple. You can sort series by values (`.sort_values()`) or by index (`.sort_index()`). By default, it is sorted in ascending order.\n"
   ]
  },
  {
   "cell_type": "code",
   "execution_count": 83,
   "metadata": {},
   "outputs": [
    {
     "name": "stdout",
     "output_type": "stream",
     "text": [
      "Annual report series: \n",
      "Apple                274515\n",
      "Samsung              200734\n",
      "Alphabet             182257\n",
      "Foxconn              181945\n",
      "Microsoft            143015\n",
      "Huawei               129184\n",
      "Dell Technlogoies     92224\n",
      "Meta                  85965\n",
      "Sony                  84893\n",
      "Name: Annual Revenue, dtype: int64\n",
      "\n",
      "Series sorted by values: \n",
      "Sony                  84893\n",
      "Meta                  85965\n",
      "Dell Technlogoies     92224\n",
      "Huawei               129184\n",
      "Microsoft            143015\n",
      "Name: Annual Revenue, dtype: int64\n",
      "\n",
      "Series sorted by index in descending order: \n",
      "Sony          84893\n",
      "Samsung      200734\n",
      "Microsoft    143015\n",
      "Meta          85965\n",
      "Huawei       129184\n",
      "Name: Annual Revenue, dtype: int64\n"
     ]
    }
   ],
   "source": [
    "print(f\"Annual report series: \\n{annual_report}\")\n",
    "\n",
    "print(f\"\\nSeries sorted by values: \\n{annual_report.sort_values().head()}\")\n",
    "\n",
    "print(f\"\\nSeries sorted by index in descending order: \\n{annual_report.sort_index(ascending=False).head()}\")"
   ]
  },
  {
   "cell_type": "markdown",
   "metadata": {},
   "source": [
    "An important concept in data science and pandas is immutabilty. `In data science, we dont want to mutate or change things as it is harder to keep track of these changes`\n",
    "<br/><br/>\n",
    "By default, when you sort series or perform other mutating operations, you dont `actually` sort the series itself,. There's a `new` series returned. The underlying series is not changed\n",
    "\n",
    "<br/> <br/>\n",
    "If you do want to mutate your series, you must pass `inplace=True` attribute\n"
   ]
  },
  {
   "cell_type": "code",
   "execution_count": 84,
   "metadata": {},
   "outputs": [
    {
     "name": "stdout",
     "output_type": "stream",
     "text": [
      "Sorted series: \n",
      "Sony                  84893\n",
      "Meta                  85965\n",
      "Dell Technlogoies     92224\n",
      "Huawei               129184\n",
      "Microsoft            143015\n",
      "Foxconn              181945\n",
      "Alphabet             182257\n",
      "Samsung              200734\n",
      "Apple                274515\n",
      "Name: Annual Revenue, dtype: int64\n",
      "\n",
      "\n",
      "Original series after sorting: \n",
      "Apple                274515\n",
      "Samsung              200734\n",
      "Alphabet             182257\n",
      "Foxconn              181945\n",
      "Microsoft            143015\n",
      "Huawei               129184\n",
      "Dell Technlogoies     92224\n",
      "Meta                  85965\n",
      "Sony                  84893\n",
      "Name: Annual Revenue, dtype: int64\n",
      "\n",
      "-----------------------------------------\n",
      "\n",
      "Original series after sorting: \n",
      "Sony                  84893\n",
      "Meta                  85965\n",
      "Dell Technlogoies     92224\n",
      "Huawei               129184\n",
      "Microsoft            143015\n",
      "Foxconn              181945\n",
      "Alphabet             182257\n",
      "Samsung              200734\n",
      "Apple                274515\n",
      "Name: Annual Revenue, dtype: int64\n"
     ]
    }
   ],
   "source": [
    "print(f\"Sorted series: \\n{annual_report.sort_values()}\")\n",
    "\n",
    "print(f\"\\n\\nOriginal series after sorting: \\n{annual_report}\" ) # the original series is not mutated\n",
    "\n",
    "print('\\n-----------------------------------------\\n')\n",
    "\n",
    "annual_report.sort_values(inplace=True)\n",
    "\n",
    "print(f\"Original series after sorting: \\n{annual_report}\" ) # the original series is also mutated"
   ]
  },
  {
   "cell_type": "markdown",
   "metadata": {},
   "source": [
    "Modifying a series is something that we hardly want to do as it is not recommended. However, it is still possible by changing values, adding or removing elements\n"
   ]
  },
  {
   "cell_type": "code",
   "execution_count": 85,
   "metadata": {},
   "outputs": [
    {
     "name": "stdout",
     "output_type": "stream",
     "text": [
      "Annual report\n"
     ]
    },
    {
     "data": {
      "text/plain": [
       "Sony                  84893\n",
       "Meta                  85965\n",
       "Dell Technlogoies     92224\n",
       "Huawei               129184\n",
       "Microsoft            143015\n",
       "Foxconn              181945\n",
       "Alphabet             182257\n",
       "Samsung              200734\n",
       "Apple                274515\n",
       "Name: Annual Revenue, dtype: int64"
      ]
     },
     "metadata": {},
     "output_type": "display_data"
    },
    {
     "name": "stdout",
     "output_type": "stream",
     "text": [
      "Changing value of Microsoft\n",
      "\n",
      "Annual report after modification\n"
     ]
    },
    {
     "data": {
      "text/plain": [
       "Sony                  84893\n",
       "Meta                  85965\n",
       "Dell Technlogoies     92224\n",
       "Huawei               129184\n",
       "Microsoft            320120\n",
       "Foxconn              181945\n",
       "Alphabet             182257\n",
       "Samsung              200734\n",
       "Apple                274515\n",
       "Name: Annual Revenue, dtype: int64"
      ]
     },
     "metadata": {},
     "output_type": "display_data"
    },
    {
     "name": "stdout",
     "output_type": "stream",
     "text": [
      "Annual report after deleting Sony data and adding Nvidia data\n"
     ]
    },
    {
     "data": {
      "text/plain": [
       "Meta                  85965\n",
       "Dell Technlogoies     92224\n",
       "Huawei               129184\n",
       "Microsoft            320120\n",
       "Foxconn              181945\n",
       "Alphabet             182257\n",
       "Samsung              200734\n",
       "Apple                274515\n",
       "Nvidia               292564\n",
       "Name: Annual Revenue, dtype: int64"
      ]
     },
     "metadata": {},
     "output_type": "display_data"
    }
   ],
   "source": [
    "print(\"Annual report\")\n",
    "display(annual_report)\n",
    "\n",
    "print(\"Changing value of Microsoft\\n\")\n",
    "\n",
    "annual_report['Microsoft'] = 320_120\n",
    "print(\"Annual report after modification\")\n",
    "display(annual_report)\n",
    "\n",
    "annual_report['Nvidia'] = 292_564\n",
    "del annual_report['Sony']\n",
    "\n",
    "print(\"Annual report after deleting Sony data and adding Nvidia data\")\n",
    "display(annual_report)"
   ]
  },
  {
   "cell_type": "markdown",
   "metadata": {},
   "source": [
    "We can concatenate two series using the `concat()` method\n",
    "<br/> <br/>\n",
    "`series.concat([DF1/Series1, DF2/Series2])`\n"
   ]
  },
  {
   "cell_type": "code",
   "execution_count": 86,
   "metadata": {},
   "outputs": [
    {
     "data": {
      "text/plain": [
       "Meta                  85965\n",
       "Dell Technlogoies     92224\n",
       "Huawei               129184\n",
       "Microsoft            320120\n",
       "Foxconn              181945\n",
       "Alphabet             182257\n",
       "Samsung              200734\n",
       "Apple                274515\n",
       "Nvidia               292564\n",
       "Tesla                150635\n",
       "Google               265530\n",
       "dtype: int64"
      ]
     },
     "metadata": {},
     "output_type": "display_data"
    }
   ],
   "source": [
    "new_data = pd.Series([150_635, 265_530], index= ['Tesla', 'Google'])\n",
    "\n",
    "new_annual_report = pd.concat([annual_report, new_data])\n",
    "display(new_annual_report)"
   ]
  },
  {
   "cell_type": "markdown",
   "metadata": {},
   "source": [
    "### Filtering and Conditional in Series\n"
   ]
  },
  {
   "cell_type": "markdown",
   "metadata": {},
   "source": [
    "`Conditional selection` is like filtering or querying. It allow us to answer the following types of questions\n",
    "\n",
    "<ul>\n",
    "    <li>\n",
    "        What companies made more than $x\n",
    "    </li>\n",
    "    <li>\n",
    "        What companies made less than $x\n",
    "    </li>\n",
    "    <li>\n",
    "        What companies made between $x and $y\n",
    "    </li>\n",
    "</ul>\n"
   ]
  },
  {
   "cell_type": "markdown",
   "metadata": {},
   "source": [
    "`Boolean array` is a way of selecting in which we pass the full index of the series and indicate what elements we want to select and which one we want to skip. We indicate this by passing Boolean values; True or False\n"
   ]
  },
  {
   "cell_type": "code",
   "execution_count": 87,
   "metadata": {},
   "outputs": [
    {
     "data": {
      "text/plain": [
       "Meta                  85965\n",
       "Dell Technlogoies     92224\n",
       "Huawei               129184\n",
       "Microsoft            320120\n",
       "Foxconn              181945\n",
       "Alphabet             182257\n",
       "Samsung              200734\n",
       "Apple                274515\n",
       "Nvidia               292564\n",
       "Name: Annual Revenue, dtype: int64"
      ]
     },
     "metadata": {},
     "output_type": "display_data"
    },
    {
     "name": "stdout",
     "output_type": "stream",
     "text": [
      "\n",
      "Selecting certain companies: \n",
      "\n"
     ]
    },
    {
     "data": {
      "text/plain": [
       "Meta        85965\n",
       "Huawei     129184\n",
       "Foxconn    181945\n",
       "Samsung    200734\n",
       "Apple      274515\n",
       "Name: Annual Revenue, dtype: int64"
      ]
     },
     "metadata": {},
     "output_type": "display_data"
    }
   ],
   "source": [
    "display(annual_report)\n",
    "print(f\"\\nSelecting certain companies: \\n\")\n",
    "display(annual_report.loc[[\n",
    "    True,      # Apple\n",
    "    False,     # Samsung\n",
    "    True,      # Alphabet\n",
    "    False,     # Foxconn\n",
    "    True,      # Microsoft\n",
    "    False,     # Huawei\n",
    "    True,      # Dell\n",
    "    True,      # Meta\n",
    "    False,     # Sony\n",
    "]])"
   ]
  },
  {
   "cell_type": "markdown",
   "metadata": {},
   "source": [
    "Only those values are selected for which we have True value\n"
   ]
  },
  {
   "cell_type": "markdown",
   "metadata": {},
   "source": [
    "Moreover, series accept comparison operators (boolean operator) like `>` `<` etc\n"
   ]
  },
  {
   "cell_type": "code",
   "execution_count": 88,
   "metadata": {},
   "outputs": [
    {
     "name": "stdout",
     "output_type": "stream",
     "text": [
      "Companies which revenue exceeds the $200 billion dollar \n",
      "Microsoft    320120\n",
      "Samsung      200734\n",
      "Apple        274515\n",
      "Nvidia       292564\n",
      "Name: Annual Revenue, dtype: int64\n"
     ]
    }
   ],
   "source": [
    "print(f\"Companies which revenue exceeds the $200 billion dollar \\n{annual_report.loc[annual_report>200_000]}\")"
   ]
  },
  {
   "cell_type": "code",
   "execution_count": 89,
   "metadata": {},
   "outputs": [
    {
     "name": "stdout",
     "output_type": "stream",
     "text": [
      "Companies with revenue less than $90,000 million dollar \n",
      "Meta    85965\n",
      "Name: Annual Revenue, dtype: int64\n"
     ]
    }
   ],
   "source": [
    "print(f\"Companies with revenue less than $90,000 million dollar \\n{annual_report.loc[annual_report < 90_000]}\")"
   ]
  },
  {
   "cell_type": "code",
   "execution_count": 90,
   "metadata": {},
   "outputs": [
    {
     "name": "stdout",
     "output_type": "stream",
     "text": [
      "Companies with revenue above average: \n",
      "Microsoft    320120\n",
      "Samsung      200734\n",
      "Apple        274515\n",
      "Nvidia       292564\n",
      "Name: Annual Revenue, dtype: int64\n"
     ]
    }
   ],
   "source": [
    "print(f\"Companies with revenue above average: \\n{annual_report.loc[annual_report > annual_report.mean()]}\")"
   ]
  },
  {
   "cell_type": "code",
   "execution_count": 91,
   "metadata": {},
   "outputs": [
    {
     "name": "stdout",
     "output_type": "stream",
     "text": [
      "Companies with revenue greater than $200 billion or less than $90000 million \n"
     ]
    },
    {
     "data": {
      "text/plain": [
       "Meta          85965\n",
       "Microsoft    320120\n",
       "Foxconn      181945\n",
       "Alphabet     182257\n",
       "Samsung      200734\n",
       "Apple        274515\n",
       "Nvidia       292564\n",
       "Name: Annual Revenue, dtype: int64"
      ]
     },
     "execution_count": 91,
     "metadata": {},
     "output_type": "execute_result"
    }
   ],
   "source": [
    "print(f\"Companies with revenue greater than $200 billion or less than $90000 million \")\n",
    "annual_report.loc[(annual_report < 90_000) | (annual_report > 150_000)]"
   ]
  },
  {
   "cell_type": "code",
   "execution_count": 92,
   "metadata": {},
   "outputs": [
    {
     "name": "stdout",
     "output_type": "stream",
     "text": [
      "Companies with revenue not less than $150 billion: Microsoft    320120\n",
      "Foxconn      181945\n",
      "Alphabet     182257\n",
      "Samsung      200734\n",
      "Apple        274515\n",
      "Nvidia       292564\n",
      "Name: Annual Revenue, dtype: int64\n"
     ]
    }
   ],
   "source": [
    "print(f\"Companies with revenue not less than $150 billion: {annual_report.loc[~(annual_report<150_000)]}\")"
   ]
  },
  {
   "cell_type": "code",
   "execution_count": 93,
   "metadata": {},
   "outputs": [
    {
     "name": "stdout",
     "output_type": "stream",
     "text": [
      "Companies with most and least revenue:\n",
      "Meta          85965\n",
      "Microsoft    320120\n",
      "Name: Annual Revenue, dtype: int64\n"
     ]
    }
   ],
   "source": [
    "print(f\"Companies with most and least revenue:\\n{annual_report.loc[(annual_report == annual_report.max()) | (annual_report == annual_report.min())]}\")"
   ]
  },
  {
   "cell_type": "code",
   "execution_count": 94,
   "metadata": {},
   "outputs": [
    {
     "name": "stdout",
     "output_type": "stream",
     "text": [
      "Count of each value\n"
     ]
    },
    {
     "data": {
      "text/plain": [
       "Annual Revenue\n",
       "85965     1\n",
       "92224     1\n",
       "129184    1\n",
       "320120    1\n",
       "181945    1\n",
       "182257    1\n",
       "200734    1\n",
       "274515    1\n",
       "292564    1\n",
       "Name: count, dtype: int64"
      ]
     },
     "execution_count": 94,
     "metadata": {},
     "output_type": "execute_result"
    }
   ],
   "source": [
    "print(\"Count of each value\")\n",
    "annual_report.value_counts()"
   ]
  },
  {
   "cell_type": "markdown",
   "metadata": {},
   "source": [
    "We can perform arithmetic process on series (just like we do in numpy known as vectorization)\n"
   ]
  },
  {
   "cell_type": "code",
   "execution_count": 95,
   "metadata": {},
   "outputs": [
    {
     "name": "stdout",
     "output_type": "stream",
     "text": [
      "Revenue of companies in billion\n"
     ]
    },
    {
     "data": {
      "text/plain": [
       "Meta                  85.965\n",
       "Dell Technlogoies     92.224\n",
       "Huawei               129.184\n",
       "Microsoft            320.120\n",
       "Foxconn              181.945\n",
       "Alphabet             182.257\n",
       "Samsung              200.734\n",
       "Apple                274.515\n",
       "Nvidia               292.564\n",
       "Name: Annual Revenue, dtype: float64"
      ]
     },
     "metadata": {},
     "output_type": "display_data"
    }
   ],
   "source": [
    "revenue_in_billions = annual_report / 1000 # arithmetic operations as it is scalar. Same in numpy. Applicable in pandas because pandas is built on top of numpy\n",
    "\n",
    "print(f\"Revenue of companies in billion\")\n",
    "display(revenue_in_billions)"
   ]
  },
  {
   "cell_type": "code",
   "execution_count": 96,
   "metadata": {},
   "outputs": [
    {
     "name": "stdout",
     "output_type": "stream",
     "text": [
      "Subtracting 10 million taxes\n"
     ]
    },
    {
     "data": {
      "text/plain": [
       "Meta                  75.965\n",
       "Dell Technlogoies     82.224\n",
       "Huawei               119.184\n",
       "Microsoft            310.120\n",
       "Foxconn              171.945\n",
       "Alphabet             172.257\n",
       "Samsung              190.734\n",
       "Apple                264.515\n",
       "Nvidia               282.564\n",
       "Name: Annual Revenue, dtype: float64"
      ]
     },
     "execution_count": 96,
     "metadata": {},
     "output_type": "execute_result"
    }
   ],
   "source": [
    "print(f\"Subtracting 10 million taxes\")\n",
    "revenue_in_billions - 10"
   ]
  },
  {
   "cell_type": "code",
   "execution_count": 97,
   "metadata": {},
   "outputs": [
    {
     "name": "stdout",
     "output_type": "stream",
     "text": [
      "Annual revenue in dollars Meta                  85965000000\n",
      "Dell Technlogoies     92224000000\n",
      "Huawei               129184000000\n",
      "Microsoft            320120000000\n",
      "Foxconn              181945000000\n",
      "Alphabet             182257000000\n",
      "Samsung              200734000000\n",
      "Apple                274515000000\n",
      "Nvidia               292564000000\n",
      "Name: Annual Revenue, dtype: int64\n"
     ]
    }
   ],
   "source": [
    "print(f\"Annual revenue in dollars {annual_report * 1_000_000}\")"
   ]
  },
  {
   "cell_type": "code",
   "execution_count": 98,
   "metadata": {},
   "outputs": [],
   "source": [
    "recession_impact = pd.Series([\n",
    "    0.91, 0.93, 0.98, 0.97, 0.99, 0.89, 0.87,\n",
    "    0.82, 0.93], index=companies)"
   ]
  },
  {
   "cell_type": "markdown",
   "metadata": {},
   "source": [
    "We can add, subtract, divide or multiply series with same data length\n"
   ]
  },
  {
   "cell_type": "code",
   "execution_count": 99,
   "metadata": {},
   "outputs": [
    {
     "name": "stdout",
     "output_type": "stream",
     "text": [
      "Revenue after recession hit Alphabet             178611.86\n",
      "Apple                249808.65\n",
      "Dell Technlogoies     80234.88\n",
      "Foxconn              176486.65\n",
      "Huawei               114973.76\n",
      "Meta                  70491.30\n",
      "Microsoft            316918.80\n",
      "Nvidia                     NaN\n",
      "Samsung              186682.62\n",
      "Sony                       NaN\n",
      "dtype: float64\n",
      "\n"
     ]
    }
   ],
   "source": [
    "print(f\"Revenue after recession hit {annual_report * recession_impact}\\n\")"
   ]
  },
  {
   "cell_type": "markdown",
   "metadata": {},
   "source": [
    "## DataFrame\n",
    "\n",
    "A `dataframe` represents a rectangular table of data and contains an ordered, named collection of columns, each of which can be a different value type\n",
    "<br/> <br/>\n",
    "A dataframe has both a row and column index; it can be thought of as a dictionary of Series all sharing the same index. It provides an efficient way to work with large amount of structured data\n",
    "\n",
    "<ul>\n",
    "    <li>Series is a single column in a DataFrame</li>\n",
    "    <li>Dataframe is entire table of data</li>\n",
    "</ul>\n"
   ]
  },
  {
   "cell_type": "code",
   "execution_count": 3,
   "metadata": {},
   "outputs": [],
   "source": [
    "# Lists of data\n",
    "data = {'Revenue': [274515,200734,182527,181945,143015,129184,92224,85965,84893,82345,77867,73620,69864,63191],\n",
    "        'Employees': [147000,267937,135301,878429,163000,197000,158000,58604,109700,350864,110600,364800,85858,243540],\n",
    "        'Sector': ['Consumer Electronics','Consumer Electronics','Software Services',\n",
    "                'Chip Manufacturing','Software Services','Consumer Electronics',\n",
    "                'Consumer Electronics','Software Services','Consumer Electronics',\n",
    "                'Consumer Electronics','Chip Manufacturing','Software Services',\n",
    "                'Software Services','Consumer Electronics'],\n",
    "        'Founding Date':['01-04-1976','13-01-1969','04-09-1998','20-02-1974',\n",
    "                        '04-04-1975','15-09-1987','01-02-1984','04-02-2004',\n",
    "                        '07-04-1946','01-01-1910','18-07-1968','16-06-1911',\n",
    "                        '11-11-1998','07-03-1918'],\n",
    "        'Country':['USA','South Korea','USA','Taiwan','USA','China','USA','USA',\n",
    "                'Japan','Japan','USA','USA','China','Japan']} \n",
    "index = ['Apple','Samsung','Alphabet','Foxconn','Microsoft','Huawei',\n",
    "        'Dell Technologies','Meta','Sony','Hitachi','Intel','IBM',\n",
    "        'Tencent','Panasonic']"
   ]
  },
  {
   "cell_type": "code",
   "execution_count": 4,
   "metadata": {},
   "outputs": [
    {
     "data": {
      "text/html": [
       "<div>\n",
       "<style scoped>\n",
       "    .dataframe tbody tr th:only-of-type {\n",
       "        vertical-align: middle;\n",
       "    }\n",
       "\n",
       "    .dataframe tbody tr th {\n",
       "        vertical-align: top;\n",
       "    }\n",
       "\n",
       "    .dataframe thead th {\n",
       "        text-align: right;\n",
       "    }\n",
       "</style>\n",
       "<table border=\"1\" class=\"dataframe\">\n",
       "  <thead>\n",
       "    <tr style=\"text-align: right;\">\n",
       "      <th></th>\n",
       "      <th>Revenue</th>\n",
       "      <th>Employees</th>\n",
       "      <th>Sector</th>\n",
       "      <th>Founding Date</th>\n",
       "      <th>Country</th>\n",
       "    </tr>\n",
       "  </thead>\n",
       "  <tbody>\n",
       "    <tr>\n",
       "      <th>Apple</th>\n",
       "      <td>274515</td>\n",
       "      <td>147000</td>\n",
       "      <td>Consumer Electronics</td>\n",
       "      <td>01-04-1976</td>\n",
       "      <td>USA</td>\n",
       "    </tr>\n",
       "    <tr>\n",
       "      <th>Samsung</th>\n",
       "      <td>200734</td>\n",
       "      <td>267937</td>\n",
       "      <td>Consumer Electronics</td>\n",
       "      <td>13-01-1969</td>\n",
       "      <td>South Korea</td>\n",
       "    </tr>\n",
       "    <tr>\n",
       "      <th>Alphabet</th>\n",
       "      <td>182527</td>\n",
       "      <td>135301</td>\n",
       "      <td>Software Services</td>\n",
       "      <td>04-09-1998</td>\n",
       "      <td>USA</td>\n",
       "    </tr>\n",
       "    <tr>\n",
       "      <th>Foxconn</th>\n",
       "      <td>181945</td>\n",
       "      <td>878429</td>\n",
       "      <td>Chip Manufacturing</td>\n",
       "      <td>20-02-1974</td>\n",
       "      <td>Taiwan</td>\n",
       "    </tr>\n",
       "    <tr>\n",
       "      <th>Microsoft</th>\n",
       "      <td>143015</td>\n",
       "      <td>163000</td>\n",
       "      <td>Software Services</td>\n",
       "      <td>04-04-1975</td>\n",
       "      <td>USA</td>\n",
       "    </tr>\n",
       "    <tr>\n",
       "      <th>Huawei</th>\n",
       "      <td>129184</td>\n",
       "      <td>197000</td>\n",
       "      <td>Consumer Electronics</td>\n",
       "      <td>15-09-1987</td>\n",
       "      <td>China</td>\n",
       "    </tr>\n",
       "    <tr>\n",
       "      <th>Dell Technologies</th>\n",
       "      <td>92224</td>\n",
       "      <td>158000</td>\n",
       "      <td>Consumer Electronics</td>\n",
       "      <td>01-02-1984</td>\n",
       "      <td>USA</td>\n",
       "    </tr>\n",
       "    <tr>\n",
       "      <th>Meta</th>\n",
       "      <td>85965</td>\n",
       "      <td>58604</td>\n",
       "      <td>Software Services</td>\n",
       "      <td>04-02-2004</td>\n",
       "      <td>USA</td>\n",
       "    </tr>\n",
       "    <tr>\n",
       "      <th>Sony</th>\n",
       "      <td>84893</td>\n",
       "      <td>109700</td>\n",
       "      <td>Consumer Electronics</td>\n",
       "      <td>07-04-1946</td>\n",
       "      <td>Japan</td>\n",
       "    </tr>\n",
       "    <tr>\n",
       "      <th>Hitachi</th>\n",
       "      <td>82345</td>\n",
       "      <td>350864</td>\n",
       "      <td>Consumer Electronics</td>\n",
       "      <td>01-01-1910</td>\n",
       "      <td>Japan</td>\n",
       "    </tr>\n",
       "    <tr>\n",
       "      <th>Intel</th>\n",
       "      <td>77867</td>\n",
       "      <td>110600</td>\n",
       "      <td>Chip Manufacturing</td>\n",
       "      <td>18-07-1968</td>\n",
       "      <td>USA</td>\n",
       "    </tr>\n",
       "    <tr>\n",
       "      <th>IBM</th>\n",
       "      <td>73620</td>\n",
       "      <td>364800</td>\n",
       "      <td>Software Services</td>\n",
       "      <td>16-06-1911</td>\n",
       "      <td>USA</td>\n",
       "    </tr>\n",
       "    <tr>\n",
       "      <th>Tencent</th>\n",
       "      <td>69864</td>\n",
       "      <td>85858</td>\n",
       "      <td>Software Services</td>\n",
       "      <td>11-11-1998</td>\n",
       "      <td>China</td>\n",
       "    </tr>\n",
       "    <tr>\n",
       "      <th>Panasonic</th>\n",
       "      <td>63191</td>\n",
       "      <td>243540</td>\n",
       "      <td>Consumer Electronics</td>\n",
       "      <td>07-03-1918</td>\n",
       "      <td>Japan</td>\n",
       "    </tr>\n",
       "  </tbody>\n",
       "</table>\n",
       "</div>"
      ],
      "text/plain": [
       "                   Revenue  Employees                Sector Founding Date  \\\n",
       "Apple               274515     147000  Consumer Electronics    01-04-1976   \n",
       "Samsung             200734     267937  Consumer Electronics    13-01-1969   \n",
       "Alphabet            182527     135301     Software Services    04-09-1998   \n",
       "Foxconn             181945     878429    Chip Manufacturing    20-02-1974   \n",
       "Microsoft           143015     163000     Software Services    04-04-1975   \n",
       "Huawei              129184     197000  Consumer Electronics    15-09-1987   \n",
       "Dell Technologies    92224     158000  Consumer Electronics    01-02-1984   \n",
       "Meta                 85965      58604     Software Services    04-02-2004   \n",
       "Sony                 84893     109700  Consumer Electronics    07-04-1946   \n",
       "Hitachi              82345     350864  Consumer Electronics    01-01-1910   \n",
       "Intel                77867     110600    Chip Manufacturing    18-07-1968   \n",
       "IBM                  73620     364800     Software Services    16-06-1911   \n",
       "Tencent              69864      85858     Software Services    11-11-1998   \n",
       "Panasonic            63191     243540  Consumer Electronics    07-03-1918   \n",
       "\n",
       "                       Country  \n",
       "Apple                      USA  \n",
       "Samsung            South Korea  \n",
       "Alphabet                   USA  \n",
       "Foxconn                 Taiwan  \n",
       "Microsoft                  USA  \n",
       "Huawei                   China  \n",
       "Dell Technologies          USA  \n",
       "Meta                       USA  \n",
       "Sony                     Japan  \n",
       "Hitachi                  Japan  \n",
       "Intel                      USA  \n",
       "IBM                        USA  \n",
       "Tencent                  China  \n",
       "Panasonic                Japan  "
      ]
     },
     "execution_count": 4,
     "metadata": {},
     "output_type": "execute_result"
    }
   ],
   "source": [
    "top_companies = pd.DataFrame(data, index)\n",
    "# data are the values of dataset\n",
    "# index is like address of the data we are storing\n",
    "top_companies"
   ]
  },
  {
   "cell_type": "markdown",
   "metadata": {},
   "source": [
    "`head()` method displays first few rows of the dataframe to give you a sense of overall structure and content. It is used toe ensure that all of the data is stored correctly and as expected\n"
   ]
  },
  {
   "cell_type": "code",
   "execution_count": 5,
   "metadata": {},
   "outputs": [
    {
     "data": {
      "text/html": [
       "<div>\n",
       "<style scoped>\n",
       "    .dataframe tbody tr th:only-of-type {\n",
       "        vertical-align: middle;\n",
       "    }\n",
       "\n",
       "    .dataframe tbody tr th {\n",
       "        vertical-align: top;\n",
       "    }\n",
       "\n",
       "    .dataframe thead th {\n",
       "        text-align: right;\n",
       "    }\n",
       "</style>\n",
       "<table border=\"1\" class=\"dataframe\">\n",
       "  <thead>\n",
       "    <tr style=\"text-align: right;\">\n",
       "      <th></th>\n",
       "      <th>Revenue</th>\n",
       "      <th>Employees</th>\n",
       "      <th>Sector</th>\n",
       "      <th>Founding Date</th>\n",
       "      <th>Country</th>\n",
       "    </tr>\n",
       "  </thead>\n",
       "  <tbody>\n",
       "    <tr>\n",
       "      <th>Apple</th>\n",
       "      <td>274515</td>\n",
       "      <td>147000</td>\n",
       "      <td>Consumer Electronics</td>\n",
       "      <td>01-04-1976</td>\n",
       "      <td>USA</td>\n",
       "    </tr>\n",
       "    <tr>\n",
       "      <th>Samsung</th>\n",
       "      <td>200734</td>\n",
       "      <td>267937</td>\n",
       "      <td>Consumer Electronics</td>\n",
       "      <td>13-01-1969</td>\n",
       "      <td>South Korea</td>\n",
       "    </tr>\n",
       "    <tr>\n",
       "      <th>Alphabet</th>\n",
       "      <td>182527</td>\n",
       "      <td>135301</td>\n",
       "      <td>Software Services</td>\n",
       "      <td>04-09-1998</td>\n",
       "      <td>USA</td>\n",
       "    </tr>\n",
       "    <tr>\n",
       "      <th>Foxconn</th>\n",
       "      <td>181945</td>\n",
       "      <td>878429</td>\n",
       "      <td>Chip Manufacturing</td>\n",
       "      <td>20-02-1974</td>\n",
       "      <td>Taiwan</td>\n",
       "    </tr>\n",
       "    <tr>\n",
       "      <th>Microsoft</th>\n",
       "      <td>143015</td>\n",
       "      <td>163000</td>\n",
       "      <td>Software Services</td>\n",
       "      <td>04-04-1975</td>\n",
       "      <td>USA</td>\n",
       "    </tr>\n",
       "  </tbody>\n",
       "</table>\n",
       "</div>"
      ],
      "text/plain": [
       "           Revenue  Employees                Sector Founding Date      Country\n",
       "Apple       274515     147000  Consumer Electronics    01-04-1976          USA\n",
       "Samsung     200734     267937  Consumer Electronics    13-01-1969  South Korea\n",
       "Alphabet    182527     135301     Software Services    04-09-1998          USA\n",
       "Foxconn     181945     878429    Chip Manufacturing    20-02-1974       Taiwan\n",
       "Microsoft   143015     163000     Software Services    04-04-1975          USA"
      ]
     },
     "execution_count": 5,
     "metadata": {},
     "output_type": "execute_result"
    }
   ],
   "source": [
    "top_companies.head()"
   ]
  },
  {
   "cell_type": "markdown",
   "metadata": {},
   "source": [
    "`tail()` gives the last few rows of the dataframe. This is useful for quickly identifying any problems with the dataset as any errors will most likely be found at the end rather than beginning\n"
   ]
  },
  {
   "cell_type": "code",
   "execution_count": 6,
   "metadata": {},
   "outputs": [
    {
     "data": {
      "text/html": [
       "<div>\n",
       "<style scoped>\n",
       "    .dataframe tbody tr th:only-of-type {\n",
       "        vertical-align: middle;\n",
       "    }\n",
       "\n",
       "    .dataframe tbody tr th {\n",
       "        vertical-align: top;\n",
       "    }\n",
       "\n",
       "    .dataframe thead th {\n",
       "        text-align: right;\n",
       "    }\n",
       "</style>\n",
       "<table border=\"1\" class=\"dataframe\">\n",
       "  <thead>\n",
       "    <tr style=\"text-align: right;\">\n",
       "      <th></th>\n",
       "      <th>Revenue</th>\n",
       "      <th>Employees</th>\n",
       "      <th>Sector</th>\n",
       "      <th>Founding Date</th>\n",
       "      <th>Country</th>\n",
       "    </tr>\n",
       "  </thead>\n",
       "  <tbody>\n",
       "    <tr>\n",
       "      <th>Hitachi</th>\n",
       "      <td>82345</td>\n",
       "      <td>350864</td>\n",
       "      <td>Consumer Electronics</td>\n",
       "      <td>01-01-1910</td>\n",
       "      <td>Japan</td>\n",
       "    </tr>\n",
       "    <tr>\n",
       "      <th>Intel</th>\n",
       "      <td>77867</td>\n",
       "      <td>110600</td>\n",
       "      <td>Chip Manufacturing</td>\n",
       "      <td>18-07-1968</td>\n",
       "      <td>USA</td>\n",
       "    </tr>\n",
       "    <tr>\n",
       "      <th>IBM</th>\n",
       "      <td>73620</td>\n",
       "      <td>364800</td>\n",
       "      <td>Software Services</td>\n",
       "      <td>16-06-1911</td>\n",
       "      <td>USA</td>\n",
       "    </tr>\n",
       "    <tr>\n",
       "      <th>Tencent</th>\n",
       "      <td>69864</td>\n",
       "      <td>85858</td>\n",
       "      <td>Software Services</td>\n",
       "      <td>11-11-1998</td>\n",
       "      <td>China</td>\n",
       "    </tr>\n",
       "    <tr>\n",
       "      <th>Panasonic</th>\n",
       "      <td>63191</td>\n",
       "      <td>243540</td>\n",
       "      <td>Consumer Electronics</td>\n",
       "      <td>07-03-1918</td>\n",
       "      <td>Japan</td>\n",
       "    </tr>\n",
       "  </tbody>\n",
       "</table>\n",
       "</div>"
      ],
      "text/plain": [
       "           Revenue  Employees                Sector Founding Date Country\n",
       "Hitachi      82345     350864  Consumer Electronics    01-01-1910   Japan\n",
       "Intel        77867     110600    Chip Manufacturing    18-07-1968     USA\n",
       "IBM          73620     364800     Software Services    16-06-1911     USA\n",
       "Tencent      69864      85858     Software Services    11-11-1998   China\n",
       "Panasonic    63191     243540  Consumer Electronics    07-03-1918   Japan"
      ]
     },
     "execution_count": 6,
     "metadata": {},
     "output_type": "execute_result"
    }
   ],
   "source": [
    "top_companies.tail()"
   ]
  },
  {
   "cell_type": "markdown",
   "metadata": {},
   "source": [
    "`info()` method returns a list of all columns in DataFrame along with their name, data types, number of values and memory usage. Helps you identify potential problems such as missing values or incorrect datatype\n"
   ]
  },
  {
   "cell_type": "code",
   "execution_count": 7,
   "metadata": {},
   "outputs": [
    {
     "name": "stdout",
     "output_type": "stream",
     "text": [
      "<class 'pandas.core.frame.DataFrame'>\n",
      "Index: 14 entries, Apple to Panasonic\n",
      "Data columns (total 5 columns):\n",
      " #   Column         Non-Null Count  Dtype \n",
      "---  ------         --------------  ----- \n",
      " 0   Revenue        14 non-null     int64 \n",
      " 1   Employees      14 non-null     int64 \n",
      " 2   Sector         14 non-null     object\n",
      " 3   Founding Date  14 non-null     object\n",
      " 4   Country        14 non-null     object\n",
      "dtypes: int64(2), object(3)\n",
      "memory usage: 672.0+ bytes\n"
     ]
    }
   ],
   "source": [
    "top_companies.info()"
   ]
  },
  {
   "cell_type": "markdown",
   "metadata": {},
   "source": [
    "`shape()` method returns a tuple with the number of rows and columns in dataframe. This gives a quick insight into the dimensionality of our dataframe\n"
   ]
  },
  {
   "cell_type": "code",
   "execution_count": 8,
   "metadata": {},
   "outputs": [
    {
     "data": {
      "text/plain": [
       "(14, 5)"
      ]
     },
     "execution_count": 8,
     "metadata": {},
     "output_type": "execute_result"
    }
   ],
   "source": [
    "top_companies.shape # 14 rows and 5 columns"
   ]
  },
  {
   "cell_type": "markdown",
   "metadata": {},
   "source": [
    "`describe()` method displays descriptive statistics for numerical columns in the dataframe. This can be very useful for understanding the distribution of values across a specific dataset or column\n"
   ]
  },
  {
   "cell_type": "code",
   "execution_count": 9,
   "metadata": {},
   "outputs": [
    {
     "data": {
      "text/html": [
       "<div>\n",
       "<style scoped>\n",
       "    .dataframe tbody tr th:only-of-type {\n",
       "        vertical-align: middle;\n",
       "    }\n",
       "\n",
       "    .dataframe tbody tr th {\n",
       "        vertical-align: top;\n",
       "    }\n",
       "\n",
       "    .dataframe thead th {\n",
       "        text-align: right;\n",
       "    }\n",
       "</style>\n",
       "<table border=\"1\" class=\"dataframe\">\n",
       "  <thead>\n",
       "    <tr style=\"text-align: right;\">\n",
       "      <th></th>\n",
       "      <th>Revenue</th>\n",
       "      <th>Employees</th>\n",
       "    </tr>\n",
       "  </thead>\n",
       "  <tbody>\n",
       "    <tr>\n",
       "      <th>count</th>\n",
       "      <td>14.000000</td>\n",
       "      <td>14.000000</td>\n",
       "    </tr>\n",
       "    <tr>\n",
       "      <th>mean</th>\n",
       "      <td>124420.642857</td>\n",
       "      <td>233616.642857</td>\n",
       "    </tr>\n",
       "    <tr>\n",
       "      <th>std</th>\n",
       "      <td>63686.481231</td>\n",
       "      <td>207583.087389</td>\n",
       "    </tr>\n",
       "    <tr>\n",
       "      <th>min</th>\n",
       "      <td>63191.000000</td>\n",
       "      <td>58604.000000</td>\n",
       "    </tr>\n",
       "    <tr>\n",
       "      <th>25%</th>\n",
       "      <td>78986.500000</td>\n",
       "      <td>116775.250000</td>\n",
       "    </tr>\n",
       "    <tr>\n",
       "      <th>50%</th>\n",
       "      <td>89094.500000</td>\n",
       "      <td>160500.000000</td>\n",
       "    </tr>\n",
       "    <tr>\n",
       "      <th>75%</th>\n",
       "      <td>172212.500000</td>\n",
       "      <td>261837.750000</td>\n",
       "    </tr>\n",
       "    <tr>\n",
       "      <th>max</th>\n",
       "      <td>274515.000000</td>\n",
       "      <td>878429.000000</td>\n",
       "    </tr>\n",
       "  </tbody>\n",
       "</table>\n",
       "</div>"
      ],
      "text/plain": [
       "             Revenue      Employees\n",
       "count      14.000000      14.000000\n",
       "mean   124420.642857  233616.642857\n",
       "std     63686.481231  207583.087389\n",
       "min     63191.000000   58604.000000\n",
       "25%     78986.500000  116775.250000\n",
       "50%     89094.500000  160500.000000\n",
       "75%    172212.500000  261837.750000\n",
       "max    274515.000000  878429.000000"
      ]
     },
     "execution_count": 9,
     "metadata": {},
     "output_type": "execute_result"
    }
   ],
   "source": [
    "top_companies.describe()"
   ]
  },
  {
   "cell_type": "markdown",
   "metadata": {},
   "source": [
    "`nunique()` counts the number of distinct elements. Can be useful for understanding the number of categories in a column for example\n"
   ]
  },
  {
   "cell_type": "code",
   "execution_count": 10,
   "metadata": {},
   "outputs": [
    {
     "data": {
      "text/plain": [
       "Revenue          14\n",
       "Employees        14\n",
       "Sector            3\n",
       "Founding Date    14\n",
       "Country           5\n",
       "dtype: int64"
      ]
     },
     "execution_count": 10,
     "metadata": {},
     "output_type": "execute_result"
    }
   ],
   "source": [
    "top_companies.nunique()"
   ]
  },
  {
   "cell_type": "markdown",
   "metadata": {},
   "source": [
    "`isnull()` detects missing values by creating a dataframe object with boolean values for null values otherwis false\n"
   ]
  },
  {
   "cell_type": "code",
   "execution_count": 11,
   "metadata": {},
   "outputs": [
    {
     "data": {
      "text/html": [
       "<div>\n",
       "<style scoped>\n",
       "    .dataframe tbody tr th:only-of-type {\n",
       "        vertical-align: middle;\n",
       "    }\n",
       "\n",
       "    .dataframe tbody tr th {\n",
       "        vertical-align: top;\n",
       "    }\n",
       "\n",
       "    .dataframe thead th {\n",
       "        text-align: right;\n",
       "    }\n",
       "</style>\n",
       "<table border=\"1\" class=\"dataframe\">\n",
       "  <thead>\n",
       "    <tr style=\"text-align: right;\">\n",
       "      <th></th>\n",
       "      <th>Revenue</th>\n",
       "      <th>Employees</th>\n",
       "      <th>Sector</th>\n",
       "      <th>Founding Date</th>\n",
       "      <th>Country</th>\n",
       "    </tr>\n",
       "  </thead>\n",
       "  <tbody>\n",
       "    <tr>\n",
       "      <th>Apple</th>\n",
       "      <td>False</td>\n",
       "      <td>False</td>\n",
       "      <td>False</td>\n",
       "      <td>False</td>\n",
       "      <td>False</td>\n",
       "    </tr>\n",
       "    <tr>\n",
       "      <th>Samsung</th>\n",
       "      <td>False</td>\n",
       "      <td>False</td>\n",
       "      <td>False</td>\n",
       "      <td>False</td>\n",
       "      <td>False</td>\n",
       "    </tr>\n",
       "    <tr>\n",
       "      <th>Alphabet</th>\n",
       "      <td>False</td>\n",
       "      <td>False</td>\n",
       "      <td>False</td>\n",
       "      <td>False</td>\n",
       "      <td>False</td>\n",
       "    </tr>\n",
       "    <tr>\n",
       "      <th>Foxconn</th>\n",
       "      <td>False</td>\n",
       "      <td>False</td>\n",
       "      <td>False</td>\n",
       "      <td>False</td>\n",
       "      <td>False</td>\n",
       "    </tr>\n",
       "    <tr>\n",
       "      <th>Microsoft</th>\n",
       "      <td>False</td>\n",
       "      <td>False</td>\n",
       "      <td>False</td>\n",
       "      <td>False</td>\n",
       "      <td>False</td>\n",
       "    </tr>\n",
       "    <tr>\n",
       "      <th>Huawei</th>\n",
       "      <td>False</td>\n",
       "      <td>False</td>\n",
       "      <td>False</td>\n",
       "      <td>False</td>\n",
       "      <td>False</td>\n",
       "    </tr>\n",
       "    <tr>\n",
       "      <th>Dell Technologies</th>\n",
       "      <td>False</td>\n",
       "      <td>False</td>\n",
       "      <td>False</td>\n",
       "      <td>False</td>\n",
       "      <td>False</td>\n",
       "    </tr>\n",
       "    <tr>\n",
       "      <th>Meta</th>\n",
       "      <td>False</td>\n",
       "      <td>False</td>\n",
       "      <td>False</td>\n",
       "      <td>False</td>\n",
       "      <td>False</td>\n",
       "    </tr>\n",
       "    <tr>\n",
       "      <th>Sony</th>\n",
       "      <td>False</td>\n",
       "      <td>False</td>\n",
       "      <td>False</td>\n",
       "      <td>False</td>\n",
       "      <td>False</td>\n",
       "    </tr>\n",
       "    <tr>\n",
       "      <th>Hitachi</th>\n",
       "      <td>False</td>\n",
       "      <td>False</td>\n",
       "      <td>False</td>\n",
       "      <td>False</td>\n",
       "      <td>False</td>\n",
       "    </tr>\n",
       "    <tr>\n",
       "      <th>Intel</th>\n",
       "      <td>False</td>\n",
       "      <td>False</td>\n",
       "      <td>False</td>\n",
       "      <td>False</td>\n",
       "      <td>False</td>\n",
       "    </tr>\n",
       "    <tr>\n",
       "      <th>IBM</th>\n",
       "      <td>False</td>\n",
       "      <td>False</td>\n",
       "      <td>False</td>\n",
       "      <td>False</td>\n",
       "      <td>False</td>\n",
       "    </tr>\n",
       "    <tr>\n",
       "      <th>Tencent</th>\n",
       "      <td>False</td>\n",
       "      <td>False</td>\n",
       "      <td>False</td>\n",
       "      <td>False</td>\n",
       "      <td>False</td>\n",
       "    </tr>\n",
       "    <tr>\n",
       "      <th>Panasonic</th>\n",
       "      <td>False</td>\n",
       "      <td>False</td>\n",
       "      <td>False</td>\n",
       "      <td>False</td>\n",
       "      <td>False</td>\n",
       "    </tr>\n",
       "  </tbody>\n",
       "</table>\n",
       "</div>"
      ],
      "text/plain": [
       "                   Revenue  Employees  Sector  Founding Date  Country\n",
       "Apple                False      False   False          False    False\n",
       "Samsung              False      False   False          False    False\n",
       "Alphabet             False      False   False          False    False\n",
       "Foxconn              False      False   False          False    False\n",
       "Microsoft            False      False   False          False    False\n",
       "Huawei               False      False   False          False    False\n",
       "Dell Technologies    False      False   False          False    False\n",
       "Meta                 False      False   False          False    False\n",
       "Sony                 False      False   False          False    False\n",
       "Hitachi              False      False   False          False    False\n",
       "Intel                False      False   False          False    False\n",
       "IBM                  False      False   False          False    False\n",
       "Tencent              False      False   False          False    False\n",
       "Panasonic            False      False   False          False    False"
      ]
     },
     "execution_count": 11,
     "metadata": {},
     "output_type": "execute_result"
    }
   ],
   "source": [
    "top_companies.isnull()"
   ]
  },
  {
   "cell_type": "code",
   "execution_count": 12,
   "metadata": {},
   "outputs": [
    {
     "data": {
      "text/plain": [
       "Revenue          0\n",
       "Employees        0\n",
       "Sector           0\n",
       "Founding Date    0\n",
       "Country          0\n",
       "dtype: int64"
      ]
     },
     "execution_count": 12,
     "metadata": {},
     "output_type": "execute_result"
    }
   ],
   "source": [
    "# calculate total number of null values in each column\n",
    "top_companies.isnull().sum()"
   ]
  },
  {
   "cell_type": "markdown",
   "metadata": {},
   "source": [
    "`[]` operator can be used to select a specific column within a DataFrame. The output is a Series\n"
   ]
  },
  {
   "cell_type": "code",
   "execution_count": 13,
   "metadata": {},
   "outputs": [
    {
     "name": "stdout",
     "output_type": "stream",
     "text": [
      "Country column of dataframe: \n",
      "Apple                        USA\n",
      "Samsung              South Korea\n",
      "Alphabet                     USA\n",
      "Foxconn                   Taiwan\n",
      "Microsoft                    USA\n",
      "Huawei                     China\n",
      "Dell Technologies            USA\n",
      "Meta                         USA\n",
      "Sony                       Japan\n",
      "Hitachi                    Japan\n",
      "Intel                        USA\n",
      "IBM                          USA\n",
      "Tencent                    China\n",
      "Panasonic                  Japan\n",
      "Name: Country, dtype: object\n",
      "\n",
      "Data type: <class 'pandas.core.series.Series'>\n",
      "\n"
     ]
    }
   ],
   "source": [
    "print(f\"Country column of dataframe: \\n{top_companies['Country']}\")\n",
    "print(f\"\\nData type: {type(top_companies['Country'])}\\n\")"
   ]
  },
  {
   "cell_type": "markdown",
   "metadata": {},
   "source": [
    "We can select a column and apply different operations\n"
   ]
  },
  {
   "cell_type": "code",
   "execution_count": 14,
   "metadata": {},
   "outputs": [
    {
     "name": "stdout",
     "output_type": "stream",
     "text": [
      "Top companies total revenue: 1741889\n"
     ]
    }
   ],
   "source": [
    "print(f\"Top companies total revenue: {top_companies['Revenue'].sum()}\")"
   ]
  },
  {
   "cell_type": "markdown",
   "metadata": {},
   "source": [
    "We can select multiple columns using `[[column1, column2 ...]]`\n"
   ]
  },
  {
   "cell_type": "code",
   "execution_count": 15,
   "metadata": {},
   "outputs": [
    {
     "data": {
      "text/html": [
       "<div>\n",
       "<style scoped>\n",
       "    .dataframe tbody tr th:only-of-type {\n",
       "        vertical-align: middle;\n",
       "    }\n",
       "\n",
       "    .dataframe tbody tr th {\n",
       "        vertical-align: top;\n",
       "    }\n",
       "\n",
       "    .dataframe thead th {\n",
       "        text-align: right;\n",
       "    }\n",
       "</style>\n",
       "<table border=\"1\" class=\"dataframe\">\n",
       "  <thead>\n",
       "    <tr style=\"text-align: right;\">\n",
       "      <th></th>\n",
       "      <th>Revenue</th>\n",
       "      <th>Sector</th>\n",
       "    </tr>\n",
       "  </thead>\n",
       "  <tbody>\n",
       "    <tr>\n",
       "      <th>Apple</th>\n",
       "      <td>274515</td>\n",
       "      <td>Consumer Electronics</td>\n",
       "    </tr>\n",
       "    <tr>\n",
       "      <th>Samsung</th>\n",
       "      <td>200734</td>\n",
       "      <td>Consumer Electronics</td>\n",
       "    </tr>\n",
       "    <tr>\n",
       "      <th>Alphabet</th>\n",
       "      <td>182527</td>\n",
       "      <td>Software Services</td>\n",
       "    </tr>\n",
       "    <tr>\n",
       "      <th>Foxconn</th>\n",
       "      <td>181945</td>\n",
       "      <td>Chip Manufacturing</td>\n",
       "    </tr>\n",
       "    <tr>\n",
       "      <th>Microsoft</th>\n",
       "      <td>143015</td>\n",
       "      <td>Software Services</td>\n",
       "    </tr>\n",
       "    <tr>\n",
       "      <th>Huawei</th>\n",
       "      <td>129184</td>\n",
       "      <td>Consumer Electronics</td>\n",
       "    </tr>\n",
       "    <tr>\n",
       "      <th>Dell Technologies</th>\n",
       "      <td>92224</td>\n",
       "      <td>Consumer Electronics</td>\n",
       "    </tr>\n",
       "    <tr>\n",
       "      <th>Meta</th>\n",
       "      <td>85965</td>\n",
       "      <td>Software Services</td>\n",
       "    </tr>\n",
       "    <tr>\n",
       "      <th>Sony</th>\n",
       "      <td>84893</td>\n",
       "      <td>Consumer Electronics</td>\n",
       "    </tr>\n",
       "    <tr>\n",
       "      <th>Hitachi</th>\n",
       "      <td>82345</td>\n",
       "      <td>Consumer Electronics</td>\n",
       "    </tr>\n",
       "    <tr>\n",
       "      <th>Intel</th>\n",
       "      <td>77867</td>\n",
       "      <td>Chip Manufacturing</td>\n",
       "    </tr>\n",
       "    <tr>\n",
       "      <th>IBM</th>\n",
       "      <td>73620</td>\n",
       "      <td>Software Services</td>\n",
       "    </tr>\n",
       "    <tr>\n",
       "      <th>Tencent</th>\n",
       "      <td>69864</td>\n",
       "      <td>Software Services</td>\n",
       "    </tr>\n",
       "    <tr>\n",
       "      <th>Panasonic</th>\n",
       "      <td>63191</td>\n",
       "      <td>Consumer Electronics</td>\n",
       "    </tr>\n",
       "  </tbody>\n",
       "</table>\n",
       "</div>"
      ],
      "text/plain": [
       "                   Revenue                Sector\n",
       "Apple               274515  Consumer Electronics\n",
       "Samsung             200734  Consumer Electronics\n",
       "Alphabet            182527     Software Services\n",
       "Foxconn             181945    Chip Manufacturing\n",
       "Microsoft           143015     Software Services\n",
       "Huawei              129184  Consumer Electronics\n",
       "Dell Technologies    92224  Consumer Electronics\n",
       "Meta                 85965     Software Services\n",
       "Sony                 84893  Consumer Electronics\n",
       "Hitachi              82345  Consumer Electronics\n",
       "Intel                77867    Chip Manufacturing\n",
       "IBM                  73620     Software Services\n",
       "Tencent              69864     Software Services\n",
       "Panasonic            63191  Consumer Electronics"
      ]
     },
     "execution_count": 15,
     "metadata": {},
     "output_type": "execute_result"
    }
   ],
   "source": [
    "top_companies[['Revenue', 'Sector']]"
   ]
  },
  {
   "cell_type": "markdown",
   "metadata": {},
   "source": [
    "We can also select multiple columns and apply operations\n"
   ]
  },
  {
   "cell_type": "code",
   "execution_count": 16,
   "metadata": {},
   "outputs": [
    {
     "data": {
      "text/plain": [
       "Revenue      124420.642857\n",
       "Employees    233616.642857\n",
       "dtype: float64"
      ]
     },
     "execution_count": 16,
     "metadata": {},
     "output_type": "execute_result"
    }
   ],
   "source": [
    "top_companies[['Revenue', 'Employees']].mean()"
   ]
  },
  {
   "cell_type": "markdown",
   "metadata": {},
   "source": [
    "`Index selection` is done using `.loc` method that allows users to select DataFrame rows and columns by their labels or integer positions. It is most commonly used when a user needs to access specific elements within a dataframe <br/> <br/>\n",
    "\n",
    "`df.loc[row_label, column_label]`\n",
    "\n",
    "<br/>\n",
    "\n",
    "`df.loc[:, column_label]` [All rows of a column]\n",
    "<br/> <br/>\n",
    "`df.loc[row_label, :]` [All columns of a row]\n"
   ]
  },
  {
   "cell_type": "code",
   "execution_count": 17,
   "metadata": {},
   "outputs": [
    {
     "name": "stdout",
     "output_type": "stream",
     "text": [
      "All rows of column revenue: \n",
      "Apple                274515\n",
      "Samsung              200734\n",
      "Alphabet             182527\n",
      "Foxconn              181945\n",
      "Microsoft            143015\n",
      "Huawei               129184\n",
      "Dell Technologies     92224\n",
      "Meta                  85965\n",
      "Sony                  84893\n",
      "Hitachi               82345\n",
      "Intel                 77867\n",
      "IBM                   73620\n",
      "Tencent               69864\n",
      "Panasonic             63191\n",
      "Name: Revenue, dtype: int64\n",
      "\n",
      "All column of row/index Apple: \n",
      "Revenue                        274515\n",
      "Employees                      147000\n",
      "Sector           Consumer Electronics\n",
      "Founding Date              01-04-1976\n",
      "Country                           USA\n",
      "Name: Apple, dtype: object\n"
     ]
    }
   ],
   "source": [
    "print(f\"All rows of column revenue: \\n{top_companies.loc[:, 'Revenue']}\")\n",
    "\n",
    "print(f\"\\nAll column of row/index Apple: \\n{top_companies.loc['Apple', :]}\")"
   ]
  },
  {
   "cell_type": "code",
   "execution_count": 18,
   "metadata": {},
   "outputs": [
    {
     "name": "stdout",
     "output_type": "stream",
     "text": [
      "Founding date of Meta: 04-02-2004\n"
     ]
    }
   ],
   "source": [
    "print(f\"Founding date of Meta: {top_companies.loc['Meta', 'Founding Date']}\")"
   ]
  },
  {
   "cell_type": "code",
   "execution_count": 19,
   "metadata": {},
   "outputs": [
    {
     "data": {
      "text/plain": [
       "Meta          85965\n",
       "Foxconn      181945\n",
       "Microsoft    143015\n",
       "Name: Revenue, dtype: int64"
      ]
     },
     "execution_count": 19,
     "metadata": {},
     "output_type": "execute_result"
    }
   ],
   "source": [
    "top_companies.loc[['Meta', 'Foxconn', 'Microsoft'], 'Revenue']"
   ]
  },
  {
   "cell_type": "markdown",
   "metadata": {},
   "source": [
    "`Slicing` is a powerful feature of pandas that enables us to access specific parts of our DataFrame\n"
   ]
  },
  {
   "cell_type": "markdown",
   "metadata": {},
   "source": [
    "`df.loc[row_name_start : row_name_stop, column_label]`\n",
    "<br/> <br/>\n",
    "`df.loc[row_label, column_name_start : column_name_stop]`\n",
    "<br/> <br/>\n",
    "`df.loc[row_name_start : row_name_stop : step, column_label]`\n",
    "<br/> <br/>\n",
    "`df.loc[row_label, column_name_start : column_name_stop : step]`\n"
   ]
  },
  {
   "cell_type": "code",
   "execution_count": 20,
   "metadata": {},
   "outputs": [
    {
     "name": "stdout",
     "output_type": "stream",
     "text": [
      "Select Apple, Samsung, Alphabet and all columns \n",
      "Apple       274515\n",
      "Samsung     200734\n",
      "Alphabet    182527\n",
      "Name: Revenue, dtype: int64\n"
     ]
    }
   ],
   "source": [
    "print(f\"Select Apple, Samsung, Alphabet and all columns \\n{top_companies.loc['Apple':'Alphabet', 'Revenue']}\")"
   ]
  },
  {
   "cell_type": "code",
   "execution_count": 21,
   "metadata": {},
   "outputs": [
    {
     "data": {
      "text/plain": [
       "Revenue                    274515\n",
       "Employees                  147000\n",
       "Sector       Consumer Electronics\n",
       "Name: Apple, dtype: object"
      ]
     },
     "execution_count": 21,
     "metadata": {},
     "output_type": "execute_result"
    }
   ],
   "source": [
    "top_companies.loc['Apple', 'Revenue' : 'Sector']"
   ]
  },
  {
   "cell_type": "code",
   "execution_count": 22,
   "metadata": {},
   "outputs": [
    {
     "data": {
      "text/plain": [
       "Apple                274515\n",
       "Alphabet             182527\n",
       "Microsoft            143015\n",
       "Dell Technologies     92224\n",
       "Sony                  84893\n",
       "Name: Revenue, dtype: int64"
      ]
     },
     "execution_count": 22,
     "metadata": {},
     "output_type": "execute_result"
    }
   ],
   "source": [
    "top_companies.loc['Apple':'Sony':2,'Revenue']"
   ]
  },
  {
   "cell_type": "code",
   "execution_count": 23,
   "metadata": {},
   "outputs": [
    {
     "data": {
      "text/plain": [
       "Revenue                  274515\n",
       "Sector     Consumer Electronics\n",
       "Country                     USA\n",
       "Name: Apple, dtype: object"
      ]
     },
     "execution_count": 23,
     "metadata": {},
     "output_type": "execute_result"
    }
   ],
   "source": [
    "top_companies.loc['Apple', ::2] # all columns by step 2"
   ]
  },
  {
   "cell_type": "markdown",
   "metadata": {},
   "source": [
    "We can select by position using `iloc` is used to select rows and columns of a dataframe `based on their integer positions`. This is especially useful when users need to access elements within a Dataframe that do not have labels or specific column names\n"
   ]
  },
  {
   "cell_type": "markdown",
   "metadata": {},
   "source": [
    "`df.iloc[row_position, column_position]`\n"
   ]
  },
  {
   "cell_type": "code",
   "execution_count": 24,
   "metadata": {},
   "outputs": [
    {
     "data": {
      "text/plain": [
       "Revenue                        274515\n",
       "Employees                      147000\n",
       "Sector           Consumer Electronics\n",
       "Founding Date              01-04-1976\n",
       "Country                           USA\n",
       "Name: Apple, dtype: object"
      ]
     },
     "execution_count": 24,
     "metadata": {},
     "output_type": "execute_result"
    }
   ],
   "source": [
    "top_companies.iloc[0] # all columns for first index"
   ]
  },
  {
   "cell_type": "code",
   "execution_count": 25,
   "metadata": {},
   "outputs": [
    {
     "name": "stdout",
     "output_type": "stream",
     "text": [
      "Revenue of apple 274515\n",
      "\n",
      "All data of Samsung: \n",
      "Revenue                        200734\n",
      "Employees                      267937\n",
      "Sector           Consumer Electronics\n",
      "Founding Date              13-01-1969\n",
      "Country                   South Korea\n",
      "Name: Samsung, dtype: object\n"
     ]
    }
   ],
   "source": [
    "print(f\"Revenue of apple {top_companies.iloc[0, 0]}\")\n",
    "print(f\"\\nAll data of Samsung: \\n{top_companies.iloc[1, :]}\")"
   ]
  },
  {
   "cell_type": "code",
   "execution_count": 26,
   "metadata": {},
   "outputs": [
    {
     "data": {
      "text/plain": [
       "Samsung    Consumer Electronics\n",
       "Sony       Consumer Electronics\n",
       "Huawei     Consumer Electronics\n",
       "Name: Sector, dtype: object"
      ]
     },
     "execution_count": 26,
     "metadata": {},
     "output_type": "execute_result"
    }
   ],
   "source": [
    "top_companies.iloc[[1, 8, 5], 2]"
   ]
  },
  {
   "cell_type": "markdown",
   "metadata": {},
   "source": [
    "`Immutability is a key concept of dataframe. Once a dataframe is created, it cannot be changed. Any changes create a new dataframe rather modifying the original one`\n"
   ]
  },
  {
   "cell_type": "markdown",
   "metadata": {},
   "source": [
    "The most common way to create a column in just as the result of an expression of other columns within the same dataframe\n",
    "\n",
    "`df[\"column name\"] = [expression]`\n",
    "\n",
    "Expression can be anything such as\n",
    "\n",
    "`df[\"new column name\"] = df[\"column 1\"] + df[\"column2\"]`\n"
   ]
  },
  {
   "cell_type": "code",
   "execution_count": 27,
   "metadata": {},
   "outputs": [],
   "source": [
    "top_companies['Revenue Per Employee'] = top_companies['Revenue'] / top_companies['Employees']"
   ]
  },
  {
   "cell_type": "code",
   "execution_count": 28,
   "metadata": {},
   "outputs": [
    {
     "data": {
      "text/html": [
       "<div>\n",
       "<style scoped>\n",
       "    .dataframe tbody tr th:only-of-type {\n",
       "        vertical-align: middle;\n",
       "    }\n",
       "\n",
       "    .dataframe tbody tr th {\n",
       "        vertical-align: top;\n",
       "    }\n",
       "\n",
       "    .dataframe thead th {\n",
       "        text-align: right;\n",
       "    }\n",
       "</style>\n",
       "<table border=\"1\" class=\"dataframe\">\n",
       "  <thead>\n",
       "    <tr style=\"text-align: right;\">\n",
       "      <th></th>\n",
       "      <th>Revenue</th>\n",
       "      <th>Employees</th>\n",
       "      <th>Sector</th>\n",
       "      <th>Founding Date</th>\n",
       "      <th>Country</th>\n",
       "      <th>Revenue Per Employee</th>\n",
       "    </tr>\n",
       "  </thead>\n",
       "  <tbody>\n",
       "    <tr>\n",
       "      <th>Apple</th>\n",
       "      <td>274515</td>\n",
       "      <td>147000</td>\n",
       "      <td>Consumer Electronics</td>\n",
       "      <td>01-04-1976</td>\n",
       "      <td>USA</td>\n",
       "      <td>1.867449</td>\n",
       "    </tr>\n",
       "    <tr>\n",
       "      <th>Samsung</th>\n",
       "      <td>200734</td>\n",
       "      <td>267937</td>\n",
       "      <td>Consumer Electronics</td>\n",
       "      <td>13-01-1969</td>\n",
       "      <td>South Korea</td>\n",
       "      <td>0.749184</td>\n",
       "    </tr>\n",
       "    <tr>\n",
       "      <th>Alphabet</th>\n",
       "      <td>182527</td>\n",
       "      <td>135301</td>\n",
       "      <td>Software Services</td>\n",
       "      <td>04-09-1998</td>\n",
       "      <td>USA</td>\n",
       "      <td>1.349044</td>\n",
       "    </tr>\n",
       "    <tr>\n",
       "      <th>Foxconn</th>\n",
       "      <td>181945</td>\n",
       "      <td>878429</td>\n",
       "      <td>Chip Manufacturing</td>\n",
       "      <td>20-02-1974</td>\n",
       "      <td>Taiwan</td>\n",
       "      <td>0.207125</td>\n",
       "    </tr>\n",
       "    <tr>\n",
       "      <th>Microsoft</th>\n",
       "      <td>143015</td>\n",
       "      <td>163000</td>\n",
       "      <td>Software Services</td>\n",
       "      <td>04-04-1975</td>\n",
       "      <td>USA</td>\n",
       "      <td>0.877393</td>\n",
       "    </tr>\n",
       "    <tr>\n",
       "      <th>Huawei</th>\n",
       "      <td>129184</td>\n",
       "      <td>197000</td>\n",
       "      <td>Consumer Electronics</td>\n",
       "      <td>15-09-1987</td>\n",
       "      <td>China</td>\n",
       "      <td>0.655756</td>\n",
       "    </tr>\n",
       "    <tr>\n",
       "      <th>Dell Technologies</th>\n",
       "      <td>92224</td>\n",
       "      <td>158000</td>\n",
       "      <td>Consumer Electronics</td>\n",
       "      <td>01-02-1984</td>\n",
       "      <td>USA</td>\n",
       "      <td>0.583696</td>\n",
       "    </tr>\n",
       "    <tr>\n",
       "      <th>Meta</th>\n",
       "      <td>85965</td>\n",
       "      <td>58604</td>\n",
       "      <td>Software Services</td>\n",
       "      <td>04-02-2004</td>\n",
       "      <td>USA</td>\n",
       "      <td>1.466879</td>\n",
       "    </tr>\n",
       "    <tr>\n",
       "      <th>Sony</th>\n",
       "      <td>84893</td>\n",
       "      <td>109700</td>\n",
       "      <td>Consumer Electronics</td>\n",
       "      <td>07-04-1946</td>\n",
       "      <td>Japan</td>\n",
       "      <td>0.773865</td>\n",
       "    </tr>\n",
       "    <tr>\n",
       "      <th>Hitachi</th>\n",
       "      <td>82345</td>\n",
       "      <td>350864</td>\n",
       "      <td>Consumer Electronics</td>\n",
       "      <td>01-01-1910</td>\n",
       "      <td>Japan</td>\n",
       "      <td>0.234692</td>\n",
       "    </tr>\n",
       "    <tr>\n",
       "      <th>Intel</th>\n",
       "      <td>77867</td>\n",
       "      <td>110600</td>\n",
       "      <td>Chip Manufacturing</td>\n",
       "      <td>18-07-1968</td>\n",
       "      <td>USA</td>\n",
       "      <td>0.704042</td>\n",
       "    </tr>\n",
       "    <tr>\n",
       "      <th>IBM</th>\n",
       "      <td>73620</td>\n",
       "      <td>364800</td>\n",
       "      <td>Software Services</td>\n",
       "      <td>16-06-1911</td>\n",
       "      <td>USA</td>\n",
       "      <td>0.201809</td>\n",
       "    </tr>\n",
       "    <tr>\n",
       "      <th>Tencent</th>\n",
       "      <td>69864</td>\n",
       "      <td>85858</td>\n",
       "      <td>Software Services</td>\n",
       "      <td>11-11-1998</td>\n",
       "      <td>China</td>\n",
       "      <td>0.813716</td>\n",
       "    </tr>\n",
       "    <tr>\n",
       "      <th>Panasonic</th>\n",
       "      <td>63191</td>\n",
       "      <td>243540</td>\n",
       "      <td>Consumer Electronics</td>\n",
       "      <td>07-03-1918</td>\n",
       "      <td>Japan</td>\n",
       "      <td>0.259469</td>\n",
       "    </tr>\n",
       "  </tbody>\n",
       "</table>\n",
       "</div>"
      ],
      "text/plain": [
       "                   Revenue  Employees                Sector Founding Date  \\\n",
       "Apple               274515     147000  Consumer Electronics    01-04-1976   \n",
       "Samsung             200734     267937  Consumer Electronics    13-01-1969   \n",
       "Alphabet            182527     135301     Software Services    04-09-1998   \n",
       "Foxconn             181945     878429    Chip Manufacturing    20-02-1974   \n",
       "Microsoft           143015     163000     Software Services    04-04-1975   \n",
       "Huawei              129184     197000  Consumer Electronics    15-09-1987   \n",
       "Dell Technologies    92224     158000  Consumer Electronics    01-02-1984   \n",
       "Meta                 85965      58604     Software Services    04-02-2004   \n",
       "Sony                 84893     109700  Consumer Electronics    07-04-1946   \n",
       "Hitachi              82345     350864  Consumer Electronics    01-01-1910   \n",
       "Intel                77867     110600    Chip Manufacturing    18-07-1968   \n",
       "IBM                  73620     364800     Software Services    16-06-1911   \n",
       "Tencent              69864      85858     Software Services    11-11-1998   \n",
       "Panasonic            63191     243540  Consumer Electronics    07-03-1918   \n",
       "\n",
       "                       Country  Revenue Per Employee  \n",
       "Apple                      USA              1.867449  \n",
       "Samsung            South Korea              0.749184  \n",
       "Alphabet                   USA              1.349044  \n",
       "Foxconn                 Taiwan              0.207125  \n",
       "Microsoft                  USA              0.877393  \n",
       "Huawei                   China              0.655756  \n",
       "Dell Technologies          USA              0.583696  \n",
       "Meta                       USA              1.466879  \n",
       "Sony                     Japan              0.773865  \n",
       "Hitachi                  Japan              0.234692  \n",
       "Intel                      USA              0.704042  \n",
       "IBM                        USA              0.201809  \n",
       "Tencent                  China              0.813716  \n",
       "Panasonic                Japan              0.259469  "
      ]
     },
     "execution_count": 28,
     "metadata": {},
     "output_type": "execute_result"
    }
   ],
   "source": [
    "top_companies"
   ]
  },
  {
   "cell_type": "markdown",
   "metadata": {},
   "source": [
    "### Dataframe Mutation\n"
   ]
  },
  {
   "cell_type": "markdown",
   "metadata": {},
   "source": [
    "In simplest form, we can create a new column and assign a hardcoded value\n",
    "\n",
    "`df[\"New Column\"] = False`\n",
    "\n",
    "The new column will have all values equal to False\n"
   ]
  },
  {
   "cell_type": "code",
   "execution_count": 29,
   "metadata": {},
   "outputs": [],
   "source": [
    "top_companies['Is Tech?'] = True"
   ]
  },
  {
   "cell_type": "markdown",
   "metadata": {},
   "source": [
    "Instead of providing one value, we can provide a collection of value or series\n"
   ]
  },
  {
   "cell_type": "code",
   "execution_count": 30,
   "metadata": {},
   "outputs": [],
   "source": [
    "top_companies['Stock Price'] = [143.28, 49.87, 88.26, 1.83, 253.75, 0,\n",
    "                43.4, 167.32, 89.1, 52.6, 25.58, 137.35, 48.23, 8.81]"
   ]
  },
  {
   "cell_type": "code",
   "execution_count": 31,
   "metadata": {},
   "outputs": [
    {
     "data": {
      "text/html": [
       "<div>\n",
       "<style scoped>\n",
       "    .dataframe tbody tr th:only-of-type {\n",
       "        vertical-align: middle;\n",
       "    }\n",
       "\n",
       "    .dataframe tbody tr th {\n",
       "        vertical-align: top;\n",
       "    }\n",
       "\n",
       "    .dataframe thead th {\n",
       "        text-align: right;\n",
       "    }\n",
       "</style>\n",
       "<table border=\"1\" class=\"dataframe\">\n",
       "  <thead>\n",
       "    <tr style=\"text-align: right;\">\n",
       "      <th></th>\n",
       "      <th>Revenue</th>\n",
       "      <th>Employees</th>\n",
       "      <th>Sector</th>\n",
       "      <th>Founding Date</th>\n",
       "      <th>Country</th>\n",
       "      <th>Revenue Per Employee</th>\n",
       "      <th>Is Tech?</th>\n",
       "      <th>Stock Price</th>\n",
       "    </tr>\n",
       "  </thead>\n",
       "  <tbody>\n",
       "    <tr>\n",
       "      <th>Apple</th>\n",
       "      <td>274515</td>\n",
       "      <td>147000</td>\n",
       "      <td>Consumer Electronics</td>\n",
       "      <td>01-04-1976</td>\n",
       "      <td>USA</td>\n",
       "      <td>1.867449</td>\n",
       "      <td>True</td>\n",
       "      <td>143.28</td>\n",
       "    </tr>\n",
       "    <tr>\n",
       "      <th>Samsung</th>\n",
       "      <td>200734</td>\n",
       "      <td>267937</td>\n",
       "      <td>Consumer Electronics</td>\n",
       "      <td>13-01-1969</td>\n",
       "      <td>South Korea</td>\n",
       "      <td>0.749184</td>\n",
       "      <td>True</td>\n",
       "      <td>49.87</td>\n",
       "    </tr>\n",
       "    <tr>\n",
       "      <th>Alphabet</th>\n",
       "      <td>182527</td>\n",
       "      <td>135301</td>\n",
       "      <td>Software Services</td>\n",
       "      <td>04-09-1998</td>\n",
       "      <td>USA</td>\n",
       "      <td>1.349044</td>\n",
       "      <td>True</td>\n",
       "      <td>88.26</td>\n",
       "    </tr>\n",
       "    <tr>\n",
       "      <th>Foxconn</th>\n",
       "      <td>181945</td>\n",
       "      <td>878429</td>\n",
       "      <td>Chip Manufacturing</td>\n",
       "      <td>20-02-1974</td>\n",
       "      <td>Taiwan</td>\n",
       "      <td>0.207125</td>\n",
       "      <td>True</td>\n",
       "      <td>1.83</td>\n",
       "    </tr>\n",
       "    <tr>\n",
       "      <th>Microsoft</th>\n",
       "      <td>143015</td>\n",
       "      <td>163000</td>\n",
       "      <td>Software Services</td>\n",
       "      <td>04-04-1975</td>\n",
       "      <td>USA</td>\n",
       "      <td>0.877393</td>\n",
       "      <td>True</td>\n",
       "      <td>253.75</td>\n",
       "    </tr>\n",
       "    <tr>\n",
       "      <th>Huawei</th>\n",
       "      <td>129184</td>\n",
       "      <td>197000</td>\n",
       "      <td>Consumer Electronics</td>\n",
       "      <td>15-09-1987</td>\n",
       "      <td>China</td>\n",
       "      <td>0.655756</td>\n",
       "      <td>True</td>\n",
       "      <td>0.00</td>\n",
       "    </tr>\n",
       "    <tr>\n",
       "      <th>Dell Technologies</th>\n",
       "      <td>92224</td>\n",
       "      <td>158000</td>\n",
       "      <td>Consumer Electronics</td>\n",
       "      <td>01-02-1984</td>\n",
       "      <td>USA</td>\n",
       "      <td>0.583696</td>\n",
       "      <td>True</td>\n",
       "      <td>43.40</td>\n",
       "    </tr>\n",
       "    <tr>\n",
       "      <th>Meta</th>\n",
       "      <td>85965</td>\n",
       "      <td>58604</td>\n",
       "      <td>Software Services</td>\n",
       "      <td>04-02-2004</td>\n",
       "      <td>USA</td>\n",
       "      <td>1.466879</td>\n",
       "      <td>True</td>\n",
       "      <td>167.32</td>\n",
       "    </tr>\n",
       "    <tr>\n",
       "      <th>Sony</th>\n",
       "      <td>84893</td>\n",
       "      <td>109700</td>\n",
       "      <td>Consumer Electronics</td>\n",
       "      <td>07-04-1946</td>\n",
       "      <td>Japan</td>\n",
       "      <td>0.773865</td>\n",
       "      <td>True</td>\n",
       "      <td>89.10</td>\n",
       "    </tr>\n",
       "    <tr>\n",
       "      <th>Hitachi</th>\n",
       "      <td>82345</td>\n",
       "      <td>350864</td>\n",
       "      <td>Consumer Electronics</td>\n",
       "      <td>01-01-1910</td>\n",
       "      <td>Japan</td>\n",
       "      <td>0.234692</td>\n",
       "      <td>True</td>\n",
       "      <td>52.60</td>\n",
       "    </tr>\n",
       "    <tr>\n",
       "      <th>Intel</th>\n",
       "      <td>77867</td>\n",
       "      <td>110600</td>\n",
       "      <td>Chip Manufacturing</td>\n",
       "      <td>18-07-1968</td>\n",
       "      <td>USA</td>\n",
       "      <td>0.704042</td>\n",
       "      <td>True</td>\n",
       "      <td>25.58</td>\n",
       "    </tr>\n",
       "    <tr>\n",
       "      <th>IBM</th>\n",
       "      <td>73620</td>\n",
       "      <td>364800</td>\n",
       "      <td>Software Services</td>\n",
       "      <td>16-06-1911</td>\n",
       "      <td>USA</td>\n",
       "      <td>0.201809</td>\n",
       "      <td>True</td>\n",
       "      <td>137.35</td>\n",
       "    </tr>\n",
       "    <tr>\n",
       "      <th>Tencent</th>\n",
       "      <td>69864</td>\n",
       "      <td>85858</td>\n",
       "      <td>Software Services</td>\n",
       "      <td>11-11-1998</td>\n",
       "      <td>China</td>\n",
       "      <td>0.813716</td>\n",
       "      <td>True</td>\n",
       "      <td>48.23</td>\n",
       "    </tr>\n",
       "    <tr>\n",
       "      <th>Panasonic</th>\n",
       "      <td>63191</td>\n",
       "      <td>243540</td>\n",
       "      <td>Consumer Electronics</td>\n",
       "      <td>07-03-1918</td>\n",
       "      <td>Japan</td>\n",
       "      <td>0.259469</td>\n",
       "      <td>True</td>\n",
       "      <td>8.81</td>\n",
       "    </tr>\n",
       "  </tbody>\n",
       "</table>\n",
       "</div>"
      ],
      "text/plain": [
       "                   Revenue  Employees                Sector Founding Date  \\\n",
       "Apple               274515     147000  Consumer Electronics    01-04-1976   \n",
       "Samsung             200734     267937  Consumer Electronics    13-01-1969   \n",
       "Alphabet            182527     135301     Software Services    04-09-1998   \n",
       "Foxconn             181945     878429    Chip Manufacturing    20-02-1974   \n",
       "Microsoft           143015     163000     Software Services    04-04-1975   \n",
       "Huawei              129184     197000  Consumer Electronics    15-09-1987   \n",
       "Dell Technologies    92224     158000  Consumer Electronics    01-02-1984   \n",
       "Meta                 85965      58604     Software Services    04-02-2004   \n",
       "Sony                 84893     109700  Consumer Electronics    07-04-1946   \n",
       "Hitachi              82345     350864  Consumer Electronics    01-01-1910   \n",
       "Intel                77867     110600    Chip Manufacturing    18-07-1968   \n",
       "IBM                  73620     364800     Software Services    16-06-1911   \n",
       "Tencent              69864      85858     Software Services    11-11-1998   \n",
       "Panasonic            63191     243540  Consumer Electronics    07-03-1918   \n",
       "\n",
       "                       Country  Revenue Per Employee  Is Tech?  Stock Price  \n",
       "Apple                      USA              1.867449      True       143.28  \n",
       "Samsung            South Korea              0.749184      True        49.87  \n",
       "Alphabet                   USA              1.349044      True        88.26  \n",
       "Foxconn                 Taiwan              0.207125      True         1.83  \n",
       "Microsoft                  USA              0.877393      True       253.75  \n",
       "Huawei                   China              0.655756      True         0.00  \n",
       "Dell Technologies          USA              0.583696      True        43.40  \n",
       "Meta                       USA              1.466879      True       167.32  \n",
       "Sony                     Japan              0.773865      True        89.10  \n",
       "Hitachi                  Japan              0.234692      True        52.60  \n",
       "Intel                      USA              0.704042      True        25.58  \n",
       "IBM                        USA              0.201809      True       137.35  \n",
       "Tencent                  China              0.813716      True        48.23  \n",
       "Panasonic                Japan              0.259469      True         8.81  "
      ]
     },
     "execution_count": 31,
     "metadata": {},
     "output_type": "execute_result"
    }
   ],
   "source": [
    "top_companies"
   ]
  },
  {
   "cell_type": "markdown",
   "metadata": {},
   "source": [
    "There are mainly two ways of deleting columns\n",
    "\n",
    "<ul>\n",
    "    <li>del keyword</li>\n",
    "    <li>drop method</li>\n",
    "</ul>\n"
   ]
  },
  {
   "cell_type": "markdown",
   "metadata": {},
   "source": [
    "`del` keyword is the simplest way to delete a column\n"
   ]
  },
  {
   "cell_type": "code",
   "execution_count": 32,
   "metadata": {},
   "outputs": [],
   "source": [
    "del top_companies['Is Tech?']"
   ]
  },
  {
   "cell_type": "code",
   "execution_count": 33,
   "metadata": {},
   "outputs": [
    {
     "data": {
      "text/html": [
       "<div>\n",
       "<style scoped>\n",
       "    .dataframe tbody tr th:only-of-type {\n",
       "        vertical-align: middle;\n",
       "    }\n",
       "\n",
       "    .dataframe tbody tr th {\n",
       "        vertical-align: top;\n",
       "    }\n",
       "\n",
       "    .dataframe thead th {\n",
       "        text-align: right;\n",
       "    }\n",
       "</style>\n",
       "<table border=\"1\" class=\"dataframe\">\n",
       "  <thead>\n",
       "    <tr style=\"text-align: right;\">\n",
       "      <th></th>\n",
       "      <th>Revenue</th>\n",
       "      <th>Employees</th>\n",
       "      <th>Sector</th>\n",
       "      <th>Founding Date</th>\n",
       "      <th>Country</th>\n",
       "      <th>Revenue Per Employee</th>\n",
       "      <th>Stock Price</th>\n",
       "    </tr>\n",
       "  </thead>\n",
       "  <tbody>\n",
       "    <tr>\n",
       "      <th>Apple</th>\n",
       "      <td>274515</td>\n",
       "      <td>147000</td>\n",
       "      <td>Consumer Electronics</td>\n",
       "      <td>01-04-1976</td>\n",
       "      <td>USA</td>\n",
       "      <td>1.867449</td>\n",
       "      <td>143.28</td>\n",
       "    </tr>\n",
       "    <tr>\n",
       "      <th>Samsung</th>\n",
       "      <td>200734</td>\n",
       "      <td>267937</td>\n",
       "      <td>Consumer Electronics</td>\n",
       "      <td>13-01-1969</td>\n",
       "      <td>South Korea</td>\n",
       "      <td>0.749184</td>\n",
       "      <td>49.87</td>\n",
       "    </tr>\n",
       "    <tr>\n",
       "      <th>Alphabet</th>\n",
       "      <td>182527</td>\n",
       "      <td>135301</td>\n",
       "      <td>Software Services</td>\n",
       "      <td>04-09-1998</td>\n",
       "      <td>USA</td>\n",
       "      <td>1.349044</td>\n",
       "      <td>88.26</td>\n",
       "    </tr>\n",
       "    <tr>\n",
       "      <th>Foxconn</th>\n",
       "      <td>181945</td>\n",
       "      <td>878429</td>\n",
       "      <td>Chip Manufacturing</td>\n",
       "      <td>20-02-1974</td>\n",
       "      <td>Taiwan</td>\n",
       "      <td>0.207125</td>\n",
       "      <td>1.83</td>\n",
       "    </tr>\n",
       "    <tr>\n",
       "      <th>Microsoft</th>\n",
       "      <td>143015</td>\n",
       "      <td>163000</td>\n",
       "      <td>Software Services</td>\n",
       "      <td>04-04-1975</td>\n",
       "      <td>USA</td>\n",
       "      <td>0.877393</td>\n",
       "      <td>253.75</td>\n",
       "    </tr>\n",
       "    <tr>\n",
       "      <th>Huawei</th>\n",
       "      <td>129184</td>\n",
       "      <td>197000</td>\n",
       "      <td>Consumer Electronics</td>\n",
       "      <td>15-09-1987</td>\n",
       "      <td>China</td>\n",
       "      <td>0.655756</td>\n",
       "      <td>0.00</td>\n",
       "    </tr>\n",
       "    <tr>\n",
       "      <th>Dell Technologies</th>\n",
       "      <td>92224</td>\n",
       "      <td>158000</td>\n",
       "      <td>Consumer Electronics</td>\n",
       "      <td>01-02-1984</td>\n",
       "      <td>USA</td>\n",
       "      <td>0.583696</td>\n",
       "      <td>43.40</td>\n",
       "    </tr>\n",
       "    <tr>\n",
       "      <th>Meta</th>\n",
       "      <td>85965</td>\n",
       "      <td>58604</td>\n",
       "      <td>Software Services</td>\n",
       "      <td>04-02-2004</td>\n",
       "      <td>USA</td>\n",
       "      <td>1.466879</td>\n",
       "      <td>167.32</td>\n",
       "    </tr>\n",
       "    <tr>\n",
       "      <th>Sony</th>\n",
       "      <td>84893</td>\n",
       "      <td>109700</td>\n",
       "      <td>Consumer Electronics</td>\n",
       "      <td>07-04-1946</td>\n",
       "      <td>Japan</td>\n",
       "      <td>0.773865</td>\n",
       "      <td>89.10</td>\n",
       "    </tr>\n",
       "    <tr>\n",
       "      <th>Hitachi</th>\n",
       "      <td>82345</td>\n",
       "      <td>350864</td>\n",
       "      <td>Consumer Electronics</td>\n",
       "      <td>01-01-1910</td>\n",
       "      <td>Japan</td>\n",
       "      <td>0.234692</td>\n",
       "      <td>52.60</td>\n",
       "    </tr>\n",
       "    <tr>\n",
       "      <th>Intel</th>\n",
       "      <td>77867</td>\n",
       "      <td>110600</td>\n",
       "      <td>Chip Manufacturing</td>\n",
       "      <td>18-07-1968</td>\n",
       "      <td>USA</td>\n",
       "      <td>0.704042</td>\n",
       "      <td>25.58</td>\n",
       "    </tr>\n",
       "    <tr>\n",
       "      <th>IBM</th>\n",
       "      <td>73620</td>\n",
       "      <td>364800</td>\n",
       "      <td>Software Services</td>\n",
       "      <td>16-06-1911</td>\n",
       "      <td>USA</td>\n",
       "      <td>0.201809</td>\n",
       "      <td>137.35</td>\n",
       "    </tr>\n",
       "    <tr>\n",
       "      <th>Tencent</th>\n",
       "      <td>69864</td>\n",
       "      <td>85858</td>\n",
       "      <td>Software Services</td>\n",
       "      <td>11-11-1998</td>\n",
       "      <td>China</td>\n",
       "      <td>0.813716</td>\n",
       "      <td>48.23</td>\n",
       "    </tr>\n",
       "    <tr>\n",
       "      <th>Panasonic</th>\n",
       "      <td>63191</td>\n",
       "      <td>243540</td>\n",
       "      <td>Consumer Electronics</td>\n",
       "      <td>07-03-1918</td>\n",
       "      <td>Japan</td>\n",
       "      <td>0.259469</td>\n",
       "      <td>8.81</td>\n",
       "    </tr>\n",
       "  </tbody>\n",
       "</table>\n",
       "</div>"
      ],
      "text/plain": [
       "                   Revenue  Employees                Sector Founding Date  \\\n",
       "Apple               274515     147000  Consumer Electronics    01-04-1976   \n",
       "Samsung             200734     267937  Consumer Electronics    13-01-1969   \n",
       "Alphabet            182527     135301     Software Services    04-09-1998   \n",
       "Foxconn             181945     878429    Chip Manufacturing    20-02-1974   \n",
       "Microsoft           143015     163000     Software Services    04-04-1975   \n",
       "Huawei              129184     197000  Consumer Electronics    15-09-1987   \n",
       "Dell Technologies    92224     158000  Consumer Electronics    01-02-1984   \n",
       "Meta                 85965      58604     Software Services    04-02-2004   \n",
       "Sony                 84893     109700  Consumer Electronics    07-04-1946   \n",
       "Hitachi              82345     350864  Consumer Electronics    01-01-1910   \n",
       "Intel                77867     110600    Chip Manufacturing    18-07-1968   \n",
       "IBM                  73620     364800     Software Services    16-06-1911   \n",
       "Tencent              69864      85858     Software Services    11-11-1998   \n",
       "Panasonic            63191     243540  Consumer Electronics    07-03-1918   \n",
       "\n",
       "                       Country  Revenue Per Employee  Stock Price  \n",
       "Apple                      USA              1.867449       143.28  \n",
       "Samsung            South Korea              0.749184        49.87  \n",
       "Alphabet                   USA              1.349044        88.26  \n",
       "Foxconn                 Taiwan              0.207125         1.83  \n",
       "Microsoft                  USA              0.877393       253.75  \n",
       "Huawei                   China              0.655756         0.00  \n",
       "Dell Technologies          USA              0.583696        43.40  \n",
       "Meta                       USA              1.466879       167.32  \n",
       "Sony                     Japan              0.773865        89.10  \n",
       "Hitachi                  Japan              0.234692        52.60  \n",
       "Intel                      USA              0.704042        25.58  \n",
       "IBM                        USA              0.201809       137.35  \n",
       "Tencent                  China              0.813716        48.23  \n",
       "Panasonic                Japan              0.259469         8.81  "
      ]
     },
     "execution_count": 33,
     "metadata": {},
     "output_type": "execute_result"
    }
   ],
   "source": [
    "top_companies"
   ]
  },
  {
   "cell_type": "markdown",
   "metadata": {},
   "source": [
    "The `drop()` method accpets the indices of the values we want to remove and is by default immutable (return a new dataframe instead of modifying the original one). If we want to mutate original dataframe, we have to pass `inplace = True`\n"
   ]
  },
  {
   "cell_type": "code",
   "execution_count": 43,
   "metadata": {},
   "outputs": [
    {
     "data": {
      "text/html": [
       "<div>\n",
       "<style scoped>\n",
       "    .dataframe tbody tr th:only-of-type {\n",
       "        vertical-align: middle;\n",
       "    }\n",
       "\n",
       "    .dataframe tbody tr th {\n",
       "        vertical-align: top;\n",
       "    }\n",
       "\n",
       "    .dataframe thead th {\n",
       "        text-align: right;\n",
       "    }\n",
       "</style>\n",
       "<table border=\"1\" class=\"dataframe\">\n",
       "  <thead>\n",
       "    <tr style=\"text-align: right;\">\n",
       "      <th></th>\n",
       "      <th>Revenue</th>\n",
       "      <th>Employees</th>\n",
       "      <th>Sector</th>\n",
       "      <th>Founding Date</th>\n",
       "      <th>Country</th>\n",
       "      <th>Revenue Per Employee</th>\n",
       "      <th>Stock Price</th>\n",
       "    </tr>\n",
       "  </thead>\n",
       "  <tbody>\n",
       "    <tr>\n",
       "      <th>Apple</th>\n",
       "      <td>274515</td>\n",
       "      <td>147000</td>\n",
       "      <td>Consumer Electronics</td>\n",
       "      <td>01-04-1976</td>\n",
       "      <td>USA</td>\n",
       "      <td>1.867449</td>\n",
       "      <td>143.28</td>\n",
       "    </tr>\n",
       "    <tr>\n",
       "      <th>Samsung</th>\n",
       "      <td>200734</td>\n",
       "      <td>267937</td>\n",
       "      <td>Consumer Electronics</td>\n",
       "      <td>13-01-1969</td>\n",
       "      <td>South Korea</td>\n",
       "      <td>0.749184</td>\n",
       "      <td>49.87</td>\n",
       "    </tr>\n",
       "    <tr>\n",
       "      <th>Alphabet</th>\n",
       "      <td>182527</td>\n",
       "      <td>135301</td>\n",
       "      <td>Software Services</td>\n",
       "      <td>04-09-1998</td>\n",
       "      <td>USA</td>\n",
       "      <td>1.349044</td>\n",
       "      <td>88.26</td>\n",
       "    </tr>\n",
       "    <tr>\n",
       "      <th>Foxconn</th>\n",
       "      <td>181945</td>\n",
       "      <td>878429</td>\n",
       "      <td>Chip Manufacturing</td>\n",
       "      <td>20-02-1974</td>\n",
       "      <td>Taiwan</td>\n",
       "      <td>0.207125</td>\n",
       "      <td>1.83</td>\n",
       "    </tr>\n",
       "    <tr>\n",
       "      <th>Microsoft</th>\n",
       "      <td>143015</td>\n",
       "      <td>163000</td>\n",
       "      <td>Software Services</td>\n",
       "      <td>04-04-1975</td>\n",
       "      <td>USA</td>\n",
       "      <td>0.877393</td>\n",
       "      <td>253.75</td>\n",
       "    </tr>\n",
       "    <tr>\n",
       "      <th>Huawei</th>\n",
       "      <td>129184</td>\n",
       "      <td>197000</td>\n",
       "      <td>Consumer Electronics</td>\n",
       "      <td>15-09-1987</td>\n",
       "      <td>China</td>\n",
       "      <td>0.655756</td>\n",
       "      <td>0.00</td>\n",
       "    </tr>\n",
       "    <tr>\n",
       "      <th>Dell Technologies</th>\n",
       "      <td>92224</td>\n",
       "      <td>158000</td>\n",
       "      <td>Consumer Electronics</td>\n",
       "      <td>01-02-1984</td>\n",
       "      <td>USA</td>\n",
       "      <td>0.583696</td>\n",
       "      <td>43.40</td>\n",
       "    </tr>\n",
       "    <tr>\n",
       "      <th>Meta</th>\n",
       "      <td>85965</td>\n",
       "      <td>58604</td>\n",
       "      <td>Software Services</td>\n",
       "      <td>04-02-2004</td>\n",
       "      <td>USA</td>\n",
       "      <td>1.466879</td>\n",
       "      <td>167.32</td>\n",
       "    </tr>\n",
       "    <tr>\n",
       "      <th>Sony</th>\n",
       "      <td>84893</td>\n",
       "      <td>109700</td>\n",
       "      <td>Consumer Electronics</td>\n",
       "      <td>07-04-1946</td>\n",
       "      <td>Japan</td>\n",
       "      <td>0.773865</td>\n",
       "      <td>89.10</td>\n",
       "    </tr>\n",
       "    <tr>\n",
       "      <th>Hitachi</th>\n",
       "      <td>82345</td>\n",
       "      <td>350864</td>\n",
       "      <td>Consumer Electronics</td>\n",
       "      <td>01-01-1910</td>\n",
       "      <td>Japan</td>\n",
       "      <td>0.234692</td>\n",
       "      <td>52.60</td>\n",
       "    </tr>\n",
       "    <tr>\n",
       "      <th>IBM</th>\n",
       "      <td>73620</td>\n",
       "      <td>364800</td>\n",
       "      <td>Software Services</td>\n",
       "      <td>16-06-1911</td>\n",
       "      <td>USA</td>\n",
       "      <td>0.201809</td>\n",
       "      <td>137.35</td>\n",
       "    </tr>\n",
       "    <tr>\n",
       "      <th>Panasonic</th>\n",
       "      <td>63191</td>\n",
       "      <td>243540</td>\n",
       "      <td>Consumer Electronics</td>\n",
       "      <td>07-03-1918</td>\n",
       "      <td>Japan</td>\n",
       "      <td>0.259469</td>\n",
       "      <td>8.81</td>\n",
       "    </tr>\n",
       "  </tbody>\n",
       "</table>\n",
       "</div>"
      ],
      "text/plain": [
       "                   Revenue  Employees                Sector Founding Date  \\\n",
       "Apple               274515     147000  Consumer Electronics    01-04-1976   \n",
       "Samsung             200734     267937  Consumer Electronics    13-01-1969   \n",
       "Alphabet            182527     135301     Software Services    04-09-1998   \n",
       "Foxconn             181945     878429    Chip Manufacturing    20-02-1974   \n",
       "Microsoft           143015     163000     Software Services    04-04-1975   \n",
       "Huawei              129184     197000  Consumer Electronics    15-09-1987   \n",
       "Dell Technologies    92224     158000  Consumer Electronics    01-02-1984   \n",
       "Meta                 85965      58604     Software Services    04-02-2004   \n",
       "Sony                 84893     109700  Consumer Electronics    07-04-1946   \n",
       "Hitachi              82345     350864  Consumer Electronics    01-01-1910   \n",
       "IBM                  73620     364800     Software Services    16-06-1911   \n",
       "Panasonic            63191     243540  Consumer Electronics    07-03-1918   \n",
       "\n",
       "                       Country  Revenue Per Employee  Stock Price  \n",
       "Apple                      USA              1.867449       143.28  \n",
       "Samsung            South Korea              0.749184        49.87  \n",
       "Alphabet                   USA              1.349044        88.26  \n",
       "Foxconn                 Taiwan              0.207125         1.83  \n",
       "Microsoft                  USA              0.877393       253.75  \n",
       "Huawei                   China              0.655756         0.00  \n",
       "Dell Technologies          USA              0.583696        43.40  \n",
       "Meta                       USA              1.466879       167.32  \n",
       "Sony                     Japan              0.773865        89.10  \n",
       "Hitachi                  Japan              0.234692        52.60  \n",
       "IBM                        USA              0.201809       137.35  \n",
       "Panasonic                Japan              0.259469         8.81  "
      ]
     },
     "execution_count": 43,
     "metadata": {},
     "output_type": "execute_result"
    }
   ],
   "source": [
    "top_companies.loc[top_companies['Revenue'].index]"
   ]
  },
  {
   "cell_type": "code",
   "execution_count": 34,
   "metadata": {},
   "outputs": [],
   "source": [
    "top_companies.drop(['Intel', 'Tencent'], inplace=True)"
   ]
  },
  {
   "cell_type": "markdown",
   "metadata": {},
   "source": [
    "Deleting rows based on condition is simple. Since the `.drop()` recieves index of the values we want to delete. So to delete row, we select the columns and in the end apply `.index`\n"
   ]
  },
  {
   "cell_type": "markdown",
   "metadata": {},
   "source": [
    "`df.drop(df.loc[df.['column'] condition].index)`\n"
   ]
  },
  {
   "cell_type": "code",
   "execution_count": 35,
   "metadata": {},
   "outputs": [
    {
     "name": "stdout",
     "output_type": "stream",
     "text": [
      "Companies with revenue less than 80,000 million:\n"
     ]
    },
    {
     "data": {
      "text/html": [
       "<div>\n",
       "<style scoped>\n",
       "    .dataframe tbody tr th:only-of-type {\n",
       "        vertical-align: middle;\n",
       "    }\n",
       "\n",
       "    .dataframe tbody tr th {\n",
       "        vertical-align: top;\n",
       "    }\n",
       "\n",
       "    .dataframe thead th {\n",
       "        text-align: right;\n",
       "    }\n",
       "</style>\n",
       "<table border=\"1\" class=\"dataframe\">\n",
       "  <thead>\n",
       "    <tr style=\"text-align: right;\">\n",
       "      <th></th>\n",
       "      <th>Revenue</th>\n",
       "      <th>Employees</th>\n",
       "      <th>Sector</th>\n",
       "      <th>Founding Date</th>\n",
       "      <th>Country</th>\n",
       "      <th>Revenue Per Employee</th>\n",
       "      <th>Stock Price</th>\n",
       "    </tr>\n",
       "  </thead>\n",
       "  <tbody>\n",
       "    <tr>\n",
       "      <th>IBM</th>\n",
       "      <td>73620</td>\n",
       "      <td>364800</td>\n",
       "      <td>Software Services</td>\n",
       "      <td>16-06-1911</td>\n",
       "      <td>USA</td>\n",
       "      <td>0.201809</td>\n",
       "      <td>137.35</td>\n",
       "    </tr>\n",
       "    <tr>\n",
       "      <th>Panasonic</th>\n",
       "      <td>63191</td>\n",
       "      <td>243540</td>\n",
       "      <td>Consumer Electronics</td>\n",
       "      <td>07-03-1918</td>\n",
       "      <td>Japan</td>\n",
       "      <td>0.259469</td>\n",
       "      <td>8.81</td>\n",
       "    </tr>\n",
       "  </tbody>\n",
       "</table>\n",
       "</div>"
      ],
      "text/plain": [
       "           Revenue  Employees                Sector Founding Date Country  \\\n",
       "IBM          73620     364800     Software Services    16-06-1911     USA   \n",
       "Panasonic    63191     243540  Consumer Electronics    07-03-1918   Japan   \n",
       "\n",
       "           Revenue Per Employee  Stock Price  \n",
       "IBM                    0.201809       137.35  \n",
       "Panasonic              0.259469         8.81  "
      ]
     },
     "execution_count": 35,
     "metadata": {},
     "output_type": "execute_result"
    }
   ],
   "source": [
    "print(f\"Companies with revenue less than 80,000 million:\")\n",
    "\n",
    "top_companies.loc[top_companies[\"Revenue\"]< 80000]"
   ]
  },
  {
   "cell_type": "code",
   "execution_count": 36,
   "metadata": {},
   "outputs": [
    {
     "name": "stdout",
     "output_type": "stream",
     "text": [
      "Deleting companies with revenue less than 80,000 million\n"
     ]
    },
    {
     "data": {
      "text/html": [
       "<div>\n",
       "<style scoped>\n",
       "    .dataframe tbody tr th:only-of-type {\n",
       "        vertical-align: middle;\n",
       "    }\n",
       "\n",
       "    .dataframe tbody tr th {\n",
       "        vertical-align: top;\n",
       "    }\n",
       "\n",
       "    .dataframe thead th {\n",
       "        text-align: right;\n",
       "    }\n",
       "</style>\n",
       "<table border=\"1\" class=\"dataframe\">\n",
       "  <thead>\n",
       "    <tr style=\"text-align: right;\">\n",
       "      <th></th>\n",
       "      <th>Revenue</th>\n",
       "      <th>Employees</th>\n",
       "      <th>Sector</th>\n",
       "      <th>Founding Date</th>\n",
       "      <th>Country</th>\n",
       "      <th>Revenue Per Employee</th>\n",
       "      <th>Stock Price</th>\n",
       "    </tr>\n",
       "  </thead>\n",
       "  <tbody>\n",
       "    <tr>\n",
       "      <th>Apple</th>\n",
       "      <td>274515</td>\n",
       "      <td>147000</td>\n",
       "      <td>Consumer Electronics</td>\n",
       "      <td>01-04-1976</td>\n",
       "      <td>USA</td>\n",
       "      <td>1.867449</td>\n",
       "      <td>143.28</td>\n",
       "    </tr>\n",
       "    <tr>\n",
       "      <th>Samsung</th>\n",
       "      <td>200734</td>\n",
       "      <td>267937</td>\n",
       "      <td>Consumer Electronics</td>\n",
       "      <td>13-01-1969</td>\n",
       "      <td>South Korea</td>\n",
       "      <td>0.749184</td>\n",
       "      <td>49.87</td>\n",
       "    </tr>\n",
       "    <tr>\n",
       "      <th>Alphabet</th>\n",
       "      <td>182527</td>\n",
       "      <td>135301</td>\n",
       "      <td>Software Services</td>\n",
       "      <td>04-09-1998</td>\n",
       "      <td>USA</td>\n",
       "      <td>1.349044</td>\n",
       "      <td>88.26</td>\n",
       "    </tr>\n",
       "    <tr>\n",
       "      <th>Foxconn</th>\n",
       "      <td>181945</td>\n",
       "      <td>878429</td>\n",
       "      <td>Chip Manufacturing</td>\n",
       "      <td>20-02-1974</td>\n",
       "      <td>Taiwan</td>\n",
       "      <td>0.207125</td>\n",
       "      <td>1.83</td>\n",
       "    </tr>\n",
       "    <tr>\n",
       "      <th>Microsoft</th>\n",
       "      <td>143015</td>\n",
       "      <td>163000</td>\n",
       "      <td>Software Services</td>\n",
       "      <td>04-04-1975</td>\n",
       "      <td>USA</td>\n",
       "      <td>0.877393</td>\n",
       "      <td>253.75</td>\n",
       "    </tr>\n",
       "    <tr>\n",
       "      <th>Huawei</th>\n",
       "      <td>129184</td>\n",
       "      <td>197000</td>\n",
       "      <td>Consumer Electronics</td>\n",
       "      <td>15-09-1987</td>\n",
       "      <td>China</td>\n",
       "      <td>0.655756</td>\n",
       "      <td>0.00</td>\n",
       "    </tr>\n",
       "    <tr>\n",
       "      <th>Dell Technologies</th>\n",
       "      <td>92224</td>\n",
       "      <td>158000</td>\n",
       "      <td>Consumer Electronics</td>\n",
       "      <td>01-02-1984</td>\n",
       "      <td>USA</td>\n",
       "      <td>0.583696</td>\n",
       "      <td>43.40</td>\n",
       "    </tr>\n",
       "    <tr>\n",
       "      <th>Meta</th>\n",
       "      <td>85965</td>\n",
       "      <td>58604</td>\n",
       "      <td>Software Services</td>\n",
       "      <td>04-02-2004</td>\n",
       "      <td>USA</td>\n",
       "      <td>1.466879</td>\n",
       "      <td>167.32</td>\n",
       "    </tr>\n",
       "    <tr>\n",
       "      <th>Sony</th>\n",
       "      <td>84893</td>\n",
       "      <td>109700</td>\n",
       "      <td>Consumer Electronics</td>\n",
       "      <td>07-04-1946</td>\n",
       "      <td>Japan</td>\n",
       "      <td>0.773865</td>\n",
       "      <td>89.10</td>\n",
       "    </tr>\n",
       "    <tr>\n",
       "      <th>Hitachi</th>\n",
       "      <td>82345</td>\n",
       "      <td>350864</td>\n",
       "      <td>Consumer Electronics</td>\n",
       "      <td>01-01-1910</td>\n",
       "      <td>Japan</td>\n",
       "      <td>0.234692</td>\n",
       "      <td>52.60</td>\n",
       "    </tr>\n",
       "  </tbody>\n",
       "</table>\n",
       "</div>"
      ],
      "text/plain": [
       "                   Revenue  Employees                Sector Founding Date  \\\n",
       "Apple               274515     147000  Consumer Electronics    01-04-1976   \n",
       "Samsung             200734     267937  Consumer Electronics    13-01-1969   \n",
       "Alphabet            182527     135301     Software Services    04-09-1998   \n",
       "Foxconn             181945     878429    Chip Manufacturing    20-02-1974   \n",
       "Microsoft           143015     163000     Software Services    04-04-1975   \n",
       "Huawei              129184     197000  Consumer Electronics    15-09-1987   \n",
       "Dell Technologies    92224     158000  Consumer Electronics    01-02-1984   \n",
       "Meta                 85965      58604     Software Services    04-02-2004   \n",
       "Sony                 84893     109700  Consumer Electronics    07-04-1946   \n",
       "Hitachi              82345     350864  Consumer Electronics    01-01-1910   \n",
       "\n",
       "                       Country  Revenue Per Employee  Stock Price  \n",
       "Apple                      USA              1.867449       143.28  \n",
       "Samsung            South Korea              0.749184        49.87  \n",
       "Alphabet                   USA              1.349044        88.26  \n",
       "Foxconn                 Taiwan              0.207125         1.83  \n",
       "Microsoft                  USA              0.877393       253.75  \n",
       "Huawei                   China              0.655756         0.00  \n",
       "Dell Technologies          USA              0.583696        43.40  \n",
       "Meta                       USA              1.466879       167.32  \n",
       "Sony                     Japan              0.773865        89.10  \n",
       "Hitachi                  Japan              0.234692        52.60  "
      ]
     },
     "execution_count": 36,
     "metadata": {},
     "output_type": "execute_result"
    }
   ],
   "source": [
    "print(f\"Deleting companies with revenue less than 80,000 million\")\n",
    "\n",
    "top_companies.drop(top_companies.loc[top_companies['Revenue'] < 80000].index)"
   ]
  },
  {
   "cell_type": "code",
   "execution_count": 44,
   "metadata": {},
   "outputs": [
    {
     "data": {
      "text/html": [
       "<div>\n",
       "<style scoped>\n",
       "    .dataframe tbody tr th:only-of-type {\n",
       "        vertical-align: middle;\n",
       "    }\n",
       "\n",
       "    .dataframe tbody tr th {\n",
       "        vertical-align: top;\n",
       "    }\n",
       "\n",
       "    .dataframe thead th {\n",
       "        text-align: right;\n",
       "    }\n",
       "</style>\n",
       "<table border=\"1\" class=\"dataframe\">\n",
       "  <thead>\n",
       "    <tr style=\"text-align: right;\">\n",
       "      <th></th>\n",
       "      <th>Annual Revenue</th>\n",
       "      <th>Employees</th>\n",
       "      <th>Sector</th>\n",
       "      <th>Founding Date</th>\n",
       "      <th>Country</th>\n",
       "      <th>Revenue Per Employee</th>\n",
       "      <th>Stock Price</th>\n",
       "    </tr>\n",
       "  </thead>\n",
       "  <tbody>\n",
       "    <tr>\n",
       "      <th>Apple</th>\n",
       "      <td>274515</td>\n",
       "      <td>147000</td>\n",
       "      <td>Consumer Electronics</td>\n",
       "      <td>01-04-1976</td>\n",
       "      <td>USA</td>\n",
       "      <td>1.867449</td>\n",
       "      <td>143.28</td>\n",
       "    </tr>\n",
       "    <tr>\n",
       "      <th>Samsung</th>\n",
       "      <td>200734</td>\n",
       "      <td>267937</td>\n",
       "      <td>Consumer Electronics</td>\n",
       "      <td>13-01-1969</td>\n",
       "      <td>South Korea</td>\n",
       "      <td>0.749184</td>\n",
       "      <td>49.87</td>\n",
       "    </tr>\n",
       "    <tr>\n",
       "      <th>Alphabet</th>\n",
       "      <td>182527</td>\n",
       "      <td>135301</td>\n",
       "      <td>Software Services</td>\n",
       "      <td>04-09-1998</td>\n",
       "      <td>USA</td>\n",
       "      <td>1.349044</td>\n",
       "      <td>88.26</td>\n",
       "    </tr>\n",
       "    <tr>\n",
       "      <th>Foxconn</th>\n",
       "      <td>181945</td>\n",
       "      <td>878429</td>\n",
       "      <td>Chip Manufacturing</td>\n",
       "      <td>20-02-1974</td>\n",
       "      <td>Taiwan</td>\n",
       "      <td>0.207125</td>\n",
       "      <td>1.83</td>\n",
       "    </tr>\n",
       "    <tr>\n",
       "      <th>Microsoft</th>\n",
       "      <td>143015</td>\n",
       "      <td>163000</td>\n",
       "      <td>Software Services</td>\n",
       "      <td>04-04-1975</td>\n",
       "      <td>USA</td>\n",
       "      <td>0.877393</td>\n",
       "      <td>253.75</td>\n",
       "    </tr>\n",
       "    <tr>\n",
       "      <th>Huawei</th>\n",
       "      <td>129184</td>\n",
       "      <td>197000</td>\n",
       "      <td>Consumer Electronics</td>\n",
       "      <td>15-09-1987</td>\n",
       "      <td>China</td>\n",
       "      <td>0.655756</td>\n",
       "      <td>0.00</td>\n",
       "    </tr>\n",
       "    <tr>\n",
       "      <th>Dell Technologies</th>\n",
       "      <td>92224</td>\n",
       "      <td>158000</td>\n",
       "      <td>Consumer Electronics</td>\n",
       "      <td>01-02-1984</td>\n",
       "      <td>USA</td>\n",
       "      <td>0.583696</td>\n",
       "      <td>43.40</td>\n",
       "    </tr>\n",
       "    <tr>\n",
       "      <th>Meta</th>\n",
       "      <td>85965</td>\n",
       "      <td>58604</td>\n",
       "      <td>Software Services</td>\n",
       "      <td>04-02-2004</td>\n",
       "      <td>USA</td>\n",
       "      <td>1.466879</td>\n",
       "      <td>167.32</td>\n",
       "    </tr>\n",
       "    <tr>\n",
       "      <th>Sony</th>\n",
       "      <td>84893</td>\n",
       "      <td>109700</td>\n",
       "      <td>Consumer Electronics</td>\n",
       "      <td>07-04-1946</td>\n",
       "      <td>Japan</td>\n",
       "      <td>0.773865</td>\n",
       "      <td>89.10</td>\n",
       "    </tr>\n",
       "    <tr>\n",
       "      <th>Hitachi</th>\n",
       "      <td>82345</td>\n",
       "      <td>350864</td>\n",
       "      <td>Consumer Electronics</td>\n",
       "      <td>01-01-1910</td>\n",
       "      <td>Japan</td>\n",
       "      <td>0.234692</td>\n",
       "      <td>52.60</td>\n",
       "    </tr>\n",
       "    <tr>\n",
       "      <th>IBM</th>\n",
       "      <td>73620</td>\n",
       "      <td>364800</td>\n",
       "      <td>Software Services</td>\n",
       "      <td>16-06-1911</td>\n",
       "      <td>USA</td>\n",
       "      <td>0.201809</td>\n",
       "      <td>137.35</td>\n",
       "    </tr>\n",
       "    <tr>\n",
       "      <th>Panasonic</th>\n",
       "      <td>63191</td>\n",
       "      <td>243540</td>\n",
       "      <td>Consumer Electronics</td>\n",
       "      <td>07-03-1918</td>\n",
       "      <td>Japan</td>\n",
       "      <td>0.259469</td>\n",
       "      <td>8.81</td>\n",
       "    </tr>\n",
       "  </tbody>\n",
       "</table>\n",
       "</div>"
      ],
      "text/plain": [
       "                   Annual Revenue  Employees                Sector  \\\n",
       "Apple                      274515     147000  Consumer Electronics   \n",
       "Samsung                    200734     267937  Consumer Electronics   \n",
       "Alphabet                   182527     135301     Software Services   \n",
       "Foxconn                    181945     878429    Chip Manufacturing   \n",
       "Microsoft                  143015     163000     Software Services   \n",
       "Huawei                     129184     197000  Consumer Electronics   \n",
       "Dell Technologies           92224     158000  Consumer Electronics   \n",
       "Meta                        85965      58604     Software Services   \n",
       "Sony                        84893     109700  Consumer Electronics   \n",
       "Hitachi                     82345     350864  Consumer Electronics   \n",
       "IBM                         73620     364800     Software Services   \n",
       "Panasonic                   63191     243540  Consumer Electronics   \n",
       "\n",
       "                  Founding Date      Country  Revenue Per Employee  \\\n",
       "Apple                01-04-1976          USA              1.867449   \n",
       "Samsung              13-01-1969  South Korea              0.749184   \n",
       "Alphabet             04-09-1998          USA              1.349044   \n",
       "Foxconn              20-02-1974       Taiwan              0.207125   \n",
       "Microsoft            04-04-1975          USA              0.877393   \n",
       "Huawei               15-09-1987        China              0.655756   \n",
       "Dell Technologies    01-02-1984          USA              0.583696   \n",
       "Meta                 04-02-2004          USA              1.466879   \n",
       "Sony                 07-04-1946        Japan              0.773865   \n",
       "Hitachi              01-01-1910        Japan              0.234692   \n",
       "IBM                  16-06-1911          USA              0.201809   \n",
       "Panasonic            07-03-1918        Japan              0.259469   \n",
       "\n",
       "                   Stock Price  \n",
       "Apple                   143.28  \n",
       "Samsung                  49.87  \n",
       "Alphabet                 88.26  \n",
       "Foxconn                   1.83  \n",
       "Microsoft               253.75  \n",
       "Huawei                    0.00  \n",
       "Dell Technologies        43.40  \n",
       "Meta                    167.32  \n",
       "Sony                     89.10  \n",
       "Hitachi                  52.60  \n",
       "IBM                     137.35  \n",
       "Panasonic                 8.81  "
      ]
     },
     "execution_count": 44,
     "metadata": {},
     "output_type": "execute_result"
    }
   ],
   "source": [
    "top_companies.rename(columns={'Revenue': 'Annual Revenue'})"
   ]
  },
  {
   "cell_type": "code",
   "execution_count": 136,
   "metadata": {},
   "outputs": [],
   "source": [
    "# df['mode'] = df['mode'].replace({0: 'Minor', 1: 'Major'})\n",
    "# df['tempo'] = df['tempo'].clip(upper=150)\n",
    "# df.loc[df['year'] < 1950, 'year'] = 1950"
   ]
  },
  {
   "cell_type": "markdown",
   "metadata": {},
   "source": [
    "### Dataframe Sorting\n"
   ]
  },
  {
   "cell_type": "markdown",
   "metadata": {},
   "source": [
    "Sorting in dataframe is easy using two methods:\n",
    "\n",
    "<ul>\n",
    "    <li>.sort_values()</li>\n",
    "    <li>.sort_index()</li>\n",
    "</ul>\n"
   ]
  },
  {
   "cell_type": "markdown",
   "metadata": {},
   "source": [
    "In default form, sort.values() takes the columns to use as sorting and returns `a new dataframe` sorted in `ascending order` by that column\n"
   ]
  },
  {
   "cell_type": "code",
   "execution_count": 137,
   "metadata": {},
   "outputs": [
    {
     "data": {
      "text/html": [
       "<div>\n",
       "<style scoped>\n",
       "    .dataframe tbody tr th:only-of-type {\n",
       "        vertical-align: middle;\n",
       "    }\n",
       "\n",
       "    .dataframe tbody tr th {\n",
       "        vertical-align: top;\n",
       "    }\n",
       "\n",
       "    .dataframe thead th {\n",
       "        text-align: right;\n",
       "    }\n",
       "</style>\n",
       "<table border=\"1\" class=\"dataframe\">\n",
       "  <thead>\n",
       "    <tr style=\"text-align: right;\">\n",
       "      <th></th>\n",
       "      <th>Revenue</th>\n",
       "      <th>Employees</th>\n",
       "      <th>Sector</th>\n",
       "      <th>Founding Date</th>\n",
       "      <th>Country</th>\n",
       "      <th>Revenue Per Employee</th>\n",
       "      <th>Stock Price</th>\n",
       "    </tr>\n",
       "  </thead>\n",
       "  <tbody>\n",
       "    <tr>\n",
       "      <th>Panasonic</th>\n",
       "      <td>63191</td>\n",
       "      <td>243540</td>\n",
       "      <td>Consumer Electronics</td>\n",
       "      <td>07-03-1918</td>\n",
       "      <td>Japan</td>\n",
       "      <td>0.259469</td>\n",
       "      <td>8.81</td>\n",
       "    </tr>\n",
       "    <tr>\n",
       "      <th>IBM</th>\n",
       "      <td>73620</td>\n",
       "      <td>364800</td>\n",
       "      <td>Software Services</td>\n",
       "      <td>16-06-1911</td>\n",
       "      <td>USA</td>\n",
       "      <td>0.201809</td>\n",
       "      <td>137.35</td>\n",
       "    </tr>\n",
       "    <tr>\n",
       "      <th>Hitachi</th>\n",
       "      <td>82345</td>\n",
       "      <td>350864</td>\n",
       "      <td>Consumer Electronics</td>\n",
       "      <td>01-01-1910</td>\n",
       "      <td>Japan</td>\n",
       "      <td>0.234692</td>\n",
       "      <td>52.60</td>\n",
       "    </tr>\n",
       "    <tr>\n",
       "      <th>Sony</th>\n",
       "      <td>84893</td>\n",
       "      <td>109700</td>\n",
       "      <td>Consumer Electronics</td>\n",
       "      <td>07-04-1946</td>\n",
       "      <td>Japan</td>\n",
       "      <td>0.773865</td>\n",
       "      <td>89.10</td>\n",
       "    </tr>\n",
       "    <tr>\n",
       "      <th>Meta</th>\n",
       "      <td>85965</td>\n",
       "      <td>58604</td>\n",
       "      <td>Software Services</td>\n",
       "      <td>04-02-2004</td>\n",
       "      <td>USA</td>\n",
       "      <td>1.466879</td>\n",
       "      <td>167.32</td>\n",
       "    </tr>\n",
       "    <tr>\n",
       "      <th>Dell Technologies</th>\n",
       "      <td>92224</td>\n",
       "      <td>158000</td>\n",
       "      <td>Consumer Electronics</td>\n",
       "      <td>01-02-1984</td>\n",
       "      <td>USA</td>\n",
       "      <td>0.583696</td>\n",
       "      <td>43.40</td>\n",
       "    </tr>\n",
       "    <tr>\n",
       "      <th>Huawei</th>\n",
       "      <td>129184</td>\n",
       "      <td>197000</td>\n",
       "      <td>Consumer Electronics</td>\n",
       "      <td>15-09-1987</td>\n",
       "      <td>China</td>\n",
       "      <td>0.655756</td>\n",
       "      <td>0.00</td>\n",
       "    </tr>\n",
       "    <tr>\n",
       "      <th>Microsoft</th>\n",
       "      <td>143015</td>\n",
       "      <td>163000</td>\n",
       "      <td>Software Services</td>\n",
       "      <td>04-04-1975</td>\n",
       "      <td>USA</td>\n",
       "      <td>0.877393</td>\n",
       "      <td>253.75</td>\n",
       "    </tr>\n",
       "    <tr>\n",
       "      <th>Foxconn</th>\n",
       "      <td>181945</td>\n",
       "      <td>878429</td>\n",
       "      <td>Chip Manufacturing</td>\n",
       "      <td>20-02-1974</td>\n",
       "      <td>Taiwan</td>\n",
       "      <td>0.207125</td>\n",
       "      <td>1.83</td>\n",
       "    </tr>\n",
       "    <tr>\n",
       "      <th>Alphabet</th>\n",
       "      <td>182527</td>\n",
       "      <td>135301</td>\n",
       "      <td>Software Services</td>\n",
       "      <td>04-09-1998</td>\n",
       "      <td>USA</td>\n",
       "      <td>1.349044</td>\n",
       "      <td>88.26</td>\n",
       "    </tr>\n",
       "    <tr>\n",
       "      <th>Samsung</th>\n",
       "      <td>200734</td>\n",
       "      <td>267937</td>\n",
       "      <td>Consumer Electronics</td>\n",
       "      <td>13-01-1969</td>\n",
       "      <td>South Korea</td>\n",
       "      <td>0.749184</td>\n",
       "      <td>49.87</td>\n",
       "    </tr>\n",
       "    <tr>\n",
       "      <th>Apple</th>\n",
       "      <td>274515</td>\n",
       "      <td>147000</td>\n",
       "      <td>Consumer Electronics</td>\n",
       "      <td>01-04-1976</td>\n",
       "      <td>USA</td>\n",
       "      <td>1.867449</td>\n",
       "      <td>143.28</td>\n",
       "    </tr>\n",
       "  </tbody>\n",
       "</table>\n",
       "</div>"
      ],
      "text/plain": [
       "                   Revenue  Employees                Sector Founding Date  \\\n",
       "Panasonic            63191     243540  Consumer Electronics    07-03-1918   \n",
       "IBM                  73620     364800     Software Services    16-06-1911   \n",
       "Hitachi              82345     350864  Consumer Electronics    01-01-1910   \n",
       "Sony                 84893     109700  Consumer Electronics    07-04-1946   \n",
       "Meta                 85965      58604     Software Services    04-02-2004   \n",
       "Dell Technologies    92224     158000  Consumer Electronics    01-02-1984   \n",
       "Huawei              129184     197000  Consumer Electronics    15-09-1987   \n",
       "Microsoft           143015     163000     Software Services    04-04-1975   \n",
       "Foxconn             181945     878429    Chip Manufacturing    20-02-1974   \n",
       "Alphabet            182527     135301     Software Services    04-09-1998   \n",
       "Samsung             200734     267937  Consumer Electronics    13-01-1969   \n",
       "Apple               274515     147000  Consumer Electronics    01-04-1976   \n",
       "\n",
       "                       Country  Revenue Per Employee  Stock Price  \n",
       "Panasonic                Japan              0.259469         8.81  \n",
       "IBM                        USA              0.201809       137.35  \n",
       "Hitachi                  Japan              0.234692        52.60  \n",
       "Sony                     Japan              0.773865        89.10  \n",
       "Meta                       USA              1.466879       167.32  \n",
       "Dell Technologies          USA              0.583696        43.40  \n",
       "Huawei                   China              0.655756         0.00  \n",
       "Microsoft                  USA              0.877393       253.75  \n",
       "Foxconn                 Taiwan              0.207125         1.83  \n",
       "Alphabet                   USA              1.349044        88.26  \n",
       "Samsung            South Korea              0.749184        49.87  \n",
       "Apple                      USA              1.867449       143.28  "
      ]
     },
     "execution_count": 137,
     "metadata": {},
     "output_type": "execute_result"
    }
   ],
   "source": [
    "top_companies.sort_values(by='Revenue')"
   ]
  },
  {
   "cell_type": "markdown",
   "metadata": {},
   "source": [
    "We can pass multiple column as sorting parameter and any tie would be broken by the second column. `This means that if two columns are equal when sorted with first parameter, it is then sorted by the second parameter`\n"
   ]
  },
  {
   "cell_type": "code",
   "execution_count": 140,
   "metadata": {},
   "outputs": [
    {
     "data": {
      "text/html": [
       "<div>\n",
       "<style scoped>\n",
       "    .dataframe tbody tr th:only-of-type {\n",
       "        vertical-align: middle;\n",
       "    }\n",
       "\n",
       "    .dataframe tbody tr th {\n",
       "        vertical-align: top;\n",
       "    }\n",
       "\n",
       "    .dataframe thead th {\n",
       "        text-align: right;\n",
       "    }\n",
       "</style>\n",
       "<table border=\"1\" class=\"dataframe\">\n",
       "  <thead>\n",
       "    <tr style=\"text-align: right;\">\n",
       "      <th></th>\n",
       "      <th>Revenue</th>\n",
       "      <th>Employees</th>\n",
       "      <th>Sector</th>\n",
       "      <th>Founding Date</th>\n",
       "      <th>Country</th>\n",
       "      <th>Revenue Per Employee</th>\n",
       "      <th>Stock Price</th>\n",
       "    </tr>\n",
       "  </thead>\n",
       "  <tbody>\n",
       "    <tr>\n",
       "      <th>IBM</th>\n",
       "      <td>73620</td>\n",
       "      <td>364800</td>\n",
       "      <td>Software Services</td>\n",
       "      <td>16-06-1911</td>\n",
       "      <td>USA</td>\n",
       "      <td>0.201809</td>\n",
       "      <td>137.35</td>\n",
       "    </tr>\n",
       "    <tr>\n",
       "      <th>Meta</th>\n",
       "      <td>85965</td>\n",
       "      <td>58604</td>\n",
       "      <td>Software Services</td>\n",
       "      <td>04-02-2004</td>\n",
       "      <td>USA</td>\n",
       "      <td>1.466879</td>\n",
       "      <td>167.32</td>\n",
       "    </tr>\n",
       "    <tr>\n",
       "      <th>Microsoft</th>\n",
       "      <td>143015</td>\n",
       "      <td>163000</td>\n",
       "      <td>Software Services</td>\n",
       "      <td>04-04-1975</td>\n",
       "      <td>USA</td>\n",
       "      <td>0.877393</td>\n",
       "      <td>253.75</td>\n",
       "    </tr>\n",
       "    <tr>\n",
       "      <th>Alphabet</th>\n",
       "      <td>182527</td>\n",
       "      <td>135301</td>\n",
       "      <td>Software Services</td>\n",
       "      <td>04-09-1998</td>\n",
       "      <td>USA</td>\n",
       "      <td>1.349044</td>\n",
       "      <td>88.26</td>\n",
       "    </tr>\n",
       "    <tr>\n",
       "      <th>Panasonic</th>\n",
       "      <td>63191</td>\n",
       "      <td>243540</td>\n",
       "      <td>Consumer Electronics</td>\n",
       "      <td>07-03-1918</td>\n",
       "      <td>Japan</td>\n",
       "      <td>0.259469</td>\n",
       "      <td>8.81</td>\n",
       "    </tr>\n",
       "    <tr>\n",
       "      <th>Hitachi</th>\n",
       "      <td>82345</td>\n",
       "      <td>350864</td>\n",
       "      <td>Consumer Electronics</td>\n",
       "      <td>01-01-1910</td>\n",
       "      <td>Japan</td>\n",
       "      <td>0.234692</td>\n",
       "      <td>52.60</td>\n",
       "    </tr>\n",
       "    <tr>\n",
       "      <th>Sony</th>\n",
       "      <td>84893</td>\n",
       "      <td>109700</td>\n",
       "      <td>Consumer Electronics</td>\n",
       "      <td>07-04-1946</td>\n",
       "      <td>Japan</td>\n",
       "      <td>0.773865</td>\n",
       "      <td>89.10</td>\n",
       "    </tr>\n",
       "    <tr>\n",
       "      <th>Dell Technologies</th>\n",
       "      <td>92224</td>\n",
       "      <td>158000</td>\n",
       "      <td>Consumer Electronics</td>\n",
       "      <td>01-02-1984</td>\n",
       "      <td>USA</td>\n",
       "      <td>0.583696</td>\n",
       "      <td>43.40</td>\n",
       "    </tr>\n",
       "    <tr>\n",
       "      <th>Huawei</th>\n",
       "      <td>129184</td>\n",
       "      <td>197000</td>\n",
       "      <td>Consumer Electronics</td>\n",
       "      <td>15-09-1987</td>\n",
       "      <td>China</td>\n",
       "      <td>0.655756</td>\n",
       "      <td>0.00</td>\n",
       "    </tr>\n",
       "    <tr>\n",
       "      <th>Samsung</th>\n",
       "      <td>200734</td>\n",
       "      <td>267937</td>\n",
       "      <td>Consumer Electronics</td>\n",
       "      <td>13-01-1969</td>\n",
       "      <td>South Korea</td>\n",
       "      <td>0.749184</td>\n",
       "      <td>49.87</td>\n",
       "    </tr>\n",
       "    <tr>\n",
       "      <th>Apple</th>\n",
       "      <td>274515</td>\n",
       "      <td>147000</td>\n",
       "      <td>Consumer Electronics</td>\n",
       "      <td>01-04-1976</td>\n",
       "      <td>USA</td>\n",
       "      <td>1.867449</td>\n",
       "      <td>143.28</td>\n",
       "    </tr>\n",
       "    <tr>\n",
       "      <th>Foxconn</th>\n",
       "      <td>181945</td>\n",
       "      <td>878429</td>\n",
       "      <td>Chip Manufacturing</td>\n",
       "      <td>20-02-1974</td>\n",
       "      <td>Taiwan</td>\n",
       "      <td>0.207125</td>\n",
       "      <td>1.83</td>\n",
       "    </tr>\n",
       "  </tbody>\n",
       "</table>\n",
       "</div>"
      ],
      "text/plain": [
       "                   Revenue  Employees                Sector Founding Date  \\\n",
       "IBM                  73620     364800     Software Services    16-06-1911   \n",
       "Meta                 85965      58604     Software Services    04-02-2004   \n",
       "Microsoft           143015     163000     Software Services    04-04-1975   \n",
       "Alphabet            182527     135301     Software Services    04-09-1998   \n",
       "Panasonic            63191     243540  Consumer Electronics    07-03-1918   \n",
       "Hitachi              82345     350864  Consumer Electronics    01-01-1910   \n",
       "Sony                 84893     109700  Consumer Electronics    07-04-1946   \n",
       "Dell Technologies    92224     158000  Consumer Electronics    01-02-1984   \n",
       "Huawei              129184     197000  Consumer Electronics    15-09-1987   \n",
       "Samsung             200734     267937  Consumer Electronics    13-01-1969   \n",
       "Apple               274515     147000  Consumer Electronics    01-04-1976   \n",
       "Foxconn             181945     878429    Chip Manufacturing    20-02-1974   \n",
       "\n",
       "                       Country  Revenue Per Employee  Stock Price  \n",
       "IBM                        USA              0.201809       137.35  \n",
       "Meta                       USA              1.466879       167.32  \n",
       "Microsoft                  USA              0.877393       253.75  \n",
       "Alphabet                   USA              1.349044        88.26  \n",
       "Panasonic                Japan              0.259469         8.81  \n",
       "Hitachi                  Japan              0.234692        52.60  \n",
       "Sony                     Japan              0.773865        89.10  \n",
       "Dell Technologies          USA              0.583696        43.40  \n",
       "Huawei                   China              0.655756         0.00  \n",
       "Samsung            South Korea              0.749184        49.87  \n",
       "Apple                      USA              1.867449       143.28  \n",
       "Foxconn                 Taiwan              0.207125         1.83  "
      ]
     },
     "execution_count": 140,
     "metadata": {},
     "output_type": "execute_result"
    }
   ],
   "source": [
    "top_companies.sort_values(by=['Sector', 'Revenue'], ascending=[False, True])"
   ]
  },
  {
   "cell_type": "markdown",
   "metadata": {},
   "source": [
    "There are two main methods to query data in dataframe\n",
    "\n",
    "<ul>\n",
    "    <li>\n",
    "        `query()` method allows you to filter a dataframe based on a query expression written in string\n",
    "        <ul>\n",
    "            <li>Makes code more readable</li>\n",
    "            <li>Good for complex conditions</li>\n",
    "        </ul> \n",
    "    </li>\n",
    "    <li>\n",
    "        `loc()` method is a more general purpose tool for selecting rows and columns based on label (index) or boolean condition\n",
    "        <ul>\n",
    "            <li>Makes code more readable</li>\n",
    "            <li>Good for complex conditions</li>\n",
    "        </ul> \n",
    "    </li>\n",
    "</ul>\n"
   ]
  },
  {
   "cell_type": "markdown",
   "metadata": {},
   "source": [
    "<ul>\n",
    "    <li>\n",
    "        Readability\n",
    "        <ul>\n",
    "            <li>query() oftenmore readable and concise</li>\n",
    "            <li>.loc[] verbose with complex conditions but more flexible\n",
    "            </li>\n",
    "        </ul>\n",
    "    </li>\n",
    "    <li>\n",
    "        Performance\n",
    "        <ul>\n",
    "            <li>query() slightly faster for large Dataframes</li>\n",
    "            <li>.loc[] slower with complex conditions\n",
    "            </li>\n",
    "        </ul>\n",
    "    </li>\n",
    "    <li>\n",
    "        Performance\n",
    "        <ul>\n",
    "            <li>query() cannot handlt dynamic columns directly (column names stored in variables)</li>\n",
    "            <li>\n",
    "                .loc[] handles dynamic column names and more complex indexing tasks\n",
    "            </li>\n",
    "        </ul>\n",
    "    </li>\n",
    "</ul>\n"
   ]
  },
  {
   "cell_type": "code",
   "execution_count": null,
   "metadata": {},
   "outputs": [],
   "source": [
    "long_name_age = df.query('club_name == \"Manchester City\"')[['long_name', 'age']] # select the name and age of player whose club is equal to Manchester City"
   ]
  },
  {
   "cell_type": "markdown",
   "metadata": {},
   "source": [
    "Similar to what we did with Series, we can combine multiple expressions with boolean operators: and (&), or (|) and not (~). Make sure to include parethensis between conditions\n"
   ]
  },
  {
   "cell_type": "code",
   "execution_count": 45,
   "metadata": {},
   "outputs": [
    {
     "data": {
      "text/html": [
       "<div>\n",
       "<style scoped>\n",
       "    .dataframe tbody tr th:only-of-type {\n",
       "        vertical-align: middle;\n",
       "    }\n",
       "\n",
       "    .dataframe tbody tr th {\n",
       "        vertical-align: top;\n",
       "    }\n",
       "\n",
       "    .dataframe thead th {\n",
       "        text-align: right;\n",
       "    }\n",
       "</style>\n",
       "<table border=\"1\" class=\"dataframe\">\n",
       "  <thead>\n",
       "    <tr style=\"text-align: right;\">\n",
       "      <th></th>\n",
       "      <th>Revenue</th>\n",
       "      <th>Employees</th>\n",
       "      <th>Sector</th>\n",
       "      <th>Founding Date</th>\n",
       "      <th>Country</th>\n",
       "      <th>Revenue Per Employee</th>\n",
       "      <th>Stock Price</th>\n",
       "    </tr>\n",
       "  </thead>\n",
       "  <tbody>\n",
       "    <tr>\n",
       "      <th>Apple</th>\n",
       "      <td>274515</td>\n",
       "      <td>147000</td>\n",
       "      <td>Consumer Electronics</td>\n",
       "      <td>01-04-1976</td>\n",
       "      <td>USA</td>\n",
       "      <td>1.867449</td>\n",
       "      <td>143.28</td>\n",
       "    </tr>\n",
       "    <tr>\n",
       "      <th>Alphabet</th>\n",
       "      <td>182527</td>\n",
       "      <td>135301</td>\n",
       "      <td>Software Services</td>\n",
       "      <td>04-09-1998</td>\n",
       "      <td>USA</td>\n",
       "      <td>1.349044</td>\n",
       "      <td>88.26</td>\n",
       "    </tr>\n",
       "    <tr>\n",
       "      <th>Microsoft</th>\n",
       "      <td>143015</td>\n",
       "      <td>163000</td>\n",
       "      <td>Software Services</td>\n",
       "      <td>04-04-1975</td>\n",
       "      <td>USA</td>\n",
       "      <td>0.877393</td>\n",
       "      <td>253.75</td>\n",
       "    </tr>\n",
       "  </tbody>\n",
       "</table>\n",
       "</div>"
      ],
      "text/plain": [
       "           Revenue  Employees                Sector Founding Date Country  \\\n",
       "Apple       274515     147000  Consumer Electronics    01-04-1976     USA   \n",
       "Alphabet    182527     135301     Software Services    04-09-1998     USA   \n",
       "Microsoft   143015     163000     Software Services    04-04-1975     USA   \n",
       "\n",
       "           Revenue Per Employee  Stock Price  \n",
       "Apple                  1.867449       143.28  \n",
       "Alphabet               1.349044        88.26  \n",
       "Microsoft              0.877393       253.75  "
      ]
     },
     "execution_count": 45,
     "metadata": {},
     "output_type": "execute_result"
    }
   ],
   "source": [
    "top_companies.loc[(top_companies['Revenue'] > top_companies['Revenue'].mean()) & (top_companies['Country'] == 'USA')]"
   ]
  },
  {
   "cell_type": "code",
   "execution_count": 46,
   "metadata": {},
   "outputs": [
    {
     "data": {
      "text/html": [
       "<div>\n",
       "<style scoped>\n",
       "    .dataframe tbody tr th:only-of-type {\n",
       "        vertical-align: middle;\n",
       "    }\n",
       "\n",
       "    .dataframe tbody tr th {\n",
       "        vertical-align: top;\n",
       "    }\n",
       "\n",
       "    .dataframe thead th {\n",
       "        text-align: right;\n",
       "    }\n",
       "</style>\n",
       "<table border=\"1\" class=\"dataframe\">\n",
       "  <thead>\n",
       "    <tr style=\"text-align: right;\">\n",
       "      <th></th>\n",
       "      <th>Revenue</th>\n",
       "      <th>Employees</th>\n",
       "      <th>Sector</th>\n",
       "      <th>Founding Date</th>\n",
       "      <th>Country</th>\n",
       "      <th>Revenue Per Employee</th>\n",
       "      <th>Stock Price</th>\n",
       "    </tr>\n",
       "  </thead>\n",
       "  <tbody>\n",
       "    <tr>\n",
       "      <th>Apple</th>\n",
       "      <td>274515</td>\n",
       "      <td>147000</td>\n",
       "      <td>Consumer Electronics</td>\n",
       "      <td>01-04-1976</td>\n",
       "      <td>USA</td>\n",
       "      <td>1.867449</td>\n",
       "      <td>143.28</td>\n",
       "    </tr>\n",
       "    <tr>\n",
       "      <th>Samsung</th>\n",
       "      <td>200734</td>\n",
       "      <td>267937</td>\n",
       "      <td>Consumer Electronics</td>\n",
       "      <td>13-01-1969</td>\n",
       "      <td>South Korea</td>\n",
       "      <td>0.749184</td>\n",
       "      <td>49.87</td>\n",
       "    </tr>\n",
       "    <tr>\n",
       "      <th>Alphabet</th>\n",
       "      <td>182527</td>\n",
       "      <td>135301</td>\n",
       "      <td>Software Services</td>\n",
       "      <td>04-09-1998</td>\n",
       "      <td>USA</td>\n",
       "      <td>1.349044</td>\n",
       "      <td>88.26</td>\n",
       "    </tr>\n",
       "    <tr>\n",
       "      <th>Foxconn</th>\n",
       "      <td>181945</td>\n",
       "      <td>878429</td>\n",
       "      <td>Chip Manufacturing</td>\n",
       "      <td>20-02-1974</td>\n",
       "      <td>Taiwan</td>\n",
       "      <td>0.207125</td>\n",
       "      <td>1.83</td>\n",
       "    </tr>\n",
       "    <tr>\n",
       "      <th>Microsoft</th>\n",
       "      <td>143015</td>\n",
       "      <td>163000</td>\n",
       "      <td>Software Services</td>\n",
       "      <td>04-04-1975</td>\n",
       "      <td>USA</td>\n",
       "      <td>0.877393</td>\n",
       "      <td>253.75</td>\n",
       "    </tr>\n",
       "  </tbody>\n",
       "</table>\n",
       "</div>"
      ],
      "text/plain": [
       "           Revenue  Employees                Sector Founding Date  \\\n",
       "Apple       274515     147000  Consumer Electronics    01-04-1976   \n",
       "Samsung     200734     267937  Consumer Electronics    13-01-1969   \n",
       "Alphabet    182527     135301     Software Services    04-09-1998   \n",
       "Foxconn     181945     878429    Chip Manufacturing    20-02-1974   \n",
       "Microsoft   143015     163000     Software Services    04-04-1975   \n",
       "\n",
       "               Country  Revenue Per Employee  Stock Price  \n",
       "Apple              USA              1.867449       143.28  \n",
       "Samsung    South Korea              0.749184        49.87  \n",
       "Alphabet           USA              1.349044        88.26  \n",
       "Foxconn         Taiwan              0.207125         1.83  \n",
       "Microsoft          USA              0.877393       253.75  "
      ]
     },
     "execution_count": 46,
     "metadata": {},
     "output_type": "execute_result"
    }
   ],
   "source": [
    "mean_revenue = top_companies['Revenue'].mean()\n",
    "top_companies.query(\"Revenue > @mean_revenue\") # referncing above variable"
   ]
  },
  {
   "cell_type": "code",
   "execution_count": null,
   "metadata": {},
   "outputs": [],
   "source": [
    "# df.loc[df[\"view_count\"] >= 1000000, [\"view_count\", \"speaker_name\"]] # select all data where view count is greater than one million. Only select view_count and speaker_name columns"
   ]
  },
  {
   "cell_type": "markdown",
   "metadata": {},
   "source": [
    "### Data Cleaning and Preperation\n"
   ]
  },
  {
   "cell_type": "markdown",
   "metadata": {},
   "source": [
    "`Data cleaning and preperation` are crucial steps in data analytics process as it ensures that the data used for data analytics is accurate, consistent and usable\n"
   ]
  },
  {
   "cell_type": "markdown",
   "metadata": {},
   "source": [
    "Data cleaning is done to\n",
    "\n",
    "<ul>\n",
    "    <li>\n",
    "        Ensure the data is correct and free from errors\n",
    "    </li>\n",
    "    <li>\n",
    "        Ensure the data is uniform across different sources and formats\n",
    "    </li>\n",
    "    <li>\n",
    "        Ensure there is no missing or incomplete values\n",
    "    </li>\n",
    "    <li>\n",
    "        Ensure the data is relevant to the analysis being performed\n",
    "    </li>\n",
    "    <li>\n",
    "        Improve the efficieny of data processing and analysis\n",
    "    </li>\n",
    "</ul>\n"
   ]
  },
  {
   "cell_type": "markdown",
   "metadata": {},
   "source": [
    "The process of data cleaning and preparation involves several steps including\n",
    "\n",
    "<ul>\n",
    "    <li>\n",
    "        <b>Data Collection: </b>Gathering data from various sources such as databases, spreadsheets, APIs and more\n",
    "    </li>\n",
    "    <li>\n",
    "        <b>Data Inspection: </b>Involves initial examination of the data to understand its structure, types, and issues\n",
    "        <ul>\n",
    "            <li>Involves using pandas functions like head(), info(), describe()</li>\n",
    "        </ul>\n",
    "    </li>\n",
    "    <li>\n",
    "        <b>Data Cleaning: </b>It involves\n",
    "        <ul>\n",
    "            <li>\n",
    "                Handling missing values (remove, impute, or fill in values)\n",
    "                <ul>\n",
    "                    <li>\n",
    "                        Use methods like fillna()\n",
    "                    </li>\n",
    "                </ul>\n",
    "            </li>\n",
    "            <li>\n",
    "                Removing duplicates (identify and remove duplicate values)\n",
    "                <ul>\n",
    "                    <li>\n",
    "                        drop_duplicates()\n",
    "                    </li>\n",
    "                </ul>\n",
    "            </li>\n",
    "            <li>\n",
    "                Handling outliers (identify and handle outliers that may skew the analysis)\n",
    "            </li>\n",
    "            <li>\n",
    "                Correcting errors (correct errors such as typos, inccorect data entries, and formatting issues)\n",
    "            </li>\n",
    "        </ul>\n",
    "    </li>\n",
    "    <li>\n",
    "        <b>Data Transformation: </b>It involves\n",
    "        <ul>\n",
    "            <li>\n",
    "                Normalization (adjust data to a common scale)\n",
    "                <ul>\n",
    "                    <li>\n",
    "                        UUsing preprocessing libraries functions like StandardScaler\n",
    "                    </li>\n",
    "                </ul>\n",
    "            </li>\n",
    "            <li>\n",
    "                Encoding categorical data (convert categorical data into numerical format)\n",
    "                <ul>\n",
    "                    <li>\n",
    "                        pd.get_dummies()\n",
    "                    </li>\n",
    "                </ul>\n",
    "            </li>\n",
    "            <li>\n",
    "                Data type conversion (Convert data to appropriate types for analysis)\n",
    "            </li>\n",
    "            <li>\n",
    "                Correcting errors (correct errors such as typos, inccorect data entries, and formatting issues)\n",
    "            </li>\n",
    "        </ul>\n",
    "    </li>\n",
    "    <li>\n",
    "        <b>Data Integration: </b>Combine data from different sources and formats into a single dataset\n",
    "        <ul>\n",
    "                    <li>\n",
    "                        pd.merge()\n",
    "                    </li>\n",
    "                </ul>\n",
    "    </li>\n",
    "    <li>\n",
    "        <b>Data Reduction: </b>Reduce the volume of data by aggregating or selecting a subset of data for analysis\n",
    "        <ul>\n",
    "                    <li>\n",
    "                        df.groupby()\n",
    "                    </li>\n",
    "                </ul>\n",
    "    </li>\n",
    "    <li>\n",
    "        <b>Data Validation: </b>Ensure the cleaned data meets the requirements for analysis through validation checks\n",
    "    </li>\n",
    "</ul>\n"
   ]
  },
  {
   "cell_type": "markdown",
   "metadata": {},
   "source": [
    "#### Handling missing data\n"
   ]
  },
  {
   "cell_type": "markdown",
   "metadata": {},
   "source": [
    "In pandas, `NA` means missing data or Not Available. None is also treated as NA\n"
   ]
  },
  {
   "cell_type": "code",
   "execution_count": 7,
   "metadata": {},
   "outputs": [
    {
     "data": {
      "text/plain": [
       "0    NaN\n",
       "1   -3.5\n",
       "2    NaN\n",
       "3    0.0\n",
       "dtype: float64"
      ]
     },
     "execution_count": 7,
     "metadata": {},
     "output_type": "execute_result"
    }
   ],
   "source": [
    "float_data = pd.Series([None, -3.5, np.nan, 0])\n",
    "float_data"
   ]
  },
  {
   "cell_type": "markdown",
   "metadata": {},
   "source": [
    "We can look for missing or invalid values using `isna()` method\n"
   ]
  },
  {
   "cell_type": "code",
   "execution_count": 6,
   "metadata": {},
   "outputs": [
    {
     "name": "stdout",
     "output_type": "stream",
     "text": [
      "Checking for NA in the series\n"
     ]
    },
    {
     "data": {
      "text/plain": [
       "0    False\n",
       "1    False\n",
       "2     True\n",
       "3    False\n",
       "dtype: bool"
      ]
     },
     "execution_count": 6,
     "metadata": {},
     "output_type": "execute_result"
    }
   ],
   "source": [
    "print(\"Checking for NA in the series\")\n",
    "float_data.isna()"
   ]
  },
  {
   "cell_type": "markdown",
   "metadata": {},
   "source": [
    "We can either frop the axis containing missing data or replace the NA with some values\n"
   ]
  },
  {
   "cell_type": "code",
   "execution_count": 8,
   "metadata": {},
   "outputs": [
    {
     "name": "stdout",
     "output_type": "stream",
     "text": [
      "Dropping NA isn the series\n"
     ]
    },
    {
     "data": {
      "text/plain": [
       "1   -3.5\n",
       "3    0.0\n",
       "dtype: float64"
      ]
     },
     "execution_count": 8,
     "metadata": {},
     "output_type": "execute_result"
    }
   ],
   "source": [
    "print(\"Dropping NA isn the series\")\n",
    "float_data.dropna() #new series is created, the original remains same"
   ]
  },
  {
   "cell_type": "code",
   "execution_count": 12,
   "metadata": {},
   "outputs": [
    {
     "name": "stdout",
     "output_type": "stream",
     "text": [
      "Filling the NA with values\n"
     ]
    },
    {
     "data": {
      "text/plain": [
       "0    5.0\n",
       "1   -3.5\n",
       "2    5.0\n",
       "3    0.0\n",
       "dtype: float64"
      ]
     },
     "execution_count": 12,
     "metadata": {},
     "output_type": "execute_result"
    }
   ],
   "source": [
    "print(\"Filling the NA with values\")\n",
    "float_data.fillna(5) #replace NA with 5"
   ]
  },
  {
   "cell_type": "markdown",
   "metadata": {},
   "source": [
    "Instead of dropping, we can filter out NA data\n"
   ]
  },
  {
   "cell_type": "code",
   "execution_count": 15,
   "metadata": {},
   "outputs": [
    {
     "data": {
      "text/plain": [
       "1   -3.5\n",
       "3    0.0\n",
       "dtype: float64"
      ]
     },
     "execution_count": 15,
     "metadata": {},
     "output_type": "execute_result"
    }
   ],
   "source": [
    "float_data[float_data.notna()] # take only non na values"
   ]
  },
  {
   "cell_type": "markdown",
   "metadata": {},
   "source": [
    "We can also use `replace()` method to replace NA values with some data\n"
   ]
  },
  {
   "cell_type": "code",
   "execution_count": 25,
   "metadata": {},
   "outputs": [
    {
     "data": {
      "text/plain": [
       "0   -1.75\n",
       "1   -3.50\n",
       "2   -1.75\n",
       "3    0.00\n",
       "dtype: float64"
      ]
     },
     "execution_count": 25,
     "metadata": {},
     "output_type": "execute_result"
    }
   ],
   "source": [
    "float_data.replace(np.nan, float_data.mean())"
   ]
  },
  {
   "cell_type": "markdown",
   "metadata": {},
   "source": [
    "We can pass an array to replace multiple values\n"
   ]
  },
  {
   "cell_type": "code",
   "execution_count": 26,
   "metadata": {},
   "outputs": [
    {
     "data": {
      "text/plain": [
       "0   -1.75\n",
       "1   -1.75\n",
       "2   -1.75\n",
       "3    0.00\n",
       "dtype: float64"
      ]
     },
     "execution_count": 26,
     "metadata": {},
     "output_type": "execute_result"
    }
   ],
   "source": [
    "float_data.replace([np.nan, -3.50], float_data.median())"
   ]
  },
  {
   "cell_type": "markdown",
   "metadata": {},
   "source": [
    "#### Data Transformation\n"
   ]
  },
  {
   "cell_type": "markdown",
   "metadata": {},
   "source": [
    "Duplicate entries can impact analysis and pre-processing and can lead to bias. DataFrame method `duplicated` returns a Boolean series indicating whether each row is duplicated or not\n"
   ]
  },
  {
   "cell_type": "code",
   "execution_count": 16,
   "metadata": {},
   "outputs": [],
   "source": [
    "data = pd.DataFrame({\"k1\": [\"one\", \"two\"] * 3 + [\"two\"],\"k2\": [1, 1, 2, 3, 3, 4, 4]})"
   ]
  },
  {
   "cell_type": "code",
   "execution_count": 17,
   "metadata": {},
   "outputs": [
    {
     "data": {
      "text/plain": [
       "0    False\n",
       "1    False\n",
       "2    False\n",
       "3    False\n",
       "4    False\n",
       "5    False\n",
       "6     True\n",
       "dtype: bool"
      ]
     },
     "execution_count": 17,
     "metadata": {},
     "output_type": "execute_result"
    }
   ],
   "source": [
    "data.duplicated()"
   ]
  },
  {
   "cell_type": "markdown",
   "metadata": {},
   "source": [
    "We can drop duplicates using `.drop_duplicates()`\n"
   ]
  },
  {
   "cell_type": "code",
   "execution_count": 20,
   "metadata": {},
   "outputs": [
    {
     "data": {
      "text/html": [
       "<div>\n",
       "<style scoped>\n",
       "    .dataframe tbody tr th:only-of-type {\n",
       "        vertical-align: middle;\n",
       "    }\n",
       "\n",
       "    .dataframe tbody tr th {\n",
       "        vertical-align: top;\n",
       "    }\n",
       "\n",
       "    .dataframe thead th {\n",
       "        text-align: right;\n",
       "    }\n",
       "</style>\n",
       "<table border=\"1\" class=\"dataframe\">\n",
       "  <thead>\n",
       "    <tr style=\"text-align: right;\">\n",
       "      <th></th>\n",
       "      <th>k1</th>\n",
       "      <th>k2</th>\n",
       "    </tr>\n",
       "  </thead>\n",
       "  <tbody>\n",
       "    <tr>\n",
       "      <th>0</th>\n",
       "      <td>one</td>\n",
       "      <td>1</td>\n",
       "    </tr>\n",
       "    <tr>\n",
       "      <th>1</th>\n",
       "      <td>two</td>\n",
       "      <td>1</td>\n",
       "    </tr>\n",
       "    <tr>\n",
       "      <th>2</th>\n",
       "      <td>one</td>\n",
       "      <td>2</td>\n",
       "    </tr>\n",
       "    <tr>\n",
       "      <th>3</th>\n",
       "      <td>two</td>\n",
       "      <td>3</td>\n",
       "    </tr>\n",
       "    <tr>\n",
       "      <th>4</th>\n",
       "      <td>one</td>\n",
       "      <td>3</td>\n",
       "    </tr>\n",
       "    <tr>\n",
       "      <th>5</th>\n",
       "      <td>two</td>\n",
       "      <td>4</td>\n",
       "    </tr>\n",
       "  </tbody>\n",
       "</table>\n",
       "</div>"
      ],
      "text/plain": [
       "    k1  k2\n",
       "0  one   1\n",
       "1  two   1\n",
       "2  one   2\n",
       "3  two   3\n",
       "4  one   3\n",
       "5  two   4"
      ]
     },
     "execution_count": 20,
     "metadata": {},
     "output_type": "execute_result"
    }
   ],
   "source": [
    "data.drop_duplicates() # considers column by default. It returns a new dataframe with duplicate rows removed.\n"
   ]
  },
  {
   "cell_type": "markdown",
   "metadata": {},
   "source": [
    "We can rename columns and indexes of dataframe using `.rename()` method\n"
   ]
  },
  {
   "cell_type": "code",
   "execution_count": 31,
   "metadata": {},
   "outputs": [
    {
     "data": {
      "text/html": [
       "<div>\n",
       "<style scoped>\n",
       "    .dataframe tbody tr th:only-of-type {\n",
       "        vertical-align: middle;\n",
       "    }\n",
       "\n",
       "    .dataframe tbody tr th {\n",
       "        vertical-align: top;\n",
       "    }\n",
       "\n",
       "    .dataframe thead th {\n",
       "        text-align: right;\n",
       "    }\n",
       "</style>\n",
       "<table border=\"1\" class=\"dataframe\">\n",
       "  <thead>\n",
       "    <tr style=\"text-align: right;\">\n",
       "      <th></th>\n",
       "      <th>Column 1</th>\n",
       "      <th>Column 2</th>\n",
       "    </tr>\n",
       "  </thead>\n",
       "  <tbody>\n",
       "    <tr>\n",
       "      <th>First Index</th>\n",
       "      <td>one</td>\n",
       "      <td>1</td>\n",
       "    </tr>\n",
       "    <tr>\n",
       "      <th>1</th>\n",
       "      <td>two</td>\n",
       "      <td>1</td>\n",
       "    </tr>\n",
       "    <tr>\n",
       "      <th>2</th>\n",
       "      <td>one</td>\n",
       "      <td>2</td>\n",
       "    </tr>\n",
       "    <tr>\n",
       "      <th>3</th>\n",
       "      <td>two</td>\n",
       "      <td>3</td>\n",
       "    </tr>\n",
       "    <tr>\n",
       "      <th>4</th>\n",
       "      <td>one</td>\n",
       "      <td>3</td>\n",
       "    </tr>\n",
       "    <tr>\n",
       "      <th>5</th>\n",
       "      <td>two</td>\n",
       "      <td>4</td>\n",
       "    </tr>\n",
       "    <tr>\n",
       "      <th>Last Index</th>\n",
       "      <td>two</td>\n",
       "      <td>4</td>\n",
       "    </tr>\n",
       "  </tbody>\n",
       "</table>\n",
       "</div>"
      ],
      "text/plain": [
       "            Column 1  Column 2\n",
       "First Index      one         1\n",
       "1                two         1\n",
       "2                one         2\n",
       "3                two         3\n",
       "4                one         3\n",
       "5                two         4\n",
       "Last Index       two         4"
      ]
     },
     "execution_count": 31,
     "metadata": {},
     "output_type": "execute_result"
    }
   ],
   "source": [
    "data.rename(columns={'k1': 'Column 1', 'k2': 'Column 2'}, index={0 : 'First Index', 6 : 'Last Index'})"
   ]
  },
  {
   "cell_type": "markdown",
   "metadata": {},
   "source": [
    "Filtering or transforming outliers is largely a matter of applying array operations.\n"
   ]
  },
  {
   "cell_type": "code",
   "execution_count": 33,
   "metadata": {},
   "outputs": [
    {
     "data": {
      "text/html": [
       "<div>\n",
       "<style scoped>\n",
       "    .dataframe tbody tr th:only-of-type {\n",
       "        vertical-align: middle;\n",
       "    }\n",
       "\n",
       "    .dataframe tbody tr th {\n",
       "        vertical-align: top;\n",
       "    }\n",
       "\n",
       "    .dataframe thead th {\n",
       "        text-align: right;\n",
       "    }\n",
       "</style>\n",
       "<table border=\"1\" class=\"dataframe\">\n",
       "  <thead>\n",
       "    <tr style=\"text-align: right;\">\n",
       "      <th></th>\n",
       "      <th>0</th>\n",
       "      <th>1</th>\n",
       "      <th>2</th>\n",
       "      <th>3</th>\n",
       "    </tr>\n",
       "  </thead>\n",
       "  <tbody>\n",
       "    <tr>\n",
       "      <th>0</th>\n",
       "      <td>0.578930</td>\n",
       "      <td>0.945805</td>\n",
       "      <td>1.591450</td>\n",
       "      <td>1.002726</td>\n",
       "    </tr>\n",
       "    <tr>\n",
       "      <th>1</th>\n",
       "      <td>0.014375</td>\n",
       "      <td>0.417671</td>\n",
       "      <td>0.499759</td>\n",
       "      <td>-0.975068</td>\n",
       "    </tr>\n",
       "    <tr>\n",
       "      <th>2</th>\n",
       "      <td>-0.708358</td>\n",
       "      <td>1.775295</td>\n",
       "      <td>-0.028873</td>\n",
       "      <td>0.775256</td>\n",
       "    </tr>\n",
       "    <tr>\n",
       "      <th>3</th>\n",
       "      <td>1.049983</td>\n",
       "      <td>1.086802</td>\n",
       "      <td>0.552416</td>\n",
       "      <td>0.639667</td>\n",
       "    </tr>\n",
       "    <tr>\n",
       "      <th>4</th>\n",
       "      <td>0.424631</td>\n",
       "      <td>-0.133227</td>\n",
       "      <td>-0.651562</td>\n",
       "      <td>-1.097919</td>\n",
       "    </tr>\n",
       "    <tr>\n",
       "      <th>...</th>\n",
       "      <td>...</td>\n",
       "      <td>...</td>\n",
       "      <td>...</td>\n",
       "      <td>...</td>\n",
       "    </tr>\n",
       "    <tr>\n",
       "      <th>995</th>\n",
       "      <td>-0.768437</td>\n",
       "      <td>0.163928</td>\n",
       "      <td>0.448699</td>\n",
       "      <td>-0.508474</td>\n",
       "    </tr>\n",
       "    <tr>\n",
       "      <th>996</th>\n",
       "      <td>-0.404121</td>\n",
       "      <td>-2.143486</td>\n",
       "      <td>-0.735097</td>\n",
       "      <td>-0.553242</td>\n",
       "    </tr>\n",
       "    <tr>\n",
       "      <th>997</th>\n",
       "      <td>1.032402</td>\n",
       "      <td>0.668210</td>\n",
       "      <td>0.611257</td>\n",
       "      <td>-0.262439</td>\n",
       "    </tr>\n",
       "    <tr>\n",
       "      <th>998</th>\n",
       "      <td>-0.674692</td>\n",
       "      <td>-1.020023</td>\n",
       "      <td>-0.116220</td>\n",
       "      <td>0.678856</td>\n",
       "    </tr>\n",
       "    <tr>\n",
       "      <th>999</th>\n",
       "      <td>-0.722701</td>\n",
       "      <td>2.168130</td>\n",
       "      <td>0.358761</td>\n",
       "      <td>0.534058</td>\n",
       "    </tr>\n",
       "  </tbody>\n",
       "</table>\n",
       "<p>1000 rows × 4 columns</p>\n",
       "</div>"
      ],
      "text/plain": [
       "            0         1         2         3\n",
       "0    0.578930  0.945805  1.591450  1.002726\n",
       "1    0.014375  0.417671  0.499759 -0.975068\n",
       "2   -0.708358  1.775295 -0.028873  0.775256\n",
       "3    1.049983  1.086802  0.552416  0.639667\n",
       "4    0.424631 -0.133227 -0.651562 -1.097919\n",
       "..        ...       ...       ...       ...\n",
       "995 -0.768437  0.163928  0.448699 -0.508474\n",
       "996 -0.404121 -2.143486 -0.735097 -0.553242\n",
       "997  1.032402  0.668210  0.611257 -0.262439\n",
       "998 -0.674692 -1.020023 -0.116220  0.678856\n",
       "999 -0.722701  2.168130  0.358761  0.534058\n",
       "\n",
       "[1000 rows x 4 columns]"
      ]
     },
     "execution_count": 33,
     "metadata": {},
     "output_type": "execute_result"
    }
   ],
   "source": [
    "data = pd.DataFrame(np.random.standard_normal((1000, 4)))\n",
    "data"
   ]
  },
  {
   "cell_type": "code",
   "execution_count": 35,
   "metadata": {},
   "outputs": [
    {
     "data": {
      "text/html": [
       "<div>\n",
       "<style scoped>\n",
       "    .dataframe tbody tr th:only-of-type {\n",
       "        vertical-align: middle;\n",
       "    }\n",
       "\n",
       "    .dataframe tbody tr th {\n",
       "        vertical-align: top;\n",
       "    }\n",
       "\n",
       "    .dataframe thead th {\n",
       "        text-align: right;\n",
       "    }\n",
       "</style>\n",
       "<table border=\"1\" class=\"dataframe\">\n",
       "  <thead>\n",
       "    <tr style=\"text-align: right;\">\n",
       "      <th></th>\n",
       "      <th>0</th>\n",
       "      <th>1</th>\n",
       "      <th>2</th>\n",
       "      <th>3</th>\n",
       "    </tr>\n",
       "  </thead>\n",
       "  <tbody>\n",
       "    <tr>\n",
       "      <th>count</th>\n",
       "      <td>1000.000000</td>\n",
       "      <td>1000.000000</td>\n",
       "      <td>1000.000000</td>\n",
       "      <td>1000.000000</td>\n",
       "    </tr>\n",
       "    <tr>\n",
       "      <th>mean</th>\n",
       "      <td>0.043529</td>\n",
       "      <td>0.078734</td>\n",
       "      <td>0.005055</td>\n",
       "      <td>-0.035653</td>\n",
       "    </tr>\n",
       "    <tr>\n",
       "      <th>std</th>\n",
       "      <td>1.000605</td>\n",
       "      <td>1.001164</td>\n",
       "      <td>0.985553</td>\n",
       "      <td>0.965116</td>\n",
       "    </tr>\n",
       "    <tr>\n",
       "      <th>min</th>\n",
       "      <td>-3.207135</td>\n",
       "      <td>-2.986981</td>\n",
       "      <td>-3.052634</td>\n",
       "      <td>-3.171497</td>\n",
       "    </tr>\n",
       "    <tr>\n",
       "      <th>25%</th>\n",
       "      <td>-0.639907</td>\n",
       "      <td>-0.597905</td>\n",
       "      <td>-0.624819</td>\n",
       "      <td>-0.639810</td>\n",
       "    </tr>\n",
       "    <tr>\n",
       "      <th>50%</th>\n",
       "      <td>0.008578</td>\n",
       "      <td>0.051456</td>\n",
       "      <td>0.003476</td>\n",
       "      <td>-0.024785</td>\n",
       "    </tr>\n",
       "    <tr>\n",
       "      <th>75%</th>\n",
       "      <td>0.718367</td>\n",
       "      <td>0.786493</td>\n",
       "      <td>0.634888</td>\n",
       "      <td>0.638591</td>\n",
       "    </tr>\n",
       "    <tr>\n",
       "      <th>max</th>\n",
       "      <td>3.397749</td>\n",
       "      <td>3.038277</td>\n",
       "      <td>3.583611</td>\n",
       "      <td>2.910487</td>\n",
       "    </tr>\n",
       "  </tbody>\n",
       "</table>\n",
       "</div>"
      ],
      "text/plain": [
       "                 0            1            2            3\n",
       "count  1000.000000  1000.000000  1000.000000  1000.000000\n",
       "mean      0.043529     0.078734     0.005055    -0.035653\n",
       "std       1.000605     1.001164     0.985553     0.965116\n",
       "min      -3.207135    -2.986981    -3.052634    -3.171497\n",
       "25%      -0.639907    -0.597905    -0.624819    -0.639810\n",
       "50%       0.008578     0.051456     0.003476    -0.024785\n",
       "75%       0.718367     0.786493     0.634888     0.638591\n",
       "max       3.397749     3.038277     3.583611     2.910487"
      ]
     },
     "execution_count": 35,
     "metadata": {},
     "output_type": "execute_result"
    }
   ],
   "source": [
    "data.describe()"
   ]
  },
  {
   "cell_type": "markdown",
   "metadata": {},
   "source": [
    "Suppose we want to select all row between certain range, we can use `.any()` method\n"
   ]
  },
  {
   "cell_type": "code",
   "execution_count": 37,
   "metadata": {},
   "outputs": [
    {
     "data": {
      "text/html": [
       "<div>\n",
       "<style scoped>\n",
       "    .dataframe tbody tr th:only-of-type {\n",
       "        vertical-align: middle;\n",
       "    }\n",
       "\n",
       "    .dataframe tbody tr th {\n",
       "        vertical-align: top;\n",
       "    }\n",
       "\n",
       "    .dataframe thead th {\n",
       "        text-align: right;\n",
       "    }\n",
       "</style>\n",
       "<table border=\"1\" class=\"dataframe\">\n",
       "  <thead>\n",
       "    <tr style=\"text-align: right;\">\n",
       "      <th></th>\n",
       "      <th>0</th>\n",
       "      <th>1</th>\n",
       "      <th>2</th>\n",
       "      <th>3</th>\n",
       "    </tr>\n",
       "  </thead>\n",
       "  <tbody>\n",
       "    <tr>\n",
       "      <th>21</th>\n",
       "      <td>-0.130979</td>\n",
       "      <td>1.519571</td>\n",
       "      <td>3.583611</td>\n",
       "      <td>0.395833</td>\n",
       "    </tr>\n",
       "    <tr>\n",
       "      <th>164</th>\n",
       "      <td>0.404697</td>\n",
       "      <td>0.017229</td>\n",
       "      <td>0.773110</td>\n",
       "      <td>-3.171497</td>\n",
       "    </tr>\n",
       "    <tr>\n",
       "      <th>202</th>\n",
       "      <td>1.067901</td>\n",
       "      <td>3.038277</td>\n",
       "      <td>0.655721</td>\n",
       "      <td>-0.127391</td>\n",
       "    </tr>\n",
       "    <tr>\n",
       "      <th>298</th>\n",
       "      <td>-3.207135</td>\n",
       "      <td>-0.784559</td>\n",
       "      <td>2.023243</td>\n",
       "      <td>-0.613352</td>\n",
       "    </tr>\n",
       "    <tr>\n",
       "      <th>318</th>\n",
       "      <td>3.191848</td>\n",
       "      <td>1.314930</td>\n",
       "      <td>-0.414303</td>\n",
       "      <td>1.277808</td>\n",
       "    </tr>\n",
       "    <tr>\n",
       "      <th>552</th>\n",
       "      <td>3.397749</td>\n",
       "      <td>0.114614</td>\n",
       "      <td>0.279696</td>\n",
       "      <td>1.103037</td>\n",
       "    </tr>\n",
       "    <tr>\n",
       "      <th>666</th>\n",
       "      <td>0.183838</td>\n",
       "      <td>-0.205681</td>\n",
       "      <td>-3.052634</td>\n",
       "      <td>-0.077679</td>\n",
       "    </tr>\n",
       "    <tr>\n",
       "      <th>677</th>\n",
       "      <td>1.085652</td>\n",
       "      <td>0.065500</td>\n",
       "      <td>3.063421</td>\n",
       "      <td>-0.582261</td>\n",
       "    </tr>\n",
       "    <tr>\n",
       "      <th>759</th>\n",
       "      <td>-3.101115</td>\n",
       "      <td>0.469758</td>\n",
       "      <td>1.104758</td>\n",
       "      <td>-0.597113</td>\n",
       "    </tr>\n",
       "    <tr>\n",
       "      <th>840</th>\n",
       "      <td>0.498499</td>\n",
       "      <td>0.096635</td>\n",
       "      <td>-3.015551</td>\n",
       "      <td>-0.031100</td>\n",
       "    </tr>\n",
       "  </tbody>\n",
       "</table>\n",
       "</div>"
      ],
      "text/plain": [
       "            0         1         2         3\n",
       "21  -0.130979  1.519571  3.583611  0.395833\n",
       "164  0.404697  0.017229  0.773110 -3.171497\n",
       "202  1.067901  3.038277  0.655721 -0.127391\n",
       "298 -3.207135 -0.784559  2.023243 -0.613352\n",
       "318  3.191848  1.314930 -0.414303  1.277808\n",
       "552  3.397749  0.114614  0.279696  1.103037\n",
       "666  0.183838 -0.205681 -3.052634 -0.077679\n",
       "677  1.085652  0.065500  3.063421 -0.582261\n",
       "759 -3.101115  0.469758  1.104758 -0.597113\n",
       "840  0.498499  0.096635 -3.015551 -0.031100"
      ]
     },
     "execution_count": 37,
     "metadata": {},
     "output_type": "execute_result"
    }
   ],
   "source": [
    "data[(data.abs() > 3).any(axis=\"columns\")] # selecting all rows having a valu exceeding 3 or -3"
   ]
  },
  {
   "cell_type": "markdown",
   "metadata": {},
   "source": [
    "For encode categorical data into integers, we use `.get_dummies()` function\n"
   ]
  },
  {
   "cell_type": "code",
   "execution_count": 39,
   "metadata": {},
   "outputs": [
    {
     "data": {
      "text/html": [
       "<div>\n",
       "<style scoped>\n",
       "    .dataframe tbody tr th:only-of-type {\n",
       "        vertical-align: middle;\n",
       "    }\n",
       "\n",
       "    .dataframe tbody tr th {\n",
       "        vertical-align: top;\n",
       "    }\n",
       "\n",
       "    .dataframe thead th {\n",
       "        text-align: right;\n",
       "    }\n",
       "</style>\n",
       "<table border=\"1\" class=\"dataframe\">\n",
       "  <thead>\n",
       "    <tr style=\"text-align: right;\">\n",
       "      <th></th>\n",
       "      <th>key_a</th>\n",
       "      <th>key_b</th>\n",
       "      <th>key_c</th>\n",
       "    </tr>\n",
       "  </thead>\n",
       "  <tbody>\n",
       "    <tr>\n",
       "      <th>0</th>\n",
       "      <td>False</td>\n",
       "      <td>True</td>\n",
       "      <td>False</td>\n",
       "    </tr>\n",
       "    <tr>\n",
       "      <th>1</th>\n",
       "      <td>False</td>\n",
       "      <td>True</td>\n",
       "      <td>False</td>\n",
       "    </tr>\n",
       "    <tr>\n",
       "      <th>2</th>\n",
       "      <td>True</td>\n",
       "      <td>False</td>\n",
       "      <td>False</td>\n",
       "    </tr>\n",
       "    <tr>\n",
       "      <th>3</th>\n",
       "      <td>False</td>\n",
       "      <td>False</td>\n",
       "      <td>True</td>\n",
       "    </tr>\n",
       "    <tr>\n",
       "      <th>4</th>\n",
       "      <td>True</td>\n",
       "      <td>False</td>\n",
       "      <td>False</td>\n",
       "    </tr>\n",
       "    <tr>\n",
       "      <th>5</th>\n",
       "      <td>False</td>\n",
       "      <td>True</td>\n",
       "      <td>False</td>\n",
       "    </tr>\n",
       "  </tbody>\n",
       "</table>\n",
       "</div>"
      ],
      "text/plain": [
       "   key_a  key_b  key_c\n",
       "0  False   True  False\n",
       "1  False   True  False\n",
       "2   True  False  False\n",
       "3  False  False   True\n",
       "4   True  False  False\n",
       "5  False   True  False"
      ]
     },
     "execution_count": 39,
     "metadata": {},
     "output_type": "execute_result"
    }
   ],
   "source": [
    "f = pd.DataFrame({\"key\": [\"b\", \"b\", \"a\", \"c\", \"a\", \"b\"],\n",
    "\"data1\": range(6)}) # we have three categories a,b and c\n",
    "\n",
    "pd.get_dummies(f[\"key\"], prefix=\"key\") # key column is one with categorical data"
   ]
  },
  {
   "cell_type": "markdown",
   "metadata": {},
   "source": [
    "#### Practice\n"
   ]
  },
  {
   "cell_type": "code",
   "execution_count": 50,
   "metadata": {},
   "outputs": [],
   "source": [
    "df = pd.read_csv('E:/Web 3.0/Next.js 13 and TailwindCSS/Projects/genai-learning-repo/data-analysis-course/datasets/new_york_airbnb_data/train.csv')"
   ]
  },
  {
   "cell_type": "code",
   "execution_count": 51,
   "metadata": {},
   "outputs": [
    {
     "data": {
      "text/html": [
       "<div>\n",
       "<style scoped>\n",
       "    .dataframe tbody tr th:only-of-type {\n",
       "        vertical-align: middle;\n",
       "    }\n",
       "\n",
       "    .dataframe tbody tr th {\n",
       "        vertical-align: top;\n",
       "    }\n",
       "\n",
       "    .dataframe thead th {\n",
       "        text-align: right;\n",
       "    }\n",
       "</style>\n",
       "<table border=\"1\" class=\"dataframe\">\n",
       "  <thead>\n",
       "    <tr style=\"text-align: right;\">\n",
       "      <th></th>\n",
       "      <th>id</th>\n",
       "      <th>name</th>\n",
       "      <th>host_id</th>\n",
       "      <th>host_name</th>\n",
       "      <th>neighbourhood_group</th>\n",
       "      <th>neighbourhood</th>\n",
       "      <th>latitude</th>\n",
       "      <th>longitude</th>\n",
       "      <th>room_type</th>\n",
       "      <th>price</th>\n",
       "      <th>minimum_nights</th>\n",
       "      <th>number_of_reviews</th>\n",
       "      <th>last_review</th>\n",
       "      <th>reviews_per_month</th>\n",
       "      <th>calculated_host_listings_count</th>\n",
       "      <th>availability_365</th>\n",
       "    </tr>\n",
       "  </thead>\n",
       "  <tbody>\n",
       "    <tr>\n",
       "      <th>0</th>\n",
       "      <td>2539</td>\n",
       "      <td>Clean &amp; quiet apt home by the park</td>\n",
       "      <td>2787</td>\n",
       "      <td>John</td>\n",
       "      <td>Brooklyn</td>\n",
       "      <td>Kensington</td>\n",
       "      <td>40.64749</td>\n",
       "      <td>-73.97237</td>\n",
       "      <td>Private room</td>\n",
       "      <td>149</td>\n",
       "      <td>1</td>\n",
       "      <td>9</td>\n",
       "      <td>2018-10-19</td>\n",
       "      <td>0.21</td>\n",
       "      <td>6</td>\n",
       "      <td>365</td>\n",
       "    </tr>\n",
       "    <tr>\n",
       "      <th>1</th>\n",
       "      <td>2595</td>\n",
       "      <td>Skylit Midtown Castle</td>\n",
       "      <td>2845</td>\n",
       "      <td>Jennifer</td>\n",
       "      <td>Manhattan</td>\n",
       "      <td>Midtown</td>\n",
       "      <td>40.75362</td>\n",
       "      <td>-73.98377</td>\n",
       "      <td>Entire home/apt</td>\n",
       "      <td>225</td>\n",
       "      <td>1</td>\n",
       "      <td>45</td>\n",
       "      <td>2019-05-21</td>\n",
       "      <td>0.38</td>\n",
       "      <td>2</td>\n",
       "      <td>355</td>\n",
       "    </tr>\n",
       "    <tr>\n",
       "      <th>2</th>\n",
       "      <td>3647</td>\n",
       "      <td>THE VILLAGE OF HARLEM....NEW YORK !</td>\n",
       "      <td>4632</td>\n",
       "      <td>Elisabeth</td>\n",
       "      <td>Manhattan</td>\n",
       "      <td>Harlem</td>\n",
       "      <td>40.80902</td>\n",
       "      <td>-73.94190</td>\n",
       "      <td>Private room</td>\n",
       "      <td>150</td>\n",
       "      <td>3</td>\n",
       "      <td>0</td>\n",
       "      <td>NaN</td>\n",
       "      <td>NaN</td>\n",
       "      <td>1</td>\n",
       "      <td>365</td>\n",
       "    </tr>\n",
       "    <tr>\n",
       "      <th>3</th>\n",
       "      <td>3831</td>\n",
       "      <td>Cozy Entire Floor of Brownstone</td>\n",
       "      <td>4869</td>\n",
       "      <td>LisaRoxanne</td>\n",
       "      <td>Brooklyn</td>\n",
       "      <td>Clinton Hill</td>\n",
       "      <td>40.68514</td>\n",
       "      <td>-73.95976</td>\n",
       "      <td>Entire home/apt</td>\n",
       "      <td>89</td>\n",
       "      <td>1</td>\n",
       "      <td>270</td>\n",
       "      <td>2019-07-05</td>\n",
       "      <td>4.64</td>\n",
       "      <td>1</td>\n",
       "      <td>194</td>\n",
       "    </tr>\n",
       "    <tr>\n",
       "      <th>4</th>\n",
       "      <td>5022</td>\n",
       "      <td>Entire Apt: Spacious Studio/Loft by central park</td>\n",
       "      <td>7192</td>\n",
       "      <td>Laura</td>\n",
       "      <td>Manhattan</td>\n",
       "      <td>East Harlem</td>\n",
       "      <td>40.79851</td>\n",
       "      <td>-73.94399</td>\n",
       "      <td>Entire home/apt</td>\n",
       "      <td>80</td>\n",
       "      <td>10</td>\n",
       "      <td>9</td>\n",
       "      <td>2018-11-19</td>\n",
       "      <td>0.10</td>\n",
       "      <td>1</td>\n",
       "      <td>0</td>\n",
       "    </tr>\n",
       "  </tbody>\n",
       "</table>\n",
       "</div>"
      ],
      "text/plain": [
       "     id                                              name  host_id  \\\n",
       "0  2539                Clean & quiet apt home by the park     2787   \n",
       "1  2595                             Skylit Midtown Castle     2845   \n",
       "2  3647               THE VILLAGE OF HARLEM....NEW YORK !     4632   \n",
       "3  3831                   Cozy Entire Floor of Brownstone     4869   \n",
       "4  5022  Entire Apt: Spacious Studio/Loft by central park     7192   \n",
       "\n",
       "     host_name neighbourhood_group neighbourhood  latitude  longitude  \\\n",
       "0         John            Brooklyn    Kensington  40.64749  -73.97237   \n",
       "1     Jennifer           Manhattan       Midtown  40.75362  -73.98377   \n",
       "2    Elisabeth           Manhattan        Harlem  40.80902  -73.94190   \n",
       "3  LisaRoxanne            Brooklyn  Clinton Hill  40.68514  -73.95976   \n",
       "4        Laura           Manhattan   East Harlem  40.79851  -73.94399   \n",
       "\n",
       "         room_type  price  minimum_nights  number_of_reviews last_review  \\\n",
       "0     Private room    149               1                  9  2018-10-19   \n",
       "1  Entire home/apt    225               1                 45  2019-05-21   \n",
       "2     Private room    150               3                  0         NaN   \n",
       "3  Entire home/apt     89               1                270  2019-07-05   \n",
       "4  Entire home/apt     80              10                  9  2018-11-19   \n",
       "\n",
       "   reviews_per_month  calculated_host_listings_count  availability_365  \n",
       "0               0.21                               6               365  \n",
       "1               0.38                               2               355  \n",
       "2                NaN                               1               365  \n",
       "3               4.64                               1               194  \n",
       "4               0.10                               1                 0  "
      ]
     },
     "execution_count": 51,
     "metadata": {},
     "output_type": "execute_result"
    }
   ],
   "source": [
    "df.head()"
   ]
  },
  {
   "cell_type": "code",
   "execution_count": 57,
   "metadata": {},
   "outputs": [
    {
     "name": "stdout",
     "output_type": "stream",
     "text": [
      "Size of dataset: 782320\n",
      "Number of hosts: 48895\n",
      "Number of columns: 16\n"
     ]
    }
   ],
   "source": [
    "print(f\"Size of dataset: {df.size}\")\n",
    "print(f\"Number of hosts: {len(df)}\")\n",
    "print(f\"Number of columns: {len(df.columns)}\")"
   ]
  },
  {
   "cell_type": "code",
   "execution_count": 59,
   "metadata": {},
   "outputs": [
    {
     "name": "stdout",
     "output_type": "stream",
     "text": [
      "Types of data\n"
     ]
    },
    {
     "data": {
      "text/plain": [
       "id                                  int64\n",
       "name                               object\n",
       "host_id                             int64\n",
       "host_name                          object\n",
       "neighbourhood_group                object\n",
       "neighbourhood                      object\n",
       "latitude                          float64\n",
       "longitude                         float64\n",
       "room_type                          object\n",
       "price                               int64\n",
       "minimum_nights                      int64\n",
       "number_of_reviews                   int64\n",
       "last_review                        object\n",
       "reviews_per_month                 float64\n",
       "calculated_host_listings_count      int64\n",
       "availability_365                    int64\n",
       "dtype: object"
      ]
     },
     "execution_count": 59,
     "metadata": {},
     "output_type": "execute_result"
    }
   ],
   "source": [
    "print(\"Types of data\")\n",
    "df.dtypes"
   ]
  },
  {
   "cell_type": "code",
   "execution_count": 60,
   "metadata": {},
   "outputs": [
    {
     "name": "stdout",
     "output_type": "stream",
     "text": [
      "Missing values in each column\n",
      "\n"
     ]
    },
    {
     "data": {
      "text/plain": [
       "id                                    0\n",
       "name                                 16\n",
       "host_id                               0\n",
       "host_name                            21\n",
       "neighbourhood_group                   0\n",
       "neighbourhood                         0\n",
       "latitude                              0\n",
       "longitude                             0\n",
       "room_type                             0\n",
       "price                                 0\n",
       "minimum_nights                        0\n",
       "number_of_reviews                     0\n",
       "last_review                       10052\n",
       "reviews_per_month                 10052\n",
       "calculated_host_listings_count        0\n",
       "availability_365                      0\n",
       "dtype: int64"
      ]
     },
     "execution_count": 60,
     "metadata": {},
     "output_type": "execute_result"
    }
   ],
   "source": [
    "print(\"Missing values in each column\\n\")\n",
    "df.isnull().sum()"
   ]
  },
  {
   "cell_type": "code",
   "execution_count": 62,
   "metadata": {},
   "outputs": [
    {
     "name": "stdout",
     "output_type": "stream",
     "text": [
      "Dropping 'reviews_per_month' column as it has large amount of NA\n"
     ]
    }
   ],
   "source": [
    "print(\"Dropping 'reviews_per_month' column as it has large amount of NA\")\n",
    "df.drop('reviews_per_month', axis=1, inplace=True)"
   ]
  },
  {
   "cell_type": "code",
   "execution_count": 63,
   "metadata": {},
   "outputs": [
    {
     "name": "stdout",
     "output_type": "stream",
     "text": [
      "Dropping rows that have more than one missing values \n",
      "\n"
     ]
    },
    {
     "data": {
      "text/html": [
       "<div>\n",
       "<style scoped>\n",
       "    .dataframe tbody tr th:only-of-type {\n",
       "        vertical-align: middle;\n",
       "    }\n",
       "\n",
       "    .dataframe tbody tr th {\n",
       "        vertical-align: top;\n",
       "    }\n",
       "\n",
       "    .dataframe thead th {\n",
       "        text-align: right;\n",
       "    }\n",
       "</style>\n",
       "<table border=\"1\" class=\"dataframe\">\n",
       "  <thead>\n",
       "    <tr style=\"text-align: right;\">\n",
       "      <th></th>\n",
       "      <th>id</th>\n",
       "      <th>name</th>\n",
       "      <th>host_id</th>\n",
       "      <th>host_name</th>\n",
       "      <th>neighbourhood_group</th>\n",
       "      <th>neighbourhood</th>\n",
       "      <th>latitude</th>\n",
       "      <th>longitude</th>\n",
       "      <th>room_type</th>\n",
       "      <th>price</th>\n",
       "      <th>minimum_nights</th>\n",
       "      <th>number_of_reviews</th>\n",
       "      <th>last_review</th>\n",
       "      <th>calculated_host_listings_count</th>\n",
       "      <th>availability_365</th>\n",
       "    </tr>\n",
       "  </thead>\n",
       "  <tbody>\n",
       "    <tr>\n",
       "      <th>0</th>\n",
       "      <td>2539</td>\n",
       "      <td>Clean &amp; quiet apt home by the park</td>\n",
       "      <td>2787</td>\n",
       "      <td>John</td>\n",
       "      <td>Brooklyn</td>\n",
       "      <td>Kensington</td>\n",
       "      <td>40.64749</td>\n",
       "      <td>-73.97237</td>\n",
       "      <td>Private room</td>\n",
       "      <td>149</td>\n",
       "      <td>1</td>\n",
       "      <td>9</td>\n",
       "      <td>2018-10-19</td>\n",
       "      <td>6</td>\n",
       "      <td>365</td>\n",
       "    </tr>\n",
       "    <tr>\n",
       "      <th>1</th>\n",
       "      <td>2595</td>\n",
       "      <td>Skylit Midtown Castle</td>\n",
       "      <td>2845</td>\n",
       "      <td>Jennifer</td>\n",
       "      <td>Manhattan</td>\n",
       "      <td>Midtown</td>\n",
       "      <td>40.75362</td>\n",
       "      <td>-73.98377</td>\n",
       "      <td>Entire home/apt</td>\n",
       "      <td>225</td>\n",
       "      <td>1</td>\n",
       "      <td>45</td>\n",
       "      <td>2019-05-21</td>\n",
       "      <td>2</td>\n",
       "      <td>355</td>\n",
       "    </tr>\n",
       "    <tr>\n",
       "      <th>2</th>\n",
       "      <td>3647</td>\n",
       "      <td>THE VILLAGE OF HARLEM....NEW YORK !</td>\n",
       "      <td>4632</td>\n",
       "      <td>Elisabeth</td>\n",
       "      <td>Manhattan</td>\n",
       "      <td>Harlem</td>\n",
       "      <td>40.80902</td>\n",
       "      <td>-73.94190</td>\n",
       "      <td>Private room</td>\n",
       "      <td>150</td>\n",
       "      <td>3</td>\n",
       "      <td>0</td>\n",
       "      <td>NaN</td>\n",
       "      <td>1</td>\n",
       "      <td>365</td>\n",
       "    </tr>\n",
       "    <tr>\n",
       "      <th>3</th>\n",
       "      <td>3831</td>\n",
       "      <td>Cozy Entire Floor of Brownstone</td>\n",
       "      <td>4869</td>\n",
       "      <td>LisaRoxanne</td>\n",
       "      <td>Brooklyn</td>\n",
       "      <td>Clinton Hill</td>\n",
       "      <td>40.68514</td>\n",
       "      <td>-73.95976</td>\n",
       "      <td>Entire home/apt</td>\n",
       "      <td>89</td>\n",
       "      <td>1</td>\n",
       "      <td>270</td>\n",
       "      <td>2019-07-05</td>\n",
       "      <td>1</td>\n",
       "      <td>194</td>\n",
       "    </tr>\n",
       "    <tr>\n",
       "      <th>4</th>\n",
       "      <td>5022</td>\n",
       "      <td>Entire Apt: Spacious Studio/Loft by central park</td>\n",
       "      <td>7192</td>\n",
       "      <td>Laura</td>\n",
       "      <td>Manhattan</td>\n",
       "      <td>East Harlem</td>\n",
       "      <td>40.79851</td>\n",
       "      <td>-73.94399</td>\n",
       "      <td>Entire home/apt</td>\n",
       "      <td>80</td>\n",
       "      <td>10</td>\n",
       "      <td>9</td>\n",
       "      <td>2018-11-19</td>\n",
       "      <td>1</td>\n",
       "      <td>0</td>\n",
       "    </tr>\n",
       "    <tr>\n",
       "      <th>...</th>\n",
       "      <td>...</td>\n",
       "      <td>...</td>\n",
       "      <td>...</td>\n",
       "      <td>...</td>\n",
       "      <td>...</td>\n",
       "      <td>...</td>\n",
       "      <td>...</td>\n",
       "      <td>...</td>\n",
       "      <td>...</td>\n",
       "      <td>...</td>\n",
       "      <td>...</td>\n",
       "      <td>...</td>\n",
       "      <td>...</td>\n",
       "      <td>...</td>\n",
       "      <td>...</td>\n",
       "    </tr>\n",
       "    <tr>\n",
       "      <th>48890</th>\n",
       "      <td>36484665</td>\n",
       "      <td>Charming one bedroom - newly renovated rowhouse</td>\n",
       "      <td>8232441</td>\n",
       "      <td>Sabrina</td>\n",
       "      <td>Brooklyn</td>\n",
       "      <td>Bedford-Stuyvesant</td>\n",
       "      <td>40.67853</td>\n",
       "      <td>-73.94995</td>\n",
       "      <td>Private room</td>\n",
       "      <td>70</td>\n",
       "      <td>2</td>\n",
       "      <td>0</td>\n",
       "      <td>NaN</td>\n",
       "      <td>2</td>\n",
       "      <td>9</td>\n",
       "    </tr>\n",
       "    <tr>\n",
       "      <th>48891</th>\n",
       "      <td>36485057</td>\n",
       "      <td>Affordable room in Bushwick/East Williamsburg</td>\n",
       "      <td>6570630</td>\n",
       "      <td>Marisol</td>\n",
       "      <td>Brooklyn</td>\n",
       "      <td>Bushwick</td>\n",
       "      <td>40.70184</td>\n",
       "      <td>-73.93317</td>\n",
       "      <td>Private room</td>\n",
       "      <td>40</td>\n",
       "      <td>4</td>\n",
       "      <td>0</td>\n",
       "      <td>NaN</td>\n",
       "      <td>2</td>\n",
       "      <td>36</td>\n",
       "    </tr>\n",
       "    <tr>\n",
       "      <th>48892</th>\n",
       "      <td>36485431</td>\n",
       "      <td>Sunny Studio at Historical Neighborhood</td>\n",
       "      <td>23492952</td>\n",
       "      <td>Ilgar &amp; Aysel</td>\n",
       "      <td>Manhattan</td>\n",
       "      <td>Harlem</td>\n",
       "      <td>40.81475</td>\n",
       "      <td>-73.94867</td>\n",
       "      <td>Entire home/apt</td>\n",
       "      <td>115</td>\n",
       "      <td>10</td>\n",
       "      <td>0</td>\n",
       "      <td>NaN</td>\n",
       "      <td>1</td>\n",
       "      <td>27</td>\n",
       "    </tr>\n",
       "    <tr>\n",
       "      <th>48893</th>\n",
       "      <td>36485609</td>\n",
       "      <td>43rd St. Time Square-cozy single bed</td>\n",
       "      <td>30985759</td>\n",
       "      <td>Taz</td>\n",
       "      <td>Manhattan</td>\n",
       "      <td>Hell's Kitchen</td>\n",
       "      <td>40.75751</td>\n",
       "      <td>-73.99112</td>\n",
       "      <td>Shared room</td>\n",
       "      <td>55</td>\n",
       "      <td>1</td>\n",
       "      <td>0</td>\n",
       "      <td>NaN</td>\n",
       "      <td>6</td>\n",
       "      <td>2</td>\n",
       "    </tr>\n",
       "    <tr>\n",
       "      <th>48894</th>\n",
       "      <td>36487245</td>\n",
       "      <td>Trendy duplex in the very heart of Hell's Kitchen</td>\n",
       "      <td>68119814</td>\n",
       "      <td>Christophe</td>\n",
       "      <td>Manhattan</td>\n",
       "      <td>Hell's Kitchen</td>\n",
       "      <td>40.76404</td>\n",
       "      <td>-73.98933</td>\n",
       "      <td>Private room</td>\n",
       "      <td>90</td>\n",
       "      <td>7</td>\n",
       "      <td>0</td>\n",
       "      <td>NaN</td>\n",
       "      <td>1</td>\n",
       "      <td>23</td>\n",
       "    </tr>\n",
       "  </tbody>\n",
       "</table>\n",
       "<p>48880 rows × 15 columns</p>\n",
       "</div>"
      ],
      "text/plain": [
       "             id                                               name   host_id  \\\n",
       "0          2539                 Clean & quiet apt home by the park      2787   \n",
       "1          2595                              Skylit Midtown Castle      2845   \n",
       "2          3647                THE VILLAGE OF HARLEM....NEW YORK !      4632   \n",
       "3          3831                    Cozy Entire Floor of Brownstone      4869   \n",
       "4          5022   Entire Apt: Spacious Studio/Loft by central park      7192   \n",
       "...         ...                                                ...       ...   \n",
       "48890  36484665    Charming one bedroom - newly renovated rowhouse   8232441   \n",
       "48891  36485057      Affordable room in Bushwick/East Williamsburg   6570630   \n",
       "48892  36485431            Sunny Studio at Historical Neighborhood  23492952   \n",
       "48893  36485609               43rd St. Time Square-cozy single bed  30985759   \n",
       "48894  36487245  Trendy duplex in the very heart of Hell's Kitchen  68119814   \n",
       "\n",
       "           host_name neighbourhood_group       neighbourhood  latitude  \\\n",
       "0               John            Brooklyn          Kensington  40.64749   \n",
       "1           Jennifer           Manhattan             Midtown  40.75362   \n",
       "2          Elisabeth           Manhattan              Harlem  40.80902   \n",
       "3        LisaRoxanne            Brooklyn        Clinton Hill  40.68514   \n",
       "4              Laura           Manhattan         East Harlem  40.79851   \n",
       "...              ...                 ...                 ...       ...   \n",
       "48890        Sabrina            Brooklyn  Bedford-Stuyvesant  40.67853   \n",
       "48891        Marisol            Brooklyn            Bushwick  40.70184   \n",
       "48892  Ilgar & Aysel           Manhattan              Harlem  40.81475   \n",
       "48893            Taz           Manhattan      Hell's Kitchen  40.75751   \n",
       "48894     Christophe           Manhattan      Hell's Kitchen  40.76404   \n",
       "\n",
       "       longitude        room_type  price  minimum_nights  number_of_reviews  \\\n",
       "0      -73.97237     Private room    149               1                  9   \n",
       "1      -73.98377  Entire home/apt    225               1                 45   \n",
       "2      -73.94190     Private room    150               3                  0   \n",
       "3      -73.95976  Entire home/apt     89               1                270   \n",
       "4      -73.94399  Entire home/apt     80              10                  9   \n",
       "...          ...              ...    ...             ...                ...   \n",
       "48890  -73.94995     Private room     70               2                  0   \n",
       "48891  -73.93317     Private room     40               4                  0   \n",
       "48892  -73.94867  Entire home/apt    115              10                  0   \n",
       "48893  -73.99112      Shared room     55               1                  0   \n",
       "48894  -73.98933     Private room     90               7                  0   \n",
       "\n",
       "      last_review  calculated_host_listings_count  availability_365  \n",
       "0      2018-10-19                               6               365  \n",
       "1      2019-05-21                               2               355  \n",
       "2             NaN                               1               365  \n",
       "3      2019-07-05                               1               194  \n",
       "4      2018-11-19                               1                 0  \n",
       "...           ...                             ...               ...  \n",
       "48890         NaN                               2                 9  \n",
       "48891         NaN                               2                36  \n",
       "48892         NaN                               1                27  \n",
       "48893         NaN                               6                 2  \n",
       "48894         NaN                               1                23  \n",
       "\n",
       "[48880 rows x 15 columns]"
      ]
     },
     "execution_count": 63,
     "metadata": {},
     "output_type": "execute_result"
    }
   ],
   "source": [
    "print(f\"Dropping rows that have more than one missing values \\n\")\n",
    "df.dropna(thresh=df.shape[1]-1)"
   ]
  },
  {
   "cell_type": "code",
   "execution_count": 65,
   "metadata": {},
   "outputs": [
    {
     "name": "stdout",
     "output_type": "stream",
     "text": [
      "Replacing missing value in host_name with Airbnb \n",
      "\n"
     ]
    },
    {
     "data": {
      "text/plain": [
       "0                 John\n",
       "1             Jennifer\n",
       "2            Elisabeth\n",
       "3          LisaRoxanne\n",
       "4                Laura\n",
       "             ...      \n",
       "48890          Sabrina\n",
       "48891          Marisol\n",
       "48892    Ilgar & Aysel\n",
       "48893              Taz\n",
       "48894       Christophe\n",
       "Name: host_name, Length: 48895, dtype: object"
      ]
     },
     "execution_count": 65,
     "metadata": {},
     "output_type": "execute_result"
    }
   ],
   "source": [
    "print(\"Replacing missing value in host_name with Airbnb \\n\")\n",
    "df['host_name'].fillna('Airbnb')"
   ]
  },
  {
   "cell_type": "code",
   "execution_count": 70,
   "metadata": {},
   "outputs": [
    {
     "name": "stdout",
     "output_type": "stream",
     "text": [
      "Checking if host_name has digits or numbers as value in it\n",
      "\n",
      "Number of alphabets: 44929\n",
      "Number of spaces: 0\n",
      "Number of digits: 6\n"
     ]
    }
   ],
   "source": [
    "print(f\"Checking if host_name has digits or numbers as value in it\\n\")\n",
    "\n",
    "print(f\"Number of alphabets: {df['host_name'].str.isalpha().sum()}\")\n",
    "print(f\"Number of spaces: {df['host_name'].str.isspace().sum()}\")\n",
    "print(f\"Number of digits: {df['host_name'].str.isdigit().sum()}\")"
   ]
  },
  {
   "cell_type": "code",
   "execution_count": 71,
   "metadata": {},
   "outputs": [
    {
     "name": "stdout",
     "output_type": "stream",
     "text": [
      "Filling the missing value of 'price' column with mean of it\n",
      "\n"
     ]
    },
    {
     "data": {
      "text/plain": [
       "0        149\n",
       "1        225\n",
       "2        150\n",
       "3         89\n",
       "4         80\n",
       "        ... \n",
       "48890     70\n",
       "48891     40\n",
       "48892    115\n",
       "48893     55\n",
       "48894     90\n",
       "Name: price, Length: 48895, dtype: int64"
      ]
     },
     "execution_count": 71,
     "metadata": {},
     "output_type": "execute_result"
    }
   ],
   "source": [
    "print(f\"Filling the missing value of 'price' column with mean of it\\n\")\n",
    "\n",
    "df['price'].fillna(df['price'].mean())"
   ]
  },
  {
   "cell_type": "code",
   "execution_count": 72,
   "metadata": {},
   "outputs": [
    {
     "name": "stdout",
     "output_type": "stream",
     "text": [
      "Filling all missing values in last_review using forward filling method: 0        2018-10-19\n",
      "1        2019-05-21\n",
      "2        2019-05-21\n",
      "3        2019-07-05\n",
      "4        2018-11-19\n",
      "            ...    \n",
      "48890    2019-07-08\n",
      "48891    2019-07-08\n",
      "48892    2019-07-08\n",
      "48893    2019-07-08\n",
      "48894    2019-07-08\n",
      "Name: last_review, Length: 48895, dtype: object\n"
     ]
    }
   ],
   "source": [
    "print(f\"Filling all missing values in last_review using forward filling method: {df['last_review'].ffill()}\")"
   ]
  },
  {
   "cell_type": "code",
   "execution_count": 75,
   "metadata": {},
   "outputs": [
    {
     "name": "stdout",
     "output_type": "stream",
     "text": [
      "Selecting duplicate hosts in a dataframe based on name, host_id, and price columns\n",
      "\n"
     ]
    },
    {
     "data": {
      "text/html": [
       "<div>\n",
       "<style scoped>\n",
       "    .dataframe tbody tr th:only-of-type {\n",
       "        vertical-align: middle;\n",
       "    }\n",
       "\n",
       "    .dataframe tbody tr th {\n",
       "        vertical-align: top;\n",
       "    }\n",
       "\n",
       "    .dataframe thead th {\n",
       "        text-align: right;\n",
       "    }\n",
       "</style>\n",
       "<table border=\"1\" class=\"dataframe\">\n",
       "  <thead>\n",
       "    <tr style=\"text-align: right;\">\n",
       "      <th></th>\n",
       "      <th>id</th>\n",
       "      <th>name</th>\n",
       "      <th>host_id</th>\n",
       "      <th>host_name</th>\n",
       "      <th>neighbourhood_group</th>\n",
       "      <th>neighbourhood</th>\n",
       "      <th>latitude</th>\n",
       "      <th>longitude</th>\n",
       "      <th>room_type</th>\n",
       "      <th>price</th>\n",
       "      <th>minimum_nights</th>\n",
       "      <th>number_of_reviews</th>\n",
       "      <th>last_review</th>\n",
       "      <th>calculated_host_listings_count</th>\n",
       "      <th>availability_365</th>\n",
       "    </tr>\n",
       "  </thead>\n",
       "  <tbody>\n",
       "    <tr>\n",
       "      <th>321</th>\n",
       "      <td>77765</td>\n",
       "      <td>Superior @ Box House</td>\n",
       "      <td>417504</td>\n",
       "      <td>The Box House Hotel</td>\n",
       "      <td>Brooklyn</td>\n",
       "      <td>Greenpoint</td>\n",
       "      <td>40.73749</td>\n",
       "      <td>-73.95292</td>\n",
       "      <td>Private room</td>\n",
       "      <td>179</td>\n",
       "      <td>3</td>\n",
       "      <td>36</td>\n",
       "      <td>2019-07-01</td>\n",
       "      <td>28</td>\n",
       "      <td>79</td>\n",
       "    </tr>\n",
       "    <tr>\n",
       "      <th>327</th>\n",
       "      <td>80684</td>\n",
       "      <td>Duplex w/ Terrace @ Box House Hotel</td>\n",
       "      <td>417504</td>\n",
       "      <td>The Box House Hotel</td>\n",
       "      <td>Brooklyn</td>\n",
       "      <td>Greenpoint</td>\n",
       "      <td>40.73776</td>\n",
       "      <td>-73.95327</td>\n",
       "      <td>Private room</td>\n",
       "      <td>349</td>\n",
       "      <td>3</td>\n",
       "      <td>8</td>\n",
       "      <td>2016-03-27</td>\n",
       "      <td>28</td>\n",
       "      <td>60</td>\n",
       "    </tr>\n",
       "    <tr>\n",
       "      <th>330</th>\n",
       "      <td>81739</td>\n",
       "      <td>Loft w/ Terrace @ Box House Hotel</td>\n",
       "      <td>417504</td>\n",
       "      <td>The Box House Hotel</td>\n",
       "      <td>Brooklyn</td>\n",
       "      <td>Greenpoint</td>\n",
       "      <td>40.73842</td>\n",
       "      <td>-73.95312</td>\n",
       "      <td>Private room</td>\n",
       "      <td>249</td>\n",
       "      <td>3</td>\n",
       "      <td>2</td>\n",
       "      <td>2011-05-12</td>\n",
       "      <td>28</td>\n",
       "      <td>60</td>\n",
       "    </tr>\n",
       "    <tr>\n",
       "      <th>339</th>\n",
       "      <td>84010</td>\n",
       "      <td>Superior @ Box House</td>\n",
       "      <td>417504</td>\n",
       "      <td>The Box House Hotel</td>\n",
       "      <td>Brooklyn</td>\n",
       "      <td>Greenpoint</td>\n",
       "      <td>40.73813</td>\n",
       "      <td>-73.95394</td>\n",
       "      <td>Private room</td>\n",
       "      <td>179</td>\n",
       "      <td>3</td>\n",
       "      <td>13</td>\n",
       "      <td>2019-06-27</td>\n",
       "      <td>28</td>\n",
       "      <td>81</td>\n",
       "    </tr>\n",
       "    <tr>\n",
       "      <th>447</th>\n",
       "      <td>158061</td>\n",
       "      <td>Hancock Town House!-Stuyvesant Mews</td>\n",
       "      <td>758441</td>\n",
       "      <td>Fred</td>\n",
       "      <td>Brooklyn</td>\n",
       "      <td>Bedford-Stuyvesant</td>\n",
       "      <td>40.68669</td>\n",
       "      <td>-73.91989</td>\n",
       "      <td>Private room</td>\n",
       "      <td>165</td>\n",
       "      <td>1</td>\n",
       "      <td>27</td>\n",
       "      <td>2017-10-08</td>\n",
       "      <td>4</td>\n",
       "      <td>311</td>\n",
       "    </tr>\n",
       "    <tr>\n",
       "      <th>...</th>\n",
       "      <td>...</td>\n",
       "      <td>...</td>\n",
       "      <td>...</td>\n",
       "      <td>...</td>\n",
       "      <td>...</td>\n",
       "      <td>...</td>\n",
       "      <td>...</td>\n",
       "      <td>...</td>\n",
       "      <td>...</td>\n",
       "      <td>...</td>\n",
       "      <td>...</td>\n",
       "      <td>...</td>\n",
       "      <td>...</td>\n",
       "      <td>...</td>\n",
       "      <td>...</td>\n",
       "    </tr>\n",
       "    <tr>\n",
       "      <th>47965</th>\n",
       "      <td>36003858</td>\n",
       "      <td>★Premier Queen Room with Balcony ★</td>\n",
       "      <td>270874051</td>\n",
       "      <td>Hotel Vetiver</td>\n",
       "      <td>Queens</td>\n",
       "      <td>Long Island City</td>\n",
       "      <td>40.75436</td>\n",
       "      <td>-73.93483</td>\n",
       "      <td>Private room</td>\n",
       "      <td>99</td>\n",
       "      <td>1</td>\n",
       "      <td>0</td>\n",
       "      <td>NaN</td>\n",
       "      <td>8</td>\n",
       "      <td>319</td>\n",
       "    </tr>\n",
       "    <tr>\n",
       "      <th>48026</th>\n",
       "      <td>36039574</td>\n",
       "      <td>★Premier Queen Room with Balcony ★</td>\n",
       "      <td>270874051</td>\n",
       "      <td>Hotel Vetiver</td>\n",
       "      <td>Queens</td>\n",
       "      <td>Long Island City</td>\n",
       "      <td>40.75300</td>\n",
       "      <td>-73.93485</td>\n",
       "      <td>Private room</td>\n",
       "      <td>99</td>\n",
       "      <td>1</td>\n",
       "      <td>0</td>\n",
       "      <td>NaN</td>\n",
       "      <td>8</td>\n",
       "      <td>319</td>\n",
       "    </tr>\n",
       "    <tr>\n",
       "      <th>48662</th>\n",
       "      <td>36372006</td>\n",
       "      <td>Very Clean Private Room Near Buses &amp; Restauran...</td>\n",
       "      <td>118405437</td>\n",
       "      <td>PengYu</td>\n",
       "      <td>Queens</td>\n",
       "      <td>Woodhaven</td>\n",
       "      <td>40.69411</td>\n",
       "      <td>-73.86877</td>\n",
       "      <td>Private room</td>\n",
       "      <td>66</td>\n",
       "      <td>1</td>\n",
       "      <td>0</td>\n",
       "      <td>NaN</td>\n",
       "      <td>2</td>\n",
       "      <td>365</td>\n",
       "    </tr>\n",
       "    <tr>\n",
       "      <th>48677</th>\n",
       "      <td>36381008</td>\n",
       "      <td>Comfort home</td>\n",
       "      <td>266211707</td>\n",
       "      <td>Yan</td>\n",
       "      <td>Brooklyn</td>\n",
       "      <td>Sunset Park</td>\n",
       "      <td>40.64454</td>\n",
       "      <td>-74.02010</td>\n",
       "      <td>Private room</td>\n",
       "      <td>185</td>\n",
       "      <td>1</td>\n",
       "      <td>0</td>\n",
       "      <td>NaN</td>\n",
       "      <td>2</td>\n",
       "      <td>175</td>\n",
       "    </tr>\n",
       "    <tr>\n",
       "      <th>48684</th>\n",
       "      <td>36382847</td>\n",
       "      <td>Comfort home</td>\n",
       "      <td>266211707</td>\n",
       "      <td>Yan</td>\n",
       "      <td>Brooklyn</td>\n",
       "      <td>Sunset Park</td>\n",
       "      <td>40.64439</td>\n",
       "      <td>-74.01816</td>\n",
       "      <td>Private room</td>\n",
       "      <td>185</td>\n",
       "      <td>1</td>\n",
       "      <td>0</td>\n",
       "      <td>NaN</td>\n",
       "      <td>2</td>\n",
       "      <td>177</td>\n",
       "    </tr>\n",
       "  </tbody>\n",
       "</table>\n",
       "<p>214 rows × 15 columns</p>\n",
       "</div>"
      ],
      "text/plain": [
       "             id                                               name    host_id  \\\n",
       "321       77765                               Superior @ Box House     417504   \n",
       "327       80684                Duplex w/ Terrace @ Box House Hotel     417504   \n",
       "330       81739                  Loft w/ Terrace @ Box House Hotel     417504   \n",
       "339       84010                               Superior @ Box House     417504   \n",
       "447      158061                Hancock Town House!-Stuyvesant Mews     758441   \n",
       "...         ...                                                ...        ...   \n",
       "47965  36003858                 ★Premier Queen Room with Balcony ★  270874051   \n",
       "48026  36039574                 ★Premier Queen Room with Balcony ★  270874051   \n",
       "48662  36372006  Very Clean Private Room Near Buses & Restauran...  118405437   \n",
       "48677  36381008                                       Comfort home  266211707   \n",
       "48684  36382847                                       Comfort home  266211707   \n",
       "\n",
       "                 host_name neighbourhood_group       neighbourhood  latitude  \\\n",
       "321    The Box House Hotel            Brooklyn          Greenpoint  40.73749   \n",
       "327    The Box House Hotel            Brooklyn          Greenpoint  40.73776   \n",
       "330    The Box House Hotel            Brooklyn          Greenpoint  40.73842   \n",
       "339    The Box House Hotel            Brooklyn          Greenpoint  40.73813   \n",
       "447                   Fred            Brooklyn  Bedford-Stuyvesant  40.68669   \n",
       "...                    ...                 ...                 ...       ...   \n",
       "47965        Hotel Vetiver              Queens    Long Island City  40.75436   \n",
       "48026        Hotel Vetiver              Queens    Long Island City  40.75300   \n",
       "48662               PengYu              Queens           Woodhaven  40.69411   \n",
       "48677                  Yan            Brooklyn         Sunset Park  40.64454   \n",
       "48684                  Yan            Brooklyn         Sunset Park  40.64439   \n",
       "\n",
       "       longitude     room_type  price  minimum_nights  number_of_reviews  \\\n",
       "321    -73.95292  Private room    179               3                 36   \n",
       "327    -73.95327  Private room    349               3                  8   \n",
       "330    -73.95312  Private room    249               3                  2   \n",
       "339    -73.95394  Private room    179               3                 13   \n",
       "447    -73.91989  Private room    165               1                 27   \n",
       "...          ...           ...    ...             ...                ...   \n",
       "47965  -73.93483  Private room     99               1                  0   \n",
       "48026  -73.93485  Private room     99               1                  0   \n",
       "48662  -73.86877  Private room     66               1                  0   \n",
       "48677  -74.02010  Private room    185               1                  0   \n",
       "48684  -74.01816  Private room    185               1                  0   \n",
       "\n",
       "      last_review  calculated_host_listings_count  availability_365  \n",
       "321    2019-07-01                              28                79  \n",
       "327    2016-03-27                              28                60  \n",
       "330    2011-05-12                              28                60  \n",
       "339    2019-06-27                              28                81  \n",
       "447    2017-10-08                               4               311  \n",
       "...           ...                             ...               ...  \n",
       "47965         NaN                               8               319  \n",
       "48026         NaN                               8               319  \n",
       "48662         NaN                               2               365  \n",
       "48677         NaN                               2               175  \n",
       "48684         NaN                               2               177  \n",
       "\n",
       "[214 rows x 15 columns]"
      ]
     },
     "execution_count": 75,
     "metadata": {},
     "output_type": "execute_result"
    }
   ],
   "source": [
    "print(\"Selecting duplicate hosts in a dataframe based on name, host_id, and price columns\\n\")\n",
    "\n",
    "df[df.duplicated(subset=['name', 'host_id', 'price'], keep=False)] # keep=False is used to drop all duplicates"
   ]
  },
  {
   "cell_type": "code",
   "execution_count": 76,
   "metadata": {},
   "outputs": [
    {
     "name": "stdout",
     "output_type": "stream",
     "text": [
      "Dropping duplicates while keeping the first non-Nan value\n",
      "\n"
     ]
    },
    {
     "data": {
      "text/html": [
       "<div>\n",
       "<style scoped>\n",
       "    .dataframe tbody tr th:only-of-type {\n",
       "        vertical-align: middle;\n",
       "    }\n",
       "\n",
       "    .dataframe tbody tr th {\n",
       "        vertical-align: top;\n",
       "    }\n",
       "\n",
       "    .dataframe thead th {\n",
       "        text-align: right;\n",
       "    }\n",
       "</style>\n",
       "<table border=\"1\" class=\"dataframe\">\n",
       "  <thead>\n",
       "    <tr style=\"text-align: right;\">\n",
       "      <th></th>\n",
       "      <th>id</th>\n",
       "      <th>name</th>\n",
       "      <th>host_id</th>\n",
       "      <th>host_name</th>\n",
       "      <th>neighbourhood_group</th>\n",
       "      <th>neighbourhood</th>\n",
       "      <th>latitude</th>\n",
       "      <th>longitude</th>\n",
       "      <th>room_type</th>\n",
       "      <th>price</th>\n",
       "      <th>minimum_nights</th>\n",
       "      <th>number_of_reviews</th>\n",
       "      <th>last_review</th>\n",
       "      <th>calculated_host_listings_count</th>\n",
       "      <th>availability_365</th>\n",
       "    </tr>\n",
       "  </thead>\n",
       "  <tbody>\n",
       "    <tr>\n",
       "      <th>0</th>\n",
       "      <td>2539</td>\n",
       "      <td>Clean &amp; quiet apt home by the park</td>\n",
       "      <td>2787</td>\n",
       "      <td>John</td>\n",
       "      <td>Brooklyn</td>\n",
       "      <td>Kensington</td>\n",
       "      <td>40.64749</td>\n",
       "      <td>-73.97237</td>\n",
       "      <td>Private room</td>\n",
       "      <td>149</td>\n",
       "      <td>1</td>\n",
       "      <td>9</td>\n",
       "      <td>2018-10-19</td>\n",
       "      <td>6</td>\n",
       "      <td>365</td>\n",
       "    </tr>\n",
       "    <tr>\n",
       "      <th>1</th>\n",
       "      <td>2595</td>\n",
       "      <td>Skylit Midtown Castle</td>\n",
       "      <td>2845</td>\n",
       "      <td>Jennifer</td>\n",
       "      <td>Manhattan</td>\n",
       "      <td>Midtown</td>\n",
       "      <td>40.75362</td>\n",
       "      <td>-73.98377</td>\n",
       "      <td>Entire home/apt</td>\n",
       "      <td>225</td>\n",
       "      <td>1</td>\n",
       "      <td>45</td>\n",
       "      <td>2019-05-21</td>\n",
       "      <td>2</td>\n",
       "      <td>355</td>\n",
       "    </tr>\n",
       "    <tr>\n",
       "      <th>2</th>\n",
       "      <td>3647</td>\n",
       "      <td>THE VILLAGE OF HARLEM....NEW YORK !</td>\n",
       "      <td>4632</td>\n",
       "      <td>Elisabeth</td>\n",
       "      <td>Manhattan</td>\n",
       "      <td>Harlem</td>\n",
       "      <td>40.80902</td>\n",
       "      <td>-73.94190</td>\n",
       "      <td>Private room</td>\n",
       "      <td>150</td>\n",
       "      <td>3</td>\n",
       "      <td>0</td>\n",
       "      <td>NaN</td>\n",
       "      <td>1</td>\n",
       "      <td>365</td>\n",
       "    </tr>\n",
       "    <tr>\n",
       "      <th>3</th>\n",
       "      <td>3831</td>\n",
       "      <td>Cozy Entire Floor of Brownstone</td>\n",
       "      <td>4869</td>\n",
       "      <td>LisaRoxanne</td>\n",
       "      <td>Brooklyn</td>\n",
       "      <td>Clinton Hill</td>\n",
       "      <td>40.68514</td>\n",
       "      <td>-73.95976</td>\n",
       "      <td>Entire home/apt</td>\n",
       "      <td>89</td>\n",
       "      <td>1</td>\n",
       "      <td>270</td>\n",
       "      <td>2019-07-05</td>\n",
       "      <td>1</td>\n",
       "      <td>194</td>\n",
       "    </tr>\n",
       "    <tr>\n",
       "      <th>4</th>\n",
       "      <td>5022</td>\n",
       "      <td>Entire Apt: Spacious Studio/Loft by central park</td>\n",
       "      <td>7192</td>\n",
       "      <td>Laura</td>\n",
       "      <td>Manhattan</td>\n",
       "      <td>East Harlem</td>\n",
       "      <td>40.79851</td>\n",
       "      <td>-73.94399</td>\n",
       "      <td>Entire home/apt</td>\n",
       "      <td>80</td>\n",
       "      <td>10</td>\n",
       "      <td>9</td>\n",
       "      <td>2018-11-19</td>\n",
       "      <td>1</td>\n",
       "      <td>0</td>\n",
       "    </tr>\n",
       "    <tr>\n",
       "      <th>...</th>\n",
       "      <td>...</td>\n",
       "      <td>...</td>\n",
       "      <td>...</td>\n",
       "      <td>...</td>\n",
       "      <td>...</td>\n",
       "      <td>...</td>\n",
       "      <td>...</td>\n",
       "      <td>...</td>\n",
       "      <td>...</td>\n",
       "      <td>...</td>\n",
       "      <td>...</td>\n",
       "      <td>...</td>\n",
       "      <td>...</td>\n",
       "      <td>...</td>\n",
       "      <td>...</td>\n",
       "    </tr>\n",
       "    <tr>\n",
       "      <th>48890</th>\n",
       "      <td>36484665</td>\n",
       "      <td>Charming one bedroom - newly renovated rowhouse</td>\n",
       "      <td>8232441</td>\n",
       "      <td>Sabrina</td>\n",
       "      <td>Brooklyn</td>\n",
       "      <td>Bedford-Stuyvesant</td>\n",
       "      <td>40.67853</td>\n",
       "      <td>-73.94995</td>\n",
       "      <td>Private room</td>\n",
       "      <td>70</td>\n",
       "      <td>2</td>\n",
       "      <td>0</td>\n",
       "      <td>NaN</td>\n",
       "      <td>2</td>\n",
       "      <td>9</td>\n",
       "    </tr>\n",
       "    <tr>\n",
       "      <th>48891</th>\n",
       "      <td>36485057</td>\n",
       "      <td>Affordable room in Bushwick/East Williamsburg</td>\n",
       "      <td>6570630</td>\n",
       "      <td>Marisol</td>\n",
       "      <td>Brooklyn</td>\n",
       "      <td>Bushwick</td>\n",
       "      <td>40.70184</td>\n",
       "      <td>-73.93317</td>\n",
       "      <td>Private room</td>\n",
       "      <td>40</td>\n",
       "      <td>4</td>\n",
       "      <td>0</td>\n",
       "      <td>NaN</td>\n",
       "      <td>2</td>\n",
       "      <td>36</td>\n",
       "    </tr>\n",
       "    <tr>\n",
       "      <th>48892</th>\n",
       "      <td>36485431</td>\n",
       "      <td>Sunny Studio at Historical Neighborhood</td>\n",
       "      <td>23492952</td>\n",
       "      <td>Ilgar &amp; Aysel</td>\n",
       "      <td>Manhattan</td>\n",
       "      <td>Harlem</td>\n",
       "      <td>40.81475</td>\n",
       "      <td>-73.94867</td>\n",
       "      <td>Entire home/apt</td>\n",
       "      <td>115</td>\n",
       "      <td>10</td>\n",
       "      <td>0</td>\n",
       "      <td>NaN</td>\n",
       "      <td>1</td>\n",
       "      <td>27</td>\n",
       "    </tr>\n",
       "    <tr>\n",
       "      <th>48893</th>\n",
       "      <td>36485609</td>\n",
       "      <td>43rd St. Time Square-cozy single bed</td>\n",
       "      <td>30985759</td>\n",
       "      <td>Taz</td>\n",
       "      <td>Manhattan</td>\n",
       "      <td>Hell's Kitchen</td>\n",
       "      <td>40.75751</td>\n",
       "      <td>-73.99112</td>\n",
       "      <td>Shared room</td>\n",
       "      <td>55</td>\n",
       "      <td>1</td>\n",
       "      <td>0</td>\n",
       "      <td>NaN</td>\n",
       "      <td>6</td>\n",
       "      <td>2</td>\n",
       "    </tr>\n",
       "    <tr>\n",
       "      <th>48894</th>\n",
       "      <td>36487245</td>\n",
       "      <td>Trendy duplex in the very heart of Hell's Kitchen</td>\n",
       "      <td>68119814</td>\n",
       "      <td>Christophe</td>\n",
       "      <td>Manhattan</td>\n",
       "      <td>Hell's Kitchen</td>\n",
       "      <td>40.76404</td>\n",
       "      <td>-73.98933</td>\n",
       "      <td>Private room</td>\n",
       "      <td>90</td>\n",
       "      <td>7</td>\n",
       "      <td>0</td>\n",
       "      <td>NaN</td>\n",
       "      <td>1</td>\n",
       "      <td>23</td>\n",
       "    </tr>\n",
       "  </tbody>\n",
       "</table>\n",
       "<p>48765 rows × 15 columns</p>\n",
       "</div>"
      ],
      "text/plain": [
       "             id                                               name   host_id  \\\n",
       "0          2539                 Clean & quiet apt home by the park      2787   \n",
       "1          2595                              Skylit Midtown Castle      2845   \n",
       "2          3647                THE VILLAGE OF HARLEM....NEW YORK !      4632   \n",
       "3          3831                    Cozy Entire Floor of Brownstone      4869   \n",
       "4          5022   Entire Apt: Spacious Studio/Loft by central park      7192   \n",
       "...         ...                                                ...       ...   \n",
       "48890  36484665    Charming one bedroom - newly renovated rowhouse   8232441   \n",
       "48891  36485057      Affordable room in Bushwick/East Williamsburg   6570630   \n",
       "48892  36485431            Sunny Studio at Historical Neighborhood  23492952   \n",
       "48893  36485609               43rd St. Time Square-cozy single bed  30985759   \n",
       "48894  36487245  Trendy duplex in the very heart of Hell's Kitchen  68119814   \n",
       "\n",
       "           host_name neighbourhood_group       neighbourhood  latitude  \\\n",
       "0               John            Brooklyn          Kensington  40.64749   \n",
       "1           Jennifer           Manhattan             Midtown  40.75362   \n",
       "2          Elisabeth           Manhattan              Harlem  40.80902   \n",
       "3        LisaRoxanne            Brooklyn        Clinton Hill  40.68514   \n",
       "4              Laura           Manhattan         East Harlem  40.79851   \n",
       "...              ...                 ...                 ...       ...   \n",
       "48890        Sabrina            Brooklyn  Bedford-Stuyvesant  40.67853   \n",
       "48891        Marisol            Brooklyn            Bushwick  40.70184   \n",
       "48892  Ilgar & Aysel           Manhattan              Harlem  40.81475   \n",
       "48893            Taz           Manhattan      Hell's Kitchen  40.75751   \n",
       "48894     Christophe           Manhattan      Hell's Kitchen  40.76404   \n",
       "\n",
       "       longitude        room_type  price  minimum_nights  number_of_reviews  \\\n",
       "0      -73.97237     Private room    149               1                  9   \n",
       "1      -73.98377  Entire home/apt    225               1                 45   \n",
       "2      -73.94190     Private room    150               3                  0   \n",
       "3      -73.95976  Entire home/apt     89               1                270   \n",
       "4      -73.94399  Entire home/apt     80              10                  9   \n",
       "...          ...              ...    ...             ...                ...   \n",
       "48890  -73.94995     Private room     70               2                  0   \n",
       "48891  -73.93317     Private room     40               4                  0   \n",
       "48892  -73.94867  Entire home/apt    115              10                  0   \n",
       "48893  -73.99112      Shared room     55               1                  0   \n",
       "48894  -73.98933     Private room     90               7                  0   \n",
       "\n",
       "      last_review  calculated_host_listings_count  availability_365  \n",
       "0      2018-10-19                               6               365  \n",
       "1      2019-05-21                               2               355  \n",
       "2             NaN                               1               365  \n",
       "3      2019-07-05                               1               194  \n",
       "4      2018-11-19                               1                 0  \n",
       "...           ...                             ...               ...  \n",
       "48890         NaN                               2                 9  \n",
       "48891         NaN                               2                36  \n",
       "48892         NaN                               1                27  \n",
       "48893         NaN                               6                 2  \n",
       "48894         NaN                               1                23  \n",
       "\n",
       "[48765 rows x 15 columns]"
      ]
     },
     "execution_count": 76,
     "metadata": {},
     "output_type": "execute_result"
    }
   ],
   "source": [
    "print(f\"Dropping duplicates while keeping the first non-Nan value\\n\")\n",
    "df.drop_duplicates(subset=['name', 'host_id', 'price'], keep='first')"
   ]
  },
  {
   "cell_type": "code",
   "execution_count": 79,
   "metadata": {},
   "outputs": [
    {
     "name": "stdout",
     "output_type": "stream",
     "text": [
      "Users in column 'room_type' that are 'Private room': 22326\n"
     ]
    }
   ],
   "source": [
    "private_room_counts = df['room_type'].str.count('Private room')\n",
    "private_room_counts = private_room_counts.sum()\n",
    "print(f\"Users in column 'room_type' that are 'Private room': {private_room_counts}\")\n",
    "\n"
   ]
  },
  {
   "cell_type": "code",
   "execution_count": 80,
   "metadata": {},
   "outputs": [
    {
     "name": "stdout",
     "output_type": "stream",
     "text": [
      "Replacing the neighbourhood having Kitchen with Restaurant\n",
      "\n"
     ]
    },
    {
     "data": {
      "text/plain": [
       "0                Kensington\n",
       "1                   Midtown\n",
       "2                    Harlem\n",
       "3              Clinton Hill\n",
       "4               East Harlem\n",
       "                ...        \n",
       "48890    Bedford-Stuyvesant\n",
       "48891              Bushwick\n",
       "48892                Harlem\n",
       "48893     Hell's Restaurant\n",
       "48894     Hell's Restaurant\n",
       "Name: neighbourhood, Length: 48895, dtype: object"
      ]
     },
     "execution_count": 80,
     "metadata": {},
     "output_type": "execute_result"
    }
   ],
   "source": [
    "print(\"Replacing the neighbourhood having Kitchen with Restaurant\\n\")\n",
    "\n",
    "df['neighbourhood'].replace('Kitchen', 'Restaurant', regex=True)"
   ]
  },
  {
   "cell_type": "markdown",
   "metadata": {},
   "source": [
    "#### Practice 2\n"
   ]
  },
  {
   "cell_type": "code",
   "execution_count": null,
   "metadata": {},
   "outputs": [],
   "source": []
  },
  {
   "cell_type": "code",
   "execution_count": null,
   "metadata": {},
   "outputs": [],
   "source": []
  },
  {
   "cell_type": "code",
   "execution_count": null,
   "metadata": {},
   "outputs": [],
   "source": []
  },
  {
   "cell_type": "markdown",
   "metadata": {},
   "source": [
    "### Data Wrangling\n"
   ]
  },
  {
   "cell_type": "markdown",
   "metadata": {},
   "source": [
    "Data wrangling is the process of transforming raw data into a format that is suitable for analysis. This involves various steps such as cleaning, structuring, and enriching\n"
   ]
  },
  {
   "cell_type": "markdown",
   "metadata": {},
   "source": [
    "Data wrangling is done to\n",
    "\n",
    "<ul>\n",
    "    <li>\n",
    "        Ensure the data is accurate, consistent and reliable\n",
    "    </li>\n",
    "    <li>\n",
    "        Transforms data into a format that can be easily analyzed\n",
    "    </li>\n",
    "    <li>\n",
    "        Make data ready for advanced analytics, machine learning models, and visualization\n",
    "    </li>\n",
    "    <li>\n",
    "        Reduce time and effort needed for data preprocessing before analysis\n",
    "    </li>\n",
    "</ul>\n"
   ]
  },
  {
   "cell_type": "markdown",
   "metadata": {},
   "source": [
    "The process of data cleaning and preparation involves several steps including\n",
    "\n",
    "<ul>\n",
    "    <li>\n",
    "        <b>Data Collection: </b>Gathering data from various sources such as databases, spreadsheets, APIs and more\n",
    "    </li>\n",
    "    <li>\n",
    "        <b>Data Cleaning: </b>It involves\n",
    "        <ul>\n",
    "            <li>\n",
    "                Handling missing values (remove, impute, or fill in values)\n",
    "                <ul>\n",
    "                    <li>\n",
    "                        Use methods like fillna()\n",
    "                    </li>\n",
    "                </ul>\n",
    "            </li>\n",
    "            <li>\n",
    "                Removing duplicates (identify and remove duplicate values)\n",
    "                <ul>\n",
    "                    <li>\n",
    "                        drop_duplicates()\n",
    "                    </li>\n",
    "                </ul>\n",
    "            </li>\n",
    "            <li>\n",
    "                Handling outliers (identify and handle outliers that may skew the analysis)\n",
    "            </li>\n",
    "            <li>\n",
    "                Correcting errors (correct errors such as typos, inccorect data entries, and formatting issues)\n",
    "            </li>\n",
    "        </ul>\n",
    "    </li>\n",
    "    <li>\n",
    "        <b>Data Transformation: </b>It involves\n",
    "        <ul>\n",
    "            <li>\n",
    "                Normalization (adjust data to a common scale)\n",
    "                <ul>\n",
    "                    <li>\n",
    "                        UUsing preprocessing libraries functions like StandardScaler\n",
    "                    </li>\n",
    "                </ul>\n",
    "            </li>\n",
    "            <li>\n",
    "                Encoding categorical data (convert categorical data into numerical format)\n",
    "                <ul>\n",
    "                    <li>\n",
    "                        pd.get_dummies()\n",
    "                    </li>\n",
    "                </ul>\n",
    "            </li>\n",
    "            <li>\n",
    "                Data type conversion (Convert data to appropriate types for analysis)\n",
    "            </li>\n",
    "            <li>\n",
    "                Correcting errors (correct errors such as typos, inccorect data entries, and formatting issues)\n",
    "            </li>\n",
    "        </ul>\n",
    "    </li>\n",
    "    <li>\n",
    "        <b>Data Enrichment: </b>Enhancing the data by additional information or deriving new features\n",
    "        <ul>\n",
    "            <li>\n",
    "                df['new_feature'] = df['existing_feature_1'] + df['existing_feature_2']\n",
    "            </li>\n",
    "        </ul>\n",
    "    </li>\n",
    "    <li>\n",
    "        <b>Data Validation: </b>Ensures the final dataset is accurate and meets the requirements for analysis\n",
    "    </li>\n",
    "</ul>\n"
   ]
  },
  {
   "cell_type": "markdown",
   "metadata": {},
   "source": [
    "`Hierarchical indexing` is an important feature that enables to have multiple index level on an axis\n"
   ]
  }
 ],
 "metadata": {
  "kernelspec": {
   "display_name": "Python 3",
   "language": "python",
   "name": "python3"
  },
  "language_info": {
   "codemirror_mode": {
    "name": "ipython",
    "version": 3
   },
   "file_extension": ".py",
   "mimetype": "text/x-python",
   "name": "python",
   "nbconvert_exporter": "python",
   "pygments_lexer": "ipython3",
   "version": "3.12.4"
  }
 },
 "nbformat": 4,
 "nbformat_minor": 2
}
