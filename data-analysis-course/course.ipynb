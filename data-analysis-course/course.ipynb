{
 "cells": [
  {
   "cell_type": "code",
   "execution_count": 5,
   "metadata": {},
   "outputs": [],
   "source": [
    "import numpy as np\n",
    "import pandas as pd"
   ]
  },
  {
   "cell_type": "markdown",
   "metadata": {},
   "source": [
    "# Numpy\n",
    "\n",
    "`Numpy` (Numerical Python) is one of the most important foundational packages for numerical computing in Python.\n",
    "<br/>\n",
    "One of the reason Numpy is important for numerical computations in Python is because it is designed for efficiency on large arrays of data\n",
    "\n",
    "<ul>\n",
    "    <li>\n",
    "        Numpy internally stores data in a contiguous block of memory, independent of other built-in Python objects\n",
    "    </li>\n",
    "    <li>\n",
    "        Uses much less memory than Python built-in sequences\n",
    "    </li>\n",
    "    <li>\n",
    "        Numpy operations perform complex computations on entire arrays without the need for Python `for` loops\n",
    "    </li>\n",
    "</ul>\n"
   ]
  },
  {
   "cell_type": "code",
   "execution_count": 10,
   "metadata": {},
   "outputs": [
    {
     "name": "stdout",
     "output_type": "stream",
     "text": [
      "3.61 ms ± 74.5 μs per loop (mean ± std. dev. of 7 runs, 100 loops each)\n"
     ]
    }
   ],
   "source": [
    "my_arr = np.arange(1_000_000)\n",
    "%timeit my_arr2 = my_arr * 2"
   ]
  },
  {
   "cell_type": "code",
   "execution_count": 11,
   "metadata": {},
   "outputs": [
    {
     "name": "stdout",
     "output_type": "stream",
     "text": [
      "85.7 ms ± 2.91 ms per loop (mean ± std. dev. of 7 runs, 10 loops each)\n"
     ]
    }
   ],
   "source": [
    "my_list = list(range(1_000_000))\n",
    "%timeit my_list2 = [x * 2 for x in my_list]"
   ]
  },
  {
   "cell_type": "markdown",
   "metadata": {},
   "source": [
    "Thea above result shows that if every item of numpy array is multiplied by 2, it takes roughly `3.61 ms` while the same operation on list takes nearly `85.7ms`\n"
   ]
  },
  {
   "cell_type": "markdown",
   "metadata": {},
   "source": [
    "## Numpy array\n",
    "\n",
    "One of the key featues of NumPy is its n-dimensional array object. Array enables you to perform mathematical operations on whole blocks of data using similar syntax to the equivalent operations between scalar elements. `In other words, it allows you to apply scalar operations to arrays that will otherwise require a loop in Python built-in list`\n"
   ]
  },
  {
   "cell_type": "code",
   "execution_count": 19,
   "metadata": {},
   "outputs": [
    {
     "name": "stdout",
     "output_type": "stream",
     "text": [
      "Data: [[ 1.   0.5  6. ]\n",
      " [ 5.  -3.   5.5]]\n",
      "\n",
      "Data doubled: [[ 2.  1. 12.]\n",
      " [10. -6. 11.]]\n",
      "\n",
      "Data added with itself: [[ 2.  1. 12.]\n",
      " [10. -6. 11.]]\n"
     ]
    }
   ],
   "source": [
    "example_data = np.array([\n",
    "    [1, 0.5, 6],\n",
    "    [5, -3, 5.5]\n",
    "])\n",
    "print(f\"Data: {example_data}\\n\")\n",
    "\n",
    "print(f\"Data doubled: {example_data * 2}\\n\")\n",
    "\n",
    "print(f\"Data added with itself: {example_data + example_data}\")"
   ]
  },
  {
   "cell_type": "markdown",
   "metadata": {},
   "source": [
    "numpy array is a multidimensional container for homogeneous data (all of the elements must be of same data type)\n"
   ]
  },
  {
   "cell_type": "code",
   "execution_count": 21,
   "metadata": {},
   "outputs": [],
   "source": [
    "# example_data = np.array([\n",
    "#     [1, 0.5, 6],\n",
    "#     [5, 'hello', 5.5]\n",
    "# ])\n",
    "\n",
    "# This will give error because an str is based in an float array. The integers are parsed to float"
   ]
  },
  {
   "cell_type": "markdown",
   "metadata": {},
   "source": [
    "Easiest way to create an array is using `array()`\n"
   ]
  },
  {
   "cell_type": "code",
   "execution_count": 32,
   "metadata": {},
   "outputs": [
    {
     "name": "stdout",
     "output_type": "stream",
     "text": [
      "Array: [6.  0.2 3.6 4.2]\n",
      "Example data type: <class 'list'>\n",
      "Example data array type: <class 'numpy.ndarray'>\n",
      "Example array dimensions: 1\n",
      "Example array shape: (4,)\n",
      "Example array size: 4\n",
      "Example array data type: float64\n"
     ]
    }
   ],
   "source": [
    "example_data = [6, 0.2, 3.6, 4.2]\n",
    "example_data_array = np.array(example_data)\n",
    "print(f'Array: {example_data_array}') # it may seems like a simple list but its type is different\n",
    "\n",
    "print(f\"Example data type: {type(example_data)}\")\n",
    "print(f\"Example data array type: {type(example_data_array)}\")\n",
    "\n",
    "print(f\"Example array dimensions: {example_data_array.ndim}\")\n",
    "print(f'Example array shape: {example_data_array.shape}')\n",
    "print(f'Example array size: {example_data_array.size}')\n",
    "print(f\"Example array data type: {example_data_array.dtype}\")"
   ]
  },
  {
   "cell_type": "markdown",
   "metadata": {},
   "source": [
    "You can explicitly cast an array from one type to another using ndarray `astype()`\n"
   ]
  },
  {
   "cell_type": "code",
   "execution_count": 68,
   "metadata": {},
   "outputs": [
    {
     "name": "stdout",
     "output_type": "stream",
     "text": [
      "Example array: [6.  0.2 3.6 4.2]\n",
      "Example array type: float64\n",
      "\n",
      "Example array after type conversion to int: [6 0 3 4]\n",
      "Example array type: int64\n",
      "\n"
     ]
    }
   ],
   "source": [
    "print(f'Example array: {example_data_array}')\n",
    "\n",
    "print(f'Example array type: {example_data_array.dtype}\\n')\n",
    "\n",
    "int_example_array = example_data_array.astype(np.int64)\n",
    "\n",
    "print(f\"Example array after type conversion to int: {int_example_array}\")\n",
    "\n",
    "print(f'Example array type: {int_example_array.dtype}\\n')"
   ]
  },
  {
   "cell_type": "markdown",
   "metadata": {},
   "source": [
    "If an array is of string numbers, it can be converted to float or integer. If casting were to fail (example string cannot be converted to integer or float), a `ValueError` will be raised\n"
   ]
  },
  {
   "cell_type": "code",
   "execution_count": 84,
   "metadata": {},
   "outputs": [
    {
     "name": "stdout",
     "output_type": "stream",
     "text": [
      "Strings array:  ['1.2' '4.4' '0.5' '-1.6']\n",
      "Float numbers array type:  <U4\n",
      "\n",
      "Float numbers array:  [ 1.2  4.4  0.5 -1.6]\n",
      "Float numbers array type:  float64\n"
     ]
    }
   ],
   "source": [
    "string_numbers_array = np.array(['1.2', '4.4', '0.5', '-1.6'])\n",
    "print(\"Strings array: \", string_numbers_array)\n",
    "print(\"Float numbers array type: \", string_numbers_array.dtype)\n",
    "\n",
    "float_numbers_array = string_numbers_array.astype(np.float64)\n",
    "print(\"\\nFloat numbers array: \", float_numbers_array)\n",
    "print(\"Float numbers array type: \", float_numbers_array.dtype)"
   ]
  },
  {
   "cell_type": "markdown",
   "metadata": {},
   "source": [
    "## Numpy functions\n"
   ]
  },
  {
   "cell_type": "markdown",
   "metadata": {},
   "source": [
    "NumPy provides other functions for creating new arrays\n"
   ]
  },
  {
   "cell_type": "code",
   "execution_count": 58,
   "metadata": {},
   "outputs": [
    {
     "name": "stdout",
     "output_type": "stream",
     "text": [
      "Zero function: [0. 0. 0. 0. 0.]\n",
      "\n",
      "Zero matrix: [[0. 0. 0.]\n",
      " [0. 0. 0.]\n",
      " [0. 0. 0.]]\n",
      "\n",
      "Empty array: [[1. 1. 1.]\n",
      " [1. 1. 1.]]\n",
      "\n",
      "Type of numpy.empty: <class 'numpy.ndarray'>\n",
      "\n",
      "Identity matrix: [[1. 0. 0.]\n",
      " [0. 1. 0.]\n",
      " [0. 0. 1.]]\n",
      "\n",
      "Random matrix: [[0.51772468 0.0988314 ]\n",
      " [0.00306367 0.47616796]]\n",
      "\n",
      "Matrix of one: [[1. 1. 1.]\n",
      " [1. 1. 1.]]\n",
      "\n",
      "Matrix of one while taking an another array as input: [1. 1. 1. 1.]\n",
      "\n",
      "Full numpy matrix: [5 5 5]\n"
     ]
    }
   ],
   "source": [
    "print(f\"Zero function: {np.zeros(5)}\\n\") #prints an array of zero\n",
    "\n",
    "print(f\"Zero matrix: {np.zeros((3,3))}\\n\")\n",
    "\n",
    "print(f\"Empty array: {np.empty((2,3))}\\n\") #prints an array with garbage values\n",
    "\n",
    "print(f\"Type of numpy.empty: {type(np.empty((2,2)))}\\n\")\n",
    "\n",
    "print(f\"Identity matrix: {np.eye(3)}\\n\") #identity matrix\n",
    "\n",
    "print(f\"Random matrix: {np.random.random((2, 2))}\\n\") #random matrix\n",
    "\n",
    "print(f\"Matrix of one: {np.ones((2,3))}\\n\")\n",
    "\n",
    "print(f\"Matrix of one while taking an another array as input: {np.ones_like(example_data)}\\n\") #ones_like takes another array and produces an array of ones array of same shape and size\n",
    "\n",
    "print(f\"Full numpy matrix: {np.full(3,5)}\")"
   ]
  },
  {
   "cell_type": "markdown",
   "metadata": {},
   "source": [
    "# Numpy Arrays Arithmetic\n",
    "\n",
    "An important feature of a numpy array is that you can apply arithmetic operations without using loops. This is called `vectorization` <br/> <br/>\n",
    "Vectorization refers to the process of performing operations on entire array at once rather iterating through individual elements using loop, leading to faster and more efficient code\n"
   ]
  },
  {
   "cell_type": "code",
   "execution_count": 86,
   "metadata": {},
   "outputs": [
    {
     "name": "stdout",
     "output_type": "stream",
     "text": [
      "Example array [[1. 2. 3.]\n",
      " [4. 5. 6.]]\n"
     ]
    }
   ],
   "source": [
    "example_array = np.array([[1., 2., 3.], [4., 5., 6.]])\n",
    "print(f'Example array {example_array}')"
   ]
  },
  {
   "cell_type": "code",
   "execution_count": 89,
   "metadata": {},
   "outputs": [
    {
     "name": "stdout",
     "output_type": "stream",
     "text": [
      "Example array double: [[ 2.  4.  6.]\n",
      " [ 8. 10. 12.]]\n",
      "\n",
      "Example array square: [[ 1.  4.  9.]\n",
      " [16. 25. 36.]]\n",
      "\n",
      "1 divided by example array [[1.         0.5        0.33333333]\n",
      " [0.25       0.2        0.16666667]]\n",
      "\n"
     ]
    }
   ],
   "source": [
    "print(f\"Example array double: {example_array * 2}\\n\")\n",
    "\n",
    "print(f\"Example array square: {example_array * example_array}\\n\")\n",
    "\n",
    "print(f\"1 divided by example array {1/example_array}\\n\")"
   ]
  },
  {
   "cell_type": "markdown",
   "metadata": {},
   "source": [
    "We can compare two arrays. The comparison is done by element wise\n"
   ]
  },
  {
   "cell_type": "code",
   "execution_count": 90,
   "metadata": {},
   "outputs": [
    {
     "name": "stdout",
     "output_type": "stream",
     "text": [
      "First example array: [[1. 2. 3.]\n",
      " [4. 5. 6.]]\n",
      "\n",
      "Second example array: [[ 0.  4.  1.]\n",
      " [ 7.  2. 12.]]\n"
     ]
    }
   ],
   "source": [
    "example_array_2 = np.array([[0., 4., 1.], [7., 2., 12.]])\n",
    "\n",
    "print(f\"First example array: {example_array}\\n\")\n",
    "print(f\"Second example array: {example_array_2}\")"
   ]
  },
  {
   "cell_type": "code",
   "execution_count": 91,
   "metadata": {},
   "outputs": [
    {
     "data": {
      "text/plain": [
       "array([[ True, False,  True],\n",
       "       [False,  True, False]])"
      ]
     },
     "execution_count": 91,
     "metadata": {},
     "output_type": "execute_result"
    }
   ],
   "source": [
    "example_array > example_array_2"
   ]
  },
  {
   "cell_type": "code",
   "execution_count": 93,
   "metadata": {},
   "outputs": [
    {
     "data": {
      "text/plain": [
       "array([[False,  True, False],\n",
       "       [ True, False,  True]])"
      ]
     },
     "execution_count": 93,
     "metadata": {},
     "output_type": "execute_result"
    }
   ],
   "source": [
    "example_array < example_array_2"
   ]
  },
  {
   "cell_type": "code",
   "execution_count": null,
   "metadata": {},
   "outputs": [],
   "source": []
  }
 ],
 "metadata": {
  "kernelspec": {
   "display_name": "Python 3",
   "language": "python",
   "name": "python3"
  },
  "language_info": {
   "codemirror_mode": {
    "name": "ipython",
    "version": 3
   },
   "file_extension": ".py",
   "mimetype": "text/x-python",
   "name": "python",
   "nbconvert_exporter": "python",
   "pygments_lexer": "ipython3",
   "version": "3.12.4"
  }
 },
 "nbformat": 4,
 "nbformat_minor": 2
}
