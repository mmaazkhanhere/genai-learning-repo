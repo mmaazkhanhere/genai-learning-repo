{
 "cells": [
  {
   "cell_type": "code",
   "execution_count": 1,
   "metadata": {},
   "outputs": [],
   "source": [
    "import numpy as np\n",
    "import pandas as pd"
   ]
  },
  {
   "cell_type": "markdown",
   "metadata": {},
   "source": [
    "# Numpy\n",
    "\n",
    "`Numpy` (Numerical Python) is one of the most important foundational packages for numerical computing in Python.\n",
    "<br/>\n",
    "One of the reason Numpy is important for numerical computations in Python is because it is designed for efficiency on large arrays of data\n",
    "\n",
    "<ul>\n",
    "    <li>\n",
    "        Numpy internally stores data in a contiguous block of memory, independent of other built-in Python objects\n",
    "    </li>\n",
    "    <li>\n",
    "        Uses much less memory than Python built-in sequences\n",
    "    </li>\n",
    "    <li>\n",
    "        Numpy operations perform complex computations on entire arrays without the need for Python `for` loops\n",
    "    </li>\n",
    "</ul>\n"
   ]
  },
  {
   "cell_type": "code",
   "execution_count": 10,
   "metadata": {},
   "outputs": [
    {
     "name": "stdout",
     "output_type": "stream",
     "text": [
      "3.61 ms ± 74.5 μs per loop (mean ± std. dev. of 7 runs, 100 loops each)\n"
     ]
    }
   ],
   "source": [
    "my_arr = np.arange(1_000_000)\n",
    "%timeit my_arr2 = my_arr * 2"
   ]
  },
  {
   "cell_type": "code",
   "execution_count": null,
   "metadata": {},
   "outputs": [],
   "source": []
  },
  {
   "cell_type": "code",
   "execution_count": 11,
   "metadata": {},
   "outputs": [
    {
     "name": "stdout",
     "output_type": "stream",
     "text": [
      "85.7 ms ± 2.91 ms per loop (mean ± std. dev. of 7 runs, 10 loops each)\n"
     ]
    }
   ],
   "source": [
    "my_list = list(range(1_000_000))\n",
    "%timeit my_list2 = [x * 2 for x in my_list]"
   ]
  },
  {
   "cell_type": "markdown",
   "metadata": {},
   "source": [
    "Thea above result shows that if every item of numpy array is multiplied by 2, it takes roughly `3.61 ms` while the same operation on list takes nearly `85.7ms`\n"
   ]
  },
  {
   "cell_type": "markdown",
   "metadata": {},
   "source": [
    "## Numpy array\n",
    "\n",
    "One of the key featues of NumPy is its n-dimensional array object. Array enables you to perform mathematical operations on whole blocks of data using similar syntax to the equivalent operations between scalar elements. `In other words, it allows you to apply scalar operations to arrays that will otherwise require a loop in Python built-in list`\n"
   ]
  },
  {
   "cell_type": "code",
   "execution_count": 19,
   "metadata": {},
   "outputs": [
    {
     "name": "stdout",
     "output_type": "stream",
     "text": [
      "Data: [[ 1.   0.5  6. ]\n",
      " [ 5.  -3.   5.5]]\n",
      "\n",
      "Data doubled: [[ 2.  1. 12.]\n",
      " [10. -6. 11.]]\n",
      "\n",
      "Data added with itself: [[ 2.  1. 12.]\n",
      " [10. -6. 11.]]\n"
     ]
    }
   ],
   "source": [
    "example_data = np.array([\n",
    "    [1, 0.5, 6],\n",
    "    [5, -3, 5.5]\n",
    "])\n",
    "print(f\"Data: {example_data}\\n\")\n",
    "\n",
    "print(f\"Data doubled: {example_data * 2}\\n\")\n",
    "\n",
    "print(f\"Data added with itself: {example_data + example_data}\")"
   ]
  },
  {
   "cell_type": "markdown",
   "metadata": {},
   "source": [
    "numpy array is a multidimensional container for homogeneous data (all of the elements must be of same data type)\n"
   ]
  },
  {
   "cell_type": "code",
   "execution_count": 21,
   "metadata": {},
   "outputs": [],
   "source": [
    "# example_data = np.array([\n",
    "#     [1, 0.5, 6],\n",
    "#     [5, 'hello', 5.5]\n",
    "# ])\n",
    "\n",
    "# This will give error because an str is based in an float array. The integers are parsed to float"
   ]
  },
  {
   "cell_type": "markdown",
   "metadata": {},
   "source": [
    "Easiest way to create an array is using `array()`\n"
   ]
  },
  {
   "cell_type": "code",
   "execution_count": 32,
   "metadata": {},
   "outputs": [
    {
     "name": "stdout",
     "output_type": "stream",
     "text": [
      "Array: [6.  0.2 3.6 4.2]\n",
      "Example data type: <class 'list'>\n",
      "Example data array type: <class 'numpy.ndarray'>\n",
      "Example array dimensions: 1\n",
      "Example array shape: (4,)\n",
      "Example array size: 4\n",
      "Example array data type: float64\n"
     ]
    }
   ],
   "source": [
    "example_data = [6, 0.2, 3.6, 4.2]\n",
    "example_data_array = np.array(example_data)\n",
    "print(f'Array: {example_data_array}') # it may seems like a simple list but its type is different\n",
    "\n",
    "print(f\"Example data type: {type(example_data)}\")\n",
    "print(f\"Example data array type: {type(example_data_array)}\")\n",
    "\n",
    "print(f\"Example array dimensions: {example_data_array.ndim}\")\n",
    "print(f'Example array shape: {example_data_array.shape}')\n",
    "print(f'Example array size: {example_data_array.size}')\n",
    "print(f\"Example array data type: {example_data_array.dtype}\")"
   ]
  },
  {
   "cell_type": "markdown",
   "metadata": {},
   "source": [
    "You can explicitly cast an array from one type to another using ndarray `astype()`\n"
   ]
  },
  {
   "cell_type": "code",
   "execution_count": 68,
   "metadata": {},
   "outputs": [
    {
     "name": "stdout",
     "output_type": "stream",
     "text": [
      "Example array: [6.  0.2 3.6 4.2]\n",
      "Example array type: float64\n",
      "\n",
      "Example array after type conversion to int: [6 0 3 4]\n",
      "Example array type: int64\n",
      "\n"
     ]
    }
   ],
   "source": [
    "print(f'Example array: {example_data_array}')\n",
    "\n",
    "print(f'Example array type: {example_data_array.dtype}\\n')\n",
    "\n",
    "int_example_array = example_data_array.astype(np.int64)\n",
    "\n",
    "print(f\"Example array after type conversion to int: {int_example_array}\")\n",
    "\n",
    "print(f'Example array type: {int_example_array.dtype}\\n')"
   ]
  },
  {
   "cell_type": "markdown",
   "metadata": {},
   "source": [
    "If an array is of string numbers, it can be converted to float or integer. If casting were to fail (example string cannot be converted to integer or float), a `ValueError` will be raised\n"
   ]
  },
  {
   "cell_type": "code",
   "execution_count": 84,
   "metadata": {},
   "outputs": [
    {
     "name": "stdout",
     "output_type": "stream",
     "text": [
      "Strings array:  ['1.2' '4.4' '0.5' '-1.6']\n",
      "Float numbers array type:  <U4\n",
      "\n",
      "Float numbers array:  [ 1.2  4.4  0.5 -1.6]\n",
      "Float numbers array type:  float64\n"
     ]
    }
   ],
   "source": [
    "string_numbers_array = np.array(['1.2', '4.4', '0.5', '-1.6'])\n",
    "print(\"Strings array: \", string_numbers_array)\n",
    "print(\"Float numbers array type: \", string_numbers_array.dtype)\n",
    "\n",
    "float_numbers_array = string_numbers_array.astype(np.float64)\n",
    "print(\"\\nFloat numbers array: \", float_numbers_array)\n",
    "print(\"Float numbers array type: \", float_numbers_array.dtype)"
   ]
  },
  {
   "cell_type": "markdown",
   "metadata": {},
   "source": [
    "## Numpy functions\n"
   ]
  },
  {
   "cell_type": "markdown",
   "metadata": {},
   "source": [
    "NumPy provides other functions for creating new arrays\n"
   ]
  },
  {
   "cell_type": "code",
   "execution_count": 58,
   "metadata": {},
   "outputs": [
    {
     "name": "stdout",
     "output_type": "stream",
     "text": [
      "Zero function: [0. 0. 0. 0. 0.]\n",
      "\n",
      "Zero matrix: [[0. 0. 0.]\n",
      " [0. 0. 0.]\n",
      " [0. 0. 0.]]\n",
      "\n",
      "Empty array: [[1. 1. 1.]\n",
      " [1. 1. 1.]]\n",
      "\n",
      "Type of numpy.empty: <class 'numpy.ndarray'>\n",
      "\n",
      "Identity matrix: [[1. 0. 0.]\n",
      " [0. 1. 0.]\n",
      " [0. 0. 1.]]\n",
      "\n",
      "Random matrix: [[0.51772468 0.0988314 ]\n",
      " [0.00306367 0.47616796]]\n",
      "\n",
      "Matrix of one: [[1. 1. 1.]\n",
      " [1. 1. 1.]]\n",
      "\n",
      "Matrix of one while taking an another array as input: [1. 1. 1. 1.]\n",
      "\n",
      "Full numpy matrix: [5 5 5]\n"
     ]
    }
   ],
   "source": [
    "print(f\"Zero function: {np.zeros(5)}\\n\") #prints an array of zero\n",
    "\n",
    "print(f\"Zero matrix: {np.zeros((3,3))}\\n\")\n",
    "\n",
    "print(f\"Empty array: {np.empty((2,3))}\\n\") #prints an array with garbage values\n",
    "\n",
    "print(f\"Type of numpy.empty: {type(np.empty((2,2)))}\\n\")\n",
    "\n",
    "print(f\"Identity matrix: {np.eye(3)}\\n\") #identity matrix\n",
    "\n",
    "print(f\"Random matrix: {np.random.random((2, 2))}\\n\") #random matrix\n",
    "\n",
    "print(f\"Matrix of one: {np.ones((2,3))}\\n\")\n",
    "\n",
    "print(f\"Matrix of one while taking an another array as input: {np.ones_like(example_data)}\\n\") #ones_like takes another array and produces an array of ones array of same shape and size\n",
    "\n",
    "print(f\"Full numpy matrix: {np.full(3,5)}\")"
   ]
  },
  {
   "cell_type": "markdown",
   "metadata": {},
   "source": [
    "## Numpy Arrays Arithmetic\n",
    "\n",
    "An important feature of a numpy array is that you can apply arithmetic operations without using loops. This is called `vectorization` <br/> <br/>\n",
    "Vectorization refers to the process of performing operations on entire array at once rather iterating through individual elements using loop, leading to faster and more efficient code\n"
   ]
  },
  {
   "cell_type": "code",
   "execution_count": 44,
   "metadata": {},
   "outputs": [
    {
     "name": "stdout",
     "output_type": "stream",
     "text": [
      "Example array [[1. 2. 3.]\n",
      " [4. 5. 6.]]\n"
     ]
    }
   ],
   "source": [
    "example_array = np.array([[1., 2., 3.], [4., 5., 6.]])\n",
    "print(f'Example array {example_array}')"
   ]
  },
  {
   "cell_type": "code",
   "execution_count": 89,
   "metadata": {},
   "outputs": [
    {
     "name": "stdout",
     "output_type": "stream",
     "text": [
      "Example array double: [[ 2.  4.  6.]\n",
      " [ 8. 10. 12.]]\n",
      "\n",
      "Example array square: [[ 1.  4.  9.]\n",
      " [16. 25. 36.]]\n",
      "\n",
      "1 divided by example array [[1.         0.5        0.33333333]\n",
      " [0.25       0.2        0.16666667]]\n",
      "\n"
     ]
    }
   ],
   "source": [
    "print(f\"Example array double: {example_array * 2}\\n\")\n",
    "\n",
    "print(f\"Example array square: {example_array * example_array}\\n\")\n",
    "\n",
    "print(f\"1 divided by example array {1/example_array}\\n\")"
   ]
  },
  {
   "cell_type": "markdown",
   "metadata": {},
   "source": [
    "We can compare two arrays. The comparison is done by element wise\n"
   ]
  },
  {
   "cell_type": "code",
   "execution_count": 90,
   "metadata": {},
   "outputs": [
    {
     "name": "stdout",
     "output_type": "stream",
     "text": [
      "First example array: [[1. 2. 3.]\n",
      " [4. 5. 6.]]\n",
      "\n",
      "Second example array: [[ 0.  4.  1.]\n",
      " [ 7.  2. 12.]]\n"
     ]
    }
   ],
   "source": [
    "example_array_2 = np.array([[0., 4., 1.], [7., 2., 12.]])\n",
    "\n",
    "print(f\"First example array: {example_array}\\n\")\n",
    "print(f\"Second example array: {example_array_2}\")"
   ]
  },
  {
   "cell_type": "code",
   "execution_count": 91,
   "metadata": {},
   "outputs": [
    {
     "data": {
      "text/plain": [
       "array([[ True, False,  True],\n",
       "       [False,  True, False]])"
      ]
     },
     "execution_count": 91,
     "metadata": {},
     "output_type": "execute_result"
    }
   ],
   "source": [
    "example_array > example_array_2"
   ]
  },
  {
   "cell_type": "code",
   "execution_count": 93,
   "metadata": {},
   "outputs": [
    {
     "data": {
      "text/plain": [
       "array([[False,  True, False],\n",
       "       [ True, False,  True]])"
      ]
     },
     "execution_count": 93,
     "metadata": {},
     "output_type": "execute_result"
    }
   ],
   "source": [
    "example_array < example_array_2"
   ]
  },
  {
   "cell_type": "markdown",
   "metadata": {},
   "source": [
    "## Indexing and Slicing\n"
   ]
  },
  {
   "cell_type": "markdown",
   "metadata": {},
   "source": [
    "Indexing and slicing of one-dimensional arrays are simple; on the surface they act similarly to Python lists\n"
   ]
  },
  {
   "cell_type": "code",
   "execution_count": 10,
   "metadata": {},
   "outputs": [
    {
     "name": "stdout",
     "output_type": "stream",
     "text": [
      "Array: [0 1 2 3 4 5 6 7 8 9]\n",
      "\n",
      "First element of array: 0\n",
      "Last element of array 9\n",
      "3 to 5 element in array: [2 3 4]\n",
      "\n",
      "Updating element at index 6: [ 0  1  2  3  4 15  6  7  8  9]\n",
      "Updating first 2 elements: [56 56  2  3  4 15  6  7  8  9]\n"
     ]
    }
   ],
   "source": [
    "simple_array = np.arange(10)\n",
    "print(f\"Array: {simple_array}\\n\")\n",
    "\n",
    "print(f\"First element of array: {simple_array[0]}\")\n",
    "print(f\"Last element of array {simple_array[-1]}\")\n",
    "print(f\"3 to 5 element in array: {simple_array[2:5]}\\n\")\n",
    "\n",
    "simple_array[5] = 15\n",
    "print(f\"Updating element at index 6: {simple_array}\")\n",
    "\n",
    "simple_array[0:2] = 56\n",
    "print(f\"Updating first 2 elements: {simple_array}\")"
   ]
  },
  {
   "cell_type": "markdown",
   "metadata": {},
   "source": [
    "In a two-dimensional array, the elements at each index are no longer scalars but rather one dimensional arrays\n"
   ]
  },
  {
   "cell_type": "code",
   "execution_count": 20,
   "metadata": {},
   "outputs": [
    {
     "name": "stdout",
     "output_type": "stream",
     "text": [
      "Two dimensional array: [[1 2 3]\n",
      " [4 5 6]\n",
      " [7 8 9]]\n",
      "\n",
      "First element: 1\n",
      "Last element: 9\n",
      "\n",
      "Second row: [4 5 6]\n",
      "3 column: [3 6 9]\n",
      "2 column: [2 5 8]\n"
     ]
    }
   ],
   "source": [
    "two_dimensional_array = np.array([[1, 2, 3], [4, 5, 6], [7, 8, 9]])\n",
    "\n",
    "print(f\"Two dimensional array: {two_dimensional_array}\")\n",
    "\n",
    "print(f\"\\nFirst element: {two_dimensional_array[0][0]}\")\n",
    "print(f\"Last element: {two_dimensional_array[2][2]}\")\n",
    "\n",
    "print(f\"\\nSecond row: {two_dimensional_array[1]}\")\n",
    "print(f\"3 column: {two_dimensional_array[:, 2]}\")\n",
    "print(f\"2 column: {two_dimensional_array[:, 1]}\")"
   ]
  },
  {
   "cell_type": "code",
   "execution_count": 42,
   "metadata": {},
   "outputs": [
    {
     "name": "stdout",
     "output_type": "stream",
     "text": [
      "Second and third row: [[4 5 6]\n",
      " [7 8 9]]\n",
      "2 and third column: [[2 3]\n",
      " [5 6]\n",
      " [8 9]]\n"
     ]
    }
   ],
   "source": [
    "print(f\"Second and third row: {two_dimensional_array[1:3]}\")\n",
    "print(f\"2 and third column: {two_dimensional_array[:, 1:3]}\")"
   ]
  },
  {
   "cell_type": "markdown",
   "metadata": {},
   "source": [
    "Lets check for multi-dimensional arrays\n"
   ]
  },
  {
   "cell_type": "code",
   "execution_count": 37,
   "metadata": {},
   "outputs": [
    {
     "name": "stdout",
     "output_type": "stream",
     "text": [
      "Multi dimensional array: [[[ 1  2  3]\n",
      "  [ 4  5  6]]\n",
      "\n",
      " [[ 7  8  9]\n",
      "  [10 11 12]]]\n",
      "\n",
      "Multi dimensional array dimension: 3\n",
      "Multi dimensional array shape: (2, 2, 3)\n",
      "Multi dimensional array size: 12\n",
      "\n",
      " First two dim array [[1 2 3]\n",
      " [4 5 6]]\n",
      "Second one dim array [10 11 12]\n",
      "Third element of second one dim array 12\n"
     ]
    }
   ],
   "source": [
    "three_dimensional_array = np.array([[[1, 2, 3], [4, 5, 6]],[[7, 8, 9], [10, 11, 12]]])\n",
    "\n",
    "print(f\"Multi dimensional array: {three_dimensional_array}\")\n",
    "print(f\"\\nMulti dimensional array dimension: {three_dimensional_array.ndim}\")\n",
    "print(f\"Multi dimensional array shape: {three_dimensional_array.shape}\")\n",
    "print(f\"Multi dimensional array size: {three_dimensional_array.size}\")\n",
    "\n",
    "print(f\"\\n First two dim array {three_dimensional_array[0]}\") # returns a two dimensional array\n",
    "print(f\"Second one dim array {three_dimensional_array[1][1]}\") # returns a one dimensional array\n",
    "print(f\"Third element of second one dim array {three_dimensional_array[1][1][2]}\") # returns a scalar value"
   ]
  },
  {
   "cell_type": "markdown",
   "metadata": {},
   "source": [
    "`Fancy indexing` refers to the practice of using arrays or lists of indices to access multiple elements of another array simultaneously. This allows for more flexible and powerful data manipuation\n"
   ]
  },
  {
   "cell_type": "code",
   "execution_count": 50,
   "metadata": {},
   "outputs": [
    {
     "name": "stdout",
     "output_type": "stream",
     "text": [
      "Example array: [10 20 30 40 50]\n",
      "Selected elements: [20 40 50]\n",
      "\n",
      "Two dimensional array: [[1 2 3]\n",
      " [4 5 6]\n",
      " [7 8 9]]\n",
      "Selected elements: [3 5 7]\n"
     ]
    }
   ],
   "source": [
    "example_array = np.array([10, 20, 30, 40, 50])\n",
    "print(f'Example array: {example_array}')\n",
    "indices = [1, 3, 4]\n",
    "\n",
    "print(f\"Selected elements: {example_array[indices]}\")\n",
    "\n",
    "print(f\"\\nTwo dimensional array: {two_dimensional_array}\")\n",
    "\n",
    "# Selects elements at (0, 2), (1, 1), and (2, 0)\n",
    "print(f\"Selected elements: {two_dimensional_array[[0, 1, 2], [2, 1, 0]]}\")"
   ]
  },
  {
   "cell_type": "markdown",
   "metadata": {},
   "source": [
    "`Transposing` is a special form of reshaping that interchanges the column data with row data. `The row becomes columns and the columns become rows`\n"
   ]
  },
  {
   "cell_type": "code",
   "execution_count": 53,
   "metadata": {},
   "outputs": [
    {
     "name": "stdout",
     "output_type": "stream",
     "text": [
      "Example array:\n",
      " [[ 0  1  2  3  4]\n",
      " [ 5  6  7  8  9]\n",
      " [10 11 12 13 14]]\n",
      "\n",
      "Example array transpose: [[ 0  5 10]\n",
      " [ 1  6 11]\n",
      " [ 2  7 12]\n",
      " [ 3  8 13]\n",
      " [ 4  9 14]]\n"
     ]
    }
   ],
   "source": [
    "example_array = np.arange(15).reshape((3, 5))\n",
    "print(f\"Example array:\\n {example_array}\")\n",
    "\n",
    "print(f\"\\nExample array transpose: {example_array.T}\")"
   ]
  },
  {
   "cell_type": "markdown",
   "metadata": {},
   "source": [
    "We can also do `dot multiplication`\n"
   ]
  },
  {
   "cell_type": "code",
   "execution_count": 54,
   "metadata": {},
   "outputs": [
    {
     "name": "stdout",
     "output_type": "stream",
     "text": [
      "Dot product of example array and transpose of example array: [[ 30  80 130]\n",
      " [ 80 255 430]\n",
      " [130 430 730]]\n"
     ]
    }
   ],
   "source": [
    "print(f\"Dot product of example array and transpose of example array: {np.dot(example_array, example_array.T)}\")"
   ]
  },
  {
   "cell_type": "markdown",
   "metadata": {},
   "source": [
    "`numpy.random` is used to generate array of random data\n"
   ]
  },
  {
   "cell_type": "code",
   "execution_count": 56,
   "metadata": {},
   "outputs": [
    {
     "name": "stdout",
     "output_type": "stream",
     "text": [
      "Sample data: \n",
      "[[-0.12661489 -1.05853698  1.06400536  0.5235279 ]\n",
      " [-0.16385502  0.45135961 -0.05636292  0.21638825]\n",
      " [ 1.79322191  0.76463311  0.31075277 -0.44346989]\n",
      " [ 1.37945361  0.0157017  -1.50283368 -0.09045355]]\n"
     ]
    }
   ],
   "source": [
    "samples = np.random.standard_normal(size=(4, 4))\n",
    "print(f\"Sample data: \\n{samples}\")"
   ]
  },
  {
   "cell_type": "code",
   "execution_count": 59,
   "metadata": {},
   "outputs": [
    {
     "name": "stdout",
     "output_type": "stream",
     "text": [
      "Sample data: \n",
      "[[-1.42382504  1.26372846 -0.87066174]\n",
      " [-0.25917323 -0.07534331 -0.74088465]]\n"
     ]
    }
   ],
   "source": [
    "random_number_generator = np.random.default_rng(seed = 12345) # seed argument determines the initial state of the generator\n",
    "\n",
    "samples = random_number_generator.standard_normal((2, 3))\n",
    "\n",
    "print(f\"Sample data: \\n{samples}\")"
   ]
  },
  {
   "cell_type": "markdown",
   "metadata": {},
   "source": [
    "Numpy has `universal function` that performs element-wise operations on data in arrays\n"
   ]
  },
  {
   "cell_type": "code",
   "execution_count": 68,
   "metadata": {},
   "outputs": [
    {
     "name": "stdout",
     "output_type": "stream",
     "text": [
      "Samples: \n",
      "[[-1.42382504  1.26372846 -0.87066174]\n",
      " [-0.25917323 -0.07534331 -0.74088465]]\n",
      "\n",
      "Square of array elements: \n",
      "[[2.02727773 1.59700962 0.75805186]\n",
      " [0.06717077 0.00567661 0.54891007]]\n"
     ]
    }
   ],
   "source": [
    "print(f\"Samples: \\n{samples}\")\n",
    "print(f\"\\nSquare of array elements: \\n{np.square(samples)}\")\n",
    "\n"
   ]
  },
  {
   "cell_type": "markdown",
   "metadata": {},
   "source": [
    "`numpy.meshgrid()` takes one-dimensional array and produces two-dimensional matrics corresponding to all pairs of (x, y) in the two arrays\n"
   ]
  },
  {
   "cell_type": "code",
   "execution_count": 70,
   "metadata": {},
   "outputs": [
    {
     "name": "stdout",
     "output_type": "stream",
     "text": [
      "Points: [-5.0000000e+00 -4.9900000e+00 -4.9800000e+00 -4.9700000e+00\n",
      " -4.9600000e+00 -4.9500000e+00 -4.9400000e+00 -4.9300000e+00\n",
      " -4.9200000e+00 -4.9100000e+00 -4.9000000e+00 -4.8900000e+00\n",
      " -4.8800000e+00 -4.8700000e+00 -4.8600000e+00 -4.8500000e+00\n",
      " -4.8400000e+00 -4.8300000e+00 -4.8200000e+00 -4.8100000e+00\n",
      " -4.8000000e+00 -4.7900000e+00 -4.7800000e+00 -4.7700000e+00\n",
      " -4.7600000e+00 -4.7500000e+00 -4.7400000e+00 -4.7300000e+00\n",
      " -4.7200000e+00 -4.7100000e+00 -4.7000000e+00 -4.6900000e+00\n",
      " -4.6800000e+00 -4.6700000e+00 -4.6600000e+00 -4.6500000e+00\n",
      " -4.6400000e+00 -4.6300000e+00 -4.6200000e+00 -4.6100000e+00\n",
      " -4.6000000e+00 -4.5900000e+00 -4.5800000e+00 -4.5700000e+00\n",
      " -4.5600000e+00 -4.5500000e+00 -4.5400000e+00 -4.5300000e+00\n",
      " -4.5200000e+00 -4.5100000e+00 -4.5000000e+00 -4.4900000e+00\n",
      " -4.4800000e+00 -4.4700000e+00 -4.4600000e+00 -4.4500000e+00\n",
      " -4.4400000e+00 -4.4300000e+00 -4.4200000e+00 -4.4100000e+00\n",
      " -4.4000000e+00 -4.3900000e+00 -4.3800000e+00 -4.3700000e+00\n",
      " -4.3600000e+00 -4.3500000e+00 -4.3400000e+00 -4.3300000e+00\n",
      " -4.3200000e+00 -4.3100000e+00 -4.3000000e+00 -4.2900000e+00\n",
      " -4.2800000e+00 -4.2700000e+00 -4.2600000e+00 -4.2500000e+00\n",
      " -4.2400000e+00 -4.2300000e+00 -4.2200000e+00 -4.2100000e+00\n",
      " -4.2000000e+00 -4.1900000e+00 -4.1800000e+00 -4.1700000e+00\n",
      " -4.1600000e+00 -4.1500000e+00 -4.1400000e+00 -4.1300000e+00\n",
      " -4.1200000e+00 -4.1100000e+00 -4.1000000e+00 -4.0900000e+00\n",
      " -4.0800000e+00 -4.0700000e+00 -4.0600000e+00 -4.0500000e+00\n",
      " -4.0400000e+00 -4.0300000e+00 -4.0200000e+00 -4.0100000e+00\n",
      " -4.0000000e+00 -3.9900000e+00 -3.9800000e+00 -3.9700000e+00\n",
      " -3.9600000e+00 -3.9500000e+00 -3.9400000e+00 -3.9300000e+00\n",
      " -3.9200000e+00 -3.9100000e+00 -3.9000000e+00 -3.8900000e+00\n",
      " -3.8800000e+00 -3.8700000e+00 -3.8600000e+00 -3.8500000e+00\n",
      " -3.8400000e+00 -3.8300000e+00 -3.8200000e+00 -3.8100000e+00\n",
      " -3.8000000e+00 -3.7900000e+00 -3.7800000e+00 -3.7700000e+00\n",
      " -3.7600000e+00 -3.7500000e+00 -3.7400000e+00 -3.7300000e+00\n",
      " -3.7200000e+00 -3.7100000e+00 -3.7000000e+00 -3.6900000e+00\n",
      " -3.6800000e+00 -3.6700000e+00 -3.6600000e+00 -3.6500000e+00\n",
      " -3.6400000e+00 -3.6300000e+00 -3.6200000e+00 -3.6100000e+00\n",
      " -3.6000000e+00 -3.5900000e+00 -3.5800000e+00 -3.5700000e+00\n",
      " -3.5600000e+00 -3.5500000e+00 -3.5400000e+00 -3.5300000e+00\n",
      " -3.5200000e+00 -3.5100000e+00 -3.5000000e+00 -3.4900000e+00\n",
      " -3.4800000e+00 -3.4700000e+00 -3.4600000e+00 -3.4500000e+00\n",
      " -3.4400000e+00 -3.4300000e+00 -3.4200000e+00 -3.4100000e+00\n",
      " -3.4000000e+00 -3.3900000e+00 -3.3800000e+00 -3.3700000e+00\n",
      " -3.3600000e+00 -3.3500000e+00 -3.3400000e+00 -3.3300000e+00\n",
      " -3.3200000e+00 -3.3100000e+00 -3.3000000e+00 -3.2900000e+00\n",
      " -3.2800000e+00 -3.2700000e+00 -3.2600000e+00 -3.2500000e+00\n",
      " -3.2400000e+00 -3.2300000e+00 -3.2200000e+00 -3.2100000e+00\n",
      " -3.2000000e+00 -3.1900000e+00 -3.1800000e+00 -3.1700000e+00\n",
      " -3.1600000e+00 -3.1500000e+00 -3.1400000e+00 -3.1300000e+00\n",
      " -3.1200000e+00 -3.1100000e+00 -3.1000000e+00 -3.0900000e+00\n",
      " -3.0800000e+00 -3.0700000e+00 -3.0600000e+00 -3.0500000e+00\n",
      " -3.0400000e+00 -3.0300000e+00 -3.0200000e+00 -3.0100000e+00\n",
      " -3.0000000e+00 -2.9900000e+00 -2.9800000e+00 -2.9700000e+00\n",
      " -2.9600000e+00 -2.9500000e+00 -2.9400000e+00 -2.9300000e+00\n",
      " -2.9200000e+00 -2.9100000e+00 -2.9000000e+00 -2.8900000e+00\n",
      " -2.8800000e+00 -2.8700000e+00 -2.8600000e+00 -2.8500000e+00\n",
      " -2.8400000e+00 -2.8300000e+00 -2.8200000e+00 -2.8100000e+00\n",
      " -2.8000000e+00 -2.7900000e+00 -2.7800000e+00 -2.7700000e+00\n",
      " -2.7600000e+00 -2.7500000e+00 -2.7400000e+00 -2.7300000e+00\n",
      " -2.7200000e+00 -2.7100000e+00 -2.7000000e+00 -2.6900000e+00\n",
      " -2.6800000e+00 -2.6700000e+00 -2.6600000e+00 -2.6500000e+00\n",
      " -2.6400000e+00 -2.6300000e+00 -2.6200000e+00 -2.6100000e+00\n",
      " -2.6000000e+00 -2.5900000e+00 -2.5800000e+00 -2.5700000e+00\n",
      " -2.5600000e+00 -2.5500000e+00 -2.5400000e+00 -2.5300000e+00\n",
      " -2.5200000e+00 -2.5100000e+00 -2.5000000e+00 -2.4900000e+00\n",
      " -2.4800000e+00 -2.4700000e+00 -2.4600000e+00 -2.4500000e+00\n",
      " -2.4400000e+00 -2.4300000e+00 -2.4200000e+00 -2.4100000e+00\n",
      " -2.4000000e+00 -2.3900000e+00 -2.3800000e+00 -2.3700000e+00\n",
      " -2.3600000e+00 -2.3500000e+00 -2.3400000e+00 -2.3300000e+00\n",
      " -2.3200000e+00 -2.3100000e+00 -2.3000000e+00 -2.2900000e+00\n",
      " -2.2800000e+00 -2.2700000e+00 -2.2600000e+00 -2.2500000e+00\n",
      " -2.2400000e+00 -2.2300000e+00 -2.2200000e+00 -2.2100000e+00\n",
      " -2.2000000e+00 -2.1900000e+00 -2.1800000e+00 -2.1700000e+00\n",
      " -2.1600000e+00 -2.1500000e+00 -2.1400000e+00 -2.1300000e+00\n",
      " -2.1200000e+00 -2.1100000e+00 -2.1000000e+00 -2.0900000e+00\n",
      " -2.0800000e+00 -2.0700000e+00 -2.0600000e+00 -2.0500000e+00\n",
      " -2.0400000e+00 -2.0300000e+00 -2.0200000e+00 -2.0100000e+00\n",
      " -2.0000000e+00 -1.9900000e+00 -1.9800000e+00 -1.9700000e+00\n",
      " -1.9600000e+00 -1.9500000e+00 -1.9400000e+00 -1.9300000e+00\n",
      " -1.9200000e+00 -1.9100000e+00 -1.9000000e+00 -1.8900000e+00\n",
      " -1.8800000e+00 -1.8700000e+00 -1.8600000e+00 -1.8500000e+00\n",
      " -1.8400000e+00 -1.8300000e+00 -1.8200000e+00 -1.8100000e+00\n",
      " -1.8000000e+00 -1.7900000e+00 -1.7800000e+00 -1.7700000e+00\n",
      " -1.7600000e+00 -1.7500000e+00 -1.7400000e+00 -1.7300000e+00\n",
      " -1.7200000e+00 -1.7100000e+00 -1.7000000e+00 -1.6900000e+00\n",
      " -1.6800000e+00 -1.6700000e+00 -1.6600000e+00 -1.6500000e+00\n",
      " -1.6400000e+00 -1.6300000e+00 -1.6200000e+00 -1.6100000e+00\n",
      " -1.6000000e+00 -1.5900000e+00 -1.5800000e+00 -1.5700000e+00\n",
      " -1.5600000e+00 -1.5500000e+00 -1.5400000e+00 -1.5300000e+00\n",
      " -1.5200000e+00 -1.5100000e+00 -1.5000000e+00 -1.4900000e+00\n",
      " -1.4800000e+00 -1.4700000e+00 -1.4600000e+00 -1.4500000e+00\n",
      " -1.4400000e+00 -1.4300000e+00 -1.4200000e+00 -1.4100000e+00\n",
      " -1.4000000e+00 -1.3900000e+00 -1.3800000e+00 -1.3700000e+00\n",
      " -1.3600000e+00 -1.3500000e+00 -1.3400000e+00 -1.3300000e+00\n",
      " -1.3200000e+00 -1.3100000e+00 -1.3000000e+00 -1.2900000e+00\n",
      " -1.2800000e+00 -1.2700000e+00 -1.2600000e+00 -1.2500000e+00\n",
      " -1.2400000e+00 -1.2300000e+00 -1.2200000e+00 -1.2100000e+00\n",
      " -1.2000000e+00 -1.1900000e+00 -1.1800000e+00 -1.1700000e+00\n",
      " -1.1600000e+00 -1.1500000e+00 -1.1400000e+00 -1.1300000e+00\n",
      " -1.1200000e+00 -1.1100000e+00 -1.1000000e+00 -1.0900000e+00\n",
      " -1.0800000e+00 -1.0700000e+00 -1.0600000e+00 -1.0500000e+00\n",
      " -1.0400000e+00 -1.0300000e+00 -1.0200000e+00 -1.0100000e+00\n",
      " -1.0000000e+00 -9.9000000e-01 -9.8000000e-01 -9.7000000e-01\n",
      " -9.6000000e-01 -9.5000000e-01 -9.4000000e-01 -9.3000000e-01\n",
      " -9.2000000e-01 -9.1000000e-01 -9.0000000e-01 -8.9000000e-01\n",
      " -8.8000000e-01 -8.7000000e-01 -8.6000000e-01 -8.5000000e-01\n",
      " -8.4000000e-01 -8.3000000e-01 -8.2000000e-01 -8.1000000e-01\n",
      " -8.0000000e-01 -7.9000000e-01 -7.8000000e-01 -7.7000000e-01\n",
      " -7.6000000e-01 -7.5000000e-01 -7.4000000e-01 -7.3000000e-01\n",
      " -7.2000000e-01 -7.1000000e-01 -7.0000000e-01 -6.9000000e-01\n",
      " -6.8000000e-01 -6.7000000e-01 -6.6000000e-01 -6.5000000e-01\n",
      " -6.4000000e-01 -6.3000000e-01 -6.2000000e-01 -6.1000000e-01\n",
      " -6.0000000e-01 -5.9000000e-01 -5.8000000e-01 -5.7000000e-01\n",
      " -5.6000000e-01 -5.5000000e-01 -5.4000000e-01 -5.3000000e-01\n",
      " -5.2000000e-01 -5.1000000e-01 -5.0000000e-01 -4.9000000e-01\n",
      " -4.8000000e-01 -4.7000000e-01 -4.6000000e-01 -4.5000000e-01\n",
      " -4.4000000e-01 -4.3000000e-01 -4.2000000e-01 -4.1000000e-01\n",
      " -4.0000000e-01 -3.9000000e-01 -3.8000000e-01 -3.7000000e-01\n",
      " -3.6000000e-01 -3.5000000e-01 -3.4000000e-01 -3.3000000e-01\n",
      " -3.2000000e-01 -3.1000000e-01 -3.0000000e-01 -2.9000000e-01\n",
      " -2.8000000e-01 -2.7000000e-01 -2.6000000e-01 -2.5000000e-01\n",
      " -2.4000000e-01 -2.3000000e-01 -2.2000000e-01 -2.1000000e-01\n",
      " -2.0000000e-01 -1.9000000e-01 -1.8000000e-01 -1.7000000e-01\n",
      " -1.6000000e-01 -1.5000000e-01 -1.4000000e-01 -1.3000000e-01\n",
      " -1.2000000e-01 -1.1000000e-01 -1.0000000e-01 -9.0000000e-02\n",
      " -8.0000000e-02 -7.0000000e-02 -6.0000000e-02 -5.0000000e-02\n",
      " -4.0000000e-02 -3.0000000e-02 -2.0000000e-02 -1.0000000e-02\n",
      " -1.0658141e-13  1.0000000e-02  2.0000000e-02  3.0000000e-02\n",
      "  4.0000000e-02  5.0000000e-02  6.0000000e-02  7.0000000e-02\n",
      "  8.0000000e-02  9.0000000e-02  1.0000000e-01  1.1000000e-01\n",
      "  1.2000000e-01  1.3000000e-01  1.4000000e-01  1.5000000e-01\n",
      "  1.6000000e-01  1.7000000e-01  1.8000000e-01  1.9000000e-01\n",
      "  2.0000000e-01  2.1000000e-01  2.2000000e-01  2.3000000e-01\n",
      "  2.4000000e-01  2.5000000e-01  2.6000000e-01  2.7000000e-01\n",
      "  2.8000000e-01  2.9000000e-01  3.0000000e-01  3.1000000e-01\n",
      "  3.2000000e-01  3.3000000e-01  3.4000000e-01  3.5000000e-01\n",
      "  3.6000000e-01  3.7000000e-01  3.8000000e-01  3.9000000e-01\n",
      "  4.0000000e-01  4.1000000e-01  4.2000000e-01  4.3000000e-01\n",
      "  4.4000000e-01  4.5000000e-01  4.6000000e-01  4.7000000e-01\n",
      "  4.8000000e-01  4.9000000e-01  5.0000000e-01  5.1000000e-01\n",
      "  5.2000000e-01  5.3000000e-01  5.4000000e-01  5.5000000e-01\n",
      "  5.6000000e-01  5.7000000e-01  5.8000000e-01  5.9000000e-01\n",
      "  6.0000000e-01  6.1000000e-01  6.2000000e-01  6.3000000e-01\n",
      "  6.4000000e-01  6.5000000e-01  6.6000000e-01  6.7000000e-01\n",
      "  6.8000000e-01  6.9000000e-01  7.0000000e-01  7.1000000e-01\n",
      "  7.2000000e-01  7.3000000e-01  7.4000000e-01  7.5000000e-01\n",
      "  7.6000000e-01  7.7000000e-01  7.8000000e-01  7.9000000e-01\n",
      "  8.0000000e-01  8.1000000e-01  8.2000000e-01  8.3000000e-01\n",
      "  8.4000000e-01  8.5000000e-01  8.6000000e-01  8.7000000e-01\n",
      "  8.8000000e-01  8.9000000e-01  9.0000000e-01  9.1000000e-01\n",
      "  9.2000000e-01  9.3000000e-01  9.4000000e-01  9.5000000e-01\n",
      "  9.6000000e-01  9.7000000e-01  9.8000000e-01  9.9000000e-01\n",
      "  1.0000000e+00  1.0100000e+00  1.0200000e+00  1.0300000e+00\n",
      "  1.0400000e+00  1.0500000e+00  1.0600000e+00  1.0700000e+00\n",
      "  1.0800000e+00  1.0900000e+00  1.1000000e+00  1.1100000e+00\n",
      "  1.1200000e+00  1.1300000e+00  1.1400000e+00  1.1500000e+00\n",
      "  1.1600000e+00  1.1700000e+00  1.1800000e+00  1.1900000e+00\n",
      "  1.2000000e+00  1.2100000e+00  1.2200000e+00  1.2300000e+00\n",
      "  1.2400000e+00  1.2500000e+00  1.2600000e+00  1.2700000e+00\n",
      "  1.2800000e+00  1.2900000e+00  1.3000000e+00  1.3100000e+00\n",
      "  1.3200000e+00  1.3300000e+00  1.3400000e+00  1.3500000e+00\n",
      "  1.3600000e+00  1.3700000e+00  1.3800000e+00  1.3900000e+00\n",
      "  1.4000000e+00  1.4100000e+00  1.4200000e+00  1.4300000e+00\n",
      "  1.4400000e+00  1.4500000e+00  1.4600000e+00  1.4700000e+00\n",
      "  1.4800000e+00  1.4900000e+00  1.5000000e+00  1.5100000e+00\n",
      "  1.5200000e+00  1.5300000e+00  1.5400000e+00  1.5500000e+00\n",
      "  1.5600000e+00  1.5700000e+00  1.5800000e+00  1.5900000e+00\n",
      "  1.6000000e+00  1.6100000e+00  1.6200000e+00  1.6300000e+00\n",
      "  1.6400000e+00  1.6500000e+00  1.6600000e+00  1.6700000e+00\n",
      "  1.6800000e+00  1.6900000e+00  1.7000000e+00  1.7100000e+00\n",
      "  1.7200000e+00  1.7300000e+00  1.7400000e+00  1.7500000e+00\n",
      "  1.7600000e+00  1.7700000e+00  1.7800000e+00  1.7900000e+00\n",
      "  1.8000000e+00  1.8100000e+00  1.8200000e+00  1.8300000e+00\n",
      "  1.8400000e+00  1.8500000e+00  1.8600000e+00  1.8700000e+00\n",
      "  1.8800000e+00  1.8900000e+00  1.9000000e+00  1.9100000e+00\n",
      "  1.9200000e+00  1.9300000e+00  1.9400000e+00  1.9500000e+00\n",
      "  1.9600000e+00  1.9700000e+00  1.9800000e+00  1.9900000e+00\n",
      "  2.0000000e+00  2.0100000e+00  2.0200000e+00  2.0300000e+00\n",
      "  2.0400000e+00  2.0500000e+00  2.0600000e+00  2.0700000e+00\n",
      "  2.0800000e+00  2.0900000e+00  2.1000000e+00  2.1100000e+00\n",
      "  2.1200000e+00  2.1300000e+00  2.1400000e+00  2.1500000e+00\n",
      "  2.1600000e+00  2.1700000e+00  2.1800000e+00  2.1900000e+00\n",
      "  2.2000000e+00  2.2100000e+00  2.2200000e+00  2.2300000e+00\n",
      "  2.2400000e+00  2.2500000e+00  2.2600000e+00  2.2700000e+00\n",
      "  2.2800000e+00  2.2900000e+00  2.3000000e+00  2.3100000e+00\n",
      "  2.3200000e+00  2.3300000e+00  2.3400000e+00  2.3500000e+00\n",
      "  2.3600000e+00  2.3700000e+00  2.3800000e+00  2.3900000e+00\n",
      "  2.4000000e+00  2.4100000e+00  2.4200000e+00  2.4300000e+00\n",
      "  2.4400000e+00  2.4500000e+00  2.4600000e+00  2.4700000e+00\n",
      "  2.4800000e+00  2.4900000e+00  2.5000000e+00  2.5100000e+00\n",
      "  2.5200000e+00  2.5300000e+00  2.5400000e+00  2.5500000e+00\n",
      "  2.5600000e+00  2.5700000e+00  2.5800000e+00  2.5900000e+00\n",
      "  2.6000000e+00  2.6100000e+00  2.6200000e+00  2.6300000e+00\n",
      "  2.6400000e+00  2.6500000e+00  2.6600000e+00  2.6700000e+00\n",
      "  2.6800000e+00  2.6900000e+00  2.7000000e+00  2.7100000e+00\n",
      "  2.7200000e+00  2.7300000e+00  2.7400000e+00  2.7500000e+00\n",
      "  2.7600000e+00  2.7700000e+00  2.7800000e+00  2.7900000e+00\n",
      "  2.8000000e+00  2.8100000e+00  2.8200000e+00  2.8300000e+00\n",
      "  2.8400000e+00  2.8500000e+00  2.8600000e+00  2.8700000e+00\n",
      "  2.8800000e+00  2.8900000e+00  2.9000000e+00  2.9100000e+00\n",
      "  2.9200000e+00  2.9300000e+00  2.9400000e+00  2.9500000e+00\n",
      "  2.9600000e+00  2.9700000e+00  2.9800000e+00  2.9900000e+00\n",
      "  3.0000000e+00  3.0100000e+00  3.0200000e+00  3.0300000e+00\n",
      "  3.0400000e+00  3.0500000e+00  3.0600000e+00  3.0700000e+00\n",
      "  3.0800000e+00  3.0900000e+00  3.1000000e+00  3.1100000e+00\n",
      "  3.1200000e+00  3.1300000e+00  3.1400000e+00  3.1500000e+00\n",
      "  3.1600000e+00  3.1700000e+00  3.1800000e+00  3.1900000e+00\n",
      "  3.2000000e+00  3.2100000e+00  3.2200000e+00  3.2300000e+00\n",
      "  3.2400000e+00  3.2500000e+00  3.2600000e+00  3.2700000e+00\n",
      "  3.2800000e+00  3.2900000e+00  3.3000000e+00  3.3100000e+00\n",
      "  3.3200000e+00  3.3300000e+00  3.3400000e+00  3.3500000e+00\n",
      "  3.3600000e+00  3.3700000e+00  3.3800000e+00  3.3900000e+00\n",
      "  3.4000000e+00  3.4100000e+00  3.4200000e+00  3.4300000e+00\n",
      "  3.4400000e+00  3.4500000e+00  3.4600000e+00  3.4700000e+00\n",
      "  3.4800000e+00  3.4900000e+00  3.5000000e+00  3.5100000e+00\n",
      "  3.5200000e+00  3.5300000e+00  3.5400000e+00  3.5500000e+00\n",
      "  3.5600000e+00  3.5700000e+00  3.5800000e+00  3.5900000e+00\n",
      "  3.6000000e+00  3.6100000e+00  3.6200000e+00  3.6300000e+00\n",
      "  3.6400000e+00  3.6500000e+00  3.6600000e+00  3.6700000e+00\n",
      "  3.6800000e+00  3.6900000e+00  3.7000000e+00  3.7100000e+00\n",
      "  3.7200000e+00  3.7300000e+00  3.7400000e+00  3.7500000e+00\n",
      "  3.7600000e+00  3.7700000e+00  3.7800000e+00  3.7900000e+00\n",
      "  3.8000000e+00  3.8100000e+00  3.8200000e+00  3.8300000e+00\n",
      "  3.8400000e+00  3.8500000e+00  3.8600000e+00  3.8700000e+00\n",
      "  3.8800000e+00  3.8900000e+00  3.9000000e+00  3.9100000e+00\n",
      "  3.9200000e+00  3.9300000e+00  3.9400000e+00  3.9500000e+00\n",
      "  3.9600000e+00  3.9700000e+00  3.9800000e+00  3.9900000e+00\n",
      "  4.0000000e+00  4.0100000e+00  4.0200000e+00  4.0300000e+00\n",
      "  4.0400000e+00  4.0500000e+00  4.0600000e+00  4.0700000e+00\n",
      "  4.0800000e+00  4.0900000e+00  4.1000000e+00  4.1100000e+00\n",
      "  4.1200000e+00  4.1300000e+00  4.1400000e+00  4.1500000e+00\n",
      "  4.1600000e+00  4.1700000e+00  4.1800000e+00  4.1900000e+00\n",
      "  4.2000000e+00  4.2100000e+00  4.2200000e+00  4.2300000e+00\n",
      "  4.2400000e+00  4.2500000e+00  4.2600000e+00  4.2700000e+00\n",
      "  4.2800000e+00  4.2900000e+00  4.3000000e+00  4.3100000e+00\n",
      "  4.3200000e+00  4.3300000e+00  4.3400000e+00  4.3500000e+00\n",
      "  4.3600000e+00  4.3700000e+00  4.3800000e+00  4.3900000e+00\n",
      "  4.4000000e+00  4.4100000e+00  4.4200000e+00  4.4300000e+00\n",
      "  4.4400000e+00  4.4500000e+00  4.4600000e+00  4.4700000e+00\n",
      "  4.4800000e+00  4.4900000e+00  4.5000000e+00  4.5100000e+00\n",
      "  4.5200000e+00  4.5300000e+00  4.5400000e+00  4.5500000e+00\n",
      "  4.5600000e+00  4.5700000e+00  4.5800000e+00  4.5900000e+00\n",
      "  4.6000000e+00  4.6100000e+00  4.6200000e+00  4.6300000e+00\n",
      "  4.6400000e+00  4.6500000e+00  4.6600000e+00  4.6700000e+00\n",
      "  4.6800000e+00  4.6900000e+00  4.7000000e+00  4.7100000e+00\n",
      "  4.7200000e+00  4.7300000e+00  4.7400000e+00  4.7500000e+00\n",
      "  4.7600000e+00  4.7700000e+00  4.7800000e+00  4.7900000e+00\n",
      "  4.8000000e+00  4.8100000e+00  4.8200000e+00  4.8300000e+00\n",
      "  4.8400000e+00  4.8500000e+00  4.8600000e+00  4.8700000e+00\n",
      "  4.8800000e+00  4.8900000e+00  4.9000000e+00  4.9100000e+00\n",
      "  4.9200000e+00  4.9300000e+00  4.9400000e+00  4.9500000e+00\n",
      "  4.9600000e+00  4.9700000e+00  4.9800000e+00  4.9900000e+00]\n"
     ]
    }
   ],
   "source": [
    "points = np.arange(-5, 5, 0.01)\n",
    "print(f\"Points: {points}\")"
   ]
  },
  {
   "cell_type": "code",
   "execution_count": 74,
   "metadata": {},
   "outputs": [
    {
     "name": "stdout",
     "output_type": "stream",
     "text": [
      "X points: \n",
      "[[-5.   -4.99 -4.98 ...  4.97  4.98  4.99]\n",
      " [-5.   -4.99 -4.98 ...  4.97  4.98  4.99]\n",
      " [-5.   -4.99 -4.98 ...  4.97  4.98  4.99]\n",
      " ...\n",
      " [-5.   -4.99 -4.98 ...  4.97  4.98  4.99]\n",
      " [-5.   -4.99 -4.98 ...  4.97  4.98  4.99]\n",
      " [-5.   -4.99 -4.98 ...  4.97  4.98  4.99]]\n",
      "\n",
      "Y points: \n",
      "[[-5.   -5.   -5.   ... -5.   -5.   -5.  ]\n",
      " [-4.99 -4.99 -4.99 ... -4.99 -4.99 -4.99]\n",
      " [-4.98 -4.98 -4.98 ... -4.98 -4.98 -4.98]\n",
      " ...\n",
      " [ 4.97  4.97  4.97 ...  4.97  4.97  4.97]\n",
      " [ 4.98  4.98  4.98 ...  4.98  4.98  4.98]\n",
      " [ 4.99  4.99  4.99 ...  4.99  4.99  4.99]]\n"
     ]
    }
   ],
   "source": [
    "xs, ys = np.meshgrid(points, points)\n",
    "print(f\"X points: \\n{xs}\")\n",
    "print(f\"\\nY points: \\n{ys}\")"
   ]
  },
  {
   "cell_type": "markdown",
   "metadata": {},
   "source": [
    "`numpy.where()` function is a vectorized verison of terenary expression (x if condition else y)\n"
   ]
  },
  {
   "cell_type": "code",
   "execution_count": 81,
   "metadata": {},
   "outputs": [
    {
     "name": "stdout",
     "output_type": "stream",
     "text": [
      "Result of traditional terenay operation \n",
      "[np.float64(1.1), np.float64(2.2), np.float64(1.3), np.float64(1.4), np.float64(2.5)]\n",
      "\n",
      "Result of np.where [1.1 2.2 1.3 1.4 2.5]\n"
     ]
    }
   ],
   "source": [
    "xarr = np.array([1.1, 1.2, 1.3, 1.4, 1.5])\n",
    "yarr = np.array([2.1, 2.2, 2.3, 2.4, 2.5])\n",
    "cond = np.array([True, False, True, True, False])\n",
    "\n",
    "result = [(x if c else y)for x, y, c in zip(xarr, yarr, cond)]\n",
    "print(f\"Result of traditional terenay operation \\n{result}\")\n",
    "\n",
    "result = np.where(cond, xarr, yarr)\n",
    "print(f\"\\nResult of np.where {result}\")"
   ]
  },
  {
   "cell_type": "markdown",
   "metadata": {},
   "source": [
    "We can sort using `.sort()`\n"
   ]
  },
  {
   "cell_type": "code",
   "execution_count": 90,
   "metadata": {},
   "outputs": [
    {
     "name": "stdout",
     "output_type": "stream",
     "text": [
      "Samples: \n",
      "[  5 -10   7   1   0  -3]\n",
      "Sorted array: \n",
      "[-10  -3   0   1   5   7]\n"
     ]
    }
   ],
   "source": [
    "arr2 = np.array([5, -10, 7, 1, 0, -3])\n",
    "print(f\"Samples: \\n{arr2}\")\n",
    "\n",
    "sorted_arr2 = np.sort(arr2)\n",
    "\n",
    "print(f\"Sorted array: \\n{sorted_arr2}\")"
   ]
  },
  {
   "cell_type": "code",
   "execution_count": 95,
   "metadata": {},
   "outputs": [
    {
     "name": "stdout",
     "output_type": "stream",
     "text": [
      "Sample: \n",
      "[[-0.91318408 -0.63387045 -0.11497933]\n",
      " [ 0.52476072  0.76283355 -0.9783067 ]\n",
      " [ 0.05602162 -0.02295575 -0.04968797]\n",
      " [-0.33473125 -0.04034099  1.11457037]\n",
      " [-0.20547436  1.60427167  1.21349609]]\n",
      "\n",
      "Sample sorted by column \n",
      "[[-0.91318408 -0.63387045 -0.9783067 ]\n",
      " [-0.33473125 -0.04034099 -0.11497933]\n",
      " [-0.20547436 -0.02295575 -0.04968797]\n",
      " [ 0.05602162  0.76283355  1.11457037]\n",
      " [ 0.52476072  1.60427167  1.21349609]]\n",
      "\n",
      "Sample sorted by row \n",
      "[[-0.9783067  -0.91318408 -0.63387045]\n",
      " [-0.33473125 -0.11497933 -0.04034099]\n",
      " [-0.20547436 -0.04968797 -0.02295575]\n",
      " [ 0.05602162  0.76283355  1.11457037]\n",
      " [ 0.52476072  1.21349609  1.60427167]]\n"
     ]
    }
   ],
   "source": [
    "samples = np.random.standard_normal((5, 3))\n",
    "print(f\"Sample: \\n{samples}\")\n",
    "\n",
    "samples.sort(axis=0)\n",
    "print(f\"\\nSample sorted by column \\n{samples}\")\n",
    "\n",
    "samples.sort(axis=1)\n",
    "print(f\"\\nSample sorted by row \\n{samples}\")"
   ]
  },
  {
   "cell_type": "markdown",
   "metadata": {},
   "source": [
    "We can find unique values in an array using `np.unique()`\n"
   ]
  },
  {
   "cell_type": "code",
   "execution_count": 96,
   "metadata": {},
   "outputs": [
    {
     "name": "stdout",
     "output_type": "stream",
     "text": [
      "Unique values in samples [-0.9783067  -0.91318408 -0.63387045 -0.33473125 -0.20547436 -0.11497933\n",
      " -0.04968797 -0.04034099 -0.02295575  0.05602162  0.52476072  0.76283355\n",
      "  1.11457037  1.21349609  1.60427167]\n"
     ]
    }
   ],
   "source": [
    "print(f\"Unique values in samples {np.unique(samples)}\")"
   ]
  },
  {
   "cell_type": "markdown",
   "metadata": {},
   "source": [
    "# Pandas\n"
   ]
  },
  {
   "cell_type": "markdown",
   "metadata": {},
   "source": [
    "`pandas` is powerful and widely open source data manipulation and analysis library. It is built on top of NumPy and provides data structure and functions needed to work with structured data seamlessly\n"
   ]
  },
  {
   "cell_type": "markdown",
   "metadata": {},
   "source": [
    "It is commonly used for\n",
    "\n",
    "<ul>\n",
    "    <li>\n",
    "        Data cleaning and pre-processing like handling missing values, transforming data types, and normalizing data\n",
    "    </li>\n",
    "    <li>\n",
    "        Exploratory data analysis that includes summarizing data, calculating statisitcs, and visualizing data\n",
    "    </li>\n",
    "    <li>\n",
    "        Data wrangling that includes reshaping, merging, and filtering large datasets\n",
    "    </li>\n",
    "    <li>\n",
    "        Data transformation that includes applying functions and transformations to data\n",
    "    </li>\n",
    "    <li>\n",
    "        Time series analysis that includes working with date-time data for analysis and forecasting\n",
    "    </li>\n",
    "</ul>\n"
   ]
  },
  {
   "cell_type": "markdown",
   "metadata": {},
   "source": [
    "## Series\n"
   ]
  },
  {
   "cell_type": "markdown",
   "metadata": {},
   "source": [
    "`Series` is a one-dimensional array like object containing a sequence of values of the same type and an associated array of data labels called index\n"
   ]
  },
  {
   "cell_type": "code",
   "execution_count": 3,
   "metadata": {},
   "outputs": [
    {
     "data": {
      "text/plain": [
       "Apple                274515\n",
       "Samsung              200734\n",
       "Alphabet             182257\n",
       "Foxconn              181945\n",
       "Microsoft            143015\n",
       "Huawei               129184\n",
       "Dell Technlogoies     92224\n",
       "Meta                  85965\n",
       "Sony                  84893\n",
       "Name: Annual Revenue, dtype: int64"
      ]
     },
     "metadata": {},
     "output_type": "display_data"
    }
   ],
   "source": [
    "companies = ['Apple', 'Samsung', 'Alphabet', 'Foxconn', 'Microsoft', 'Huawei', 'Dell Technlogoies', 'Meta', 'Sony']\n",
    "\n",
    "revenue = [274_515, 200_734, 182_257, 181_945, 143_015, 129_184, 92_224, 85_965, 84_893]\n",
    "\n",
    "annual_report = pd.Series(revenue, index=companies, name='Annual Revenue')\n",
    "\n",
    "display(annual_report)"
   ]
  },
  {
   "cell_type": "markdown",
   "metadata": {},
   "source": [
    "The main component of series are:\n",
    "\n",
    "<ul>\n",
    "    <li>\n",
    "        Data:\n",
    "        <ul>\n",
    "            <li>\n",
    "                This is the most important component of the series. This the data we want to represent\n",
    "            </li>\n",
    "        </ul>\n",
    "    </li>\n",
    "    <li>\n",
    "        Index:\n",
    "        <ul>\n",
    "            <li>\n",
    "                The index indicates the \"labels\" of the data we are storing. It is not a required parameter as pandas assign default sequential numbers if index is not provided\n",
    "            </li>\n",
    "        </ul>\n",
    "    </li>\n",
    "    <li>\n",
    "        Name:\n",
    "        <ul>\n",
    "            <li>\n",
    "                This is sort of documentation that gives name to the table. This is also optional\n",
    "            </li>\n",
    "        </ul>\n",
    "    </li>\n",
    "</ul>\n"
   ]
  },
  {
   "cell_type": "markdown",
   "metadata": {},
   "source": [
    "Series are `strongly typed`; they have an enforced object type. A series of dtype int64 will consist only int64\n"
   ]
  },
  {
   "cell_type": "markdown",
   "metadata": {},
   "source": [
    "We can get data of Series by `index`, by `position` and also by multiple of those\n",
    "<br/> <br/>\n",
    "We use the Series index to reference and locate date associated with it. `Series.loc['index']` is the prefered method to reference values\n"
   ]
  },
  {
   "cell_type": "code",
   "execution_count": 120,
   "metadata": {},
   "outputs": [
    {
     "name": "stdout",
     "output_type": "stream",
     "text": [
      "Annual revenue of Apple: $274515\n",
      "Annual Revenue of Meta: $85965\n",
      "Annual revenue of Nvidia: $None\n",
      "Annual revenue of Samsung: $200734\n",
      "Annual revenue of Alphabet and Dell: \n",
      "Alphabet             182257\n",
      "Dell Technlogoies     92224\n",
      "Name: Annual Revenue, dtype: int64\n"
     ]
    }
   ],
   "source": [
    "print(f\"Annual revenue of Apple: ${annual_report['Apple']}\") # get the value associated with index 'Apple'\n",
    "print(f\"Annual Revenue of Meta: ${annual_report.get('Meta')}\") # another way to get data associated with an index\n",
    "\n",
    "# print(f\"Annual revenue of Nvidia: ${annual_report['Nvidia']}\") # This will give error because there is no index Nvidia\n",
    "# alternative is to use .get() which handles error properly\n",
    "\n",
    "print(f\"Annual revenue of Nvidia: ${annual_report.get('Nvidia')}\")\n",
    "\n",
    "print(f\"Annual revenue of Samsung: ${annual_report.loc['Samsung']}\") # another method to get associated with key\n",
    "\n",
    "print(f\"Annual revenue of Alphabet and Dell: \\n{annual_report.loc[['Alphabet', 'Dell Technlogoies']]}\")"
   ]
  },
  {
   "cell_type": "markdown",
   "metadata": {},
   "source": [
    "We can select elements by their position or order. `.iloc[]` method is used\n"
   ]
  },
  {
   "cell_type": "code",
   "execution_count": 123,
   "metadata": {},
   "outputs": [
    {
     "name": "stdout",
     "output_type": "stream",
     "text": [
      "First data in the series: 200734\n",
      "Last data in the series: 84893\n",
      "Data at first, 5 and last index: \n",
      "Apple     274515\n",
      "Huawei    129184\n",
      "Sony       84893\n",
      "Name: Annual Revenue, dtype: int64\n"
     ]
    }
   ],
   "source": [
    "print(f\"First data in the series: {annual_report.iloc[1]}\")\n",
    "print(f\"Last data in the series: {annual_report.iloc[-1]}\")\n",
    "print(f\"Data at first, 5 and last index: \\n{annual_report.iloc[[0, 5, -1]]}\")"
   ]
  },
  {
   "cell_type": "markdown",
   "metadata": {},
   "source": [
    "A series can be converted back to a dictionary using `to_dict()` method\n"
   ]
  },
  {
   "cell_type": "code",
   "execution_count": 124,
   "metadata": {},
   "outputs": [
    {
     "name": "stdout",
     "output_type": "stream",
     "text": [
      "Dictionary version of the series: {'Apple': 274515, 'Samsung': 200734, 'Alphabet': 182257, 'Foxconn': 181945, 'Microsoft': 143015, 'Huawei': 129184, 'Dell Technlogoies': 92224, 'Meta': 85965, 'Sony': 84893}\n"
     ]
    }
   ],
   "source": [
    "print(f\"Dictionary version of the series: {annual_report.to_dict()}\")"
   ]
  },
  {
   "cell_type": "markdown",
   "metadata": {},
   "source": [
    "The `isna()` function is used to detect missing, NA or null values\n"
   ]
  },
  {
   "cell_type": "code",
   "execution_count": 125,
   "metadata": {},
   "outputs": [
    {
     "name": "stdout",
     "output_type": "stream",
     "text": [
      "Missing values in series: Apple                False\n",
      "Samsung              False\n",
      "Alphabet             False\n",
      "Foxconn              False\n",
      "Microsoft            False\n",
      "Huawei               False\n",
      "Dell Technlogoies    False\n",
      "Meta                 False\n",
      "Sony                 False\n",
      "Name: Annual Revenue, dtype: bool\n"
     ]
    }
   ],
   "source": [
    "print(f\"Missing values in series: {pd.isna(annual_report)}\")"
   ]
  },
  {
   "cell_type": "markdown",
   "metadata": {},
   "source": [
    "To check if the values is not null or NA or missing, you can use `notna()`\n"
   ]
  },
  {
   "cell_type": "code",
   "execution_count": 126,
   "metadata": {},
   "outputs": [
    {
     "name": "stdout",
     "output_type": "stream",
     "text": [
      "Non-null values in the series: Apple                True\n",
      "Samsung              True\n",
      "Alphabet             True\n",
      "Foxconn              True\n",
      "Microsoft            True\n",
      "Huawei               True\n",
      "Dell Technlogoies    True\n",
      "Meta                 True\n",
      "Sony                 True\n",
      "Name: Annual Revenue, dtype: bool\n"
     ]
    }
   ],
   "source": [
    "print(f\"Non-null values in the series: {pd.notna(annual_report)}\")"
   ]
  },
  {
   "cell_type": "markdown",
   "metadata": {},
   "source": [
    "Series contain a lot of useful attributes and methods to interact with them. The most common methods are `.head()` [shows top 5 rows of the series] and `.tail()` [show bottom 5 of the series]\n"
   ]
  },
  {
   "cell_type": "code",
   "execution_count": 128,
   "metadata": {},
   "outputs": [
    {
     "name": "stdout",
     "output_type": "stream",
     "text": [
      "Top five rows of the annual report\n"
     ]
    },
    {
     "data": {
      "text/plain": [
       "Apple        274515\n",
       "Samsung      200734\n",
       "Alphabet     182257\n",
       "Foxconn      181945\n",
       "Microsoft    143015\n",
       "Name: Annual Revenue, dtype: int64"
      ]
     },
     "execution_count": 128,
     "metadata": {},
     "output_type": "execute_result"
    }
   ],
   "source": [
    "print(\"Top five rows of the annual report\")\n",
    "annual_report.head()"
   ]
  },
  {
   "cell_type": "code",
   "execution_count": 129,
   "metadata": {},
   "outputs": [
    {
     "name": "stdout",
     "output_type": "stream",
     "text": [
      "Bottom five rows of the annual report\n"
     ]
    },
    {
     "data": {
      "text/plain": [
       "Microsoft            143015\n",
       "Huawei               129184\n",
       "Dell Technlogoies     92224\n",
       "Meta                  85965\n",
       "Sony                  84893\n",
       "Name: Annual Revenue, dtype: int64"
      ]
     },
     "execution_count": 129,
     "metadata": {},
     "output_type": "execute_result"
    }
   ],
   "source": [
    "print(\"Bottom five rows of the annual report\")\n",
    "annual_report.tail()"
   ]
  },
  {
   "cell_type": "markdown",
   "metadata": {},
   "source": [
    "Once a series is constructed, we can access all the attributes separately. The main are:\n",
    "\n",
    "<ul>\n",
    "    <li>\n",
    "        .values (data of the series)\n",
    "    </li>\n",
    "    <li>\n",
    "        .index (index of the series)\n",
    "    </li>\n",
    "    <li>\n",
    "        .name (name of the series)\n",
    "    </li>\n",
    "    <li>\n",
    "        .dtype (type assigned)\n",
    "    </li>\n",
    "    <li>\n",
    "        .size (number of elements)\n",
    "    </li>\n",
    "</ul>\n"
   ]
  },
  {
   "cell_type": "code",
   "execution_count": 134,
   "metadata": {},
   "outputs": [
    {
     "name": "stdout",
     "output_type": "stream",
     "text": [
      "Values of the annual report series: \n",
      "[274515 200734 182257 181945 143015 129184  92224  85965  84893]\n",
      "\n",
      "Indexes of the annual report series: \n",
      "Index(['Apple', 'Samsung', 'Alphabet', 'Foxconn', 'Microsoft', 'Huawei',\n",
      "       'Dell Technlogoies', 'Meta', 'Sony'],\n",
      "      dtype='object')\n",
      "\n",
      "Name of the series: Annual Revenue\n",
      "Type of the values of the series: int64\n",
      "Number of elements in the series: 9\n"
     ]
    }
   ],
   "source": [
    "print(f\"Values of the annual report series: \\n{annual_report.values}\")\n",
    "\n",
    "print(f\"\\nIndexes of the annual report series: \\n{annual_report.index}\")\n",
    "\n",
    "print(f\"\\nName of the series: {annual_report.name}\")\n",
    "\n",
    "print(f\"Type of the values of the series: {annual_report.dtype}\")\n",
    "print(f\"Number of elements in the series: {annual_report.size}\")"
   ]
  },
  {
   "cell_type": "markdown",
   "metadata": {},
   "source": [
    "The `.describe()` gives a quick summary of statistics of the series\n"
   ]
  },
  {
   "cell_type": "code",
   "execution_count": 135,
   "metadata": {},
   "outputs": [
    {
     "name": "stdout",
     "output_type": "stream",
     "text": [
      "Quick summary of the annual report series\n"
     ]
    },
    {
     "data": {
      "text/plain": [
       "count         9.000000\n",
       "mean     152748.000000\n",
       "std       63472.949406\n",
       "min       84893.000000\n",
       "25%       92224.000000\n",
       "50%      143015.000000\n",
       "75%      182257.000000\n",
       "max      274515.000000\n",
       "Name: Annual Revenue, dtype: float64"
      ]
     },
     "execution_count": 135,
     "metadata": {},
     "output_type": "execute_result"
    }
   ],
   "source": [
    "print(f\"Quick summary of the annual report series\")\n",
    "annual_report.describe()"
   ]
  },
  {
   "cell_type": "markdown",
   "metadata": {},
   "source": [
    "There are also other statisitical methods\n"
   ]
  },
  {
   "cell_type": "code",
   "execution_count": 139,
   "metadata": {},
   "outputs": [
    {
     "name": "stdout",
     "output_type": "stream",
     "text": [
      "Median of the annual report series: 143015.0\n",
      "\n",
      "Standard deviation of the annual report series: 63472.94940563263\n",
      "\n",
      "Variance of the annual report series: 4028815306.25\n",
      "\n",
      "Maximum value of the annual report series:274515\n"
     ]
    }
   ],
   "source": [
    "print(f\"Median of the annual report series: {annual_report.median()}\")\n",
    "\n",
    "print(f\"\\nStandard deviation of the annual report series: {annual_report.std()}\")\n",
    "\n",
    "print(f\"\\nVariance of the annual report series: {annual_report.var()}\")\n",
    "\n",
    "print(f\"\\nMaximum value of the annual report series:{annual_report.max()}\")"
   ]
  },
  {
   "cell_type": "markdown",
   "metadata": {},
   "source": [
    "Sorting series is extermely simple. You can sort series by values (`.sort_values()`) or by index (`.sort_index()`). By default, it is sorted in ascending order.\n"
   ]
  },
  {
   "cell_type": "code",
   "execution_count": 147,
   "metadata": {},
   "outputs": [
    {
     "name": "stdout",
     "output_type": "stream",
     "text": [
      "Annual report series: \n",
      "Apple                274515\n",
      "Samsung              200734\n",
      "Alphabet             182257\n",
      "Foxconn              181945\n",
      "Microsoft            143015\n",
      "Huawei               129184\n",
      "Dell Technlogoies     92224\n",
      "Meta                  85965\n",
      "Sony                  84893\n",
      "Name: Annual Revenue, dtype: int64\n",
      "\n",
      "Series sorted by values: \n",
      "Sony                  84893\n",
      "Meta                  85965\n",
      "Dell Technlogoies     92224\n",
      "Huawei               129184\n",
      "Microsoft            143015\n",
      "Name: Annual Revenue, dtype: int64\n",
      "\n",
      "Series sorted by index in descending order: \n",
      "Sony          84893\n",
      "Samsung      200734\n",
      "Microsoft    143015\n",
      "Meta          85965\n",
      "Huawei       129184\n",
      "Name: Annual Revenue, dtype: int64\n"
     ]
    }
   ],
   "source": [
    "print(f\"Annual report series: \\n{annual_report}\")\n",
    "\n",
    "print(f\"\\nSeries sorted by values: \\n{annual_report.sort_values().head()}\")\n",
    "\n",
    "print(f\"\\nSeries sorted by index in descending order: \\n{annual_report.sort_index(ascending=False).head()}\")"
   ]
  },
  {
   "cell_type": "markdown",
   "metadata": {},
   "source": [
    "An important concept in data science and pandas is immutabilty. `In data science, we dont want to mutate or change things as it is harder to keep track of these changes`\n",
    "<br/><br/>\n",
    "By default, when you sort series or perform other mutating operations, you dont `actually` sort the series itself,. There's a `new` series returned. The underlying series is not changed\n",
    "\n",
    "<br/> <br/>\n",
    "If you do want to mutate your series, you must pass `inplace=True` attribute\n"
   ]
  },
  {
   "cell_type": "code",
   "execution_count": 165,
   "metadata": {},
   "outputs": [
    {
     "name": "stdout",
     "output_type": "stream",
     "text": [
      "Sorted series: \n",
      "Sony                  84893\n",
      "Meta                  85965\n",
      "Dell Technlogoies     92224\n",
      "Huawei               129184\n",
      "Microsoft            143015\n",
      "Foxconn              181945\n",
      "Alphabet             182257\n",
      "Samsung              200734\n",
      "Apple                274515\n",
      "Name: Annual Revenue, dtype: int64\n",
      "\n",
      "\n",
      "Original series after sorting: \n",
      "Sony                  84893\n",
      "Meta                  85965\n",
      "Dell Technlogoies     92224\n",
      "Huawei               129184\n",
      "Microsoft            143015\n",
      "Foxconn              181945\n",
      "Alphabet             182257\n",
      "Samsung              200734\n",
      "Apple                274515\n",
      "Name: Annual Revenue, dtype: int64\n",
      "\n",
      "-----------------------------------------\n",
      "\n",
      "Original series after sorting: \n",
      "Sony                  84893\n",
      "Meta                  85965\n",
      "Dell Technlogoies     92224\n",
      "Huawei               129184\n",
      "Microsoft            143015\n",
      "Foxconn              181945\n",
      "Alphabet             182257\n",
      "Samsung              200734\n",
      "Apple                274515\n",
      "Name: Annual Revenue, dtype: int64\n"
     ]
    }
   ],
   "source": [
    "print(f\"Sorted series: \\n{annual_report.sort_values()}\")\n",
    "\n",
    "print(f\"\\n\\nOriginal series after sorting: \\n{annual_report}\" ) # the original series is not mutated\n",
    "\n",
    "print('\\n-----------------------------------------\\n')\n",
    "\n",
    "annual_report.sort_values(inplace=True)\n",
    "\n",
    "print(f\"Original series after sorting: \\n{annual_report}\" ) # the original series is also mutated"
   ]
  },
  {
   "cell_type": "markdown",
   "metadata": {},
   "source": [
    "Modifying a series is something that we hardly want to do as it is not recommended. However, it is still possible by changing values, adding or removing elements\n"
   ]
  },
  {
   "cell_type": "code",
   "execution_count": 8,
   "metadata": {},
   "outputs": [
    {
     "name": "stdout",
     "output_type": "stream",
     "text": [
      "Annual report\n"
     ]
    },
    {
     "data": {
      "text/plain": [
       "Apple                274515\n",
       "Samsung              200734\n",
       "Alphabet             182257\n",
       "Foxconn              181945\n",
       "Microsoft            320120\n",
       "Huawei               129184\n",
       "Dell Technlogoies     92224\n",
       "Meta                  85965\n",
       "Sony                  84893\n",
       "Name: Annual Revenue, dtype: int64"
      ]
     },
     "metadata": {},
     "output_type": "display_data"
    },
    {
     "name": "stdout",
     "output_type": "stream",
     "text": [
      "Changing value of Microsoft\n",
      "\n",
      "Annual report after modification\n"
     ]
    },
    {
     "data": {
      "text/plain": [
       "Apple                274515\n",
       "Samsung              200734\n",
       "Alphabet             182257\n",
       "Foxconn              181945\n",
       "Microsoft            320120\n",
       "Huawei               129184\n",
       "Dell Technlogoies     92224\n",
       "Meta                  85965\n",
       "Sony                  84893\n",
       "Name: Annual Revenue, dtype: int64"
      ]
     },
     "metadata": {},
     "output_type": "display_data"
    },
    {
     "name": "stdout",
     "output_type": "stream",
     "text": [
      "Annual report after deleting Sony data and adding Nvidia data\n"
     ]
    },
    {
     "data": {
      "text/plain": [
       "Apple                274515\n",
       "Samsung              200734\n",
       "Alphabet             182257\n",
       "Foxconn              181945\n",
       "Microsoft            320120\n",
       "Huawei               129184\n",
       "Dell Technlogoies     92224\n",
       "Meta                  85965\n",
       "Nvidia               292564\n",
       "Name: Annual Revenue, dtype: int64"
      ]
     },
     "metadata": {},
     "output_type": "display_data"
    }
   ],
   "source": [
    "print(\"Annual report\")\n",
    "display(annual_report)\n",
    "\n",
    "print(\"Changing value of Microsoft\\n\")\n",
    "\n",
    "annual_report['Microsoft'] = 320_120\n",
    "print(\"Annual report after modification\")\n",
    "display(annual_report)\n",
    "\n",
    "annual_report['Nvidia'] = 292_564\n",
    "del annual_report['Sony']\n",
    "\n",
    "print(\"Annual report after deleting Sony data and adding Nvidia data\")\n",
    "display(annual_report)"
   ]
  },
  {
   "cell_type": "markdown",
   "metadata": {},
   "source": [
    "We can concatenate two series using the `concat()` method\n",
    "<br/> <br/>\n",
    "`series.concat([DF1/Series1, DF2/Series2])`\n"
   ]
  },
  {
   "cell_type": "code",
   "execution_count": 11,
   "metadata": {},
   "outputs": [
    {
     "data": {
      "text/plain": [
       "Apple                274515\n",
       "Samsung              200734\n",
       "Alphabet             182257\n",
       "Foxconn              181945\n",
       "Microsoft            320120\n",
       "Huawei               129184\n",
       "Dell Technlogoies     92224\n",
       "Meta                  85965\n",
       "Nvidia               292564\n",
       "Tesla                150635\n",
       "Google               265530\n",
       "dtype: int64"
      ]
     },
     "metadata": {},
     "output_type": "display_data"
    }
   ],
   "source": [
    "new_data = pd.Series([150_635, 265_530], index= ['Tesla', 'Google'])\n",
    "\n",
    "new_annual_report = pd.concat([annual_report, new_data])\n",
    "display(new_annual_report)"
   ]
  },
  {
   "cell_type": "markdown",
   "metadata": {},
   "source": [
    "### Filtering and Conditional in Series\n"
   ]
  },
  {
   "cell_type": "markdown",
   "metadata": {},
   "source": [
    "`Conditional selection` is like filtering or querying. It allow us to answer the following types of questions\n",
    "\n",
    "<ul>\n",
    "    <li>\n",
    "        What companies made more than $x\n",
    "    </li>\n",
    "    <li>\n",
    "        What companies made less than $x\n",
    "    </li>\n",
    "    <li>\n",
    "        What companies made between $x and $y\n",
    "    </li>\n",
    "</ul>\n"
   ]
  },
  {
   "cell_type": "markdown",
   "metadata": {},
   "source": [
    "`Boolean array` is a way of selecting in which we pass the full index of the series and indicate what elements we want to select and which one we want to skip. We indicate this by passing Boolean values; True or False\n"
   ]
  },
  {
   "cell_type": "code",
   "execution_count": 23,
   "metadata": {},
   "outputs": [
    {
     "data": {
      "text/plain": [
       "Apple                274515\n",
       "Samsung              200734\n",
       "Alphabet             182257\n",
       "Foxconn              181945\n",
       "Microsoft            143015\n",
       "Huawei               129184\n",
       "Dell Technlogoies     92224\n",
       "Meta                  85965\n",
       "Sony                  84893\n",
       "Name: Annual Revenue, dtype: int64"
      ]
     },
     "metadata": {},
     "output_type": "display_data"
    },
    {
     "name": "stdout",
     "output_type": "stream",
     "text": [
      "\n",
      "Selecting certain companies: \n",
      "\n"
     ]
    },
    {
     "data": {
      "text/plain": [
       "Apple                274515\n",
       "Alphabet             182257\n",
       "Microsoft            143015\n",
       "Dell Technlogoies     92224\n",
       "Meta                  85965\n",
       "Name: Annual Revenue, dtype: int64"
      ]
     },
     "metadata": {},
     "output_type": "display_data"
    }
   ],
   "source": [
    "display(annual_report)\n",
    "print(f\"\\nSelecting certain companies: \\n\")\n",
    "display(annual_report.loc[[\n",
    "    True,      # Apple\n",
    "    False,     # Samsung\n",
    "    True,      # Alphabet\n",
    "    False,     # Foxconn\n",
    "    True,      # Microsoft\n",
    "    False,     # Huawei\n",
    "    True,      # Dell\n",
    "    True,      # Meta\n",
    "    False,     # Sony\n",
    "]])"
   ]
  },
  {
   "cell_type": "markdown",
   "metadata": {},
   "source": [
    "Only those values are selected for which we have True value\n"
   ]
  },
  {
   "cell_type": "markdown",
   "metadata": {},
   "source": [
    "Moreover, series accept comparison operators (boolean operator) like `>` `<` etc\n"
   ]
  },
  {
   "cell_type": "code",
   "execution_count": 26,
   "metadata": {},
   "outputs": [
    {
     "name": "stdout",
     "output_type": "stream",
     "text": [
      "Companies which revenue exceeds the $200 billion dollar \n",
      "Apple      274515\n",
      "Samsung    200734\n",
      "Name: Annual Revenue, dtype: int64\n"
     ]
    }
   ],
   "source": [
    "print(f\"Companies which revenue exceeds the $200 billion dollar \\n{annual_report.loc[annual_report>200_000]}\")"
   ]
  },
  {
   "cell_type": "code",
   "execution_count": 27,
   "metadata": {},
   "outputs": [
    {
     "name": "stdout",
     "output_type": "stream",
     "text": [
      "Companies with revenue less than $90,000 million dollar \n",
      "Meta    85965\n",
      "Sony    84893\n",
      "Name: Annual Revenue, dtype: int64\n"
     ]
    }
   ],
   "source": [
    "print(f\"Companies with revenue less than $90,000 million dollar \\n{annual_report.loc[annual_report < 90_000]}\")"
   ]
  },
  {
   "cell_type": "code",
   "execution_count": 29,
   "metadata": {},
   "outputs": [
    {
     "name": "stdout",
     "output_type": "stream",
     "text": [
      "Companies with revenue above average: \n",
      "Apple       274515\n",
      "Samsung     200734\n",
      "Alphabet    182257\n",
      "Foxconn     181945\n",
      "Name: Annual Revenue, dtype: int64\n"
     ]
    }
   ],
   "source": [
    "print(f\"Companies with revenue above average: \\n{annual_report.loc[annual_report > annual_report.mean()]}\")"
   ]
  },
  {
   "cell_type": "code",
   "execution_count": 42,
   "metadata": {},
   "outputs": [
    {
     "name": "stdout",
     "output_type": "stream",
     "text": [
      "Companies with revenue greater than $200 billion or less than $90000 million \n"
     ]
    },
    {
     "data": {
      "text/plain": [
       "Apple       274515\n",
       "Samsung     200734\n",
       "Alphabet    182257\n",
       "Foxconn     181945\n",
       "Meta         85965\n",
       "Sony         84893\n",
       "Name: Annual Revenue, dtype: int64"
      ]
     },
     "execution_count": 42,
     "metadata": {},
     "output_type": "execute_result"
    }
   ],
   "source": [
    "print(f\"Companies with revenue greater than $200 billion or less than $90000 million \")\n",
    "annual_report.loc[(annual_report < 90_000) | (annual_report > 150_000)]"
   ]
  },
  {
   "cell_type": "code",
   "execution_count": 43,
   "metadata": {},
   "outputs": [
    {
     "name": "stdout",
     "output_type": "stream",
     "text": [
      "Companies with revenue not less than $150 billion: Apple       274515\n",
      "Samsung     200734\n",
      "Alphabet    182257\n",
      "Foxconn     181945\n",
      "Name: Annual Revenue, dtype: int64\n"
     ]
    }
   ],
   "source": [
    "print(f\"Companies with revenue not less than $150 billion: {annual_report.loc[~(annual_report<150_000)]}\")"
   ]
  },
  {
   "cell_type": "code",
   "execution_count": 46,
   "metadata": {},
   "outputs": [
    {
     "name": "stdout",
     "output_type": "stream",
     "text": [
      "Companies with most and least revenue:\n",
      "Apple    274515\n",
      "Sony      84893\n",
      "Name: Annual Revenue, dtype: int64\n"
     ]
    }
   ],
   "source": [
    "print(f\"Companies with most and least revenue:\\n{annual_report.loc[(annual_report == annual_report.max()) | (annual_report == annual_report.min())]}\")"
   ]
  },
  {
   "cell_type": "code",
   "execution_count": 49,
   "metadata": {},
   "outputs": [
    {
     "name": "stdout",
     "output_type": "stream",
     "text": [
      "Count of each value\n"
     ]
    },
    {
     "data": {
      "text/plain": [
       "Annual Revenue\n",
       "274515    1\n",
       "200734    1\n",
       "182257    1\n",
       "181945    1\n",
       "143015    1\n",
       "129184    1\n",
       "92224     1\n",
       "85965     1\n",
       "84893     1\n",
       "Name: count, dtype: int64"
      ]
     },
     "execution_count": 49,
     "metadata": {},
     "output_type": "execute_result"
    }
   ],
   "source": [
    "print(\"Count of each value\")\n",
    "annual_report.value_counts()"
   ]
  },
  {
   "cell_type": "markdown",
   "metadata": {},
   "source": [
    "We can perform arithmetic process on series (just like we do in numpy known as vectorization)\n"
   ]
  },
  {
   "cell_type": "code",
   "execution_count": 52,
   "metadata": {},
   "outputs": [
    {
     "name": "stdout",
     "output_type": "stream",
     "text": [
      "Revenue of companies in billion\n"
     ]
    },
    {
     "data": {
      "text/plain": [
       "Apple                274.515\n",
       "Samsung              200.734\n",
       "Alphabet             182.257\n",
       "Foxconn              181.945\n",
       "Microsoft            143.015\n",
       "Huawei               129.184\n",
       "Dell Technlogoies     92.224\n",
       "Meta                  85.965\n",
       "Sony                  84.893\n",
       "Name: Annual Revenue, dtype: float64"
      ]
     },
     "metadata": {},
     "output_type": "display_data"
    }
   ],
   "source": [
    "revenue_in_billions = annual_report / 1000 # arithmetic operations as it is scalar. Same in numpy. Applicable in pandas because pandas is built on top of numpy\n",
    "\n",
    "print(f\"Revenue of companies in billion\")\n",
    "display(revenue_in_billions)"
   ]
  },
  {
   "cell_type": "code",
   "execution_count": 53,
   "metadata": {},
   "outputs": [
    {
     "name": "stdout",
     "output_type": "stream",
     "text": [
      "Subtracting 10 million taxes\n"
     ]
    },
    {
     "data": {
      "text/plain": [
       "Apple                264.515\n",
       "Samsung              190.734\n",
       "Alphabet             172.257\n",
       "Foxconn              171.945\n",
       "Microsoft            133.015\n",
       "Huawei               119.184\n",
       "Dell Technlogoies     82.224\n",
       "Meta                  75.965\n",
       "Sony                  74.893\n",
       "Name: Annual Revenue, dtype: float64"
      ]
     },
     "execution_count": 53,
     "metadata": {},
     "output_type": "execute_result"
    }
   ],
   "source": [
    "print(f\"Subtracting 10 million taxes\")\n",
    "revenue_in_billions - 10"
   ]
  },
  {
   "cell_type": "code",
   "execution_count": 54,
   "metadata": {},
   "outputs": [
    {
     "name": "stdout",
     "output_type": "stream",
     "text": [
      "Annual revenue in dollars Apple                274515000000\n",
      "Samsung              200734000000\n",
      "Alphabet             182257000000\n",
      "Foxconn              181945000000\n",
      "Microsoft            143015000000\n",
      "Huawei               129184000000\n",
      "Dell Technlogoies     92224000000\n",
      "Meta                  85965000000\n",
      "Sony                  84893000000\n",
      "Name: Annual Revenue, dtype: int64\n"
     ]
    }
   ],
   "source": [
    "print(f\"Annual revenue in dollars {annual_report * 1_000_000}\")"
   ]
  },
  {
   "cell_type": "code",
   "execution_count": 56,
   "metadata": {},
   "outputs": [],
   "source": [
    "recession_impact = pd.Series([\n",
    "    0.91, 0.93, 0.98, 0.97, 0.99, 0.89, 0.87,\n",
    "    0.82, 0.93], index=companies)"
   ]
  },
  {
   "cell_type": "markdown",
   "metadata": {},
   "source": [
    "We can add, subtract, divide or multiply series with same data length\n"
   ]
  },
  {
   "cell_type": "code",
   "execution_count": 59,
   "metadata": {},
   "outputs": [
    {
     "name": "stdout",
     "output_type": "stream",
     "text": [
      "Revenue after recession hit Apple                249808.65\n",
      "Samsung              186682.62\n",
      "Alphabet             178611.86\n",
      "Foxconn              176486.65\n",
      "Microsoft            141584.85\n",
      "Huawei               114973.76\n",
      "Dell Technlogoies     80234.88\n",
      "Meta                  70491.30\n",
      "Sony                  78950.49\n",
      "dtype: float64\n",
      "\n"
     ]
    }
   ],
   "source": [
    "print(f\"Revenue after recession hit {annual_report * recession_impact}\\n\")"
   ]
  },
  {
   "cell_type": "code",
   "execution_count": null,
   "metadata": {},
   "outputs": [],
   "source": []
  }
 ],
 "metadata": {
  "kernelspec": {
   "display_name": "Python 3",
   "language": "python",
   "name": "python3"
  },
  "language_info": {
   "codemirror_mode": {
    "name": "ipython",
    "version": 3
   },
   "file_extension": ".py",
   "mimetype": "text/x-python",
   "name": "python",
   "nbconvert_exporter": "python",
   "pygments_lexer": "ipython3",
   "version": "3.12.4"
  }
 },
 "nbformat": 4,
 "nbformat_minor": 2
}
