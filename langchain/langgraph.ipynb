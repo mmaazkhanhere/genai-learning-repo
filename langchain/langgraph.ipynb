{
  "nbformat": 4,
  "nbformat_minor": 0,
  "metadata": {
    "colab": {
      "provenance": [],
      "toc_visible": true
    },
    "kernelspec": {
      "name": "python3",
      "display_name": "Python 3"
    },
    "language_info": {
      "name": "python"
    }
  },
  "cells": [
    {
      "cell_type": "code",
      "source": [
        "!pip install  --quiet langgraph\n",
        "!pip install  --quiet langchain-google-genai\n",
        "!pip install --quiet langchain\n",
        "!pip install --quiet tavily-python langchain_community"
      ],
      "metadata": {
        "colab": {
          "base_uri": "https://localhost:8080/"
        },
        "id": "WSdl2jaT35mN",
        "outputId": "a537ebb1-b75b-4a99-bcac-9eff9e65acfa"
      },
      "execution_count": 1,
      "outputs": [
        {
          "output_type": "stream",
          "name": "stdout",
          "text": [
            "\u001b[2K   \u001b[90m━━━━━━━━━━━━━━━━━━━━━━━━━━━━━━━━━━━━━━━━\u001b[0m \u001b[32m119.3/119.3 kB\u001b[0m \u001b[31m2.4 MB/s\u001b[0m eta \u001b[36m0:00:00\u001b[0m\n",
            "\u001b[2K   \u001b[90m━━━━━━━━━━━━━━━━━━━━━━━━━━━━━━━━━━━━━━━━\u001b[0m \u001b[32m408.7/408.7 kB\u001b[0m \u001b[31m8.2 MB/s\u001b[0m eta \u001b[36m0:00:00\u001b[0m\n",
            "\u001b[2K   \u001b[90m━━━━━━━━━━━━━━━━━━━━━━━━━━━━━━━━━━━━━━━━\u001b[0m \u001b[32m41.8/41.8 kB\u001b[0m \u001b[31m1.2 MB/s\u001b[0m eta \u001b[36m0:00:00\u001b[0m\n",
            "\u001b[2K   \u001b[90m━━━━━━━━━━━━━━━━━━━━━━━━━━━━━━━━━━━━━━━━\u001b[0m \u001b[32m2.4/2.4 MB\u001b[0m \u001b[31m25.5 MB/s\u001b[0m eta \u001b[36m0:00:00\u001b[0m\n",
            "\u001b[2K   \u001b[90m━━━━━━━━━━━━━━━━━━━━━━━━━━━━━━━━━━━━━━━━\u001b[0m \u001b[32m1.0/1.0 MB\u001b[0m \u001b[31m34.9 MB/s\u001b[0m eta \u001b[36m0:00:00\u001b[0m\n",
            "\u001b[2K   \u001b[90m━━━━━━━━━━━━━━━━━━━━━━━━━━━━━━━━━━━━━━━━\u001b[0m \u001b[32m3.1/3.1 MB\u001b[0m \u001b[31m47.7 MB/s\u001b[0m eta \u001b[36m0:00:00\u001b[0m\n",
            "\u001b[2K   \u001b[90m━━━━━━━━━━━━━━━━━━━━━━━━━━━━━━━━━━━━━━━━\u001b[0m \u001b[32m1.2/1.2 MB\u001b[0m \u001b[31m39.8 MB/s\u001b[0m eta \u001b[36m0:00:00\u001b[0m\n",
            "\u001b[2K   \u001b[90m━━━━━━━━━━━━━━━━━━━━━━━━━━━━━━━━━━━━━━━━\u001b[0m \u001b[32m49.5/49.5 kB\u001b[0m \u001b[31m2.8 MB/s\u001b[0m eta \u001b[36m0:00:00\u001b[0m\n",
            "\u001b[?25h"
          ]
        }
      ]
    },
    {
      "cell_type": "code",
      "source": [
        "import textwrap\n",
        "import json\n",
        "import random\n",
        "from pprint import pprint\n",
        "import operator\n",
        "\n",
        "from typing import Annotated, Literal, Sequence\n",
        "from typing_extensions import TypedDict\n",
        "from dataclasses import dataclass\n",
        "from pydantic import BaseModel, field_validator, ValidationError\n",
        "\n",
        "from langchain_google_genai import ChatGoogleGenerativeAI\n",
        "from langchain_core.messages import AIMessage, HumanMessage, ToolMessage, SystemMessage, BaseMessage\n",
        "from langchain_community.tools.tavily_search import TavilySearchResults\n",
        "from langchain_core.tools import tool\n",
        "\n",
        "from langgraph.graph import StateGraph, START, END, MessagesState\n",
        "from langgraph.graph.state import CompiledStateGraph\n",
        "from langgraph.graph.message import add_messages\n",
        "from langgraph.prebuilt import tools_condition\n",
        "from langgraph.prebuilt import ToolNode\n",
        "\n",
        "from IPython.display import Image, display, Markdown\n",
        "\n",
        "from google.colab import userdata\n",
        "import getpass\n",
        "import os"
      ],
      "metadata": {
        "id": "eZ_59ENG3-SO"
      },
      "execution_count": 2,
      "outputs": []
    },
    {
      "cell_type": "markdown",
      "source": [
        "# Basics"
      ],
      "metadata": {
        "id": "L7183YiWwyb-"
      }
    },
    {
      "cell_type": "code",
      "source": [
        "# getting api key for gemini\n",
        "google_api_key = userdata.get('GOOGLE_API_KEY')\n",
        "\n",
        "#initiating a gemini model\n",
        "gemini: ChatGoogleGenerativeAI = ChatGoogleGenerativeAI(model=\"gemini-1.5-flash\",\n",
        "                                                        api_key=google_api_key)\n",
        "\n",
        "# prompt message that has role of human message (a message from human)\n",
        "prompt: HumanMessage = HumanMessage(content='Hello! What is your name?', name='Gemini')\n",
        "\n",
        "messages = [prompt]\n",
        "\n",
        "#checking gemini response\n",
        "gemini.invoke(messages).content"
      ],
      "metadata": {
        "colab": {
          "base_uri": "https://localhost:8080/",
          "height": 35
        },
        "id": "FIh6uWpcwzFk",
        "outputId": "fd3aa04f-e843-4a26-95ce-cf4156aa0455"
      },
      "execution_count": null,
      "outputs": [
        {
          "output_type": "execute_result",
          "data": {
            "text/plain": [
              "\"I don't have a name. I am a large language model, and I am not a person. 😊 \\n\""
            ],
            "application/vnd.google.colaboratory.intrinsic+json": {
              "type": "string"
            }
          },
          "metadata": {},
          "execution_count": 13
        }
      ]
    },
    {
      "cell_type": "markdown",
      "source": [
        "We can also integrate tools with LangGraph agents and Langchain applications. Here, we will use Tavily Search"
      ],
      "metadata": {
        "id": "GW2ZC2wKyRIG"
      }
    },
    {
      "cell_type": "code",
      "source": [
        "# tavily_api_key = userdata.get('TAVILY_API_KEY')\n",
        "\n",
        "# # initializing a tavily search instance. We will get top 3 results in response\n",
        "# tavily_search: TavilySearchResults = TavilySearchResults(max_results=3)\n",
        "\n",
        "# # invoking the tavily search instance\n",
        "# tavily_search.invoke('What is temperature in Peshawar?')"
      ],
      "metadata": {
        "id": "0_4P4Zz2xv21"
      },
      "execution_count": null,
      "outputs": []
    },
    {
      "cell_type": "markdown",
      "source": [
        "# Hello LangGraph"
      ],
      "metadata": {
        "id": "nCyrm0o8zqk0"
      }
    },
    {
      "cell_type": "markdown",
      "source": [
        "LangGraph is a library for building stateful, multy-actor applications with LLM's, used to create agent and multi-agent workflows"
      ],
      "metadata": {
        "id": "aOfKVYuRzs3l"
      }
    },
    {
      "cell_type": "markdown",
      "source": [
        "Key features include\n",
        "\n",
        "\n",
        "*   Implement loops and condition on your agent workflow\n",
        "*   Automatically save state after each step in the graph. Pause and resume graph execution at any point\n",
        "*   Interupt graph execution to get approval of human, or allow human to edit next action planned by agent\n",
        "*   Stream output\n",
        "\n"
      ],
      "metadata": {
        "id": "Tw0BiviUz222"
      }
    },
    {
      "cell_type": "markdown",
      "source": [
        "Key components include\n",
        "*  **State** (input schema for all nodes and edges in the graph)\n",
        "*  **Nodes** (python functions that encodes logic of agents. Recieves current State as input, perform some computation and return an updated State)\n",
        "* **Edges** (python function that determine which Node to be executed based on the current State)\n",
        "  * *Normal Edge* (Go directly from one node to the next)\n",
        "  * *Conditional Edge* (Calls a function to determine which nodes to go to next)\n",
        "\n",
        "\n"
      ],
      "metadata": {
        "id": "EphCIxux0Tzs"
      }
    },
    {
      "cell_type": "markdown",
      "source": [
        "Below is an example of simple LangGraph agent that reflects the basic steps required to create an agent and define a workflow for the agent"
      ],
      "metadata": {
        "id": "1rfZi6C9I97o"
      }
    },
    {
      "cell_type": "code",
      "source": [
        "#Defining state\n",
        "class LearningState(TypedDict):\n",
        "    prompt: str"
      ],
      "metadata": {
        "id": "AsROymSyLqWO"
      },
      "execution_count": null,
      "outputs": []
    },
    {
      "cell_type": "code",
      "source": [
        "\n",
        "def node_1(state: LearningState) -> LearningState:\n",
        "    print(\"---Node 1 State---\", state)\n",
        "    return {\"prompt\": state['prompt'] +\" I am\"}\n",
        "\n",
        "def node_2(state: LearningState) -> LearningState:\n",
        "    print(\"---Node 2 State---\", state)\n",
        "    return {\"prompt\": state['prompt'] +\" happy!\"}"
      ],
      "metadata": {
        "id": "rL3hID8KLkdh"
      },
      "execution_count": null,
      "outputs": []
    },
    {
      "cell_type": "code",
      "source": [
        "#initializing graph instance\n",
        "builder: StateGraph = StateGraph(state_schema=LearningState)\n",
        "\n",
        "#adding nodes to the graph\n",
        "builder.add_node(\"node_1\", node_1)\n",
        "builder.add_node(\"node_2\", node_2)\n",
        "\n",
        "#adding edges to the graph\n",
        "builder.add_edge(START, \"node_1\")\n",
        "builder.add_edge(\"node_1\", \"node_2\")\n",
        "builder.add_edge(\"node_2\", END)\n",
        "\n",
        "#compulting the graph\n",
        "graph: CompiledStateGraph = builder.compile()\n",
        "\n",
        "#displaying the agent graph\n",
        "display(Image(graph.get_graph().draw_mermaid_png()))"
      ],
      "metadata": {
        "colab": {
          "base_uri": "https://localhost:8080/",
          "height": 350
        },
        "id": "Wiyes8AdJIX_",
        "outputId": "9e48e190-c2f7-4424-e797-2ed0924fa29b"
      },
      "execution_count": null,
      "outputs": [
        {
          "output_type": "display_data",
          "data": {
            "image/jpeg": "[encoded data removed]",
            "text/plain": [
              "<IPython.core.display.Image object>"
            ]
          },
          "metadata": {}
        }
      ]
    },
    {
      "cell_type": "code",
      "source": [
        "graph.invoke({\"prompt\" : \"Hi\"})"
      ],
      "metadata": {
        "colab": {
          "base_uri": "https://localhost:8080/"
        },
        "id": "yUtfabuvMT1t",
        "outputId": "ec7c23e1-f7c2-44c4-f8b2-ff5ba5e7b884"
      },
      "execution_count": null,
      "outputs": [
        {
          "output_type": "stream",
          "name": "stdout",
          "text": [
            "---Node 1 State--- {'prompt': 'Hi'}\n",
            "---Node 2 State--- {'prompt': 'Hi I am'}\n"
          ]
        },
        {
          "output_type": "execute_result",
          "data": {
            "text/plain": [
              "{'prompt': 'Hi I am happy!'}"
            ]
          },
          "metadata": {},
          "execution_count": 14
        }
      ]
    },
    {
      "cell_type": "markdown",
      "source": [
        "## Simple Agents"
      ],
      "metadata": {
        "id": "z118KFMxLPyw"
      }
    },
    {
      "cell_type": "markdown",
      "source": [
        "The above code showcase how the state flows through the agent and how it changes. Now, we will integrate LLM with the agent and see how it fares"
      ],
      "metadata": {
        "id": "C7UOXydugJIz"
      }
    },
    {
      "cell_type": "code",
      "source": [
        "google_api_key = userdata.get('GOOGLE_API_KEY')\n",
        "\n",
        "llm: ChatGoogleGenerativeAI = ChatGoogleGenerativeAI(model=\"gemini-1.5-flash\",\n",
        "                                                    api_key=google_api_key)\n",
        "\n",
        "class State(TypedDict):\n",
        "    prompt: str\n",
        "    response: str\n",
        "\n",
        "# creating node\n",
        "def node_1(state: State):\n",
        "    print(\"---Node 1 State---\", state)\n",
        "    prompt = state[\"prompt\"]\n",
        "    print(f\"Prompt: {prompt}\")\n",
        "\n",
        "    ai_msg: AIMessage = llm.invoke(prompt)\n",
        "    return {\"prompt\": prompt, \"response\": ai_msg.content}\n",
        "\n",
        "# building graph\n",
        "builder: StateGraph = StateGraph(state_schema=State)\n",
        "\n",
        "# defining nodes of the graph\n",
        "builder.add_node(\"node_1\", node_1)\n",
        "\n",
        "# adding edges to the graph\n",
        "builder.add_edge(START, \"node_1\")\n",
        "builder.add_edge(\"node_1\", END)\n",
        "\n",
        "# compiling graph\n",
        "graph: CompiledStateGraph = builder.compile()\n"
      ],
      "metadata": {
        "id": "akIdSXRfMv5N"
      },
      "execution_count": null,
      "outputs": []
    },
    {
      "cell_type": "code",
      "source": [
        "# Viewing graph\n",
        "display(Image(graph.get_graph().draw_mermaid_png()))"
      ],
      "metadata": {
        "colab": {
          "base_uri": "https://localhost:8080/",
          "height": 251
        },
        "id": "bVDbQZU2iiAh",
        "outputId": "c3657a2b-e4b1-4eec-e242-da202d043eb1"
      },
      "execution_count": null,
      "outputs": [
        {
          "output_type": "display_data",
          "data": {
            "image/jpeg": "[encoded data removed]",
            "text/plain": [
              "<IPython.core.display.Image object>"
            ]
          },
          "metadata": {}
        }
      ]
    },
    {
      "cell_type": "code",
      "source": [
        "result = graph.invoke({\"prompt\" : \"Motivate me to learn LangGraph\"})"
      ],
      "metadata": {
        "colab": {
          "base_uri": "https://localhost:8080/"
        },
        "id": "ezH_ZtPdg_GU",
        "outputId": "5dc1c191-f085-45b9-901d-40852d1d141c"
      },
      "execution_count": null,
      "outputs": [
        {
          "output_type": "stream",
          "name": "stdout",
          "text": [
            "---Node 1 State--- {'prompt': 'Motivate me to learn LangGraph'}\n",
            "Prompt: Motivate me to learn LangGraph\n"
          ]
        }
      ]
    },
    {
      "cell_type": "code",
      "source": [
        "def to_markdown(text)-> Markdown:\n",
        "    text : str = text.replace(\"•\", \"  *\")\n",
        "    return Markdown(textwrap.indent(text, \"> \", predicate=lambda _: True))"
      ],
      "metadata": {
        "id": "7N8XQSubhCVD"
      },
      "execution_count": null,
      "outputs": []
    },
    {
      "cell_type": "code",
      "source": [
        "to_markdown(result['response'])"
      ],
      "metadata": {
        "colab": {
          "base_uri": "https://localhost:8080/",
          "height": 569
        },
        "id": "uVvMYvN4r6DK",
        "outputId": "ee6e6c31-5b81-49f3-f6e1-a58404e896f8"
      },
      "execution_count": null,
      "outputs": [
        {
          "output_type": "execute_result",
          "data": {
            "text/plain": [
              "<IPython.core.display.Markdown object>"
            ],
            "text/markdown": "> ## Why Learn LangGraph? \n> \n> LangGraph isn't just another language model; it's a **powerful tool** that can unlock exciting possibilities in various domains. Here's why learning it could be a game-changer for you:\n> \n> **1.  Unlocking the Power of Knowledge Graphs:** \n> \n> * LangGraph lets you **build and query knowledge graphs** with ease.  Imagine a world where you can ask complex questions and get precise, insightful answers from a structured knowledge base.\n> * This opens up opportunities in **natural language processing, data analysis, and semantic search**, making it a valuable skill for anyone working with large datasets.\n> \n> **2.  Boosting Your NLP Capabilities:**\n> \n> * LangGraph is built on **Transformers**, the cutting-edge technology driving advancements in NLP.  This means you'll gain hands-on experience with the most powerful language models available.\n> * Learn how to **fine-tune LangGraph for specific tasks**, making it a personalized tool for your unique needs.\n> \n> **3.  Expanding Your Career Horizons:**\n> \n> *  Knowledge graph technology is rapidly gaining traction, making LangGraph a **highly sought-after skill** in various industries.\n> * From **research and development** to **business intelligence and data analysis**, LangGraph opens doors to exciting career opportunities.\n> \n> **4.  Empowering Your Creativity:**\n> \n> * LangGraph is **highly customizable**, allowing you to tailor it to your specific creative projects. \n> *  Imagine building **interactive stories, personalized chatbots, or innovative search engines** with the power of knowledge graphs at your fingertips.\n> \n> **5.  Joining a Vibrant Community:**\n> \n> * LangGraph has a **growing community of developers and researchers** who are constantly pushing the boundaries of what's possible.\n> *  You'll have access to **valuable resources, tutorials, and support** as you embark on your learning journey.\n> \n> **Think of LangGraph as a key that unlocks a treasure trove of knowledge and potential.  It's not just about learning a new technology; it's about empowering yourself to build a better future with the power of language and data.**\n> \n> **So, what are you waiting for? Dive into the world of LangGraph and discover what it can do for you!** \n"
          },
          "metadata": {},
          "execution_count": 15
        }
      ]
    },
    {
      "cell_type": "markdown",
      "source": [
        "### Simple Examples"
      ],
      "metadata": {
        "id": "2LvSN5bFLJOw"
      }
    },
    {
      "cell_type": "markdown",
      "source": [
        "Let's try something else"
      ],
      "metadata": {
        "id": "r-XRfOgcjj-C"
      }
    },
    {
      "cell_type": "code",
      "source": [
        "class State(TypedDict):\n",
        "    text: str\n",
        "    response: str\n",
        "\n",
        "def tone_analyzer(state: State):\n",
        "    print(\"---Node 1 State---\", state)\n",
        "    prompt = state[\"text\"]\n",
        "    system_message = f\"Analyze the tone of this customer feedback: '{prompt}' and respond with whether it’s positive, neutral, or negative.\"\n",
        "\n",
        "    ai_msg: AIMessage = llm.invoke(system_message)\n",
        "    print(f\"Respose of tone analyzer node: {ai_msg.content}\")\n",
        "\n",
        "    return {\"text\": prompt, \"response\": ai_msg.content}\n",
        "\n",
        "def summarize_feedback(state):\n",
        "    print(\"---Node 2 State---\", state)\n",
        "    prompt = state[\"text\"]\n",
        "    print(f\"Prompt: {prompt}\")\n",
        "    system_message = f\"Provide a concise summary of the main points in this customer feedback: '{prompt}'\"\n",
        "\n",
        "    ai_msg: AIMessage = llm.invoke(system_message)\n",
        "    print(f\"Respose of summarizer node: {ai_msg.content}\")\n",
        "\n",
        "    return {\"text\": prompt, \"response\": ai_msg.content}\n",
        "\n",
        "# Building graph for the customer feedback analysis\n",
        "\n",
        "builder: StateGraph = StateGraph(state_schema=State)\n",
        "\n",
        "builder.add_node(\"tone_analyzer\", tone_analyzer)\n",
        "builder.add_node(\"summarize_feedback\", summarize_feedback)\n",
        "\n",
        "# Define the flow\n",
        "builder.add_edge(START, \"tone_analyzer\")\n",
        "builder.add_edge(\"tone_analyzer\", \"summarize_feedback\")\n",
        "builder.add_edge(\"summarize_feedback\", END)\n",
        "\n",
        "# Compile and visualize the graph\n",
        "graph: CompiledStateGraph = builder.compile()\n",
        "display(Image(graph.get_graph().draw_mermaid_png()))\n",
        "\n",
        "# Test the graph with an example feedback\n",
        "result = graph.invoke({\"text\": \"The support team was very helpful, but I faced a delay in receiving my product. It arrived with minor damage.\"})\n",
        "\n",
        "to_markdown(result['response'])\n"
      ],
      "metadata": {
        "colab": {
          "base_uri": "https://localhost:8080/",
          "height": 676
        },
        "id": "OamDJYnyjABS",
        "outputId": "c2b7b773-2f86-4087-bf29-e1ffc4355efc"
      },
      "execution_count": null,
      "outputs": [
        {
          "output_type": "display_data",
          "data": {
            "image/jpeg": "[encoded data removed]",
            "text/plain": [
              "<IPython.core.display.Image object>"
            ]
          },
          "metadata": {}
        },
        {
          "output_type": "stream",
          "name": "stdout",
          "text": [
            "---Node 1 State--- {'text': 'The support team was very helpful, but I faced a delay in receiving my product. It arrived with minor damage.'}\n",
            "Respose of tone analyzer node: The tone of the feedback is **mixed**. \n",
            "\n",
            "Here's a breakdown:\n",
            "\n",
            "* **Positive:** \"The support team was very helpful\" indicates a positive experience with customer service.\n",
            "* **Negative:** \"I faced a delay in receiving my product\" and \"It arrived with minor damage\" both express dissatisfaction with the product delivery and condition. \n",
            "\n",
            "**Overall:** While the customer acknowledges the helpfulness of the support team, the negative aspects of the delayed and damaged product outweigh the positive, making the overall sentiment leaning towards negative. \n",
            "\n",
            "---Node 2 State--- {'text': 'The support team was very helpful, but I faced a delay in receiving my product. It arrived with minor damage.', 'response': 'The tone of the feedback is **mixed**. \\n\\nHere\\'s a breakdown:\\n\\n* **Positive:** \"The support team was very helpful\" indicates a positive experience with customer service.\\n* **Negative:** \"I faced a delay in receiving my product\" and \"It arrived with minor damage\" both express dissatisfaction with the product delivery and condition. \\n\\n**Overall:** While the customer acknowledges the helpfulness of the support team, the negative aspects of the delayed and damaged product outweigh the positive, making the overall sentiment leaning towards negative. \\n'}\n",
            "Prompt: The support team was very helpful, but I faced a delay in receiving my product. It arrived with minor damage.\n",
            "Respose of summarizer node: The customer received helpful support but experienced a delayed delivery and minor damage to their product. \n",
            "\n"
          ]
        },
        {
          "output_type": "execute_result",
          "data": {
            "text/plain": [
              "<IPython.core.display.Markdown object>"
            ],
            "text/markdown": "> The customer received helpful support but experienced a delayed delivery and minor damage to their product. \n"
          },
          "metadata": {},
          "execution_count": 54
        }
      ]
    },
    {
      "cell_type": "markdown",
      "source": [
        "Lets try another usecase"
      ],
      "metadata": {
        "id": "m2el6vg0oYgO"
      }
    },
    {
      "cell_type": "code",
      "source": [
        "class State(TypedDict):\n",
        "    email: str\n",
        "    response: str\n",
        "\n",
        "def analyze_customer_email(state: State):\n",
        "    print(\"---Node 1 State---\", state)\n",
        "    email = state[\"email\"]\n",
        "\n",
        "    system_message = f\"Analyze the tone and the urgence of the user email {email}\"\n",
        "    ai_msg: AIMessage = llm.invoke(system_message)\n",
        "    print(f\"Respose of email analyzer node: {ai_msg.content}\")\n",
        "    return {\"email\": email, \"response\": ai_msg.content}\n",
        "\n",
        "def email_response(state: State):\n",
        "  print(\"---Node 2 State ---\", state)\n",
        "  analysis = state['email']\n",
        "\n",
        "  system_message = f\"Based on the tone and urgence of the user email {analysis}, write a response email\"\n",
        "  ai_msg: AIMessage = llm.invoke(system_message)\n",
        "  print(f\"Respose of email response node: {ai_msg.content}\")\n",
        "\n",
        "  return {\"email\": analysis, \"response\": ai_msg.content}\n",
        "\n",
        "builder: StateGraph = StateGraph(state_schema=State)\n",
        "\n",
        "builder.add_node(\"analyze_customer_email\", analyze_customer_email)\n",
        "builder.add_node(\"email_response\", email_response)\n",
        "\n",
        "builder.add_edge(START, \"analyze_customer_email\")\n",
        "builder.add_edge('analyze_customer_email', 'email_response')\n",
        "builder.add_edge('email_response', END)\n",
        "\n",
        "graph: CompiledStateGraph = builder.compile()\n",
        "display(Image(graph.get_graph().draw_mermaid_png()))\n",
        "\n",
        "user_email = \"\"\"Dear Customer Support Team,\n",
        "\n",
        "I hope this message finds you well. I am reaching out regarding my recent order, #[Order12345], placed on October 20th. I was initially informed that it would arrive within 5-7 business days, but it has now been over two weeks with no updates on the delivery status.\n",
        "\n",
        "Additionally, when I attempted to track the package, I found that the tracking link provided was invalid. I understand there may be delays, but I would appreciate it if you could provide an update on the expected arrival date.\n",
        "\n",
        "If possible, please advise if there’s anything further I need to do on my end. I would also appreciate information on any potential compensation or discounts for the delay.\n",
        "\n",
        "Thank you very much for your assistance, and I look forward to hearing back soon.\n",
        "\n",
        "Best regards,\n",
        "Emily Thompson\"\"\"\n",
        "\n",
        "result = graph.invoke({\"email\": user_email})\n",
        "\n",
        "to_markdown(result['response'])\n"
      ],
      "metadata": {
        "colab": {
          "base_uri": "https://localhost:8080/",
          "height": 1000
        },
        "id": "miz4wsdBmAZv",
        "outputId": "48a312f4-189c-4bc4-c1da-c4eb8833fcd1"
      },
      "execution_count": null,
      "outputs": [
        {
          "output_type": "display_data",
          "data": {
            "image/jpeg": "[encoded data removed]",
            "text/plain": [
              "<IPython.core.display.Image object>"
            ]
          },
          "metadata": {}
        },
        {
          "output_type": "stream",
          "name": "stdout",
          "text": [
            "---Node 1 State--- {'email': 'Dear Customer Support Team,\\n\\nI hope this message finds you well. I am reaching out regarding my recent order, #[Order12345], placed on October 20th. I was initially informed that it would arrive within 5-7 business days, but it has now been over two weeks with no updates on the delivery status.\\n\\nAdditionally, when I attempted to track the package, I found that the tracking link provided was invalid. I understand there may be delays, but I would appreciate it if you could provide an update on the expected arrival date.\\n\\nIf possible, please advise if there’s anything further I need to do on my end. I would also appreciate information on any potential compensation or discounts for the delay.\\n\\nThank you very much for your assistance, and I look forward to hearing back soon.\\n\\nBest regards,\\nEmily Thompson'}\n",
            "Respose of email analyzer node: The tone of the email is **polite but firm**. Emily starts by expressing hope the support team is well, but quickly moves to the issue at hand. She clearly states her concern about the delayed order and the invalid tracking link, but avoids accusatory language. \n",
            "\n",
            "The email conveys a sense of **urgency** through several points:\n",
            "\n",
            "* **\"It has now been over two weeks\"**: This highlights the significant delay beyond the initial timeframe.\n",
            "* **\"I would appreciate it if you could provide an update on the expected arrival date\"**: This directly requests a solution and emphasizes the need for information.\n",
            "* **\"If possible, please advise if there’s anything further I need to do on my end\"**: This shows a willingness to cooperate but also implies frustration with the lack of communication.\n",
            "* **\"I would also appreciate information on any potential compensation or discounts for the delay\"**: This demonstrates a willingness to accept a potential delay, but expresses expectation for some form of recompense for the inconvenience.\n",
            "* **\"I look forward to hearing back soon\"**: This reinforces the urgency for a prompt response.\n",
            "\n",
            "Overall, Emily's email effectively communicates her concern and need for action while maintaining a professional and respectful tone. It balances politeness with a clear sense of urgency, making it likely to get the attention of the customer support team. \n",
            "\n",
            "---Node 2 State --- {'email': 'Dear Customer Support Team,\\n\\nI hope this message finds you well. I am reaching out regarding my recent order, #[Order12345], placed on October 20th. I was initially informed that it would arrive within 5-7 business days, but it has now been over two weeks with no updates on the delivery status.\\n\\nAdditionally, when I attempted to track the package, I found that the tracking link provided was invalid. I understand there may be delays, but I would appreciate it if you could provide an update on the expected arrival date.\\n\\nIf possible, please advise if there’s anything further I need to do on my end. I would also appreciate information on any potential compensation or discounts for the delay.\\n\\nThank you very much for your assistance, and I look forward to hearing back soon.\\n\\nBest regards,\\nEmily Thompson', 'response': 'The tone of the email is **polite but firm**. Emily starts by expressing hope the support team is well, but quickly moves to the issue at hand. She clearly states her concern about the delayed order and the invalid tracking link, but avoids accusatory language. \\n\\nThe email conveys a sense of **urgency** through several points:\\n\\n* **\"It has now been over two weeks\"**: This highlights the significant delay beyond the initial timeframe.\\n* **\"I would appreciate it if you could provide an update on the expected arrival date\"**: This directly requests a solution and emphasizes the need for information.\\n* **\"If possible, please advise if there’s anything further I need to do on my end\"**: This shows a willingness to cooperate but also implies frustration with the lack of communication.\\n* **\"I would also appreciate information on any potential compensation or discounts for the delay\"**: This demonstrates a willingness to accept a potential delay, but expresses expectation for some form of recompense for the inconvenience.\\n* **\"I look forward to hearing back soon\"**: This reinforces the urgency for a prompt response.\\n\\nOverall, Emily\\'s email effectively communicates her concern and need for action while maintaining a professional and respectful tone. It balances politeness with a clear sense of urgency, making it likely to get the attention of the customer support team. \\n'}\n",
            "Respose of email response node: Subject: Re: Order #[Order12345] - Delivery Update\n",
            "\n",
            "Dear Emily,\n",
            "\n",
            "Thank you for reaching out and we apologize for the delay in your order #[Order12345]. We understand your frustration with the lack of updates and the invalid tracking link. \n",
            "\n",
            "We are currently experiencing some shipping delays due to [brief explanation of reason for delay, e.g.,  high order volume, weather conditions, etc.]. We are working diligently to get your order delivered as soon as possible.\n",
            "\n",
            "We have investigated your order and can confirm that it is [current status of order, e.g.,  being processed, in transit, etc.]. We expect it to arrive on [estimated delivery date]. \n",
            "\n",
            "We will keep you updated on its progress and send you a new tracking link as soon as it becomes available.\n",
            "\n",
            "We sincerely apologize for the inconvenience this has caused. As a gesture of goodwill, we would like to offer you [compensation or discount, e.g., a 10% discount on your next order, free shipping on your next order, etc.].\n",
            "\n",
            "Please don't hesitate to contact us if you have any further questions.\n",
            "\n",
            "Sincerely,\n",
            "\n",
            "The [Company Name] Customer Support Team \n",
            "\n"
          ]
        },
        {
          "output_type": "execute_result",
          "data": {
            "text/plain": [
              "<IPython.core.display.Markdown object>"
            ],
            "text/markdown": "> Subject: Re: Order #[Order12345] - Delivery Update\n> \n> Dear Emily,\n> \n> Thank you for reaching out and we apologize for the delay in your order #[Order12345]. We understand your frustration with the lack of updates and the invalid tracking link. \n> \n> We are currently experiencing some shipping delays due to [brief explanation of reason for delay, e.g.,  high order volume, weather conditions, etc.]. We are working diligently to get your order delivered as soon as possible.\n> \n> We have investigated your order and can confirm that it is [current status of order, e.g.,  being processed, in transit, etc.]. We expect it to arrive on [estimated delivery date]. \n> \n> We will keep you updated on its progress and send you a new tracking link as soon as it becomes available.\n> \n> We sincerely apologize for the inconvenience this has caused. As a gesture of goodwill, we would like to offer you [compensation or discount, e.g., a 10% discount on your next order, free shipping on your next order, etc.].\n> \n> Please don't hesitate to contact us if you have any further questions.\n> \n> Sincerely,\n> \n> The [Company Name] Customer Support Team \n"
          },
          "metadata": {},
          "execution_count": 22
        }
      ]
    },
    {
      "cell_type": "code",
      "source": [
        "class State(TypedDict):\n",
        "    email: str\n",
        "    response: str\n",
        "\n",
        "def analyze_customer_email(state: State)->State:\n",
        "  print(\"---Node 1 State---\", state)\n",
        "  email = state[\"email\"]\n",
        "  prompt: str = f\"Analyze the tone and the urgence of the user email {email}\"\n",
        "  ai_response: AIMessage = llm.invoke(prompt)\n",
        "  print(f\"Respose of email analyzer node: {ai_response.content}\")\n",
        "  return {\"email\": email, \"response\": ai_response.content}\n",
        "\n",
        "\n",
        "def email_writer(state: State)->State:\n",
        "  print(\"---Node 2 State ---\", state)\n",
        "  email = state[\"email\"]\n",
        "  prompt: str = f\"Based on the tone and urgence of the user email {email}, write a response email\"\n",
        "  ai_response: AIMessage = llm.invoke(prompt)\n",
        "  return {\"email\": email, \"response\": ai_response.content}\n",
        "\n",
        "builder: StateGraph = StateGraph(state_schema=State)\n",
        "\n",
        "builder.add_node(\"analyze_customer_email\", analyze_customer_email)\n",
        "builder.add_node(\"email_writer\", email_writer)\n",
        "\n",
        "builder.add_edge(START, \"analyze_customer_email\")\n",
        "builder.add_edge(\"analyze_customer_email\", \"email_writer\")\n",
        "builder.add_edge(\"email_writer\", END)\n",
        "\n",
        "graph: CompiledStateGraph = builder.compile()\n",
        "display(Image(graph.get_graph().draw_mermaid_png()))\n",
        "\n",
        "user_email = \"\"\"Dear Customer Support Team,\n",
        "I hope this message finds you well. I am reaching out regarding my recent order, #[Order12345], placed on October 20th. I was initially informed that it would arrive within 5-7 business days, but it has now been over two weeks with no updates on the delivery status.\n",
        "Additionally, when I attempted to track the package, I found that the tracking link provided was invalid. I understand there may be delays, but I would appreciate it if you could provide an update on the expected arrival date.\n",
        "If possible, please advise if there’s anything further I need to do on my end. I would also appreciate information on any potential compensation or discounts for the delay.\n",
        "Thank you very much for your assistance, and I look forward to hearing back soon.\n",
        "Best regards,\n",
        "Emily Thompson\n",
        "\"\"\"\n",
        "result = graph.invoke({\"email\": user_email})\n",
        "\n",
        "to_markdown(result['response'])"
      ],
      "metadata": {
        "colab": {
          "base_uri": "https://localhost:8080/",
          "height": 811
        },
        "id": "ma912ygBqjBc",
        "outputId": "d1b07ba0-8df3-4c9f-cb4f-005900891e1c"
      },
      "execution_count": null,
      "outputs": [
        {
          "output_type": "display_data",
          "data": {
            "image/jpeg": "[encoded data removed]",
            "text/plain": [
              "<IPython.core.display.Image object>"
            ]
          },
          "metadata": {}
        },
        {
          "output_type": "stream",
          "name": "stdout",
          "text": [
            "---Node 1 State--- {'email': 'Dear Customer Support Team,\\nI hope this message finds you well. I am reaching out regarding my recent order, #[Order12345], placed on October 20th. I was initially informed that it would arrive within 5-7 business days, but it has now been over two weeks with no updates on the delivery status.\\nAdditionally, when I attempted to track the package, I found that the tracking link provided was invalid. I understand there may be delays, but I would appreciate it if you could provide an update on the expected arrival date.\\nIf possible, please advise if there’s anything further I need to do on my end. I would also appreciate information on any potential compensation or discounts for the delay.\\nThank you very much for your assistance, and I look forward to hearing back soon.\\nBest regards,\\nEmily Thompson\\n'}\n",
            "Respose of email analyzer node: The tone of the email is **polite but firm**. The user starts by expressing hope that the customer support team is well, which sets a friendly tone. However, they quickly move on to state their issue clearly and concisely. \n",
            "\n",
            "The user emphasizes the **urgency** of the situation by highlighting the discrepancy between the promised delivery time and the actual delay. They also mention the invalid tracking link, which further adds to their frustration and concern. \n",
            "\n",
            "While the user acknowledges potential delays, they clearly express their need for an update and information about the expected arrival date. They also politely inquire about potential compensation or discounts, showing that they are not only concerned about the delay but also about potential inconveniences it may have caused.\n",
            "\n",
            "Overall, the email strikes a balance between being **professional and assertive**. It conveys the user's frustration with the delay while maintaining a respectful tone, making it more likely to receive a prompt and positive response from the customer support team. \n",
            "\n",
            "---Node 2 State --- {'email': 'Dear Customer Support Team,\\nI hope this message finds you well. I am reaching out regarding my recent order, #[Order12345], placed on October 20th. I was initially informed that it would arrive within 5-7 business days, but it has now been over two weeks with no updates on the delivery status.\\nAdditionally, when I attempted to track the package, I found that the tracking link provided was invalid. I understand there may be delays, but I would appreciate it if you could provide an update on the expected arrival date.\\nIf possible, please advise if there’s anything further I need to do on my end. I would also appreciate information on any potential compensation or discounts for the delay.\\nThank you very much for your assistance, and I look forward to hearing back soon.\\nBest regards,\\nEmily Thompson\\n', 'response': \"The tone of the email is **polite but firm**. The user starts by expressing hope that the customer support team is well, which sets a friendly tone. However, they quickly move on to state their issue clearly and concisely. \\n\\nThe user emphasizes the **urgency** of the situation by highlighting the discrepancy between the promised delivery time and the actual delay. They also mention the invalid tracking link, which further adds to their frustration and concern. \\n\\nWhile the user acknowledges potential delays, they clearly express their need for an update and information about the expected arrival date. They also politely inquire about potential compensation or discounts, showing that they are not only concerned about the delay but also about potential inconveniences it may have caused.\\n\\nOverall, the email strikes a balance between being **professional and assertive**. It conveys the user's frustration with the delay while maintaining a respectful tone, making it more likely to receive a prompt and positive response from the customer support team. \\n\"}\n"
          ]
        },
        {
          "output_type": "execute_result",
          "data": {
            "text/plain": [
              "<IPython.core.display.Markdown object>"
            ],
            "text/markdown": "> Subject: Re: Order #[Order12345] - Delivery Update\n> \n> Dear Emily,\n> \n> Thank you for contacting us regarding your order #[Order12345]. We apologize for the delay in your order and the inconvenience this has caused. \n> \n> We understand your frustration, and we are actively investigating the reason for the delay. The tracking link you were provided was indeed invalid, and we are working to rectify that. \n> \n> We will provide you with an updated estimated delivery date as soon as possible. We are also looking into the possibility of offering compensation for the delay and will keep you informed of any options available. \n> \n> In the meantime, please rest assured that we are doing everything we can to get your order to you as quickly as possible.\n> \n> Thank you for your patience and understanding.\n> \n> Sincerely,\n> \n> [Your Company Name] Customer Support Team \n"
          },
          "metadata": {},
          "execution_count": 23
        }
      ]
    },
    {
      "cell_type": "markdown",
      "source": [
        "## Conditional Edges"
      ],
      "metadata": {
        "id": "ItSHf58JK7Pi"
      }
    },
    {
      "cell_type": "markdown",
      "source": [
        "By default, the new value return by each node will override the prior state value. We will create hard-coded logic to demonstrate the workflow in conditional edges"
      ],
      "metadata": {
        "id": "OriZPYxdQpBu"
      }
    },
    {
      "cell_type": "code",
      "source": [
        "class State(TypedDict):\n",
        "    user_input: str\n",
        "\n",
        "def node_1(state: State) -> State:\n",
        "    print(\"---Node 1 State---\", state)\n",
        "    return {\"user_input\": state[\"user_input\"] + \"I am\"}\n",
        "\n",
        "def node_2(state: State) -> State:\n",
        "  print(\"---Node 2 State---\", state)\n",
        "  return {\"user_input\": state[\"user_input\"] + \" happy!\"}\n",
        "\n",
        "def node_3(state: State) -> State:\n",
        "  print(\"---Node 3 State---\", state)\n",
        "  return {\"user_input\": state[\"user_input\"] + \" I sad\"}\n",
        "\n",
        "number: float = random.random()\n",
        "\n",
        "def decide_node(state:State) ->Literal[\"node_2\", \"node_3\"]:\n",
        "  user_input = state[\"user_input\"]\n",
        "\n",
        "  if random.random() < 0.5:\n",
        "    return \"node_2\"\n",
        "  else:\n",
        "    return \"node_3\"\n",
        "\n",
        "builder: StateGraph = StateGraph(state_schema=State)\n",
        "\n",
        "builder.add_node(\"node_1\", node_1)\n",
        "builder.add_node(\"node_2\", node_2)\n",
        "builder.add_node(\"node_3\", node_3)\n",
        "\n",
        "builder.add_edge(START, \"node_1\")\n",
        "builder.add_conditional_edges(\"node_1\", decide_node)\n",
        "builder.add_edge(\"node_2\", END)\n",
        "builder.add_edge(\"node_3\", END)\n",
        "\n",
        "graph: CompiledStateGraph = builder.compile()\n",
        "\n",
        "display(Image(graph.get_graph().draw_mermaid_png()))"
      ],
      "metadata": {
        "colab": {
          "base_uri": "https://localhost:8080/",
          "height": 350
        },
        "id": "39nsr431szys",
        "outputId": "dd6f8777-644d-42f1-a30a-972cc344e62a"
      },
      "execution_count": null,
      "outputs": [
        {
          "output_type": "display_data",
          "data": {
            "image/jpeg": "[encoded data removed]",
            "text/plain": [
              "<IPython.core.display.Image object>"
            ]
          },
          "metadata": {}
        }
      ]
    },
    {
      "cell_type": "code",
      "source": [
        "for i in range(3):\n",
        "  result = graph.invoke({\"user_input\": \"Hi! I am Maaz \"})\n",
        "  print(result)\n",
        "  print(\"\")"
      ],
      "metadata": {
        "colab": {
          "base_uri": "https://localhost:8080/"
        },
        "id": "DjHdYH3LLbAw",
        "outputId": "6802d1dc-15b8-4c72-baba-3215aa70e4f9"
      },
      "execution_count": null,
      "outputs": [
        {
          "output_type": "stream",
          "name": "stdout",
          "text": [
            "---Node 1 State--- {'user_input': 'Hi! I am Maaz '}\n",
            "---Node 2 State--- {'user_input': 'Hi! I am Maaz I am'}\n",
            "{'user_input': 'Hi! I am Maaz I am happy!'}\n",
            "\n",
            "---Node 1 State--- {'user_input': 'Hi! I am Maaz '}\n",
            "---Node 3 State--- {'user_input': 'Hi! I am Maaz I am'}\n",
            "{'user_input': 'Hi! I am Maaz I am I sad'}\n",
            "\n",
            "---Node 1 State--- {'user_input': 'Hi! I am Maaz '}\n",
            "---Node 3 State--- {'user_input': 'Hi! I am Maaz I am'}\n",
            "{'user_input': 'Hi! I am Maaz I am I sad'}\n",
            "\n"
          ]
        }
      ]
    },
    {
      "cell_type": "markdown",
      "source": [
        "### Examples"
      ],
      "metadata": {
        "id": "MVfHNM07Sb4q"
      }
    },
    {
      "cell_type": "code",
      "source": [
        "class State(TypedDict):\n",
        "    query: str\n",
        "    response: str\n",
        "\n",
        "def analyzer_customer_query(state: State)->State:\n",
        "  print(\"---Node 1 State---\", state)\n",
        "  query = state[\"query\"]\n",
        "  prompt = f\"\"\"Analyze the user query {query} and select which department to route the query to.\n",
        "                  The departments are technical support and product return.\n",
        "              \"\"\"\n",
        "  ai_response = llm.invoke(prompt)\n",
        "  department = ai_response.content.strip().lower()\n",
        "  print(f\"Response of customer query analyzer node: {department}\")\n",
        "  return {\"query\": query, \"response\": department}\n",
        "\n",
        "def technical_support_response(state: State)->State:\n",
        "  print(\"---Node 2 State ---\", state)\n",
        "  query = state[\"query\"]\n",
        "  prompt = f\"You are a technical support agent. Introduce yourself and respond to the user query {query} appropriately\"\n",
        "  ai_response = llm.invoke(prompt)\n",
        "  return {\"query\": query, \"response\": ai_response.content}\n",
        "\n",
        "def product_return_helper(state: State)->State:\n",
        "  print(\"---Node 2 State ---\", state)\n",
        "  query = state[\"query\"]\n",
        "  prompt = f\"You are a product return guiding agent. Introduce yourself and respond to the user query {query} appropriately\"\n",
        "  ai_response = llm.invoke(prompt)\n",
        "  return {\"query\": query, \"response\": ai_response.content}\n",
        "\n",
        "def deciding_node(state: State) -> Literal[\"technical_support_response\", \"product_return_helper\"]:\n",
        "  print(\"---Node 3 State ---\", state)\n",
        "  department = state[\"response\"]\n",
        "  print(f\"Deciding node based on department: {department}\")\n",
        "  if department == \"technical support\":\n",
        "      return \"technical_support_response\"\n",
        "  else:\n",
        "      return \"product_return_helper\"\n",
        "\n",
        "builder: StateGraph = StateGraph(state_schema=State)\n",
        "\n",
        "builder.add_node(\"analyzer_customer_query\", analyzer_customer_query)\n",
        "builder.add_node(\"technical_support_response\", technical_support_response)\n",
        "builder.add_node(\"product_return_helper\", product_return_helper)\n",
        "\n",
        "builder.add_edge(START, \"analyzer_customer_query\")\n",
        "builder.add_conditional_edges(\"analyzer_customer_query\", deciding_node)\n",
        "builder.add_edge(\"technical_support_response\", END)\n",
        "builder.add_edge(\"product_return_helper\", END)\n",
        "\n",
        "graph: CompiledStateGraph = builder.compile()\n",
        "\n",
        "display(Image(graph.get_graph().draw_mermaid_png()))"
      ],
      "metadata": {
        "id": "1cNR-gCJSDlr",
        "colab": {
          "base_uri": "https://localhost:8080/",
          "height": 350
        },
        "outputId": "5d4271c7-3229-4f39-f1e5-332cb94e0aba"
      },
      "execution_count": null,
      "outputs": [
        {
          "output_type": "display_data",
          "data": {
            "image/jpeg": "[encoded data removed]",
            "text/plain": [
              "<IPython.core.display.Image object>"
            ]
          },
          "metadata": {}
        }
      ]
    },
    {
      "cell_type": "code",
      "source": [
        "result = graph.invoke({\"query\": \"I want to return the laptop I bought\"})\n",
        "to_markdown(result['response'])"
      ],
      "metadata": {
        "colab": {
          "base_uri": "https://localhost:8080/",
          "height": 789
        },
        "id": "Wv2REepRyd1e",
        "outputId": "9df39250-08b9-4040-962e-3fece75fa481"
      },
      "execution_count": null,
      "outputs": [
        {
          "output_type": "stream",
          "name": "stdout",
          "text": [
            "---Node 1 State--- {'query': 'I want to return the laptop I bought'}\n",
            "Response of customer query analyzer node: ## analysis of user query:\n",
            "\n",
            "the user query \"i want to return the laptop i bought\" indicates a **product return request**. \n",
            "\n",
            "**reasoning:**\n",
            "\n",
            "* **\"i want to return...\"**: this phrase explicitly states the user's intent to return a product.\n",
            "* **\"...the laptop i bought\"**: this clarifies the specific product being returned. \n",
            "\n",
            "**department routing:**\n",
            "\n",
            "based on the analysis, the query should be routed to the **product return** department.\n",
            "\n",
            "**why not technical support?**\n",
            "\n",
            "while technical support may be involved in resolving issues with a product, the query doesn't indicate any technical problems. the user wants to return the product, which is a process handled by the product return department.\n",
            "---Node 3 State --- {'query': 'I want to return the laptop I bought', 'response': '## analysis of user query:\\n\\nthe user query \"i want to return the laptop i bought\" indicates a **product return request**. \\n\\n**reasoning:**\\n\\n* **\"i want to return...\"**: this phrase explicitly states the user\\'s intent to return a product.\\n* **\"...the laptop i bought\"**: this clarifies the specific product being returned. \\n\\n**department routing:**\\n\\nbased on the analysis, the query should be routed to the **product return** department.\\n\\n**why not technical support?**\\n\\nwhile technical support may be involved in resolving issues with a product, the query doesn\\'t indicate any technical problems. the user wants to return the product, which is a process handled by the product return department.'}\n",
            "Deciding node based on department: ## analysis of user query:\n",
            "\n",
            "the user query \"i want to return the laptop i bought\" indicates a **product return request**. \n",
            "\n",
            "**reasoning:**\n",
            "\n",
            "* **\"i want to return...\"**: this phrase explicitly states the user's intent to return a product.\n",
            "* **\"...the laptop i bought\"**: this clarifies the specific product being returned. \n",
            "\n",
            "**department routing:**\n",
            "\n",
            "based on the analysis, the query should be routed to the **product return** department.\n",
            "\n",
            "**why not technical support?**\n",
            "\n",
            "while technical support may be involved in resolving issues with a product, the query doesn't indicate any technical problems. the user wants to return the product, which is a process handled by the product return department.\n",
            "---Node 2 State --- {'query': 'I want to return the laptop I bought', 'response': '## analysis of user query:\\n\\nthe user query \"i want to return the laptop i bought\" indicates a **product return request**. \\n\\n**reasoning:**\\n\\n* **\"i want to return...\"**: this phrase explicitly states the user\\'s intent to return a product.\\n* **\"...the laptop i bought\"**: this clarifies the specific product being returned. \\n\\n**department routing:**\\n\\nbased on the analysis, the query should be routed to the **product return** department.\\n\\n**why not technical support?**\\n\\nwhile technical support may be involved in resolving issues with a product, the query doesn\\'t indicate any technical problems. the user wants to return the product, which is a process handled by the product return department.'}\n"
          ]
        },
        {
          "output_type": "execute_result",
          "data": {
            "text/plain": [
              "<IPython.core.display.Markdown object>"
            ],
            "text/markdown": "> Hello! I'm here to help you with your product return.  Can you tell me a bit more about the laptop you'd like to return?  For example,  \n> \n> * **Where did you purchase the laptop?** (Online, in-store, etc.)\n> * **When did you purchase the laptop?** (Date of purchase)\n> * **What is the make and model of the laptop?** (e.g., Dell XPS 13)\n> * **What is the reason for the return?** (Defective, wrong item, change of mind, etc.)\n> \n> Once I have this information, I can guide you through the return process and provide you with the necessary details. \n"
          },
          "metadata": {},
          "execution_count": 35
        }
      ]
    },
    {
      "cell_type": "code",
      "source": [
        "result = graph.invoke({\"query\": \"The printer is not responding. Can you help?\"})\n",
        "to_markdown(result['response'])"
      ],
      "metadata": {
        "colab": {
          "base_uri": "https://localhost:8080/",
          "height": 482
        },
        "id": "uZ5MUh6TyopM",
        "outputId": "14eacd09-5585-49ba-a01d-8daaeba742b6"
      },
      "execution_count": null,
      "outputs": [
        {
          "output_type": "stream",
          "name": "stdout",
          "text": [
            "---Node 1 State--- {'query': 'The printer is not responding. Can you help?'}\n",
            "Response of customer query analyzer node: the query \"the printer is not responding. can you help?\" should be routed to **technical support**. \n",
            "\n",
            "here's why:\n",
            "\n",
            "* **technical support** deals with issues related to the functionality and operation of products. a non-responsive printer indicates a technical problem.\n",
            "* **product return** is for situations where a product is faulty or defective and needs to be replaced. while a non-responsive printer could be a sign of a faulty product, it's more likely a technical issue that can be resolved through troubleshooting.\n",
            "---Node 3 State --- {'query': 'The printer is not responding. Can you help?', 'response': 'the query \"the printer is not responding. can you help?\" should be routed to **technical support**. \\n\\nhere\\'s why:\\n\\n* **technical support** deals with issues related to the functionality and operation of products. a non-responsive printer indicates a technical problem.\\n* **product return** is for situations where a product is faulty or defective and needs to be replaced. while a non-responsive printer could be a sign of a faulty product, it\\'s more likely a technical issue that can be resolved through troubleshooting.'}\n",
            "Deciding node based on department: the query \"the printer is not responding. can you help?\" should be routed to **technical support**. \n",
            "\n",
            "here's why:\n",
            "\n",
            "* **technical support** deals with issues related to the functionality and operation of products. a non-responsive printer indicates a technical problem.\n",
            "* **product return** is for situations where a product is faulty or defective and needs to be replaced. while a non-responsive printer could be a sign of a faulty product, it's more likely a technical issue that can be resolved through troubleshooting.\n",
            "---Node 2 State --- {'query': 'The printer is not responding. Can you help?', 'response': 'the query \"the printer is not responding. can you help?\" should be routed to **technical support**. \\n\\nhere\\'s why:\\n\\n* **technical support** deals with issues related to the functionality and operation of products. a non-responsive printer indicates a technical problem.\\n* **product return** is for situations where a product is faulty or defective and needs to be replaced. while a non-responsive printer could be a sign of a faulty product, it\\'s more likely a technical issue that can be resolved through troubleshooting.'}\n"
          ]
        },
        {
          "output_type": "execute_result",
          "data": {
            "text/plain": [
              "<IPython.core.display.Markdown object>"
            ],
            "text/markdown": "> Hi there! I'm your friendly product return guide, here to help you troubleshoot any issues you might be having. \n> \n> \"The printer is not responding\" -  That can be frustrating!  Let's see if we can fix it. Could you tell me a little more about what's happening? \n> \n> * **What kind of printer is it?** (Brand and model number would be helpful) \n> * **What are you trying to print?** (A document, a photo, etc.)\n> * **Have you tried restarting the printer?** \n> * **Are you connected to the printer wirelessly or through a USB cable?** \n> * **Have you checked the power cable to make sure it's securely plugged in?**\n> \n> Once I have a bit more information, I can give you some specific troubleshooting steps. \n"
          },
          "metadata": {},
          "execution_count": 36
        }
      ]
    },
    {
      "cell_type": "markdown",
      "source": [
        "## Tool Message"
      ],
      "metadata": {
        "id": "yk0QT9Bd29lh"
      }
    },
    {
      "cell_type": "code",
      "source": [
        "messages = [AIMessage(content=f\"So you said you were researching ocean mammals?\", name=\"Model\")]\n",
        "messages.append(HumanMessage(content=f\"Yes, that's right.\",name=\"Lance\"))\n",
        "messages.append(AIMessage(content=f\"Great, what would you like to learn about.\", name=\"Model\"))\n",
        "messages.append(HumanMessage(content=f\"I want to learn about the best place to see Orcas in the US.\", name=\"Lance\"))\n",
        "\n",
        "for m in messages:\n",
        "    m.pretty_print()"
      ],
      "metadata": {
        "colab": {
          "base_uri": "https://localhost:8080/"
        },
        "id": "tDqAvYRBzNsc",
        "outputId": "dd80eda9-47fd-44f0-f4b2-f89d5fcab1a8"
      },
      "execution_count": null,
      "outputs": [
        {
          "output_type": "stream",
          "name": "stdout",
          "text": [
            "==================================\u001b[1m Ai Message \u001b[0m==================================\n",
            "Name: Model\n",
            "\n",
            "So you said you were researching ocean mammals?\n",
            "================================\u001b[1m Human Message \u001b[0m=================================\n",
            "Name: Lance\n",
            "\n",
            "Yes, that's right.\n",
            "==================================\u001b[1m Ai Message \u001b[0m==================================\n",
            "Name: Model\n",
            "\n",
            "Great, what would you like to learn about.\n",
            "================================\u001b[1m Human Message \u001b[0m=================================\n",
            "Name: Lance\n",
            "\n",
            "I want to learn about the best place to see Orcas in the US.\n"
          ]
        }
      ]
    },
    {
      "cell_type": "markdown",
      "source": [
        "Tools are useful whenever you want a model to interact with external systems. External systems (APIs etc) requires a particular input schema or payload rather than natural language"
      ],
      "metadata": {
        "id": "C9BR8Agr7KUW"
      }
    },
    {
      "cell_type": "code",
      "source": [
        "def _set_env(var: str):\n",
        "    if not os.environ.get(var):\n",
        "        os.environ[var] = getpass.getpass(f\"{var}: \")\n",
        "_set_env(\"TAVILY_API_KEY\")"
      ],
      "metadata": {
        "colab": {
          "base_uri": "https://localhost:8080/"
        },
        "id": "P7uDWCBx6CWX",
        "outputId": "867a83e9-2ac5-402d-8599-92d22f3f440b"
      },
      "execution_count": null,
      "outputs": [
        {
          "name": "stdout",
          "output_type": "stream",
          "text": [
            "TAVILY_API_KEY: ··········\n"
          ]
        }
      ]
    },
    {
      "cell_type": "code",
      "source": [
        "tool = TavilySearchResults(max_results=2)\n",
        "tools = [tool]"
      ],
      "metadata": {
        "id": "AK2Kh9K18Fin"
      },
      "execution_count": null,
      "outputs": []
    },
    {
      "cell_type": "code",
      "source": [
        "# checking current temperature using llm without tooks\n",
        "result = llm.invoke(\"What is current temperature in London?\")\n",
        "print(f\"Response without tools: {result.content}\")\n",
        "\n",
        "# checking temperature using llm with tools\n",
        "result = tool.invoke(\"What is temperature in London?\", llm=llm)\n",
        "for r in result:\n",
        "    print(f\"Response with tools: {r['content']}\")"
      ],
      "metadata": {
        "colab": {
          "base_uri": "https://localhost:8080/"
        },
        "id": "3XVBSQO38T7U",
        "outputId": "d559f70a-c5d3-42f5-b85a-4208b5318439"
      },
      "execution_count": null,
      "outputs": [
        {
          "output_type": "stream",
          "name": "stdout",
          "text": [
            "Response without tools: I do not have access to real-time information, including weather data. To get the current temperature in London, I recommend checking a reliable weather website or app. \n",
            "\n",
            "Response with tools: That's Not What Was Expected\n",
            "Outside\n",
            "Avalanche Hits Highway\n",
            "2023 Was Out Of This World\n",
            "'Heart Attack Snow'\n",
            "Start 2024 With Less Stress\n",
            "Stay Safe\n",
            "Air Quality Index\n",
            "Air quality is considered satisfactory, and air pollution poses little or no risk.\n",
            " recents\n",
            "Specialty Forecasts\n",
            "10 Day Weather-London, England, United Kingdom\n",
            "Tonight\n",
            "Mon 15 | Night\n",
            "Partly cloudy early followed by cloudy skies overnight. Don't Miss\n",
            "Radar\n",
            "Begin With Breathing\n",
            "House Warming Hacks\n",
            " High 52F. Winds SW at 10 to 15 mph.\n",
            " High 52F. Winds SW at 10 to 15 mph.\n",
            "\n",
            "Response with tools: Sun & Moon. Weather Today Weather Hourly 14 Day Forecast Yesterday/Past Weather Climate (Averages) Currently: 57 °F. Passing clouds. (Weather station: Northolt, United Kingdom). See more current weather.\n"
          ]
        }
      ]
    },
    {
      "cell_type": "markdown",
      "source": [
        "## Agent"
      ],
      "metadata": {
        "id": "ktvMAFKAD-_a"
      }
    },
    {
      "cell_type": "code",
      "source": [
        "def multiply(a: int, b: int) -> int:\n",
        "  \"\"\" Multiply a and b\"\"\"\n",
        "  return a * b\n",
        "\n",
        "def add(a: int, b: int) -> int:\n",
        "  \"\"\" Add a and b\"\"\"\n",
        "  return a + b\n",
        "\n",
        "def divide(a: int, b: int)-> int:\n",
        "  \"\"\"Divide a and b\"\"\"\n",
        "  return a / b;\n",
        "\n",
        "tools = [add, multiply, divide]\n",
        "llm = ChatGoogleGenerativeAI(model='gemini-1.5-flash',\n",
        "                             api_key=os.environ.get('GOOGLE_API_KEY')\n",
        "                            )\n",
        "llm_with_tools = llm.bind(tools=tools)"
      ],
      "metadata": {
        "id": "uEJdGxeu9eCp"
      },
      "execution_count": null,
      "outputs": []
    },
    {
      "cell_type": "code",
      "source": [
        "sys_msg = SystemMessage(content=\"You are a helpful assistant tasked with performing arithmetic on a set of inputs\")\n",
        "\n",
        "def assistant(state: MessagesState) -> MessagesState:\n",
        "  return {\"messages\": [llm_with_tools.invoke([sys_msg] + state[\"messages\"])]}"
      ],
      "metadata": {
        "id": "3HezeJR3FEdX"
      },
      "execution_count": null,
      "outputs": []
    },
    {
      "cell_type": "code",
      "source": [
        "builder: StateGraph = StateGraph(state_schema=MessagesState)\n",
        "\n",
        "builder.add_node(\"assistant\", assistant)\n",
        "builder.add_node(\"tools\", ToolNode(tools))\n",
        "\n",
        "builder.add_edge(START, \"assistant\")\n",
        "builder.add_conditional_edges(\n",
        "    \"assistant\",\n",
        "    tools_condition\n",
        ")\n",
        "builder.add_edge(\"tools\", \"assistant\")\n",
        "\n",
        "react_graph: CompiledStateGraph = builder.compile()\n",
        "display(Image(react_graph.get_graph(xray=True).draw_mermaid_png()))"
      ],
      "metadata": {
        "colab": {
          "base_uri": "https://localhost:8080/",
          "height": 266
        },
        "id": "Fu6e2d3nFdS3",
        "outputId": "0e81b9d5-2307-47e1-93bf-cca993046691"
      },
      "execution_count": null,
      "outputs": [
        {
          "output_type": "display_data",
          "data": {
            "image/jpeg": "[encoded data removed]",
            "text/plain": [
              "<IPython.core.display.Image object>"
            ]
          },
          "metadata": {}
        }
      ]
    },
    {
      "cell_type": "code",
      "source": [
        "# dataclass offer a concise syntax for creating classes that are primarily used to store data\n",
        "# however, it doesn't enfore types at runtime\n",
        "@dataclass\n",
        "class DataclassState:\n",
        "  name: str\n",
        "  mood: Literal[\"happy\", \"sad\"]\n",
        "\n",
        "def node_1(state: DataclassState) -> DataclassState:\n",
        "    print(\"---Node 1 State---\", state)\n",
        "    return {\"name\": state.name + \" is ...\"}\n",
        "\n",
        "def node_2(state: DataclassState) -> DataclassState:\n",
        "  print(\"---Node 2 State---\", state)\n",
        "  return {\"name\": state.name + \" happy!\"}\n",
        "\n",
        "def node_3(state: DataclassState) -> DataclassState:\n",
        "  print(\"---Node 3 State---\", state)\n",
        "  return {\"name\": state.name + \" sad\"}\n",
        "\n",
        "def decide_mood(state: DataclassState) -> Literal[\"node_2\", \"node_3\"]:\n",
        "\n",
        "    if random.random() < 0.5:\n",
        "\n",
        "        return \"node_2\"\n",
        "\n",
        "    return \"node_3\"\n",
        "\n",
        "builder: StateGraph = StateGraph(DataclassState)\n",
        "\n",
        "builder.add_node(\"node_1\", node_1)\n",
        "builder.add_node(\"node_2\", node_2)\n",
        "builder.add_node(\"node_3\", node_3)\n",
        "\n",
        "builder.add_edge(START, \"node_1\")\n",
        "builder.add_conditional_edges(\"node_1\", decide_mood)\n",
        "builder.add_edge(\"node_2\", END)\n",
        "builder.add_edge(\"node_3\", END)\n",
        "\n",
        "graph: CompiledStateGraph = builder.compile()\n",
        "\n",
        "display(Image(graph.get_graph().draw_mermaid_png()))"
      ],
      "metadata": {
        "colab": {
          "base_uri": "https://localhost:8080/",
          "height": 350
        },
        "id": "TXESBwdhGlA5",
        "outputId": "9466ee15-848d-4082-fde8-28c5da6d4eba"
      },
      "execution_count": null,
      "outputs": [
        {
          "output_type": "display_data",
          "data": {
            "image/jpeg": "[encoded data removed]",
            "text/plain": [
              "<IPython.core.display.Image object>"
            ]
          },
          "metadata": {}
        }
      ]
    },
    {
      "cell_type": "code",
      "source": [
        "class PydanticState(BaseModel):\n",
        "    name: str\n",
        "    mood: Literal[\"happy\", \"sad\"]\n",
        "\n",
        "    @field_validator(\"name\")\n",
        "    @classmethod\n",
        "    def name_must_contain_space(cls, value):\n",
        "        if value not in [\"happy\", \"sad\"]:\n",
        "            raise ValueError(\"Each mood must be either 'happy' or 'sad'\")\n",
        "        return value\n",
        "\n",
        "try:\n",
        "  state = PydanticState(name=\"happy\", mood=\"mad\")\n",
        "except ValidationError as e:\n",
        "  print(f\"Validation error: {e}\")"
      ],
      "metadata": {
        "colab": {
          "base_uri": "https://localhost:8080/"
        },
        "id": "Dmr77D9ILOiV",
        "outputId": "c2f3dadb-ba10-4588-9dc5-8412b3c8e708"
      },
      "execution_count": null,
      "outputs": [
        {
          "output_type": "stream",
          "name": "stdout",
          "text": [
            "Validation error: 1 validation error for PydanticState\n",
            "mood\n",
            "  Input should be 'happy' or 'sad' [type=literal_error, input_value='mad', input_type=str]\n",
            "    For further information visit https://errors.pydantic.dev/2.9/v/literal_error\n"
          ]
        }
      ]
    },
    {
      "cell_type": "markdown",
      "source": [
        "### Pydnatic React Agent"
      ],
      "metadata": {
        "id": "Iu3QFgjeL6kL"
      }
    },
    {
      "cell_type": "code",
      "source": [
        "@tool\n",
        "def search(query: str) -> str:\n",
        "  \"\"\"CAll to surf the web\"\"\"\n",
        "  return \"The answer to your question lies within\"\n",
        "\n",
        "tools = [search] #list of tools intended to be use by agent\n",
        "tool_node: ToolNode = ToolNode(tools) #ToolNode is a class that acts as a container\n",
        "                              # or wrapper for tools, managing how and when they're\n",
        "                              # called within the workflow. By using ToolNode, you\n",
        "                              # can define a set of tools that can be used within\n",
        "                              # a workflow graph\n",
        "\n",
        "class AgentState(BaseModel):\n",
        "  messages: Annotated[Sequence[BaseMessage], operator.add] #Annoted is used to provide\n",
        "          #more information about the messages field. This line of code means that\n",
        "          # nessage is a sequence of base message object. The operator.add acts as\n",
        "          # a metadata for the ANnotated type and indicates that the messages field\n",
        "          # should behave like a list where you can append new BaseMessage objects\n",
        "\n",
        "def should_continue(state: AgentState) -> Literal[\"end\", \"continue\"]:\n",
        "    messages = state.messages # get the messages\n",
        "    last_message = messages[-1] # get the last message\n",
        "    if not last_message.tool_calls: # returns end if the last message triggered any tool call or else continue\n",
        "        return \"end\"\n",
        "    else:\n",
        "        return \"continue\"\n",
        "\n",
        "# a function that takes agent messages in the agent state and pass it to the llm for processing and return response\n",
        "def call_model(state: AgentState):\n",
        "    llm_with_tools = gemini.bind_tools(tools=tools)\n",
        "    messages = state.messages\n",
        "    response = llm_with_tools.invoke(messages)\n",
        "    return {\"messages\": [response]}\n",
        "\n",
        "\n",
        "workflow: StateGraph = StateGraph(AgentState)\n",
        "workflow.add_node(\"agent\", call_model)\n",
        "workflow.add_node(\"action\", tool_node)\n",
        "\n",
        "workflow.add_edge(START, \"agent\")\n",
        "workflow.add_conditional_edges(\n",
        "                                  \"agent\",\n",
        "                                  should_continue,\n",
        "                                  {\n",
        "                                      \"continue\": \"action\",\n",
        "                                      \"end\": END,\n",
        "                                  },\n",
        "                              )\n",
        "workflow.add_edge(\"action\", \"agent\")\n",
        "\n",
        "\n",
        "app: CompiledStateGraph = workflow.compile()\n",
        "\n",
        "display(Image(app.get_graph().draw_mermaid_png()))"
      ],
      "metadata": {
        "colab": {
          "base_uri": "https://localhost:8080/",
          "height": 290
        },
        "id": "g2_Fm0S8KsNj",
        "outputId": "4d9ca9af-9aa0-44f5-815d-9d7fd2c78061"
      },
      "execution_count": null,
      "outputs": [
        {
          "output_type": "display_data",
          "data": {
            "image/jpeg": "[encoded data removed]",
            "text/plain": [
              "<IPython.core.display.Image object>"
            ]
          },
          "metadata": {}
        }
      ]
    },
    {
      "cell_type": "code",
      "source": [
        "inputs = {\"messages\": [HumanMessage(content=\"what is the weather in sf\")]}\n",
        "for chunk in app.stream(inputs, stream_mode=\"values\"):\n",
        "    chunk[\"messages\"][-1].pretty_print()\n"
      ],
      "metadata": {
        "colab": {
          "base_uri": "https://localhost:8080/"
        },
        "id": "tX60-b-u-8Ko",
        "outputId": "03f49acf-aded-41e0-b486-f524ef17ff2e"
      },
      "execution_count": null,
      "outputs": [
        {
          "output_type": "stream",
          "name": "stdout",
          "text": [
            "================================\u001b[1m Human Message \u001b[0m=================================\n",
            "\n",
            "what is the weather in sf\n",
            "==================================\u001b[1m Ai Message \u001b[0m==================================\n",
            "Tool Calls:\n",
            "  search (86155251-c23e-40b6-a074-950f9512b00c)\n",
            " Call ID: 86155251-c23e-40b6-a074-950f9512b00c\n",
            "  Args:\n",
            "    query: weather in sf\n",
            "=================================\u001b[1m Tool Message \u001b[0m=================================\n",
            "Name: search\n",
            "\n",
            "The answer to your question lies within\n",
            "==================================\u001b[1m Ai Message \u001b[0m==================================\n",
            "\n",
            "I am sorry, I cannot fulfill this request. The available tools lack the desired functionality.\n"
          ]
        }
      ]
    },
    {
      "cell_type": "code",
      "source": [],
      "metadata": {
        "id": "VjjA4FBq_ngG"
      },
      "execution_count": null,
      "outputs": []
    }
  ]
}