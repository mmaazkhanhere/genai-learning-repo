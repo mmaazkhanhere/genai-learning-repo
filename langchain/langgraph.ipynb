{
  "nbformat": 4,
  "nbformat_minor": 0,
  "metadata": {
    "colab": {
      "provenance": []
    },
    "kernelspec": {
      "name": "python3",
      "display_name": "Python 3"
    },
    "language_info": {
      "name": "python"
    }
  },
  "cells": [
    {
      "cell_type": "code",
      "source": [
        "!pip install  --quiet langgraph\n",
        "!pip install  --quiet langchain-google-genai\n",
        "!pip install --quiet langchain\n",
        "!pip install --quiet tavily-python langchain_community"
      ],
      "metadata": {
        "colab": {
          "base_uri": "https://localhost:8080/"
        },
        "id": "WSdl2jaT35mN",
        "outputId": "85a18aff-a6d3-4787-ad11-3a0771ed1e47"
      },
      "execution_count": 2,
      "outputs": [
        {
          "output_type": "stream",
          "name": "stdout",
          "text": [
            "\u001b[?25l   \u001b[90m━━━━━━━━━━━━━━━━━━━━━━━━━━━━━━━━━━━━━━━━\u001b[0m \u001b[32m0.0/118.0 kB\u001b[0m \u001b[31m?\u001b[0m eta \u001b[36m-:--:--\u001b[0m\r\u001b[2K   \u001b[90m━━━━━━━━━━━━━━━━━━━━━━━━━━━━━━━━━━━━━━━━\u001b[0m \u001b[32m118.0/118.0 kB\u001b[0m \u001b[31m3.7 MB/s\u001b[0m eta \u001b[36m0:00:00\u001b[0m\n",
            "\u001b[2K   \u001b[90m━━━━━━━━━━━━━━━━━━━━━━━━━━━━━━━━━━━━━━━━\u001b[0m \u001b[32m408.7/408.7 kB\u001b[0m \u001b[31m12.6 MB/s\u001b[0m eta \u001b[36m0:00:00\u001b[0m\n",
            "\u001b[2K   \u001b[90m━━━━━━━━━━━━━━━━━━━━━━━━━━━━━━━━━━━━━━━━\u001b[0m \u001b[32m41.8/41.8 kB\u001b[0m \u001b[31m1.6 MB/s\u001b[0m eta \u001b[36m0:00:00\u001b[0m\n",
            "\u001b[2K   \u001b[90m━━━━━━━━━━━━━━━━━━━━━━━━━━━━━━━━━━━━━━━━\u001b[0m \u001b[32m2.4/2.4 MB\u001b[0m \u001b[31m28.3 MB/s\u001b[0m eta \u001b[36m0:00:00\u001b[0m\n",
            "\u001b[2K   \u001b[90m━━━━━━━━━━━━━━━━━━━━━━━━━━━━━━━━━━━━━━━━\u001b[0m \u001b[32m1.0/1.0 MB\u001b[0m \u001b[31m43.9 MB/s\u001b[0m eta \u001b[36m0:00:00\u001b[0m\n",
            "\u001b[2K   \u001b[90m━━━━━━━━━━━━━━━━━━━━━━━━━━━━━━━━━━━━━━━━\u001b[0m \u001b[32m1.2/1.2 MB\u001b[0m \u001b[31m47.9 MB/s\u001b[0m eta \u001b[36m0:00:00\u001b[0m\n",
            "\u001b[2K   \u001b[90m━━━━━━━━━━━━━━━━━━━━━━━━━━━━━━━━━━━━━━━━\u001b[0m \u001b[32m49.5/49.5 kB\u001b[0m \u001b[31m2.7 MB/s\u001b[0m eta \u001b[36m0:00:00\u001b[0m\n",
            "\u001b[?25h"
          ]
        }
      ]
    },
    {
      "cell_type": "code",
      "source": [
        "from typing import Annotated, Literal\n",
        "import textwrap\n",
        "import json\n",
        "\n",
        "from typing_extensions import TypedDict\n",
        "\n",
        "from langchain_google_genai import ChatGoogleGenerativeAI\n",
        "from langchain_core.messages import AIMessage, HumanMessage, ToolMessage\n",
        "from langchain_community.tools.tavily_search import TavilySearchResults\n",
        "\n",
        "from langgraph.graph import StateGraph, START, END\n",
        "from langgraph.graph.state import CompiledStateGraph\n",
        "from langgraph.graph.message import add_messages\n",
        "\n",
        "from IPython.display import Image, display, Markdown\n",
        "\n",
        "from google.colab import userdata\n",
        "import getpass\n",
        "import os"
      ],
      "metadata": {
        "id": "eZ_59ENG3-SO"
      },
      "execution_count": 4,
      "outputs": []
    },
    {
      "cell_type": "markdown",
      "source": [
        "# Basics"
      ],
      "metadata": {
        "id": "L7183YiWwyb-"
      }
    },
    {
      "cell_type": "code",
      "source": [
        "# getting api key for gemini\n",
        "google_api_key = userdata.get('GOOGLE_API_KEY')\n",
        "\n",
        "#initiating a gemini model\n",
        "gemini: ChatGoogleGenerativeAI = ChatGoogleGenerativeAI(model=\"gemini-1.5-flash\",\n",
        "                                                        api_key=google_api_key)\n",
        "\n",
        "# prompt message that has role of human message (a message from human)\n",
        "prompt: HumanMessage = HumanMessage(content='Hello! What is your name?', name='Gemini')\n",
        "\n",
        "messages = [prompt]\n",
        "\n",
        "#checking gemini response\n",
        "gemini.invoke(messages).content"
      ],
      "metadata": {
        "colab": {
          "base_uri": "https://localhost:8080/",
          "height": 53
        },
        "id": "FIh6uWpcwzFk",
        "outputId": "79210ee0-a164-4399-c7a2-3741d6df0d0b"
      },
      "execution_count": 5,
      "outputs": [
        {
          "output_type": "execute_result",
          "data": {
            "text/plain": [
              "\"I don't have a name. I am a large language model, and I am not a person. I am a computer program designed to process and generate text. 😊 \\n\""
            ],
            "application/vnd.google.colaboratory.intrinsic+json": {
              "type": "string"
            }
          },
          "metadata": {},
          "execution_count": 5
        }
      ]
    },
    {
      "cell_type": "markdown",
      "source": [
        "We can also integrate tools with LangGraph agents and Langchain applications. Here, we will use Tavily Search"
      ],
      "metadata": {
        "id": "GW2ZC2wKyRIG"
      }
    },
    {
      "cell_type": "code",
      "source": [
        "# tavily_api_key = userdata.get('TAVILY_API_KEY')\n",
        "\n",
        "# # initializing a tavily search instance. We will get top 3 results in response\n",
        "# tavily_search: TavilySearchResults = TavilySearchResults(max_results=3)\n",
        "\n",
        "# # invoking the tavily search instance\n",
        "# tavily_search.invoke('What is temperature in Peshawar?')"
      ],
      "metadata": {
        "id": "0_4P4Zz2xv21"
      },
      "execution_count": 6,
      "outputs": []
    },
    {
      "cell_type": "markdown",
      "source": [
        "# Hello LangGraph"
      ],
      "metadata": {
        "id": "nCyrm0o8zqk0"
      }
    },
    {
      "cell_type": "markdown",
      "source": [
        "LangGraph is a library for building stateful, multy-actor applications with LLM's, used to create agent and multi-agent workflows"
      ],
      "metadata": {
        "id": "aOfKVYuRzs3l"
      }
    },
    {
      "cell_type": "markdown",
      "source": [
        "Key features include\n",
        "\n",
        "\n",
        "*   Implement loops and condition on your agent workflow\n",
        "*   Automatically save state after each step in the graph. Pause and resume graph execution at any point\n",
        "*   Interupt graph execution to get approval of human, or allow human to edit next action planned by agent\n",
        "*   Stream output\n",
        "\n"
      ],
      "metadata": {
        "id": "Tw0BiviUz222"
      }
    },
    {
      "cell_type": "markdown",
      "source": [
        "Key components include\n",
        "*  **State** (input schema for all nodes and edges in the graph)\n",
        "*  **Nodes** (python functions that encodes logic of agents. Recieves current State as input, perform some computation and return an updated State)\n",
        "* **Edges** (python function that determine which Node to be executed based on the current State)\n",
        "  * *Normal Edge* (Go directly from one node to the next)\n",
        "  * *Conditional Edge* (Calls a function to determine which nodes to go to next)\n",
        "\n",
        "\n"
      ],
      "metadata": {
        "id": "EphCIxux0Tzs"
      }
    },
    {
      "cell_type": "markdown",
      "source": [
        "Below is an example of simple LangGraph agent that reflects the basic steps required to create an agent and define a workflow for the agent"
      ],
      "metadata": {
        "id": "1rfZi6C9I97o"
      }
    },
    {
      "cell_type": "code",
      "source": [
        "#Defining state\n",
        "class LearningState(TypedDict):\n",
        "    prompt: str"
      ],
      "metadata": {
        "id": "AsROymSyLqWO"
      },
      "execution_count": 11,
      "outputs": []
    },
    {
      "cell_type": "code",
      "source": [
        "\n",
        "def node_1(state: LearningState) -> LearningState:\n",
        "    print(\"---Node 1 State---\", state)\n",
        "    return {\"prompt\": state['prompt'] +\" I am\"}\n",
        "\n",
        "def node_2(state: LearningState) -> LearningState:\n",
        "    print(\"---Node 2 State---\", state)\n",
        "    return {\"prompt\": state['prompt'] +\" happy!\"}"
      ],
      "metadata": {
        "id": "rL3hID8KLkdh"
      },
      "execution_count": 12,
      "outputs": []
    },
    {
      "cell_type": "code",
      "source": [
        "#initializing graph instance\n",
        "builder: StateGraph = StateGraph(state_schema=LearningState)\n",
        "\n",
        "#adding nodes to the graph\n",
        "builder.add_node(\"node_1\", node_1)\n",
        "builder.add_node(\"node_2\", node_2)\n",
        "\n",
        "#adding edges to the graph\n",
        "builder.add_edge(START, \"node_1\")\n",
        "builder.add_edge(\"node_1\", \"node_2\")\n",
        "builder.add_edge(\"node_2\", END)\n",
        "\n",
        "#compulting the graph\n",
        "graph: CompiledStateGraph = builder.compile()\n",
        "\n",
        "#displaying the agent graph\n",
        "display(Image(graph.get_graph().draw_mermaid_png()))"
      ],
      "metadata": {
        "colab": {
          "base_uri": "https://localhost:8080/",
          "height": 350
        },
        "id": "Wiyes8AdJIX_",
        "outputId": "9e48e190-c2f7-4424-e797-2ed0924fa29b"
      },
      "execution_count": 13,
      "outputs": [
        {
          "output_type": "display_data",
          "data": {
            "image/jpeg": "[encoded data removed]",
            "text/plain": [
              "<IPython.core.display.Image object>"
            ]
          },
          "metadata": {}
        }
      ]
    },
    {
      "cell_type": "code",
      "source": [
        "graph.invoke({\"prompt\" : \"Hi\"})"
      ],
      "metadata": {
        "colab": {
          "base_uri": "https://localhost:8080/"
        },
        "id": "yUtfabuvMT1t",
        "outputId": "ec7c23e1-f7c2-44c4-f8b2-ff5ba5e7b884"
      },
      "execution_count": 14,
      "outputs": [
        {
          "output_type": "stream",
          "name": "stdout",
          "text": [
            "---Node 1 State--- {'prompt': 'Hi'}\n",
            "---Node 2 State--- {'prompt': 'Hi I am'}\n"
          ]
        },
        {
          "output_type": "execute_result",
          "data": {
            "text/plain": [
              "{'prompt': 'Hi I am happy!'}"
            ]
          },
          "metadata": {},
          "execution_count": 14
        }
      ]
    },
    {
      "cell_type": "markdown",
      "source": [
        "The above code showcase how the state flows through the agent and how it changes. Now, we will integrate LLM with the agent and see how it fares"
      ],
      "metadata": {
        "id": "C7UOXydugJIz"
      }
    },
    {
      "cell_type": "code",
      "source": [
        "google_api_key = userdata.get('GOOGLE_API_KEY')\n",
        "\n",
        "llm: ChatGoogleGenerativeAI = ChatGoogleGenerativeAI(model=\"gemini-1.5-flash\",\n",
        "                                                    api_key=google_api_key)\n",
        "\n",
        "class State(TypedDict):\n",
        "    prompt: str\n",
        "    response: str\n",
        "\n",
        "# creating node\n",
        "def node_1(state: State):\n",
        "    print(\"---Node 1 State---\", state)\n",
        "    prompt = state[\"prompt\"]\n",
        "    print(f\"Prompt: {prompt}\")\n",
        "\n",
        "    ai_msg: AIMessage = llm.invoke(prompt)\n",
        "    return {\"prompt\": prompt, \"response\": ai_msg.content}\n",
        "\n",
        "# building graph\n",
        "builder: StateGraph = StateGraph(state_schema=State)\n",
        "\n",
        "# defining nodes of the graph\n",
        "builder.add_node(\"node_1\", node_1)\n",
        "\n",
        "# adding edges to the graph\n",
        "builder.add_edge(START, \"node_1\")\n",
        "builder.add_edge(\"node_1\", END)\n",
        "\n",
        "# compiling graph\n",
        "graph: CompiledStateGraph = builder.compile()\n"
      ],
      "metadata": {
        "id": "akIdSXRfMv5N"
      },
      "execution_count": 26,
      "outputs": []
    },
    {
      "cell_type": "code",
      "source": [
        "# Viewing graph\n",
        "display(Image(graph.get_graph().draw_mermaid_png()))"
      ],
      "metadata": {
        "colab": {
          "base_uri": "https://localhost:8080/",
          "height": 251
        },
        "id": "bVDbQZU2iiAh",
        "outputId": "d7f0a299-069f-426b-c5e4-81861767e48c"
      },
      "execution_count": 27,
      "outputs": [
        {
          "output_type": "display_data",
          "data": {
            "image/jpeg": "[encoded data removed]",
            "text/plain": [
              "<IPython.core.display.Image object>"
            ]
          },
          "metadata": {}
        }
      ]
    },
    {
      "cell_type": "code",
      "source": [
        "result = graph.invoke({\"prompt\" : \"Motivate me to learn LangGraph\"})"
      ],
      "metadata": {
        "colab": {
          "base_uri": "https://localhost:8080/"
        },
        "id": "ezH_ZtPdg_GU",
        "outputId": "dc5c2f6c-e7f5-457e-d98a-428780062614"
      },
      "execution_count": 28,
      "outputs": [
        {
          "output_type": "stream",
          "name": "stdout",
          "text": [
            "---Node 1 State--- {'prompt': 'Motivate me to learn LangGraph'}\n",
            "Prompt: Motivate me to learn LangGraph\n"
          ]
        }
      ]
    },
    {
      "cell_type": "code",
      "source": [
        "def to_markdown(text)-> Markdown:\n",
        "    text : str = text.replace(\"•\", \"  *\")\n",
        "    return Markdown(textwrap.indent(text, \"> \", predicate=lambda _: True))\n",
        "\n",
        "to_markdown(result['response'])"
      ],
      "metadata": {
        "colab": {
          "base_uri": "https://localhost:8080/",
          "height": 858
        },
        "id": "7N8XQSubhCVD",
        "outputId": "146f8652-e125-4c77-c593-9ff1756b23db"
      },
      "execution_count": 33,
      "outputs": [
        {
          "output_type": "execute_result",
          "data": {
            "text/plain": [
              "<IPython.core.display.Markdown object>"
            ],
            "text/markdown": "> ## Why Learn LangGraph? 🚀\n> \n> LangGraph is a powerful tool that can revolutionize how you work with language data. Here's why you should consider diving in:\n> \n> **1. Unlocking the Power of Knowledge Graphs:**\n> \n> * **Semantic Understanding:** LangGraph goes beyond simple text analysis, building knowledge graphs that capture the relationships and meanings within your data. This allows for deeper insights and more accurate understanding.\n> * **Data Exploration:**  LangGraph provides a visual representation of your knowledge graph, making it easy to navigate, explore connections, and discover hidden patterns.\n> * **Enhanced Search and Retrieval:**  Find information faster and more precisely with semantic search capabilities powered by the knowledge graph. \n> \n> **2. Empowering Your Applications:**\n> \n> * **Intelligent Chatbots:** Build more sophisticated chatbots that can understand context, provide accurate answers, and engage in natural conversations.\n> * **Personalized Recommendations:**  Deliver tailored recommendations based on user preferences and interactions, thanks to the detailed knowledge graph.\n> * **Enhanced Content Creation:**  Generate high-quality content, analyze sentiment, and identify key themes using LangGraph's powerful features.\n> \n> **3. A Future-Proof Skill:**\n> \n> * **Growing Demand:**  The field of knowledge graphs is rapidly expanding, creating increasing demand for skilled professionals.\n> * **Versatility:**  LangGraph is applicable across various domains, from healthcare and finance to marketing and research.\n> * **Innovation:**  Be at the forefront of innovation by leveraging the power of knowledge graphs for cutting-edge applications.\n> \n> **4. Easy to Learn and Use:**\n> \n> * **User-Friendly Interface:**  LangGraph offers an intuitive interface that simplifies the process of building and managing knowledge graphs.\n> * **Extensive Documentation:**  Comprehensive documentation and tutorials make it easy to get started and learn the ropes.\n> * **Active Community:**  Join a supportive community of LangGraph users and developers for help and inspiration.\n> \n> **5. Unlock Your Potential:**\n> \n> * **Expand Your Skillset:**  Learning LangGraph will enhance your data analysis and language processing skills, making you a more valuable asset in any organization.\n> * **Gain a Competitive Edge:**  Differentiate yourself from the competition by mastering this powerful and in-demand technology.\n> * **Fuel Your Creativity:**  Unlock new possibilities and drive innovation by leveraging the unique capabilities of LangGraph.\n> \n> **Don't just process language, understand it. Learn LangGraph and unlock the full potential of your data!** \n"
          },
          "metadata": {},
          "execution_count": 33
        }
      ]
    },
    {
      "cell_type": "markdown",
      "source": [
        "Let's try something else"
      ],
      "metadata": {
        "id": "r-XRfOgcjj-C"
      }
    },
    {
      "cell_type": "code",
      "source": [
        "class State(TypedDict):\n",
        "    text: str\n",
        "    response: str\n",
        "\n",
        "def tone_analyzer(state: State):\n",
        "    print(\"---Node 1 State---\", state)\n",
        "    prompt = state[\"text\"]\n",
        "    system_message = f\"Analyze the tone of this customer feedback: '{prompt}' and respond with whether it’s positive, neutral, or negative.\"\n",
        "\n",
        "    ai_msg: AIMessage = llm.invoke(system_message)\n",
        "    print(f\"Respose of tone analyzer node: {ai_msg.content}\")\n",
        "\n",
        "    return {\"text\": prompt, \"response\": ai_msg.content}\n",
        "\n",
        "def summarize_feedback(state):\n",
        "    print(\"---Node 2 State---\", state)\n",
        "    prompt = state[\"text\"]\n",
        "    print(f\"Prompt: {prompt}\")\n",
        "    system_message = f\"Provide a concise summary of the main points in this customer feedback: '{prompt}'\"\n",
        "\n",
        "    ai_msg: AIMessage = llm.invoke(system_message)\n",
        "    print(f\"Respose of summarizer node: {ai_msg.content}\")\n",
        "\n",
        "    return {\"text\": prompt, \"response\": ai_msg.content}\n",
        "\n",
        "# Building graph for the customer feedback analysis\n",
        "\n",
        "builder: StateGraph = StateGraph(state_schema=State)\n",
        "\n",
        "builder.add_node(\"tone_analyzer\", tone_analyzer)\n",
        "builder.add_node(\"summarize_feedback\", summarize_feedback)\n",
        "\n",
        "# Define the flow\n",
        "builder.add_edge(START, \"tone_analyzer\")\n",
        "builder.add_edge(\"tone_analyzer\", \"summarize_feedback\")\n",
        "builder.add_edge(\"summarize_feedback\", END)\n",
        "\n",
        "# Compile and visualize the graph\n",
        "graph: CompiledStateGraph = builder.compile()\n",
        "display(Image(graph.get_graph().draw_mermaid_png()))\n",
        "\n",
        "# Test the graph with an example feedback\n",
        "result = graph.invoke({\"text\": \"The support team was very helpful, but I faced a delay in receiving my product. It arrived with minor damage.\"})\n",
        "\n",
        "to_markdown(result['response'])\n"
      ],
      "metadata": {
        "colab": {
          "base_uri": "https://localhost:8080/",
          "height": 676
        },
        "id": "OamDJYnyjABS",
        "outputId": "c2b7b773-2f86-4087-bf29-e1ffc4355efc"
      },
      "execution_count": 54,
      "outputs": [
        {
          "output_type": "display_data",
          "data": {
            "image/jpeg": "[encoded data removed]",
            "text/plain": [
              "<IPython.core.display.Image object>"
            ]
          },
          "metadata": {}
        },
        {
          "output_type": "stream",
          "name": "stdout",
          "text": [
            "---Node 1 State--- {'text': 'The support team was very helpful, but I faced a delay in receiving my product. It arrived with minor damage.'}\n",
            "Respose of tone analyzer node: The tone of the feedback is **mixed**. \n",
            "\n",
            "Here's a breakdown:\n",
            "\n",
            "* **Positive:** \"The support team was very helpful\" indicates a positive experience with customer service.\n",
            "* **Negative:** \"I faced a delay in receiving my product\" and \"It arrived with minor damage\" both express dissatisfaction with the product delivery and condition. \n",
            "\n",
            "**Overall:** While the customer acknowledges the helpfulness of the support team, the negative aspects of the delayed and damaged product outweigh the positive, making the overall sentiment leaning towards negative. \n",
            "\n",
            "---Node 2 State--- {'text': 'The support team was very helpful, but I faced a delay in receiving my product. It arrived with minor damage.', 'response': 'The tone of the feedback is **mixed**. \\n\\nHere\\'s a breakdown:\\n\\n* **Positive:** \"The support team was very helpful\" indicates a positive experience with customer service.\\n* **Negative:** \"I faced a delay in receiving my product\" and \"It arrived with minor damage\" both express dissatisfaction with the product delivery and condition. \\n\\n**Overall:** While the customer acknowledges the helpfulness of the support team, the negative aspects of the delayed and damaged product outweigh the positive, making the overall sentiment leaning towards negative. \\n'}\n",
            "Prompt: The support team was very helpful, but I faced a delay in receiving my product. It arrived with minor damage.\n",
            "Respose of summarizer node: The customer received helpful support but experienced a delayed delivery and minor damage to their product. \n",
            "\n"
          ]
        },
        {
          "output_type": "execute_result",
          "data": {
            "text/plain": [
              "<IPython.core.display.Markdown object>"
            ],
            "text/markdown": "> The customer received helpful support but experienced a delayed delivery and minor damage to their product. \n"
          },
          "metadata": {},
          "execution_count": 54
        }
      ]
    },
    {
      "cell_type": "markdown",
      "source": [
        "Lets try another usecase"
      ],
      "metadata": {
        "id": "m2el6vg0oYgO"
      }
    },
    {
      "cell_type": "code",
      "source": [
        "class State(TypedDict):\n",
        "    email: str\n",
        "    response: str\n",
        "\n",
        "def analyze_customer_email(state: State):\n",
        "    print(\"---Node 1 State---\", state)\n",
        "    email = state[\"email\"]\n",
        "\n",
        "    system_message = f\"Analyze the tone and the urgence of the user email {email}\"\n",
        "    ai_msg: AIMessage = llm.invoke(system_message)\n",
        "    print(f\"Respose of email analyzer node: {ai_msg.content}\")\n",
        "    return {\"email\": email, \"response\": ai_msg.content}\n",
        "\n",
        "def email_response(state: State):\n",
        "  print(\"---Node 2 State ---\", state)\n",
        "  analysis = state['email']\n",
        "\n",
        "  system_message = f\"Based on the tone and urgence of the user email {analysis}, write a response email\"\n",
        "  ai_msg: AIMessage = llm.invoke(system_message)\n",
        "  print(f\"Respose of email response node: {ai_msg.content}\")\n",
        "\n",
        "  return {\"email\": analysis, \"response\": ai_msg.content}\n",
        "\n",
        "builder: StateGraph = StateGraph(state_schema=State)\n",
        "\n",
        "builder.add_node(\"analyze_customer_email\", analyze_customer_email)\n",
        "builder.add_node(\"email_response\", email_response)\n",
        "\n",
        "builder.add_edge(START, \"analyze_customer_email\")\n",
        "builder.add_edge('analyze_customer_email', 'email_response')\n",
        "builder.add_edge('email_response', END)\n",
        "\n",
        "graph: CompiledStateGraph = builder.compile()\n",
        "display(Image(graph.get_graph().draw_mermaid_png()))\n",
        "\n",
        "user_email = \"\"\"Dear Customer Support Team,\n",
        "\n",
        "I hope this message finds you well. I am reaching out regarding my recent order, #[Order12345], placed on October 20th. I was initially informed that it would arrive within 5-7 business days, but it has now been over two weeks with no updates on the delivery status.\n",
        "\n",
        "Additionally, when I attempted to track the package, I found that the tracking link provided was invalid. I understand there may be delays, but I would appreciate it if you could provide an update on the expected arrival date.\n",
        "\n",
        "If possible, please advise if there’s anything further I need to do on my end. I would also appreciate information on any potential compensation or discounts for the delay.\n",
        "\n",
        "Thank you very much for your assistance, and I look forward to hearing back soon.\n",
        "\n",
        "Best regards,\n",
        "Emily Thompson\"\"\"\n",
        "\n",
        "result = graph.invoke({\"email\": user_email})\n",
        "\n",
        "to_markdown(result['response'])\n"
      ],
      "metadata": {
        "colab": {
          "base_uri": "https://localhost:8080/",
          "height": 1000
        },
        "id": "miz4wsdBmAZv",
        "outputId": "5aa4ee0a-7fef-4bfa-eb69-34b9b45e893c"
      },
      "execution_count": 55,
      "outputs": [
        {
          "output_type": "display_data",
          "data": {
            "image/jpeg": "[encoded data removed]",
            "text/plain": [
              "<IPython.core.display.Image object>"
            ]
          },
          "metadata": {}
        },
        {
          "output_type": "stream",
          "name": "stdout",
          "text": [
            "---Node 1 State--- {'email': 'Dear Customer Support Team,\\n\\nI hope this message finds you well. I am reaching out regarding my recent order, #[Order12345], placed on October 20th. I was initially informed that it would arrive within 5-7 business days, but it has now been over two weeks with no updates on the delivery status.\\n\\nAdditionally, when I attempted to track the package, I found that the tracking link provided was invalid. I understand there may be delays, but I would appreciate it if you could provide an update on the expected arrival date.\\n\\nIf possible, please advise if there’s anything further I need to do on my end. I would also appreciate information on any potential compensation or discounts for the delay.\\n\\nThank you very much for your assistance, and I look forward to hearing back soon.\\n\\nBest regards,\\nEmily Thompson'}\n",
            "Respose of email analyzer node: The tone of the email is **polite but firm**. Emily starts by expressing hope that the customer support team is well, but then quickly gets to the point of her issue. She uses phrases like \"I would appreciate it\" and \"I would also appreciate\" to convey her requests respectfully, but the language also clearly indicates her frustration with the lack of information and the delay.\n",
            "\n",
            "The sense of **urgency** is **moderate**. While Emily acknowledges that delays can happen, she clearly states that it has been \"over two weeks\" with no updates, indicating her concern about the lack of communication. She also explicitly asks for an \"expected arrival date\" and \"potential compensation or discounts,\" suggesting that she is not satisfied with the current situation and expects some form of resolution.\n",
            "\n",
            "Overall, the email strikes a balance between being polite and assertive. Emily is clearly unhappy with the situation but expresses her concerns in a professional manner. The moderate urgency suggests that she is willing to wait for a reasonable response but is also prepared to escalate the issue if necessary. \n",
            "\n",
            "---Node 2 State --- {'email': 'Dear Customer Support Team,\\n\\nI hope this message finds you well. I am reaching out regarding my recent order, #[Order12345], placed on October 20th. I was initially informed that it would arrive within 5-7 business days, but it has now been over two weeks with no updates on the delivery status.\\n\\nAdditionally, when I attempted to track the package, I found that the tracking link provided was invalid. I understand there may be delays, but I would appreciate it if you could provide an update on the expected arrival date.\\n\\nIf possible, please advise if there’s anything further I need to do on my end. I would also appreciate information on any potential compensation or discounts for the delay.\\n\\nThank you very much for your assistance, and I look forward to hearing back soon.\\n\\nBest regards,\\nEmily Thompson', 'response': 'The tone of the email is **polite but firm**. Emily starts by expressing hope that the customer support team is well, but then quickly gets to the point of her issue. She uses phrases like \"I would appreciate it\" and \"I would also appreciate\" to convey her requests respectfully, but the language also clearly indicates her frustration with the lack of information and the delay.\\n\\nThe sense of **urgency** is **moderate**. While Emily acknowledges that delays can happen, she clearly states that it has been \"over two weeks\" with no updates, indicating her concern about the lack of communication. She also explicitly asks for an \"expected arrival date\" and \"potential compensation or discounts,\" suggesting that she is not satisfied with the current situation and expects some form of resolution.\\n\\nOverall, the email strikes a balance between being polite and assertive. Emily is clearly unhappy with the situation but expresses her concerns in a professional manner. The moderate urgency suggests that she is willing to wait for a reasonable response but is also prepared to escalate the issue if necessary. \\n'}\n",
            "Respose of email response node: Subject: Re: Order #[Order12345] - Delivery Update\n",
            "\n",
            "Dear Emily,\n",
            "\n",
            "Thank you for reaching out regarding your order #[Order12345]. We apologize for the delay in your delivery and any inconvenience this may have caused.\n",
            "\n",
            "We understand your frustration with the invalid tracking link. We are currently experiencing some technical difficulties with our tracking system, and we are working to resolve this as quickly as possible.  \n",
            "\n",
            "We are investigating the status of your order and will provide you with a confirmed delivery date as soon as possible. We will also ensure the tracking link is updated and functional.\n",
            "\n",
            "We appreciate your patience and understanding. In the meantime, please do not hesitate to contact us if you have any further questions or concerns.\n",
            "\n",
            "Sincerely,\n",
            "\n",
            "The [Company Name] Customer Support Team \n",
            "\n"
          ]
        },
        {
          "output_type": "execute_result",
          "data": {
            "text/plain": [
              "<IPython.core.display.Markdown object>"
            ],
            "text/markdown": "> Subject: Re: Order #[Order12345] - Delivery Update\n> \n> Dear Emily,\n> \n> Thank you for reaching out regarding your order #[Order12345]. We apologize for the delay in your delivery and any inconvenience this may have caused.\n> \n> We understand your frustration with the invalid tracking link. We are currently experiencing some technical difficulties with our tracking system, and we are working to resolve this as quickly as possible.  \n> \n> We are investigating the status of your order and will provide you with a confirmed delivery date as soon as possible. We will also ensure the tracking link is updated and functional.\n> \n> We appreciate your patience and understanding. In the meantime, please do not hesitate to contact us if you have any further questions or concerns.\n> \n> Sincerely,\n> \n> The [Company Name] Customer Support Team \n"
          },
          "metadata": {},
          "execution_count": 55
        }
      ]
    },
    {
      "cell_type": "code",
      "source": [],
      "metadata": {
        "id": "39nsr431szys"
      },
      "execution_count": null,
      "outputs": []
    }
  ]
}